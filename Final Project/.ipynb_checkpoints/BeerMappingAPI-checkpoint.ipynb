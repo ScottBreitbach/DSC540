{
 "cells": [
  {
   "cell_type": "code",
   "execution_count": 1,
   "metadata": {},
   "outputs": [],
   "source": [
    "import pandas as pd\n",
    "import requests\n",
    "import json\n",
    "import os\n",
    "from dotenv import load_dotenv\n",
    "import urllib"
   ]
  },
  {
   "cell_type": "code",
   "execution_count": 2,
   "metadata": {},
   "outputs": [
    {
     "data": {
      "text/plain": [
       "True"
      ]
     },
     "execution_count": 2,
     "metadata": {},
     "output_type": "execute_result"
    }
   ],
   "source": [
    "%load_ext dotenv\n",
    "%dotenv\n",
    "load_dotenv(\"BEERMAPPING_KEY\")"
   ]
  },
  {
   "cell_type": "code",
   "execution_count": 3,
   "metadata": {},
   "outputs": [],
   "source": [
    "apiKey = os.environ.get(\"BEERMAPPING_KEY\")"
   ]
  },
  {
   "cell_type": "code",
   "execution_count": 4,
   "metadata": {},
   "outputs": [],
   "source": [
    "baseURL = \"http://beermapping.com/webservice/\""
   ]
  },
  {
   "cell_type": "markdown",
   "metadata": {},
   "source": [
    "https://beermapping.com/api/reference/"
   ]
  },
  {
   "cell_type": "markdown",
   "metadata": {},
   "source": [
    "Basic URL format: http://beermapping.com/webservice/{SERVICE}/API_KEY/{QUERY}  \n",
    "Append '&s=json' to return JSON instead of XML"
   ]
  },
  {
   "cell_type": "code",
   "execution_count": 5,
   "metadata": {},
   "outputs": [],
   "source": [
    "# # Search by City,State\n",
    "# service = \"loccity\""
   ]
  },
  {
   "cell_type": "code",
   "execution_count": 7,
   "metadata": {},
   "outputs": [
    {
     "name": "stdin",
     "output_type": "stream",
     "text": [
      "Enter 2-letter US State acronym: ne\n"
     ]
    }
   ],
   "source": [
    "# Search by State\n",
    "service = \"locstate\"\n",
    "query = str(input(\"Enter 2-letter US State acronym:\"))"
   ]
  },
  {
   "cell_type": "code",
   "execution_count": 9,
   "metadata": {},
   "outputs": [],
   "source": [
    "requestURL = f\"{baseURL}{service}/{apiKey}/{query}&s=json\""
   ]
  },
  {
   "cell_type": "code",
   "execution_count": 11,
   "metadata": {},
   "outputs": [
    {
     "name": "stdout",
     "output_type": "stream",
     "text": [
      "200\n"
     ]
    }
   ],
   "source": [
    "response = requests.request(\"GET\", requestURL)\n",
    "print(response.status_code)\n",
    "if response.status_code != 200:\n",
    "    raise Exception(response.status_code, response.text)\n",
    "jsonResponse = response.json()"
   ]
  },
  {
   "cell_type": "code",
   "execution_count": 13,
   "metadata": {},
   "outputs": [
    {
     "data": {
      "text/plain": [
       "list"
      ]
     },
     "execution_count": 13,
     "metadata": {},
     "output_type": "execute_result"
    }
   ],
   "source": [
    "type(jsonResponse)"
   ]
  },
  {
   "cell_type": "code",
   "execution_count": 34,
   "metadata": {},
   "outputs": [],
   "source": [
    "# jsonResponse"
   ]
  },
  {
   "cell_type": "code",
   "execution_count": 137,
   "metadata": {},
   "outputs": [
    {
     "data": {
      "text/plain": [
       "1"
      ]
     },
     "execution_count": 137,
     "metadata": {},
     "output_type": "execute_result"
    }
   ],
   "source": [
    "jsonResponse['numberOfPages']"
   ]
  },
  {
   "cell_type": "code",
   "execution_count": 14,
   "metadata": {},
   "outputs": [
    {
     "data": {
      "text/plain": [
       "105"
      ]
     },
     "execution_count": 14,
     "metadata": {},
     "output_type": "execute_result"
    }
   ],
   "source": [
    "len(jsonResponse)"
   ]
  },
  {
   "cell_type": "code",
   "execution_count": 15,
   "metadata": {},
   "outputs": [
    {
     "data": {
      "text/plain": [
       "{'id': 21938,\n",
       " 'name': '5168 Brewing',\n",
       " 'status': 'Brewery',\n",
       " 'reviewlink': 'https://beermapping.com/location/21938',\n",
       " 'proxylink': 'http://beermapping.com/maps/proxymaps.php?locid=21938&amp;d=5',\n",
       " 'blogmap': 'http://beermapping.com/maps/blogproxy.php?locid=21938&amp;d=1&amp;type=norm',\n",
       " 'street': '5730 Hidcote Drive',\n",
       " 'city': 'Lincoln',\n",
       " 'state': 'NE',\n",
       " 'zip': '68516',\n",
       " 'country': 'United States',\n",
       " 'phone': '402-875-5588',\n",
       " 'url': '',\n",
       " 'overall': '0',\n",
       " 'imagecount': '0'}"
      ]
     },
     "execution_count": 15,
     "metadata": {},
     "output_type": "execute_result"
    }
   ],
   "source": [
    "jsonResponse[0]"
   ]
  },
  {
   "cell_type": "code",
   "execution_count": 30,
   "metadata": {},
   "outputs": [
    {
     "data": {
      "text/plain": [
       "{'id': 21370,\n",
       " 'name': 'Zipline Brewing Company',\n",
       " 'status': 'Brewery',\n",
       " 'reviewlink': 'https://beermapping.com/location/21370',\n",
       " 'proxylink': 'http://beermapping.com/maps/proxymaps.php?locid=21370&amp;d=5',\n",
       " 'blogmap': 'http://beermapping.com/maps/blogproxy.php?locid=21370&amp;d=1&amp;type=norm',\n",
       " 'street': '721 N 14th St',\n",
       " 'city': 'Omaha',\n",
       " 'state': 'NE',\n",
       " 'zip': '68102',\n",
       " 'country': 'United States',\n",
       " 'phone': '',\n",
       " 'url': 'http%3A%2F%2Fziplinebrewing.com%2F',\n",
       " 'overall': '0',\n",
       " 'imagecount': '0'}"
      ]
     },
     "execution_count": 30,
     "metadata": {},
     "output_type": "execute_result"
    }
   ],
   "source": [
    "jsonResponse[-1]"
   ]
  },
  {
   "cell_type": "code",
   "execution_count": 32,
   "metadata": {},
   "outputs": [
    {
     "data": {
      "text/plain": [
       "dict_keys(['id', 'name', 'status', 'reviewlink', 'proxylink', 'blogmap', 'street', 'city', 'state', 'zip', 'country', 'phone', 'url', 'overall', 'imagecount'])"
      ]
     },
     "execution_count": 32,
     "metadata": {},
     "output_type": "execute_result"
    }
   ],
   "source": [
    "jsonResponse[0].keys()"
   ]
  },
  {
   "cell_type": "code",
   "execution_count": 36,
   "metadata": {},
   "outputs": [],
   "source": [
    "def getStateBreweries(state):\n",
    "    '''\n",
    "    Function to retrieve data about breweries within a US State\n",
    "    '''\n",
    "    # Assign URL Service to search by State:\n",
    "    service = \"locstate\"\n",
    "    # Assign search term:\n",
    "    query = state\n",
    "    # Assemble URL:\n",
    "    requestURL = f\"{baseURL}{service}/{apiKey}/{query}&s=json\"\n",
    "        # Note '&s=json' appended to return JSON formatted data\n",
    "    \n",
    "    response = requests.request(\"GET\", requestURL)\n",
    "    print(response.status_code)\n",
    "    if response.status_code != 200:\n",
    "        raise Exception(response.status_code, response.text)\n",
    "    jsonResponse = response.json()\n",
    "    \n",
    "    return jsonResponse"
   ]
  },
  {
   "cell_type": "code",
   "execution_count": 37,
   "metadata": {},
   "outputs": [
    {
     "name": "stdin",
     "output_type": "stream",
     "text": [
      "Enter 2-letter US State acronym: NE\n"
     ]
    },
    {
     "name": "stdout",
     "output_type": "stream",
     "text": [
      "200\n"
     ]
    }
   ],
   "source": [
    "state = str(input(\"Enter 2-letter US State acronym:\"))\n",
    "breweryJSON = getStateBreweries(state)"
   ]
  },
  {
   "cell_type": "code",
   "execution_count": 38,
   "metadata": {},
   "outputs": [
    {
     "data": {
      "text/plain": [
       "dict_keys(['id', 'name', 'status', 'reviewlink', 'proxylink', 'blogmap', 'street', 'city', 'state', 'zip', 'country', 'phone', 'url', 'overall', 'imagecount'])"
      ]
     },
     "execution_count": 38,
     "metadata": {},
     "output_type": "execute_result"
    }
   ],
   "source": [
    "breweryJSON[0].keys()"
   ]
  },
  {
   "cell_type": "code",
   "execution_count": 76,
   "metadata": {},
   "outputs": [],
   "source": [
    "def buildBreweryDB(listBreweries):\n",
    "    '''\n",
    "    Take a list of Brewery data in JSON format.\n",
    "    Output a DF with key information about those breweries.\n",
    "    '''\n",
    "    # Define an empty dictionary, with keys:\n",
    "    breweryDict = {'BreweryID': [], 'BreweryName': [], 'Type': [], 'ReviewLink': [],\n",
    "                   'ProxyLink': [], 'Map': [], 'StreetAddress': [], 'City': [],\n",
    "                   'State': [], 'Zip': [], 'Country': [], 'PhoneNum': [],\n",
    "                   'Website': [], 'Rating': [], 'ImageCount': []}\n",
    "    \n",
    "    for b in listBreweries:\n",
    "        breweryDict['BreweryID'].append(b['id'])\n",
    "        breweryDict['BreweryName'].append(b['name'])\n",
    "        breweryDict['Type'].append(b['status'])\n",
    "        breweryDict['ReviewLink'].append(b['reviewlink'])\n",
    "        breweryDict['ProxyLink'].append(b['proxylink'])\n",
    "        breweryDict['Map'].append(b['blogmap'])\n",
    "        breweryDict['StreetAddress'].append(b['street'])\n",
    "        breweryDict['City'].append(b['city'])\n",
    "        breweryDict['State'].append(b['state'])\n",
    "        breweryDict['Zip'].append(b['zip'])\n",
    "        breweryDict['Country'].append(b['country'])\n",
    "        breweryDict['PhoneNum'].append(b['phone'])\n",
    "#         breweryDict['Website'].append(b['url'])\n",
    "        breweryDict['Website'].append(urllib.parse.unquote(b['url'])) # Fix parsed URLs\n",
    "        breweryDict['Rating'].append(b['overall'])\n",
    "        breweryDict['ImageCount'].append(b['imagecount'])\n",
    "        \n",
    "    return pd.DataFrame(breweryDict)"
   ]
  },
  {
   "cell_type": "code",
   "execution_count": 73,
   "metadata": {},
   "outputs": [
    {
     "data": {
      "text/plain": [
       "'http://www.5168brewing.com/'"
      ]
     },
     "execution_count": 73,
     "metadata": {},
     "output_type": "execute_result"
    }
   ],
   "source": [
    "urllib.parse.unquote(test)"
   ]
  },
  {
   "cell_type": "code",
   "execution_count": 77,
   "metadata": {},
   "outputs": [],
   "source": [
    "breweryDF = buildBreweryDB(breweryJSON)"
   ]
  },
  {
   "cell_type": "code",
   "execution_count": 78,
   "metadata": {},
   "outputs": [
    {
     "data": {
      "text/html": [
       "<div>\n",
       "<style scoped>\n",
       "    .dataframe tbody tr th:only-of-type {\n",
       "        vertical-align: middle;\n",
       "    }\n",
       "\n",
       "    .dataframe tbody tr th {\n",
       "        vertical-align: top;\n",
       "    }\n",
       "\n",
       "    .dataframe thead th {\n",
       "        text-align: right;\n",
       "    }\n",
       "</style>\n",
       "<table border=\"1\" class=\"dataframe\">\n",
       "  <thead>\n",
       "    <tr style=\"text-align: right;\">\n",
       "      <th></th>\n",
       "      <th>BreweryID</th>\n",
       "      <th>BreweryName</th>\n",
       "      <th>Type</th>\n",
       "      <th>ReviewLink</th>\n",
       "      <th>ProxyLink</th>\n",
       "      <th>Map</th>\n",
       "      <th>StreetAddress</th>\n",
       "      <th>City</th>\n",
       "      <th>State</th>\n",
       "      <th>Zip</th>\n",
       "      <th>Country</th>\n",
       "      <th>PhoneNum</th>\n",
       "      <th>Website</th>\n",
       "      <th>Rating</th>\n",
       "      <th>ImageCount</th>\n",
       "    </tr>\n",
       "  </thead>\n",
       "  <tbody>\n",
       "    <tr>\n",
       "      <th>0</th>\n",
       "      <td>21938</td>\n",
       "      <td>5168 Brewing</td>\n",
       "      <td>Brewery</td>\n",
       "      <td>https://beermapping.com/location/21938</td>\n",
       "      <td>http://beermapping.com/maps/proxymaps.php?loci...</td>\n",
       "      <td>http://beermapping.com/maps/blogproxy.php?loci...</td>\n",
       "      <td>5730 Hidcote Drive</td>\n",
       "      <td>Lincoln</td>\n",
       "      <td>NE</td>\n",
       "      <td>68516</td>\n",
       "      <td>United States</td>\n",
       "      <td>402-875-5588</td>\n",
       "      <td></td>\n",
       "      <td>0</td>\n",
       "      <td>0</td>\n",
       "    </tr>\n",
       "    <tr>\n",
       "      <th>1</th>\n",
       "      <td>22335</td>\n",
       "      <td>5168 Taproom</td>\n",
       "      <td>Beer Bar</td>\n",
       "      <td>https://beermapping.com/location/22335</td>\n",
       "      <td>http://beermapping.com/maps/proxymaps.php?loci...</td>\n",
       "      <td>http://beermapping.com/maps/blogproxy.php?loci...</td>\n",
       "      <td>3201 Farnam Street</td>\n",
       "      <td>Omaha</td>\n",
       "      <td>NE</td>\n",
       "      <td>68131</td>\n",
       "      <td>United States</td>\n",
       "      <td>402-934-5168</td>\n",
       "      <td>http://www.5168brewing.com/</td>\n",
       "      <td>0</td>\n",
       "      <td>0</td>\n",
       "    </tr>\n",
       "    <tr>\n",
       "      <th>2</th>\n",
       "      <td>21215</td>\n",
       "      <td>Alamo Draft House</td>\n",
       "      <td>Beer Bar</td>\n",
       "      <td>https://beermapping.com/location/21215</td>\n",
       "      <td>http://beermapping.com/maps/proxymaps.php?loci...</td>\n",
       "      <td>http://beermapping.com/maps/blogproxy.php?loci...</td>\n",
       "      <td>12750 Westport Pkwy</td>\n",
       "      <td>La Vista</td>\n",
       "      <td>NE</td>\n",
       "      <td>68138</td>\n",
       "      <td>United States</td>\n",
       "      <td>402-505-9979</td>\n",
       "      <td>https://drafthouse.com/omaha</td>\n",
       "      <td>0</td>\n",
       "      <td>0</td>\n",
       "    </tr>\n",
       "    <tr>\n",
       "      <th>3</th>\n",
       "      <td>19644</td>\n",
       "      <td>Backswing Brewing</td>\n",
       "      <td>Brewery</td>\n",
       "      <td>https://beermapping.com/location/19644</td>\n",
       "      <td>http://beermapping.com/maps/proxymaps.php?loci...</td>\n",
       "      <td>http://beermapping.com/maps/blogproxy.php?loci...</td>\n",
       "      <td>500 W South St #8</td>\n",
       "      <td>Lincoln</td>\n",
       "      <td>NE</td>\n",
       "      <td>68522</td>\n",
       "      <td>United States</td>\n",
       "      <td>(402) 515-4263</td>\n",
       "      <td>facebook.com/BackswingBrewingCo/timeline</td>\n",
       "      <td>0</td>\n",
       "      <td>0</td>\n",
       "    </tr>\n",
       "    <tr>\n",
       "      <th>4</th>\n",
       "      <td>21194</td>\n",
       "      <td>Backswing Brewing Company</td>\n",
       "      <td>Brewery</td>\n",
       "      <td>https://beermapping.com/location/21194</td>\n",
       "      <td>http://beermapping.com/maps/proxymaps.php?loci...</td>\n",
       "      <td>http://beermapping.com/maps/blogproxy.php?loci...</td>\n",
       "      <td>500 W South St #8</td>\n",
       "      <td>Lincoln</td>\n",
       "      <td>NE</td>\n",
       "      <td>68522</td>\n",
       "      <td>United States</td>\n",
       "      <td>402-515-4263</td>\n",
       "      <td></td>\n",
       "      <td>0</td>\n",
       "      <td>0</td>\n",
       "    </tr>\n",
       "  </tbody>\n",
       "</table>\n",
       "</div>"
      ],
      "text/plain": [
       "   BreweryID                BreweryName      Type  \\\n",
       "0      21938               5168 Brewing   Brewery   \n",
       "1      22335               5168 Taproom  Beer Bar   \n",
       "2      21215          Alamo Draft House  Beer Bar   \n",
       "3      19644          Backswing Brewing   Brewery   \n",
       "4      21194  Backswing Brewing Company   Brewery   \n",
       "\n",
       "                               ReviewLink  \\\n",
       "0  https://beermapping.com/location/21938   \n",
       "1  https://beermapping.com/location/22335   \n",
       "2  https://beermapping.com/location/21215   \n",
       "3  https://beermapping.com/location/19644   \n",
       "4  https://beermapping.com/location/21194   \n",
       "\n",
       "                                           ProxyLink  \\\n",
       "0  http://beermapping.com/maps/proxymaps.php?loci...   \n",
       "1  http://beermapping.com/maps/proxymaps.php?loci...   \n",
       "2  http://beermapping.com/maps/proxymaps.php?loci...   \n",
       "3  http://beermapping.com/maps/proxymaps.php?loci...   \n",
       "4  http://beermapping.com/maps/proxymaps.php?loci...   \n",
       "\n",
       "                                                 Map        StreetAddress  \\\n",
       "0  http://beermapping.com/maps/blogproxy.php?loci...   5730 Hidcote Drive   \n",
       "1  http://beermapping.com/maps/blogproxy.php?loci...   3201 Farnam Street   \n",
       "2  http://beermapping.com/maps/blogproxy.php?loci...  12750 Westport Pkwy   \n",
       "3  http://beermapping.com/maps/blogproxy.php?loci...    500 W South St #8   \n",
       "4  http://beermapping.com/maps/blogproxy.php?loci...    500 W South St #8   \n",
       "\n",
       "       City State    Zip        Country        PhoneNum  \\\n",
       "0   Lincoln    NE  68516  United States    402-875-5588   \n",
       "1     Omaha    NE  68131  United States    402-934-5168   \n",
       "2  La Vista    NE  68138  United States    402-505-9979   \n",
       "3   Lincoln    NE  68522  United States  (402) 515-4263   \n",
       "4   Lincoln    NE  68522  United States    402-515-4263   \n",
       "\n",
       "                                    Website Rating ImageCount  \n",
       "0                                                0          0  \n",
       "1               http://www.5168brewing.com/      0          0  \n",
       "2              https://drafthouse.com/omaha      0          0  \n",
       "3  facebook.com/BackswingBrewingCo/timeline      0          0  \n",
       "4                                                0          0  "
      ]
     },
     "execution_count": 78,
     "metadata": {},
     "output_type": "execute_result"
    }
   ],
   "source": [
    "breweryDF.head()"
   ]
  },
  {
   "cell_type": "code",
   "execution_count": 57,
   "metadata": {},
   "outputs": [
    {
     "data": {
      "text/plain": [
       "'http%3A%2F%2Fwww.5168brewing.com%2F'"
      ]
     },
     "execution_count": 57,
     "metadata": {},
     "output_type": "execute_result"
    }
   ],
   "source": [
    "test = breweryDF.loc[1][12]\n",
    "test"
   ]
  },
  {
   "cell_type": "code",
   "execution_count": 58,
   "metadata": {},
   "outputs": [],
   "source": [
    "from requests.utils import requote_uri"
   ]
  },
  {
   "cell_type": "code",
   "execution_count": 59,
   "metadata": {},
   "outputs": [
    {
     "data": {
      "text/plain": [
       "'http%3A%2F%2Fwww.5168brewing.com%2F'"
      ]
     },
     "execution_count": 59,
     "metadata": {},
     "output_type": "execute_result"
    }
   ],
   "source": [
    "requote_uri(test)"
   ]
  },
  {
   "cell_type": "code",
   "execution_count": 61,
   "metadata": {},
   "outputs": [
    {
     "ename": "AttributeError",
     "evalue": "'str' object has no attribute 'decode'",
     "output_type": "error",
     "traceback": [
      "\u001b[1;31m---------------------------------------------------------------------------\u001b[0m",
      "\u001b[1;31mAttributeError\u001b[0m                            Traceback (most recent call last)",
      "\u001b[1;32m<ipython-input-61-56322669feff>\u001b[0m in \u001b[0;36m<module>\u001b[1;34m\u001b[0m\n\u001b[1;32m----> 1\u001b[1;33m \u001b[0mtest\u001b[0m\u001b[1;33m.\u001b[0m\u001b[0mdecode\u001b[0m\u001b[1;33m(\u001b[0m\u001b[1;34m'UTF-8'\u001b[0m\u001b[1;33m)\u001b[0m\u001b[1;33m\u001b[0m\u001b[1;33m\u001b[0m\u001b[0m\n\u001b[0m",
      "\u001b[1;31mAttributeError\u001b[0m: 'str' object has no attribute 'decode'"
     ]
    }
   ],
   "source": [
    "test.decode('UTF-8')"
   ]
  },
  {
   "cell_type": "code",
   "execution_count": 63,
   "metadata": {},
   "outputs": [],
   "source": [
    "from urllib.parse import urlparse"
   ]
  },
  {
   "cell_type": "code",
   "execution_count": 69,
   "metadata": {},
   "outputs": [],
   "source": [
    "from urllib.parse import urlunparse"
   ]
  },
  {
   "cell_type": "code",
   "execution_count": 65,
   "metadata": {},
   "outputs": [],
   "source": [
    "import urllib"
   ]
  },
  {
   "cell_type": "code",
   "execution_count": 66,
   "metadata": {},
   "outputs": [
    {
     "data": {
      "text/plain": [
       "'http%253A%252F%252Fwww.5168brewing.com%252F'"
      ]
     },
     "execution_count": 66,
     "metadata": {},
     "output_type": "execute_result"
    }
   ],
   "source": [
    "urllib.parse.quote(test)"
   ]
  },
  {
   "cell_type": "code",
   "execution_count": 70,
   "metadata": {},
   "outputs": [
    {
     "ename": "ValueError",
     "evalue": "too many values to unpack (expected 7)",
     "output_type": "error",
     "traceback": [
      "\u001b[1;31m---------------------------------------------------------------------------\u001b[0m",
      "\u001b[1;31mValueError\u001b[0m                                Traceback (most recent call last)",
      "\u001b[1;32m<ipython-input-70-fc1c8a6fc474>\u001b[0m in \u001b[0;36m<module>\u001b[1;34m\u001b[0m\n\u001b[1;32m----> 1\u001b[1;33m \u001b[0murllib\u001b[0m\u001b[1;33m.\u001b[0m\u001b[0mparse\u001b[0m\u001b[1;33m.\u001b[0m\u001b[0murlunparse\u001b[0m\u001b[1;33m(\u001b[0m\u001b[0mtest\u001b[0m\u001b[1;33m)\u001b[0m\u001b[1;33m\u001b[0m\u001b[1;33m\u001b[0m\u001b[0m\n\u001b[0m",
      "\u001b[1;32mC:\\ProgramData\\Anaconda3\\lib\\urllib\\parse.py\u001b[0m in \u001b[0;36murlunparse\u001b[1;34m(components)\u001b[0m\n\u001b[0;32m    477\u001b[0m     \u001b[0moriginally\u001b[0m \u001b[0mhad\u001b[0m \u001b[0mredundant\u001b[0m \u001b[0mdelimiters\u001b[0m\u001b[1;33m,\u001b[0m \u001b[0me\u001b[0m\u001b[1;33m.\u001b[0m\u001b[0mg\u001b[0m\u001b[1;33m.\u001b[0m \u001b[0ma\u001b[0m\u001b[0;31m \u001b[0m\u001b[0;31m?\u001b[0m \u001b[1;32mwith\u001b[0m \u001b[0man\u001b[0m \u001b[0mempty\u001b[0m \u001b[0mquery\u001b[0m\u001b[1;33m\u001b[0m\u001b[1;33m\u001b[0m\u001b[0m\n\u001b[0;32m    478\u001b[0m     (the draft states that these are equivalent).\"\"\"\n\u001b[1;32m--> 479\u001b[1;33m     scheme, netloc, url, params, query, fragment, _coerce_result = (\n\u001b[0m\u001b[0;32m    480\u001b[0m                                                   _coerce_args(*components))\n\u001b[0;32m    481\u001b[0m     \u001b[1;32mif\u001b[0m \u001b[0mparams\u001b[0m\u001b[1;33m:\u001b[0m\u001b[1;33m\u001b[0m\u001b[1;33m\u001b[0m\u001b[0m\n",
      "\u001b[1;31mValueError\u001b[0m: too many values to unpack (expected 7)"
     ]
    }
   ],
   "source": [
    "urllib.parse.urlunparse(test)"
   ]
  },
  {
   "cell_type": "code",
   "execution_count": 72,
   "metadata": {},
   "outputs": [
    {
     "ename": "AttributeError",
     "evalue": "module 'urllib' has no attribute 'unquote'",
     "output_type": "error",
     "traceback": [
      "\u001b[1;31m---------------------------------------------------------------------------\u001b[0m",
      "\u001b[1;31mAttributeError\u001b[0m                            Traceback (most recent call last)",
      "\u001b[1;32m<ipython-input-72-163c9a814247>\u001b[0m in \u001b[0;36m<module>\u001b[1;34m\u001b[0m\n\u001b[1;32m----> 1\u001b[1;33m \u001b[0murllib\u001b[0m\u001b[1;33m.\u001b[0m\u001b[0munquote\u001b[0m\u001b[1;33m(\u001b[0m\u001b[0mtest\u001b[0m\u001b[1;33m.\u001b[0m\u001b[0mencode\u001b[0m\u001b[1;33m(\u001b[0m\u001b[1;34m\"utf8\"\u001b[0m\u001b[1;33m)\u001b[0m\u001b[1;33m)\u001b[0m\u001b[1;33m\u001b[0m\u001b[1;33m\u001b[0m\u001b[0m\n\u001b[0m",
      "\u001b[1;31mAttributeError\u001b[0m: module 'urllib' has no attribute 'unquote'"
     ]
    }
   ],
   "source": [
    "urllib.unquote(test.encode(\"utf8\"))"
   ]
  },
  {
   "cell_type": "code",
   "execution_count": 73,
   "metadata": {},
   "outputs": [
    {
     "data": {
      "text/plain": [
       "'http://www.5168brewing.com/'"
      ]
     },
     "execution_count": 73,
     "metadata": {},
     "output_type": "execute_result"
    }
   ],
   "source": [
    "urllib.parse.unquote(test)"
   ]
  },
  {
   "cell_type": "markdown",
   "metadata": {},
   "source": [
    "We have a winner!!"
   ]
  },
  {
   "cell_type": "code",
   "execution_count": 75,
   "metadata": {},
   "outputs": [],
   "source": [
    "# Probably just this?\n",
    "import urllib"
   ]
  },
  {
   "cell_type": "code",
   "execution_count": null,
   "metadata": {},
   "outputs": [],
   "source": []
  },
  {
   "cell_type": "code",
   "execution_count": null,
   "metadata": {},
   "outputs": [],
   "source": []
  },
  {
   "cell_type": "code",
   "execution_count": 45,
   "metadata": {},
   "outputs": [],
   "source": [
    "# breweryDict = {'BreweryID': [], 'BreweryName': [], 'Type': [], 'ReviewLink': [],\n",
    "#                    'ProxyLink': [], 'Map': [], 'StreetAddress': [], 'City': [],\n",
    "#                    'State': [], 'Zip': [], 'Country': [], 'PhoneNum': [],\n",
    "#                    'Website': [], 'Overall': [], 'ImageCount': []}"
   ]
  },
  {
   "cell_type": "code",
   "execution_count": 43,
   "metadata": {},
   "outputs": [],
   "source": [
    "# breweryDict = {'id': [], 'name': [], 'status': [], 'reviewlink': [],\n",
    "#                    'proxylink': [], 'blogmap': [], 'street': [], 'city': [],\n",
    "#                    'state': [], 'zip': [], 'country': [], 'phone': [],\n",
    "#                    'url': [], 'overall': [], 'imagecount': []}"
   ]
  },
  {
   "cell_type": "code",
   "execution_count": 46,
   "metadata": {},
   "outputs": [],
   "source": [
    "# for b in breweryJSON:\n",
    "#     breweryDict['BreweryID'].append(b['id'])\n",
    "#     breweryDict['BreweryName'].append(b['name'])\n",
    "#     breweryDict['Type'].append(b['status'])\n",
    "#     breweryDict['ReviewLink'].append(b['reviewlink'])\n",
    "#     breweryDict['ProxyLink'].append(b['proxylink'])\n",
    "#     breweryDict['Map'].append(b['blogmap'])\n",
    "#     breweryDict['StreetAddress'].append(b['street'])\n",
    "#     breweryDict['City'].append(b['city'])\n",
    "#     breweryDict['State'].append(b['state'])\n",
    "#     breweryDict['Zip'].append(b['zip'])\n",
    "#     breweryDict['Country'].append(b['country'])\n",
    "#     breweryDict['PhoneNum'].append(b['phone'])\n",
    "#     breweryDict['Website'].append(b['url'])\n",
    "#     breweryDict['Rating'].append(b['overall'])\n",
    "#     breweryDict['ImageCount'].append(b['imagecount'])"
   ]
  },
  {
   "cell_type": "code",
   "execution_count": 50,
   "metadata": {},
   "outputs": [],
   "source": [
    "# breweryDict"
   ]
  },
  {
   "cell_type": "code",
   "execution_count": 48,
   "metadata": {},
   "outputs": [],
   "source": [
    "# df = pd.DataFrame(breweryDict)"
   ]
  },
  {
   "cell_type": "code",
   "execution_count": 49,
   "metadata": {},
   "outputs": [
    {
     "data": {
      "text/html": [
       "<div>\n",
       "<style scoped>\n",
       "    .dataframe tbody tr th:only-of-type {\n",
       "        vertical-align: middle;\n",
       "    }\n",
       "\n",
       "    .dataframe tbody tr th {\n",
       "        vertical-align: top;\n",
       "    }\n",
       "\n",
       "    .dataframe thead th {\n",
       "        text-align: right;\n",
       "    }\n",
       "</style>\n",
       "<table border=\"1\" class=\"dataframe\">\n",
       "  <thead>\n",
       "    <tr style=\"text-align: right;\">\n",
       "      <th></th>\n",
       "      <th>BreweryID</th>\n",
       "      <th>BreweryName</th>\n",
       "      <th>Type</th>\n",
       "      <th>ReviewLink</th>\n",
       "      <th>ProxyLink</th>\n",
       "      <th>Map</th>\n",
       "      <th>StreetAddress</th>\n",
       "      <th>City</th>\n",
       "      <th>State</th>\n",
       "      <th>Zip</th>\n",
       "      <th>Country</th>\n",
       "      <th>PhoneNum</th>\n",
       "      <th>Website</th>\n",
       "      <th>Overall</th>\n",
       "      <th>ImageCount</th>\n",
       "    </tr>\n",
       "  </thead>\n",
       "  <tbody>\n",
       "    <tr>\n",
       "      <th>0</th>\n",
       "      <td>21938</td>\n",
       "      <td>5168 Brewing</td>\n",
       "      <td>Brewery</td>\n",
       "      <td>https://beermapping.com/location/21938</td>\n",
       "      <td>http://beermapping.com/maps/proxymaps.php?loci...</td>\n",
       "      <td>http://beermapping.com/maps/blogproxy.php?loci...</td>\n",
       "      <td>5730 Hidcote Drive</td>\n",
       "      <td>Lincoln</td>\n",
       "      <td>NE</td>\n",
       "      <td>68516</td>\n",
       "      <td>United States</td>\n",
       "      <td>402-875-5588</td>\n",
       "      <td></td>\n",
       "      <td>0</td>\n",
       "      <td>0</td>\n",
       "    </tr>\n",
       "    <tr>\n",
       "      <th>1</th>\n",
       "      <td>22335</td>\n",
       "      <td>5168 Taproom</td>\n",
       "      <td>Beer Bar</td>\n",
       "      <td>https://beermapping.com/location/22335</td>\n",
       "      <td>http://beermapping.com/maps/proxymaps.php?loci...</td>\n",
       "      <td>http://beermapping.com/maps/blogproxy.php?loci...</td>\n",
       "      <td>3201 Farnam Street</td>\n",
       "      <td>Omaha</td>\n",
       "      <td>NE</td>\n",
       "      <td>68131</td>\n",
       "      <td>United States</td>\n",
       "      <td>402-934-5168</td>\n",
       "      <td>http%3A%2F%2Fwww.5168brewing.com%2F</td>\n",
       "      <td>0</td>\n",
       "      <td>0</td>\n",
       "    </tr>\n",
       "    <tr>\n",
       "      <th>2</th>\n",
       "      <td>21215</td>\n",
       "      <td>Alamo Draft House</td>\n",
       "      <td>Beer Bar</td>\n",
       "      <td>https://beermapping.com/location/21215</td>\n",
       "      <td>http://beermapping.com/maps/proxymaps.php?loci...</td>\n",
       "      <td>http://beermapping.com/maps/blogproxy.php?loci...</td>\n",
       "      <td>12750 Westport Pkwy</td>\n",
       "      <td>La Vista</td>\n",
       "      <td>NE</td>\n",
       "      <td>68138</td>\n",
       "      <td>United States</td>\n",
       "      <td>402-505-9979</td>\n",
       "      <td>https%3A%2F%2Fdrafthouse.com%2Fomaha</td>\n",
       "      <td>0</td>\n",
       "      <td>0</td>\n",
       "    </tr>\n",
       "    <tr>\n",
       "      <th>3</th>\n",
       "      <td>19644</td>\n",
       "      <td>Backswing Brewing</td>\n",
       "      <td>Brewery</td>\n",
       "      <td>https://beermapping.com/location/19644</td>\n",
       "      <td>http://beermapping.com/maps/proxymaps.php?loci...</td>\n",
       "      <td>http://beermapping.com/maps/blogproxy.php?loci...</td>\n",
       "      <td>500 W South St #8</td>\n",
       "      <td>Lincoln</td>\n",
       "      <td>NE</td>\n",
       "      <td>68522</td>\n",
       "      <td>United States</td>\n",
       "      <td>(402) 515-4263</td>\n",
       "      <td>facebook.com%2FBackswingBrewingCo%2Ftimeline</td>\n",
       "      <td>0</td>\n",
       "      <td>0</td>\n",
       "    </tr>\n",
       "    <tr>\n",
       "      <th>4</th>\n",
       "      <td>21194</td>\n",
       "      <td>Backswing Brewing Company</td>\n",
       "      <td>Brewery</td>\n",
       "      <td>https://beermapping.com/location/21194</td>\n",
       "      <td>http://beermapping.com/maps/proxymaps.php?loci...</td>\n",
       "      <td>http://beermapping.com/maps/blogproxy.php?loci...</td>\n",
       "      <td>500 W South St #8</td>\n",
       "      <td>Lincoln</td>\n",
       "      <td>NE</td>\n",
       "      <td>68522</td>\n",
       "      <td>United States</td>\n",
       "      <td>402-515-4263</td>\n",
       "      <td></td>\n",
       "      <td>0</td>\n",
       "      <td>0</td>\n",
       "    </tr>\n",
       "  </tbody>\n",
       "</table>\n",
       "</div>"
      ],
      "text/plain": [
       "   BreweryID                BreweryName      Type  \\\n",
       "0      21938               5168 Brewing   Brewery   \n",
       "1      22335               5168 Taproom  Beer Bar   \n",
       "2      21215          Alamo Draft House  Beer Bar   \n",
       "3      19644          Backswing Brewing   Brewery   \n",
       "4      21194  Backswing Brewing Company   Brewery   \n",
       "\n",
       "                               ReviewLink  \\\n",
       "0  https://beermapping.com/location/21938   \n",
       "1  https://beermapping.com/location/22335   \n",
       "2  https://beermapping.com/location/21215   \n",
       "3  https://beermapping.com/location/19644   \n",
       "4  https://beermapping.com/location/21194   \n",
       "\n",
       "                                           ProxyLink  \\\n",
       "0  http://beermapping.com/maps/proxymaps.php?loci...   \n",
       "1  http://beermapping.com/maps/proxymaps.php?loci...   \n",
       "2  http://beermapping.com/maps/proxymaps.php?loci...   \n",
       "3  http://beermapping.com/maps/proxymaps.php?loci...   \n",
       "4  http://beermapping.com/maps/proxymaps.php?loci...   \n",
       "\n",
       "                                                 Map        StreetAddress  \\\n",
       "0  http://beermapping.com/maps/blogproxy.php?loci...   5730 Hidcote Drive   \n",
       "1  http://beermapping.com/maps/blogproxy.php?loci...   3201 Farnam Street   \n",
       "2  http://beermapping.com/maps/blogproxy.php?loci...  12750 Westport Pkwy   \n",
       "3  http://beermapping.com/maps/blogproxy.php?loci...    500 W South St #8   \n",
       "4  http://beermapping.com/maps/blogproxy.php?loci...    500 W South St #8   \n",
       "\n",
       "       City State    Zip        Country        PhoneNum  \\\n",
       "0   Lincoln    NE  68516  United States    402-875-5588   \n",
       "1     Omaha    NE  68131  United States    402-934-5168   \n",
       "2  La Vista    NE  68138  United States    402-505-9979   \n",
       "3   Lincoln    NE  68522  United States  (402) 515-4263   \n",
       "4   Lincoln    NE  68522  United States    402-515-4263   \n",
       "\n",
       "                                        Website Overall ImageCount  \n",
       "0                                                     0          0  \n",
       "1           http%3A%2F%2Fwww.5168brewing.com%2F       0          0  \n",
       "2          https%3A%2F%2Fdrafthouse.com%2Fomaha       0          0  \n",
       "3  facebook.com%2FBackswingBrewingCo%2Ftimeline       0          0  \n",
       "4                                                     0          0  "
      ]
     },
     "execution_count": 49,
     "metadata": {},
     "output_type": "execute_result"
    }
   ],
   "source": [
    "# df.head()"
   ]
  },
  {
   "cell_type": "code",
   "execution_count": null,
   "metadata": {},
   "outputs": [],
   "source": []
  },
  {
   "cell_type": "code",
   "execution_count": null,
   "metadata": {},
   "outputs": [],
   "source": []
  },
  {
   "cell_type": "code",
   "execution_count": null,
   "metadata": {},
   "outputs": [],
   "source": []
  },
  {
   "cell_type": "code",
   "execution_count": 18,
   "metadata": {},
   "outputs": [],
   "source": [
    "# breweriesStr = json.dumps(jsonResponse, indent=4, sort_keys=True)"
   ]
  },
  {
   "cell_type": "code",
   "execution_count": 25,
   "metadata": {},
   "outputs": [],
   "source": [
    "# type(breweriesStr)"
   ]
  },
  {
   "cell_type": "code",
   "execution_count": 26,
   "metadata": {},
   "outputs": [],
   "source": [
    "# breweriesStr[:500]"
   ]
  },
  {
   "cell_type": "code",
   "execution_count": 22,
   "metadata": {},
   "outputs": [],
   "source": [
    "# breweriesJSON = json.loads(breweriesStr)"
   ]
  },
  {
   "cell_type": "code",
   "execution_count": 27,
   "metadata": {},
   "outputs": [],
   "source": [
    "# type(breweriesJSON)"
   ]
  },
  {
   "cell_type": "code",
   "execution_count": 29,
   "metadata": {},
   "outputs": [],
   "source": [
    "# breweriesJSON[0]"
   ]
  },
  {
   "cell_type": "markdown",
   "metadata": {},
   "source": [
    "## DataFrame time:"
   ]
  },
  {
   "cell_type": "code",
   "execution_count": 79,
   "metadata": {},
   "outputs": [
    {
     "data": {
      "text/html": [
       "<div>\n",
       "<style scoped>\n",
       "    .dataframe tbody tr th:only-of-type {\n",
       "        vertical-align: middle;\n",
       "    }\n",
       "\n",
       "    .dataframe tbody tr th {\n",
       "        vertical-align: top;\n",
       "    }\n",
       "\n",
       "    .dataframe thead th {\n",
       "        text-align: right;\n",
       "    }\n",
       "</style>\n",
       "<table border=\"1\" class=\"dataframe\">\n",
       "  <thead>\n",
       "    <tr style=\"text-align: right;\">\n",
       "      <th></th>\n",
       "      <th>BreweryID</th>\n",
       "      <th>BreweryName</th>\n",
       "      <th>Type</th>\n",
       "      <th>ReviewLink</th>\n",
       "      <th>ProxyLink</th>\n",
       "      <th>Map</th>\n",
       "      <th>StreetAddress</th>\n",
       "      <th>City</th>\n",
       "      <th>State</th>\n",
       "      <th>Zip</th>\n",
       "      <th>Country</th>\n",
       "      <th>PhoneNum</th>\n",
       "      <th>Website</th>\n",
       "      <th>Rating</th>\n",
       "      <th>ImageCount</th>\n",
       "    </tr>\n",
       "  </thead>\n",
       "  <tbody>\n",
       "    <tr>\n",
       "      <th>0</th>\n",
       "      <td>21938</td>\n",
       "      <td>5168 Brewing</td>\n",
       "      <td>Brewery</td>\n",
       "      <td>https://beermapping.com/location/21938</td>\n",
       "      <td>http://beermapping.com/maps/proxymaps.php?loci...</td>\n",
       "      <td>http://beermapping.com/maps/blogproxy.php?loci...</td>\n",
       "      <td>5730 Hidcote Drive</td>\n",
       "      <td>Lincoln</td>\n",
       "      <td>NE</td>\n",
       "      <td>68516</td>\n",
       "      <td>United States</td>\n",
       "      <td>402-875-5588</td>\n",
       "      <td></td>\n",
       "      <td>0</td>\n",
       "      <td>0</td>\n",
       "    </tr>\n",
       "    <tr>\n",
       "      <th>1</th>\n",
       "      <td>22335</td>\n",
       "      <td>5168 Taproom</td>\n",
       "      <td>Beer Bar</td>\n",
       "      <td>https://beermapping.com/location/22335</td>\n",
       "      <td>http://beermapping.com/maps/proxymaps.php?loci...</td>\n",
       "      <td>http://beermapping.com/maps/blogproxy.php?loci...</td>\n",
       "      <td>3201 Farnam Street</td>\n",
       "      <td>Omaha</td>\n",
       "      <td>NE</td>\n",
       "      <td>68131</td>\n",
       "      <td>United States</td>\n",
       "      <td>402-934-5168</td>\n",
       "      <td>http://www.5168brewing.com/</td>\n",
       "      <td>0</td>\n",
       "      <td>0</td>\n",
       "    </tr>\n",
       "    <tr>\n",
       "      <th>2</th>\n",
       "      <td>21215</td>\n",
       "      <td>Alamo Draft House</td>\n",
       "      <td>Beer Bar</td>\n",
       "      <td>https://beermapping.com/location/21215</td>\n",
       "      <td>http://beermapping.com/maps/proxymaps.php?loci...</td>\n",
       "      <td>http://beermapping.com/maps/blogproxy.php?loci...</td>\n",
       "      <td>12750 Westport Pkwy</td>\n",
       "      <td>La Vista</td>\n",
       "      <td>NE</td>\n",
       "      <td>68138</td>\n",
       "      <td>United States</td>\n",
       "      <td>402-505-9979</td>\n",
       "      <td>https://drafthouse.com/omaha</td>\n",
       "      <td>0</td>\n",
       "      <td>0</td>\n",
       "    </tr>\n",
       "    <tr>\n",
       "      <th>3</th>\n",
       "      <td>19644</td>\n",
       "      <td>Backswing Brewing</td>\n",
       "      <td>Brewery</td>\n",
       "      <td>https://beermapping.com/location/19644</td>\n",
       "      <td>http://beermapping.com/maps/proxymaps.php?loci...</td>\n",
       "      <td>http://beermapping.com/maps/blogproxy.php?loci...</td>\n",
       "      <td>500 W South St #8</td>\n",
       "      <td>Lincoln</td>\n",
       "      <td>NE</td>\n",
       "      <td>68522</td>\n",
       "      <td>United States</td>\n",
       "      <td>(402) 515-4263</td>\n",
       "      <td>facebook.com/BackswingBrewingCo/timeline</td>\n",
       "      <td>0</td>\n",
       "      <td>0</td>\n",
       "    </tr>\n",
       "    <tr>\n",
       "      <th>4</th>\n",
       "      <td>21194</td>\n",
       "      <td>Backswing Brewing Company</td>\n",
       "      <td>Brewery</td>\n",
       "      <td>https://beermapping.com/location/21194</td>\n",
       "      <td>http://beermapping.com/maps/proxymaps.php?loci...</td>\n",
       "      <td>http://beermapping.com/maps/blogproxy.php?loci...</td>\n",
       "      <td>500 W South St #8</td>\n",
       "      <td>Lincoln</td>\n",
       "      <td>NE</td>\n",
       "      <td>68522</td>\n",
       "      <td>United States</td>\n",
       "      <td>402-515-4263</td>\n",
       "      <td></td>\n",
       "      <td>0</td>\n",
       "      <td>0</td>\n",
       "    </tr>\n",
       "  </tbody>\n",
       "</table>\n",
       "</div>"
      ],
      "text/plain": [
       "   BreweryID                BreweryName      Type  \\\n",
       "0      21938               5168 Brewing   Brewery   \n",
       "1      22335               5168 Taproom  Beer Bar   \n",
       "2      21215          Alamo Draft House  Beer Bar   \n",
       "3      19644          Backswing Brewing   Brewery   \n",
       "4      21194  Backswing Brewing Company   Brewery   \n",
       "\n",
       "                               ReviewLink  \\\n",
       "0  https://beermapping.com/location/21938   \n",
       "1  https://beermapping.com/location/22335   \n",
       "2  https://beermapping.com/location/21215   \n",
       "3  https://beermapping.com/location/19644   \n",
       "4  https://beermapping.com/location/21194   \n",
       "\n",
       "                                           ProxyLink  \\\n",
       "0  http://beermapping.com/maps/proxymaps.php?loci...   \n",
       "1  http://beermapping.com/maps/proxymaps.php?loci...   \n",
       "2  http://beermapping.com/maps/proxymaps.php?loci...   \n",
       "3  http://beermapping.com/maps/proxymaps.php?loci...   \n",
       "4  http://beermapping.com/maps/proxymaps.php?loci...   \n",
       "\n",
       "                                                 Map        StreetAddress  \\\n",
       "0  http://beermapping.com/maps/blogproxy.php?loci...   5730 Hidcote Drive   \n",
       "1  http://beermapping.com/maps/blogproxy.php?loci...   3201 Farnam Street   \n",
       "2  http://beermapping.com/maps/blogproxy.php?loci...  12750 Westport Pkwy   \n",
       "3  http://beermapping.com/maps/blogproxy.php?loci...    500 W South St #8   \n",
       "4  http://beermapping.com/maps/blogproxy.php?loci...    500 W South St #8   \n",
       "\n",
       "       City State    Zip        Country        PhoneNum  \\\n",
       "0   Lincoln    NE  68516  United States    402-875-5588   \n",
       "1     Omaha    NE  68131  United States    402-934-5168   \n",
       "2  La Vista    NE  68138  United States    402-505-9979   \n",
       "3   Lincoln    NE  68522  United States  (402) 515-4263   \n",
       "4   Lincoln    NE  68522  United States    402-515-4263   \n",
       "\n",
       "                                    Website Rating ImageCount  \n",
       "0                                                0          0  \n",
       "1               http://www.5168brewing.com/      0          0  \n",
       "2              https://drafthouse.com/omaha      0          0  \n",
       "3  facebook.com/BackswingBrewingCo/timeline      0          0  \n",
       "4                                                0          0  "
      ]
     },
     "execution_count": 79,
     "metadata": {},
     "output_type": "execute_result"
    }
   ],
   "source": [
    "breweryDF.head()"
   ]
  },
  {
   "cell_type": "code",
   "execution_count": 80,
   "metadata": {},
   "outputs": [
    {
     "data": {
      "text/plain": [
       "array(['Brewery', 'Beer Bar', 'Beer Store', 'Brewpub', 'Homebrew'],\n",
       "      dtype=object)"
      ]
     },
     "execution_count": 80,
     "metadata": {},
     "output_type": "execute_result"
    }
   ],
   "source": [
    "breweryDF.Type.unique()"
   ]
  },
  {
   "cell_type": "markdown",
   "metadata": {},
   "source": [
    "Save a backup, in case the site goes down again:"
   ]
  },
  {
   "cell_type": "code",
   "execution_count": 81,
   "metadata": {},
   "outputs": [],
   "source": [
    "breweryDF.to_csv('beerMapping.csv', index=False)"
   ]
  },
  {
   "cell_type": "code",
   "execution_count": null,
   "metadata": {},
   "outputs": [],
   "source": []
  }
 ],
 "metadata": {
  "kernelspec": {
   "display_name": "Python 3",
   "language": "python",
   "name": "python3"
  },
  "language_info": {
   "codemirror_mode": {
    "name": "ipython",
    "version": 3
   },
   "file_extension": ".py",
   "mimetype": "text/x-python",
   "name": "python",
   "nbconvert_exporter": "python",
   "pygments_lexer": "ipython3",
   "version": "3.8.5"
  }
 },
 "nbformat": 4,
 "nbformat_minor": 4
}
