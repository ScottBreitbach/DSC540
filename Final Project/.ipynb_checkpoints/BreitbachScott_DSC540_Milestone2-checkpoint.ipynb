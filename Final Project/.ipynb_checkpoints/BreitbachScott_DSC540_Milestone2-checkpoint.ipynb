{
 "cells": [
  {
   "cell_type": "markdown",
   "metadata": {},
   "source": [
    "# Scott Breitbach\n",
    "## Milestone 2: Cleaning / Formatting Flat File Source\n",
    "## 22-Jan-2021\n",
    "## DSC540, Weeks 5-6"
   ]
  },
  {
   "cell_type": "code",
   "execution_count": 217,
   "metadata": {},
   "outputs": [],
   "source": [
    "import pandas as pd\n",
    "import numpy as np"
   ]
  },
  {
   "cell_type": "markdown",
   "metadata": {},
   "source": [
    "### Perform at least 5 data transformation and/or cleansing steps to your flat file data.  \n",
    "For example:  \n",
    "* Replace Headers\n",
    "* Format data into a more readable format\n",
    "* Identify outliers and bad data\n",
    "* Find duplicates\n",
    "* Fix casing or inconsistent values\n",
    "* Conduct Fuzzy Matching  \n",
    "\n",
    "You can submit a Jupyter Notebook or a PDF of your code. If you submit a .py file you need to also include a PDF or attachment of your results."
   ]
  },
  {
   "cell_type": "markdown",
   "metadata": {},
   "source": [
    "Import CSV file:"
   ]
  },
  {
   "cell_type": "code",
   "execution_count": 218,
   "metadata": {},
   "outputs": [
    {
     "data": {
      "text/html": [
       "<div>\n",
       "<style scoped>\n",
       "    .dataframe tbody tr th:only-of-type {\n",
       "        vertical-align: middle;\n",
       "    }\n",
       "\n",
       "    .dataframe tbody tr th {\n",
       "        vertical-align: top;\n",
       "    }\n",
       "\n",
       "    .dataframe thead th {\n",
       "        text-align: right;\n",
       "    }\n",
       "</style>\n",
       "<table border=\"1\" class=\"dataframe\">\n",
       "  <thead>\n",
       "    <tr style=\"text-align: right;\">\n",
       "      <th></th>\n",
       "      <th>id</th>\n",
       "      <th>name</th>\n",
       "      <th>brewery_type</th>\n",
       "      <th>street</th>\n",
       "      <th>address_2</th>\n",
       "      <th>address_3</th>\n",
       "      <th>city</th>\n",
       "      <th>state</th>\n",
       "      <th>county_province</th>\n",
       "      <th>postal_code</th>\n",
       "      <th>website_url</th>\n",
       "      <th>phone</th>\n",
       "      <th>created_at</th>\n",
       "      <th>updated_at</th>\n",
       "      <th>country</th>\n",
       "      <th>longitude</th>\n",
       "      <th>latitude</th>\n",
       "      <th>tags</th>\n",
       "    </tr>\n",
       "  </thead>\n",
       "  <tbody>\n",
       "    <tr>\n",
       "      <th>0</th>\n",
       "      <td>backswing-brewing-co-lincoln</td>\n",
       "      <td>Backswing Brewing Co.</td>\n",
       "      <td>micro</td>\n",
       "      <td>500 W South St Ste 8</td>\n",
       "      <td>NaN</td>\n",
       "      <td>NaN</td>\n",
       "      <td>Lincoln</td>\n",
       "      <td>Nebraska</td>\n",
       "      <td>NaN</td>\n",
       "      <td>68522-1744</td>\n",
       "      <td>http://www.backswingbrewing.com</td>\n",
       "      <td>4.025154e+09</td>\n",
       "      <td>2018-07-24 01:33:43</td>\n",
       "      <td>2018-08-11 21:38:14</td>\n",
       "      <td>United States</td>\n",
       "      <td>NaN</td>\n",
       "      <td>NaN</td>\n",
       "      <td>NaN</td>\n",
       "    </tr>\n",
       "    <tr>\n",
       "      <th>1</th>\n",
       "      <td>barley-boys-brewery-omaha</td>\n",
       "      <td>Barley Boys Brewery</td>\n",
       "      <td>planning</td>\n",
       "      <td>NaN</td>\n",
       "      <td>NaN</td>\n",
       "      <td>NaN</td>\n",
       "      <td>Omaha</td>\n",
       "      <td>Nebraska</td>\n",
       "      <td>NaN</td>\n",
       "      <td>68144-1922</td>\n",
       "      <td>http://www.barleyboysbrewery.com</td>\n",
       "      <td>4.025986e+09</td>\n",
       "      <td>2018-07-24 01:33:43</td>\n",
       "      <td>2018-08-11 21:38:14</td>\n",
       "      <td>United States</td>\n",
       "      <td>NaN</td>\n",
       "      <td>NaN</td>\n",
       "      <td>NaN</td>\n",
       "    </tr>\n",
       "    <tr>\n",
       "      <th>2</th>\n",
       "      <td>benson-brewery-omaha</td>\n",
       "      <td>Benson Brewery</td>\n",
       "      <td>brewpub</td>\n",
       "      <td>6059 Maple St</td>\n",
       "      <td>NaN</td>\n",
       "      <td>NaN</td>\n",
       "      <td>Omaha</td>\n",
       "      <td>Nebraska</td>\n",
       "      <td>NaN</td>\n",
       "      <td>68104-4050</td>\n",
       "      <td>http://www.bensonbrewery.com</td>\n",
       "      <td>4.029349e+09</td>\n",
       "      <td>2018-07-24 01:33:43</td>\n",
       "      <td>2018-08-24 00:47:32</td>\n",
       "      <td>United States</td>\n",
       "      <td>-96.006345</td>\n",
       "      <td>41.284898</td>\n",
       "      <td>NaN</td>\n",
       "    </tr>\n",
       "    <tr>\n",
       "      <th>3</th>\n",
       "      <td>blue-blood-brewing-company-lincoln</td>\n",
       "      <td>Blue Blood Brewing Company</td>\n",
       "      <td>brewpub</td>\n",
       "      <td>925 Robbers Cave Rd</td>\n",
       "      <td>NaN</td>\n",
       "      <td>NaN</td>\n",
       "      <td>Lincoln</td>\n",
       "      <td>Nebraska</td>\n",
       "      <td>NaN</td>\n",
       "      <td>68502</td>\n",
       "      <td>http://www.bluebloodbrewing.com</td>\n",
       "      <td>4.024772e+09</td>\n",
       "      <td>2018-07-24 01:33:43</td>\n",
       "      <td>2018-08-24 00:47:33</td>\n",
       "      <td>United States</td>\n",
       "      <td>-96.707014</td>\n",
       "      <td>40.779996</td>\n",
       "      <td>NaN</td>\n",
       "    </tr>\n",
       "    <tr>\n",
       "      <th>4</th>\n",
       "      <td>boiler-brewing-company-lincoln</td>\n",
       "      <td>Boiler Brewing Company</td>\n",
       "      <td>micro</td>\n",
       "      <td>129 N 10th St Ste 8</td>\n",
       "      <td>NaN</td>\n",
       "      <td>NaN</td>\n",
       "      <td>Lincoln</td>\n",
       "      <td>Nebraska</td>\n",
       "      <td>NaN</td>\n",
       "      <td>68508-3633</td>\n",
       "      <td>http://www.boilerbrewingcompany.com</td>\n",
       "      <td>4.022619e+09</td>\n",
       "      <td>2018-07-24 01:33:43</td>\n",
       "      <td>2018-08-11 21:38:14</td>\n",
       "      <td>United States</td>\n",
       "      <td>NaN</td>\n",
       "      <td>NaN</td>\n",
       "      <td>NaN</td>\n",
       "    </tr>\n",
       "  </tbody>\n",
       "</table>\n",
       "</div>"
      ],
      "text/plain": [
       "                                   id                        name  \\\n",
       "0        backswing-brewing-co-lincoln       Backswing Brewing Co.   \n",
       "1           barley-boys-brewery-omaha         Barley Boys Brewery   \n",
       "2                benson-brewery-omaha              Benson Brewery   \n",
       "3  blue-blood-brewing-company-lincoln  Blue Blood Brewing Company   \n",
       "4      boiler-brewing-company-lincoln      Boiler Brewing Company   \n",
       "\n",
       "  brewery_type                street  address_2  address_3     city     state  \\\n",
       "0        micro  500 W South St Ste 8        NaN        NaN  Lincoln  Nebraska   \n",
       "1     planning                   NaN        NaN        NaN    Omaha  Nebraska   \n",
       "2      brewpub         6059 Maple St        NaN        NaN    Omaha  Nebraska   \n",
       "3      brewpub   925 Robbers Cave Rd        NaN        NaN  Lincoln  Nebraska   \n",
       "4        micro   129 N 10th St Ste 8        NaN        NaN  Lincoln  Nebraska   \n",
       "\n",
       "   county_province postal_code                          website_url  \\\n",
       "0              NaN  68522-1744      http://www.backswingbrewing.com   \n",
       "1              NaN  68144-1922     http://www.barleyboysbrewery.com   \n",
       "2              NaN  68104-4050         http://www.bensonbrewery.com   \n",
       "3              NaN       68502      http://www.bluebloodbrewing.com   \n",
       "4              NaN  68508-3633  http://www.boilerbrewingcompany.com   \n",
       "\n",
       "          phone           created_at           updated_at        country  \\\n",
       "0  4.025154e+09  2018-07-24 01:33:43  2018-08-11 21:38:14  United States   \n",
       "1  4.025986e+09  2018-07-24 01:33:43  2018-08-11 21:38:14  United States   \n",
       "2  4.029349e+09  2018-07-24 01:33:43  2018-08-24 00:47:32  United States   \n",
       "3  4.024772e+09  2018-07-24 01:33:43  2018-08-24 00:47:33  United States   \n",
       "4  4.022619e+09  2018-07-24 01:33:43  2018-08-11 21:38:14  United States   \n",
       "\n",
       "   longitude   latitude  tags  \n",
       "0        NaN        NaN   NaN  \n",
       "1        NaN        NaN   NaN  \n",
       "2 -96.006345  41.284898   NaN  \n",
       "3 -96.707014  40.779996   NaN  \n",
       "4        NaN        NaN   NaN  "
      ]
     },
     "execution_count": 218,
     "metadata": {},
     "output_type": "execute_result"
    }
   ],
   "source": [
    "df = pd.read_csv('nebraska.csv')\n",
    "df.head()"
   ]
  },
  {
   "cell_type": "code",
   "execution_count": 219,
   "metadata": {},
   "outputs": [
    {
     "name": "stdout",
     "output_type": "stream",
     "text": [
      "<class 'pandas.core.frame.DataFrame'>\n",
      "RangeIndex: 53 entries, 0 to 52\n",
      "Data columns (total 18 columns):\n",
      " #   Column           Non-Null Count  Dtype  \n",
      "---  ------           --------------  -----  \n",
      " 0   id               53 non-null     object \n",
      " 1   name             53 non-null     object \n",
      " 2   brewery_type     53 non-null     object \n",
      " 3   street           45 non-null     object \n",
      " 4   address_2        0 non-null      float64\n",
      " 5   address_3        0 non-null      float64\n",
      " 6   city             53 non-null     object \n",
      " 7   state            53 non-null     object \n",
      " 8   county_province  0 non-null      float64\n",
      " 9   postal_code      53 non-null     object \n",
      " 10  website_url      46 non-null     object \n",
      " 11  phone            50 non-null     float64\n",
      " 12  created_at       53 non-null     object \n",
      " 13  updated_at       53 non-null     object \n",
      " 14  country          53 non-null     object \n",
      " 15  longitude        31 non-null     float64\n",
      " 16  latitude         31 non-null     float64\n",
      " 17  tags             0 non-null      float64\n",
      "dtypes: float64(7), object(11)\n",
      "memory usage: 7.6+ KB\n",
      "None\n"
     ]
    }
   ],
   "source": [
    "print(df.info())"
   ]
  },
  {
   "cell_type": "markdown",
   "metadata": {},
   "source": [
    "#### 1) It would appear that four of the columns consist entirely of NaNs. These are not useful and should be removed:"
   ]
  },
  {
   "cell_type": "code",
   "execution_count": 220,
   "metadata": {},
   "outputs": [],
   "source": [
    "# df.isna().all() # Shows True for any column made entirely of NaNs"
   ]
  },
  {
   "cell_type": "code",
   "execution_count": 221,
   "metadata": {},
   "outputs": [],
   "source": [
    "# df.notna().any()# Shows True for any column NOT made entirely of NaNs"
   ]
  },
  {
   "cell_type": "code",
   "execution_count": null,
   "metadata": {},
   "outputs": [],
   "source": []
  },
  {
   "cell_type": "code",
   "execution_count": null,
   "metadata": {},
   "outputs": [],
   "source": []
  },
  {
   "cell_type": "code",
   "execution_count": 222,
   "metadata": {},
   "outputs": [],
   "source": [
    "# noNulls = df.dropna(axis=1, how='all') # Assigns new DF without NaN columns"
   ]
  },
  {
   "cell_type": "code",
   "execution_count": 223,
   "metadata": {},
   "outputs": [],
   "source": [
    "# noNulls.info()"
   ]
  },
  {
   "cell_type": "code",
   "execution_count": 224,
   "metadata": {},
   "outputs": [],
   "source": [
    "# df.info()"
   ]
  },
  {
   "cell_type": "code",
   "execution_count": 225,
   "metadata": {},
   "outputs": [],
   "source": [
    "df.dropna(axis=1, how='all', inplace=True) # inplace=True; removes NaN columns without having to assign a new DF"
   ]
  },
  {
   "cell_type": "code",
   "execution_count": 226,
   "metadata": {},
   "outputs": [
    {
     "name": "stdout",
     "output_type": "stream",
     "text": [
      "<class 'pandas.core.frame.DataFrame'>\n",
      "RangeIndex: 53 entries, 0 to 52\n",
      "Data columns (total 14 columns):\n",
      " #   Column        Non-Null Count  Dtype  \n",
      "---  ------        --------------  -----  \n",
      " 0   id            53 non-null     object \n",
      " 1   name          53 non-null     object \n",
      " 2   brewery_type  53 non-null     object \n",
      " 3   street        45 non-null     object \n",
      " 4   city          53 non-null     object \n",
      " 5   state         53 non-null     object \n",
      " 6   postal_code   53 non-null     object \n",
      " 7   website_url   46 non-null     object \n",
      " 8   phone         50 non-null     float64\n",
      " 9   created_at    53 non-null     object \n",
      " 10  updated_at    53 non-null     object \n",
      " 11  country       53 non-null     object \n",
      " 12  longitude     31 non-null     float64\n",
      " 13  latitude      31 non-null     float64\n",
      "dtypes: float64(3), object(11)\n",
      "memory usage: 5.9+ KB\n"
     ]
    }
   ],
   "source": [
    "df.info()"
   ]
  },
  {
   "cell_type": "code",
   "execution_count": 227,
   "metadata": {},
   "outputs": [
    {
     "data": {
      "text/html": [
       "<div>\n",
       "<style scoped>\n",
       "    .dataframe tbody tr th:only-of-type {\n",
       "        vertical-align: middle;\n",
       "    }\n",
       "\n",
       "    .dataframe tbody tr th {\n",
       "        vertical-align: top;\n",
       "    }\n",
       "\n",
       "    .dataframe thead th {\n",
       "        text-align: right;\n",
       "    }\n",
       "</style>\n",
       "<table border=\"1\" class=\"dataframe\">\n",
       "  <thead>\n",
       "    <tr style=\"text-align: right;\">\n",
       "      <th></th>\n",
       "      <th>id</th>\n",
       "      <th>name</th>\n",
       "      <th>brewery_type</th>\n",
       "      <th>street</th>\n",
       "      <th>city</th>\n",
       "      <th>state</th>\n",
       "      <th>postal_code</th>\n",
       "      <th>website_url</th>\n",
       "      <th>phone</th>\n",
       "      <th>created_at</th>\n",
       "      <th>updated_at</th>\n",
       "      <th>country</th>\n",
       "      <th>longitude</th>\n",
       "      <th>latitude</th>\n",
       "    </tr>\n",
       "  </thead>\n",
       "  <tbody>\n",
       "    <tr>\n",
       "      <th>0</th>\n",
       "      <td>backswing-brewing-co-lincoln</td>\n",
       "      <td>Backswing Brewing Co.</td>\n",
       "      <td>micro</td>\n",
       "      <td>500 W South St Ste 8</td>\n",
       "      <td>Lincoln</td>\n",
       "      <td>Nebraska</td>\n",
       "      <td>68522-1744</td>\n",
       "      <td>http://www.backswingbrewing.com</td>\n",
       "      <td>4.025154e+09</td>\n",
       "      <td>2018-07-24 01:33:43</td>\n",
       "      <td>2018-08-11 21:38:14</td>\n",
       "      <td>United States</td>\n",
       "      <td>NaN</td>\n",
       "      <td>NaN</td>\n",
       "    </tr>\n",
       "    <tr>\n",
       "      <th>1</th>\n",
       "      <td>barley-boys-brewery-omaha</td>\n",
       "      <td>Barley Boys Brewery</td>\n",
       "      <td>planning</td>\n",
       "      <td>NaN</td>\n",
       "      <td>Omaha</td>\n",
       "      <td>Nebraska</td>\n",
       "      <td>68144-1922</td>\n",
       "      <td>http://www.barleyboysbrewery.com</td>\n",
       "      <td>4.025986e+09</td>\n",
       "      <td>2018-07-24 01:33:43</td>\n",
       "      <td>2018-08-11 21:38:14</td>\n",
       "      <td>United States</td>\n",
       "      <td>NaN</td>\n",
       "      <td>NaN</td>\n",
       "    </tr>\n",
       "    <tr>\n",
       "      <th>2</th>\n",
       "      <td>benson-brewery-omaha</td>\n",
       "      <td>Benson Brewery</td>\n",
       "      <td>brewpub</td>\n",
       "      <td>6059 Maple St</td>\n",
       "      <td>Omaha</td>\n",
       "      <td>Nebraska</td>\n",
       "      <td>68104-4050</td>\n",
       "      <td>http://www.bensonbrewery.com</td>\n",
       "      <td>4.029349e+09</td>\n",
       "      <td>2018-07-24 01:33:43</td>\n",
       "      <td>2018-08-24 00:47:32</td>\n",
       "      <td>United States</td>\n",
       "      <td>-96.006345</td>\n",
       "      <td>41.284898</td>\n",
       "    </tr>\n",
       "    <tr>\n",
       "      <th>3</th>\n",
       "      <td>blue-blood-brewing-company-lincoln</td>\n",
       "      <td>Blue Blood Brewing Company</td>\n",
       "      <td>brewpub</td>\n",
       "      <td>925 Robbers Cave Rd</td>\n",
       "      <td>Lincoln</td>\n",
       "      <td>Nebraska</td>\n",
       "      <td>68502</td>\n",
       "      <td>http://www.bluebloodbrewing.com</td>\n",
       "      <td>4.024772e+09</td>\n",
       "      <td>2018-07-24 01:33:43</td>\n",
       "      <td>2018-08-24 00:47:33</td>\n",
       "      <td>United States</td>\n",
       "      <td>-96.707014</td>\n",
       "      <td>40.779996</td>\n",
       "    </tr>\n",
       "    <tr>\n",
       "      <th>4</th>\n",
       "      <td>boiler-brewing-company-lincoln</td>\n",
       "      <td>Boiler Brewing Company</td>\n",
       "      <td>micro</td>\n",
       "      <td>129 N 10th St Ste 8</td>\n",
       "      <td>Lincoln</td>\n",
       "      <td>Nebraska</td>\n",
       "      <td>68508-3633</td>\n",
       "      <td>http://www.boilerbrewingcompany.com</td>\n",
       "      <td>4.022619e+09</td>\n",
       "      <td>2018-07-24 01:33:43</td>\n",
       "      <td>2018-08-11 21:38:14</td>\n",
       "      <td>United States</td>\n",
       "      <td>NaN</td>\n",
       "      <td>NaN</td>\n",
       "    </tr>\n",
       "  </tbody>\n",
       "</table>\n",
       "</div>"
      ],
      "text/plain": [
       "                                   id                        name  \\\n",
       "0        backswing-brewing-co-lincoln       Backswing Brewing Co.   \n",
       "1           barley-boys-brewery-omaha         Barley Boys Brewery   \n",
       "2                benson-brewery-omaha              Benson Brewery   \n",
       "3  blue-blood-brewing-company-lincoln  Blue Blood Brewing Company   \n",
       "4      boiler-brewing-company-lincoln      Boiler Brewing Company   \n",
       "\n",
       "  brewery_type                street     city     state postal_code  \\\n",
       "0        micro  500 W South St Ste 8  Lincoln  Nebraska  68522-1744   \n",
       "1     planning                   NaN    Omaha  Nebraska  68144-1922   \n",
       "2      brewpub         6059 Maple St    Omaha  Nebraska  68104-4050   \n",
       "3      brewpub   925 Robbers Cave Rd  Lincoln  Nebraska       68502   \n",
       "4        micro   129 N 10th St Ste 8  Lincoln  Nebraska  68508-3633   \n",
       "\n",
       "                           website_url         phone           created_at  \\\n",
       "0      http://www.backswingbrewing.com  4.025154e+09  2018-07-24 01:33:43   \n",
       "1     http://www.barleyboysbrewery.com  4.025986e+09  2018-07-24 01:33:43   \n",
       "2         http://www.bensonbrewery.com  4.029349e+09  2018-07-24 01:33:43   \n",
       "3      http://www.bluebloodbrewing.com  4.024772e+09  2018-07-24 01:33:43   \n",
       "4  http://www.boilerbrewingcompany.com  4.022619e+09  2018-07-24 01:33:43   \n",
       "\n",
       "            updated_at        country  longitude   latitude  \n",
       "0  2018-08-11 21:38:14  United States        NaN        NaN  \n",
       "1  2018-08-11 21:38:14  United States        NaN        NaN  \n",
       "2  2018-08-24 00:47:32  United States -96.006345  41.284898  \n",
       "3  2018-08-24 00:47:33  United States -96.707014  40.779996  \n",
       "4  2018-08-11 21:38:14  United States        NaN        NaN  "
      ]
     },
     "execution_count": 227,
     "metadata": {},
     "output_type": "execute_result"
    }
   ],
   "source": [
    "df.head()"
   ]
  },
  {
   "cell_type": "markdown",
   "metadata": {},
   "source": [
    "#### 2) Some breweries are still in the planning stage. Let's remove them because they're not brewing yet:"
   ]
  },
  {
   "cell_type": "code",
   "execution_count": 228,
   "metadata": {},
   "outputs": [],
   "source": [
    "brewersDF = df[df['brewery_type'] != 'planning']"
   ]
  },
  {
   "cell_type": "code",
   "execution_count": 229,
   "metadata": {},
   "outputs": [],
   "source": [
    "# brewersDF.head()"
   ]
  },
  {
   "cell_type": "code",
   "execution_count": 230,
   "metadata": {},
   "outputs": [
    {
     "name": "stdout",
     "output_type": "stream",
     "text": [
      "<class 'pandas.core.frame.DataFrame'>\n",
      "Int64Index: 45 entries, 0 to 52\n",
      "Data columns (total 14 columns):\n",
      " #   Column        Non-Null Count  Dtype  \n",
      "---  ------        --------------  -----  \n",
      " 0   id            45 non-null     object \n",
      " 1   name          45 non-null     object \n",
      " 2   brewery_type  45 non-null     object \n",
      " 3   street        45 non-null     object \n",
      " 4   city          45 non-null     object \n",
      " 5   state         45 non-null     object \n",
      " 6   postal_code   45 non-null     object \n",
      " 7   website_url   40 non-null     object \n",
      " 8   phone         43 non-null     float64\n",
      " 9   created_at    45 non-null     object \n",
      " 10  updated_at    45 non-null     object \n",
      " 11  country       45 non-null     object \n",
      " 12  longitude     31 non-null     float64\n",
      " 13  latitude      31 non-null     float64\n",
      "dtypes: float64(3), object(11)\n",
      "memory usage: 5.3+ KB\n"
     ]
    }
   ],
   "source": [
    "brewersDF.info()"
   ]
  },
  {
   "cell_type": "code",
   "execution_count": 231,
   "metadata": {},
   "outputs": [
    {
     "data": {
      "text/html": [
       "<div>\n",
       "<style scoped>\n",
       "    .dataframe tbody tr th:only-of-type {\n",
       "        vertical-align: middle;\n",
       "    }\n",
       "\n",
       "    .dataframe tbody tr th {\n",
       "        vertical-align: top;\n",
       "    }\n",
       "\n",
       "    .dataframe thead th {\n",
       "        text-align: right;\n",
       "    }\n",
       "</style>\n",
       "<table border=\"1\" class=\"dataframe\">\n",
       "  <thead>\n",
       "    <tr style=\"text-align: right;\">\n",
       "      <th></th>\n",
       "      <th>id</th>\n",
       "      <th>name</th>\n",
       "      <th>brewery_type</th>\n",
       "      <th>street</th>\n",
       "      <th>city</th>\n",
       "      <th>state</th>\n",
       "      <th>postal_code</th>\n",
       "      <th>website_url</th>\n",
       "      <th>phone</th>\n",
       "      <th>created_at</th>\n",
       "      <th>updated_at</th>\n",
       "      <th>country</th>\n",
       "      <th>longitude</th>\n",
       "      <th>latitude</th>\n",
       "    </tr>\n",
       "  </thead>\n",
       "  <tbody>\n",
       "    <tr>\n",
       "      <th>0</th>\n",
       "      <td>backswing-brewing-co-lincoln</td>\n",
       "      <td>Backswing Brewing Co.</td>\n",
       "      <td>micro</td>\n",
       "      <td>500 W South St Ste 8</td>\n",
       "      <td>Lincoln</td>\n",
       "      <td>Nebraska</td>\n",
       "      <td>68522-1744</td>\n",
       "      <td>http://www.backswingbrewing.com</td>\n",
       "      <td>4.025154e+09</td>\n",
       "      <td>2018-07-24 01:33:43</td>\n",
       "      <td>2018-08-11 21:38:14</td>\n",
       "      <td>United States</td>\n",
       "      <td>NaN</td>\n",
       "      <td>NaN</td>\n",
       "    </tr>\n",
       "    <tr>\n",
       "      <th>2</th>\n",
       "      <td>benson-brewery-omaha</td>\n",
       "      <td>Benson Brewery</td>\n",
       "      <td>brewpub</td>\n",
       "      <td>6059 Maple St</td>\n",
       "      <td>Omaha</td>\n",
       "      <td>Nebraska</td>\n",
       "      <td>68104-4050</td>\n",
       "      <td>http://www.bensonbrewery.com</td>\n",
       "      <td>4.029349e+09</td>\n",
       "      <td>2018-07-24 01:33:43</td>\n",
       "      <td>2018-08-24 00:47:32</td>\n",
       "      <td>United States</td>\n",
       "      <td>-96.006345</td>\n",
       "      <td>41.284898</td>\n",
       "    </tr>\n",
       "    <tr>\n",
       "      <th>3</th>\n",
       "      <td>blue-blood-brewing-company-lincoln</td>\n",
       "      <td>Blue Blood Brewing Company</td>\n",
       "      <td>brewpub</td>\n",
       "      <td>925 Robbers Cave Rd</td>\n",
       "      <td>Lincoln</td>\n",
       "      <td>Nebraska</td>\n",
       "      <td>68502</td>\n",
       "      <td>http://www.bluebloodbrewing.com</td>\n",
       "      <td>4.024772e+09</td>\n",
       "      <td>2018-07-24 01:33:43</td>\n",
       "      <td>2018-08-24 00:47:33</td>\n",
       "      <td>United States</td>\n",
       "      <td>-96.707014</td>\n",
       "      <td>40.779996</td>\n",
       "    </tr>\n",
       "    <tr>\n",
       "      <th>4</th>\n",
       "      <td>boiler-brewing-company-lincoln</td>\n",
       "      <td>Boiler Brewing Company</td>\n",
       "      <td>micro</td>\n",
       "      <td>129 N 10th St Ste 8</td>\n",
       "      <td>Lincoln</td>\n",
       "      <td>Nebraska</td>\n",
       "      <td>68508-3633</td>\n",
       "      <td>http://www.boilerbrewingcompany.com</td>\n",
       "      <td>4.022619e+09</td>\n",
       "      <td>2018-07-24 01:33:43</td>\n",
       "      <td>2018-08-11 21:38:14</td>\n",
       "      <td>United States</td>\n",
       "      <td>NaN</td>\n",
       "      <td>NaN</td>\n",
       "    </tr>\n",
       "    <tr>\n",
       "      <th>5</th>\n",
       "      <td>bolo-beer-co-valentine</td>\n",
       "      <td>Bolo Beer Co</td>\n",
       "      <td>micro</td>\n",
       "      <td>420 E 1st St</td>\n",
       "      <td>Valentine</td>\n",
       "      <td>Nebraska</td>\n",
       "      <td>69201-1904</td>\n",
       "      <td>http://www.bolobeer.com</td>\n",
       "      <td>NaN</td>\n",
       "      <td>2018-07-24 01:33:43</td>\n",
       "      <td>2018-08-24 00:47:34</td>\n",
       "      <td>United States</td>\n",
       "      <td>-100.545728</td>\n",
       "      <td>42.872047</td>\n",
       "    </tr>\n",
       "  </tbody>\n",
       "</table>\n",
       "</div>"
      ],
      "text/plain": [
       "                                   id                        name  \\\n",
       "0        backswing-brewing-co-lincoln       Backswing Brewing Co.   \n",
       "2                benson-brewery-omaha              Benson Brewery   \n",
       "3  blue-blood-brewing-company-lincoln  Blue Blood Brewing Company   \n",
       "4      boiler-brewing-company-lincoln      Boiler Brewing Company   \n",
       "5              bolo-beer-co-valentine                Bolo Beer Co   \n",
       "\n",
       "  brewery_type                street       city     state postal_code  \\\n",
       "0        micro  500 W South St Ste 8    Lincoln  Nebraska  68522-1744   \n",
       "2      brewpub         6059 Maple St      Omaha  Nebraska  68104-4050   \n",
       "3      brewpub   925 Robbers Cave Rd    Lincoln  Nebraska       68502   \n",
       "4        micro   129 N 10th St Ste 8    Lincoln  Nebraska  68508-3633   \n",
       "5        micro          420 E 1st St  Valentine  Nebraska  69201-1904   \n",
       "\n",
       "                           website_url         phone           created_at  \\\n",
       "0      http://www.backswingbrewing.com  4.025154e+09  2018-07-24 01:33:43   \n",
       "2         http://www.bensonbrewery.com  4.029349e+09  2018-07-24 01:33:43   \n",
       "3      http://www.bluebloodbrewing.com  4.024772e+09  2018-07-24 01:33:43   \n",
       "4  http://www.boilerbrewingcompany.com  4.022619e+09  2018-07-24 01:33:43   \n",
       "5              http://www.bolobeer.com           NaN  2018-07-24 01:33:43   \n",
       "\n",
       "            updated_at        country   longitude   latitude  \n",
       "0  2018-08-11 21:38:14  United States         NaN        NaN  \n",
       "2  2018-08-24 00:47:32  United States  -96.006345  41.284898  \n",
       "3  2018-08-24 00:47:33  United States  -96.707014  40.779996  \n",
       "4  2018-08-11 21:38:14  United States         NaN        NaN  \n",
       "5  2018-08-24 00:47:34  United States -100.545728  42.872047  "
      ]
     },
     "execution_count": 231,
     "metadata": {},
     "output_type": "execute_result"
    }
   ],
   "source": [
    "brewersDF.head()"
   ]
  },
  {
   "cell_type": "markdown",
   "metadata": {},
   "source": [
    "#### 3) Remove 'created_at' and 'updated_at' columns as they are not usful for analysis."
   ]
  },
  {
   "cell_type": "code",
   "execution_count": 232,
   "metadata": {},
   "outputs": [],
   "source": [
    "brewersDF = brewersDF.drop(['created_at', 'updated_at'], axis=1)"
   ]
  },
  {
   "cell_type": "code",
   "execution_count": 233,
   "metadata": {},
   "outputs": [],
   "source": [
    "# brewersDF.drop(['created_at', 'updated_at'], axis=1, inplace=True)"
   ]
  },
  {
   "cell_type": "code",
   "execution_count": 234,
   "metadata": {},
   "outputs": [
    {
     "data": {
      "text/plain": [
       "Index(['id', 'name', 'brewery_type', 'street', 'city', 'state', 'postal_code',\n",
       "       'website_url', 'phone', 'country', 'longitude', 'latitude'],\n",
       "      dtype='object')"
      ]
     },
     "execution_count": 234,
     "metadata": {},
     "output_type": "execute_result"
    }
   ],
   "source": [
    "brewersDF.columns"
   ]
  },
  {
   "cell_type": "markdown",
   "metadata": {},
   "source": [
    "#### 4) Remove 'country' column because we're only dealing with US breweries, so this information is irrelevant:"
   ]
  },
  {
   "cell_type": "code",
   "execution_count": 235,
   "metadata": {},
   "outputs": [],
   "source": [
    "brewersDF.drop(['country'], axis=1, inplace=True)"
   ]
  },
  {
   "cell_type": "code",
   "execution_count": 236,
   "metadata": {},
   "outputs": [
    {
     "data": {
      "text/plain": [
       "Index(['id', 'name', 'brewery_type', 'street', 'city', 'state', 'postal_code',\n",
       "       'website_url', 'phone', 'longitude', 'latitude'],\n",
       "      dtype='object')"
      ]
     },
     "execution_count": 236,
     "metadata": {},
     "output_type": "execute_result"
    }
   ],
   "source": [
    "brewersDF.columns"
   ]
  },
  {
   "cell_type": "markdown",
   "metadata": {},
   "source": [
    "#### 5) Create a column, 'zip5' with just the 5-digit zip code, for consistency:"
   ]
  },
  {
   "cell_type": "code",
   "execution_count": 237,
   "metadata": {},
   "outputs": [],
   "source": [
    "brewersDF['zip5'] = brewersDF['postal_code'].str[:5]"
   ]
  },
  {
   "cell_type": "code",
   "execution_count": 238,
   "metadata": {},
   "outputs": [
    {
     "data": {
      "text/html": [
       "<div>\n",
       "<style scoped>\n",
       "    .dataframe tbody tr th:only-of-type {\n",
       "        vertical-align: middle;\n",
       "    }\n",
       "\n",
       "    .dataframe tbody tr th {\n",
       "        vertical-align: top;\n",
       "    }\n",
       "\n",
       "    .dataframe thead th {\n",
       "        text-align: right;\n",
       "    }\n",
       "</style>\n",
       "<table border=\"1\" class=\"dataframe\">\n",
       "  <thead>\n",
       "    <tr style=\"text-align: right;\">\n",
       "      <th></th>\n",
       "      <th>zip5</th>\n",
       "      <th>postal_code</th>\n",
       "    </tr>\n",
       "  </thead>\n",
       "  <tbody>\n",
       "    <tr>\n",
       "      <th>0</th>\n",
       "      <td>68522</td>\n",
       "      <td>68522-1744</td>\n",
       "    </tr>\n",
       "    <tr>\n",
       "      <th>2</th>\n",
       "      <td>68104</td>\n",
       "      <td>68104-4050</td>\n",
       "    </tr>\n",
       "    <tr>\n",
       "      <th>3</th>\n",
       "      <td>68502</td>\n",
       "      <td>68502</td>\n",
       "    </tr>\n",
       "    <tr>\n",
       "      <th>4</th>\n",
       "      <td>68508</td>\n",
       "      <td>68508-3633</td>\n",
       "    </tr>\n",
       "    <tr>\n",
       "      <th>5</th>\n",
       "      <td>69201</td>\n",
       "      <td>69201-1904</td>\n",
       "    </tr>\n",
       "  </tbody>\n",
       "</table>\n",
       "</div>"
      ],
      "text/plain": [
       "    zip5 postal_code\n",
       "0  68522  68522-1744\n",
       "2  68104  68104-4050\n",
       "3  68502       68502\n",
       "4  68508  68508-3633\n",
       "5  69201  69201-1904"
      ]
     },
     "execution_count": 238,
     "metadata": {},
     "output_type": "execute_result"
    }
   ],
   "source": [
    "brewersDF[['zip5', 'postal_code']].head()"
   ]
  },
  {
   "cell_type": "markdown",
   "metadata": {},
   "source": [
    "#### 6) Check for and remove duplicates:"
   ]
  },
  {
   "cell_type": "code",
   "execution_count": 239,
   "metadata": {},
   "outputs": [
    {
     "name": "stdout",
     "output_type": "stream",
     "text": [
      "Duplicates in:\n",
      "             id: False\n",
      "           name: True\n",
      "   brewery_type: True\n",
      "         street: False\n",
      "           city: True\n",
      "          state: True\n",
      "    postal_code: False\n",
      "    website_url: True\n",
      "          phone: True\n",
      "      longitude: True\n",
      "       latitude: True\n",
      "           zip5: True\n"
     ]
    }
   ],
   "source": [
    "print(\"Duplicates in:\")\n",
    "for name in brewersDF.columns:\n",
    "    print(\"{:>15}:\".format(name), any(brewersDF[name].duplicated()))"
   ]
  },
  {
   "cell_type": "markdown",
   "metadata": {},
   "source": [
    "It isn't unreasonable that these columns would have duplicates because some breweries have multiple locations. Since some variables do not contain duplicates, I will not look for entirely duplicated rows."
   ]
  },
  {
   "cell_type": "markdown",
   "metadata": {},
   "source": [
    "#### 7) Fix phone numbers that are showing up in scientific notation:"
   ]
  },
  {
   "cell_type": "code",
   "execution_count": 240,
   "metadata": {},
   "outputs": [
    {
     "name": "stdout",
     "output_type": "stream",
     "text": [
      "<class 'pandas.core.frame.DataFrame'>\n",
      "Int64Index: 45 entries, 0 to 52\n",
      "Data columns (total 12 columns):\n",
      " #   Column        Non-Null Count  Dtype  \n",
      "---  ------        --------------  -----  \n",
      " 0   id            45 non-null     object \n",
      " 1   name          45 non-null     object \n",
      " 2   brewery_type  45 non-null     object \n",
      " 3   street        45 non-null     object \n",
      " 4   city          45 non-null     object \n",
      " 5   state         45 non-null     object \n",
      " 6   postal_code   45 non-null     object \n",
      " 7   website_url   40 non-null     object \n",
      " 8   phone         43 non-null     float64\n",
      " 9   longitude     31 non-null     float64\n",
      " 10  latitude      31 non-null     float64\n",
      " 11  zip5          45 non-null     object \n",
      "dtypes: float64(3), object(9)\n",
      "memory usage: 4.6+ KB\n"
     ]
    }
   ],
   "source": [
    "brewersDF.info()"
   ]
  },
  {
   "cell_type": "code",
   "execution_count": 241,
   "metadata": {},
   "outputs": [],
   "source": [
    "# test = brewersDF"
   ]
  },
  {
   "cell_type": "code",
   "execution_count": 242,
   "metadata": {},
   "outputs": [],
   "source": [
    "# brewersDF['phone'].isna().any()"
   ]
  },
  {
   "cell_type": "markdown",
   "metadata": {},
   "source": [
    "Because some phone numbers are missing (Nan) I will need to change them to 0 before converting to integers."
   ]
  },
  {
   "cell_type": "code",
   "execution_count": 243,
   "metadata": {},
   "outputs": [],
   "source": [
    "brewersDF['phone'] = brewersDF['phone'].fillna(0.0).apply(np.int64)"
   ]
  },
  {
   "cell_type": "code",
   "execution_count": 244,
   "metadata": {},
   "outputs": [
    {
     "data": {
      "text/plain": [
       "0     4025154263\n",
       "2     4029348668\n",
       "3     4024772337\n",
       "4     4022618775\n",
       "5              0\n",
       "6     3089423440\n",
       "7     4023045673\n",
       "9     4029332613\n",
       "10    4029252629\n",
       "11    4023185888\n",
       "Name: phone, dtype: int64"
      ]
     },
     "execution_count": 244,
     "metadata": {},
     "output_type": "execute_result"
    }
   ],
   "source": [
    "brewersDF.phone.head(10)"
   ]
  },
  {
   "cell_type": "code",
   "execution_count": 245,
   "metadata": {},
   "outputs": [
    {
     "data": {
      "text/html": [
       "<div>\n",
       "<style scoped>\n",
       "    .dataframe tbody tr th:only-of-type {\n",
       "        vertical-align: middle;\n",
       "    }\n",
       "\n",
       "    .dataframe tbody tr th {\n",
       "        vertical-align: top;\n",
       "    }\n",
       "\n",
       "    .dataframe thead th {\n",
       "        text-align: right;\n",
       "    }\n",
       "</style>\n",
       "<table border=\"1\" class=\"dataframe\">\n",
       "  <thead>\n",
       "    <tr style=\"text-align: right;\">\n",
       "      <th></th>\n",
       "      <th>id</th>\n",
       "      <th>name</th>\n",
       "      <th>brewery_type</th>\n",
       "      <th>street</th>\n",
       "      <th>city</th>\n",
       "      <th>state</th>\n",
       "      <th>postal_code</th>\n",
       "      <th>website_url</th>\n",
       "      <th>phone</th>\n",
       "      <th>longitude</th>\n",
       "      <th>latitude</th>\n",
       "      <th>zip5</th>\n",
       "    </tr>\n",
       "  </thead>\n",
       "  <tbody>\n",
       "    <tr>\n",
       "      <th>5</th>\n",
       "      <td>bolo-beer-co-valentine</td>\n",
       "      <td>Bolo Beer Co</td>\n",
       "      <td>micro</td>\n",
       "      <td>420 E 1st St</td>\n",
       "      <td>Valentine</td>\n",
       "      <td>Nebraska</td>\n",
       "      <td>69201-1904</td>\n",
       "      <td>http://www.bolobeer.com</td>\n",
       "      <td>0</td>\n",
       "      <td>-100.545728</td>\n",
       "      <td>42.872047</td>\n",
       "      <td>69201</td>\n",
       "    </tr>\n",
       "    <tr>\n",
       "      <th>22</th>\n",
       "      <td>green-flash-brewing-co-lincoln</td>\n",
       "      <td>Green Flash Brewing Co</td>\n",
       "      <td>brewpub</td>\n",
       "      <td>1630 P St</td>\n",
       "      <td>Lincoln</td>\n",
       "      <td>Nebraska</td>\n",
       "      <td>68508-1644</td>\n",
       "      <td>NaN</td>\n",
       "      <td>0</td>\n",
       "      <td>-96.697680</td>\n",
       "      <td>40.814811</td>\n",
       "      <td>68508</td>\n",
       "    </tr>\n",
       "  </tbody>\n",
       "</table>\n",
       "</div>"
      ],
      "text/plain": [
       "                                id                    name brewery_type  \\\n",
       "5           bolo-beer-co-valentine            Bolo Beer Co        micro   \n",
       "22  green-flash-brewing-co-lincoln  Green Flash Brewing Co      brewpub   \n",
       "\n",
       "          street       city     state postal_code              website_url  \\\n",
       "5   420 E 1st St  Valentine  Nebraska  69201-1904  http://www.bolobeer.com   \n",
       "22     1630 P St    Lincoln  Nebraska  68508-1644                      NaN   \n",
       "\n",
       "    phone   longitude   latitude   zip5  \n",
       "5       0 -100.545728  42.872047  69201  \n",
       "22      0  -96.697680  40.814811  68508  "
      ]
     },
     "execution_count": 245,
     "metadata": {},
     "output_type": "execute_result"
    }
   ],
   "source": [
    "brewersDF[brewersDF['phone'] == 0]"
   ]
  },
  {
   "cell_type": "markdown",
   "metadata": {},
   "source": [
    "Of the two breweries that are missing phone numbers, Green Flash has closed and I was able to find the phone number for Bolo on their website. I'll remove the Green Flash row and add a phone number for Bolo."
   ]
  },
  {
   "cell_type": "code",
   "execution_count": 246,
   "metadata": {},
   "outputs": [],
   "source": [
    "brewersDF.drop(22, inplace=True)"
   ]
  },
  {
   "cell_type": "code",
   "execution_count": 247,
   "metadata": {},
   "outputs": [
    {
     "data": {
      "text/html": [
       "<div>\n",
       "<style scoped>\n",
       "    .dataframe tbody tr th:only-of-type {\n",
       "        vertical-align: middle;\n",
       "    }\n",
       "\n",
       "    .dataframe tbody tr th {\n",
       "        vertical-align: top;\n",
       "    }\n",
       "\n",
       "    .dataframe thead th {\n",
       "        text-align: right;\n",
       "    }\n",
       "</style>\n",
       "<table border=\"1\" class=\"dataframe\">\n",
       "  <thead>\n",
       "    <tr style=\"text-align: right;\">\n",
       "      <th></th>\n",
       "      <th>id</th>\n",
       "      <th>name</th>\n",
       "      <th>brewery_type</th>\n",
       "      <th>street</th>\n",
       "      <th>city</th>\n",
       "      <th>state</th>\n",
       "      <th>postal_code</th>\n",
       "      <th>website_url</th>\n",
       "      <th>phone</th>\n",
       "      <th>longitude</th>\n",
       "      <th>latitude</th>\n",
       "      <th>zip5</th>\n",
       "    </tr>\n",
       "  </thead>\n",
       "  <tbody>\n",
       "    <tr>\n",
       "      <th>19</th>\n",
       "      <td>gottberg-brew-pub-columbus</td>\n",
       "      <td>Gottberg Brew Pub</td>\n",
       "      <td>brewpub</td>\n",
       "      <td>2804 13th St</td>\n",
       "      <td>Columbus</td>\n",
       "      <td>Nebraska</td>\n",
       "      <td>68601-4919</td>\n",
       "      <td>http://www.dustersrestaurant.com</td>\n",
       "      <td>4025626488</td>\n",
       "      <td>-97.362127</td>\n",
       "      <td>41.429401</td>\n",
       "      <td>68601</td>\n",
       "    </tr>\n",
       "    <tr>\n",
       "      <th>20</th>\n",
       "      <td>granite-city-food-brewery-16-omaha</td>\n",
       "      <td>Granite City Food &amp; Brewery (#16)</td>\n",
       "      <td>brewpub</td>\n",
       "      <td>1001 N 102nd St</td>\n",
       "      <td>Omaha</td>\n",
       "      <td>Nebraska</td>\n",
       "      <td>68114-2155</td>\n",
       "      <td>http://www.gcfb.net</td>\n",
       "      <td>4023935000</td>\n",
       "      <td>-96.071539</td>\n",
       "      <td>41.268008</td>\n",
       "      <td>68114</td>\n",
       "    </tr>\n",
       "    <tr>\n",
       "      <th>21</th>\n",
       "      <td>granite-city-food-brewery-7-lincoln</td>\n",
       "      <td>Granite City Food &amp; Brewery (#7)</td>\n",
       "      <td>brewpub</td>\n",
       "      <td>6200 O St</td>\n",
       "      <td>Lincoln</td>\n",
       "      <td>Nebraska</td>\n",
       "      <td>68510-2240</td>\n",
       "      <td>http://www.gcfb.net</td>\n",
       "      <td>4024661900</td>\n",
       "      <td>-96.687233</td>\n",
       "      <td>40.813589</td>\n",
       "      <td>68510</td>\n",
       "    </tr>\n",
       "    <tr>\n",
       "      <th>23</th>\n",
       "      <td>hanging-horseshoe-brewing-company-imperial</td>\n",
       "      <td>Hanging Horseshoe Brewing Company</td>\n",
       "      <td>micro</td>\n",
       "      <td>73892 332 Ave</td>\n",
       "      <td>Imperial</td>\n",
       "      <td>Nebraska</td>\n",
       "      <td>69033-</td>\n",
       "      <td>NaN</td>\n",
       "      <td>3088827772</td>\n",
       "      <td>NaN</td>\n",
       "      <td>NaN</td>\n",
       "      <td>69033</td>\n",
       "    </tr>\n",
       "    <tr>\n",
       "      <th>24</th>\n",
       "      <td>infusion-brewing-company-omaha</td>\n",
       "      <td>Infusion Brewing Company</td>\n",
       "      <td>micro</td>\n",
       "      <td>6115 Maple St</td>\n",
       "      <td>Omaha</td>\n",
       "      <td>Nebraska</td>\n",
       "      <td>68104-4043</td>\n",
       "      <td>http://www.infusionbrewing.com</td>\n",
       "      <td>4029342064</td>\n",
       "      <td>-96.007724</td>\n",
       "      <td>41.284907</td>\n",
       "      <td>68104</td>\n",
       "    </tr>\n",
       "  </tbody>\n",
       "</table>\n",
       "</div>"
      ],
      "text/plain": [
       "                                            id  \\\n",
       "19                  gottberg-brew-pub-columbus   \n",
       "20          granite-city-food-brewery-16-omaha   \n",
       "21         granite-city-food-brewery-7-lincoln   \n",
       "23  hanging-horseshoe-brewing-company-imperial   \n",
       "24              infusion-brewing-company-omaha   \n",
       "\n",
       "                                 name brewery_type           street      city  \\\n",
       "19                  Gottberg Brew Pub      brewpub     2804 13th St  Columbus   \n",
       "20  Granite City Food & Brewery (#16)      brewpub  1001 N 102nd St     Omaha   \n",
       "21   Granite City Food & Brewery (#7)      brewpub        6200 O St   Lincoln   \n",
       "23  Hanging Horseshoe Brewing Company        micro    73892 332 Ave  Imperial   \n",
       "24           Infusion Brewing Company        micro    6115 Maple St     Omaha   \n",
       "\n",
       "       state postal_code                       website_url       phone  \\\n",
       "19  Nebraska  68601-4919  http://www.dustersrestaurant.com  4025626488   \n",
       "20  Nebraska  68114-2155               http://www.gcfb.net  4023935000   \n",
       "21  Nebraska  68510-2240               http://www.gcfb.net  4024661900   \n",
       "23  Nebraska      69033-                               NaN  3088827772   \n",
       "24  Nebraska  68104-4043    http://www.infusionbrewing.com  4029342064   \n",
       "\n",
       "    longitude   latitude   zip5  \n",
       "19 -97.362127  41.429401  68601  \n",
       "20 -96.071539  41.268008  68114  \n",
       "21 -96.687233  40.813589  68510  \n",
       "23        NaN        NaN  69033  \n",
       "24 -96.007724  41.284907  68104  "
      ]
     },
     "execution_count": 247,
     "metadata": {},
     "output_type": "execute_result"
    }
   ],
   "source": [
    "brewersDF[15:20]"
   ]
  },
  {
   "cell_type": "code",
   "execution_count": 248,
   "metadata": {},
   "outputs": [],
   "source": [
    "# brewersDF.index[22] # huh?"
   ]
  },
  {
   "cell_type": "code",
   "execution_count": 249,
   "metadata": {},
   "outputs": [],
   "source": [
    "# 4022595180"
   ]
  },
  {
   "cell_type": "code",
   "execution_count": 250,
   "metadata": {},
   "outputs": [],
   "source": [
    "# test = brewersDF"
   ]
  },
  {
   "cell_type": "code",
   "execution_count": 251,
   "metadata": {},
   "outputs": [],
   "source": [
    "brewersDF.at[5, 'phone'] = 4022595180"
   ]
  },
  {
   "cell_type": "code",
   "execution_count": 252,
   "metadata": {},
   "outputs": [],
   "source": [
    "# df.at['C', 'x'] = 10"
   ]
  },
  {
   "cell_type": "code",
   "execution_count": 253,
   "metadata": {},
   "outputs": [
    {
     "data": {
      "text/html": [
       "<div>\n",
       "<style scoped>\n",
       "    .dataframe tbody tr th:only-of-type {\n",
       "        vertical-align: middle;\n",
       "    }\n",
       "\n",
       "    .dataframe tbody tr th {\n",
       "        vertical-align: top;\n",
       "    }\n",
       "\n",
       "    .dataframe thead th {\n",
       "        text-align: right;\n",
       "    }\n",
       "</style>\n",
       "<table border=\"1\" class=\"dataframe\">\n",
       "  <thead>\n",
       "    <tr style=\"text-align: right;\">\n",
       "      <th></th>\n",
       "      <th>id</th>\n",
       "      <th>name</th>\n",
       "      <th>brewery_type</th>\n",
       "      <th>street</th>\n",
       "      <th>city</th>\n",
       "      <th>state</th>\n",
       "      <th>postal_code</th>\n",
       "      <th>website_url</th>\n",
       "      <th>phone</th>\n",
       "      <th>longitude</th>\n",
       "      <th>latitude</th>\n",
       "      <th>zip5</th>\n",
       "    </tr>\n",
       "  </thead>\n",
       "  <tbody>\n",
       "    <tr>\n",
       "      <th>5</th>\n",
       "      <td>bolo-beer-co-valentine</td>\n",
       "      <td>Bolo Beer Co</td>\n",
       "      <td>micro</td>\n",
       "      <td>420 E 1st St</td>\n",
       "      <td>Valentine</td>\n",
       "      <td>Nebraska</td>\n",
       "      <td>69201-1904</td>\n",
       "      <td>http://www.bolobeer.com</td>\n",
       "      <td>4022595180</td>\n",
       "      <td>-100.545728</td>\n",
       "      <td>42.872047</td>\n",
       "      <td>69201</td>\n",
       "    </tr>\n",
       "  </tbody>\n",
       "</table>\n",
       "</div>"
      ],
      "text/plain": [
       "                       id          name brewery_type        street       city  \\\n",
       "5  bolo-beer-co-valentine  Bolo Beer Co        micro  420 E 1st St  Valentine   \n",
       "\n",
       "      state postal_code              website_url       phone   longitude  \\\n",
       "5  Nebraska  69201-1904  http://www.bolobeer.com  4022595180 -100.545728   \n",
       "\n",
       "    latitude   zip5  \n",
       "5  42.872047  69201  "
      ]
     },
     "execution_count": 253,
     "metadata": {},
     "output_type": "execute_result"
    }
   ],
   "source": [
    "brewersDF[brewersDF['phone'] == 4022595180]"
   ]
  },
  {
   "cell_type": "code",
   "execution_count": 254,
   "metadata": {},
   "outputs": [],
   "source": [
    "# test.set_value(5, 'phone', 4022595180)  # Deprecated"
   ]
  },
  {
   "cell_type": "markdown",
   "metadata": {},
   "source": [
    "#### 8) Column Headers; Rearrange, Rename:"
   ]
  },
  {
   "cell_type": "markdown",
   "metadata": {},
   "source": [
    "Rearrange columns:"
   ]
  },
  {
   "cell_type": "code",
   "execution_count": 256,
   "metadata": {},
   "outputs": [
    {
     "data": {
      "text/plain": [
       "Index(['id', 'name', 'brewery_type', 'street', 'city', 'state', 'postal_code',\n",
       "       'website_url', 'phone', 'longitude', 'latitude', 'zip5'],\n",
       "      dtype='object')"
      ]
     },
     "execution_count": 256,
     "metadata": {},
     "output_type": "execute_result"
    }
   ],
   "source": [
    "brewersDF.columns"
   ]
  },
  {
   "cell_type": "code",
   "execution_count": 257,
   "metadata": {},
   "outputs": [],
   "source": [
    "cols = ['id', 'name', 'brewery_type', 'street', 'city', 'state', 'postal_code',\n",
    "       'zip5', 'website_url', 'phone', 'longitude', 'latitude']"
   ]
  },
  {
   "cell_type": "code",
   "execution_count": 261,
   "metadata": {},
   "outputs": [],
   "source": [
    "brewersDF = brewersDF[cols]"
   ]
  },
  {
   "cell_type": "code",
   "execution_count": 262,
   "metadata": {},
   "outputs": [
    {
     "data": {
      "text/plain": [
       "Index(['id', 'name', 'brewery_type', 'street', 'city', 'state', 'postal_code',\n",
       "       'zip5', 'website_url', 'phone', 'longitude', 'latitude'],\n",
       "      dtype='object')"
      ]
     },
     "execution_count": 262,
     "metadata": {},
     "output_type": "execute_result"
    }
   ],
   "source": [
    "brewersDF.columns"
   ]
  },
  {
   "cell_type": "code",
   "execution_count": 263,
   "metadata": {},
   "outputs": [],
   "source": [
    "headers = ['Brewery ID', 'Brewery Name', 'Type of Brewery', 'Street Address',\n",
    "          'City', 'State', 'Postal Code', '5-digit Zip', 'Website', 'Phone',\n",
    "          'Longitude', 'Latitude']"
   ]
  },
  {
   "cell_type": "code",
   "execution_count": 264,
   "metadata": {},
   "outputs": [],
   "source": [
    "test.columns = headers"
   ]
  },
  {
   "cell_type": "code",
   "execution_count": 265,
   "metadata": {},
   "outputs": [],
   "source": [
    "# >>> df.columns = ['a', 'b']"
   ]
  },
  {
   "cell_type": "code",
   "execution_count": 266,
   "metadata": {},
   "outputs": [
    {
     "data": {
      "text/plain": [
       "Index(['Brewery ID', 'Brewery Name', 'Type of Brewery', 'Street Address',\n",
       "       'City', 'State', 'Postal Code', '5-digit Zip', 'Website', 'Phone',\n",
       "       'Longitude', 'Latitude'],\n",
       "      dtype='object')"
      ]
     },
     "execution_count": 266,
     "metadata": {},
     "output_type": "execute_result"
    }
   ],
   "source": [
    "test.columns"
   ]
  },
  {
   "cell_type": "code",
   "execution_count": null,
   "metadata": {},
   "outputs": [],
   "source": []
  },
  {
   "cell_type": "code",
   "execution_count": null,
   "metadata": {},
   "outputs": [],
   "source": []
  },
  {
   "cell_type": "code",
   "execution_count": null,
   "metadata": {},
   "outputs": [],
   "source": []
  },
  {
   "cell_type": "markdown",
   "metadata": {},
   "source": [
    "TO DO:  \n",
    "* DONE--Remove columns with datetime info from web scraping\n",
    "* NA--~~Rename breweries (swap hyphens with spaces; Title Case; )~~ Wait, id is different than name\n",
    "* DONE--All breweries are US, so 'country' column can be removed\n",
    "* DONE--Add column for 5-digit zip\n",
    "  * Maybe remove hyphen from 'postal_code' where there are only 5 digits?\n",
    "  * Maybe get the 9-digit postal code?\n",
    "* DONE--\"Remove duplicates\"\n",
    "* DONE--Maybe fix phone #s (scientific notation)? float --> int\n",
    "  * Maybe reformat phone numbers? **\"Format data into a more readable format\"**\n",
    "    * https://stackoverflow.com/questions/51227601/python-format-phone-number/51227770\n",
    "* Rearrange columns\n",
    "  * Rename columns? **\"Replace Headers\"**\n",
    "* Brewery type, title case?\n",
    "* Maybe make a histogram to look for outliers?\n",
    "* Maybe get missing lat-long from addresses? Is this even useful?"
   ]
  },
  {
   "cell_type": "code",
   "execution_count": null,
   "metadata": {},
   "outputs": [],
   "source": []
  },
  {
   "cell_type": "code",
   "execution_count": null,
   "metadata": {},
   "outputs": [],
   "source": []
  },
  {
   "cell_type": "code",
   "execution_count": null,
   "metadata": {},
   "outputs": [],
   "source": []
  }
 ],
 "metadata": {
  "kernelspec": {
   "display_name": "Python 3",
   "language": "python",
   "name": "python3"
  },
  "language_info": {
   "codemirror_mode": {
    "name": "ipython",
    "version": 3
   },
   "file_extension": ".py",
   "mimetype": "text/x-python",
   "name": "python",
   "nbconvert_exporter": "python",
   "pygments_lexer": "ipython3",
   "version": "3.8.5"
  }
 },
 "nbformat": 4,
 "nbformat_minor": 4
}
