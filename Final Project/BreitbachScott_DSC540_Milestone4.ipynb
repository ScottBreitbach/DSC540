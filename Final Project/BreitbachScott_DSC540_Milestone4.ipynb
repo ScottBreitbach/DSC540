{
 "cells": [
  {
   "cell_type": "markdown",
   "metadata": {},
   "source": [
    "# Scott Breitbach\n",
    "## Milestone 4: Connecting to an API / Pulling in the Data and Cleaning / Formatting\n",
    "## 20-Feb-2021\n",
    "## DSC540, Weeks 9-10"
   ]
  },
  {
   "cell_type": "code",
   "execution_count": null,
   "metadata": {},
   "outputs": [],
   "source": [
    "import pandas as pd\n",
    "# import requests\n",
    "# import json\n",
    "import os\n",
    "from dotenv import load_dotenv\n",
    "%load_ext dotenv\n",
    "%dotenv"
   ]
  },
  {
   "cell_type": "code",
   "execution_count": null,
   "metadata": {},
   "outputs": [],
   "source": [
    "# load_dotenv(\"API_KEY\")"
   ]
  },
  {
   "cell_type": "code",
   "execution_count": 26,
   "metadata": {},
   "outputs": [],
   "source": [
    "# os.environ.get(\"API_KEY\")"
   ]
  },
  {
   "cell_type": "markdown",
   "metadata": {},
   "source": [
    "### Perform at least 5 data transformation and/or cleansing steps to your website data.\n",
    "For Example:\n",
    "* Replace Headers\n",
    "* Format data into a more readable format\n",
    "* Identify outliers and bad data\n",
    "* Find duplicates\n",
    "* Fix casing or inconsistent values\n",
    "* Conduct Fuzzy Matching"
   ]
  },
  {
   "cell_type": "markdown",
   "metadata": {},
   "source": [
    "# Nebraska Breweries"
   ]
  },
  {
   "cell_type": "markdown",
   "metadata": {},
   "source": [
    "### My struggle with getting API keys:"
   ]
  },
  {
   "cell_type": "markdown",
   "metadata": {},
   "source": [
    "Initially I tried to get an API key to Untappd.com, but they are restrictive in who they offer API keys to and my purposes did not qualify.  \n",
    "I treid twice in January to request an API from BreweryDB.com, and then learned that they are temporarily not offering API keys, though I did manage to get an API key to their sandbox, which contains a subset of their database.  \n",
    "My next backup plan was BeerMapping.com. I as able to obtain an API key and I spent a fair amount of time submitting updates to their database for breweries. This week, their website went down, so I went back to BreweryDB's sandbox. Once I got my code figured out for retrieving the data I wanted, I did a search for Nebraska, which returned 0 results. I was able to return a handful of breweries from Colorado, so I know the code was working, unfortunately there were just no Nebraska breweries in the sandbox.  \n",
    "It is Sunday morning now and in a last ditch effort, I checked BeerMapping.com again and it appears to be back up!"
   ]
  },
  {
   "cell_type": "code",
   "execution_count": null,
   "metadata": {},
   "outputs": [],
   "source": []
  }
 ],
 "metadata": {
  "kernelspec": {
   "display_name": "Python 3",
   "language": "python",
   "name": "python3"
  },
  "language_info": {
   "codemirror_mode": {
    "name": "ipython",
    "version": 3
   },
   "file_extension": ".py",
   "mimetype": "text/x-python",
   "name": "python",
   "nbconvert_exporter": "python",
   "pygments_lexer": "ipython3",
   "version": "3.8.5"
  }
 },
 "nbformat": 4,
 "nbformat_minor": 4
}
