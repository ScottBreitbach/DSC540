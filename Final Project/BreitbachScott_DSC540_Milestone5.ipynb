{
 "cells": [
  {
   "cell_type": "markdown",
   "metadata": {},
   "source": [
    "# Scott Breitbach\n",
    "## Milestone 5: Merging the Data and Storing in a Database/Visualizing Data\n",
    "## 26-Feb-2021\n",
    "## DSC540, Weeks 11-12"
   ]
  },
  {
   "cell_type": "code",
   "execution_count": 1,
   "metadata": {},
   "outputs": [],
   "source": [
    "import sqlite3\n",
    "import pandas as pd"
   ]
  },
  {
   "cell_type": "markdown",
   "metadata": {},
   "source": [
    "# Load data into an SQL database, each as an individual table."
   ]
  },
  {
   "cell_type": "code",
   "execution_count": 2,
   "metadata": {},
   "outputs": [],
   "source": [
    "# Load the previously cleaned data from CSV files:\n",
    "csvData = pd.read_csv(\"CSV_nebraskaCleaned.csv\")\n",
    "webData = pd.read_csv(\"WEB_NEbeerReddit.csv\")\n",
    "apiData = pd.read_csv(\"API_beerMapping.csv\")"
   ]
  },
  {
   "cell_type": "markdown",
   "metadata": {},
   "source": [
    "## First, a little extra cleaning"
   ]
  },
  {
   "cell_type": "markdown",
   "metadata": {},
   "source": [
    "#### Replace spaces in column names with underscores:"
   ]
  },
  {
   "cell_type": "code",
   "execution_count": 3,
   "metadata": {},
   "outputs": [],
   "source": [
    "def colSpaceToUnderscore(df):\n",
    "    '''Replaces spaces with underscores in the column names of a DataFrame'''\n",
    "    newCols = []\n",
    "    for c in df.columns:\n",
    "        newCols.append(c.replace(' ', '_'))\n",
    "    df.columns = newCols\n",
    "    print(f\"New column names:\\n{df.columns}\")  "
   ]
  },
  {
   "cell_type": "code",
   "execution_count": 4,
   "metadata": {},
   "outputs": [
    {
     "name": "stdout",
     "output_type": "stream",
     "text": [
      "New column names:\n",
      "Index(['Brewery_ID', 'Brewery_Name', 'Type_of_Brewery', 'Street_Address',\n",
      "       'City', 'State', 'Postal_Code', '5-digit_Zip', 'Website', 'Phone',\n",
      "       'Longitude', 'Latitude'],\n",
      "      dtype='object')\n",
      "New column names:\n",
      "Index(['Brewery_Name', 'City', 'State', 'Type_of_Brewery',\n",
      "       'Type_of_Distribution', 'Notes', '#_Locations', 'Locations'],\n",
      "      dtype='object')\n",
      "New column names:\n",
      "Index(['BreweryID', 'BreweryName', 'Type', 'ReviewLink', 'ProxyLink', 'Map',\n",
      "       'StreetAddress', 'City', 'State', 'Zip', 'Country', 'PhoneNum',\n",
      "       'Website', 'Rating', 'ImageCount'],\n",
      "      dtype='object')\n"
     ]
    }
   ],
   "source": [
    "colSpaceToUnderscore(csvData)\n",
    "colSpaceToUnderscore(webData)\n",
    "colSpaceToUnderscore(apiData)"
   ]
  },
  {
   "cell_type": "markdown",
   "metadata": {},
   "source": [
    "#### Make street addresses a uniform format:"
   ]
  },
  {
   "cell_type": "code",
   "execution_count": 5,
   "metadata": {},
   "outputs": [],
   "source": [
    "import pandas_usaddress\n",
    "\n",
    "def standardizeAddress(df, colName):\n",
    "    '''Creates street address uniformity and makes Title Case;\n",
    "    Replaces existing street address column.'''\n",
    "    tempDF = pd.DataFrame()\n",
    "    addressDF = pd.DataFrame()\n",
    "    \n",
    "    tempDF = pandas_usaddress.tag(df, [colName], granularity='single', standardize=True) \n",
    "    addressDF['Address'] = tempDF.SingleLine.str.title()\n",
    "    tempDF = pandas_usaddress.tag(df, [colName], granularity='medium', standardize=True) \n",
    "    addressDF['Suffix'] = tempDF.OccupancySuite.str.title()\n",
    "    \n",
    "    for i in range(len(addressDF.Address)):\n",
    "        addressDF['Address'][i] = addressDF.Address[i].rstrip(str(addressDF.Suffix[i])).strip()\n",
    "        \n",
    "    df[colName] = addressDF['Address']"
   ]
  },
  {
   "cell_type": "code",
   "execution_count": 6,
   "metadata": {},
   "outputs": [],
   "source": [
    "standardizeAddress(csvData, 'Street_Address')\n",
    "standardizeAddress(apiData, 'StreetAddress')"
   ]
  },
  {
   "cell_type": "code",
   "execution_count": 78,
   "metadata": {},
   "outputs": [],
   "source": [
    "# A few manual fixes:\n",
    "csvData['Street_Address'] = csvData['Street_Address'].str.replace(' Blackstone District', '')\n",
    "csvData['Street_Address'] = csvData['Street_Address'].str.replace('500 W South', '500 W South St')\n",
    "apiData['StreetAddress'] = apiData['StreetAddress'].str.replace('710Th Rd', '62193 710Th Rd')\n",
    "csvData.State = 'NE'\n",
    "webData.State = 'NE'"
   ]
  },
  {
   "cell_type": "markdown",
   "metadata": {},
   "source": [
    "#### Add a column for consolidating Omaha suburbs:\n",
    "https://en.wikipedia.org/wiki/Neighborhoods_of_Omaha,_Nebraska"
   ]
  },
  {
   "cell_type": "code",
   "execution_count": 7,
   "metadata": {},
   "outputs": [],
   "source": [
    "import requests\n",
    "# Use table from Wikipedia page to generage a list of suburbs:\n",
    "url = \"https://en.wikipedia.org/wiki/Neighborhoods_of_Omaha,_Nebraska\"\n",
    "listOfTables = pd.read_html(url)\n",
    "omahaSubsDF = listOfTables[1]\n",
    "omahaSubs = list(omahaSubsDF['Neighborhoods in Omaha alphabetical order'][1:])"
   ]
  },
  {
   "cell_type": "code",
   "execution_count": 8,
   "metadata": {},
   "outputs": [],
   "source": [
    "def fixCitySpacing(df):\n",
    "    df['City'].replace('Mc Cook', 'McCook', inplace=True)\n",
    "    df['City'].replace('LaVista', 'La Vista', inplace=True)"
   ]
  },
  {
   "cell_type": "code",
   "execution_count": 9,
   "metadata": {},
   "outputs": [],
   "source": [
    "fixCitySpacing(csvData)\n",
    "fixCitySpacing(webData)\n",
    "fixCitySpacing(apiData)"
   ]
  },
  {
   "cell_type": "code",
   "execution_count": 10,
   "metadata": {},
   "outputs": [],
   "source": [
    "def omahaSuburbs(df, colName):\n",
    "    '''Creates a copy of the City column and converts any locations \n",
    "    found in the list of Omaha suburbs to \"Omaha\"'''\n",
    "    df['Central_City'] = df[colName]\n",
    "    df.loc[(df['Central_City'].isin(omahaSubs) == True), 'Central_City'] = \"Omaha\""
   ]
  },
  {
   "cell_type": "code",
   "execution_count": 11,
   "metadata": {},
   "outputs": [],
   "source": [
    "omahaSuburbs(csvData, 'City')\n",
    "omahaSuburbs(webData, 'City')\n",
    "omahaSuburbs(apiData, 'City')"
   ]
  },
  {
   "cell_type": "markdown",
   "metadata": {},
   "source": [
    "#### Standardize phone numbers:"
   ]
  },
  {
   "cell_type": "code",
   "execution_count": 12,
   "metadata": {},
   "outputs": [],
   "source": [
    "import phonenumbers as pn\n",
    "import numpy as np\n",
    "\n",
    "def fixPhoneNums(df, colName):\n",
    "    '''Attempts to convert each phone number to a standardized format and add\n",
    "    to a list, adding NaN if it fails. Assigns the list back to the DF column.'''\n",
    "    phList = []\n",
    "    for i in range(len(df[colName])):\n",
    "        try:\n",
    "            phList.append(pn.format_number(pn.parse(df[colName][i], 'US'), \n",
    "                                           pn.PhoneNumberFormat.NATIONAL))\n",
    "        except:\n",
    "            phList.append(np.nan)\n",
    "    df[colName] = phList"
   ]
  },
  {
   "cell_type": "code",
   "execution_count": 13,
   "metadata": {},
   "outputs": [],
   "source": [
    "fixPhoneNums(apiData, 'PhoneNum')"
   ]
  },
  {
   "cell_type": "markdown",
   "metadata": {},
   "source": [
    "#### Standardize Brewery Names:"
   ]
  },
  {
   "cell_type": "code",
   "execution_count": 14,
   "metadata": {},
   "outputs": [],
   "source": [
    "from fuzzywuzzy import fuzz\n",
    "from fuzzywuzzy import process\n",
    "\n",
    "def fuzzyMatch(df, colName, scorer=fuzz.ratio, display=False):\n",
    "    '''Fuzzy matches a column of brewery names against a standard set of names.\n",
    "    `display=True`  returns a DF comparing old with new names plus a score.\n",
    "    `display=False` returns a Series of the corrected names.'''\n",
    "    checkDF = df.copy()\n",
    "    actualDF = webData.copy()\n",
    "    testDF = pd.DataFrame()\n",
    "    testDF['NamesToCheck'] = checkDF[colName]\n",
    "    \n",
    "    actualName = []\n",
    "    similarity = []\n",
    "    for i in testDF['NamesToCheck']:\n",
    "        ratio = process.extract(i, actualDF['Brewery_Name'], \n",
    "                                limit=1, scorer=scorer) \n",
    "        actualName.append(ratio[0][0])\n",
    "        similarity.append(ratio[0][1])\n",
    "        testDF['NameMatch'] = pd.Series(actualName)\n",
    "        testDF['Score'] = pd.Series(similarity)\n",
    "    \n",
    "    if display == True:\n",
    "        print('Average Score: {0:.2f}'.format(testDF['Score'].mean()))\n",
    "        return testDF.sort_values('Score', ascending=False)\n",
    "    elif display == False:\n",
    "        return testDF['NameMatch']"
   ]
  },
  {
   "cell_type": "code",
   "execution_count": 15,
   "metadata": {},
   "outputs": [],
   "source": [
    "csvData['Brewery_Name'] = fuzzyMatch(csvData, 'Brewery_Name', \n",
    "                                     fuzz.partial_ratio, display=False)"
   ]
  },
  {
   "cell_type": "code",
   "execution_count": 16,
   "metadata": {},
   "outputs": [],
   "source": [
    "apiData['BreweryName'] = fuzzyMatch(apiData, 'BreweryName', \n",
    "                                    fuzz.token_sort_ratio, display=False)"
   ]
  },
  {
   "cell_type": "markdown",
   "metadata": {},
   "source": [
    "#### Remove Granite City (not a Nebraska brewery):"
   ]
  },
  {
   "cell_type": "code",
   "execution_count": 17,
   "metadata": {},
   "outputs": [],
   "source": [
    "def removeGC(df, colName):\n",
    "    df = df[df[colName] != 'Granite City Food & Brewery']"
   ]
  },
  {
   "cell_type": "code",
   "execution_count": 18,
   "metadata": {},
   "outputs": [],
   "source": [
    "removeGC(csvData, 'Brewery_Name')\n",
    "removeGC(webData, 'Brewery_Name')\n",
    "removeGC(apiData, 'BreweryName')"
   ]
  },
  {
   "cell_type": "code",
   "execution_count": null,
   "metadata": {},
   "outputs": [],
   "source": []
  },
  {
   "cell_type": "markdown",
   "metadata": {},
   "source": [
    "## Load DataFrames into an SQL Database"
   ]
  },
  {
   "cell_type": "code",
   "execution_count": 19,
   "metadata": {},
   "outputs": [],
   "source": [
    "# Load data into an SQL database, each as an individual table:\n",
    "with sqlite3.connect('Nebeerska.db') as conn:\n",
    "    cursor = conn.cursor()\n",
    "    csvData.to_sql('csvtable', conn, if_exists='replace', index=False)\n",
    "    webData.to_sql('webtable', conn, if_exists='replace', index=False)\n",
    "    apiData.to_sql('apitable', conn, if_exists='replace', index=False)"
   ]
  },
  {
   "cell_type": "markdown",
   "metadata": {},
   "source": [
    "### Get a list of the tables:"
   ]
  },
  {
   "cell_type": "code",
   "execution_count": 20,
   "metadata": {},
   "outputs": [
    {
     "name": "stdout",
     "output_type": "stream",
     "text": [
      "csvtable\n",
      "webtable\n",
      "apitable\n"
     ]
    }
   ],
   "source": [
    "res = conn.execute('''SELECT name FROM sqlite_master WHERE type='table';''')\n",
    "tableList = []\n",
    "for name in res:\n",
    "    print(name[0])\n",
    "    tableList.append(name[0])"
   ]
  },
  {
   "cell_type": "markdown",
   "metadata": {},
   "source": [
    "### Check out the first few rows of each table:"
   ]
  },
  {
   "cell_type": "code",
   "execution_count": 21,
   "metadata": {},
   "outputs": [],
   "source": [
    "def head(table, nRows=5):\n",
    "    '''Prints the first n rows of the table specified'''\n",
    "    cursor.execute(f'''SELECT * FROM {table}''')\n",
    "    for row in cursor.fetchall()[:nRows]:\n",
    "        print(row)"
   ]
  },
  {
   "cell_type": "code",
   "execution_count": 22,
   "metadata": {},
   "outputs": [
    {
     "name": "stdout",
     "output_type": "stream",
     "text": [
      "Table: 'csvtable' - \n",
      "('backswing-brewing-co-lincoln', 'Backswing Brewing Co.', 'Micro', '500 W South', 'Lincoln', 'Nebraska', '68522-1744', 68522, 'http://www.backswingbrewing.com', '(402) 515-4263', None, None, 'Lincoln')\n",
      "('benson-brewery-omaha', 'Benson Brewery', 'Brewpub', '6059 Maple St', 'Omaha', 'Nebraska', '68104-4050', 68104, 'http://www.bensonbrewery.com', '(402) 934-8668', -96.00634511, 41.28489756, 'Omaha')\n",
      "('boiler-brewing-company-lincoln', 'Boiler Brewing Company', 'Micro', '129 N 10Th', 'Lincoln', 'Nebraska', '68508-3633', 68508, 'http://www.boilerbrewingcompany.com', '(402) 261-8775', None, None, 'Lincoln')\n",
      "\n",
      "Table: 'webtable' - \n",
      "('Backswing Brewing Co.', 'Lincoln', 'Nebraska', 'Micro', 'On-tap at the brewery and at select locations', 'Distro planned for 2016', 1, 'Lincoln', 'Lincoln')\n",
      "('Benson Brewery', 'Omaha', 'Nebraska', 'Taproom', 'On tap only at the brewery', 'Other beers, locals included, on tap. Omaha Brewing is the parent company', 1, 'Omaha', 'Omaha')\n",
      "('Boiler Brewing Company', 'Lincoln', 'Nebraska', 'Taproom', 'On tap only at the brewery', 'Tours posted on FB page', 2, 'Lincoln / Lincoln - South', 'Lincoln')\n",
      "\n",
      "Table: 'apitable' - \n",
      "(21938, 'Catalyst Brewing Company', 'Brewery', 'https://beermapping.com/location/21938', 'http://beermapping.com/maps/proxymaps.php?locid=21938&amp;d=5', 'http://beermapping.com/maps/blogproxy.php?locid=21938&amp;d=1&amp;type=norm', '5730 Hidcote Dr', 'Lincoln', 'NE', 68516, 'United States', '(402) 875-5588', None, 0.0, 0, 'Lincoln')\n",
      "(19644, 'Backswing Brewing Co.', 'Brewery', 'https://beermapping.com/location/19644', 'http://beermapping.com/maps/proxymaps.php?locid=19644&amp;d=5', 'http://beermapping.com/maps/blogproxy.php?locid=19644&amp;d=1&amp;type=norm', '500 W South St', 'Lincoln', 'NE', 68522, 'United States', '(402) 515-4263', 'facebook.com/BackswingBrewingCo/timeline', 0.0, 0, 'Lincoln')\n",
      "(17706, 'Benson Brewery', 'Brewpub', 'https://beermapping.com/location/17706', 'http://beermapping.com/maps/proxymaps.php?locid=17706&amp;d=5', 'http://beermapping.com/maps/blogproxy.php?locid=17706&amp;d=1&amp;type=norm', '6059 Maple St', 'Omaha', 'NE', 68104, 'United States', '(402) 937-1892', 'bensonbrewery.com', 0.0, 0, 'Omaha')\n",
      "\n"
     ]
    }
   ],
   "source": [
    "for i in tableList:\n",
    "    print(f\"Table: '{i}' - \")\n",
    "    head(i, 3)\n",
    "    print()"
   ]
  },
  {
   "cell_type": "code",
   "execution_count": null,
   "metadata": {},
   "outputs": [],
   "source": []
  },
  {
   "cell_type": "markdown",
   "metadata": {},
   "source": [
    "# Join the datasets together into 1 dataset."
   ]
  },
  {
   "cell_type": "code",
   "execution_count": null,
   "metadata": {},
   "outputs": [],
   "source": []
  },
  {
   "cell_type": "code",
   "execution_count": null,
   "metadata": {},
   "outputs": [],
   "source": []
  },
  {
   "cell_type": "code",
   "execution_count": null,
   "metadata": {},
   "outputs": [],
   "source": []
  },
  {
   "cell_type": "code",
   "execution_count": null,
   "metadata": {},
   "outputs": [],
   "source": []
  },
  {
   "cell_type": "markdown",
   "metadata": {},
   "source": [
    "# Create 5 visualizations that demonstrate the data.\n",
    "Note: At least 2 should have data from > 1 source."
   ]
  },
  {
   "cell_type": "code",
   "execution_count": null,
   "metadata": {},
   "outputs": [],
   "source": []
  },
  {
   "cell_type": "code",
   "execution_count": null,
   "metadata": {},
   "outputs": [],
   "source": []
  },
  {
   "cell_type": "code",
   "execution_count": null,
   "metadata": {},
   "outputs": [],
   "source": []
  },
  {
   "cell_type": "code",
   "execution_count": null,
   "metadata": {},
   "outputs": [],
   "source": []
  },
  {
   "cell_type": "code",
   "execution_count": null,
   "metadata": {},
   "outputs": [],
   "source": []
  },
  {
   "cell_type": "code",
   "execution_count": null,
   "metadata": {},
   "outputs": [],
   "source": []
  },
  {
   "cell_type": "code",
   "execution_count": null,
   "metadata": {},
   "outputs": [],
   "source": []
  }
 ],
 "metadata": {
  "kernelspec": {
   "display_name": "Python 3",
   "language": "python",
   "name": "python3"
  },
  "language_info": {
   "codemirror_mode": {
    "name": "ipython",
    "version": 3
   },
   "file_extension": ".py",
   "mimetype": "text/x-python",
   "name": "python",
   "nbconvert_exporter": "python",
   "pygments_lexer": "ipython3",
   "version": "3.8.5"
  }
 },
 "nbformat": 4,
 "nbformat_minor": 4
}
