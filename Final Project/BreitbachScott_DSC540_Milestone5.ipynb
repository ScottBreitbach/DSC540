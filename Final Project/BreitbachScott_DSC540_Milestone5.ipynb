{
 "cells": [
  {
   "cell_type": "markdown",
   "metadata": {},
   "source": [
    "# Scott Breitbach\n",
    "## Milestone 5: Merging the Data and Storing in a Database/Visualizing Data\n",
    "## 26-Feb-2021\n",
    "## DSC540, Weeks 11-12"
   ]
  },
  {
   "cell_type": "code",
   "execution_count": 1,
   "metadata": {},
   "outputs": [],
   "source": [
    "import sqlite3\n",
    "import pandas as pd"
   ]
  },
  {
   "cell_type": "markdown",
   "metadata": {},
   "source": [
    "# Load data into an SQL database, each as an individual table."
   ]
  },
  {
   "cell_type": "code",
   "execution_count": 2,
   "metadata": {},
   "outputs": [],
   "source": [
    "# Load the previously cleaned data from CSV files:\n",
    "csvData = pd.read_csv(\"CSV_nebraskaCleaned.csv\")\n",
    "webData = pd.read_csv(\"WEB_NEbeerReddit.csv\")\n",
    "apiData = pd.read_csv(\"API_beerMapping.csv\")"
   ]
  },
  {
   "cell_type": "markdown",
   "metadata": {},
   "source": [
    "### First, a little extra cleaning:"
   ]
  },
  {
   "cell_type": "markdown",
   "metadata": {},
   "source": [
    "#### Replace Spaces in column names with underscores"
   ]
  },
  {
   "cell_type": "code",
   "execution_count": null,
   "metadata": {},
   "outputs": [],
   "source": [
    "def colSpaceToUnderscore(df):\n",
    "    '''Replaces spaces with underscores in the column names of a DataFrame'''\n",
    "    newCols = []\n",
    "    for c in df.columns:\n",
    "        newCols.append(c.replace(' ', '_'))\n",
    "    df.columns = newCols\n",
    "    print(f\"New column names:\\n{df.columns}\")  "
   ]
  },
  {
   "cell_type": "code",
   "execution_count": null,
   "metadata": {},
   "outputs": [],
   "source": [
    "colSpaceToUnderscore(csvData)\n",
    "colSpaceToUnderscore(webData)\n",
    "colSpaceToUnderscore(apiData)"
   ]
  },
  {
   "cell_type": "markdown",
   "metadata": {},
   "source": [
    "#### Make street addresses a uniform format"
   ]
  },
  {
   "cell_type": "code",
   "execution_count": null,
   "metadata": {},
   "outputs": [],
   "source": [
    "import pandas_usaddress\n",
    "\n",
    "def standardizeAddress(df, colName):\n",
    "    '''Creates street address uniformity and makes Title Case;\n",
    "    Replaces existing street address column.'''\n",
    "    tempDF = pandas_usaddress.tag(df, [colName], granularity='single', standardize=True) \n",
    "    df[colName] = tempDF.SingleLine.str.title()"
   ]
  },
  {
   "cell_type": "code",
   "execution_count": null,
   "metadata": {},
   "outputs": [],
   "source": [
    "standardizeAddress(csvData, 'Street_Address')\n",
    "standardizeAddress(apiData, 'StreetAddress')"
   ]
  },
  {
   "cell_type": "markdown",
   "metadata": {},
   "source": [
    "#### Add a column for consolidating Omaha suburbs\n",
    "https://en.wikipedia.org/wiki/Neighborhoods_of_Omaha,_Nebraska"
   ]
  },
  {
   "cell_type": "code",
   "execution_count": null,
   "metadata": {},
   "outputs": [],
   "source": [
    "import requests"
   ]
  },
  {
   "cell_type": "code",
   "execution_count": null,
   "metadata": {},
   "outputs": [],
   "source": [
    "url = \"https://en.wikipedia.org/wiki/Neighborhoods_of_Omaha,_Nebraska\"\n",
    "# Get the table I want from the Wikipedia page:\n",
    "listOfTables = pd.read_html(url)\n",
    "omahaSubsDF = listOfTables[1]\n",
    "# Generate a list of Omaha suburbs from the first column (adding a couple):\n",
    "omahaSubs = list(omahaSubsDF['Neighborhoods in Omaha alphabetical order'][1:])\n",
    "omahaSubs.extend(['Omaha', 'LaVista'])"
   ]
  },
  {
   "cell_type": "code",
   "execution_count": null,
   "metadata": {},
   "outputs": [],
   "source": [
    "def omahaSuburbs(df, colName):\n",
    "    '''Creates a copy of the City column and converts any locations \n",
    "    found in the list of Omaha suburbs to \"Omaha\"'''\n",
    "    df['Central_City'] = df[colName]\n",
    "    df.loc[(df['Central_City'].isin(omahaSubs) == True), 'Central_City'] = \"Omaha\""
   ]
  },
  {
   "cell_type": "code",
   "execution_count": null,
   "metadata": {},
   "outputs": [],
   "source": [
    "omahaSuburbs(csvData, 'City')\n",
    "omahaSuburbs(webData, 'City')\n",
    "omahaSuburbs(apiData, 'City')"
   ]
  },
  {
   "cell_type": "code",
   "execution_count": null,
   "metadata": {},
   "outputs": [],
   "source": []
  },
  {
   "cell_type": "code",
   "execution_count": null,
   "metadata": {},
   "outputs": [],
   "source": []
  },
  {
   "cell_type": "code",
   "execution_count": null,
   "metadata": {},
   "outputs": [],
   "source": []
  },
  {
   "cell_type": "code",
   "execution_count": null,
   "metadata": {},
   "outputs": [],
   "source": []
  },
  {
   "cell_type": "code",
   "execution_count": 3,
   "metadata": {},
   "outputs": [
    {
     "name": "stderr",
     "output_type": "stream",
     "text": [
      "C:\\ProgramData\\Anaconda3\\lib\\site-packages\\pandas\\core\\generic.py:2605: UserWarning: The spaces in these column names will not be changed. In pandas versions < 0.14, spaces were converted to underscores.\n",
      "  sql.to_sql(\n"
     ]
    }
   ],
   "source": [
    "# Load data into an SQL database, each as an individual table:\n",
    "with sqlite3.connect('Nebeerska.db') as conn:\n",
    "    cursor = conn.cursor()\n",
    "    csvData.to_sql('csvtable', conn, if_exists='replace', index=False)\n",
    "    webData.to_sql('webtable', conn, if_exists='replace', index=False)\n",
    "    apiData.to_sql('apitable', conn, if_exists='replace', index=False)"
   ]
  },
  {
   "cell_type": "markdown",
   "metadata": {},
   "source": [
    "### Get a list of the tables:"
   ]
  },
  {
   "cell_type": "code",
   "execution_count": 22,
   "metadata": {},
   "outputs": [
    {
     "name": "stdout",
     "output_type": "stream",
     "text": [
      "csvtable\n",
      "webtable\n",
      "apitable\n"
     ]
    }
   ],
   "source": [
    "res = conn.execute('''SELECT name FROM sqlite_master WHERE type='table';''')\n",
    "tableList = []\n",
    "for name in res:\n",
    "    print(name[0])\n",
    "    tableList.append(name[0])"
   ]
  },
  {
   "cell_type": "markdown",
   "metadata": {},
   "source": [
    "# Join the datasets together into 1 dataset."
   ]
  },
  {
   "cell_type": "markdown",
   "metadata": {},
   "source": [
    "### Check out the first few rows of each table:"
   ]
  },
  {
   "cell_type": "code",
   "execution_count": 12,
   "metadata": {},
   "outputs": [],
   "source": [
    "def head(table, nRows=5):\n",
    "    cursor.execute(f'''SELECT * FROM {table}''')\n",
    "    for row in cursor.fetchall()[:nRows]:\n",
    "        print(row)"
   ]
  },
  {
   "cell_type": "code",
   "execution_count": 26,
   "metadata": {},
   "outputs": [
    {
     "name": "stdout",
     "output_type": "stream",
     "text": [
      "Table: 'csvtable' - \n",
      "('backswing-brewing-co-lincoln', 'Backswing Brewing Co.', 'Micro', '500 W South St Ste 8', 'Lincoln', 'Nebraska', '68522-1744', 68522, 'http://www.backswingbrewing.com', '(402) 515-4263', None, None)\n",
      "('benson-brewery-omaha', 'Benson Brewery', 'Brewpub', '6059 Maple St', 'Omaha', 'Nebraska', '68104-4050', 68104, 'http://www.bensonbrewery.com', '(402) 934-8668', -96.00634511, 41.28489756)\n",
      "('blue-blood-brewing-company-lincoln', 'Blue Blood Brewing Company', 'Brewpub', '925 Robbers Cave Rd', 'Lincoln', 'Nebraska', '68502', 68502, 'http://www.bluebloodbrewing.com', '(402) 477-2337', -96.70701376, 40.77999602)\n",
      "\n",
      "Table: 'webtable' - \n",
      "('Backswing Brewing Co.', 'Lincoln', 'Nebraska', 'Micro', 'On-tap at the brewery and at select locations', 'Distro planned for 2016', 1, 'Lincoln')\n",
      "('Benson Brewery', 'Omaha', 'Nebraska', 'Taproom', 'On tap only at the brewery', 'Other beers, locals included, on tap. Omaha Brewing is the parent company', 1, 'Omaha')\n",
      "('Boiler Brewing Company', 'Lincoln', 'Nebraska', 'Taproom', 'On tap only at the brewery', 'Tours posted on FB page', 2, 'Lincoln / Lincoln - South')\n",
      "\n",
      "Table: 'apitable' - \n",
      "(21938, 'Catalyst Brewing Company', 'Brewery', 'https://beermapping.com/location/21938', 'http://beermapping.com/maps/proxymaps.php?locid=21938&amp;d=5', 'http://beermapping.com/maps/blogproxy.php?locid=21938&amp;d=1&amp;type=norm', '5730 Hidcote Drive', 'Lincoln', 'NE', 68516, 'United States', '402-875-5588', None, 0.0, 0)\n",
      "(19644, 'Backswing Brewing Co.', 'Brewery', 'https://beermapping.com/location/19644', 'http://beermapping.com/maps/proxymaps.php?locid=19644&amp;d=5', 'http://beermapping.com/maps/blogproxy.php?locid=19644&amp;d=1&amp;type=norm', '500 W South St #8', 'Lincoln', 'NE', 68522, 'United States', '(402) 515-4263', 'facebook.com/BackswingBrewingCo/timeline', 0.0, 0)\n",
      "(17706, 'Benson Brewery', 'Brewpub', 'https://beermapping.com/location/17706', 'http://beermapping.com/maps/proxymaps.php?locid=17706&amp;d=5', 'http://beermapping.com/maps/blogproxy.php?locid=17706&amp;d=1&amp;type=norm', '6059 Maple Street', 'Omaha', 'NE', 68104, 'United States', '(402) 937-1892', 'bensonbrewery.com', 0.0, 0)\n",
      "\n"
     ]
    }
   ],
   "source": [
    "for i in tableList:\n",
    "    print(f\"Table: '{i}' - \")\n",
    "    head(i, 3)\n",
    "    print()"
   ]
  },
  {
   "cell_type": "code",
   "execution_count": null,
   "metadata": {},
   "outputs": [],
   "source": []
  },
  {
   "cell_type": "code",
   "execution_count": null,
   "metadata": {},
   "outputs": [],
   "source": []
  },
  {
   "cell_type": "code",
   "execution_count": null,
   "metadata": {},
   "outputs": [],
   "source": []
  },
  {
   "cell_type": "code",
   "execution_count": null,
   "metadata": {},
   "outputs": [],
   "source": []
  },
  {
   "cell_type": "markdown",
   "metadata": {},
   "source": [
    "# Create 5 visualizations that demonstrate the data.\n",
    "Note: At least 2 should have data from > 1 source."
   ]
  },
  {
   "cell_type": "code",
   "execution_count": null,
   "metadata": {},
   "outputs": [],
   "source": []
  }
 ],
 "metadata": {
  "kernelspec": {
   "display_name": "Python 3",
   "language": "python",
   "name": "python3"
  },
  "language_info": {
   "codemirror_mode": {
    "name": "ipython",
    "version": 3
   },
   "file_extension": ".py",
   "mimetype": "text/x-python",
   "name": "python",
   "nbconvert_exporter": "python",
   "pygments_lexer": "ipython3",
   "version": "3.8.5"
  }
 },
 "nbformat": 4,
 "nbformat_minor": 4
}
