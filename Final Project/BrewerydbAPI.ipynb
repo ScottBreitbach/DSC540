{
 "cells": [
  {
   "cell_type": "code",
   "execution_count": 9,
   "metadata": {},
   "outputs": [
    {
     "name": "stdout",
     "output_type": "stream",
     "text": [
      "The dotenv extension is already loaded. To reload it, use:\n",
      "  %reload_ext dotenv\n"
     ]
    }
   ],
   "source": [
    "import pandas as pd\n",
    "import requests\n",
    "import json\n",
    "import os\n",
    "from dotenv import load_dotenv"
   ]
  },
  {
   "cell_type": "code",
   "execution_count": 2,
   "metadata": {},
   "outputs": [
    {
     "data": {
      "text/plain": [
       "True"
      ]
     },
     "execution_count": 2,
     "metadata": {},
     "output_type": "execute_result"
    }
   ],
   "source": [
    "%load_ext dotenv\n",
    "%dotenv\n",
    "load_dotenv(\"BREWERYDB_SANDBOX\")"
   ]
  },
  {
   "cell_type": "code",
   "execution_count": 58,
   "metadata": {},
   "outputs": [],
   "source": [
    "apiKey = os.environ.get(\"BREWERYDB_SANDBOX\")"
   ]
  },
  {
   "cell_type": "code",
   "execution_count": 59,
   "metadata": {},
   "outputs": [],
   "source": [
    "baseURL = \"https://sandbox-api.brewerydb.com/v2/\""
   ]
  },
  {
   "cell_type": "markdown",
   "metadata": {},
   "source": [
    "## Brewery DB\n",
    "https://www.brewerydb.com/developers/docs"
   ]
  },
  {
   "cell_type": "markdown",
   "metadata": {},
   "source": [
    "When sending data to BreweryDB, either for filtering on listing endpoints or for submitting new data, you should pass all your data using application/x-www-form-urlencoded strings. For GET methods, these are passed via the query string (after the \"?\" in the request URL). For POST and PUT methods, these should be passed in the POST body."
   ]
  },
  {
   "cell_type": "markdown",
   "metadata": {},
   "source": [
    "### Endpoints:"
   ]
  },
  {
   "cell_type": "markdown",
   "metadata": {},
   "source": [
    "https://www.brewerydb.com/developers/docs/endpoint/brewery-index  \n",
    "#### GET: /breweries\n",
    "Gets a listing of all breweries. Results will be paginated. One of the following attributes must be set: name, established  \n",
    "`/breweries`"
   ]
  },
  {
   "cell_type": "markdown",
   "metadata": {},
   "source": [
    "https://www.brewerydb.com/developers/docs/endpoint/location-index\n",
    "#### GET: /locations\n",
    "Gets a listing of all locations. One of the following attributes must be set: locality, postalCode, region  \n",
    "`/locations`"
   ]
  },
  {
   "cell_type": "code",
   "execution_count": 73,
   "metadata": {},
   "outputs": [],
   "source": [
    "# endpoint = \"breweries\"\n",
    "endpoint = \"locations\""
   ]
  },
  {
   "cell_type": "code",
   "execution_count": null,
   "metadata": {},
   "outputs": [],
   "source": [
    "reqParams = \"\""
   ]
  },
  {
   "cell_type": "code",
   "execution_count": null,
   "metadata": {},
   "outputs": [],
   "source": [
    "# search by state\n",
    "state = str(input(\"Which US State?:\"))\n",
    "reqParams = f\"&region={state}\""
   ]
  },
  {
   "cell_type": "code",
   "execution_count": 101,
   "metadata": {},
   "outputs": [],
   "source": [
    "# search by country\n",
    "reqParams = \"&countryIsoCode=US\""
   ]
  },
  {
   "cell_type": "code",
   "execution_count": 125,
   "metadata": {},
   "outputs": [],
   "source": [
    "# http://api.brewerydb.com/v2/{endpoint}/?key=abcdef\n",
    "# &region=nebraska <- didn't really work\n",
    "requestURL = f\"{baseURL}{endpoint}/?key={apiKey}{reqParams}&order=postalCode\""
   ]
  },
  {
   "cell_type": "code",
   "execution_count": 83,
   "metadata": {},
   "outputs": [],
   "source": [
    "# pagination at end of url: \"p=1\""
   ]
  },
  {
   "cell_type": "code",
   "execution_count": 126,
   "metadata": {},
   "outputs": [
    {
     "name": "stdout",
     "output_type": "stream",
     "text": [
      "200\n"
     ]
    }
   ],
   "source": [
    "response = requests.request(\"GET\", requestURL)\n",
    "print(response.status_code)\n",
    "if response.status_code != 200:\n",
    "    raise Exception(response.status_code, response.text)"
   ]
  },
  {
   "cell_type": "code",
   "execution_count": 127,
   "metadata": {},
   "outputs": [],
   "source": [
    "jsonResponse = response.json()"
   ]
  },
  {
   "cell_type": "code",
   "execution_count": 128,
   "metadata": {},
   "outputs": [
    {
     "data": {
      "text/plain": [
       "dict"
      ]
     },
     "execution_count": 128,
     "metadata": {},
     "output_type": "execute_result"
    }
   ],
   "source": [
    "type(jsonResponse)"
   ]
  },
  {
   "cell_type": "code",
   "execution_count": 137,
   "metadata": {},
   "outputs": [
    {
     "data": {
      "text/plain": [
       "1"
      ]
     },
     "execution_count": 137,
     "metadata": {},
     "output_type": "execute_result"
    }
   ],
   "source": [
    "jsonResponse['numberOfPages']"
   ]
  },
  {
   "cell_type": "code",
   "execution_count": 138,
   "metadata": {},
   "outputs": [],
   "source": [
    "# print(jsonResponse)"
   ]
  },
  {
   "cell_type": "code",
   "execution_count": 130,
   "metadata": {},
   "outputs": [
    {
     "data": {
      "text/plain": [
       "5"
      ]
     },
     "execution_count": 130,
     "metadata": {},
     "output_type": "execute_result"
    }
   ],
   "source": [
    "len(jsonResponse)"
   ]
  },
  {
   "cell_type": "code",
   "execution_count": 131,
   "metadata": {},
   "outputs": [
    {
     "data": {
      "text/plain": [
       "dict_keys(['currentPage', 'numberOfPages', 'totalResults', 'data', 'status'])"
      ]
     },
     "execution_count": 131,
     "metadata": {},
     "output_type": "execute_result"
    }
   ],
   "source": [
    "jsonResponse.keys()"
   ]
  },
  {
   "cell_type": "code",
   "execution_count": 139,
   "metadata": {},
   "outputs": [],
   "source": [
    "# for k, v in jsonResponse.items():\n",
    "#     print(f\"{k.title()}: {v}\")"
   ]
  },
  {
   "cell_type": "code",
   "execution_count": 133,
   "metadata": {},
   "outputs": [
    {
     "data": {
      "text/plain": [
       "40"
      ]
     },
     "execution_count": 133,
     "metadata": {},
     "output_type": "execute_result"
    }
   ],
   "source": [
    "len(jsonResponse['data'])"
   ]
  },
  {
   "cell_type": "code",
   "execution_count": 140,
   "metadata": {},
   "outputs": [],
   "source": [
    "# jsonResponse['data']"
   ]
  },
  {
   "cell_type": "code",
   "execution_count": 135,
   "metadata": {},
   "outputs": [
    {
     "data": {
      "text/plain": [
       "{'id': 'aMIEke',\n",
       " 'name': 'Merrimack',\n",
       " 'streetAddress': '221 Daniel Webster Hwy',\n",
       " 'locality': 'Merrimack',\n",
       " 'region': 'New Hampshire',\n",
       " 'postalCode': '03054',\n",
       " 'phone': '(603) 595-1202',\n",
       " 'website': 'http://anheuser-busch.com/',\n",
       " 'latitude': 42.8252547,\n",
       " 'longitude': -71.4861091,\n",
       " 'isPrimary': 'N',\n",
       " 'inPlanning': 'N',\n",
       " 'isClosed': 'N',\n",
       " 'openToPublic': 'Y',\n",
       " 'locationType': 'production',\n",
       " 'locationTypeDisplay': 'Production Facility',\n",
       " 'countryIsoCode': 'US',\n",
       " 'yearOpened': '1970',\n",
       " 'status': 'verified',\n",
       " 'statusDisplay': 'Verified',\n",
       " 'createDate': '2013-07-13 23:08:31',\n",
       " 'updateDate': '2018-11-02 02:14:56',\n",
       " 'timezoneId': 'America/New_York',\n",
       " 'breweryId': 'BznahA',\n",
       " 'brewery': {'id': 'BznahA',\n",
       "  'name': 'Anheuser-Busch InBev',\n",
       "  'nameShortDisplay': 'Anheuser-Busch InBev',\n",
       "  'description': \"Anheuser-Busch operates 12 breweries in the United States, 14 in China and one in the United Kingdom. Anheuser-Busch's operations and resources are focused on adding to life's enjoyment not only through the responsible consumption of beer by adults, but through theme park entertainment and packaging.  In the United States, the company holds a 48.5 percent share of U.S. beer sales. Worldwide, Anheuser-Busch's beer sales volume was 128.4 million barrels in 2007.  The St. Louis-based company's subsidiaries include one of the largest U.S. manufacturers of aluminum beverage containers and one of the world's largest recyclers of aluminum beverage cans. Anheuser-Busch also has interests in malt production, rice milling, real estate development, turf farming, metalized and paper label printing, bottle production and transportation services.\",\n",
       "  'website': 'http://www.anheuser-busch.com/',\n",
       "  'established': '1852',\n",
       "  'isOrganic': 'N',\n",
       "  'images': {'icon': 'https://brewerydb-images.s3.amazonaws.com/brewery/BznahA/upload_0FkKKl-icon.png',\n",
       "   'medium': 'https://brewerydb-images.s3.amazonaws.com/brewery/BznahA/upload_0FkKKl-medium.png',\n",
       "   'large': 'https://brewerydb-images.s3.amazonaws.com/brewery/BznahA/upload_0FkKKl-large.png',\n",
       "   'squareMedium': 'https://brewerydb-images.s3.amazonaws.com/brewery/BznahA/upload_0FkKKl-squareMedium.png',\n",
       "   'squareLarge': 'https://brewerydb-images.s3.amazonaws.com/brewery/BznahA/upload_0FkKKl-squareLarge.png'},\n",
       "  'status': 'verified',\n",
       "  'statusDisplay': 'Verified',\n",
       "  'createDate': '2012-01-03 02:41:44',\n",
       "  'updateDate': '2018-11-02 02:15:01',\n",
       "  'isMassOwned': 'Y',\n",
       "  'isInBusiness': 'Y',\n",
       "  'isVerified': 'N'},\n",
       " 'country': {'isoCode': 'US',\n",
       "  'name': 'UNITED STATES',\n",
       "  'displayName': 'United States',\n",
       "  'isoThree': 'USA',\n",
       "  'numberCode': 840,\n",
       "  'createDate': '2012-01-03 02:41:33'}}"
      ]
     },
     "execution_count": 135,
     "metadata": {},
     "output_type": "execute_result"
    }
   ],
   "source": [
    "jsonResponse['data'][1]"
   ]
  },
  {
   "cell_type": "code",
   "execution_count": 136,
   "metadata": {},
   "outputs": [
    {
     "name": "stdout",
     "output_type": "stream",
     "text": [
      "Main Brewery\n",
      "Merrimack\n",
      "Main Brewpub\n",
      "Main Brewery\n",
      "Newark\n",
      "Baldwinsville\n",
      "Main Brewery\n",
      "Williamsburg\n",
      "Brevard\n",
      "Asheville\n",
      "Charleston Taproom & Beer Sanctuary\n",
      "Cartersville\n",
      "Main Brewery\n",
      "Jacksonville\n",
      "Main Brewery\n",
      "Columbus\n",
      "New Holland Brewing\n",
      "Production Campus, Sales & Marketing\n",
      "The Knickerbocker\n",
      "Headquarters\n",
      "Chicago\n",
      "Main Brewery\n",
      "Houston\n",
      "Oskar Blues\n",
      "Breckenridge Brewery & Farmhouse\n",
      "Main Brewery\n",
      "Global Headquarters & Tasting Room\n",
      "Breck on Blake\n",
      "The Ale House at Amato's,  Denver\n",
      "Breckenridge Brewery & Pub\n",
      "Main Brewery\n",
      "Fort Collins\n",
      "The Ale House, Grand Junction\n",
      "Main Brewery\n",
      "Los Angeles\n",
      "Main Brewery\n",
      "Fairfield\n",
      "Main Brewery\n",
      "Main Brewery\n",
      "Main Brewery\n"
     ]
    }
   ],
   "source": [
    "for brewery in jsonResponse['data']:\n",
    "    print(brewery['name'])"
   ]
  },
  {
   "cell_type": "code",
   "execution_count": 113,
   "metadata": {},
   "outputs": [
    {
     "name": "stdout",
     "output_type": "stream",
     "text": [
      "Asheville\n",
      "Baldwinsville\n",
      "Breck on Blake\n",
      "Breckenridge Brewery & Farmhouse\n",
      "Breckenridge Brewery & Pub\n",
      "Brevard\n",
      "Cartersville\n",
      "Charleston Taproom & Beer Sanctuary\n",
      "Chicago\n",
      "Columbus\n",
      "Fairfield\n",
      "Fort Collins\n",
      "Global Headquarters & Tasting Room\n",
      "Headquarters\n",
      "Houston\n",
      "Jacksonville\n",
      "Los Angeles\n",
      "Main Brewery\n",
      "Main Brewery\n",
      "Main Brewery\n",
      "Main Brewery\n",
      "Main Brewery\n",
      "Main Brewery\n",
      "Main Brewery\n",
      "Main Brewery\n",
      "Main Brewery\n",
      "Main Brewery\n",
      "Main Brewery\n",
      "Main Brewery\n",
      "Main Brewery\n",
      "Main Brewpub\n",
      "Merrimack\n",
      "New Holland Brewing\n",
      "Newark\n",
      "Oskar Blues\n",
      "Production Campus, Sales & Marketing\n",
      "The Ale House at Amato's,  Denver\n",
      "The Ale House, Grand Junction\n",
      "The Knickerbocker\n",
      "Williamsburg\n"
     ]
    }
   ],
   "source": [
    "for brewery in jsonResponse['data']:\n",
    "    print(brewery['name'])"
   ]
  },
  {
   "cell_type": "markdown",
   "metadata": {},
   "source": [
    "https://www.brewerydb.com/search?q=nebraska"
   ]
  }
 ],
 "metadata": {
  "kernelspec": {
   "display_name": "Python 3",
   "language": "python",
   "name": "python3"
  },
  "language_info": {
   "codemirror_mode": {
    "name": "ipython",
    "version": 3
   },
   "file_extension": ".py",
   "mimetype": "text/x-python",
   "name": "python",
   "nbconvert_exporter": "python",
   "pygments_lexer": "ipython3",
   "version": "3.8.5"
  }
 },
 "nbformat": 4,
 "nbformat_minor": 4
}
