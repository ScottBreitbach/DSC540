{
 "cells": [
  {
   "cell_type": "code",
   "execution_count": 1,
   "metadata": {},
   "outputs": [],
   "source": [
    "import sqlite3\n",
    "import pandas as pd"
   ]
  },
  {
   "cell_type": "code",
   "execution_count": 2,
   "metadata": {},
   "outputs": [],
   "source": [
    "testDF = pd.read_csv('testData.csv')\n",
    "nebrDF = pd.read_csv('nebraska.csv')"
   ]
  },
  {
   "cell_type": "markdown",
   "metadata": {},
   "source": [
    "Create the DB:"
   ]
  },
  {
   "cell_type": "code",
   "execution_count": 3,
   "metadata": {},
   "outputs": [],
   "source": [
    "conn = sqlite3.connect('TestDB.db')\n",
    "cursor = conn.cursor()"
   ]
  },
  {
   "cell_type": "markdown",
   "metadata": {},
   "source": [
    "Create the table:"
   ]
  },
  {
   "cell_type": "code",
   "execution_count": 4,
   "metadata": {},
   "outputs": [],
   "source": [
    "# c.execute('CREATE TABLE IF NOT EXISTS test (Brewery Name, City, State, Type of Brewery, Type of Distribution, Notes, Num Locations, Locations)')\n",
    "# conn.commit()"
   ]
  },
  {
   "cell_type": "markdown",
   "metadata": {},
   "source": [
    "Get from pandas DF to SQL:"
   ]
  },
  {
   "cell_type": "code",
   "execution_count": 5,
   "metadata": {},
   "outputs": [
    {
     "name": "stderr",
     "output_type": "stream",
     "text": [
      "C:\\ProgramData\\Anaconda3\\lib\\site-packages\\pandas\\core\\generic.py:2605: UserWarning: The spaces in these column names will not be changed. In pandas versions < 0.14, spaces were converted to underscores.\n",
      "  sql.to_sql(\n"
     ]
    }
   ],
   "source": [
    "testDF.to_sql('test', conn, if_exists='replace', index=False)"
   ]
  },
  {
   "cell_type": "markdown",
   "metadata": {},
   "source": [
    "Take a look:"
   ]
  },
  {
   "cell_type": "code",
   "execution_count": 6,
   "metadata": {},
   "outputs": [
    {
     "name": "stdout",
     "output_type": "stream",
     "text": [
      "('Backswing Brewing Co.', 'Lincoln', 'Nebraska', 'Micro', 'On-tap at the brewery and at select locations', 'Distro planned for 2016', 1, 'Lincoln')\n",
      "('Benson Brewery', 'Omaha', 'Nebraska', 'Taproom', 'On tap only at the brewery', 'Other beers, locals included, on tap. Omaha Brewing is the parent company', 1, 'Omaha')\n",
      "('Boiler Brewing Company', 'Lincoln', 'Nebraska', 'Taproom', 'On tap only at the brewery', 'Tours posted on FB page', 2, 'Lincoln / Lincoln - South')\n",
      "('Bolo Beer Co.', 'Valentine', 'Nebraska', 'Taproom', 'On tap at the brewery and select distribution around Omaha', None, 1, 'Valentine')\n",
      "('Bootleg Brewers, Sandhills Brewing Co.', 'Taylor', 'Nebraska', 'Brewpub', 'Taproom only', 'Steakhouse and lodging available', 1, 'Taylor')\n"
     ]
    }
   ],
   "source": [
    "cursor.execute('''SELECT * FROM test''')\n",
    "\n",
    "for row in cursor.fetchall()[:5]:\n",
    "    print(row)"
   ]
  },
  {
   "cell_type": "markdown",
   "metadata": {},
   "source": [
    "Get a list of the tables:"
   ]
  },
  {
   "cell_type": "code",
   "execution_count": 7,
   "metadata": {},
   "outputs": [
    {
     "name": "stdout",
     "output_type": "stream",
     "text": [
      "nebr\n",
      "csvtable\n",
      "webtable\n",
      "apitable\n",
      "test\n"
     ]
    }
   ],
   "source": [
    "res = conn.execute('''\n",
    "    SELECT name FROM sqlite_master WHERE type='table';\n",
    "''')\n",
    "\n",
    "for name in res:\n",
    "    print(name[0])"
   ]
  },
  {
   "cell_type": "code",
   "execution_count": 8,
   "metadata": {},
   "outputs": [],
   "source": [
    "with sqlite3.connect('TestDB.db') as conn:\n",
    "    cursor = conn.cursor()\n",
    "    testDF.to_sql('test', conn, if_exists='replace', index=False)\n",
    "    nebrDF.to_sql('nebr', conn, if_exists='replace', index=False)"
   ]
  },
  {
   "cell_type": "code",
   "execution_count": 9,
   "metadata": {},
   "outputs": [
    {
     "name": "stdout",
     "output_type": "stream",
     "text": [
      "('Backswing Brewing Co.', 'Lincoln', 'Nebraska', 'Micro', 'On-tap at the brewery and at select locations', 'Distro planned for 2016', 1, 'Lincoln')\n",
      "('Benson Brewery', 'Omaha', 'Nebraska', 'Taproom', 'On tap only at the brewery', 'Other beers, locals included, on tap. Omaha Brewing is the parent company', 1, 'Omaha')\n",
      "('Boiler Brewing Company', 'Lincoln', 'Nebraska', 'Taproom', 'On tap only at the brewery', 'Tours posted on FB page', 2, 'Lincoln / Lincoln - South')\n",
      "('Bolo Beer Co.', 'Valentine', 'Nebraska', 'Taproom', 'On tap at the brewery and select distribution around Omaha', None, 1, 'Valentine')\n",
      "('Bootleg Brewers, Sandhills Brewing Co.', 'Taylor', 'Nebraska', 'Brewpub', 'Taproom only', 'Steakhouse and lodging available', 1, 'Taylor')\n"
     ]
    }
   ],
   "source": [
    "cursor.execute('''SELECT * FROM test''')\n",
    "\n",
    "for row in cursor.fetchall()[:5]:\n",
    "    print(row)"
   ]
  },
  {
   "cell_type": "code",
   "execution_count": 10,
   "metadata": {},
   "outputs": [
    {
     "name": "stdout",
     "output_type": "stream",
     "text": [
      "('backswing-brewing-co-lincoln', 'Backswing Brewing Co.', 'micro', '500 W South St Ste 8', None, None, 'Lincoln', 'Nebraska', None, '68522-1744', 'http://www.backswingbrewing.com', 4025154263.0, '2018-07-24 01:33:43', '2018-08-11 21:38:14', 'United States', None, None, None)\n",
      "('barley-boys-brewery-omaha', 'Barley Boys Brewery', 'planning', None, None, None, 'Omaha', 'Nebraska', None, '68144-1922', 'http://www.barleyboysbrewery.com', 4025986096.0, '2018-07-24 01:33:43', '2018-08-11 21:38:14', 'United States', None, None, None)\n",
      "('benson-brewery-omaha', 'Benson Brewery', 'brewpub', '6059 Maple St', None, None, 'Omaha', 'Nebraska', None, '68104-4050', 'http://www.bensonbrewery.com', 4029348668.0, '2018-07-24 01:33:43', '2018-08-24 00:47:32', 'United States', -96.00634511, 41.28489756, None)\n",
      "('blue-blood-brewing-company-lincoln', 'Blue Blood Brewing Company', 'brewpub', '925 Robbers Cave Rd', None, None, 'Lincoln', 'Nebraska', None, '68502', 'http://www.bluebloodbrewing.com', 4024772337.0, '2018-07-24 01:33:43', '2018-08-24 00:47:33', 'United States', -96.70701376, 40.77999602, None)\n",
      "('boiler-brewing-company-lincoln', 'Boiler Brewing Company', 'micro', '129 N 10th St Ste 8', None, None, 'Lincoln', 'Nebraska', None, '68508-3633', 'http://www.boilerbrewingcompany.com', 4022618775.0, '2018-07-24 01:33:43', '2018-08-11 21:38:14', 'United States', None, None, None)\n"
     ]
    }
   ],
   "source": [
    "cursor.execute('''SELECT * FROM nebr''')\n",
    "\n",
    "for row in cursor.fetchall()[:5]:\n",
    "    print(row)"
   ]
  },
  {
   "cell_type": "code",
   "execution_count": null,
   "metadata": {},
   "outputs": [],
   "source": []
  },
  {
   "cell_type": "code",
   "execution_count": null,
   "metadata": {},
   "outputs": [],
   "source": []
  },
  {
   "cell_type": "code",
   "execution_count": null,
   "metadata": {},
   "outputs": [],
   "source": []
  },
  {
   "cell_type": "code",
   "execution_count": null,
   "metadata": {},
   "outputs": [],
   "source": []
  },
  {
   "cell_type": "code",
   "execution_count": null,
   "metadata": {},
   "outputs": [],
   "source": []
  },
  {
   "cell_type": "code",
   "execution_count": null,
   "metadata": {},
   "outputs": [],
   "source": []
  },
  {
   "cell_type": "markdown",
   "metadata": {},
   "source": [
    "## Column headers - replace spaces with underscores"
   ]
  },
  {
   "cell_type": "code",
   "execution_count": 11,
   "metadata": {},
   "outputs": [],
   "source": [
    "csvData = pd.read_csv(\"CSV_nebraskaCleaned.csv\")\n",
    "webData = pd.read_csv(\"WEB_NEbeerReddit.csv\")\n",
    "apiData = pd.read_csv(\"API_beerMapping.csv\")"
   ]
  },
  {
   "cell_type": "code",
   "execution_count": 12,
   "metadata": {},
   "outputs": [
    {
     "data": {
      "text/plain": [
       "Index(['Brewery ID', 'Brewery Name', 'Type of Brewery', 'Street Address',\n",
       "       'City', 'State', 'Postal Code', '5-digit Zip', 'Website', 'Phone',\n",
       "       'Longitude', 'Latitude'],\n",
       "      dtype='object')"
      ]
     },
     "execution_count": 12,
     "metadata": {},
     "output_type": "execute_result"
    }
   ],
   "source": [
    "csvData.columns"
   ]
  },
  {
   "cell_type": "code",
   "execution_count": 14,
   "metadata": {},
   "outputs": [],
   "source": [
    "# csvData.columns.replace(\" \", \"_\")"
   ]
  },
  {
   "cell_type": "code",
   "execution_count": 15,
   "metadata": {},
   "outputs": [
    {
     "name": "stdout",
     "output_type": "stream",
     "text": [
      "Brewery ID\n",
      "Brewery Name\n",
      "Type of Brewery\n",
      "Street Address\n",
      "City\n",
      "State\n",
      "Postal Code\n",
      "5-digit Zip\n",
      "Website\n",
      "Phone\n",
      "Longitude\n",
      "Latitude\n"
     ]
    }
   ],
   "source": [
    "for c in csvData.columns:\n",
    "    print(c)"
   ]
  },
  {
   "cell_type": "code",
   "execution_count": 16,
   "metadata": {},
   "outputs": [
    {
     "data": {
      "text/plain": [
       "['Brewery_ID',\n",
       " 'Brewery_Name',\n",
       " 'Type_of_Brewery',\n",
       " 'Street_Address',\n",
       " 'City',\n",
       " 'State',\n",
       " 'Postal_Code',\n",
       " '5-digit_Zip',\n",
       " 'Website',\n",
       " 'Phone',\n",
       " 'Longitude',\n",
       " 'Latitude']"
      ]
     },
     "execution_count": 16,
     "metadata": {},
     "output_type": "execute_result"
    }
   ],
   "source": [
    "newCols = []\n",
    "for c in csvData.columns:\n",
    "    newCols.append(c.replace(\" \", \"_\"))\n",
    "newCols"
   ]
  },
  {
   "cell_type": "code",
   "execution_count": 17,
   "metadata": {},
   "outputs": [],
   "source": [
    "csvData.columns = newCols"
   ]
  },
  {
   "cell_type": "code",
   "execution_count": 18,
   "metadata": {},
   "outputs": [
    {
     "data": {
      "text/plain": [
       "Index(['Brewery_ID', 'Brewery_Name', 'Type_of_Brewery', 'Street_Address',\n",
       "       'City', 'State', 'Postal_Code', '5-digit_Zip', 'Website', 'Phone',\n",
       "       'Longitude', 'Latitude'],\n",
       "      dtype='object')"
      ]
     },
     "execution_count": 18,
     "metadata": {},
     "output_type": "execute_result"
    }
   ],
   "source": [
    "csvData.columns"
   ]
  },
  {
   "cell_type": "markdown",
   "metadata": {},
   "source": [
    "### This part here:"
   ]
  },
  {
   "cell_type": "code",
   "execution_count": 19,
   "metadata": {},
   "outputs": [],
   "source": [
    "def colSpaceToUnderscore(df):\n",
    "    '''Replaces spaces with underscores in the column names of a DataFrame'''\n",
    "#     print(f\"Old column names:\\n{df.columns}\")\n",
    "    newCols = []\n",
    "    for c in df.columns:\n",
    "        newCols.append(c.replace(' ', '_'))\n",
    "    df.columns = newCols\n",
    "    print(f\"New column names:\\n{df.columns}\")          "
   ]
  },
  {
   "cell_type": "code",
   "execution_count": 20,
   "metadata": {},
   "outputs": [
    {
     "name": "stdout",
     "output_type": "stream",
     "text": [
      "New column names:\n",
      "Index(['Brewery_Name', 'City', 'State', 'Type_of_Brewery',\n",
      "       'Type_of_Distribution', 'Notes', '#_Locations', 'Locations'],\n",
      "      dtype='object')\n"
     ]
    }
   ],
   "source": [
    "colSpaceToUnderscore(webData)"
   ]
  },
  {
   "cell_type": "code",
   "execution_count": 21,
   "metadata": {},
   "outputs": [
    {
     "name": "stdout",
     "output_type": "stream",
     "text": [
      "New column names:\n",
      "Index(['Brewery_Name', 'City', 'State', 'Type_of_Brewery',\n",
      "       'Type_of_Distribution', 'Notes', '#_Locations', 'Locations'],\n",
      "      dtype='object')\n"
     ]
    }
   ],
   "source": [
    "colSpaceToUnderscore(webData)"
   ]
  },
  {
   "cell_type": "code",
   "execution_count": 22,
   "metadata": {},
   "outputs": [
    {
     "data": {
      "text/plain": [
       "Index(['Brewery_Name', 'City', 'State', 'Type_of_Brewery',\n",
       "       'Type_of_Distribution', 'Notes', '#_Locations', 'Locations'],\n",
       "      dtype='object')"
      ]
     },
     "execution_count": 22,
     "metadata": {},
     "output_type": "execute_result"
    }
   ],
   "source": [
    "webData.columns"
   ]
  },
  {
   "cell_type": "code",
   "execution_count": 23,
   "metadata": {},
   "outputs": [
    {
     "name": "stdout",
     "output_type": "stream",
     "text": [
      "The new column names are: Index(['Brewery_Name', 'City', 'State', 'Type_of_Brewery',\n",
      "       'Type_of_Distribution', 'Notes', '#_Locations', 'Locations'],\n",
      "      dtype='object')\n"
     ]
    }
   ],
   "source": [
    "print(f\"The new column names are: {webData.columns}\")"
   ]
  },
  {
   "cell_type": "code",
   "execution_count": 24,
   "metadata": {},
   "outputs": [
    {
     "name": "stdout",
     "output_type": "stream",
     "text": [
      "New column names:\n",
      "Index(['BreweryID', 'BreweryName', 'Type', 'ReviewLink', 'ProxyLink', 'Map',\n",
      "       'StreetAddress', 'City', 'State', 'Zip', 'Country', 'PhoneNum',\n",
      "       'Website', 'Rating', 'ImageCount'],\n",
      "      dtype='object')\n"
     ]
    }
   ],
   "source": [
    "colSpaceToUnderscore(apiData)"
   ]
  },
  {
   "cell_type": "code",
   "execution_count": 25,
   "metadata": {},
   "outputs": [
    {
     "data": {
      "text/html": [
       "<div>\n",
       "<style scoped>\n",
       "    .dataframe tbody tr th:only-of-type {\n",
       "        vertical-align: middle;\n",
       "    }\n",
       "\n",
       "    .dataframe tbody tr th {\n",
       "        vertical-align: top;\n",
       "    }\n",
       "\n",
       "    .dataframe thead th {\n",
       "        text-align: right;\n",
       "    }\n",
       "</style>\n",
       "<table border=\"1\" class=\"dataframe\">\n",
       "  <thead>\n",
       "    <tr style=\"text-align: right;\">\n",
       "      <th></th>\n",
       "      <th>Brewery_ID</th>\n",
       "      <th>Brewery_Name</th>\n",
       "      <th>Type_of_Brewery</th>\n",
       "      <th>Street_Address</th>\n",
       "      <th>City</th>\n",
       "      <th>State</th>\n",
       "      <th>Postal_Code</th>\n",
       "      <th>5-digit_Zip</th>\n",
       "      <th>Website</th>\n",
       "      <th>Phone</th>\n",
       "      <th>Longitude</th>\n",
       "      <th>Latitude</th>\n",
       "    </tr>\n",
       "  </thead>\n",
       "  <tbody>\n",
       "    <tr>\n",
       "      <th>0</th>\n",
       "      <td>backswing-brewing-co-lincoln</td>\n",
       "      <td>Backswing Brewing Co.</td>\n",
       "      <td>Micro</td>\n",
       "      <td>500 W South St Ste 8</td>\n",
       "      <td>Lincoln</td>\n",
       "      <td>Nebraska</td>\n",
       "      <td>68522-1744</td>\n",
       "      <td>68522</td>\n",
       "      <td>http://www.backswingbrewing.com</td>\n",
       "      <td>(402) 515-4263</td>\n",
       "      <td>NaN</td>\n",
       "      <td>NaN</td>\n",
       "    </tr>\n",
       "    <tr>\n",
       "      <th>1</th>\n",
       "      <td>benson-brewery-omaha</td>\n",
       "      <td>Benson Brewery</td>\n",
       "      <td>Brewpub</td>\n",
       "      <td>6059 Maple St</td>\n",
       "      <td>Omaha</td>\n",
       "      <td>Nebraska</td>\n",
       "      <td>68104-4050</td>\n",
       "      <td>68104</td>\n",
       "      <td>http://www.bensonbrewery.com</td>\n",
       "      <td>(402) 934-8668</td>\n",
       "      <td>-96.006345</td>\n",
       "      <td>41.284898</td>\n",
       "    </tr>\n",
       "    <tr>\n",
       "      <th>2</th>\n",
       "      <td>blue-blood-brewing-company-lincoln</td>\n",
       "      <td>Blue Blood Brewing Company</td>\n",
       "      <td>Brewpub</td>\n",
       "      <td>925 Robbers Cave Rd</td>\n",
       "      <td>Lincoln</td>\n",
       "      <td>Nebraska</td>\n",
       "      <td>68502</td>\n",
       "      <td>68502</td>\n",
       "      <td>http://www.bluebloodbrewing.com</td>\n",
       "      <td>(402) 477-2337</td>\n",
       "      <td>-96.707014</td>\n",
       "      <td>40.779996</td>\n",
       "    </tr>\n",
       "    <tr>\n",
       "      <th>3</th>\n",
       "      <td>boiler-brewing-company-lincoln</td>\n",
       "      <td>Boiler Brewing Company</td>\n",
       "      <td>Micro</td>\n",
       "      <td>129 N 10th St Ste 8</td>\n",
       "      <td>Lincoln</td>\n",
       "      <td>Nebraska</td>\n",
       "      <td>68508-3633</td>\n",
       "      <td>68508</td>\n",
       "      <td>http://www.boilerbrewingcompany.com</td>\n",
       "      <td>(402) 261-8775</td>\n",
       "      <td>NaN</td>\n",
       "      <td>NaN</td>\n",
       "    </tr>\n",
       "    <tr>\n",
       "      <th>4</th>\n",
       "      <td>bolo-beer-co-valentine</td>\n",
       "      <td>Bolo Beer Co</td>\n",
       "      <td>Micro</td>\n",
       "      <td>420 E 1st St</td>\n",
       "      <td>Valentine</td>\n",
       "      <td>Nebraska</td>\n",
       "      <td>69201-1904</td>\n",
       "      <td>69201</td>\n",
       "      <td>http://www.bolobeer.com</td>\n",
       "      <td>(402) 259-5180</td>\n",
       "      <td>-100.545728</td>\n",
       "      <td>42.872047</td>\n",
       "    </tr>\n",
       "  </tbody>\n",
       "</table>\n",
       "</div>"
      ],
      "text/plain": [
       "                           Brewery_ID                Brewery_Name  \\\n",
       "0        backswing-brewing-co-lincoln       Backswing Brewing Co.   \n",
       "1                benson-brewery-omaha              Benson Brewery   \n",
       "2  blue-blood-brewing-company-lincoln  Blue Blood Brewing Company   \n",
       "3      boiler-brewing-company-lincoln      Boiler Brewing Company   \n",
       "4              bolo-beer-co-valentine                Bolo Beer Co   \n",
       "\n",
       "  Type_of_Brewery        Street_Address       City     State Postal_Code  \\\n",
       "0           Micro  500 W South St Ste 8    Lincoln  Nebraska  68522-1744   \n",
       "1         Brewpub         6059 Maple St      Omaha  Nebraska  68104-4050   \n",
       "2         Brewpub   925 Robbers Cave Rd    Lincoln  Nebraska       68502   \n",
       "3           Micro   129 N 10th St Ste 8    Lincoln  Nebraska  68508-3633   \n",
       "4           Micro          420 E 1st St  Valentine  Nebraska  69201-1904   \n",
       "\n",
       "   5-digit_Zip                              Website           Phone  \\\n",
       "0        68522      http://www.backswingbrewing.com  (402) 515-4263   \n",
       "1        68104         http://www.bensonbrewery.com  (402) 934-8668   \n",
       "2        68502      http://www.bluebloodbrewing.com  (402) 477-2337   \n",
       "3        68508  http://www.boilerbrewingcompany.com  (402) 261-8775   \n",
       "4        69201              http://www.bolobeer.com  (402) 259-5180   \n",
       "\n",
       "    Longitude   Latitude  \n",
       "0         NaN        NaN  \n",
       "1  -96.006345  41.284898  \n",
       "2  -96.707014  40.779996  \n",
       "3         NaN        NaN  \n",
       "4 -100.545728  42.872047  "
      ]
     },
     "execution_count": 25,
     "metadata": {},
     "output_type": "execute_result"
    }
   ],
   "source": [
    "csvData.head()"
   ]
  },
  {
   "cell_type": "code",
   "execution_count": 26,
   "metadata": {},
   "outputs": [
    {
     "data": {
      "text/plain": [
       "array(['Micro', 'Brewpub'], dtype=object)"
      ]
     },
     "execution_count": 26,
     "metadata": {},
     "output_type": "execute_result"
    }
   ],
   "source": [
    "csvData.Type_of_Brewery.unique()"
   ]
  },
  {
   "cell_type": "code",
   "execution_count": 27,
   "metadata": {},
   "outputs": [
    {
     "data": {
      "text/html": [
       "<div>\n",
       "<style scoped>\n",
       "    .dataframe tbody tr th:only-of-type {\n",
       "        vertical-align: middle;\n",
       "    }\n",
       "\n",
       "    .dataframe tbody tr th {\n",
       "        vertical-align: top;\n",
       "    }\n",
       "\n",
       "    .dataframe thead th {\n",
       "        text-align: right;\n",
       "    }\n",
       "</style>\n",
       "<table border=\"1\" class=\"dataframe\">\n",
       "  <thead>\n",
       "    <tr style=\"text-align: right;\">\n",
       "      <th></th>\n",
       "      <th>Brewery_Name</th>\n",
       "      <th>City</th>\n",
       "      <th>State</th>\n",
       "      <th>Type_of_Brewery</th>\n",
       "      <th>Type_of_Distribution</th>\n",
       "      <th>Notes</th>\n",
       "      <th>#_Locations</th>\n",
       "      <th>Locations</th>\n",
       "    </tr>\n",
       "  </thead>\n",
       "  <tbody>\n",
       "    <tr>\n",
       "      <th>0</th>\n",
       "      <td>Backswing Brewing Co.</td>\n",
       "      <td>Lincoln</td>\n",
       "      <td>Nebraska</td>\n",
       "      <td>Micro</td>\n",
       "      <td>On-tap at the brewery and at select locations</td>\n",
       "      <td>Distro planned for 2016</td>\n",
       "      <td>1</td>\n",
       "      <td>Lincoln</td>\n",
       "    </tr>\n",
       "    <tr>\n",
       "      <th>1</th>\n",
       "      <td>Benson Brewery</td>\n",
       "      <td>Omaha</td>\n",
       "      <td>Nebraska</td>\n",
       "      <td>Taproom</td>\n",
       "      <td>On tap only at the brewery</td>\n",
       "      <td>Other beers, locals included, on tap. Omaha Br...</td>\n",
       "      <td>1</td>\n",
       "      <td>Omaha</td>\n",
       "    </tr>\n",
       "    <tr>\n",
       "      <th>2</th>\n",
       "      <td>Boiler Brewing Company</td>\n",
       "      <td>Lincoln</td>\n",
       "      <td>Nebraska</td>\n",
       "      <td>Taproom</td>\n",
       "      <td>On tap only at the brewery</td>\n",
       "      <td>Tours posted on FB page</td>\n",
       "      <td>2</td>\n",
       "      <td>Lincoln / Lincoln - South</td>\n",
       "    </tr>\n",
       "    <tr>\n",
       "      <th>3</th>\n",
       "      <td>Bolo Beer Co.</td>\n",
       "      <td>Valentine</td>\n",
       "      <td>Nebraska</td>\n",
       "      <td>Taproom</td>\n",
       "      <td>On tap at the brewery and select distribution ...</td>\n",
       "      <td>NaN</td>\n",
       "      <td>1</td>\n",
       "      <td>Valentine</td>\n",
       "    </tr>\n",
       "    <tr>\n",
       "      <th>4</th>\n",
       "      <td>Bootleg Brewers, Sandhills Brewing Co.</td>\n",
       "      <td>Taylor</td>\n",
       "      <td>Nebraska</td>\n",
       "      <td>Brewpub</td>\n",
       "      <td>Taproom only</td>\n",
       "      <td>Steakhouse and lodging available</td>\n",
       "      <td>1</td>\n",
       "      <td>Taylor</td>\n",
       "    </tr>\n",
       "  </tbody>\n",
       "</table>\n",
       "</div>"
      ],
      "text/plain": [
       "                             Brewery_Name       City     State  \\\n",
       "0                   Backswing Brewing Co.    Lincoln  Nebraska   \n",
       "1                          Benson Brewery      Omaha  Nebraska   \n",
       "2                  Boiler Brewing Company    Lincoln  Nebraska   \n",
       "3                           Bolo Beer Co.  Valentine  Nebraska   \n",
       "4  Bootleg Brewers, Sandhills Brewing Co.     Taylor  Nebraska   \n",
       "\n",
       "  Type_of_Brewery                               Type_of_Distribution  \\\n",
       "0           Micro      On-tap at the brewery and at select locations   \n",
       "1         Taproom                         On tap only at the brewery   \n",
       "2         Taproom                         On tap only at the brewery   \n",
       "3         Taproom  On tap at the brewery and select distribution ...   \n",
       "4         Brewpub                                       Taproom only   \n",
       "\n",
       "                                               Notes  #_Locations  \\\n",
       "0                            Distro planned for 2016            1   \n",
       "1  Other beers, locals included, on tap. Omaha Br...            1   \n",
       "2                            Tours posted on FB page            2   \n",
       "3                                                NaN            1   \n",
       "4                   Steakhouse and lodging available            1   \n",
       "\n",
       "                   Locations  \n",
       "0                    Lincoln  \n",
       "1                      Omaha  \n",
       "2  Lincoln / Lincoln - South  \n",
       "3                  Valentine  \n",
       "4                     Taylor  "
      ]
     },
     "execution_count": 27,
     "metadata": {},
     "output_type": "execute_result"
    }
   ],
   "source": [
    "webData.head()"
   ]
  },
  {
   "cell_type": "code",
   "execution_count": 28,
   "metadata": {},
   "outputs": [
    {
     "data": {
      "text/plain": [
       "array(['Micro', 'Taproom', 'Brewpub', 'Chain', 'Micro/Brewpub'],\n",
       "      dtype=object)"
      ]
     },
     "execution_count": 28,
     "metadata": {},
     "output_type": "execute_result"
    }
   ],
   "source": [
    "webData.Type_of_Brewery.unique()"
   ]
  },
  {
   "cell_type": "code",
   "execution_count": 29,
   "metadata": {},
   "outputs": [
    {
     "data": {
      "text/html": [
       "<div>\n",
       "<style scoped>\n",
       "    .dataframe tbody tr th:only-of-type {\n",
       "        vertical-align: middle;\n",
       "    }\n",
       "\n",
       "    .dataframe tbody tr th {\n",
       "        vertical-align: top;\n",
       "    }\n",
       "\n",
       "    .dataframe thead th {\n",
       "        text-align: right;\n",
       "    }\n",
       "</style>\n",
       "<table border=\"1\" class=\"dataframe\">\n",
       "  <thead>\n",
       "    <tr style=\"text-align: right;\">\n",
       "      <th></th>\n",
       "      <th>BreweryID</th>\n",
       "      <th>BreweryName</th>\n",
       "      <th>Type</th>\n",
       "      <th>ReviewLink</th>\n",
       "      <th>ProxyLink</th>\n",
       "      <th>Map</th>\n",
       "      <th>StreetAddress</th>\n",
       "      <th>City</th>\n",
       "      <th>State</th>\n",
       "      <th>Zip</th>\n",
       "      <th>Country</th>\n",
       "      <th>PhoneNum</th>\n",
       "      <th>Website</th>\n",
       "      <th>Rating</th>\n",
       "      <th>ImageCount</th>\n",
       "    </tr>\n",
       "  </thead>\n",
       "  <tbody>\n",
       "    <tr>\n",
       "      <th>0</th>\n",
       "      <td>21938</td>\n",
       "      <td>Catalyst Brewing Company</td>\n",
       "      <td>Brewery</td>\n",
       "      <td>https://beermapping.com/location/21938</td>\n",
       "      <td>http://beermapping.com/maps/proxymaps.php?loci...</td>\n",
       "      <td>http://beermapping.com/maps/blogproxy.php?loci...</td>\n",
       "      <td>5730 Hidcote Drive</td>\n",
       "      <td>Lincoln</td>\n",
       "      <td>NE</td>\n",
       "      <td>68516</td>\n",
       "      <td>United States</td>\n",
       "      <td>402-875-5588</td>\n",
       "      <td>NaN</td>\n",
       "      <td>0.0</td>\n",
       "      <td>0</td>\n",
       "    </tr>\n",
       "    <tr>\n",
       "      <th>1</th>\n",
       "      <td>19644</td>\n",
       "      <td>Backswing Brewing Co.</td>\n",
       "      <td>Brewery</td>\n",
       "      <td>https://beermapping.com/location/19644</td>\n",
       "      <td>http://beermapping.com/maps/proxymaps.php?loci...</td>\n",
       "      <td>http://beermapping.com/maps/blogproxy.php?loci...</td>\n",
       "      <td>500 W South St #8</td>\n",
       "      <td>Lincoln</td>\n",
       "      <td>NE</td>\n",
       "      <td>68522</td>\n",
       "      <td>United States</td>\n",
       "      <td>(402) 515-4263</td>\n",
       "      <td>facebook.com/BackswingBrewingCo/timeline</td>\n",
       "      <td>0.0</td>\n",
       "      <td>0</td>\n",
       "    </tr>\n",
       "    <tr>\n",
       "      <th>2</th>\n",
       "      <td>17706</td>\n",
       "      <td>Benson Brewery</td>\n",
       "      <td>Brewpub</td>\n",
       "      <td>https://beermapping.com/location/17706</td>\n",
       "      <td>http://beermapping.com/maps/proxymaps.php?loci...</td>\n",
       "      <td>http://beermapping.com/maps/blogproxy.php?loci...</td>\n",
       "      <td>6059 Maple Street</td>\n",
       "      <td>Omaha</td>\n",
       "      <td>NE</td>\n",
       "      <td>68104</td>\n",
       "      <td>United States</td>\n",
       "      <td>(402) 937-1892</td>\n",
       "      <td>bensonbrewery.com</td>\n",
       "      <td>0.0</td>\n",
       "      <td>0</td>\n",
       "    </tr>\n",
       "    <tr>\n",
       "      <th>3</th>\n",
       "      <td>20376</td>\n",
       "      <td>Boiler Brewing Company</td>\n",
       "      <td>Brewery</td>\n",
       "      <td>https://beermapping.com/location/20376</td>\n",
       "      <td>http://beermapping.com/maps/proxymaps.php?loci...</td>\n",
       "      <td>http://beermapping.com/maps/blogproxy.php?loci...</td>\n",
       "      <td>129 N 10th St, Suite 8</td>\n",
       "      <td>Lincoln</td>\n",
       "      <td>NE</td>\n",
       "      <td>68508</td>\n",
       "      <td>United States</td>\n",
       "      <td>402-261-8775</td>\n",
       "      <td>boilerbrewingcompany.com</td>\n",
       "      <td>0.0</td>\n",
       "      <td>0</td>\n",
       "    </tr>\n",
       "    <tr>\n",
       "      <th>4</th>\n",
       "      <td>20287</td>\n",
       "      <td>Bolo Beer Co</td>\n",
       "      <td>Brewery</td>\n",
       "      <td>https://beermapping.com/location/20287</td>\n",
       "      <td>http://beermapping.com/maps/proxymaps.php?loci...</td>\n",
       "      <td>http://beermapping.com/maps/blogproxy.php?loci...</td>\n",
       "      <td>420 East 1st St</td>\n",
       "      <td>Valentine</td>\n",
       "      <td>NE</td>\n",
       "      <td>69201</td>\n",
       "      <td>United States</td>\n",
       "      <td>NaN</td>\n",
       "      <td>facebook.com/BoloBeerCo</td>\n",
       "      <td>0.0</td>\n",
       "      <td>0</td>\n",
       "    </tr>\n",
       "  </tbody>\n",
       "</table>\n",
       "</div>"
      ],
      "text/plain": [
       "   BreweryID               BreweryName     Type  \\\n",
       "0      21938  Catalyst Brewing Company  Brewery   \n",
       "1      19644     Backswing Brewing Co.  Brewery   \n",
       "2      17706            Benson Brewery  Brewpub   \n",
       "3      20376    Boiler Brewing Company  Brewery   \n",
       "4      20287              Bolo Beer Co  Brewery   \n",
       "\n",
       "                               ReviewLink  \\\n",
       "0  https://beermapping.com/location/21938   \n",
       "1  https://beermapping.com/location/19644   \n",
       "2  https://beermapping.com/location/17706   \n",
       "3  https://beermapping.com/location/20376   \n",
       "4  https://beermapping.com/location/20287   \n",
       "\n",
       "                                           ProxyLink  \\\n",
       "0  http://beermapping.com/maps/proxymaps.php?loci...   \n",
       "1  http://beermapping.com/maps/proxymaps.php?loci...   \n",
       "2  http://beermapping.com/maps/proxymaps.php?loci...   \n",
       "3  http://beermapping.com/maps/proxymaps.php?loci...   \n",
       "4  http://beermapping.com/maps/proxymaps.php?loci...   \n",
       "\n",
       "                                                 Map           StreetAddress  \\\n",
       "0  http://beermapping.com/maps/blogproxy.php?loci...      5730 Hidcote Drive   \n",
       "1  http://beermapping.com/maps/blogproxy.php?loci...       500 W South St #8   \n",
       "2  http://beermapping.com/maps/blogproxy.php?loci...       6059 Maple Street   \n",
       "3  http://beermapping.com/maps/blogproxy.php?loci...  129 N 10th St, Suite 8   \n",
       "4  http://beermapping.com/maps/blogproxy.php?loci...         420 East 1st St   \n",
       "\n",
       "        City State    Zip        Country        PhoneNum  \\\n",
       "0    Lincoln    NE  68516  United States    402-875-5588   \n",
       "1    Lincoln    NE  68522  United States  (402) 515-4263   \n",
       "2      Omaha    NE  68104  United States  (402) 937-1892   \n",
       "3    Lincoln    NE  68508  United States    402-261-8775   \n",
       "4  Valentine    NE  69201  United States             NaN   \n",
       "\n",
       "                                    Website  Rating  ImageCount  \n",
       "0                                       NaN     0.0           0  \n",
       "1  facebook.com/BackswingBrewingCo/timeline     0.0           0  \n",
       "2                         bensonbrewery.com     0.0           0  \n",
       "3                  boilerbrewingcompany.com     0.0           0  \n",
       "4                   facebook.com/BoloBeerCo     0.0           0  "
      ]
     },
     "execution_count": 29,
     "metadata": {},
     "output_type": "execute_result"
    }
   ],
   "source": [
    "apiData.head()"
   ]
  },
  {
   "cell_type": "code",
   "execution_count": 30,
   "metadata": {},
   "outputs": [
    {
     "data": {
      "text/plain": [
       "array(['Brewery', 'Brewpub'], dtype=object)"
      ]
     },
     "execution_count": 30,
     "metadata": {},
     "output_type": "execute_result"
    }
   ],
   "source": [
    "apiData.Type.unique()"
   ]
  },
  {
   "cell_type": "code",
   "execution_count": 31,
   "metadata": {},
   "outputs": [
    {
     "data": {
      "text/html": [
       "<div>\n",
       "<style scoped>\n",
       "    .dataframe tbody tr th:only-of-type {\n",
       "        vertical-align: middle;\n",
       "    }\n",
       "\n",
       "    .dataframe tbody tr th {\n",
       "        vertical-align: top;\n",
       "    }\n",
       "\n",
       "    .dataframe thead th {\n",
       "        text-align: right;\n",
       "    }\n",
       "</style>\n",
       "<table border=\"1\" class=\"dataframe\">\n",
       "  <thead>\n",
       "    <tr style=\"text-align: right;\">\n",
       "      <th></th>\n",
       "      <th>BreweryID</th>\n",
       "      <th>BreweryName</th>\n",
       "      <th>Type</th>\n",
       "      <th>ReviewLink</th>\n",
       "      <th>ProxyLink</th>\n",
       "      <th>Map</th>\n",
       "      <th>StreetAddress</th>\n",
       "      <th>City</th>\n",
       "      <th>State</th>\n",
       "      <th>Zip</th>\n",
       "      <th>Country</th>\n",
       "      <th>PhoneNum</th>\n",
       "      <th>Website</th>\n",
       "      <th>Rating</th>\n",
       "      <th>ImageCount</th>\n",
       "    </tr>\n",
       "  </thead>\n",
       "  <tbody>\n",
       "    <tr>\n",
       "      <th>28</th>\n",
       "      <td>10511</td>\n",
       "      <td>Lucky Bucket Brewing Co</td>\n",
       "      <td>Brewery</td>\n",
       "      <td>https://beermapping.com/location/10511</td>\n",
       "      <td>http://beermapping.com/maps/proxymaps.php?loci...</td>\n",
       "      <td>http://beermapping.com/maps/blogproxy.php?loci...</td>\n",
       "      <td>11941 Centennial Road, Ste 1</td>\n",
       "      <td>La Vista</td>\n",
       "      <td>NE</td>\n",
       "      <td>68128</td>\n",
       "      <td>United States</td>\n",
       "      <td>(402) 763-8868</td>\n",
       "      <td>luckybucketbrewing.com</td>\n",
       "      <td>100.00000</td>\n",
       "      <td>0</td>\n",
       "    </tr>\n",
       "    <tr>\n",
       "      <th>7</th>\n",
       "      <td>18888</td>\n",
       "      <td>Brickway Brewery and Distillery</td>\n",
       "      <td>Brewery</td>\n",
       "      <td>https://beermapping.com/location/18888</td>\n",
       "      <td>http://beermapping.com/maps/proxymaps.php?loci...</td>\n",
       "      <td>http://beermapping.com/maps/blogproxy.php?loci...</td>\n",
       "      <td>1116 Jackson Street</td>\n",
       "      <td>Omaha</td>\n",
       "      <td>NE</td>\n",
       "      <td>68102</td>\n",
       "      <td>United States</td>\n",
       "      <td>(402) 933-2613</td>\n",
       "      <td>http://www.drinkbrickway.com/</td>\n",
       "      <td>93.33340</td>\n",
       "      <td>1</td>\n",
       "    </tr>\n",
       "    <tr>\n",
       "      <th>41</th>\n",
       "      <td>1374</td>\n",
       "      <td>Upstream Brewing Company</td>\n",
       "      <td>Brewpub</td>\n",
       "      <td>https://beermapping.com/location/1374</td>\n",
       "      <td>http://beermapping.com/maps/proxymaps.php?loci...</td>\n",
       "      <td>http://beermapping.com/maps/blogproxy.php?loci...</td>\n",
       "      <td>514 South 11th Street</td>\n",
       "      <td>Omaha</td>\n",
       "      <td>NE</td>\n",
       "      <td>68102</td>\n",
       "      <td>United States</td>\n",
       "      <td>(402) 344-0200</td>\n",
       "      <td>upstreambrewing.com/</td>\n",
       "      <td>83.33340</td>\n",
       "      <td>5</td>\n",
       "    </tr>\n",
       "    <tr>\n",
       "      <th>33</th>\n",
       "      <td>3113</td>\n",
       "      <td>Schilling Bridge Winery and Microbrewery</td>\n",
       "      <td>Brewery</td>\n",
       "      <td>https://beermapping.com/location/3113</td>\n",
       "      <td>http://beermapping.com/maps/proxymaps.php?loci...</td>\n",
       "      <td>http://beermapping.com/maps/blogproxy.php?loci...</td>\n",
       "      <td>710th Road</td>\n",
       "      <td>Pawnee City</td>\n",
       "      <td>NE</td>\n",
       "      <td>68420</td>\n",
       "      <td>United States</td>\n",
       "      <td>402-852-2400</td>\n",
       "      <td>schillingbridgewinery.com</td>\n",
       "      <td>71.66665</td>\n",
       "      <td>5</td>\n",
       "    </tr>\n",
       "    <tr>\n",
       "      <th>22</th>\n",
       "      <td>685</td>\n",
       "      <td>Jaipur Restaurant and Brewpub</td>\n",
       "      <td>Brewpub</td>\n",
       "      <td>https://beermapping.com/location/685</td>\n",
       "      <td>http://beermapping.com/maps/proxymaps.php?loci...</td>\n",
       "      <td>http://beermapping.com/maps/blogproxy.php?loci...</td>\n",
       "      <td>10922 Elm St.</td>\n",
       "      <td>Omaha</td>\n",
       "      <td>NE</td>\n",
       "      <td>68144</td>\n",
       "      <td>United States</td>\n",
       "      <td>(402) 392-7331</td>\n",
       "      <td>NaN</td>\n",
       "      <td>71.66645</td>\n",
       "      <td>0</td>\n",
       "    </tr>\n",
       "    <tr>\n",
       "      <th>0</th>\n",
       "      <td>21938</td>\n",
       "      <td>Catalyst Brewing Company</td>\n",
       "      <td>Brewery</td>\n",
       "      <td>https://beermapping.com/location/21938</td>\n",
       "      <td>http://beermapping.com/maps/proxymaps.php?loci...</td>\n",
       "      <td>http://beermapping.com/maps/blogproxy.php?loci...</td>\n",
       "      <td>5730 Hidcote Drive</td>\n",
       "      <td>Lincoln</td>\n",
       "      <td>NE</td>\n",
       "      <td>68516</td>\n",
       "      <td>United States</td>\n",
       "      <td>402-875-5588</td>\n",
       "      <td>NaN</td>\n",
       "      <td>0.00000</td>\n",
       "      <td>0</td>\n",
       "    </tr>\n",
       "  </tbody>\n",
       "</table>\n",
       "</div>"
      ],
      "text/plain": [
       "    BreweryID                               BreweryName     Type  \\\n",
       "28      10511                   Lucky Bucket Brewing Co  Brewery   \n",
       "7       18888           Brickway Brewery and Distillery  Brewery   \n",
       "41       1374                  Upstream Brewing Company  Brewpub   \n",
       "33       3113  Schilling Bridge Winery and Microbrewery  Brewery   \n",
       "22        685             Jaipur Restaurant and Brewpub  Brewpub   \n",
       "0       21938                  Catalyst Brewing Company  Brewery   \n",
       "\n",
       "                                ReviewLink  \\\n",
       "28  https://beermapping.com/location/10511   \n",
       "7   https://beermapping.com/location/18888   \n",
       "41   https://beermapping.com/location/1374   \n",
       "33   https://beermapping.com/location/3113   \n",
       "22    https://beermapping.com/location/685   \n",
       "0   https://beermapping.com/location/21938   \n",
       "\n",
       "                                            ProxyLink  \\\n",
       "28  http://beermapping.com/maps/proxymaps.php?loci...   \n",
       "7   http://beermapping.com/maps/proxymaps.php?loci...   \n",
       "41  http://beermapping.com/maps/proxymaps.php?loci...   \n",
       "33  http://beermapping.com/maps/proxymaps.php?loci...   \n",
       "22  http://beermapping.com/maps/proxymaps.php?loci...   \n",
       "0   http://beermapping.com/maps/proxymaps.php?loci...   \n",
       "\n",
       "                                                  Map  \\\n",
       "28  http://beermapping.com/maps/blogproxy.php?loci...   \n",
       "7   http://beermapping.com/maps/blogproxy.php?loci...   \n",
       "41  http://beermapping.com/maps/blogproxy.php?loci...   \n",
       "33  http://beermapping.com/maps/blogproxy.php?loci...   \n",
       "22  http://beermapping.com/maps/blogproxy.php?loci...   \n",
       "0   http://beermapping.com/maps/blogproxy.php?loci...   \n",
       "\n",
       "                   StreetAddress         City State    Zip        Country  \\\n",
       "28  11941 Centennial Road, Ste 1     La Vista    NE  68128  United States   \n",
       "7            1116 Jackson Street        Omaha    NE  68102  United States   \n",
       "41         514 South 11th Street        Omaha    NE  68102  United States   \n",
       "33                    710th Road  Pawnee City    NE  68420  United States   \n",
       "22                 10922 Elm St.        Omaha    NE  68144  United States   \n",
       "0             5730 Hidcote Drive      Lincoln    NE  68516  United States   \n",
       "\n",
       "           PhoneNum                        Website     Rating  ImageCount  \n",
       "28   (402) 763-8868         luckybucketbrewing.com  100.00000           0  \n",
       "7    (402) 933-2613  http://www.drinkbrickway.com/   93.33340           1  \n",
       "41   (402) 344-0200           upstreambrewing.com/   83.33340           5  \n",
       "33     402-852-2400      schillingbridgewinery.com   71.66665           5  \n",
       "22  (402) 392-7331                             NaN   71.66645           0  \n",
       "0      402-875-5588                            NaN    0.00000           0  "
      ]
     },
     "execution_count": 31,
     "metadata": {},
     "output_type": "execute_result"
    }
   ],
   "source": [
    "apiData.sort_values('Rating', ascending=False).head(6)"
   ]
  },
  {
   "cell_type": "code",
   "execution_count": null,
   "metadata": {},
   "outputs": [],
   "source": []
  },
  {
   "cell_type": "markdown",
   "metadata": {},
   "source": [
    "## Fixing Addresses\n",
    "https://pypi.org/project/pandas-usaddress/"
   ]
  },
  {
   "cell_type": "code",
   "execution_count": 32,
   "metadata": {},
   "outputs": [],
   "source": [
    "# pip install pandas_usaddress"
   ]
  },
  {
   "cell_type": "code",
   "execution_count": 33,
   "metadata": {},
   "outputs": [],
   "source": [
    "import pandas_usaddress"
   ]
  },
  {
   "cell_type": "code",
   "execution_count": 51,
   "metadata": {},
   "outputs": [],
   "source": [
    "# # breaks address apart into components\n",
    "# testDF = pandas_usaddress.tag(csvData, ['Street_Address'])  \n",
    "# # breaks into components and standardizes Av Ave Avenue, etc to ave\n",
    "# testDF = pandas_usaddress.tag(csvData, ['Street_Address'], standardize=True) \n",
    "# # single column output\n",
    "# testDF = pandas_usaddress.tag(csvData, ['Street_Address'], granularity='single') \n",
    "# standardizes and single column output\n",
    "testDF = pandas_usaddress.tag(csvData, ['Street_Address'], granularity='single', standardize=True) "
   ]
  },
  {
   "cell_type": "code",
   "execution_count": 67,
   "metadata": {},
   "outputs": [],
   "source": [
    "# testDF.tail(12)"
   ]
  },
  {
   "cell_type": "code",
   "execution_count": 57,
   "metadata": {},
   "outputs": [],
   "source": [
    "# csvData.Street_Address == testDF.Street_Address"
   ]
  },
  {
   "cell_type": "code",
   "execution_count": 59,
   "metadata": {},
   "outputs": [
    {
     "data": {
      "text/plain": [
       "39             18 e 21st st\n",
       "40            514 s 11th st\n",
       "41           3501 center st\n",
       "42          720 van dorn st\n",
       "43    2100 magnum cir ste 1\n",
       "Name: SingleLine, dtype: object"
      ]
     },
     "execution_count": 59,
     "metadata": {},
     "output_type": "execute_result"
    }
   ],
   "source": [
    "testDF.SingleLine.tail()"
   ]
  },
  {
   "cell_type": "code",
   "execution_count": 63,
   "metadata": {},
   "outputs": [
    {
     "data": {
      "text/plain": [
       "39             18 E 21St St\n",
       "40            514 S 11Th St\n",
       "41           3501 Center St\n",
       "42          720 Van Dorn St\n",
       "43    2100 Magnum Cir Ste 1\n",
       "Name: SingleLine, dtype: object"
      ]
     },
     "execution_count": 63,
     "metadata": {},
     "output_type": "execute_result"
    }
   ],
   "source": [
    "testDF.SingleLine.str.title().tail()"
   ]
  },
  {
   "cell_type": "markdown",
   "metadata": {},
   "source": [
    "Cool."
   ]
  },
  {
   "cell_type": "code",
   "execution_count": 64,
   "metadata": {},
   "outputs": [],
   "source": [
    "tempDF = csvData.copy()"
   ]
  },
  {
   "cell_type": "code",
   "execution_count": 65,
   "metadata": {},
   "outputs": [],
   "source": [
    "tempDF.Street_Address = testDF.SingleLine.str.title()"
   ]
  },
  {
   "cell_type": "code",
   "execution_count": 75,
   "metadata": {},
   "outputs": [
    {
     "data": {
      "text/plain": [
       "0    500 W South St Ste 8\n",
       "1           6059 Maple St\n",
       "2     925 Robbers Cave Rd\n",
       "3     129 N 10Th St Ste 8\n",
       "4            420 E 1St St\n",
       "Name: Street_Address, dtype: object"
      ]
     },
     "execution_count": 75,
     "metadata": {},
     "output_type": "execute_result"
    }
   ],
   "source": [
    "tempDF.Street_Address.head()"
   ]
  },
  {
   "cell_type": "code",
   "execution_count": null,
   "metadata": {},
   "outputs": [],
   "source": [
    "testDF = pandas_usaddress.tag(csvData, ['Street_Address'], granularity='single', standardize=True) \n",
    "tempDF.Street_Address = testDF.SingleLine.str.title()"
   ]
  },
  {
   "cell_type": "markdown",
   "metadata": {},
   "source": [
    "### This part here:"
   ]
  },
  {
   "cell_type": "code",
   "execution_count": 68,
   "metadata": {},
   "outputs": [],
   "source": [
    "import pandas_usaddress\n",
    "\n",
    "def standardizeAddress(df, colName):\n",
    "    '''Creates street address uniformity'''\n",
    "    tempDF = pandas_usaddress.tag(df, [colName], granularity='single', standardize=True) \n",
    "    df[colName] = tempDF.SingleLine.str.title()"
   ]
  },
  {
   "cell_type": "code",
   "execution_count": 71,
   "metadata": {},
   "outputs": [],
   "source": [
    "standardizeAddress(csvData, 'Street_Address')\n",
    "standardizeAddress(apiData, 'StreetAddress')"
   ]
  },
  {
   "cell_type": "code",
   "execution_count": 73,
   "metadata": {},
   "outputs": [
    {
     "data": {
      "text/plain": [
       "0          5730 Hidcote Dr\n",
       "1         500 W South St 8\n",
       "2            6059 Maple St\n",
       "3    129 N 10Th St Suite 8\n",
       "4             420 E 1St St\n",
       "Name: StreetAddress, dtype: object"
      ]
     },
     "execution_count": 73,
     "metadata": {},
     "output_type": "execute_result"
    }
   ],
   "source": [
    "apiData.StreetAddress.head()"
   ]
  },
  {
   "cell_type": "code",
   "execution_count": 74,
   "metadata": {},
   "outputs": [
    {
     "data": {
      "text/plain": [
       "0    500 W South St Ste 8\n",
       "1           6059 Maple St\n",
       "2     925 Robbers Cave Rd\n",
       "3     129 N 10Th St Ste 8\n",
       "4            420 E 1St St\n",
       "Name: Street_Address, dtype: object"
      ]
     },
     "execution_count": 74,
     "metadata": {},
     "output_type": "execute_result"
    }
   ],
   "source": [
    "csvData.Street_Address.head()"
   ]
  },
  {
   "cell_type": "code",
   "execution_count": null,
   "metadata": {},
   "outputs": [],
   "source": []
  },
  {
   "cell_type": "markdown",
   "metadata": {},
   "source": [
    "## What to fix next... Omaha?\n",
    "Omaha neighborhoods: https://en.wikipedia.org/wiki/Neighborhoods_of_Omaha,_Nebraska"
   ]
  },
  {
   "cell_type": "code",
   "execution_count": null,
   "metadata": {},
   "outputs": [],
   "source": [
    "omahaSubs = ['Papillion', 'La Vista', 'Elkhorn', 'Benson'] # ... so many"
   ]
  },
  {
   "cell_type": "code",
   "execution_count": 76,
   "metadata": {},
   "outputs": [],
   "source": [
    "import requests"
   ]
  },
  {
   "cell_type": "code",
   "execution_count": 77,
   "metadata": {},
   "outputs": [],
   "source": [
    "url = \"https://en.wikipedia.org/wiki/Neighborhoods_of_Omaha,_Nebraska\"\n",
    "listOfTables = pd.read_html(url)"
   ]
  },
  {
   "cell_type": "code",
   "execution_count": 78,
   "metadata": {},
   "outputs": [
    {
     "data": {
      "text/plain": [
       "4"
      ]
     },
     "execution_count": 78,
     "metadata": {},
     "output_type": "execute_result"
    }
   ],
   "source": [
    "len(listOfTables)"
   ]
  },
  {
   "cell_type": "code",
   "execution_count": 81,
   "metadata": {},
   "outputs": [],
   "source": [
    "# listOfTables[1]"
   ]
  },
  {
   "cell_type": "markdown",
   "metadata": {},
   "source": [
    "Sweet"
   ]
  },
  {
   "cell_type": "code",
   "execution_count": 82,
   "metadata": {},
   "outputs": [],
   "source": [
    "omahaSubsDF = listOfTables[1]"
   ]
  },
  {
   "cell_type": "code",
   "execution_count": 84,
   "metadata": {},
   "outputs": [
    {
     "data": {
      "text/plain": [
       "Index(['Neighborhoods in Omaha alphabetical order',\n",
       "       'Neighborhoods in Omaha alphabetical order.1',\n",
       "       'Neighborhoods in Omaha alphabetical order.2',\n",
       "       'Neighborhoods in Omaha alphabetical order.3',\n",
       "       'Neighborhoods in Omaha alphabetical order.4',\n",
       "       'Neighborhoods in Omaha alphabetical order.5'],\n",
       "      dtype='object')"
      ]
     },
     "execution_count": 84,
     "metadata": {},
     "output_type": "execute_result"
    }
   ],
   "source": [
    "omahaSubsDF.columns"
   ]
  },
  {
   "cell_type": "code",
   "execution_count": 85,
   "metadata": {},
   "outputs": [],
   "source": [
    "omahaSubs = omahaSubsDF['Neighborhoods in Omaha alphabetical order']"
   ]
  },
  {
   "cell_type": "code",
   "execution_count": 86,
   "metadata": {},
   "outputs": [
    {
     "data": {
      "text/plain": [
       "pandas.core.series.Series"
      ]
     },
     "execution_count": 86,
     "metadata": {},
     "output_type": "execute_result"
    }
   ],
   "source": [
    "type(omahaSubs)"
   ]
  },
  {
   "cell_type": "code",
   "execution_count": 89,
   "metadata": {},
   "outputs": [],
   "source": [
    "# list(omahaSubs[1:])"
   ]
  },
  {
   "cell_type": "code",
   "execution_count": 137,
   "metadata": {},
   "outputs": [],
   "source": [
    "omahaSubs = list(omahaSubsDF['Neighborhoods in Omaha alphabetical order'][1:])\n",
    "omahaSubs.append('Omaha')\n",
    "omahaSubs.append('LaVista')"
   ]
  },
  {
   "cell_type": "code",
   "execution_count": 95,
   "metadata": {},
   "outputs": [],
   "source": [
    "# Might not need this; list seems to be working\n",
    "omahaSubsTuple = tuple(omahaSubsDF['Neighborhoods in Omaha alphabetical order'][1:])"
   ]
  },
  {
   "cell_type": "markdown",
   "metadata": {},
   "source": [
    "So far so good..."
   ]
  },
  {
   "cell_type": "code",
   "execution_count": 175,
   "metadata": {},
   "outputs": [],
   "source": [
    "testDF = webData.copy()"
   ]
  },
  {
   "cell_type": "code",
   "execution_count": 148,
   "metadata": {},
   "outputs": [
    {
     "data": {
      "text/html": [
       "<div>\n",
       "<style scoped>\n",
       "    .dataframe tbody tr th:only-of-type {\n",
       "        vertical-align: middle;\n",
       "    }\n",
       "\n",
       "    .dataframe tbody tr th {\n",
       "        vertical-align: top;\n",
       "    }\n",
       "\n",
       "    .dataframe thead th {\n",
       "        text-align: right;\n",
       "    }\n",
       "</style>\n",
       "<table border=\"1\" class=\"dataframe\">\n",
       "  <thead>\n",
       "    <tr style=\"text-align: right;\">\n",
       "      <th></th>\n",
       "      <th>Brewery_Name</th>\n",
       "      <th>City</th>\n",
       "      <th>State</th>\n",
       "      <th>Type_of_Brewery</th>\n",
       "      <th>Type_of_Distribution</th>\n",
       "      <th>Notes</th>\n",
       "      <th>#_Locations</th>\n",
       "      <th>Locations</th>\n",
       "    </tr>\n",
       "  </thead>\n",
       "  <tbody>\n",
       "    <tr>\n",
       "      <th>0</th>\n",
       "      <td>Backswing Brewing Co.</td>\n",
       "      <td>Lincoln</td>\n",
       "      <td>Nebraska</td>\n",
       "      <td>Micro</td>\n",
       "      <td>On-tap at the brewery and at select locations</td>\n",
       "      <td>Distro planned for 2016</td>\n",
       "      <td>1</td>\n",
       "      <td>Lincoln</td>\n",
       "    </tr>\n",
       "    <tr>\n",
       "      <th>1</th>\n",
       "      <td>Benson Brewery</td>\n",
       "      <td>Omaha</td>\n",
       "      <td>Nebraska</td>\n",
       "      <td>Taproom</td>\n",
       "      <td>On tap only at the brewery</td>\n",
       "      <td>Other beers, locals included, on tap. Omaha Br...</td>\n",
       "      <td>1</td>\n",
       "      <td>Omaha</td>\n",
       "    </tr>\n",
       "    <tr>\n",
       "      <th>2</th>\n",
       "      <td>Boiler Brewing Company</td>\n",
       "      <td>Lincoln</td>\n",
       "      <td>Nebraska</td>\n",
       "      <td>Taproom</td>\n",
       "      <td>On tap only at the brewery</td>\n",
       "      <td>Tours posted on FB page</td>\n",
       "      <td>2</td>\n",
       "      <td>Lincoln / Lincoln - South</td>\n",
       "    </tr>\n",
       "    <tr>\n",
       "      <th>3</th>\n",
       "      <td>Bolo Beer Co.</td>\n",
       "      <td>Valentine</td>\n",
       "      <td>Nebraska</td>\n",
       "      <td>Taproom</td>\n",
       "      <td>On tap at the brewery and select distribution ...</td>\n",
       "      <td>NaN</td>\n",
       "      <td>1</td>\n",
       "      <td>Valentine</td>\n",
       "    </tr>\n",
       "    <tr>\n",
       "      <th>4</th>\n",
       "      <td>Bootleg Brewers, Sandhills Brewing Co.</td>\n",
       "      <td>Taylor</td>\n",
       "      <td>Nebraska</td>\n",
       "      <td>Brewpub</td>\n",
       "      <td>Taproom only</td>\n",
       "      <td>Steakhouse and lodging available</td>\n",
       "      <td>1</td>\n",
       "      <td>Taylor</td>\n",
       "    </tr>\n",
       "  </tbody>\n",
       "</table>\n",
       "</div>"
      ],
      "text/plain": [
       "                             Brewery_Name       City     State  \\\n",
       "0                   Backswing Brewing Co.    Lincoln  Nebraska   \n",
       "1                          Benson Brewery      Omaha  Nebraska   \n",
       "2                  Boiler Brewing Company    Lincoln  Nebraska   \n",
       "3                           Bolo Beer Co.  Valentine  Nebraska   \n",
       "4  Bootleg Brewers, Sandhills Brewing Co.     Taylor  Nebraska   \n",
       "\n",
       "  Type_of_Brewery                               Type_of_Distribution  \\\n",
       "0           Micro      On-tap at the brewery and at select locations   \n",
       "1         Taproom                         On tap only at the brewery   \n",
       "2         Taproom                         On tap only at the brewery   \n",
       "3         Taproom  On tap at the brewery and select distribution ...   \n",
       "4         Brewpub                                       Taproom only   \n",
       "\n",
       "                                               Notes  #_Locations  \\\n",
       "0                            Distro planned for 2016            1   \n",
       "1  Other beers, locals included, on tap. Omaha Br...            1   \n",
       "2                            Tours posted on FB page            2   \n",
       "3                                                NaN            1   \n",
       "4                   Steakhouse and lodging available            1   \n",
       "\n",
       "                   Locations  \n",
       "0                    Lincoln  \n",
       "1                      Omaha  \n",
       "2  Lincoln / Lincoln - South  \n",
       "3                  Valentine  \n",
       "4                     Taylor  "
      ]
     },
     "execution_count": 148,
     "metadata": {},
     "output_type": "execute_result"
    }
   ],
   "source": [
    "testDF.head()"
   ]
  },
  {
   "cell_type": "code",
   "execution_count": 176,
   "metadata": {},
   "outputs": [],
   "source": [
    "testDF['Central_City'] = testDF.City"
   ]
  },
  {
   "cell_type": "code",
   "execution_count": 162,
   "metadata": {},
   "outputs": [
    {
     "data": {
      "text/html": [
       "<div>\n",
       "<style scoped>\n",
       "    .dataframe tbody tr th:only-of-type {\n",
       "        vertical-align: middle;\n",
       "    }\n",
       "\n",
       "    .dataframe tbody tr th {\n",
       "        vertical-align: top;\n",
       "    }\n",
       "\n",
       "    .dataframe thead th {\n",
       "        text-align: right;\n",
       "    }\n",
       "</style>\n",
       "<table border=\"1\" class=\"dataframe\">\n",
       "  <thead>\n",
       "    <tr style=\"text-align: right;\">\n",
       "      <th></th>\n",
       "      <th>Brewery_Name</th>\n",
       "      <th>City</th>\n",
       "      <th>State</th>\n",
       "      <th>Type_of_Brewery</th>\n",
       "      <th>Type_of_Distribution</th>\n",
       "      <th>Notes</th>\n",
       "      <th>#_Locations</th>\n",
       "      <th>Locations</th>\n",
       "      <th>City2</th>\n",
       "    </tr>\n",
       "  </thead>\n",
       "  <tbody>\n",
       "    <tr>\n",
       "      <th>0</th>\n",
       "      <td>Backswing Brewing Co.</td>\n",
       "      <td>Lincoln</td>\n",
       "      <td>Nebraska</td>\n",
       "      <td>Micro</td>\n",
       "      <td>On-tap at the brewery and at select locations</td>\n",
       "      <td>Distro planned for 2016</td>\n",
       "      <td>1</td>\n",
       "      <td>Lincoln</td>\n",
       "      <td>Lincoln</td>\n",
       "    </tr>\n",
       "    <tr>\n",
       "      <th>1</th>\n",
       "      <td>Benson Brewery</td>\n",
       "      <td>Omaha</td>\n",
       "      <td>Nebraska</td>\n",
       "      <td>Taproom</td>\n",
       "      <td>On tap only at the brewery</td>\n",
       "      <td>Other beers, locals included, on tap. Omaha Br...</td>\n",
       "      <td>1</td>\n",
       "      <td>Omaha</td>\n",
       "      <td>Omaha</td>\n",
       "    </tr>\n",
       "    <tr>\n",
       "      <th>2</th>\n",
       "      <td>Boiler Brewing Company</td>\n",
       "      <td>Lincoln</td>\n",
       "      <td>Nebraska</td>\n",
       "      <td>Taproom</td>\n",
       "      <td>On tap only at the brewery</td>\n",
       "      <td>Tours posted on FB page</td>\n",
       "      <td>2</td>\n",
       "      <td>Lincoln / Lincoln - South</td>\n",
       "      <td>Lincoln</td>\n",
       "    </tr>\n",
       "    <tr>\n",
       "      <th>3</th>\n",
       "      <td>Bolo Beer Co.</td>\n",
       "      <td>Valentine</td>\n",
       "      <td>Nebraska</td>\n",
       "      <td>Taproom</td>\n",
       "      <td>On tap at the brewery and select distribution ...</td>\n",
       "      <td>NaN</td>\n",
       "      <td>1</td>\n",
       "      <td>Valentine</td>\n",
       "      <td>Valentine</td>\n",
       "    </tr>\n",
       "    <tr>\n",
       "      <th>4</th>\n",
       "      <td>Bootleg Brewers, Sandhills Brewing Co.</td>\n",
       "      <td>Taylor</td>\n",
       "      <td>Nebraska</td>\n",
       "      <td>Brewpub</td>\n",
       "      <td>Taproom only</td>\n",
       "      <td>Steakhouse and lodging available</td>\n",
       "      <td>1</td>\n",
       "      <td>Taylor</td>\n",
       "      <td>Taylor</td>\n",
       "    </tr>\n",
       "  </tbody>\n",
       "</table>\n",
       "</div>"
      ],
      "text/plain": [
       "                             Brewery_Name       City     State  \\\n",
       "0                   Backswing Brewing Co.    Lincoln  Nebraska   \n",
       "1                          Benson Brewery      Omaha  Nebraska   \n",
       "2                  Boiler Brewing Company    Lincoln  Nebraska   \n",
       "3                           Bolo Beer Co.  Valentine  Nebraska   \n",
       "4  Bootleg Brewers, Sandhills Brewing Co.     Taylor  Nebraska   \n",
       "\n",
       "  Type_of_Brewery                               Type_of_Distribution  \\\n",
       "0           Micro      On-tap at the brewery and at select locations   \n",
       "1         Taproom                         On tap only at the brewery   \n",
       "2         Taproom                         On tap only at the brewery   \n",
       "3         Taproom  On tap at the brewery and select distribution ...   \n",
       "4         Brewpub                                       Taproom only   \n",
       "\n",
       "                                               Notes  #_Locations  \\\n",
       "0                            Distro planned for 2016            1   \n",
       "1  Other beers, locals included, on tap. Omaha Br...            1   \n",
       "2                            Tours posted on FB page            2   \n",
       "3                                                NaN            1   \n",
       "4                   Steakhouse and lodging available            1   \n",
       "\n",
       "                   Locations      City2  \n",
       "0                    Lincoln    Lincoln  \n",
       "1                      Omaha      Omaha  \n",
       "2  Lincoln / Lincoln - South    Lincoln  \n",
       "3                  Valentine  Valentine  \n",
       "4                     Taylor     Taylor  "
      ]
     },
     "execution_count": 162,
     "metadata": {},
     "output_type": "execute_result"
    }
   ],
   "source": [
    "testDF.head()"
   ]
  },
  {
   "cell_type": "code",
   "execution_count": 158,
   "metadata": {},
   "outputs": [],
   "source": [
    "# testDF[testDF.City2.isin(omahaSubs)] = 'Omaha'\n",
    "# testDF[testDF['City2'].isin(omahaSubs) == True] = 'Omaha'"
   ]
  },
  {
   "cell_type": "markdown",
   "metadata": {},
   "source": [
    "There's the trick. Add the optional column argument:"
   ]
  },
  {
   "cell_type": "code",
   "execution_count": 178,
   "metadata": {},
   "outputs": [],
   "source": [
    "testDF.loc[(testDF['Central_City'].isin(omahaSubs) == True), 'Central_City'] = 'Omaha'"
   ]
  },
  {
   "cell_type": "markdown",
   "metadata": {},
   "source": [
    "### This part here:"
   ]
  },
  {
   "cell_type": "code",
   "execution_count": null,
   "metadata": {},
   "outputs": [],
   "source": [
    "def omahaSuburbs(df, colName):\n",
    "    df['Central_City'] = df[colName]\n",
    "    df.loc[(df['Central_City'].isin(omahaSubs) == True), 'Central_City'] = \"Omaha\""
   ]
  },
  {
   "cell_type": "code",
   "execution_count": 179,
   "metadata": {},
   "outputs": [
    {
     "data": {
      "text/html": [
       "<div>\n",
       "<style scoped>\n",
       "    .dataframe tbody tr th:only-of-type {\n",
       "        vertical-align: middle;\n",
       "    }\n",
       "\n",
       "    .dataframe tbody tr th {\n",
       "        vertical-align: top;\n",
       "    }\n",
       "\n",
       "    .dataframe thead th {\n",
       "        text-align: right;\n",
       "    }\n",
       "</style>\n",
       "<table border=\"1\" class=\"dataframe\">\n",
       "  <thead>\n",
       "    <tr style=\"text-align: right;\">\n",
       "      <th></th>\n",
       "      <th>Brewery_Name</th>\n",
       "      <th>City</th>\n",
       "      <th>State</th>\n",
       "      <th>Type_of_Brewery</th>\n",
       "      <th>Type_of_Distribution</th>\n",
       "      <th>Notes</th>\n",
       "      <th>#_Locations</th>\n",
       "      <th>Locations</th>\n",
       "      <th>City2</th>\n",
       "    </tr>\n",
       "  </thead>\n",
       "  <tbody>\n",
       "    <tr>\n",
       "      <th>0</th>\n",
       "      <td>Backswing Brewing Co.</td>\n",
       "      <td>Lincoln</td>\n",
       "      <td>Nebraska</td>\n",
       "      <td>Micro</td>\n",
       "      <td>On-tap at the brewery and at select locations</td>\n",
       "      <td>Distro planned for 2016</td>\n",
       "      <td>1</td>\n",
       "      <td>Lincoln</td>\n",
       "      <td>Lincoln</td>\n",
       "    </tr>\n",
       "    <tr>\n",
       "      <th>1</th>\n",
       "      <td>Benson Brewery</td>\n",
       "      <td>Omaha</td>\n",
       "      <td>Nebraska</td>\n",
       "      <td>Taproom</td>\n",
       "      <td>On tap only at the brewery</td>\n",
       "      <td>Other beers, locals included, on tap. Omaha Br...</td>\n",
       "      <td>1</td>\n",
       "      <td>Omaha</td>\n",
       "      <td>Omaha</td>\n",
       "    </tr>\n",
       "    <tr>\n",
       "      <th>2</th>\n",
       "      <td>Boiler Brewing Company</td>\n",
       "      <td>Lincoln</td>\n",
       "      <td>Nebraska</td>\n",
       "      <td>Taproom</td>\n",
       "      <td>On tap only at the brewery</td>\n",
       "      <td>Tours posted on FB page</td>\n",
       "      <td>2</td>\n",
       "      <td>Lincoln / Lincoln - South</td>\n",
       "      <td>Lincoln</td>\n",
       "    </tr>\n",
       "    <tr>\n",
       "      <th>3</th>\n",
       "      <td>Bolo Beer Co.</td>\n",
       "      <td>Valentine</td>\n",
       "      <td>Nebraska</td>\n",
       "      <td>Taproom</td>\n",
       "      <td>On tap at the brewery and select distribution ...</td>\n",
       "      <td>NaN</td>\n",
       "      <td>1</td>\n",
       "      <td>Valentine</td>\n",
       "      <td>Valentine</td>\n",
       "    </tr>\n",
       "    <tr>\n",
       "      <th>4</th>\n",
       "      <td>Bootleg Brewers, Sandhills Brewing Co.</td>\n",
       "      <td>Taylor</td>\n",
       "      <td>Nebraska</td>\n",
       "      <td>Brewpub</td>\n",
       "      <td>Taproom only</td>\n",
       "      <td>Steakhouse and lodging available</td>\n",
       "      <td>1</td>\n",
       "      <td>Taylor</td>\n",
       "      <td>Taylor</td>\n",
       "    </tr>\n",
       "    <tr>\n",
       "      <th>5</th>\n",
       "      <td>Bottle Rocket Brewing Company</td>\n",
       "      <td>Seward</td>\n",
       "      <td>Nebraska</td>\n",
       "      <td>Taproom</td>\n",
       "      <td>NaN</td>\n",
       "      <td>Opened fall 2015</td>\n",
       "      <td>1</td>\n",
       "      <td>Seward</td>\n",
       "      <td>Seward</td>\n",
       "    </tr>\n",
       "    <tr>\n",
       "      <th>6</th>\n",
       "      <td>Brewery 719</td>\n",
       "      <td>Alliance</td>\n",
       "      <td>Nebraska</td>\n",
       "      <td>Taproom</td>\n",
       "      <td>On-tap at the brewery</td>\n",
       "      <td>Opened Feb 2019</td>\n",
       "      <td>1</td>\n",
       "      <td>Alliance</td>\n",
       "      <td>Alliance</td>\n",
       "    </tr>\n",
       "    <tr>\n",
       "      <th>7</th>\n",
       "      <td>Brickway Brewery &amp; Distillery</td>\n",
       "      <td>Omaha</td>\n",
       "      <td>Nebraska</td>\n",
       "      <td>Micro</td>\n",
       "      <td>On tap and select distribution around Omaha; D...</td>\n",
       "      <td>formerly Borgata</td>\n",
       "      <td>1</td>\n",
       "      <td>Omaha - Downtown</td>\n",
       "      <td>Omaha</td>\n",
       "    </tr>\n",
       "    <tr>\n",
       "      <th>8</th>\n",
       "      <td>Brush Creek Brewing Company</td>\n",
       "      <td>Atkinson</td>\n",
       "      <td>Nebraska</td>\n",
       "      <td>Brewpub</td>\n",
       "      <td>NaN</td>\n",
       "      <td>NaN</td>\n",
       "      <td>1</td>\n",
       "      <td>Atkinson</td>\n",
       "      <td>Atkinson</td>\n",
       "    </tr>\n",
       "    <tr>\n",
       "      <th>9</th>\n",
       "      <td>Canyon Lakes Brewing Company</td>\n",
       "      <td>Johnson Lake</td>\n",
       "      <td>Nebraska</td>\n",
       "      <td>Brewpub</td>\n",
       "      <td>On tap at the brewery</td>\n",
       "      <td>Opened June 19, 2019</td>\n",
       "      <td>1</td>\n",
       "      <td>Johnson Lake</td>\n",
       "      <td>Johnson Lake</td>\n",
       "    </tr>\n",
       "    <tr>\n",
       "      <th>10</th>\n",
       "      <td>Catalyst Brewing Company</td>\n",
       "      <td>Lincoln</td>\n",
       "      <td>Nebraska</td>\n",
       "      <td>Brewpub</td>\n",
       "      <td>On-tap at the brewery</td>\n",
       "      <td>Owned by the LOCAL Beer, Patio, &amp; Kitchen folk...</td>\n",
       "      <td>1</td>\n",
       "      <td>Lincoln</td>\n",
       "      <td>Lincoln</td>\n",
       "    </tr>\n",
       "    <tr>\n",
       "      <th>11</th>\n",
       "      <td>Code Beer Company</td>\n",
       "      <td>Lincoln</td>\n",
       "      <td>Nebraska</td>\n",
       "      <td>Micro</td>\n",
       "      <td>On tap at the brewery</td>\n",
       "      <td>NaN</td>\n",
       "      <td>1</td>\n",
       "      <td>Lincoln</td>\n",
       "      <td>Lincoln</td>\n",
       "    </tr>\n",
       "    <tr>\n",
       "      <th>12</th>\n",
       "      <td>Cosmic Eye Brewing</td>\n",
       "      <td>Lincoln</td>\n",
       "      <td>Nebraska</td>\n",
       "      <td>Taproom</td>\n",
       "      <td>On tap, crowlers, retail cans</td>\n",
       "      <td>Opened 03-Oct-2018</td>\n",
       "      <td>1</td>\n",
       "      <td>Lincoln</td>\n",
       "      <td>Lincoln</td>\n",
       "    </tr>\n",
       "    <tr>\n",
       "      <th>13</th>\n",
       "      <td>Divots Brewery</td>\n",
       "      <td>Norfolk</td>\n",
       "      <td>Nebraska</td>\n",
       "      <td>Brewpub</td>\n",
       "      <td>NaN</td>\n",
       "      <td>Small brewing operation in the conference cent...</td>\n",
       "      <td>1</td>\n",
       "      <td>Norfolk</td>\n",
       "      <td>Norfolk</td>\n",
       "    </tr>\n",
       "    <tr>\n",
       "      <th>14</th>\n",
       "      <td>Empyrean Brewing Company</td>\n",
       "      <td>Lincoln</td>\n",
       "      <td>Nebraska</td>\n",
       "      <td>Micro</td>\n",
       "      <td>On tap state-wide, bottles</td>\n",
       "      <td>Oldest Microbrew in Nebraska</td>\n",
       "      <td>1</td>\n",
       "      <td>Lincoln - Haymarket</td>\n",
       "      <td>Lincoln</td>\n",
       "    </tr>\n",
       "    <tr>\n",
       "      <th>15</th>\n",
       "      <td>Fairfield Opera House Brewery &amp; Grill</td>\n",
       "      <td>Fairfield</td>\n",
       "      <td>Nebraska</td>\n",
       "      <td>Brewpub</td>\n",
       "      <td>NaN</td>\n",
       "      <td>NaN</td>\n",
       "      <td>1</td>\n",
       "      <td>Fairfield</td>\n",
       "      <td>Fairfield</td>\n",
       "    </tr>\n",
       "    <tr>\n",
       "      <th>16</th>\n",
       "      <td>Farnam House Brewing Company</td>\n",
       "      <td>Omaha</td>\n",
       "      <td>Nebraska</td>\n",
       "      <td>Brewpub</td>\n",
       "      <td>On tap only at the brewery</td>\n",
       "      <td>Formerly Goldenrod</td>\n",
       "      <td>1</td>\n",
       "      <td>Omaha - Midtown</td>\n",
       "      <td>Omaha</td>\n",
       "    </tr>\n",
       "    <tr>\n",
       "      <th>17</th>\n",
       "      <td>First Street Brewing Company</td>\n",
       "      <td>Hastings</td>\n",
       "      <td>Nebraska</td>\n",
       "      <td>Taproom</td>\n",
       "      <td>On-tap at the brewery and at select locations</td>\n",
       "      <td>NaN</td>\n",
       "      <td>1</td>\n",
       "      <td>Hastings</td>\n",
       "      <td>Hastings</td>\n",
       "    </tr>\n",
       "    <tr>\n",
       "      <th>18</th>\n",
       "      <td>Flyover Brewing Company</td>\n",
       "      <td>Scottsbluff</td>\n",
       "      <td>Nebraska</td>\n",
       "      <td>Brewpub</td>\n",
       "      <td>On tap at the brewery</td>\n",
       "      <td>Opened Sept 2018</td>\n",
       "      <td>1</td>\n",
       "      <td>Scottsbluff</td>\n",
       "      <td>Scottsbluff</td>\n",
       "    </tr>\n",
       "    <tr>\n",
       "      <th>19</th>\n",
       "      <td>Gottberg Brew Pub</td>\n",
       "      <td>Columbus</td>\n",
       "      <td>Nebraska</td>\n",
       "      <td>Brewpub</td>\n",
       "      <td>On tap only at the brewery</td>\n",
       "      <td>Root beer and cream soda</td>\n",
       "      <td>1</td>\n",
       "      <td>Columbus</td>\n",
       "      <td>Columbus</td>\n",
       "    </tr>\n",
       "    <tr>\n",
       "      <th>20</th>\n",
       "      <td>Granite City Food &amp; Brewery</td>\n",
       "      <td>Omaha</td>\n",
       "      <td>Nebraska</td>\n",
       "      <td>Chain</td>\n",
       "      <td>On tap only at the brewery</td>\n",
       "      <td>NaN</td>\n",
       "      <td>2</td>\n",
       "      <td>Omaha / Lincoln</td>\n",
       "      <td>Omaha</td>\n",
       "    </tr>\n",
       "    <tr>\n",
       "      <th>21</th>\n",
       "      <td>Hanging Horseshoe Brewing Company</td>\n",
       "      <td>Imperial</td>\n",
       "      <td>Nebraska</td>\n",
       "      <td>Taproom</td>\n",
       "      <td>On tap on-site only</td>\n",
       "      <td>Part of Broken Arrow Cellars Winery</td>\n",
       "      <td>1</td>\n",
       "      <td>Imperial</td>\n",
       "      <td>Imperial</td>\n",
       "    </tr>\n",
       "    <tr>\n",
       "      <th>22</th>\n",
       "      <td>Hwy 14 Brewing Company</td>\n",
       "      <td>Albion</td>\n",
       "      <td>Nebraska</td>\n",
       "      <td>Micro</td>\n",
       "      <td>On tap at the brewery</td>\n",
       "      <td>Opened October 2018</td>\n",
       "      <td>1</td>\n",
       "      <td>Albion</td>\n",
       "      <td>Albion</td>\n",
       "    </tr>\n",
       "    <tr>\n",
       "      <th>23</th>\n",
       "      <td>Infusion Brewing Company</td>\n",
       "      <td>Benson</td>\n",
       "      <td>Nebraska</td>\n",
       "      <td>Micro</td>\n",
       "      <td>On tap throughout Omaha and at the brewery, sp...</td>\n",
       "      <td>12-15 house-brewed beers</td>\n",
       "      <td>4</td>\n",
       "      <td>Benson / Omaha - SW / Omaha - Little Bohemia /...</td>\n",
       "      <td>Omaha</td>\n",
       "    </tr>\n",
       "    <tr>\n",
       "      <th>24</th>\n",
       "      <td>Jaipur Brewing Company</td>\n",
       "      <td>Omaha</td>\n",
       "      <td>Nebraska</td>\n",
       "      <td>Brewpub</td>\n",
       "      <td>On tap only at the brewery</td>\n",
       "      <td>NaN</td>\n",
       "      <td>1</td>\n",
       "      <td>Omaha - West</td>\n",
       "      <td>Omaha</td>\n",
       "    </tr>\n",
       "  </tbody>\n",
       "</table>\n",
       "</div>"
      ],
      "text/plain": [
       "                              Brewery_Name          City     State  \\\n",
       "0                    Backswing Brewing Co.       Lincoln  Nebraska   \n",
       "1                           Benson Brewery         Omaha  Nebraska   \n",
       "2                   Boiler Brewing Company       Lincoln  Nebraska   \n",
       "3                            Bolo Beer Co.     Valentine  Nebraska   \n",
       "4   Bootleg Brewers, Sandhills Brewing Co.        Taylor  Nebraska   \n",
       "5            Bottle Rocket Brewing Company        Seward  Nebraska   \n",
       "6                              Brewery 719      Alliance  Nebraska   \n",
       "7            Brickway Brewery & Distillery         Omaha  Nebraska   \n",
       "8              Brush Creek Brewing Company      Atkinson  Nebraska   \n",
       "9             Canyon Lakes Brewing Company  Johnson Lake  Nebraska   \n",
       "10                Catalyst Brewing Company       Lincoln  Nebraska   \n",
       "11                       Code Beer Company       Lincoln  Nebraska   \n",
       "12                      Cosmic Eye Brewing       Lincoln  Nebraska   \n",
       "13                          Divots Brewery       Norfolk  Nebraska   \n",
       "14                Empyrean Brewing Company       Lincoln  Nebraska   \n",
       "15   Fairfield Opera House Brewery & Grill     Fairfield  Nebraska   \n",
       "16            Farnam House Brewing Company         Omaha  Nebraska   \n",
       "17            First Street Brewing Company      Hastings  Nebraska   \n",
       "18                 Flyover Brewing Company   Scottsbluff  Nebraska   \n",
       "19                       Gottberg Brew Pub      Columbus  Nebraska   \n",
       "20             Granite City Food & Brewery         Omaha  Nebraska   \n",
       "21       Hanging Horseshoe Brewing Company      Imperial  Nebraska   \n",
       "22                  Hwy 14 Brewing Company        Albion  Nebraska   \n",
       "23                Infusion Brewing Company        Benson  Nebraska   \n",
       "24                  Jaipur Brewing Company         Omaha  Nebraska   \n",
       "\n",
       "   Type_of_Brewery                               Type_of_Distribution  \\\n",
       "0            Micro      On-tap at the brewery and at select locations   \n",
       "1          Taproom                         On tap only at the brewery   \n",
       "2          Taproom                         On tap only at the brewery   \n",
       "3          Taproom  On tap at the brewery and select distribution ...   \n",
       "4          Brewpub                                       Taproom only   \n",
       "5          Taproom                                                NaN   \n",
       "6          Taproom                              On-tap at the brewery   \n",
       "7            Micro  On tap and select distribution around Omaha; D...   \n",
       "8          Brewpub                                                NaN   \n",
       "9          Brewpub                              On tap at the brewery   \n",
       "10         Brewpub                              On-tap at the brewery   \n",
       "11           Micro                              On tap at the brewery   \n",
       "12         Taproom                      On tap, crowlers, retail cans   \n",
       "13         Brewpub                                                NaN   \n",
       "14           Micro                         On tap state-wide, bottles   \n",
       "15         Brewpub                                                NaN   \n",
       "16         Brewpub                         On tap only at the brewery   \n",
       "17         Taproom      On-tap at the brewery and at select locations   \n",
       "18         Brewpub                              On tap at the brewery   \n",
       "19         Brewpub                         On tap only at the brewery   \n",
       "20           Chain                         On tap only at the brewery   \n",
       "21         Taproom                                On tap on-site only   \n",
       "22           Micro                              On tap at the brewery   \n",
       "23           Micro  On tap throughout Omaha and at the brewery, sp...   \n",
       "24         Brewpub                         On tap only at the brewery   \n",
       "\n",
       "                                                Notes  #_Locations  \\\n",
       "0                             Distro planned for 2016            1   \n",
       "1   Other beers, locals included, on tap. Omaha Br...            1   \n",
       "2                             Tours posted on FB page            2   \n",
       "3                                                 NaN            1   \n",
       "4                    Steakhouse and lodging available            1   \n",
       "5                                    Opened fall 2015            1   \n",
       "6                                     Opened Feb 2019            1   \n",
       "7                                    formerly Borgata            1   \n",
       "8                                                 NaN            1   \n",
       "9                                Opened June 19, 2019            1   \n",
       "10  Owned by the LOCAL Beer, Patio, & Kitchen folk...            1   \n",
       "11                                                NaN            1   \n",
       "12                                 Opened 03-Oct-2018            1   \n",
       "13  Small brewing operation in the conference cent...            1   \n",
       "14                       Oldest Microbrew in Nebraska            1   \n",
       "15                                                NaN            1   \n",
       "16                                 Formerly Goldenrod            1   \n",
       "17                                                NaN            1   \n",
       "18                                   Opened Sept 2018            1   \n",
       "19                           Root beer and cream soda            1   \n",
       "20                                                NaN            2   \n",
       "21                Part of Broken Arrow Cellars Winery            1   \n",
       "22                                Opened October 2018            1   \n",
       "23                           12-15 house-brewed beers            4   \n",
       "24                                                NaN            1   \n",
       "\n",
       "                                            Locations         City2  \n",
       "0                                             Lincoln       Lincoln  \n",
       "1                                               Omaha         Omaha  \n",
       "2                           Lincoln / Lincoln - South       Lincoln  \n",
       "3                                           Valentine     Valentine  \n",
       "4                                              Taylor        Taylor  \n",
       "5                                              Seward        Seward  \n",
       "6                                            Alliance      Alliance  \n",
       "7                                    Omaha - Downtown         Omaha  \n",
       "8                                            Atkinson      Atkinson  \n",
       "9                                        Johnson Lake  Johnson Lake  \n",
       "10                                            Lincoln       Lincoln  \n",
       "11                                            Lincoln       Lincoln  \n",
       "12                                            Lincoln       Lincoln  \n",
       "13                                            Norfolk       Norfolk  \n",
       "14                                Lincoln - Haymarket       Lincoln  \n",
       "15                                          Fairfield     Fairfield  \n",
       "16                                    Omaha - Midtown         Omaha  \n",
       "17                                           Hastings      Hastings  \n",
       "18                                        Scottsbluff   Scottsbluff  \n",
       "19                                           Columbus      Columbus  \n",
       "20                                    Omaha / Lincoln         Omaha  \n",
       "21                                           Imperial      Imperial  \n",
       "22                                             Albion        Albion  \n",
       "23  Benson / Omaha - SW / Omaha - Little Bohemia /...         Omaha  \n",
       "24                                       Omaha - West         Omaha  "
      ]
     },
     "execution_count": 179,
     "metadata": {},
     "output_type": "execute_result"
    }
   ],
   "source": [
    "testDF.head(25)"
   ]
  },
  {
   "cell_type": "code",
   "execution_count": 271,
   "metadata": {},
   "outputs": [],
   "source": [
    "# (testDF['City2'].isin(omahaSubs) == True)"
   ]
  },
  {
   "cell_type": "code",
   "execution_count": 171,
   "metadata": {},
   "outputs": [
    {
     "data": {
      "text/html": [
       "<div>\n",
       "<style scoped>\n",
       "    .dataframe tbody tr th:only-of-type {\n",
       "        vertical-align: middle;\n",
       "    }\n",
       "\n",
       "    .dataframe tbody tr th {\n",
       "        vertical-align: top;\n",
       "    }\n",
       "\n",
       "    .dataframe thead th {\n",
       "        text-align: right;\n",
       "    }\n",
       "</style>\n",
       "<table border=\"1\" class=\"dataframe\">\n",
       "  <thead>\n",
       "    <tr style=\"text-align: right;\">\n",
       "      <th></th>\n",
       "      <th>Brewery_Name</th>\n",
       "      <th>City</th>\n",
       "      <th>State</th>\n",
       "      <th>Type_of_Brewery</th>\n",
       "      <th>Type_of_Distribution</th>\n",
       "      <th>Notes</th>\n",
       "      <th>#_Locations</th>\n",
       "      <th>Locations</th>\n",
       "      <th>City2</th>\n",
       "    </tr>\n",
       "  </thead>\n",
       "  <tbody>\n",
       "    <tr>\n",
       "      <th>1</th>\n",
       "      <td>Benson Brewery</td>\n",
       "      <td>Omaha</td>\n",
       "      <td>Nebraska</td>\n",
       "      <td>Taproom</td>\n",
       "      <td>On tap only at the brewery</td>\n",
       "      <td>Other beers, locals included, on tap. Omaha Br...</td>\n",
       "      <td>1</td>\n",
       "      <td>Omaha</td>\n",
       "      <td>Omaha</td>\n",
       "    </tr>\n",
       "    <tr>\n",
       "      <th>7</th>\n",
       "      <td>Brickway Brewery &amp; Distillery</td>\n",
       "      <td>Omaha</td>\n",
       "      <td>Nebraska</td>\n",
       "      <td>Micro</td>\n",
       "      <td>On tap and select distribution around Omaha; D...</td>\n",
       "      <td>formerly Borgata</td>\n",
       "      <td>1</td>\n",
       "      <td>Omaha - Downtown</td>\n",
       "      <td>Omaha</td>\n",
       "    </tr>\n",
       "    <tr>\n",
       "      <th>16</th>\n",
       "      <td>Farnam House Brewing Company</td>\n",
       "      <td>Omaha</td>\n",
       "      <td>Nebraska</td>\n",
       "      <td>Brewpub</td>\n",
       "      <td>On tap only at the brewery</td>\n",
       "      <td>Formerly Goldenrod</td>\n",
       "      <td>1</td>\n",
       "      <td>Omaha - Midtown</td>\n",
       "      <td>Omaha</td>\n",
       "    </tr>\n",
       "    <tr>\n",
       "      <th>20</th>\n",
       "      <td>Granite City Food &amp; Brewery</td>\n",
       "      <td>Omaha</td>\n",
       "      <td>Nebraska</td>\n",
       "      <td>Chain</td>\n",
       "      <td>On tap only at the brewery</td>\n",
       "      <td>NaN</td>\n",
       "      <td>2</td>\n",
       "      <td>Omaha / Lincoln</td>\n",
       "      <td>Omaha</td>\n",
       "    </tr>\n",
       "    <tr>\n",
       "      <th>23</th>\n",
       "      <td>Infusion Brewing Company</td>\n",
       "      <td>Benson</td>\n",
       "      <td>Nebraska</td>\n",
       "      <td>Micro</td>\n",
       "      <td>On tap throughout Omaha and at the brewery, sp...</td>\n",
       "      <td>12-15 house-brewed beers</td>\n",
       "      <td>4</td>\n",
       "      <td>Benson / Omaha - SW / Omaha - Little Bohemia /...</td>\n",
       "      <td>Benson</td>\n",
       "    </tr>\n",
       "    <tr>\n",
       "      <th>24</th>\n",
       "      <td>Jaipur Brewing Company</td>\n",
       "      <td>Omaha</td>\n",
       "      <td>Nebraska</td>\n",
       "      <td>Brewpub</td>\n",
       "      <td>On tap only at the brewery</td>\n",
       "      <td>NaN</td>\n",
       "      <td>1</td>\n",
       "      <td>Omaha - West</td>\n",
       "      <td>Omaha</td>\n",
       "    </tr>\n",
       "    <tr>\n",
       "      <th>26</th>\n",
       "      <td>Jukes Ale Works</td>\n",
       "      <td>Elkhorn</td>\n",
       "      <td>Nebraska</td>\n",
       "      <td>Brewpub</td>\n",
       "      <td>NaN</td>\n",
       "      <td>Opened July 9, 2019</td>\n",
       "      <td>1</td>\n",
       "      <td>Elkhorn</td>\n",
       "      <td>Elkhorn</td>\n",
       "    </tr>\n",
       "    <tr>\n",
       "      <th>28</th>\n",
       "      <td>Kros Strain Brewing Company</td>\n",
       "      <td>LaVista</td>\n",
       "      <td>Nebraska</td>\n",
       "      <td>Micro</td>\n",
       "      <td>On tap at the brewery</td>\n",
       "      <td>NaN</td>\n",
       "      <td>1</td>\n",
       "      <td>LaVista</td>\n",
       "      <td>LaVista</td>\n",
       "    </tr>\n",
       "    <tr>\n",
       "      <th>32</th>\n",
       "      <td>Lucky Bucket Brewing Company</td>\n",
       "      <td>LaVista</td>\n",
       "      <td>Nebraska</td>\n",
       "      <td>Micro</td>\n",
       "      <td>On tap state-wide, bottles</td>\n",
       "      <td>NaN</td>\n",
       "      <td>1</td>\n",
       "      <td>LaVista</td>\n",
       "      <td>LaVista</td>\n",
       "    </tr>\n",
       "    <tr>\n",
       "      <th>34</th>\n",
       "      <td>Monolithic Brewing</td>\n",
       "      <td>Omaha</td>\n",
       "      <td>Nebraska</td>\n",
       "      <td>Brewpub</td>\n",
       "      <td>On-tap at the brewery</td>\n",
       "      <td>Opened Oct 2020, Formerly Omaha Ale Works</td>\n",
       "      <td>1</td>\n",
       "      <td>Omaha</td>\n",
       "      <td>Omaha</td>\n",
       "    </tr>\n",
       "    <tr>\n",
       "      <th>35</th>\n",
       "      <td>Nebraska Brewing Company</td>\n",
       "      <td>LaVista</td>\n",
       "      <td>Nebraska</td>\n",
       "      <td>Micro/Brewpub</td>\n",
       "      <td>On tap state-wide, cans and bottles</td>\n",
       "      <td>Largest production facility in the state; Papi...</td>\n",
       "      <td>1</td>\n",
       "      <td>LaVista</td>\n",
       "      <td>LaVista</td>\n",
       "    </tr>\n",
       "    <tr>\n",
       "      <th>38</th>\n",
       "      <td>Pint Nine Brewing Company</td>\n",
       "      <td>Papillion</td>\n",
       "      <td>Nebraska</td>\n",
       "      <td>Micro</td>\n",
       "      <td>On tap at the brewery</td>\n",
       "      <td>NaN</td>\n",
       "      <td>1</td>\n",
       "      <td>Papillion</td>\n",
       "      <td>Papillion</td>\n",
       "    </tr>\n",
       "    <tr>\n",
       "      <th>44</th>\n",
       "      <td>Scriptown Brewing Company</td>\n",
       "      <td>Omaha</td>\n",
       "      <td>Nebraska</td>\n",
       "      <td>Taproom</td>\n",
       "      <td>On tap at the brewery and around Omaha</td>\n",
       "      <td>NaN</td>\n",
       "      <td>1</td>\n",
       "      <td>Omaha - Midtown</td>\n",
       "      <td>Omaha</td>\n",
       "    </tr>\n",
       "    <tr>\n",
       "      <th>45</th>\n",
       "      <td>Site-1 Brewing</td>\n",
       "      <td>Omaha</td>\n",
       "      <td>Nebraska</td>\n",
       "      <td>Micro</td>\n",
       "      <td>On tap at the brewery</td>\n",
       "      <td>Opened Dec 2020</td>\n",
       "      <td>1</td>\n",
       "      <td>Omaha</td>\n",
       "      <td>Omaha</td>\n",
       "    </tr>\n",
       "    <tr>\n",
       "      <th>51</th>\n",
       "      <td>Upstream Brewing Company</td>\n",
       "      <td>Omaha</td>\n",
       "      <td>Nebraska</td>\n",
       "      <td>Brewpub</td>\n",
       "      <td>On tap in Omaha, limited bottles</td>\n",
       "      <td>4-5 rotating seasonals and 8 house beers. Omah...</td>\n",
       "      <td>1</td>\n",
       "      <td>Omaha - Downtown</td>\n",
       "      <td>Omaha</td>\n",
       "    </tr>\n",
       "    <tr>\n",
       "      <th>52</th>\n",
       "      <td>Vis Major Brewing Company</td>\n",
       "      <td>Omaha</td>\n",
       "      <td>Nebraska</td>\n",
       "      <td>Brewpub</td>\n",
       "      <td>On tap at the brewery</td>\n",
       "      <td>NaN</td>\n",
       "      <td>1</td>\n",
       "      <td>Omaha</td>\n",
       "      <td>Omaha</td>\n",
       "    </tr>\n",
       "  </tbody>\n",
       "</table>\n",
       "</div>"
      ],
      "text/plain": [
       "                     Brewery_Name       City     State Type_of_Brewery  \\\n",
       "1                  Benson Brewery      Omaha  Nebraska         Taproom   \n",
       "7   Brickway Brewery & Distillery      Omaha  Nebraska           Micro   \n",
       "16   Farnam House Brewing Company      Omaha  Nebraska         Brewpub   \n",
       "20    Granite City Food & Brewery      Omaha  Nebraska           Chain   \n",
       "23       Infusion Brewing Company     Benson  Nebraska           Micro   \n",
       "24         Jaipur Brewing Company      Omaha  Nebraska         Brewpub   \n",
       "26                Jukes Ale Works    Elkhorn  Nebraska         Brewpub   \n",
       "28    Kros Strain Brewing Company    LaVista  Nebraska           Micro   \n",
       "32   Lucky Bucket Brewing Company    LaVista  Nebraska           Micro   \n",
       "34             Monolithic Brewing      Omaha  Nebraska         Brewpub   \n",
       "35       Nebraska Brewing Company    LaVista  Nebraska   Micro/Brewpub   \n",
       "38      Pint Nine Brewing Company  Papillion  Nebraska           Micro   \n",
       "44      Scriptown Brewing Company      Omaha  Nebraska         Taproom   \n",
       "45                 Site-1 Brewing      Omaha  Nebraska           Micro   \n",
       "51       Upstream Brewing Company      Omaha  Nebraska         Brewpub   \n",
       "52      Vis Major Brewing Company      Omaha  Nebraska         Brewpub   \n",
       "\n",
       "                                 Type_of_Distribution  \\\n",
       "1                          On tap only at the brewery   \n",
       "7   On tap and select distribution around Omaha; D...   \n",
       "16                         On tap only at the brewery   \n",
       "20                         On tap only at the brewery   \n",
       "23  On tap throughout Omaha and at the brewery, sp...   \n",
       "24                         On tap only at the brewery   \n",
       "26                                                NaN   \n",
       "28                              On tap at the brewery   \n",
       "32                         On tap state-wide, bottles   \n",
       "34                              On-tap at the brewery   \n",
       "35                On tap state-wide, cans and bottles   \n",
       "38                              On tap at the brewery   \n",
       "44             On tap at the brewery and around Omaha   \n",
       "45                              On tap at the brewery   \n",
       "51                   On tap in Omaha, limited bottles   \n",
       "52                              On tap at the brewery   \n",
       "\n",
       "                                                Notes  #_Locations  \\\n",
       "1   Other beers, locals included, on tap. Omaha Br...            1   \n",
       "7                                    formerly Borgata            1   \n",
       "16                                 Formerly Goldenrod            1   \n",
       "20                                                NaN            2   \n",
       "23                           12-15 house-brewed beers            4   \n",
       "24                                                NaN            1   \n",
       "26                                Opened July 9, 2019            1   \n",
       "28                                                NaN            1   \n",
       "32                                                NaN            1   \n",
       "34          Opened Oct 2020, Formerly Omaha Ale Works            1   \n",
       "35  Largest production facility in the state; Papi...            1   \n",
       "38                                                NaN            1   \n",
       "44                                                NaN            1   \n",
       "45                                    Opened Dec 2020            1   \n",
       "51  4-5 rotating seasonals and 8 house beers. Omah...            1   \n",
       "52                                                NaN            1   \n",
       "\n",
       "                                            Locations      City2  \n",
       "1                                               Omaha      Omaha  \n",
       "7                                    Omaha - Downtown      Omaha  \n",
       "16                                    Omaha - Midtown      Omaha  \n",
       "20                                    Omaha / Lincoln      Omaha  \n",
       "23  Benson / Omaha - SW / Omaha - Little Bohemia /...     Benson  \n",
       "24                                       Omaha - West      Omaha  \n",
       "26                                            Elkhorn    Elkhorn  \n",
       "28                                            LaVista    LaVista  \n",
       "32                                            LaVista    LaVista  \n",
       "34                                              Omaha      Omaha  \n",
       "35                                            LaVista    LaVista  \n",
       "38                                          Papillion  Papillion  \n",
       "44                                    Omaha - Midtown      Omaha  \n",
       "45                                              Omaha      Omaha  \n",
       "51                                   Omaha - Downtown      Omaha  \n",
       "52                                              Omaha      Omaha  "
      ]
     },
     "execution_count": 171,
     "metadata": {},
     "output_type": "execute_result"
    }
   ],
   "source": [
    "testDF[(testDF['City2'].isin(omahaSubs)) == True]"
   ]
  },
  {
   "cell_type": "code",
   "execution_count": 138,
   "metadata": {},
   "outputs": [],
   "source": [
    "# if testDF['City'] in omahaSubs == True:\n",
    "#     testDF['City2'] = \"Omaha\""
   ]
  },
  {
   "cell_type": "code",
   "execution_count": 139,
   "metadata": {},
   "outputs": [],
   "source": [
    "# import numpy as np"
   ]
  },
  {
   "cell_type": "code",
   "execution_count": 140,
   "metadata": {},
   "outputs": [],
   "source": [
    "# for i in testDF['City']:\n",
    "#     if i in omahaSubs:\n",
    "#         testDF['City2'] = \"Omaha\"\n",
    "#     else:\n",
    "#         testDF['City2'] = np.nan"
   ]
  },
  {
   "cell_type": "code",
   "execution_count": 101,
   "metadata": {},
   "outputs": [],
   "source": [
    "# testDF.City2 # Nope, just makes everything in the column that"
   ]
  },
  {
   "cell_type": "code",
   "execution_count": 105,
   "metadata": {},
   "outputs": [
    {
     "data": {
      "text/plain": [
       "False"
      ]
     },
     "execution_count": 105,
     "metadata": {},
     "output_type": "execute_result"
    }
   ],
   "source": [
    "testDF.City[1] in omahaSubs"
   ]
  },
  {
   "cell_type": "code",
   "execution_count": 142,
   "metadata": {},
   "outputs": [],
   "source": [
    "# testDF[testDF.City2 in omahaSubsTuple]"
   ]
  },
  {
   "cell_type": "code",
   "execution_count": 270,
   "metadata": {},
   "outputs": [],
   "source": [
    "# testDF.City2.isin(omahaSubs)"
   ]
  },
  {
   "cell_type": "code",
   "execution_count": 269,
   "metadata": {},
   "outputs": [],
   "source": [
    "# testDF.City2.isin(omahaSubs)"
   ]
  },
  {
   "cell_type": "code",
   "execution_count": 124,
   "metadata": {},
   "outputs": [],
   "source": [
    "# testDF[testDF.City2.isin(omahaSubs)] = 'Omaha'"
   ]
  },
  {
   "cell_type": "code",
   "execution_count": 268,
   "metadata": {},
   "outputs": [],
   "source": [
    "# testDF.City"
   ]
  },
  {
   "cell_type": "code",
   "execution_count": 267,
   "metadata": {},
   "outputs": [],
   "source": [
    "# testDF.City2"
   ]
  },
  {
   "cell_type": "code",
   "execution_count": 266,
   "metadata": {},
   "outputs": [],
   "source": [
    "# testDF[['City', 'City2']]"
   ]
  },
  {
   "cell_type": "code",
   "execution_count": 146,
   "metadata": {},
   "outputs": [
    {
     "data": {
      "text/html": [
       "<div>\n",
       "<style scoped>\n",
       "    .dataframe tbody tr th:only-of-type {\n",
       "        vertical-align: middle;\n",
       "    }\n",
       "\n",
       "    .dataframe tbody tr th {\n",
       "        vertical-align: top;\n",
       "    }\n",
       "\n",
       "    .dataframe thead th {\n",
       "        text-align: right;\n",
       "    }\n",
       "</style>\n",
       "<table border=\"1\" class=\"dataframe\">\n",
       "  <thead>\n",
       "    <tr style=\"text-align: right;\">\n",
       "      <th></th>\n",
       "      <th>Brewery_Name</th>\n",
       "      <th>City</th>\n",
       "      <th>State</th>\n",
       "      <th>Type_of_Brewery</th>\n",
       "      <th>Type_of_Distribution</th>\n",
       "      <th>Notes</th>\n",
       "      <th>#_Locations</th>\n",
       "      <th>Locations</th>\n",
       "      <th>City2</th>\n",
       "    </tr>\n",
       "  </thead>\n",
       "  <tbody>\n",
       "    <tr>\n",
       "      <th>0</th>\n",
       "      <td>Backswing Brewing Co.</td>\n",
       "      <td>Lincoln</td>\n",
       "      <td>Nebraska</td>\n",
       "      <td>Micro</td>\n",
       "      <td>On-tap at the brewery and at select locations</td>\n",
       "      <td>Distro planned for 2016</td>\n",
       "      <td>1</td>\n",
       "      <td>Lincoln</td>\n",
       "      <td>Lincoln</td>\n",
       "    </tr>\n",
       "    <tr>\n",
       "      <th>1</th>\n",
       "      <td>Omaha</td>\n",
       "      <td>Omaha</td>\n",
       "      <td>Omaha</td>\n",
       "      <td>Omaha</td>\n",
       "      <td>Omaha</td>\n",
       "      <td>Omaha</td>\n",
       "      <td>Omaha</td>\n",
       "      <td>Omaha</td>\n",
       "      <td>Omaha</td>\n",
       "    </tr>\n",
       "    <tr>\n",
       "      <th>2</th>\n",
       "      <td>Boiler Brewing Company</td>\n",
       "      <td>Lincoln</td>\n",
       "      <td>Nebraska</td>\n",
       "      <td>Taproom</td>\n",
       "      <td>On tap only at the brewery</td>\n",
       "      <td>Tours posted on FB page</td>\n",
       "      <td>2</td>\n",
       "      <td>Lincoln / Lincoln - South</td>\n",
       "      <td>Lincoln</td>\n",
       "    </tr>\n",
       "    <tr>\n",
       "      <th>3</th>\n",
       "      <td>Bolo Beer Co.</td>\n",
       "      <td>Valentine</td>\n",
       "      <td>Nebraska</td>\n",
       "      <td>Taproom</td>\n",
       "      <td>On tap at the brewery and select distribution ...</td>\n",
       "      <td>NaN</td>\n",
       "      <td>1</td>\n",
       "      <td>Valentine</td>\n",
       "      <td>Valentine</td>\n",
       "    </tr>\n",
       "    <tr>\n",
       "      <th>4</th>\n",
       "      <td>Bootleg Brewers, Sandhills Brewing Co.</td>\n",
       "      <td>Taylor</td>\n",
       "      <td>Nebraska</td>\n",
       "      <td>Brewpub</td>\n",
       "      <td>Taproom only</td>\n",
       "      <td>Steakhouse and lodging available</td>\n",
       "      <td>1</td>\n",
       "      <td>Taylor</td>\n",
       "      <td>Taylor</td>\n",
       "    </tr>\n",
       "  </tbody>\n",
       "</table>\n",
       "</div>"
      ],
      "text/plain": [
       "                             Brewery_Name       City     State  \\\n",
       "0                   Backswing Brewing Co.    Lincoln  Nebraska   \n",
       "1                                   Omaha      Omaha     Omaha   \n",
       "2                  Boiler Brewing Company    Lincoln  Nebraska   \n",
       "3                           Bolo Beer Co.  Valentine  Nebraska   \n",
       "4  Bootleg Brewers, Sandhills Brewing Co.     Taylor  Nebraska   \n",
       "\n",
       "  Type_of_Brewery                               Type_of_Distribution  \\\n",
       "0           Micro      On-tap at the brewery and at select locations   \n",
       "1           Omaha                                              Omaha   \n",
       "2         Taproom                         On tap only at the brewery   \n",
       "3         Taproom  On tap at the brewery and select distribution ...   \n",
       "4         Brewpub                                       Taproom only   \n",
       "\n",
       "                              Notes #_Locations                  Locations  \\\n",
       "0           Distro planned for 2016           1                    Lincoln   \n",
       "1                             Omaha       Omaha                      Omaha   \n",
       "2           Tours posted on FB page           2  Lincoln / Lincoln - South   \n",
       "3                               NaN           1                  Valentine   \n",
       "4  Steakhouse and lodging available           1                     Taylor   \n",
       "\n",
       "       City2  \n",
       "0    Lincoln  \n",
       "1      Omaha  \n",
       "2    Lincoln  \n",
       "3  Valentine  \n",
       "4     Taylor  "
      ]
     },
     "execution_count": 146,
     "metadata": {},
     "output_type": "execute_result"
    }
   ],
   "source": [
    "testDF.head()"
   ]
  },
  {
   "cell_type": "code",
   "execution_count": 187,
   "metadata": {},
   "outputs": [],
   "source": [
    "testList = ['one']"
   ]
  },
  {
   "cell_type": "code",
   "execution_count": 188,
   "metadata": {},
   "outputs": [],
   "source": [
    "testList.extend(['two', 'three'])"
   ]
  },
  {
   "cell_type": "code",
   "execution_count": 189,
   "metadata": {},
   "outputs": [
    {
     "data": {
      "text/plain": [
       "['one', 'two', 'three']"
      ]
     },
     "execution_count": 189,
     "metadata": {},
     "output_type": "execute_result"
    }
   ],
   "source": [
    "testList"
   ]
  },
  {
   "cell_type": "markdown",
   "metadata": {},
   "source": [
    "Sweet"
   ]
  },
  {
   "cell_type": "code",
   "execution_count": null,
   "metadata": {},
   "outputs": [],
   "source": []
  },
  {
   "cell_type": "markdown",
   "metadata": {},
   "source": [
    "## Phone Numbers"
   ]
  },
  {
   "cell_type": "code",
   "execution_count": 190,
   "metadata": {},
   "outputs": [],
   "source": [
    "import phonenumbers as pn"
   ]
  },
  {
   "cell_type": "code",
   "execution_count": 192,
   "metadata": {},
   "outputs": [
    {
     "data": {
      "text/plain": [
       "0    (402) 515-4263\n",
       "1    (402) 934-8668\n",
       "2    (402) 477-2337\n",
       "3    (402) 261-8775\n",
       "4    (402) 259-5180\n",
       "Name: Phone, dtype: object"
      ]
     },
     "execution_count": 192,
     "metadata": {},
     "output_type": "execute_result"
    }
   ],
   "source": [
    "csvData.Phone.head()"
   ]
  },
  {
   "cell_type": "code",
   "execution_count": 260,
   "metadata": {},
   "outputs": [],
   "source": [
    "# apiData.PhoneNum"
   ]
  },
  {
   "cell_type": "code",
   "execution_count": 217,
   "metadata": {},
   "outputs": [],
   "source": [
    "# apiData.PhoneNum.str.strip()"
   ]
  },
  {
   "cell_type": "code",
   "execution_count": 201,
   "metadata": {},
   "outputs": [],
   "source": [
    "apiData.PhoneNum = apiData.PhoneNum.str.strip()"
   ]
  },
  {
   "cell_type": "code",
   "execution_count": 261,
   "metadata": {},
   "outputs": [],
   "source": [
    "# apiData[\"PhoneNum\"] = apiData['PhoneNum'].astype(str).map(lambda x: pn.format_number(pn.parse(x, 'US'), pn.PhoneNumberFormat.NATIONAL))"
   ]
  },
  {
   "cell_type": "code",
   "execution_count": 215,
   "metadata": {},
   "outputs": [],
   "source": [
    "# for n in apiData.PhoneNum:\n",
    "#     print(pn.format_number(pn.parse(n, 'US'), pn.PhoneNumberFormat.NATIONAL))"
   ]
  },
  {
   "cell_type": "code",
   "execution_count": null,
   "metadata": {},
   "outputs": [],
   "source": [
    "try:\n",
    "    apiData[\"PhoneNum2\"] = apiData['PhoneNum'].astype(str).map(lambda x: pn.format_number(pn.parse(x, 'US'), pn.PhoneNumberFormat.NATIONAL))\n",
    "except:\n",
    "    apiData[\"PhoneNum2\"]"
   ]
  },
  {
   "cell_type": "code",
   "execution_count": 256,
   "metadata": {},
   "outputs": [],
   "source": [
    "testDF = apiData.copy()"
   ]
  },
  {
   "cell_type": "markdown",
   "metadata": {},
   "source": [
    "### This part here:"
   ]
  },
  {
   "cell_type": "code",
   "execution_count": 257,
   "metadata": {},
   "outputs": [],
   "source": [
    "def fixPhoneNums(df, colName):\n",
    "    phList = []\n",
    "    for i in range(len(df[colName])):\n",
    "        try:\n",
    "            phList.append(pn.format_number(pn.parse(df[colName][i], 'US'), pn.PhoneNumberFormat.NATIONAL))\n",
    "        except:\n",
    "            phList.append(np.nan)\n",
    "    df[colName] = phList"
   ]
  },
  {
   "cell_type": "code",
   "execution_count": 258,
   "metadata": {},
   "outputs": [],
   "source": [
    "fixPhoneNums(testDF, 'PhoneNum')"
   ]
  },
  {
   "cell_type": "code",
   "execution_count": 262,
   "metadata": {},
   "outputs": [],
   "source": [
    "# testDF.PhoneNum"
   ]
  },
  {
   "cell_type": "code",
   "execution_count": 263,
   "metadata": {},
   "outputs": [],
   "source": [
    "phList = []\n",
    "for i in range(len(testDF.PhoneNum)):\n",
    "    try:\n",
    "        phList.append(pn.format_number(pn.parse(testDF.PhoneNum[i], 'US'), pn.PhoneNumberFormat.NATIONAL))\n",
    "    except:\n",
    "        phList.append(np.nan)\n",
    "# phList"
   ]
  },
  {
   "cell_type": "code",
   "execution_count": 244,
   "metadata": {},
   "outputs": [],
   "source": [
    "testDF['PhoneNum'] = phList"
   ]
  },
  {
   "cell_type": "code",
   "execution_count": 264,
   "metadata": {},
   "outputs": [],
   "source": [
    "# testDF.PhoneNum"
   ]
  },
  {
   "cell_type": "code",
   "execution_count": 237,
   "metadata": {},
   "outputs": [
    {
     "name": "stderr",
     "output_type": "stream",
     "text": [
      "<ipython-input-237-fb6bbc5157bd>:3: SettingWithCopyWarning: \n",
      "A value is trying to be set on a copy of a slice from a DataFrame\n",
      "\n",
      "See the caveats in the documentation: https://pandas.pydata.org/pandas-docs/stable/user_guide/indexing.html#returning-a-view-versus-a-copy\n",
      "  testDF.PhoneNum[i] = pn.format_number(pn.parse(testDF.PhoneNum[i], 'US'), pn.PhoneNumberFormat.NATIONAL)\n",
      "<ipython-input-237-fb6bbc5157bd>:5: SettingWithCopyWarning: \n",
      "A value is trying to be set on a copy of a slice from a DataFrame\n",
      "\n",
      "See the caveats in the documentation: https://pandas.pydata.org/pandas-docs/stable/user_guide/indexing.html#returning-a-view-versus-a-copy\n",
      "  testDF.PhoneNum[i] = np.nan\n"
     ]
    }
   ],
   "source": [
    "for i in range(len(testDF.PhoneNum)):\n",
    "    try:\n",
    "        testDF.PhoneNum[i] = pn.format_number(pn.parse(testDF.PhoneNum[i], 'US'), pn.PhoneNumberFormat.NATIONAL)\n",
    "    except:\n",
    "        testDF.PhoneNum[i] = np.nan"
   ]
  },
  {
   "cell_type": "code",
   "execution_count": 265,
   "metadata": {},
   "outputs": [],
   "source": [
    "# testDF.PhoneNum"
   ]
  },
  {
   "cell_type": "code",
   "execution_count": 272,
   "metadata": {},
   "outputs": [],
   "source": [
    "# for i in apiData.PhoneNum:\n",
    "#     print(i)"
   ]
  },
  {
   "cell_type": "code",
   "execution_count": 273,
   "metadata": {},
   "outputs": [],
   "source": [
    "# for n in apiData.PhoneNum:\n",
    "#     try:\n",
    "#         print(pn.format_number(pn.parse(n, 'US'), pn.PhoneNumberFormat.NATIONAL))\n",
    "#     except:\n",
    "#         print(np.nan)"
   ]
  },
  {
   "cell_type": "code",
   "execution_count": null,
   "metadata": {},
   "outputs": [],
   "source": []
  },
  {
   "cell_type": "markdown",
   "metadata": {},
   "source": [
    "## Fuzzy Matching"
   ]
  },
  {
   "cell_type": "code",
   "execution_count": 31,
   "metadata": {},
   "outputs": [],
   "source": [
    "from fuzzywuzzy import fuzz\n",
    "from fuzzywuzzy import process"
   ]
  },
  {
   "cell_type": "code",
   "execution_count": null,
   "metadata": {},
   "outputs": [],
   "source": []
  }
 ],
 "metadata": {
  "kernelspec": {
   "display_name": "Python 3",
   "language": "python",
   "name": "python3"
  },
  "language_info": {
   "codemirror_mode": {
    "name": "ipython",
    "version": 3
   },
   "file_extension": ".py",
   "mimetype": "text/x-python",
   "name": "python",
   "nbconvert_exporter": "python",
   "pygments_lexer": "ipython3",
   "version": "3.8.5"
  }
 },
 "nbformat": 4,
 "nbformat_minor": 4
}
