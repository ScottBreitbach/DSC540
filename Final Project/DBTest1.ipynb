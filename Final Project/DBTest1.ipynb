{
 "cells": [
  {
   "cell_type": "code",
   "execution_count": 1,
   "metadata": {},
   "outputs": [],
   "source": [
    "import sqlite3\n",
    "import pandas as pd"
   ]
  },
  {
   "cell_type": "code",
   "execution_count": 11,
   "metadata": {},
   "outputs": [],
   "source": [
    "testDF = pd.read_csv('testData.csv')\n",
    "nebrDF = pd.read_csv('nebraska.csv')"
   ]
  },
  {
   "cell_type": "markdown",
   "metadata": {},
   "source": [
    "Create the DB:"
   ]
  },
  {
   "cell_type": "code",
   "execution_count": 3,
   "metadata": {},
   "outputs": [],
   "source": [
    "conn = sqlite3.connect('TestDB.db')\n",
    "cursor = conn.cursor()"
   ]
  },
  {
   "cell_type": "markdown",
   "metadata": {},
   "source": [
    "Create the table:"
   ]
  },
  {
   "cell_type": "code",
   "execution_count": 4,
   "metadata": {},
   "outputs": [],
   "source": [
    "# c.execute('CREATE TABLE IF NOT EXISTS test (Brewery Name, City, State, Type of Brewery, Type of Distribution, Notes, Num Locations, Locations)')\n",
    "# conn.commit()"
   ]
  },
  {
   "cell_type": "markdown",
   "metadata": {},
   "source": [
    "Get from pandas DF to SQL:"
   ]
  },
  {
   "cell_type": "code",
   "execution_count": 5,
   "metadata": {},
   "outputs": [
    {
     "name": "stderr",
     "output_type": "stream",
     "text": [
      "C:\\ProgramData\\Anaconda3\\lib\\site-packages\\pandas\\core\\generic.py:2605: UserWarning: The spaces in these column names will not be changed. In pandas versions < 0.14, spaces were converted to underscores.\n",
      "  sql.to_sql(\n"
     ]
    }
   ],
   "source": [
    "testDF.to_sql('test', conn, if_exists='replace', index=False)"
   ]
  },
  {
   "cell_type": "markdown",
   "metadata": {},
   "source": [
    "Take a look:"
   ]
  },
  {
   "cell_type": "code",
   "execution_count": 12,
   "metadata": {},
   "outputs": [
    {
     "name": "stdout",
     "output_type": "stream",
     "text": [
      "('Backswing Brewing Co.', 'Lincoln', 'Nebraska', 'Micro', 'On-tap at the brewery and at select locations', 'Distro planned for 2016', 1, 'Lincoln')\n",
      "('Benson Brewery', 'Omaha', 'Nebraska', 'Taproom', 'On tap only at the brewery', 'Other beers, locals included, on tap. Omaha Brewing is the parent company', 1, 'Omaha')\n",
      "('Boiler Brewing Company', 'Lincoln', 'Nebraska', 'Taproom', 'On tap only at the brewery', 'Tours posted on FB page', 2, 'Lincoln / Lincoln - South')\n",
      "('Bolo Beer Co.', 'Valentine', 'Nebraska', 'Taproom', 'On tap at the brewery and select distribution around Omaha', None, 1, 'Valentine')\n",
      "('Bootleg Brewers, Sandhills Brewing Co.', 'Taylor', 'Nebraska', 'Brewpub', 'Taproom only', 'Steakhouse and lodging available', 1, 'Taylor')\n"
     ]
    }
   ],
   "source": [
    "cursor.execute('''SELECT * FROM test''')\n",
    "\n",
    "for row in cursor.fetchall()[:5]:\n",
    "    print(row)"
   ]
  },
  {
   "cell_type": "markdown",
   "metadata": {},
   "source": [
    "Get a list of the tables:"
   ]
  },
  {
   "cell_type": "code",
   "execution_count": 17,
   "metadata": {},
   "outputs": [
    {
     "name": "stdout",
     "output_type": "stream",
     "text": [
      "test\n",
      "nebr\n"
     ]
    }
   ],
   "source": [
    "res = conn.execute('''\n",
    "    SELECT name FROM sqlite_master WHERE type='table';\n",
    "''')\n",
    "\n",
    "for name in res:\n",
    "    print(name[0])"
   ]
  },
  {
   "cell_type": "code",
   "execution_count": 14,
   "metadata": {},
   "outputs": [
    {
     "name": "stderr",
     "output_type": "stream",
     "text": [
      "C:\\ProgramData\\Anaconda3\\lib\\site-packages\\pandas\\core\\generic.py:2605: UserWarning: The spaces in these column names will not be changed. In pandas versions < 0.14, spaces were converted to underscores.\n",
      "  sql.to_sql(\n"
     ]
    }
   ],
   "source": [
    "with sqlite3.connect('TestDB.db') as conn:\n",
    "    cursor = conn.cursor()\n",
    "    testDF.to_sql('test', conn, if_exists='replace', index=False)\n",
    "    nebrDF.to_sql('nebr', conn, if_exists='replace', index=False)"
   ]
  },
  {
   "cell_type": "code",
   "execution_count": 15,
   "metadata": {},
   "outputs": [
    {
     "name": "stdout",
     "output_type": "stream",
     "text": [
      "('Backswing Brewing Co.', 'Lincoln', 'Nebraska', 'Micro', 'On-tap at the brewery and at select locations', 'Distro planned for 2016', 1, 'Lincoln')\n",
      "('Benson Brewery', 'Omaha', 'Nebraska', 'Taproom', 'On tap only at the brewery', 'Other beers, locals included, on tap. Omaha Brewing is the parent company', 1, 'Omaha')\n",
      "('Boiler Brewing Company', 'Lincoln', 'Nebraska', 'Taproom', 'On tap only at the brewery', 'Tours posted on FB page', 2, 'Lincoln / Lincoln - South')\n",
      "('Bolo Beer Co.', 'Valentine', 'Nebraska', 'Taproom', 'On tap at the brewery and select distribution around Omaha', None, 1, 'Valentine')\n",
      "('Bootleg Brewers, Sandhills Brewing Co.', 'Taylor', 'Nebraska', 'Brewpub', 'Taproom only', 'Steakhouse and lodging available', 1, 'Taylor')\n"
     ]
    }
   ],
   "source": [
    "cursor.execute('''SELECT * FROM test''')\n",
    "\n",
    "for row in cursor.fetchall()[:5]:\n",
    "    print(row)"
   ]
  },
  {
   "cell_type": "code",
   "execution_count": 16,
   "metadata": {},
   "outputs": [
    {
     "name": "stdout",
     "output_type": "stream",
     "text": [
      "('backswing-brewing-co-lincoln', 'Backswing Brewing Co.', 'micro', '500 W South St Ste 8', None, None, 'Lincoln', 'Nebraska', None, '68522-1744', 'http://www.backswingbrewing.com', 4025154263.0, '2018-07-24 01:33:43', '2018-08-11 21:38:14', 'United States', None, None, None)\n",
      "('barley-boys-brewery-omaha', 'Barley Boys Brewery', 'planning', None, None, None, 'Omaha', 'Nebraska', None, '68144-1922', 'http://www.barleyboysbrewery.com', 4025986096.0, '2018-07-24 01:33:43', '2018-08-11 21:38:14', 'United States', None, None, None)\n",
      "('benson-brewery-omaha', 'Benson Brewery', 'brewpub', '6059 Maple St', None, None, 'Omaha', 'Nebraska', None, '68104-4050', 'http://www.bensonbrewery.com', 4029348668.0, '2018-07-24 01:33:43', '2018-08-24 00:47:32', 'United States', -96.00634511, 41.28489756, None)\n",
      "('blue-blood-brewing-company-lincoln', 'Blue Blood Brewing Company', 'brewpub', '925 Robbers Cave Rd', None, None, 'Lincoln', 'Nebraska', None, '68502', 'http://www.bluebloodbrewing.com', 4024772337.0, '2018-07-24 01:33:43', '2018-08-24 00:47:33', 'United States', -96.70701376, 40.77999602, None)\n",
      "('boiler-brewing-company-lincoln', 'Boiler Brewing Company', 'micro', '129 N 10th St Ste 8', None, None, 'Lincoln', 'Nebraska', None, '68508-3633', 'http://www.boilerbrewingcompany.com', 4022618775.0, '2018-07-24 01:33:43', '2018-08-11 21:38:14', 'United States', None, None, None)\n"
     ]
    }
   ],
   "source": [
    "cursor.execute('''SELECT * FROM nebr''')\n",
    "\n",
    "for row in cursor.fetchall()[:5]:\n",
    "    print(row)"
   ]
  },
  {
   "cell_type": "code",
   "execution_count": null,
   "metadata": {},
   "outputs": [],
   "source": []
  }
 ],
 "metadata": {
  "kernelspec": {
   "display_name": "Python 3",
   "language": "python",
   "name": "python3"
  },
  "language_info": {
   "codemirror_mode": {
    "name": "ipython",
    "version": 3
   },
   "file_extension": ".py",
   "mimetype": "text/x-python",
   "name": "python",
   "nbconvert_exporter": "python",
   "pygments_lexer": "ipython3",
   "version": "3.8.5"
  }
 },
 "nbformat": 4,
 "nbformat_minor": 4
}
