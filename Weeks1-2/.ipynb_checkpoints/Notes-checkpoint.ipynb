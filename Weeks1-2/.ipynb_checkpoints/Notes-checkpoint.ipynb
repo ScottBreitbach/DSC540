{
 "cells": [
  {
   "cell_type": "markdown",
   "metadata": {},
   "source": [
    "## Week 1-2: Notes"
   ]
  },
  {
   "cell_type": "markdown",
   "metadata": {},
   "source": [
    "### Notes from video\n",
    "Wrangling Data with Pandas\n",
    "https://www.youtube.com/watch?v=XDAnFZqJDvI"
   ]
  },
  {
   "cell_type": "code",
   "execution_count": 2,
   "metadata": {},
   "outputs": [],
   "source": [
    "import pandas as pd"
   ]
  },
  {
   "cell_type": "code",
   "execution_count": 5,
   "metadata": {},
   "outputs": [],
   "source": [
    "csv_data = pd.read_csv(\"iris_training.csv\")"
   ]
  },
  {
   "cell_type": "markdown",
   "metadata": {},
   "source": [
    "DataFrame.head()"
   ]
  },
  {
   "cell_type": "code",
   "execution_count": 7,
   "metadata": {},
   "outputs": [
    {
     "data": {
      "text/html": [
       "<div>\n",
       "<style scoped>\n",
       "    .dataframe tbody tr th:only-of-type {\n",
       "        vertical-align: middle;\n",
       "    }\n",
       "\n",
       "    .dataframe tbody tr th {\n",
       "        vertical-align: top;\n",
       "    }\n",
       "\n",
       "    .dataframe thead th {\n",
       "        text-align: right;\n",
       "    }\n",
       "</style>\n",
       "<table border=\"1\" class=\"dataframe\">\n",
       "  <thead>\n",
       "    <tr style=\"text-align: right;\">\n",
       "      <th></th>\n",
       "      <th>120</th>\n",
       "      <th>4</th>\n",
       "      <th>setosa</th>\n",
       "      <th>versicolor</th>\n",
       "      <th>virginica</th>\n",
       "    </tr>\n",
       "  </thead>\n",
       "  <tbody>\n",
       "    <tr>\n",
       "      <th>0</th>\n",
       "      <td>6.4</td>\n",
       "      <td>2.8</td>\n",
       "      <td>5.6</td>\n",
       "      <td>2.2</td>\n",
       "      <td>2</td>\n",
       "    </tr>\n",
       "    <tr>\n",
       "      <th>1</th>\n",
       "      <td>5.0</td>\n",
       "      <td>2.3</td>\n",
       "      <td>3.3</td>\n",
       "      <td>1.0</td>\n",
       "      <td>1</td>\n",
       "    </tr>\n",
       "    <tr>\n",
       "      <th>2</th>\n",
       "      <td>4.9</td>\n",
       "      <td>2.5</td>\n",
       "      <td>4.5</td>\n",
       "      <td>1.7</td>\n",
       "      <td>2</td>\n",
       "    </tr>\n",
       "    <tr>\n",
       "      <th>3</th>\n",
       "      <td>4.9</td>\n",
       "      <td>3.1</td>\n",
       "      <td>1.5</td>\n",
       "      <td>0.1</td>\n",
       "      <td>0</td>\n",
       "    </tr>\n",
       "    <tr>\n",
       "      <th>4</th>\n",
       "      <td>5.7</td>\n",
       "      <td>3.8</td>\n",
       "      <td>1.7</td>\n",
       "      <td>0.3</td>\n",
       "      <td>0</td>\n",
       "    </tr>\n",
       "  </tbody>\n",
       "</table>\n",
       "</div>"
      ],
      "text/plain": [
       "   120    4  setosa  versicolor  virginica\n",
       "0  6.4  2.8     5.6         2.2          2\n",
       "1  5.0  2.3     3.3         1.0          1\n",
       "2  4.9  2.5     4.5         1.7          2\n",
       "3  4.9  3.1     1.5         0.1          0\n",
       "4  5.7  3.8     1.7         0.3          0"
      ]
     },
     "execution_count": 7,
     "metadata": {},
     "output_type": "execute_result"
    }
   ],
   "source": [
    "csv_data.head()"
   ]
  },
  {
   "cell_type": "markdown",
   "metadata": {},
   "source": [
    "DataFrame.describe()"
   ]
  },
  {
   "cell_type": "code",
   "execution_count": 8,
   "metadata": {},
   "outputs": [
    {
     "data": {
      "text/html": [
       "<div>\n",
       "<style scoped>\n",
       "    .dataframe tbody tr th:only-of-type {\n",
       "        vertical-align: middle;\n",
       "    }\n",
       "\n",
       "    .dataframe tbody tr th {\n",
       "        vertical-align: top;\n",
       "    }\n",
       "\n",
       "    .dataframe thead th {\n",
       "        text-align: right;\n",
       "    }\n",
       "</style>\n",
       "<table border=\"1\" class=\"dataframe\">\n",
       "  <thead>\n",
       "    <tr style=\"text-align: right;\">\n",
       "      <th></th>\n",
       "      <th>120</th>\n",
       "      <th>4</th>\n",
       "      <th>setosa</th>\n",
       "      <th>versicolor</th>\n",
       "      <th>virginica</th>\n",
       "    </tr>\n",
       "  </thead>\n",
       "  <tbody>\n",
       "    <tr>\n",
       "      <th>count</th>\n",
       "      <td>120.000000</td>\n",
       "      <td>120.000000</td>\n",
       "      <td>120.000000</td>\n",
       "      <td>120.000000</td>\n",
       "      <td>120.000000</td>\n",
       "    </tr>\n",
       "    <tr>\n",
       "      <th>mean</th>\n",
       "      <td>5.845000</td>\n",
       "      <td>3.065000</td>\n",
       "      <td>3.739167</td>\n",
       "      <td>1.196667</td>\n",
       "      <td>1.000000</td>\n",
       "    </tr>\n",
       "    <tr>\n",
       "      <th>std</th>\n",
       "      <td>0.868578</td>\n",
       "      <td>0.427156</td>\n",
       "      <td>1.822100</td>\n",
       "      <td>0.782039</td>\n",
       "      <td>0.840168</td>\n",
       "    </tr>\n",
       "    <tr>\n",
       "      <th>min</th>\n",
       "      <td>4.400000</td>\n",
       "      <td>2.000000</td>\n",
       "      <td>1.000000</td>\n",
       "      <td>0.100000</td>\n",
       "      <td>0.000000</td>\n",
       "    </tr>\n",
       "    <tr>\n",
       "      <th>25%</th>\n",
       "      <td>5.075000</td>\n",
       "      <td>2.800000</td>\n",
       "      <td>1.500000</td>\n",
       "      <td>0.300000</td>\n",
       "      <td>0.000000</td>\n",
       "    </tr>\n",
       "    <tr>\n",
       "      <th>50%</th>\n",
       "      <td>5.800000</td>\n",
       "      <td>3.000000</td>\n",
       "      <td>4.400000</td>\n",
       "      <td>1.300000</td>\n",
       "      <td>1.000000</td>\n",
       "    </tr>\n",
       "    <tr>\n",
       "      <th>75%</th>\n",
       "      <td>6.425000</td>\n",
       "      <td>3.300000</td>\n",
       "      <td>5.100000</td>\n",
       "      <td>1.800000</td>\n",
       "      <td>2.000000</td>\n",
       "    </tr>\n",
       "    <tr>\n",
       "      <th>max</th>\n",
       "      <td>7.900000</td>\n",
       "      <td>4.400000</td>\n",
       "      <td>6.900000</td>\n",
       "      <td>2.500000</td>\n",
       "      <td>2.000000</td>\n",
       "    </tr>\n",
       "  </tbody>\n",
       "</table>\n",
       "</div>"
      ],
      "text/plain": [
       "              120           4      setosa  versicolor   virginica\n",
       "count  120.000000  120.000000  120.000000  120.000000  120.000000\n",
       "mean     5.845000    3.065000    3.739167    1.196667    1.000000\n",
       "std      0.868578    0.427156    1.822100    0.782039    0.840168\n",
       "min      4.400000    2.000000    1.000000    0.100000    0.000000\n",
       "25%      5.075000    2.800000    1.500000    0.300000    0.000000\n",
       "50%      5.800000    3.000000    4.400000    1.300000    1.000000\n",
       "75%      6.425000    3.300000    5.100000    1.800000    2.000000\n",
       "max      7.900000    4.400000    6.900000    2.500000    2.000000"
      ]
     },
     "execution_count": 8,
     "metadata": {},
     "output_type": "execute_result"
    }
   ],
   "source": [
    "csv_data.describe(include='all')"
   ]
  },
  {
   "cell_type": "markdown",
   "metadata": {},
   "source": [
    "Shuffling the DataFrame"
   ]
  },
  {
   "cell_type": "code",
   "execution_count": 9,
   "metadata": {},
   "outputs": [],
   "source": [
    "csv_data = csv_data.sample(frac=1).reset_index(drop=True)"
   ]
  },
  {
   "cell_type": "markdown",
   "metadata": {},
   "source": [
    "#### DataFram access:\n",
    "\n",
    "Columns"
   ]
  },
  {
   "cell_type": "code",
   "execution_count": 11,
   "metadata": {},
   "outputs": [
    {
     "data": {
      "text/plain": [
       "Index(['120', '4', 'setosa', 'versicolor', 'virginica'], dtype='object')"
      ]
     },
     "execution_count": 11,
     "metadata": {},
     "output_type": "execute_result"
    }
   ],
   "source": [
    "csv_data.columns"
   ]
  },
  {
   "cell_type": "code",
   "execution_count": 13,
   "metadata": {},
   "outputs": [
    {
     "data": {
      "text/plain": [
       "0      4.8\n",
       "1      5.8\n",
       "2      6.1\n",
       "3      6.4\n",
       "4      7.3\n",
       "      ... \n",
       "115    5.1\n",
       "116    4.4\n",
       "117    6.1\n",
       "118    4.8\n",
       "119    5.1\n",
       "Name: 120, Length: 120, dtype: float64"
      ]
     },
     "execution_count": 13,
     "metadata": {},
     "output_type": "execute_result"
    }
   ],
   "source": [
    "csv_data['120']"
   ]
  },
  {
   "cell_type": "markdown",
   "metadata": {},
   "source": [
    "Rows"
   ]
  },
  {
   "cell_type": "code",
   "execution_count": 14,
   "metadata": {},
   "outputs": [
    {
     "data": {
      "text/plain": [
       "120           5.0\n",
       "4             3.0\n",
       "setosa        1.6\n",
       "versicolor    0.2\n",
       "virginica     0.0\n",
       "Name: 5, dtype: float64"
      ]
     },
     "execution_count": 14,
     "metadata": {},
     "output_type": "execute_result"
    }
   ],
   "source": [
    "csv_data.iloc[5]"
   ]
  },
  {
   "cell_type": "markdown",
   "metadata": {},
   "source": [
    "Column & Row"
   ]
  },
  {
   "cell_type": "code",
   "execution_count": 15,
   "metadata": {},
   "outputs": [
    {
     "data": {
      "text/plain": [
       "5.0"
      ]
     },
     "execution_count": 15,
     "metadata": {},
     "output_type": "execute_result"
    }
   ],
   "source": [
    "csv_data['120'].iloc[5]"
   ]
  },
  {
   "cell_type": "markdown",
   "metadata": {},
   "source": [
    "Range Selection"
   ]
  },
  {
   "cell_type": "code",
   "execution_count": 16,
   "metadata": {},
   "outputs": [
    {
     "data": {
      "text/html": [
       "<div>\n",
       "<style scoped>\n",
       "    .dataframe tbody tr th:only-of-type {\n",
       "        vertical-align: middle;\n",
       "    }\n",
       "\n",
       "    .dataframe tbody tr th {\n",
       "        vertical-align: top;\n",
       "    }\n",
       "\n",
       "    .dataframe thead th {\n",
       "        text-align: right;\n",
       "    }\n",
       "</style>\n",
       "<table border=\"1\" class=\"dataframe\">\n",
       "  <thead>\n",
       "    <tr style=\"text-align: right;\">\n",
       "      <th></th>\n",
       "      <th>120</th>\n",
       "      <th>4</th>\n",
       "    </tr>\n",
       "  </thead>\n",
       "  <tbody>\n",
       "    <tr>\n",
       "      <th>0</th>\n",
       "      <td>4.8</td>\n",
       "      <td>3.0</td>\n",
       "    </tr>\n",
       "    <tr>\n",
       "      <th>1</th>\n",
       "      <td>5.8</td>\n",
       "      <td>4.0</td>\n",
       "    </tr>\n",
       "    <tr>\n",
       "      <th>2</th>\n",
       "      <td>6.1</td>\n",
       "      <td>2.8</td>\n",
       "    </tr>\n",
       "    <tr>\n",
       "      <th>3</th>\n",
       "      <td>6.4</td>\n",
       "      <td>2.8</td>\n",
       "    </tr>\n",
       "    <tr>\n",
       "      <th>4</th>\n",
       "      <td>7.3</td>\n",
       "      <td>2.9</td>\n",
       "    </tr>\n",
       "    <tr>\n",
       "      <th>...</th>\n",
       "      <td>...</td>\n",
       "      <td>...</td>\n",
       "    </tr>\n",
       "    <tr>\n",
       "      <th>115</th>\n",
       "      <td>5.1</td>\n",
       "      <td>3.8</td>\n",
       "    </tr>\n",
       "    <tr>\n",
       "      <th>116</th>\n",
       "      <td>4.4</td>\n",
       "      <td>3.0</td>\n",
       "    </tr>\n",
       "    <tr>\n",
       "      <th>117</th>\n",
       "      <td>6.1</td>\n",
       "      <td>2.6</td>\n",
       "    </tr>\n",
       "    <tr>\n",
       "      <th>118</th>\n",
       "      <td>4.8</td>\n",
       "      <td>3.4</td>\n",
       "    </tr>\n",
       "    <tr>\n",
       "      <th>119</th>\n",
       "      <td>5.1</td>\n",
       "      <td>3.7</td>\n",
       "    </tr>\n",
       "  </tbody>\n",
       "</table>\n",
       "<p>120 rows × 2 columns</p>\n",
       "</div>"
      ],
      "text/plain": [
       "     120    4\n",
       "0    4.8  3.0\n",
       "1    5.8  4.0\n",
       "2    6.1  2.8\n",
       "3    6.4  2.8\n",
       "4    7.3  2.9\n",
       "..   ...  ...\n",
       "115  5.1  3.8\n",
       "116  4.4  3.0\n",
       "117  6.1  2.6\n",
       "118  4.8  3.4\n",
       "119  5.1  3.7\n",
       "\n",
       "[120 rows x 2 columns]"
      ]
     },
     "execution_count": 16,
     "metadata": {},
     "output_type": "execute_result"
    }
   ],
   "source": [
    "csv_data[['120', '4']]"
   ]
  },
  {
   "cell_type": "code",
   "execution_count": 17,
   "metadata": {},
   "outputs": [
    {
     "data": {
      "text/html": [
       "<div>\n",
       "<style scoped>\n",
       "    .dataframe tbody tr th:only-of-type {\n",
       "        vertical-align: middle;\n",
       "    }\n",
       "\n",
       "    .dataframe tbody tr th {\n",
       "        vertical-align: top;\n",
       "    }\n",
       "\n",
       "    .dataframe thead th {\n",
       "        text-align: right;\n",
       "    }\n",
       "</style>\n",
       "<table border=\"1\" class=\"dataframe\">\n",
       "  <thead>\n",
       "    <tr style=\"text-align: right;\">\n",
       "      <th></th>\n",
       "      <th>setosa</th>\n",
       "      <th>versicolor</th>\n",
       "    </tr>\n",
       "  </thead>\n",
       "  <tbody>\n",
       "    <tr>\n",
       "      <th>0</th>\n",
       "      <td>1.4</td>\n",
       "      <td>0.3</td>\n",
       "    </tr>\n",
       "    <tr>\n",
       "      <th>1</th>\n",
       "      <td>1.2</td>\n",
       "      <td>0.2</td>\n",
       "    </tr>\n",
       "    <tr>\n",
       "      <th>2</th>\n",
       "      <td>4.0</td>\n",
       "      <td>1.3</td>\n",
       "    </tr>\n",
       "    <tr>\n",
       "      <th>3</th>\n",
       "      <td>5.6</td>\n",
       "      <td>2.2</td>\n",
       "    </tr>\n",
       "    <tr>\n",
       "      <th>4</th>\n",
       "      <td>6.3</td>\n",
       "      <td>1.8</td>\n",
       "    </tr>\n",
       "    <tr>\n",
       "      <th>...</th>\n",
       "      <td>...</td>\n",
       "      <td>...</td>\n",
       "    </tr>\n",
       "    <tr>\n",
       "      <th>115</th>\n",
       "      <td>1.6</td>\n",
       "      <td>0.2</td>\n",
       "    </tr>\n",
       "    <tr>\n",
       "      <th>116</th>\n",
       "      <td>1.3</td>\n",
       "      <td>0.2</td>\n",
       "    </tr>\n",
       "    <tr>\n",
       "      <th>117</th>\n",
       "      <td>5.6</td>\n",
       "      <td>1.4</td>\n",
       "    </tr>\n",
       "    <tr>\n",
       "      <th>118</th>\n",
       "      <td>1.6</td>\n",
       "      <td>0.2</td>\n",
       "    </tr>\n",
       "    <tr>\n",
       "      <th>119</th>\n",
       "      <td>1.5</td>\n",
       "      <td>0.4</td>\n",
       "    </tr>\n",
       "  </tbody>\n",
       "</table>\n",
       "<p>120 rows × 2 columns</p>\n",
       "</div>"
      ],
      "text/plain": [
       "     setosa  versicolor\n",
       "0       1.4         0.3\n",
       "1       1.2         0.2\n",
       "2       4.0         1.3\n",
       "3       5.6         2.2\n",
       "4       6.3         1.8\n",
       "..      ...         ...\n",
       "115     1.6         0.2\n",
       "116     1.3         0.2\n",
       "117     5.6         1.4\n",
       "118     1.6         0.2\n",
       "119     1.5         0.4\n",
       "\n",
       "[120 rows x 2 columns]"
      ]
     },
     "execution_count": 17,
     "metadata": {},
     "output_type": "execute_result"
    }
   ],
   "source": [
    "# Get the column names\n",
    "cols_2_4 = csv_data.columns[2:4]\n",
    "# Then get the dta columns\n",
    "csv_data[cols_2_4]"
   ]
  },
  {
   "cell_type": "code",
   "execution_count": 18,
   "metadata": {},
   "outputs": [
    {
     "data": {
      "text/html": [
       "<div>\n",
       "<style scoped>\n",
       "    .dataframe tbody tr th:only-of-type {\n",
       "        vertical-align: middle;\n",
       "    }\n",
       "\n",
       "    .dataframe tbody tr th {\n",
       "        vertical-align: top;\n",
       "    }\n",
       "\n",
       "    .dataframe thead th {\n",
       "        text-align: right;\n",
       "    }\n",
       "</style>\n",
       "<table border=\"1\" class=\"dataframe\">\n",
       "  <thead>\n",
       "    <tr style=\"text-align: right;\">\n",
       "      <th></th>\n",
       "      <th>120</th>\n",
       "      <th>4</th>\n",
       "      <th>setosa</th>\n",
       "      <th>versicolor</th>\n",
       "      <th>virginica</th>\n",
       "    </tr>\n",
       "  </thead>\n",
       "  <tbody>\n",
       "    <tr>\n",
       "      <th>5</th>\n",
       "      <td>5.0</td>\n",
       "      <td>3.0</td>\n",
       "      <td>1.6</td>\n",
       "      <td>0.2</td>\n",
       "      <td>0</td>\n",
       "    </tr>\n",
       "    <tr>\n",
       "      <th>6</th>\n",
       "      <td>6.5</td>\n",
       "      <td>3.0</td>\n",
       "      <td>5.5</td>\n",
       "      <td>1.8</td>\n",
       "      <td>2</td>\n",
       "    </tr>\n",
       "    <tr>\n",
       "      <th>7</th>\n",
       "      <td>6.9</td>\n",
       "      <td>3.1</td>\n",
       "      <td>5.1</td>\n",
       "      <td>2.3</td>\n",
       "      <td>2</td>\n",
       "    </tr>\n",
       "    <tr>\n",
       "      <th>8</th>\n",
       "      <td>5.8</td>\n",
       "      <td>2.7</td>\n",
       "      <td>5.1</td>\n",
       "      <td>1.9</td>\n",
       "      <td>2</td>\n",
       "    </tr>\n",
       "    <tr>\n",
       "      <th>9</th>\n",
       "      <td>5.4</td>\n",
       "      <td>3.9</td>\n",
       "      <td>1.3</td>\n",
       "      <td>0.4</td>\n",
       "      <td>0</td>\n",
       "    </tr>\n",
       "  </tbody>\n",
       "</table>\n",
       "</div>"
      ],
      "text/plain": [
       "   120    4  setosa  versicolor  virginica\n",
       "5  5.0  3.0     1.6         0.2          0\n",
       "6  6.5  3.0     5.5         1.8          2\n",
       "7  6.9  3.1     5.1         2.3          2\n",
       "8  5.8  2.7     5.1         1.9          2\n",
       "9  5.4  3.9     1.3         0.4          0"
      ]
     },
     "execution_count": 18,
     "metadata": {},
     "output_type": "execute_result"
    }
   ],
   "source": [
    "csv_data.iloc[5:10]"
   ]
  },
  {
   "cell_type": "code",
   "execution_count": 19,
   "metadata": {},
   "outputs": [
    {
     "data": {
      "text/html": [
       "<div>\n",
       "<style scoped>\n",
       "    .dataframe tbody tr th:only-of-type {\n",
       "        vertical-align: middle;\n",
       "    }\n",
       "\n",
       "    .dataframe tbody tr th {\n",
       "        vertical-align: top;\n",
       "    }\n",
       "\n",
       "    .dataframe thead th {\n",
       "        text-align: right;\n",
       "    }\n",
       "</style>\n",
       "<table border=\"1\" class=\"dataframe\">\n",
       "  <thead>\n",
       "    <tr style=\"text-align: right;\">\n",
       "      <th></th>\n",
       "      <th>setosa</th>\n",
       "      <th>versicolor</th>\n",
       "    </tr>\n",
       "  </thead>\n",
       "  <tbody>\n",
       "    <tr>\n",
       "      <th>5</th>\n",
       "      <td>1.6</td>\n",
       "      <td>0.2</td>\n",
       "    </tr>\n",
       "    <tr>\n",
       "      <th>6</th>\n",
       "      <td>5.5</td>\n",
       "      <td>1.8</td>\n",
       "    </tr>\n",
       "    <tr>\n",
       "      <th>7</th>\n",
       "      <td>5.1</td>\n",
       "      <td>2.3</td>\n",
       "    </tr>\n",
       "    <tr>\n",
       "      <th>8</th>\n",
       "      <td>5.1</td>\n",
       "      <td>1.9</td>\n",
       "    </tr>\n",
       "    <tr>\n",
       "      <th>9</th>\n",
       "      <td>1.3</td>\n",
       "      <td>0.4</td>\n",
       "    </tr>\n",
       "  </tbody>\n",
       "</table>\n",
       "</div>"
      ],
      "text/plain": [
       "   setosa  versicolor\n",
       "5     1.6         0.2\n",
       "6     5.5         1.8\n",
       "7     5.1         2.3\n",
       "8     5.1         1.9\n",
       "9     1.3         0.4"
      ]
     },
     "execution_count": 19,
     "metadata": {},
     "output_type": "execute_result"
    }
   ],
   "source": [
    "# First, choose the column names\n",
    "cols_2_4 = csv_data.columns[2:4]\n",
    "# Then we get the columns\n",
    "cols_2_4 = csv_data[cols_2_4]\n",
    "# Now select the rows from that DataFrame\n",
    "cols_2_4.iloc[5:10]"
   ]
  },
  {
   "cell_type": "code",
   "execution_count": 20,
   "metadata": {},
   "outputs": [
    {
     "data": {
      "text/html": [
       "<div>\n",
       "<style scoped>\n",
       "    .dataframe tbody tr th:only-of-type {\n",
       "        vertical-align: middle;\n",
       "    }\n",
       "\n",
       "    .dataframe tbody tr th {\n",
       "        vertical-align: top;\n",
       "    }\n",
       "\n",
       "    .dataframe thead th {\n",
       "        text-align: right;\n",
       "    }\n",
       "</style>\n",
       "<table border=\"1\" class=\"dataframe\">\n",
       "  <thead>\n",
       "    <tr style=\"text-align: right;\">\n",
       "      <th></th>\n",
       "      <th>setosa</th>\n",
       "      <th>versicolor</th>\n",
       "    </tr>\n",
       "  </thead>\n",
       "  <tbody>\n",
       "    <tr>\n",
       "      <th>5</th>\n",
       "      <td>1.6</td>\n",
       "      <td>0.2</td>\n",
       "    </tr>\n",
       "    <tr>\n",
       "      <th>6</th>\n",
       "      <td>5.5</td>\n",
       "      <td>1.8</td>\n",
       "    </tr>\n",
       "    <tr>\n",
       "      <th>7</th>\n",
       "      <td>5.1</td>\n",
       "      <td>2.3</td>\n",
       "    </tr>\n",
       "    <tr>\n",
       "      <th>8</th>\n",
       "      <td>5.1</td>\n",
       "      <td>1.9</td>\n",
       "    </tr>\n",
       "    <tr>\n",
       "      <th>9</th>\n",
       "      <td>1.3</td>\n",
       "      <td>0.4</td>\n",
       "    </tr>\n",
       "  </tbody>\n",
       "</table>\n",
       "</div>"
      ],
      "text/plain": [
       "   setosa  versicolor\n",
       "5     1.6         0.2\n",
       "6     5.5         1.8\n",
       "7     5.1         2.3\n",
       "8     5.1         1.9\n",
       "9     1.3         0.4"
      ]
     },
     "execution_count": 20,
     "metadata": {},
     "output_type": "execute_result"
    }
   ],
   "source": [
    "# Same as above, but condensed\n",
    "csv_data[csv_data.columns[2:4]].iloc[5:10]"
   ]
  },
  {
   "cell_type": "markdown",
   "metadata": {},
   "source": [
    "### PfDA, Ch.2"
   ]
  },
  {
   "cell_type": "code",
   "execution_count": 5,
   "metadata": {},
   "outputs": [
    {
     "name": "stdout",
     "output_type": "stream",
     "text": [
      "Hello, world!\n"
     ]
    }
   ],
   "source": [
    "print(\"Hello, world!\")"
   ]
  },
  {
   "cell_type": "code",
   "execution_count": 4,
   "metadata": {},
   "outputs": [
    {
     "name": "stdout",
     "output_type": "stream",
     "text": [
      "Hello world\n"
     ]
    }
   ],
   "source": [
    "run hello_world.py"
   ]
  },
  {
   "cell_type": "markdown",
   "metadata": {},
   "source": [
    "tab completion"
   ]
  },
  {
   "cell_type": "code",
   "execution_count": 6,
   "metadata": {},
   "outputs": [],
   "source": [
    "an_apple = 27"
   ]
  },
  {
   "cell_type": "code",
   "execution_count": 7,
   "metadata": {},
   "outputs": [],
   "source": [
    "an_example = 42"
   ]
  },
  {
   "cell_type": "code",
   "execution_count": 8,
   "metadata": {},
   "outputs": [
    {
     "data": {
      "text/plain": [
       "27"
      ]
     },
     "execution_count": 8,
     "metadata": {},
     "output_type": "execute_result"
    }
   ],
   "source": [
    "an_apple # an<Tab>"
   ]
  },
  {
   "cell_type": "code",
   "execution_count": 9,
   "metadata": {},
   "outputs": [],
   "source": [
    "b = [1, 2, 3]"
   ]
  },
  {
   "cell_type": "code",
   "execution_count": 10,
   "metadata": {},
   "outputs": [],
   "source": [
    "# b.<Tab> for available methods & attributes"
   ]
  },
  {
   "cell_type": "code",
   "execution_count": 11,
   "metadata": {},
   "outputs": [],
   "source": [
    "import datetime"
   ]
  },
  {
   "cell_type": "code",
   "execution_count": 12,
   "metadata": {},
   "outputs": [],
   "source": [
    "# datetime.<Tab> for available modules"
   ]
  },
  {
   "cell_type": "markdown",
   "metadata": {},
   "source": [
    "\\<Tab> completetion is also useful for filepaths"
   ]
  },
  {
   "cell_type": "markdown",
   "metadata": {},
   "source": [
    "and you can autocomplete your function keywords"
   ]
  },
  {
   "cell_type": "code",
   "execution_count": 14,
   "metadata": {},
   "outputs": [],
   "source": [
    "def func_with_keywords(abra=1, abbra=2, abbbra=3):\n",
    "    return abra, abbra, abbbra"
   ]
  },
  {
   "cell_type": "code",
   "execution_count": 17,
   "metadata": {},
   "outputs": [
    {
     "data": {
      "text/plain": [
       "<function __main__.func_with_keywords(abra=1, abbra=2, abbbra=3)>"
      ]
     },
     "execution_count": 17,
     "metadata": {},
     "output_type": "execute_result"
    }
   ],
   "source": [
    "func_with_keywords # ab<Tab> is supposed to work but doesn't??"
   ]
  },
  {
   "cell_type": "markdown",
   "metadata": {},
   "source": [
    "Use a ? before or after a variable to get more info about it"
   ]
  },
  {
   "cell_type": "code",
   "execution_count": 19,
   "metadata": {},
   "outputs": [],
   "source": [
    "b?"
   ]
  },
  {
   "cell_type": "code",
   "execution_count": 20,
   "metadata": {},
   "outputs": [],
   "source": [
    "print?"
   ]
  },
  {
   "cell_type": "code",
   "execution_count": 21,
   "metadata": {},
   "outputs": [],
   "source": [
    "def add_nums(a, b):\n",
    "    \"\"\"\n",
    "    Add two numbers together\n",
    "    \n",
    "    Returns\n",
    "    -------\n",
    "    the_sum : type of arguments\n",
    "    \"\"\"\n",
    "    return a + b"
   ]
  },
  {
   "cell_type": "code",
   "execution_count": 23,
   "metadata": {},
   "outputs": [],
   "source": [
    "add_nums?"
   ]
  },
  {
   "cell_type": "code",
   "execution_count": 25,
   "metadata": {},
   "outputs": [],
   "source": [
    "# Signature: add_nums(a, b)\n",
    "# Docstring:\n",
    "# Add two numbers together\n",
    "\n",
    "# Returns\n",
    "# -------\n",
    "# the_sum : type of arguments\n",
    "# File:      c:\\users\\micha\\onedrive\\documents\\github\\dsc540\\weeks1-2\\<ipython-input-21-fa2149aa2def>\n",
    "# Type:      function"
   ]
  },
  {
   "cell_type": "markdown",
   "metadata": {},
   "source": [
    "?? will show source code, if possible:"
   ]
  },
  {
   "cell_type": "code",
   "execution_count": 26,
   "metadata": {},
   "outputs": [],
   "source": [
    "add_nums??"
   ]
  },
  {
   "cell_type": "code",
   "execution_count": 27,
   "metadata": {},
   "outputs": [],
   "source": [
    "# Signature: add_nums(a, b)\n",
    "# Source:   \n",
    "# def add_nums(a, b):\n",
    "#     \"\"\"\n",
    "#     Add two numbers together\n",
    "    \n",
    "#     Returns\n",
    "#     -------\n",
    "#     the_sum : type of arguments\n",
    "#     \"\"\"\n",
    "#     return a + b\n",
    "# File:      c:\\users\\micha\\onedrive\\documents\\github\\dsc540\\weeks1-2\\<ipython-input-21-fa2149aa2def>\n",
    "# Type:      function"
   ]
  },
  {
   "cell_type": "markdown",
   "metadata": {},
   "source": [
    "Use * wildcard to search namespace:\n",
    "\n",
    "np.\\*load*?"
   ]
  },
  {
   "cell_type": "markdown",
   "metadata": {},
   "source": [
    "The %run command"
   ]
  },
  {
   "cell_type": "code",
   "execution_count": 30,
   "metadata": {},
   "outputs": [
    {
     "name": "stdout",
     "output_type": "stream",
     "text": [
      "Hello world\n"
     ]
    }
   ],
   "source": [
    "%run hello_world.py"
   ]
  },
  {
   "cell_type": "code",
   "execution_count": null,
   "metadata": {},
   "outputs": [],
   "source": [
    "# %load hello_world.py\n",
    "print('Hello world')"
   ]
  },
  {
   "cell_type": "markdown",
   "metadata": {},
   "source": [
    "You can run code from the clipboard using:\n",
    "\n",
    "%paste"
   ]
  },
  {
   "cell_type": "code",
   "execution_count": 34,
   "metadata": {},
   "outputs": [
    {
     "name": "stderr",
     "output_type": "stream",
     "text": [
      "UsageError: Line magic function `%cpaste` not found.\n"
     ]
    }
   ],
   "source": [
    "%paste # okay, I guess you can't."
   ]
  },
  {
   "cell_type": "code",
   "execution_count": 35,
   "metadata": {},
   "outputs": [],
   "source": [
    "%matplotlib inline"
   ]
  },
  {
   "cell_type": "code",
   "execution_count": 39,
   "metadata": {
    "scrolled": true
   },
   "outputs": [
    {
     "ename": "TypeError",
     "evalue": "float() argument must be a string or a number, not 'builtin_function_or_method'",
     "output_type": "error",
     "traceback": [
      "\u001b[1;31m---------------------------------------------------------------------------\u001b[0m",
      "\u001b[1;31mTypeError\u001b[0m                                 Traceback (most recent call last)",
      "\u001b[1;32m<ipython-input-39-bbec76c7c0f3>\u001b[0m in \u001b[0;36m<module>\u001b[1;34m\u001b[0m\n\u001b[0;32m      1\u001b[0m \u001b[1;32mimport\u001b[0m \u001b[0mnumpy\u001b[0m \u001b[1;32mas\u001b[0m \u001b[0mnp\u001b[0m\u001b[1;33m\u001b[0m\u001b[1;33m\u001b[0m\u001b[0m\n\u001b[0;32m      2\u001b[0m \u001b[1;32mimport\u001b[0m \u001b[0mmatplotlib\u001b[0m\u001b[1;33m.\u001b[0m\u001b[0mpyplot\u001b[0m \u001b[1;32mas\u001b[0m \u001b[0mplt\u001b[0m\u001b[1;33m\u001b[0m\u001b[1;33m\u001b[0m\u001b[0m\n\u001b[1;32m----> 3\u001b[1;33m \u001b[0mplt\u001b[0m\u001b[1;33m.\u001b[0m\u001b[0mplot\u001b[0m\u001b[1;33m(\u001b[0m\u001b[0mnp\u001b[0m\u001b[1;33m.\u001b[0m\u001b[0mrandom\u001b[0m\u001b[1;33m.\u001b[0m\u001b[0mrandn\u001b[0m\u001b[1;33m(\u001b[0m\u001b[1;36m50\u001b[0m\u001b[1;33m)\u001b[0m\u001b[1;33m.\u001b[0m\u001b[0mcumsum\u001b[0m  \u001b[1;33m)\u001b[0m\u001b[1;33m\u001b[0m\u001b[1;33m\u001b[0m\u001b[0m\n\u001b[0m\u001b[0;32m      4\u001b[0m \u001b[1;31m# TypeError: float() argument must be a string or a number, not 'builtin_function_or_method'\u001b[0m\u001b[1;33m\u001b[0m\u001b[1;33m\u001b[0m\u001b[1;33m\u001b[0m\u001b[0m\n",
      "\u001b[1;32mC:\\ProgramData\\Anaconda3\\lib\\site-packages\\matplotlib\\pyplot.py\u001b[0m in \u001b[0;36mplot\u001b[1;34m(scalex, scaley, data, *args, **kwargs)\u001b[0m\n\u001b[0;32m   2838\u001b[0m \u001b[1;33m@\u001b[0m\u001b[0m_copy_docstring_and_deprecators\u001b[0m\u001b[1;33m(\u001b[0m\u001b[0mAxes\u001b[0m\u001b[1;33m.\u001b[0m\u001b[0mplot\u001b[0m\u001b[1;33m)\u001b[0m\u001b[1;33m\u001b[0m\u001b[1;33m\u001b[0m\u001b[0m\n\u001b[0;32m   2839\u001b[0m \u001b[1;32mdef\u001b[0m \u001b[0mplot\u001b[0m\u001b[1;33m(\u001b[0m\u001b[1;33m*\u001b[0m\u001b[0margs\u001b[0m\u001b[1;33m,\u001b[0m \u001b[0mscalex\u001b[0m\u001b[1;33m=\u001b[0m\u001b[1;32mTrue\u001b[0m\u001b[1;33m,\u001b[0m \u001b[0mscaley\u001b[0m\u001b[1;33m=\u001b[0m\u001b[1;32mTrue\u001b[0m\u001b[1;33m,\u001b[0m \u001b[0mdata\u001b[0m\u001b[1;33m=\u001b[0m\u001b[1;32mNone\u001b[0m\u001b[1;33m,\u001b[0m \u001b[1;33m**\u001b[0m\u001b[0mkwargs\u001b[0m\u001b[1;33m)\u001b[0m\u001b[1;33m:\u001b[0m\u001b[1;33m\u001b[0m\u001b[1;33m\u001b[0m\u001b[0m\n\u001b[1;32m-> 2840\u001b[1;33m     return gca().plot(\n\u001b[0m\u001b[0;32m   2841\u001b[0m         \u001b[1;33m*\u001b[0m\u001b[0margs\u001b[0m\u001b[1;33m,\u001b[0m \u001b[0mscalex\u001b[0m\u001b[1;33m=\u001b[0m\u001b[0mscalex\u001b[0m\u001b[1;33m,\u001b[0m \u001b[0mscaley\u001b[0m\u001b[1;33m=\u001b[0m\u001b[0mscaley\u001b[0m\u001b[1;33m,\u001b[0m\u001b[1;33m\u001b[0m\u001b[1;33m\u001b[0m\u001b[0m\n\u001b[0;32m   2842\u001b[0m         **({\"data\": data} if data is not None else {}), **kwargs)\n",
      "\u001b[1;32mC:\\ProgramData\\Anaconda3\\lib\\site-packages\\matplotlib\\axes\\_axes.py\u001b[0m in \u001b[0;36mplot\u001b[1;34m(self, scalex, scaley, data, *args, **kwargs)\u001b[0m\n\u001b[0;32m   1743\u001b[0m         \u001b[0mlines\u001b[0m \u001b[1;33m=\u001b[0m \u001b[1;33m[\u001b[0m\u001b[1;33m*\u001b[0m\u001b[0mself\u001b[0m\u001b[1;33m.\u001b[0m\u001b[0m_get_lines\u001b[0m\u001b[1;33m(\u001b[0m\u001b[1;33m*\u001b[0m\u001b[0margs\u001b[0m\u001b[1;33m,\u001b[0m \u001b[0mdata\u001b[0m\u001b[1;33m=\u001b[0m\u001b[0mdata\u001b[0m\u001b[1;33m,\u001b[0m \u001b[1;33m**\u001b[0m\u001b[0mkwargs\u001b[0m\u001b[1;33m)\u001b[0m\u001b[1;33m]\u001b[0m\u001b[1;33m\u001b[0m\u001b[1;33m\u001b[0m\u001b[0m\n\u001b[0;32m   1744\u001b[0m         \u001b[1;32mfor\u001b[0m \u001b[0mline\u001b[0m \u001b[1;32min\u001b[0m \u001b[0mlines\u001b[0m\u001b[1;33m:\u001b[0m\u001b[1;33m\u001b[0m\u001b[1;33m\u001b[0m\u001b[0m\n\u001b[1;32m-> 1745\u001b[1;33m             \u001b[0mself\u001b[0m\u001b[1;33m.\u001b[0m\u001b[0madd_line\u001b[0m\u001b[1;33m(\u001b[0m\u001b[0mline\u001b[0m\u001b[1;33m)\u001b[0m\u001b[1;33m\u001b[0m\u001b[1;33m\u001b[0m\u001b[0m\n\u001b[0m\u001b[0;32m   1746\u001b[0m         \u001b[0mself\u001b[0m\u001b[1;33m.\u001b[0m\u001b[0m_request_autoscale_view\u001b[0m\u001b[1;33m(\u001b[0m\u001b[0mscalex\u001b[0m\u001b[1;33m=\u001b[0m\u001b[0mscalex\u001b[0m\u001b[1;33m,\u001b[0m \u001b[0mscaley\u001b[0m\u001b[1;33m=\u001b[0m\u001b[0mscaley\u001b[0m\u001b[1;33m)\u001b[0m\u001b[1;33m\u001b[0m\u001b[1;33m\u001b[0m\u001b[0m\n\u001b[0;32m   1747\u001b[0m         \u001b[1;32mreturn\u001b[0m \u001b[0mlines\u001b[0m\u001b[1;33m\u001b[0m\u001b[1;33m\u001b[0m\u001b[0m\n",
      "\u001b[1;32mC:\\ProgramData\\Anaconda3\\lib\\site-packages\\matplotlib\\axes\\_base.py\u001b[0m in \u001b[0;36madd_line\u001b[1;34m(self, line)\u001b[0m\n\u001b[0;32m   1962\u001b[0m             \u001b[0mline\u001b[0m\u001b[1;33m.\u001b[0m\u001b[0mset_clip_path\u001b[0m\u001b[1;33m(\u001b[0m\u001b[0mself\u001b[0m\u001b[1;33m.\u001b[0m\u001b[0mpatch\u001b[0m\u001b[1;33m)\u001b[0m\u001b[1;33m\u001b[0m\u001b[1;33m\u001b[0m\u001b[0m\n\u001b[0;32m   1963\u001b[0m \u001b[1;33m\u001b[0m\u001b[0m\n\u001b[1;32m-> 1964\u001b[1;33m         \u001b[0mself\u001b[0m\u001b[1;33m.\u001b[0m\u001b[0m_update_line_limits\u001b[0m\u001b[1;33m(\u001b[0m\u001b[0mline\u001b[0m\u001b[1;33m)\u001b[0m\u001b[1;33m\u001b[0m\u001b[1;33m\u001b[0m\u001b[0m\n\u001b[0m\u001b[0;32m   1965\u001b[0m         \u001b[1;32mif\u001b[0m \u001b[1;32mnot\u001b[0m \u001b[0mline\u001b[0m\u001b[1;33m.\u001b[0m\u001b[0mget_label\u001b[0m\u001b[1;33m(\u001b[0m\u001b[1;33m)\u001b[0m\u001b[1;33m:\u001b[0m\u001b[1;33m\u001b[0m\u001b[1;33m\u001b[0m\u001b[0m\n\u001b[0;32m   1966\u001b[0m             \u001b[0mline\u001b[0m\u001b[1;33m.\u001b[0m\u001b[0mset_label\u001b[0m\u001b[1;33m(\u001b[0m\u001b[1;34m'_line%d'\u001b[0m \u001b[1;33m%\u001b[0m \u001b[0mlen\u001b[0m\u001b[1;33m(\u001b[0m\u001b[0mself\u001b[0m\u001b[1;33m.\u001b[0m\u001b[0mlines\u001b[0m\u001b[1;33m)\u001b[0m\u001b[1;33m)\u001b[0m\u001b[1;33m\u001b[0m\u001b[1;33m\u001b[0m\u001b[0m\n",
      "\u001b[1;32mC:\\ProgramData\\Anaconda3\\lib\\site-packages\\matplotlib\\axes\\_base.py\u001b[0m in \u001b[0;36m_update_line_limits\u001b[1;34m(self, line)\u001b[0m\n\u001b[0;32m   1984\u001b[0m         \u001b[0mFigures\u001b[0m \u001b[0mout\u001b[0m \u001b[0mthe\u001b[0m \u001b[0mdata\u001b[0m \u001b[0mlimit\u001b[0m \u001b[0mof\u001b[0m \u001b[0mthe\u001b[0m \u001b[0mgiven\u001b[0m \u001b[0mline\u001b[0m\u001b[1;33m,\u001b[0m \u001b[0mupdating\u001b[0m \u001b[0mself\u001b[0m\u001b[1;33m.\u001b[0m\u001b[0mdataLim\u001b[0m\u001b[1;33m.\u001b[0m\u001b[1;33m\u001b[0m\u001b[1;33m\u001b[0m\u001b[0m\n\u001b[0;32m   1985\u001b[0m         \"\"\"\n\u001b[1;32m-> 1986\u001b[1;33m         \u001b[0mpath\u001b[0m \u001b[1;33m=\u001b[0m \u001b[0mline\u001b[0m\u001b[1;33m.\u001b[0m\u001b[0mget_path\u001b[0m\u001b[1;33m(\u001b[0m\u001b[1;33m)\u001b[0m\u001b[1;33m\u001b[0m\u001b[1;33m\u001b[0m\u001b[0m\n\u001b[0m\u001b[0;32m   1987\u001b[0m         \u001b[1;32mif\u001b[0m \u001b[0mpath\u001b[0m\u001b[1;33m.\u001b[0m\u001b[0mvertices\u001b[0m\u001b[1;33m.\u001b[0m\u001b[0msize\u001b[0m \u001b[1;33m==\u001b[0m \u001b[1;36m0\u001b[0m\u001b[1;33m:\u001b[0m\u001b[1;33m\u001b[0m\u001b[1;33m\u001b[0m\u001b[0m\n\u001b[0;32m   1988\u001b[0m             \u001b[1;32mreturn\u001b[0m\u001b[1;33m\u001b[0m\u001b[1;33m\u001b[0m\u001b[0m\n",
      "\u001b[1;32mC:\\ProgramData\\Anaconda3\\lib\\site-packages\\matplotlib\\lines.py\u001b[0m in \u001b[0;36mget_path\u001b[1;34m(self)\u001b[0m\n\u001b[0;32m   1009\u001b[0m         \"\"\"\n\u001b[0;32m   1010\u001b[0m         \u001b[1;32mif\u001b[0m \u001b[0mself\u001b[0m\u001b[1;33m.\u001b[0m\u001b[0m_invalidy\u001b[0m \u001b[1;32mor\u001b[0m \u001b[0mself\u001b[0m\u001b[1;33m.\u001b[0m\u001b[0m_invalidx\u001b[0m\u001b[1;33m:\u001b[0m\u001b[1;33m\u001b[0m\u001b[1;33m\u001b[0m\u001b[0m\n\u001b[1;32m-> 1011\u001b[1;33m             \u001b[0mself\u001b[0m\u001b[1;33m.\u001b[0m\u001b[0mrecache\u001b[0m\u001b[1;33m(\u001b[0m\u001b[1;33m)\u001b[0m\u001b[1;33m\u001b[0m\u001b[1;33m\u001b[0m\u001b[0m\n\u001b[0m\u001b[0;32m   1012\u001b[0m         \u001b[1;32mreturn\u001b[0m \u001b[0mself\u001b[0m\u001b[1;33m.\u001b[0m\u001b[0m_path\u001b[0m\u001b[1;33m\u001b[0m\u001b[1;33m\u001b[0m\u001b[0m\n\u001b[0;32m   1013\u001b[0m \u001b[1;33m\u001b[0m\u001b[0m\n",
      "\u001b[1;32mC:\\ProgramData\\Anaconda3\\lib\\site-packages\\matplotlib\\lines.py\u001b[0m in \u001b[0;36mrecache\u001b[1;34m(self, always)\u001b[0m\n\u001b[0;32m    656\u001b[0m         \u001b[1;32mif\u001b[0m \u001b[0malways\u001b[0m \u001b[1;32mor\u001b[0m \u001b[0mself\u001b[0m\u001b[1;33m.\u001b[0m\u001b[0m_invalidy\u001b[0m\u001b[1;33m:\u001b[0m\u001b[1;33m\u001b[0m\u001b[1;33m\u001b[0m\u001b[0m\n\u001b[0;32m    657\u001b[0m             \u001b[0myconv\u001b[0m \u001b[1;33m=\u001b[0m \u001b[0mself\u001b[0m\u001b[1;33m.\u001b[0m\u001b[0mconvert_yunits\u001b[0m\u001b[1;33m(\u001b[0m\u001b[0mself\u001b[0m\u001b[1;33m.\u001b[0m\u001b[0m_yorig\u001b[0m\u001b[1;33m)\u001b[0m\u001b[1;33m\u001b[0m\u001b[1;33m\u001b[0m\u001b[0m\n\u001b[1;32m--> 658\u001b[1;33m             \u001b[0my\u001b[0m \u001b[1;33m=\u001b[0m \u001b[0m_to_unmasked_float_array\u001b[0m\u001b[1;33m(\u001b[0m\u001b[0myconv\u001b[0m\u001b[1;33m)\u001b[0m\u001b[1;33m.\u001b[0m\u001b[0mravel\u001b[0m\u001b[1;33m(\u001b[0m\u001b[1;33m)\u001b[0m\u001b[1;33m\u001b[0m\u001b[1;33m\u001b[0m\u001b[0m\n\u001b[0m\u001b[0;32m    659\u001b[0m         \u001b[1;32melse\u001b[0m\u001b[1;33m:\u001b[0m\u001b[1;33m\u001b[0m\u001b[1;33m\u001b[0m\u001b[0m\n\u001b[0;32m    660\u001b[0m             \u001b[0my\u001b[0m \u001b[1;33m=\u001b[0m \u001b[0mself\u001b[0m\u001b[1;33m.\u001b[0m\u001b[0m_y\u001b[0m\u001b[1;33m\u001b[0m\u001b[1;33m\u001b[0m\u001b[0m\n",
      "\u001b[1;32mC:\\ProgramData\\Anaconda3\\lib\\site-packages\\matplotlib\\cbook\\__init__.py\u001b[0m in \u001b[0;36m_to_unmasked_float_array\u001b[1;34m(x)\u001b[0m\n\u001b[0;32m   1287\u001b[0m         \u001b[1;32mreturn\u001b[0m \u001b[0mnp\u001b[0m\u001b[1;33m.\u001b[0m\u001b[0mma\u001b[0m\u001b[1;33m.\u001b[0m\u001b[0masarray\u001b[0m\u001b[1;33m(\u001b[0m\u001b[0mx\u001b[0m\u001b[1;33m,\u001b[0m \u001b[0mfloat\u001b[0m\u001b[1;33m)\u001b[0m\u001b[1;33m.\u001b[0m\u001b[0mfilled\u001b[0m\u001b[1;33m(\u001b[0m\u001b[0mnp\u001b[0m\u001b[1;33m.\u001b[0m\u001b[0mnan\u001b[0m\u001b[1;33m)\u001b[0m\u001b[1;33m\u001b[0m\u001b[1;33m\u001b[0m\u001b[0m\n\u001b[0;32m   1288\u001b[0m     \u001b[1;32melse\u001b[0m\u001b[1;33m:\u001b[0m\u001b[1;33m\u001b[0m\u001b[1;33m\u001b[0m\u001b[0m\n\u001b[1;32m-> 1289\u001b[1;33m         \u001b[1;32mreturn\u001b[0m \u001b[0mnp\u001b[0m\u001b[1;33m.\u001b[0m\u001b[0masarray\u001b[0m\u001b[1;33m(\u001b[0m\u001b[0mx\u001b[0m\u001b[1;33m,\u001b[0m \u001b[0mfloat\u001b[0m\u001b[1;33m)\u001b[0m\u001b[1;33m\u001b[0m\u001b[1;33m\u001b[0m\u001b[0m\n\u001b[0m\u001b[0;32m   1290\u001b[0m \u001b[1;33m\u001b[0m\u001b[0m\n\u001b[0;32m   1291\u001b[0m \u001b[1;33m\u001b[0m\u001b[0m\n",
      "\u001b[1;32mC:\\ProgramData\\Anaconda3\\lib\\site-packages\\numpy\\core\\_asarray.py\u001b[0m in \u001b[0;36masarray\u001b[1;34m(a, dtype, order)\u001b[0m\n\u001b[0;32m     81\u001b[0m \u001b[1;33m\u001b[0m\u001b[0m\n\u001b[0;32m     82\u001b[0m     \"\"\"\n\u001b[1;32m---> 83\u001b[1;33m     \u001b[1;32mreturn\u001b[0m \u001b[0marray\u001b[0m\u001b[1;33m(\u001b[0m\u001b[0ma\u001b[0m\u001b[1;33m,\u001b[0m \u001b[0mdtype\u001b[0m\u001b[1;33m,\u001b[0m \u001b[0mcopy\u001b[0m\u001b[1;33m=\u001b[0m\u001b[1;32mFalse\u001b[0m\u001b[1;33m,\u001b[0m \u001b[0morder\u001b[0m\u001b[1;33m=\u001b[0m\u001b[0morder\u001b[0m\u001b[1;33m)\u001b[0m\u001b[1;33m\u001b[0m\u001b[1;33m\u001b[0m\u001b[0m\n\u001b[0m\u001b[0;32m     84\u001b[0m \u001b[1;33m\u001b[0m\u001b[0m\n\u001b[0;32m     85\u001b[0m \u001b[1;33m\u001b[0m\u001b[0m\n",
      "\u001b[1;31mTypeError\u001b[0m: float() argument must be a string or a number, not 'builtin_function_or_method'"
     ]
    },
    {
     "data": {
      "image/png": "[encoded data removed]",
      "text/plain": [
       "<Figure size 432x288 with 1 Axes>"
      ]
     },
     "metadata": {
      "needs_background": "light"
     },
     "output_type": "display_data"
    }
   ],
   "source": [
    "import numpy as np\n",
    "import matplotlib.pyplot as plt\n",
    "plt.plot(np.random.randn(50).cumsum  )\n",
    "# TypeError: float() argument must be a string or a number, not 'builtin_function_or_method'"
   ]
  },
  {
   "cell_type": "code",
   "execution_count": 40,
   "metadata": {},
   "outputs": [],
   "source": [
    "def append_element(some_list, element):\n",
    "    some_list.append(element)"
   ]
  },
  {
   "cell_type": "code",
   "execution_count": 41,
   "metadata": {},
   "outputs": [
    {
     "data": {
      "text/plain": [
       "[1, 2, 3, 4]"
      ]
     },
     "execution_count": 41,
     "metadata": {},
     "output_type": "execute_result"
    }
   ],
   "source": [
    "data = [1, 2, 3]\n",
    "append_element(data, 4)\n",
    "data"
   ]
  },
  {
   "cell_type": "markdown",
   "metadata": {},
   "source": [
    "Duck typing"
   ]
  },
  {
   "cell_type": "code",
   "execution_count": 42,
   "metadata": {},
   "outputs": [],
   "source": [
    "def isiterable(obj):\n",
    "    try:\n",
    "        iter(obj)\n",
    "        return True\n",
    "    except TypeError: # not iterable\n",
    "        return False"
   ]
  },
  {
   "cell_type": "code",
   "execution_count": 43,
   "metadata": {},
   "outputs": [
    {
     "data": {
      "text/plain": [
       "True"
      ]
     },
     "execution_count": 43,
     "metadata": {},
     "output_type": "execute_result"
    }
   ],
   "source": [
    "isiterable('a string')"
   ]
  },
  {
   "cell_type": "code",
   "execution_count": 44,
   "metadata": {},
   "outputs": [
    {
     "data": {
      "text/plain": [
       "True"
      ]
     },
     "execution_count": 44,
     "metadata": {},
     "output_type": "execute_result"
    }
   ],
   "source": [
    "isiterable([1, 2, 3])"
   ]
  },
  {
   "cell_type": "code",
   "execution_count": 45,
   "metadata": {},
   "outputs": [
    {
     "data": {
      "text/plain": [
       "False"
      ]
     },
     "execution_count": 45,
     "metadata": {},
     "output_type": "execute_result"
    }
   ],
   "source": [
    "isiterable(5)"
   ]
  },
  {
   "cell_type": "markdown",
   "metadata": {},
   "source": [
    "Use when writing functions that can accept multiple kinds of input. \n",
    "\n",
    "Commonly, when writing a function that can accept any kind of sequence (list, tuple, ndarray). You can first check if object is a list (or NumPy array) and, if not, convert it to one:"
   ]
  },
  {
   "cell_type": "code",
   "execution_count": 51,
   "metadata": {},
   "outputs": [],
   "source": [
    "x = 5"
   ]
  },
  {
   "cell_type": "code",
   "execution_count": 52,
   "metadata": {},
   "outputs": [],
   "source": [
    "if not isinstance(x, list) and isiterable(x):\n",
    "    x = list(x)"
   ]
  },
  {
   "cell_type": "markdown",
   "metadata": {},
   "source": [
    "Scalar Types"
   ]
  },
  {
   "cell_type": "code",
   "execution_count": 54,
   "metadata": {},
   "outputs": [],
   "source": [
    "s = r'this\\has\\no\\special\\characters'"
   ]
  },
  {
   "cell_type": "code",
   "execution_count": 55,
   "metadata": {},
   "outputs": [
    {
     "data": {
      "text/plain": [
       "'this\\\\has\\\\no\\\\special\\\\characters'"
      ]
     },
     "execution_count": 55,
     "metadata": {},
     "output_type": "execute_result"
    }
   ],
   "source": [
    "s"
   ]
  },
  {
   "cell_type": "markdown",
   "metadata": {},
   "source": [
    "The _r_ stands for raw"
   ]
  },
  {
   "cell_type": "markdown",
   "metadata": {},
   "source": [
    "range"
   ]
  },
  {
   "cell_type": "code",
   "execution_count": null,
   "metadata": {},
   "outputs": [],
   "source": [
    "# range(<start>, <end>, <step>)"
   ]
  },
  {
   "cell_type": "code",
   "execution_count": 56,
   "metadata": {},
   "outputs": [
    {
     "data": {
      "text/plain": [
       "[0, 2, 4, 6, 8, 10, 12, 14, 16, 18]"
      ]
     },
     "execution_count": 56,
     "metadata": {},
     "output_type": "execute_result"
    }
   ],
   "source": [
    "list(range(0, 20, 2))"
   ]
  },
  {
   "cell_type": "code",
   "execution_count": 57,
   "metadata": {},
   "outputs": [
    {
     "data": {
      "text/plain": [
       "[5, 4, 3, 2, 1]"
      ]
     },
     "execution_count": 57,
     "metadata": {},
     "output_type": "execute_result"
    }
   ],
   "source": [
    "list(range(5, 0, -1))"
   ]
  },
  {
   "cell_type": "code",
   "execution_count": 62,
   "metadata": {},
   "outputs": [
    {
     "name": "stdout",
     "output_type": "stream",
     "text": [
      "1\n",
      "2\n",
      "3\n",
      "4\n"
     ]
    }
   ],
   "source": [
    "seq = [1, 2, 3, 4]\n",
    "for i in range(len(seq)):\n",
    "    val = seq[i]\n",
    "    print(val)"
   ]
  },
  {
   "cell_type": "code",
   "execution_count": 65,
   "metadata": {},
   "outputs": [
    {
     "data": {
      "text/plain": [
       "2333316668"
      ]
     },
     "execution_count": 65,
     "metadata": {},
     "output_type": "execute_result"
    }
   ],
   "source": [
    "sum = 0\n",
    "# sum the numbesr 0 to 99,999 that are multiples of 3 or 5:\n",
    "for i in range(100000):\n",
    "    if i % 3 == 0 or i % 5 == 0:\n",
    "        sum += i\n",
    "sum"
   ]
  },
  {
   "cell_type": "markdown",
   "metadata": {},
   "source": [
    "Ternary expressions"
   ]
  },
  {
   "cell_type": "code",
   "execution_count": 66,
   "metadata": {},
   "outputs": [],
   "source": [
    "x = 5"
   ]
  },
  {
   "cell_type": "code",
   "execution_count": 68,
   "metadata": {},
   "outputs": [
    {
     "data": {
      "text/plain": [
       "'Non-negative'"
      ]
     },
     "execution_count": 68,
     "metadata": {},
     "output_type": "execute_result"
    }
   ],
   "source": [
    "'Non-negative' if x >= 0 else 'Negative'\n",
    "# Note: condenses code, but may sacrifice readability"
   ]
  },
  {
   "cell_type": "markdown",
   "metadata": {},
   "source": [
    "### PfDA, Ch. 3: Built-in Data Structures, Functions, and Files"
   ]
  },
  {
   "cell_type": "markdown",
   "metadata": {},
   "source": [
    "See Ch03 from book"
   ]
  },
  {
   "cell_type": "markdown",
   "metadata": {},
   "source": [
    "### DWwP, Ch 2: Advanced Data Structures and File Handling"
   ]
  },
  {
   "cell_type": "markdown",
   "metadata": {},
   "source": [
    "#### Iterator"
   ]
  },
  {
   "cell_type": "code",
   "execution_count": 1,
   "metadata": {},
   "outputs": [
    {
     "data": {
      "text/plain": [
       "81528048"
      ]
     },
     "execution_count": 1,
     "metadata": {},
     "output_type": "execute_result"
    }
   ],
   "source": [
    "big_list_of_numbers = [1 for x in range(0, 10000000)]\n",
    "from sys import getsizeof\n",
    "getsizeof(big_list_of_numbers)  # In bytes"
   ]
  },
  {
   "cell_type": "markdown",
   "metadata": {},
   "source": [
    "81 Mb is pretty big; this uses a lot of memory and the variable is not available until the list comprehension is done.\n",
    "\n",
    "Better to use an iterator that only generates the numbers as they are asked for. This will reduce memory utiliztion."
   ]
  },
  {
   "cell_type": "code",
   "execution_count": 2,
   "metadata": {},
   "outputs": [
    {
     "data": {
      "text/plain": [
       "48"
      ]
     },
     "execution_count": 2,
     "metadata": {},
     "output_type": "execute_result"
    }
   ],
   "source": [
    "from itertools import repeat\n",
    "small_list_of_numbers = repeat(1, times=10000000)\n",
    "getsizeof(small_list_of_numbers)"
   ]
  },
  {
   "cell_type": "markdown",
   "metadata": {},
   "source": [
    "Can then loop over the newly generated iterator, as needed."
   ]
  },
  {
   "cell_type": "code",
   "execution_count": 17,
   "metadata": {},
   "outputs": [
    {
     "name": "stdout",
     "output_type": "stream",
     "text": [
      "1 0\n",
      "1 1\n",
      "1 2\n",
      "1 3\n",
      "1 4\n",
      "1 5\n",
      "1 6\n",
      "1 7\n",
      "1 8\n",
      "1 9\n",
      "1 10\n",
      "1 11\n"
     ]
    }
   ],
   "source": [
    "for i, x in enumerate(small_list_of_numbers):\n",
    "    print(x, i)\n",
    "    if i > 10:\n",
    "        break"
   ]
  },
  {
   "cell_type": "code",
   "execution_count": 15,
   "metadata": {},
   "outputs": [
    {
     "data": {
      "text/plain": [
       "repeat(1, 9999976)"
      ]
     },
     "execution_count": 15,
     "metadata": {},
     "output_type": "execute_result"
    }
   ],
   "source": [
    "small_list_of_numbers"
   ]
  },
  {
   "cell_type": "code",
   "execution_count": 5,
   "metadata": {},
   "outputs": [],
   "source": [
    "from itertools import (permutations, combinations, dropwhile, repeat, zip_longest)"
   ]
  },
  {
   "cell_type": "code",
   "execution_count": 6,
   "metadata": {},
   "outputs": [
    {
     "data": {
      "text/plain": [
       "\u001b[1;31mInit signature:\u001b[0m \u001b[0mpermutations\u001b[0m\u001b[1;33m(\u001b[0m\u001b[0miterable\u001b[0m\u001b[1;33m,\u001b[0m \u001b[0mr\u001b[0m\u001b[1;33m=\u001b[0m\u001b[1;32mNone\u001b[0m\u001b[1;33m)\u001b[0m\u001b[1;33m\u001b[0m\u001b[1;33m\u001b[0m\u001b[0m\n",
       "\u001b[1;31mDocstring:\u001b[0m     \n",
       "Return successive r-length permutations of elements in the iterable.\n",
       "\n",
       "permutations(range(3), 2) --> (0,1), (0,2), (1,0), (1,2), (2,0), (2,1)\n",
       "\u001b[1;31mType:\u001b[0m           type\n",
       "\u001b[1;31mSubclasses:\u001b[0m     \n"
      ]
     },
     "metadata": {},
     "output_type": "display_data"
    }
   ],
   "source": [
    "permutations?"
   ]
  },
  {
   "cell_type": "code",
   "execution_count": 7,
   "metadata": {},
   "outputs": [
    {
     "data": {
      "text/plain": [
       "\u001b[1;31mInit signature:\u001b[0m \u001b[0mcombinations\u001b[0m\u001b[1;33m(\u001b[0m\u001b[0miterable\u001b[0m\u001b[1;33m,\u001b[0m \u001b[0mr\u001b[0m\u001b[1;33m)\u001b[0m\u001b[1;33m\u001b[0m\u001b[1;33m\u001b[0m\u001b[0m\n",
       "\u001b[1;31mDocstring:\u001b[0m     \n",
       "Return successive r-length combinations of elements in the iterable.\n",
       "\n",
       "combinations(range(4), 3) --> (0,1,2), (0,1,3), (0,2,3), (1,2,3)\n",
       "\u001b[1;31mType:\u001b[0m           type\n",
       "\u001b[1;31mSubclasses:\u001b[0m     \n"
      ]
     },
     "metadata": {},
     "output_type": "display_data"
    }
   ],
   "source": [
    "combinations?"
   ]
  },
  {
   "cell_type": "code",
   "execution_count": 8,
   "metadata": {},
   "outputs": [
    {
     "data": {
      "text/plain": [
       "\u001b[1;31mInit signature:\u001b[0m \u001b[0mdropwhile\u001b[0m\u001b[1;33m(\u001b[0m\u001b[0mpredicate\u001b[0m\u001b[1;33m,\u001b[0m \u001b[0miterable\u001b[0m\u001b[1;33m,\u001b[0m \u001b[1;33m/\u001b[0m\u001b[1;33m)\u001b[0m\u001b[1;33m\u001b[0m\u001b[1;33m\u001b[0m\u001b[0m\n",
       "\u001b[1;31mDocstring:\u001b[0m     \n",
       "Drop items from the iterable while predicate(item) is true.\n",
       "\n",
       "Afterwards, return every element until the iterable is exhausted.\n",
       "\u001b[1;31mType:\u001b[0m           type\n",
       "\u001b[1;31mSubclasses:\u001b[0m     \n"
      ]
     },
     "metadata": {},
     "output_type": "display_data"
    }
   ],
   "source": [
    "dropwhile?"
   ]
  },
  {
   "cell_type": "code",
   "execution_count": 9,
   "metadata": {},
   "outputs": [
    {
     "data": {
      "text/plain": [
       "\u001b[1;31mInit signature:\u001b[0m \u001b[0mrepeat\u001b[0m\u001b[1;33m(\u001b[0m\u001b[0mself\u001b[0m\u001b[1;33m,\u001b[0m \u001b[1;33m/\u001b[0m\u001b[1;33m,\u001b[0m \u001b[1;33m*\u001b[0m\u001b[0margs\u001b[0m\u001b[1;33m,\u001b[0m \u001b[1;33m**\u001b[0m\u001b[0mkwargs\u001b[0m\u001b[1;33m)\u001b[0m\u001b[1;33m\u001b[0m\u001b[1;33m\u001b[0m\u001b[0m\n",
       "\u001b[1;31mDocstring:\u001b[0m     \n",
       "repeat(object [,times]) -> create an iterator which returns the object\n",
       "for the specified number of times.  If not specified, returns the object\n",
       "endlessly.\n",
       "\u001b[1;31mType:\u001b[0m           type\n",
       "\u001b[1;31mSubclasses:\u001b[0m     \n"
      ]
     },
     "metadata": {},
     "output_type": "display_data"
    }
   ],
   "source": [
    "repeat?"
   ]
  },
  {
   "cell_type": "code",
   "execution_count": 10,
   "metadata": {},
   "outputs": [
    {
     "data": {
      "text/plain": [
       "\u001b[1;31mInit signature:\u001b[0m \u001b[0mzip_longest\u001b[0m\u001b[1;33m(\u001b[0m\u001b[0mself\u001b[0m\u001b[1;33m,\u001b[0m \u001b[1;33m/\u001b[0m\u001b[1;33m,\u001b[0m \u001b[1;33m*\u001b[0m\u001b[0margs\u001b[0m\u001b[1;33m,\u001b[0m \u001b[1;33m**\u001b[0m\u001b[0mkwargs\u001b[0m\u001b[1;33m)\u001b[0m\u001b[1;33m\u001b[0m\u001b[1;33m\u001b[0m\u001b[0m\n",
       "\u001b[1;31mDocstring:\u001b[0m     \n",
       "zip_longest(iter1 [,iter2 [...]], [fillvalue=None]) --> zip_longest object\n",
       "\n",
       "Return a zip_longest object whose .__next__() method returns a tuple where\n",
       "the i-th element comes from the i-th iterable argument.  The .__next__()\n",
       "method continues until the longest iterable in the argument sequence\n",
       "is exhausted and then it raises StopIteration.  When the shorter iterables\n",
       "are exhausted, the fillvalue is substituted in their place.  The fillvalue\n",
       "defaults to None or can be specified by a keyword argument.\n",
       "\u001b[1;31mType:\u001b[0m           type\n",
       "\u001b[1;31mSubclasses:\u001b[0m     \n"
      ]
     },
     "metadata": {},
     "output_type": "display_data"
    }
   ],
   "source": [
    "zip_longest?"
   ]
  },
  {
   "cell_type": "markdown",
   "metadata": {},
   "source": [
    "#### Stacks"
   ]
  },
  {
   "cell_type": "markdown",
   "metadata": {},
   "source": [
    "##### Exercise 16: Implementing a Stack in Python"
   ]
  },
  {
   "cell_type": "code",
   "execution_count": 31,
   "metadata": {},
   "outputs": [],
   "source": [
    "stack = []"
   ]
  },
  {
   "cell_type": "code",
   "execution_count": 32,
   "metadata": {},
   "outputs": [
    {
     "data": {
      "text/plain": [
       "[25]"
      ]
     },
     "execution_count": 32,
     "metadata": {},
     "output_type": "execute_result"
    }
   ],
   "source": [
    "stack.append(25)\n",
    "stack"
   ]
  },
  {
   "cell_type": "code",
   "execution_count": 33,
   "metadata": {},
   "outputs": [
    {
     "data": {
      "text/plain": [
       "[25, -12]"
      ]
     },
     "execution_count": 33,
     "metadata": {},
     "output_type": "execute_result"
    }
   ],
   "source": [
    "stack.append(-12)\n",
    "stack"
   ]
  },
  {
   "cell_type": "code",
   "execution_count": 34,
   "metadata": {},
   "outputs": [
    {
     "data": {
      "text/plain": [
       "-12"
      ]
     },
     "execution_count": 34,
     "metadata": {},
     "output_type": "execute_result"
    }
   ],
   "source": [
    "tos = stack.pop()\n",
    "tos"
   ]
  },
  {
   "cell_type": "code",
   "execution_count": 35,
   "metadata": {},
   "outputs": [
    {
     "data": {
      "text/plain": [
       "[25]"
      ]
     },
     "execution_count": 35,
     "metadata": {},
     "output_type": "execute_result"
    }
   ],
   "source": [
    "stack"
   ]
  },
  {
   "cell_type": "code",
   "execution_count": 36,
   "metadata": {},
   "outputs": [
    {
     "data": {
      "text/plain": [
       "[25, 'Hello']"
      ]
     },
     "execution_count": 36,
     "metadata": {},
     "output_type": "execute_result"
    }
   ],
   "source": [
    "stack.append(\"Hello\")\n",
    "stack"
   ]
  },
  {
   "cell_type": "markdown",
   "metadata": {},
   "source": [
    "##### Exercise 17: Implementing a Stack Using User-Defined Methods"
   ]
  },
  {
   "cell_type": "markdown",
   "metadata": {},
   "source": [
    "Manually implementing **append** and **pop** methods"
   ]
  },
  {
   "cell_type": "code",
   "execution_count": 38,
   "metadata": {},
   "outputs": [],
   "source": [
    "def stack_push(s, value):\n",
    "    return s + [value]  # the square brackets convert the value to a one-element list for the sake of the '+' operation\n",
    "\n",
    "def stack_pop(s):\n",
    "    tos = s[-1]\n",
    "    del s[-1]\n",
    "    return tos\n",
    "\n",
    "url_stack = []"
   ]
  },
  {
   "cell_type": "markdown",
   "metadata": {},
   "source": [
    "First line from Wikipedia article on data science:"
   ]
  },
  {
   "cell_type": "code",
   "execution_count": 40,
   "metadata": {},
   "outputs": [],
   "source": [
    "wikipedia_datascience = \"Data science is an interdisciplinary field that uses scientific methods, processes, algorithms and systems to extract knowledge [https://en.wikipedia.org/wiki/Knowledge] and insights from data [https://en.wikipedia.org/wiki/Data] in various forms, both structured and unstructured,similar to data mining [https://en.wikipedia.org/wiki/Data_mining]\""
   ]
  },
  {
   "cell_type": "markdown",
   "metadata": {},
   "source": [
    "Find the length of the string:"
   ]
  },
  {
   "cell_type": "code",
   "execution_count": 41,
   "metadata": {},
   "outputs": [
    {
     "data": {
      "text/plain": [
       "347"
      ]
     },
     "execution_count": 41,
     "metadata": {},
     "output_type": "execute_result"
    }
   ],
   "source": [
    "len(wikipedia_datascience)"
   ]
  },
  {
   "cell_type": "markdown",
   "metadata": {},
   "source": [
    "Convert to a list (using **split**) and calculate length:"
   ]
  },
  {
   "cell_type": "code",
   "execution_count": 42,
   "metadata": {},
   "outputs": [
    {
     "data": {
      "text/plain": [
       "34"
      ]
     },
     "execution_count": 42,
     "metadata": {},
     "output_type": "execute_result"
    }
   ],
   "source": [
    "wd_list = wikipedia_datascience.split()\n",
    "len(wd_list)"
   ]
  },
  {
   "cell_type": "markdown",
   "metadata": {},
   "source": [
    "Use a 'for loop' to check whether each word is a URL using **startswith** method:"
   ]
  },
  {
   "cell_type": "code",
   "execution_count": 45,
   "metadata": {
    "scrolled": true
   },
   "outputs": [
    {
     "data": {
      "text/plain": [
       "['Data',\n",
       " 'science',\n",
       " 'is',\n",
       " 'an',\n",
       " 'interdisciplinary',\n",
       " 'field',\n",
       " 'that',\n",
       " 'uses',\n",
       " 'scientific',\n",
       " 'methods,',\n",
       " 'processes,',\n",
       " 'algorithms',\n",
       " 'and',\n",
       " 'systems',\n",
       " 'to',\n",
       " 'extract',\n",
       " 'knowledge',\n",
       " '[https://en.wikipedia.org/wiki/Knowledge]',\n",
       " 'and',\n",
       " 'insights',\n",
       " 'from',\n",
       " 'data',\n",
       " '[https://en.wikipedia.org/wiki/Data]',\n",
       " 'in',\n",
       " 'various',\n",
       " 'forms,',\n",
       " 'both',\n",
       " 'structured',\n",
       " 'and',\n",
       " 'unstructured,similar',\n",
       " 'to',\n",
       " 'data',\n",
       " 'mining',\n",
       " '[https://en.wikipedia.org/wiki/Data_mining]']"
      ]
     },
     "execution_count": 45,
     "metadata": {},
     "output_type": "execute_result"
    }
   ],
   "source": [
    "wd_list"
   ]
  },
  {
   "cell_type": "code",
   "execution_count": 43,
   "metadata": {},
   "outputs": [],
   "source": [
    "for word in wd_list:\n",
    "    if word.startswith(\"[https://\"):\n",
    "        url_stack  = stack_push(url_stack, word[1:-1])  # Notice the clever use of string slicing        "
   ]
  },
  {
   "cell_type": "code",
   "execution_count": 44,
   "metadata": {},
   "outputs": [
    {
     "data": {
      "text/plain": [
       "['https://en.wikipedia.org/wiki/Knowledge',\n",
       " 'https://en.wikipedia.org/wiki/Data',\n",
       " 'https://en.wikipedia.org/wiki/Data_mining']"
      ]
     },
     "execution_count": 44,
     "metadata": {},
     "output_type": "execute_result"
    }
   ],
   "source": [
    "url_stack"
   ]
  },
  {
   "cell_type": "code",
   "execution_count": 48,
   "metadata": {},
   "outputs": [
    {
     "name": "stdout",
     "output_type": "stream",
     "text": [
      "https://en.wikipedia.org/wiki/Data_mining\n",
      "https://en.wikipedia.org/wiki/Data\n",
      "https://en.wikipedia.org/wiki/Knowledge\n"
     ]
    }
   ],
   "source": [
    "for i in range(0, len(url_stack)):\n",
    "    print(stack_pop(url_stack))"
   ]
  },
  {
   "cell_type": "markdown",
   "metadata": {},
   "source": [
    "URL stack is now empty:"
   ]
  },
  {
   "cell_type": "code",
   "execution_count": 49,
   "metadata": {},
   "outputs": [
    {
     "data": {
      "text/plain": [
       "[]"
      ]
     },
     "execution_count": 49,
     "metadata": {},
     "output_type": "execute_result"
    }
   ],
   "source": [
    "url_stack"
   ]
  },
  {
   "cell_type": "markdown",
   "metadata": {},
   "source": [
    "##### Exercise 18: Lambda Expression"
   ]
  },
  {
   "cell_type": "markdown",
   "metadata": {},
   "source": [
    "Prove the trigonometric identity:\n",
    "\n",
    "sin^2(x) + cos^2(x) = 1"
   ]
  },
  {
   "cell_type": "code",
   "execution_count": 50,
   "metadata": {},
   "outputs": [],
   "source": [
    "import math"
   ]
  },
  {
   "cell_type": "markdown",
   "metadata": {},
   "source": [
    "Define sine and cosine functions that use degrees and convert to radians:"
   ]
  },
  {
   "cell_type": "code",
   "execution_count": 52,
   "metadata": {},
   "outputs": [],
   "source": [
    "def my_sine():\n",
    "    return lambda x: math.sin(math.radians(x))\n",
    "\n",
    "def my_cosine():\n",
    "    return lambda x: math.cos(math.radians(x))"
   ]
  },
  {
   "cell_type": "markdown",
   "metadata": {},
   "source": [
    "Define our **sine** and **cosine**:"
   ]
  },
  {
   "cell_type": "code",
   "execution_count": 53,
   "metadata": {},
   "outputs": [],
   "source": [
    "sine = my_sine()\n",
    "cosine = my_cosine()"
   ]
  },
  {
   "cell_type": "code",
   "execution_count": 56,
   "metadata": {},
   "outputs": [
    {
     "data": {
      "text/plain": [
       "1.0"
      ]
     },
     "execution_count": 56,
     "metadata": {},
     "output_type": "execute_result"
    }
   ],
   "source": [
    "math.pow(sine(30), 2) + math.pow(cosine(30), 2)"
   ]
  },
  {
   "cell_type": "markdown",
   "metadata": {},
   "source": [
    "##### Exercise 19: Lambda Expression for Sorting"
   ]
  },
  {
   "cell_type": "code",
   "execution_count": 57,
   "metadata": {},
   "outputs": [],
   "source": [
    "capitals = [(\"USA\", \"Washington\"), (\"India\", \"Delhi\"), (\"France\", \"Paris\"), (\"UK\", \"London\")]"
   ]
  },
  {
   "cell_type": "code",
   "execution_count": 58,
   "metadata": {},
   "outputs": [
    {
     "data": {
      "text/plain": [
       "[('USA', 'Washington'),\n",
       " ('India', 'Delhi'),\n",
       " ('France', 'Paris'),\n",
       " ('UK', 'London')]"
      ]
     },
     "execution_count": 58,
     "metadata": {},
     "output_type": "execute_result"
    }
   ],
   "source": [
    "capitals"
   ]
  },
  {
   "cell_type": "code",
   "execution_count": 59,
   "metadata": {},
   "outputs": [
    {
     "data": {
      "text/plain": [
       "[('India', 'Delhi'),\n",
       " ('UK', 'London'),\n",
       " ('France', 'Paris'),\n",
       " ('USA', 'Washington')]"
      ]
     },
     "execution_count": 59,
     "metadata": {},
     "output_type": "execute_result"
    }
   ],
   "source": [
    "capitals.sort(key=lambda item: item[1])\n",
    "capitals"
   ]
  },
  {
   "cell_type": "code",
   "execution_count": 60,
   "metadata": {},
   "outputs": [
    {
     "data": {
      "text/plain": [
       "[('France', 'Paris'),\n",
       " ('India', 'Delhi'),\n",
       " ('UK', 'London'),\n",
       " ('USA', 'Washington')]"
      ]
     },
     "execution_count": 60,
     "metadata": {},
     "output_type": "execute_result"
    }
   ],
   "source": [
    "capitals.sort(key=lambda item: item[0])\n",
    "capitals"
   ]
  },
  {
   "cell_type": "markdown",
   "metadata": {},
   "source": [
    "##### Exercise 20: Multi-Element Membership Checking"
   ]
  },
  {
   "cell_type": "code",
   "execution_count": 61,
   "metadata": {},
   "outputs": [],
   "source": [
    "list_of_words = [\"Hello\", \"there.\", \"How\", \"are\", \"you\", \"doing\"]"
   ]
  },
  {
   "cell_type": "code",
   "execution_count": 62,
   "metadata": {},
   "outputs": [],
   "source": [
    "check_for = [\"How\", \"are\"]"
   ]
  },
  {
   "cell_type": "markdown",
   "metadata": {},
   "source": [
    "The **all** function returns **True** if all the elements of the iterable are true:"
   ]
  },
  {
   "cell_type": "code",
   "execution_count": 63,
   "metadata": {},
   "outputs": [
    {
     "data": {
      "text/plain": [
       "True"
      ]
     },
     "execution_count": 63,
     "metadata": {},
     "output_type": "execute_result"
    }
   ],
   "source": [
    "all(w in list_of_words for w in check_for)"
   ]
  },
  {
   "cell_type": "code",
   "execution_count": 68,
   "metadata": {},
   "outputs": [
    {
     "name": "stdout",
     "output_type": "stream",
     "text": [
      "True\n",
      "True\n"
     ]
    }
   ],
   "source": [
    "for w in check_for:\n",
    "    print(w in list_of_words)"
   ]
  },
  {
   "cell_type": "markdown",
   "metadata": {},
   "source": [
    "#### Queue"
   ]
  },
  {
   "cell_type": "markdown",
   "metadata": {},
   "source": [
    "First, inefficiency of list methods. Then, better **dequeue** data structure from collection module."
   ]
  },
  {
   "cell_type": "markdown",
   "metadata": {},
   "source": [
    "##### Exercise 21: Implementing a Queue in Python"
   ]
  },
  {
   "cell_type": "markdown",
   "metadata": {},
   "source": [
    "Create a Python queue using plain list methods:"
   ]
  },
  {
   "cell_type": "code",
   "execution_count": 69,
   "metadata": {},
   "outputs": [
    {
     "name": "stdout",
     "output_type": "stream",
     "text": [
      "Queue created\n",
      "Wall time: 10.4 ms\n"
     ]
    }
   ],
   "source": [
    "%%time\n",
    "queue = []\n",
    "for i in range (0, 100000):\n",
    "    queue.append(i)\n",
    "print(\"Queue created\")"
   ]
  },
  {
   "cell_type": "markdown",
   "metadata": {},
   "source": [
    "Use **pop** function to empty the queue and check items"
   ]
  },
  {
   "cell_type": "code",
   "execution_count": 70,
   "metadata": {},
   "outputs": [
    {
     "name": "stdout",
     "output_type": "stream",
     "text": [
      "Queue emptied\n",
      "Wall time: 11.8 s\n"
     ]
    }
   ],
   "source": [
    "%%time\n",
    "for i in range(0, 100000):\n",
    "    queue.pop(0)\n",
    "print(\"Queue emptied\")"
   ]
  },
  {
   "cell_type": "markdown",
   "metadata": {},
   "source": [
    "Implement the same queue using the **deque* data structure"
   ]
  },
  {
   "cell_type": "code",
   "execution_count": 72,
   "metadata": {},
   "outputs": [],
   "source": [
    "from collections import deque"
   ]
  },
  {
   "cell_type": "code",
   "execution_count": 73,
   "metadata": {},
   "outputs": [
    {
     "name": "stdout",
     "output_type": "stream",
     "text": [
      "Queue created\n",
      "Wall time: 14.1 ms\n"
     ]
    }
   ],
   "source": [
    "%%time\n",
    "queue2 = deque()\n",
    "for i in range(0, 100000):\n",
    "    queue2.append(i)\n",
    "print(\"Queue created\")"
   ]
  },
  {
   "cell_type": "code",
   "execution_count": 74,
   "metadata": {},
   "outputs": [
    {
     "name": "stdout",
     "output_type": "stream",
     "text": [
      "Queue emptied\n",
      "Wall time: 9.52 ms\n"
     ]
    }
   ],
   "source": [
    "%%time\n",
    "for i in range(0, 100000):\n",
    "    queue2.popleft()\n",
    "print(\"Queue emptied\")"
   ]
  },
  {
   "cell_type": "markdown",
   "metadata": {},
   "source": [
    "#### Basic File Operations in Python"
   ]
  },
  {
   "cell_type": "markdown",
   "metadata": {},
   "source": [
    "##### Exercise 22: File Operations"
   ]
  },
  {
   "cell_type": "code",
   "execution_count": 75,
   "metadata": {},
   "outputs": [],
   "source": [
    "import os"
   ]
  },
  {
   "cell_type": "code",
   "execution_count": 76,
   "metadata": {},
   "outputs": [
    {
     "data": {
      "text/plain": [
       "'MY_VAL'"
      ]
     },
     "execution_count": 76,
     "metadata": {},
     "output_type": "execute_result"
    }
   ],
   "source": [
    "os.environ['MY_KEY'] = \"MY_VAL\"\n",
    "os.getenv('MY_KEY')"
   ]
  },
  {
   "cell_type": "markdown",
   "metadata": {},
   "source": [
    "When the environment variable is not set:"
   ]
  },
  {
   "cell_type": "code",
   "execution_count": 77,
   "metadata": {},
   "outputs": [
    {
     "name": "stdout",
     "output_type": "stream",
     "text": [
      "None\n"
     ]
    }
   ],
   "source": [
    "print(os.getenv('MY_KEY_NOT_SET'))"
   ]
  },
  {
   "cell_type": "code",
   "execution_count": 79,
   "metadata": {},
   "outputs": [],
   "source": [
    "# print(os.environ)  #not shown, for security reasons"
   ]
  },
  {
   "cell_type": "markdown",
   "metadata": {},
   "source": [
    "##### File Handling"
   ]
  },
  {
   "cell_type": "code",
   "execution_count": 88,
   "metadata": {},
   "outputs": [],
   "source": [
    "fd = open(\"Alice’s Adventures in Wonderland, by Lewis Carroll\")"
   ]
  },
  {
   "cell_type": "code",
   "execution_count": 89,
   "metadata": {},
   "outputs": [
    {
     "data": {
      "text/plain": [
       "<_io.TextIOWrapper name='Alice’s Adventures in Wonderland, by Lewis Carroll' mode='r' encoding='cp1252'>"
      ]
     },
     "execution_count": 89,
     "metadata": {},
     "output_type": "execute_result"
    }
   ],
   "source": [
    "fd"
   ]
  },
  {
   "cell_type": "code",
   "execution_count": 90,
   "metadata": {},
   "outputs": [],
   "source": [
    "fd = open(\"Alice’s Adventures in Wonderland, by Lewis Carroll\", \"rb\")"
   ]
  },
  {
   "cell_type": "code",
   "execution_count": 91,
   "metadata": {},
   "outputs": [
    {
     "data": {
      "text/plain": [
       "<_io.BufferedReader name='Alice’s Adventures in Wonderland, by Lewis Carroll'>"
      ]
     },
     "execution_count": 91,
     "metadata": {},
     "output_type": "execute_result"
    }
   ],
   "source": [
    "fd"
   ]
  },
  {
   "cell_type": "code",
   "execution_count": 92,
   "metadata": {},
   "outputs": [],
   "source": [
    "fd = open(\"Alice’s Adventures in Wonderland, by Lewis Carroll\", \"w\")"
   ]
  },
  {
   "cell_type": "code",
   "execution_count": 93,
   "metadata": {},
   "outputs": [
    {
     "data": {
      "text/plain": [
       "<_io.TextIOWrapper name='Alice’s Adventures in Wonderland, by Lewis Carroll' mode='w' encoding='cp1252'>"
      ]
     },
     "execution_count": 93,
     "metadata": {},
     "output_type": "execute_result"
    }
   ],
   "source": [
    "fd"
   ]
  },
  {
   "cell_type": "markdown",
   "metadata": {},
   "source": [
    "##### Exercise 23: Opening and Closing a File"
   ]
  },
  {
   "cell_type": "markdown",
   "metadata": {},
   "source": [
    "It is very important to close a file once you open it"
   ]
  },
  {
   "cell_type": "code",
   "execution_count": 98,
   "metadata": {},
   "outputs": [],
   "source": [
    "fd = open(\"Alice’s Adventures in Wonderland, by Lewis Carroll\", \"rb\")"
   ]
  },
  {
   "cell_type": "code",
   "execution_count": 99,
   "metadata": {},
   "outputs": [
    {
     "data": {
      "text/plain": [
       "False"
      ]
     },
     "execution_count": 99,
     "metadata": {},
     "output_type": "execute_result"
    }
   ],
   "source": [
    "fd.closed"
   ]
  },
  {
   "cell_type": "code",
   "execution_count": 100,
   "metadata": {},
   "outputs": [],
   "source": [
    "fd.close()"
   ]
  },
  {
   "cell_type": "code",
   "execution_count": 101,
   "metadata": {},
   "outputs": [
    {
     "data": {
      "text/plain": [
       "True"
      ]
     },
     "execution_count": 101,
     "metadata": {},
     "output_type": "execute_result"
    }
   ],
   "source": [
    "fd.closed"
   ]
  },
  {
   "cell_type": "markdown",
   "metadata": {},
   "source": [
    "Use a with statement to open files because it will automatically close the file when done"
   ]
  },
  {
   "cell_type": "code",
   "execution_count": 102,
   "metadata": {},
   "outputs": [
    {
     "name": "stdout",
     "output_type": "stream",
     "text": [
      "False\n",
      "True\n"
     ]
    }
   ],
   "source": [
    "with open(\"Alice’s Adventures in Wonderland, by Lewis Carroll\") as fd:\n",
    "    print(fd.closed)\n",
    "print(fd.closed)"
   ]
  },
  {
   "cell_type": "markdown",
   "metadata": {},
   "source": [
    "##### Exercise 24: Reading a File Line by Line"
   ]
  },
  {
   "cell_type": "code",
   "execution_count": 110,
   "metadata": {
    "scrolled": true
   },
   "outputs": [
    {
     "name": "stdout",
     "output_type": "stream",
     "text": [
      "CHAPTER I. Down the Rabbit-Hole\n",
      "\n",
      "\n",
      "\n",
      "Alice was beginning to get very tired of sitting by her sister on the\n",
      "\n",
      "bank, and of having nothing to do: once or twice she had peeped into the\n",
      "\n",
      "book her sister was reading, but it had no pictures or conversations in\n",
      "\n",
      "it, ‘and what is the use of a book,’ thought Alice ‘without pictures or\n",
      "\n",
      "conversations?’\n",
      "\n",
      "\n",
      "\n",
      "So she was considering in her own mind (as well as she could, for the\n",
      "\n",
      "hot day made her feel very sleepy and stupid), whether the pleasure\n",
      "\n",
      "of making a daisy-chain would be worth the trouble of getting up and\n",
      "\n",
      "picking the daisies, when suddenly a White Rabbit with pink eyes ran\n",
      "\n",
      "close by her.\n",
      "\n",
      "\n",
      "\n",
      "There was nothing so VERY remarkable in that; nor did Alice think it so\n",
      "\n",
      "VERY much out of the way to hear the Rabbit say to itself, ‘Oh dear!\n",
      "\n",
      "Oh dear! I shall be late!’ (when she thought it over afterwards, it\n",
      "\n",
      "occurred to her that she ought to have wondered at this, but at the time\n",
      "\n",
      "it all seemed quite natural); but when the Rabbit actually TOOK A WATCH\n",
      "\n",
      "OUT OF ITS WAISTCOAT-POCKET, and looked at it, and then hurried on,\n",
      "\n",
      "Alice started to her feet, for it flashed across her mind that she had\n",
      "\n",
      "never before seen a rabbit with either a waistcoat-pocket, or a watch\n",
      "\n",
      "to take out of it, and burning with curiosity, she ran across the field\n",
      "\n",
      "after it, and fortunately was just in time to see it pop down a large\n",
      "\n",
      "rabbit-hole under the hedge.\n",
      "\n",
      "\n",
      "\n",
      "In another moment down went Alice after it, never once considering how\n",
      "\n",
      "in the world she was to get out again.\n",
      "\n",
      "\n",
      "\n",
      "The rabbit-hole went straight on like a tunnel for some way, and then\n",
      "\n",
      "dipped suddenly down, so suddenly that Alice had not a moment to think\n",
      "\n",
      "about stopping herself before she found herself falling down a very deep\n",
      "\n",
      "well.\n",
      "\n",
      "\n",
      "\n",
      "Either the well was very deep, or she fell very slowly, for she had\n",
      "\n",
      "plenty of time as she went down to look about her and to wonder what was\n",
      "\n",
      "going to happen next. First, she tried to look down and make out what\n",
      "\n",
      "she was coming to, but it was too dark to see anything; then she\n",
      "\n",
      "looked at the sides of the well, and noticed that they were filled with\n",
      "\n",
      "cupboards and book-shelves; here and there she saw maps and pictures\n",
      "\n",
      "hung upon pegs. She took down a jar from one of the shelves as\n",
      "\n",
      "she passed; it was labelled ‘ORANGE MARMALADE’, but to her great\n",
      "\n",
      "disappointment it was empty: she did not like to drop the jar for fear\n",
      "\n",
      "of killing somebody, so managed to put it into one of the cupboards as\n",
      "\n",
      "she fell past it.\n",
      "\n",
      "\n",
      "\n",
      "‘Well!’ thought Alice to herself, ‘after such a fall as this, I shall\n",
      "\n",
      "think nothing of tumbling down stairs! How brave they’ll all think me at\n",
      "\n",
      "home! Why, I wouldn’t say anything about it, even if I fell off the top\n",
      "\n",
      "of the house!’ (Which was very likely true.)\n",
      "\n",
      "\n",
      "\n",
      "Down, down, down. Would the fall NEVER come to an end! ‘I wonder how\n",
      "\n",
      "many miles I’ve fallen by this time?’ she said aloud. ‘I must be getting\n",
      "\n",
      "somewhere near the centre of the earth. Let me see: that would be four\n",
      "\n",
      "thousand miles down, I think--’ (for, you see, Alice had learnt several\n",
      "\n",
      "things of this sort in her lessons in the schoolroom, and though this\n",
      "\n",
      "was not a VERY good opportunity for showing off her knowledge, as there\n",
      "\n",
      "was no one to listen to her, still it was good practice to say it over)\n",
      "\n",
      "‘--yes, that’s about the right distance--but then I wonder what Latitude\n",
      "\n",
      "or Longitude I’ve got to?’ (Alice had no idea what Latitude was, or\n",
      "\n",
      "Longitude either, but thought they were nice grand words to say.)\n",
      "\n",
      "\n",
      "\n",
      "Presently she began again. ‘I wonder if I shall fall right THROUGH the\n",
      "\n",
      "earth! How funny it’ll seem to come out among the people that walk with\n",
      "\n",
      "their heads downward! The Antipathies, I think--’ (she was rather glad\n",
      "\n",
      "there WAS no one listening, this time, as it didn’t sound at all the\n",
      "\n",
      "right word) ‘--but I shall have to ask them what the name of the country\n",
      "\n",
      "is, you know. Please, Ma’am, is this New Zealand or Australia?’ (and\n",
      "\n",
      "she tried to curtsey as she spoke--fancy CURTSEYING as you’re falling\n",
      "\n",
      "through the air! Do you think you could manage it?) ‘And what an\n",
      "\n",
      "ignorant little girl she’ll think me for asking! No, it’ll never do to\n",
      "\n",
      "ask: perhaps I shall see it written up somewhere.’\n",
      "\n",
      "\n",
      "\n",
      "Down, down, down. There was nothing else to do, so Alice soon began\n",
      "\n",
      "talking again. ‘Dinah’ll miss me very much to-night, I should think!’\n",
      "\n",
      "(Dinah was the cat.) ‘I hope they’ll remember her saucer of milk at\n",
      "\n",
      "tea-time. Dinah my dear! I wish you were down here with me! There are no\n",
      "\n",
      "mice in the air, I’m afraid, but you might catch a bat, and that’s very\n",
      "\n",
      "like a mouse, you know. But do cats eat bats, I wonder?’ And here Alice\n",
      "\n",
      "began to get rather sleepy, and went on saying to herself, in a dreamy\n",
      "\n",
      "sort of way, ‘Do cats eat bats? Do cats eat bats?’ and sometimes, ‘Do\n",
      "\n",
      "bats eat cats?’ for, you see, as she couldn’t answer either question,\n",
      "\n",
      "it didn’t much matter which way she put it. She felt that she was dozing\n",
      "\n",
      "off, and had just begun to dream that she was walking hand in hand with\n",
      "\n",
      "Dinah, and saying to her very earnestly, ‘Now, Dinah, tell me the truth:\n",
      "\n",
      "did you ever eat a bat?’ when suddenly, thump! thump! down she came upon\n",
      "\n",
      "a heap of sticks and dry leaves, and the fall was over.\n",
      "\n",
      "\n",
      "\n",
      "Alice was not a bit hurt, and she jumped up on to her feet in a moment:\n",
      "\n",
      "she looked up, but it was all dark overhead; before her was another\n",
      "\n",
      "long passage, and the White Rabbit was still in sight, hurrying down it.\n",
      "\n",
      "There was not a moment to be lost: away went Alice like the wind, and\n",
      "\n",
      "was just in time to hear it say, as it turned a corner, ‘Oh my ears\n",
      "\n",
      "and whiskers, how late it’s getting!’ She was close behind it when she\n",
      "\n",
      "turned the corner, but the Rabbit was no longer to be seen: she found\n",
      "\n",
      "herself in a long, low hall, which was lit up by a row of lamps hanging\n",
      "\n",
      "from the roof.\n",
      "\n",
      "\n",
      "\n",
      "There were doors all round the hall, but they were all locked; and when\n",
      "\n",
      "Alice had been all the way down one side and up the other, trying every\n",
      "\n",
      "door, she walked sadly down the middle, wondering how she was ever to\n",
      "\n",
      "get out again.\n",
      "\n",
      "\n",
      "\n",
      "Suddenly she came upon a little three-legged table, all made of solid\n",
      "\n",
      "glass; there was nothing on it except a tiny golden key, and Alice’s\n",
      "\n",
      "first thought was that it might belong to one of the doors of the hall;\n",
      "\n",
      "but, alas! either the locks were too large, or the key was too small,\n",
      "\n",
      "but at any rate it would not open any of them. However, on the second\n",
      "\n",
      "time round, she came upon a low curtain she had not noticed before, and\n",
      "\n",
      "behind it was a little door about fifteen inches high: she tried the\n",
      "\n",
      "little golden key in the lock, and to her great delight it fitted!\n",
      "\n",
      "\n",
      "\n",
      "Alice opened the door and found that it led into a small passage, not\n",
      "\n",
      "much larger than a rat-hole: she knelt down and looked along the passage\n",
      "\n",
      "into the loveliest garden you ever saw. How she longed to get out of\n",
      "\n",
      "that dark hall, and wander about among those beds of bright flowers and\n",
      "\n",
      "those cool fountains, but she could not even get her head through the\n",
      "\n",
      "doorway; ‘and even if my head would go through,’ thought poor Alice, ‘it\n",
      "\n",
      "would be of very little use without my shoulders. Oh, how I wish I could\n",
      "\n",
      "shut up like a telescope! I think I could, if I only knew how to begin.’\n",
      "\n",
      "For, you see, so many out-of-the-way things had happened lately,\n",
      "\n",
      "that Alice had begun to think that very few things indeed were really\n",
      "\n",
      "impossible.\n",
      "\n",
      "\n",
      "\n",
      "There seemed to be no use in waiting by the little door, so she went\n",
      "\n",
      "back to the table, half hoping she might find another key on it, or at\n",
      "\n",
      "any rate a book of rules for shutting people up like telescopes: this\n",
      "\n",
      "time she found a little bottle on it, [‘which certainly was not here\n",
      "\n",
      "before,’ said Alice,) and round the neck of the bottle was a paper\n",
      "\n",
      "label, with the words ‘DRINK ME’ beautifully printed on it in large\n",
      "\n",
      "letters.\n",
      "\n",
      "\n",
      "\n",
      "It was all very well to say ‘Drink me,’ but the wise little Alice was\n",
      "\n",
      "not going to do THAT in a hurry. ‘No, I’ll look first,’ she said, ‘and\n",
      "\n",
      "see whether it’s marked “poison” or not’; for she had read several nice\n",
      "\n",
      "little histories about children who had got burnt, and eaten up by wild\n",
      "\n",
      "beasts and other unpleasant things, all because they WOULD not remember\n",
      "\n",
      "the simple rules their friends had taught them: such as, that a red-hot\n",
      "\n",
      "poker will burn you if you hold it too long; and that if you cut your\n",
      "\n",
      "finger VERY deeply with a knife, it usually bleeds; and she had never\n",
      "\n",
      "forgotten that, if you drink much from a bottle marked ‘poison,’ it is\n",
      "\n",
      "almost certain to disagree with you, sooner or later.\n",
      "\n",
      "\n",
      "\n",
      "However, this bottle was NOT marked ‘poison,’ so Alice ventured to taste\n",
      "\n",
      "it, and finding it very nice, (it had, in fact, a sort of mixed flavour\n",
      "\n",
      "of cherry-tart, custard, pine-apple, roast turkey, toffee, and hot\n",
      "\n",
      "buttered toast,) she very soon finished it off.\n",
      "\n",
      "\n",
      "\n",
      "  *    *    *    *    *    *    *\n",
      "\n",
      "\n",
      "\n",
      "    *    *    *    *    *    *\n",
      "\n",
      "\n",
      "\n",
      "  *    *    *    *    *    *    *\n",
      "\n",
      "\n",
      "\n",
      "‘What a curious feeling!’ said Alice; ‘I must be shutting up like a\n",
      "\n",
      "telescope.’\n",
      "\n",
      "\n",
      "\n",
      "And so it was indeed: she was now only ten inches high, and her face\n",
      "\n",
      "brightened up at the thought that she was now the right size for going\n",
      "\n",
      "through the little door into that lovely garden. First, however, she\n",
      "\n",
      "waited for a few minutes to see if she was going to shrink any further:\n",
      "\n",
      "she felt a little nervous about this; ‘for it might end, you know,’ said\n",
      "\n",
      "Alice to herself, ‘in my going out altogether, like a candle. I wonder\n",
      "\n",
      "what I should be like then?’ And she tried to fancy what the flame of a\n",
      "\n",
      "candle is like after the candle is blown out, for she could not remember\n",
      "\n",
      "ever having seen such a thing.\n",
      "\n",
      "\n",
      "\n",
      "After a while, finding that nothing more happened, she decided on going\n",
      "\n",
      "into the garden at once; but, alas for poor Alice! when she got to the\n",
      "\n",
      "door, she found she had forgotten the little golden key, and when she\n",
      "\n",
      "went back to the table for it, she found she could not possibly reach\n",
      "\n",
      "it: she could see it quite plainly through the glass, and she tried her\n",
      "\n",
      "best to climb up one of the legs of the table, but it was too slippery;\n",
      "\n",
      "and when she had tired herself out with trying, the poor little thing\n",
      "\n",
      "sat down and cried.\n",
      "\n",
      "\n",
      "\n",
      "‘Come, there’s no use in crying like that!’ said Alice to herself,\n",
      "\n",
      "rather sharply; ‘I advise you to leave off this minute!’ She generally\n",
      "\n",
      "gave herself very good advice, (though she very seldom followed it),\n",
      "\n",
      "and sometimes she scolded herself so severely as to bring tears into\n",
      "\n",
      "her eyes; and once she remembered trying to box her own ears for having\n",
      "\n",
      "cheated herself in a game of croquet she was playing against herself,\n",
      "\n",
      "for this curious child was very fond of pretending to be two people.\n",
      "\n",
      "‘But it’s no use now,’ thought poor Alice, ‘to pretend to be two people!\n",
      "\n",
      "Why, there’s hardly enough of me left to make ONE respectable person!’\n",
      "\n",
      "\n",
      "\n",
      "Soon her eye fell on a little glass box that was lying under the table:\n",
      "\n",
      "she opened it, and found in it a very small cake, on which the words\n",
      "\n",
      "‘EAT ME’ were beautifully marked in currants. ‘Well, I’ll eat it,’ said\n",
      "\n",
      "Alice, ‘and if it makes me grow larger, I can reach the key; and if it\n",
      "\n",
      "makes me grow smaller, I can creep under the door; so either way I’ll\n",
      "\n",
      "get into the garden, and I don’t care which happens!’\n",
      "\n",
      "\n",
      "\n",
      "She ate a little bit, and said anxiously to herself, ‘Which way? Which\n",
      "\n",
      "way?’, holding her hand on the top of her head to feel which way it was\n",
      "\n",
      "growing, and she was quite surprised to find that she remained the same\n",
      "\n",
      "size: to be sure, this generally happens when one eats cake, but Alice\n",
      "\n",
      "had got so much into the way of expecting nothing but out-of-the-way\n",
      "\n",
      "things to happen, that it seemed quite dull and stupid for life to go on\n",
      "\n",
      "in the common way.\n",
      "\n",
      "\n",
      "\n",
      "So she set to work, and very soon finished off the cake.\n",
      "\n",
      "\n",
      "\n",
      "  *    *    *    *    *    *    *\n",
      "\n",
      "\n",
      "\n",
      "    *    *    *    *    *    *\n",
      "\n",
      "\n",
      "\n",
      "  *    *    *    *    *    *    *\n"
     ]
    }
   ],
   "source": [
    "with open(\"Alice’s Adventures in Wonderland, by Lewis Carroll\", \n",
    "          encoding=\"utf8\") as fd:\n",
    "    for line in fd:\n",
    "        print(line)"
   ]
  },
  {
   "cell_type": "code",
   "execution_count": 111,
   "metadata": {},
   "outputs": [
    {
     "name": "stdout",
     "output_type": "stream",
     "text": [
      "True\n"
     ]
    }
   ],
   "source": [
    "print(fd.closed)"
   ]
  },
  {
   "cell_type": "code",
   "execution_count": 112,
   "metadata": {
    "scrolled": true
   },
   "outputs": [
    {
     "name": "stdout",
     "output_type": "stream",
     "text": [
      "CHAPTER I. Down the Rabbit-Hole\n",
      "\n",
      "\n",
      "\n",
      "Alice was beginning to get very tired of sitting by her sister on the\n",
      "\n",
      "bank, and of having nothing to do: once or twice she had peeped into the\n",
      "\n",
      "book her sister was reading, but it had no pictures or conversations in\n",
      "\n",
      "it, ‘and what is the use of a book,’ thought Alice ‘without pictures or\n",
      "\n",
      "conversations?’\n",
      "\n",
      "\n",
      "\n",
      "So she was considering in her own mind (as well as she could, for the\n",
      "\n",
      "hot day made her feel very sleepy and stupid), whether the pleasure\n",
      "\n",
      "of making a daisy-chain would be worth the trouble of getting up and\n",
      "\n",
      "picking the daisies, when suddenly a White Rabbit with pink eyes ran\n",
      "\n",
      "close by her.\n",
      "\n",
      "\n",
      "\n",
      "There was nothing so VERY remarkable in that; nor did Alice think it so\n",
      "\n",
      "VERY much out of the way to hear the Rabbit say to itself, ‘Oh dear!\n",
      "\n",
      "Oh dear! I shall be late!’ (when she thought it over afterwards, it\n",
      "\n",
      "occurred to her that she ought to have wondered at this, but at the time\n",
      "\n",
      "it all seemed quite natural); but when the Rabbit actually TOOK A WATCH\n",
      "\n",
      "OUT OF ITS WAISTCOAT-POCKET, and looked at it, and then hurried on,\n",
      "\n",
      "Alice started to her feet, for it flashed across her mind that she had\n",
      "\n",
      "never before seen a rabbit with either a waistcoat-pocket, or a watch\n",
      "\n",
      "to take out of it, and burning with curiosity, she ran across the field\n",
      "\n",
      "after it, and fortunately was just in time to see it pop down a large\n",
      "\n",
      "rabbit-hole under the hedge.\n",
      "\n",
      "\n",
      "\n",
      "In another moment down went Alice after it, never once considering how\n",
      "\n",
      "in the world she was to get out again.\n",
      "\n",
      "\n",
      "\n",
      "The rabbit-hole went straight on like a tunnel for some way, and then\n",
      "\n",
      "dipped suddenly down, so suddenly that Alice had not a moment to think\n",
      "\n",
      "about stopping herself before she found herself falling down a very deep\n",
      "\n",
      "well.\n",
      "\n",
      "\n",
      "\n",
      "Either the well was very deep, or she fell very slowly, for she had\n",
      "\n",
      "plenty of time as she went down to look about her and to wonder what was\n",
      "\n",
      "going to happen next. First, she tried to look down and make out what\n",
      "\n",
      "she was coming to, but it was too dark to see anything; then she\n",
      "\n",
      "looked at the sides of the well, and noticed that they were filled with\n",
      "\n",
      "cupboards and book-shelves; here and there she saw maps and pictures\n",
      "\n",
      "hung upon pegs. She took down a jar from one of the shelves as\n",
      "\n",
      "she passed; it was labelled ‘ORANGE MARMALADE’, but to her great\n",
      "\n",
      "disappointment it was empty: she did not like to drop the jar for fear\n",
      "\n",
      "of killing somebody, so managed to put it into one of the cupboards as\n",
      "\n",
      "she fell past it.\n",
      "\n",
      "\n",
      "\n",
      "‘Well!’ thought Alice to herself, ‘after such a fall as this, I shall\n",
      "\n",
      "think nothing of tumbling down stairs! How brave they’ll all think me at\n",
      "\n",
      "home! Why, I wouldn’t say anything about it, even if I fell off the top\n",
      "\n",
      "of the house!’ (Which was very likely true.)\n",
      "\n",
      "\n",
      "\n",
      "Down, down, down. Would the fall NEVER come to an end! ‘I wonder how\n",
      "\n",
      "many miles I’ve fallen by this time?’ she said aloud. ‘I must be getting\n",
      "\n",
      "somewhere near the centre of the earth. Let me see: that would be four\n",
      "\n",
      "thousand miles down, I think--’ (for, you see, Alice had learnt several\n",
      "\n",
      "things of this sort in her lessons in the schoolroom, and though this\n",
      "\n",
      "was not a VERY good opportunity for showing off her knowledge, as there\n",
      "\n",
      "was no one to listen to her, still it was good practice to say it over)\n",
      "\n",
      "‘--yes, that’s about the right distance--but then I wonder what Latitude\n",
      "\n",
      "or Longitude I’ve got to?’ (Alice had no idea what Latitude was, or\n",
      "\n",
      "Longitude either, but thought they were nice grand words to say.)\n",
      "\n",
      "\n",
      "\n",
      "Presently she began again. ‘I wonder if I shall fall right THROUGH the\n",
      "\n",
      "earth! How funny it’ll seem to come out among the people that walk with\n",
      "\n",
      "their heads downward! The Antipathies, I think--’ (she was rather glad\n",
      "\n",
      "there WAS no one listening, this time, as it didn’t sound at all the\n",
      "\n",
      "right word) ‘--but I shall have to ask them what the name of the country\n",
      "\n",
      "is, you know. Please, Ma’am, is this New Zealand or Australia?’ (and\n",
      "\n",
      "she tried to curtsey as she spoke--fancy CURTSEYING as you’re falling\n",
      "\n",
      "through the air! Do you think you could manage it?) ‘And what an\n",
      "\n",
      "ignorant little girl she’ll think me for asking! No, it’ll never do to\n",
      "\n",
      "ask: perhaps I shall see it written up somewhere.’\n",
      "\n",
      "\n",
      "\n",
      "Down, down, down. There was nothing else to do, so Alice soon began\n",
      "\n",
      "talking again. ‘Dinah’ll miss me very much to-night, I should think!’\n",
      "\n",
      "(Dinah was the cat.) ‘I hope they’ll remember her saucer of milk at\n",
      "\n",
      "tea-time. Dinah my dear! I wish you were down here with me! There are no\n",
      "\n",
      "mice in the air, I’m afraid, but you might catch a bat, and that’s very\n",
      "\n",
      "like a mouse, you know. But do cats eat bats, I wonder?’ And here Alice\n",
      "\n",
      "began to get rather sleepy, and went on saying to herself, in a dreamy\n",
      "\n",
      "sort of way, ‘Do cats eat bats? Do cats eat bats?’ and sometimes, ‘Do\n",
      "\n",
      "bats eat cats?’ for, you see, as she couldn’t answer either question,\n",
      "\n",
      "it didn’t much matter which way she put it. She felt that she was dozing\n",
      "\n",
      "off, and had just begun to dream that she was walking hand in hand with\n",
      "\n",
      "Dinah, and saying to her very earnestly, ‘Now, Dinah, tell me the truth:\n",
      "\n",
      "did you ever eat a bat?’ when suddenly, thump! thump! down she came upon\n",
      "\n",
      "a heap of sticks and dry leaves, and the fall was over.\n",
      "\n",
      "\n",
      "\n",
      "Alice was not a bit hurt, and she jumped up on to her feet in a moment:\n",
      "\n",
      "she looked up, but it was all dark overhead; before her was another\n",
      "\n",
      "long passage, and the White Rabbit was still in sight, hurrying down it.\n",
      "\n",
      "There was not a moment to be lost: away went Alice like the wind, and\n",
      "\n",
      "was just in time to hear it say, as it turned a corner, ‘Oh my ears\n",
      "\n",
      "and whiskers, how late it’s getting!’ She was close behind it when she\n",
      "\n",
      "turned the corner, but the Rabbit was no longer to be seen: she found\n",
      "\n",
      "herself in a long, low hall, which was lit up by a row of lamps hanging\n",
      "\n",
      "from the roof.\n",
      "\n",
      "\n",
      "\n",
      "There were doors all round the hall, but they were all locked; and when\n",
      "\n",
      "Alice had been all the way down one side and up the other, trying every\n",
      "\n",
      "door, she walked sadly down the middle, wondering how she was ever to\n",
      "\n",
      "get out again.\n",
      "\n",
      "\n",
      "\n",
      "Suddenly she came upon a little three-legged table, all made of solid\n",
      "\n",
      "glass; there was nothing on it except a tiny golden key, and Alice’s\n",
      "\n",
      "first thought was that it might belong to one of the doors of the hall;\n",
      "\n",
      "but, alas! either the locks were too large, or the key was too small,\n",
      "\n",
      "but at any rate it would not open any of them. However, on the second\n",
      "\n",
      "time round, she came upon a low curtain she had not noticed before, and\n",
      "\n",
      "behind it was a little door about fifteen inches high: she tried the\n",
      "\n",
      "little golden key in the lock, and to her great delight it fitted!\n",
      "\n",
      "\n",
      "\n",
      "Alice opened the door and found that it led into a small passage, not\n",
      "\n",
      "much larger than a rat-hole: she knelt down and looked along the passage\n",
      "\n",
      "into the loveliest garden you ever saw. How she longed to get out of\n",
      "\n",
      "that dark hall, and wander about among those beds of bright flowers and\n",
      "\n",
      "those cool fountains, but she could not even get her head through the\n",
      "\n",
      "doorway; ‘and even if my head would go through,’ thought poor Alice, ‘it\n",
      "\n",
      "would be of very little use without my shoulders. Oh, how I wish I could\n",
      "\n",
      "shut up like a telescope! I think I could, if I only knew how to begin.’\n",
      "\n",
      "For, you see, so many out-of-the-way things had happened lately,\n",
      "\n",
      "that Alice had begun to think that very few things indeed were really\n",
      "\n",
      "impossible.\n",
      "\n",
      "\n",
      "\n",
      "There seemed to be no use in waiting by the little door, so she went\n",
      "\n",
      "back to the table, half hoping she might find another key on it, or at\n",
      "\n",
      "any rate a book of rules for shutting people up like telescopes: this\n",
      "\n",
      "time she found a little bottle on it, [‘which certainly was not here\n",
      "\n",
      "before,’ said Alice,) and round the neck of the bottle was a paper\n",
      "\n",
      "label, with the words ‘DRINK ME’ beautifully printed on it in large\n",
      "\n",
      "letters.\n",
      "\n",
      "\n",
      "\n",
      "It was all very well to say ‘Drink me,’ but the wise little Alice was\n",
      "\n",
      "not going to do THAT in a hurry. ‘No, I’ll look first,’ she said, ‘and\n",
      "\n",
      "see whether it’s marked “poison” or not’; for she had read several nice\n",
      "\n",
      "little histories about children who had got burnt, and eaten up by wild\n",
      "\n",
      "beasts and other unpleasant things, all because they WOULD not remember\n",
      "\n",
      "the simple rules their friends had taught them: such as, that a red-hot\n",
      "\n",
      "poker will burn you if you hold it too long; and that if you cut your\n",
      "\n",
      "finger VERY deeply with a knife, it usually bleeds; and she had never\n",
      "\n",
      "forgotten that, if you drink much from a bottle marked ‘poison,’ it is\n",
      "\n",
      "almost certain to disagree with you, sooner or later.\n",
      "\n",
      "\n",
      "\n",
      "However, this bottle was NOT marked ‘poison,’ so Alice ventured to taste\n",
      "\n",
      "it, and finding it very nice, (it had, in fact, a sort of mixed flavour\n",
      "\n",
      "of cherry-tart, custard, pine-apple, roast turkey, toffee, and hot\n",
      "\n",
      "buttered toast,) she very soon finished it off.\n",
      "\n",
      "\n",
      "\n",
      "  *    *    *    *    *    *    *\n",
      "\n",
      "\n",
      "\n",
      "    *    *    *    *    *    *\n",
      "\n",
      "\n",
      "\n",
      "  *    *    *    *    *    *    *\n",
      "\n",
      "\n",
      "\n",
      "‘What a curious feeling!’ said Alice; ‘I must be shutting up like a\n",
      "\n",
      "telescope.’\n",
      "\n",
      "\n",
      "\n",
      "And so it was indeed: she was now only ten inches high, and her face\n",
      "\n",
      "brightened up at the thought that she was now the right size for going\n",
      "\n",
      "through the little door into that lovely garden. First, however, she\n",
      "\n",
      "waited for a few minutes to see if she was going to shrink any further:\n",
      "\n",
      "she felt a little nervous about this; ‘for it might end, you know,’ said\n",
      "\n",
      "Alice to herself, ‘in my going out altogether, like a candle. I wonder\n",
      "\n",
      "what I should be like then?’ And she tried to fancy what the flame of a\n",
      "\n",
      "candle is like after the candle is blown out, for she could not remember\n",
      "\n",
      "ever having seen such a thing.\n",
      "\n",
      "\n",
      "\n",
      "After a while, finding that nothing more happened, she decided on going\n",
      "\n",
      "into the garden at once; but, alas for poor Alice! when she got to the\n",
      "\n",
      "door, she found she had forgotten the little golden key, and when she\n",
      "\n",
      "went back to the table for it, she found she could not possibly reach\n",
      "\n",
      "it: she could see it quite plainly through the glass, and she tried her\n",
      "\n",
      "best to climb up one of the legs of the table, but it was too slippery;\n",
      "\n",
      "and when she had tired herself out with trying, the poor little thing\n",
      "\n",
      "sat down and cried.\n",
      "\n",
      "\n",
      "\n",
      "‘Come, there’s no use in crying like that!’ said Alice to herself,\n",
      "\n",
      "rather sharply; ‘I advise you to leave off this minute!’ She generally\n",
      "\n",
      "gave herself very good advice, (though she very seldom followed it),\n",
      "\n",
      "and sometimes she scolded herself so severely as to bring tears into\n",
      "\n",
      "her eyes; and once she remembered trying to box her own ears for having\n",
      "\n",
      "cheated herself in a game of croquet she was playing against herself,\n",
      "\n",
      "for this curious child was very fond of pretending to be two people.\n",
      "\n",
      "‘But it’s no use now,’ thought poor Alice, ‘to pretend to be two people!\n",
      "\n",
      "Why, there’s hardly enough of me left to make ONE respectable person!’\n",
      "\n",
      "\n",
      "\n",
      "Soon her eye fell on a little glass box that was lying under the table:\n",
      "\n",
      "she opened it, and found in it a very small cake, on which the words\n",
      "\n",
      "‘EAT ME’ were beautifully marked in currants. ‘Well, I’ll eat it,’ said\n",
      "\n",
      "Alice, ‘and if it makes me grow larger, I can reach the key; and if it\n",
      "\n",
      "makes me grow smaller, I can creep under the door; so either way I’ll\n",
      "\n",
      "get into the garden, and I don’t care which happens!’\n",
      "\n",
      "\n",
      "\n",
      "She ate a little bit, and said anxiously to herself, ‘Which way? Which\n",
      "\n",
      "way?’, holding her hand on the top of her head to feel which way it was\n",
      "\n",
      "growing, and she was quite surprised to find that she remained the same\n",
      "\n",
      "size: to be sure, this generally happens when one eats cake, but Alice\n",
      "\n",
      "had got so much into the way of expecting nothing but out-of-the-way\n",
      "\n",
      "things to happen, that it seemed quite dull and stupid for life to go on\n",
      "\n",
      "in the common way.\n",
      "\n",
      "\n",
      "\n",
      "So she set to work, and very soon finished off the cake.\n",
      "\n",
      "\n",
      "\n",
      "  *    *    *    *    *    *    *\n",
      "\n",
      "\n",
      "\n",
      "    *    *    *    *    *    *\n",
      "\n",
      "\n",
      "\n",
      "  *    *    *    *    *    *    *\n",
      "Ended first loop\n"
     ]
    }
   ],
   "source": [
    "with open(\"Alice’s Adventures in Wonderland, by Lewis Carroll\", \n",
    "          encoding=\"utf8\") as fd:\n",
    "    for line in fd:\n",
    "        print(line)\n",
    "    print(\"Ended first loop\")\n",
    "    for line in fd:\n",
    "        print(line)"
   ]
  },
  {
   "cell_type": "code",
   "execution_count": null,
   "metadata": {},
   "outputs": [],
   "source": []
  }
 ],
 "metadata": {
  "kernelspec": {
   "display_name": "Python 3",
   "language": "python",
   "name": "python3"
  },
  "language_info": {
   "codemirror_mode": {
    "name": "ipython",
    "version": 3
   },
   "file_extension": ".py",
   "mimetype": "text/x-python",
   "name": "python",
   "nbconvert_exporter": "python",
   "pygments_lexer": "ipython3",
   "version": "3.8.5"
  }
 },
 "nbformat": 4,
 "nbformat_minor": 4
}
