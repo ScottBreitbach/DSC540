{
 "cells": [
  {
   "cell_type": "markdown",
   "metadata": {},
   "source": [
    "# Scott Breitbach\n",
    "## 24-Feb-2021\n",
    "## DSC540, Weeks 11-12"
   ]
  },
  {
   "cell_type": "code",
   "execution_count": 1,
   "metadata": {},
   "outputs": [],
   "source": [
    "import sqlite3"
   ]
  },
  {
   "cell_type": "markdown",
   "metadata": {},
   "source": [
    "# Activity 11: Retrieving Data Correctly From Databases"
   ]
  },
  {
   "cell_type": "markdown",
   "metadata": {},
   "source": [
    "## 1) Connect to **petsDB** and check whether the connection has been successful."
   ]
  },
  {
   "cell_type": "code",
   "execution_count": 5,
   "metadata": {},
   "outputs": [
    {
     "name": "stdout",
     "output_type": "stream",
     "text": [
      "True\n"
     ]
    }
   ],
   "source": [
    "with sqlite3.connect('petsdb') as conn:\n",
    "    cursor = conn.cursor()\n",
    "#     rows = cursor.execute('PRAGMA foreign_keys = 1')\n",
    "    try:\n",
    "        conn.execute(\"SELECT * FROM persons\")\n",
    "        print(True)\n",
    "    except sqlite3.ProgrammingError as e:\n",
    "        print(f\"Error: {e}\")\n",
    "        print(False)\n",
    "conn.close()"
   ]
  },
  {
   "cell_type": "code",
   "execution_count": 6,
   "metadata": {},
   "outputs": [
    {
     "name": "stdout",
     "output_type": "stream",
     "text": [
      "Error: Cannot operate on a closed database.\n",
      "False\n"
     ]
    }
   ],
   "source": [
    "try:\n",
    "    conn.execute(\"SELECT * FROM persons\")\n",
    "    print(True)\n",
    "except sqlite3.ProgrammingError as e:\n",
    "    print(f\"Error: {e}\")\n",
    "    print(False)"
   ]
  },
  {
   "cell_type": "markdown",
   "metadata": {},
   "source": [
    "## 2) Find the different age groups in the persons database."
   ]
  },
  {
   "cell_type": "code",
   "execution_count": 14,
   "metadata": {},
   "outputs": [
    {
     "name": "stdout",
     "output_type": "stream",
     "text": [
      "Age 5:\t2 individual(s)\n",
      "Age 6:\t1 individual(s)\n",
      "Age 7:\t1 individual(s)\n",
      "Age 8:\t3 individual(s)\n",
      "Age 9:\t1 individual(s)\n",
      "Age 11:\t2 individual(s)\n",
      "Age 12:\t3 individual(s)\n",
      "Age 13:\t1 individual(s)\n",
      "Age 14:\t4 individual(s)\n",
      "Age 16:\t2 individual(s)\n",
      "Age 17:\t2 individual(s)\n",
      "Age 18:\t3 individual(s)\n",
      "Age 19:\t1 individual(s)\n",
      "Age 22:\t3 individual(s)\n",
      "Age 23:\t2 individual(s)\n",
      "Age 24:\t3 individual(s)\n",
      "Age 25:\t2 individual(s)\n",
      "Age 27:\t1 individual(s)\n",
      "Age 30:\t1 individual(s)\n",
      "Age 31:\t3 individual(s)\n",
      "Age 32:\t1 individual(s)\n",
      "Age 33:\t1 individual(s)\n",
      "Age 34:\t2 individual(s)\n",
      "Age 35:\t3 individual(s)\n",
      "Age 36:\t3 individual(s)\n",
      "Age 37:\t1 individual(s)\n",
      "Age 39:\t2 individual(s)\n",
      "Age 40:\t1 individual(s)\n",
      "Age 42:\t1 individual(s)\n",
      "Age 44:\t2 individual(s)\n",
      "Age 48:\t2 individual(s)\n",
      "Age 49:\t1 individual(s)\n",
      "Age 50:\t1 individual(s)\n",
      "Age 51:\t2 individual(s)\n",
      "Age 52:\t2 individual(s)\n",
      "Age 53:\t2 individual(s)\n",
      "Age 54:\t2 individual(s)\n",
      "Age 58:\t1 individual(s)\n",
      "Age 59:\t1 individual(s)\n",
      "Age 60:\t1 individual(s)\n",
      "Age 61:\t1 individual(s)\n",
      "Age 62:\t2 individual(s)\n",
      "Age 63:\t1 individual(s)\n",
      "Age 65:\t2 individual(s)\n",
      "Age 66:\t2 individual(s)\n",
      "Age 67:\t1 individual(s)\n",
      "Age 68:\t3 individual(s)\n",
      "Age 69:\t1 individual(s)\n",
      "Age 70:\t1 individual(s)\n",
      "Age 71:\t4 individual(s)\n",
      "Age 72:\t1 individual(s)\n",
      "Age 73:\t5 individual(s)\n",
      "Age 74:\t3 individual(s)\n"
     ]
    }
   ],
   "source": [
    "with sqlite3.connect('petsdb') as conn:\n",
    "    cursor = conn.cursor()\n",
    "    rows = cursor.execute(\"SELECT COUNT(*), age FROM persons GROUP BY age\")\n",
    "    for c, a in rows:\n",
    "        print(f\"Age {a}:\\t{c} individual(s)\")"
   ]
  },
  {
   "cell_type": "markdown",
   "metadata": {},
   "source": [
    "## 3) Find the age group that has the maximum number of people."
   ]
  },
  {
   "cell_type": "code",
   "execution_count": 23,
   "metadata": {},
   "outputs": [
    {
     "name": "stdout",
     "output_type": "stream",
     "text": [
      "Most people (5 total) were 73 years old.\n"
     ]
    }
   ],
   "source": [
    "with sqlite3.connect('petsdb') as conn:\n",
    "    cursor = conn.cursor()\n",
    "    rows = cursor.execute(\"SELECT COUNT(*), age FROM persons GROUP BY age ORDER BY count(*) DESC\")\n",
    "    for c, a in rows:\n",
    "        print(f\"Most people ({c} total) were {a} years old.\")\n",
    "        break"
   ]
  },
  {
   "cell_type": "markdown",
   "metadata": {},
   "source": [
    "## 4) Find the people who do not have a last name."
   ]
  },
  {
   "cell_type": "code",
   "execution_count": 25,
   "metadata": {},
   "outputs": [
    {
     "name": "stdout",
     "output_type": "stream",
     "text": [
      "(1, 'Erica', None, 22, 'south port', 2345678)\n",
      "(2, 'Jordi', None, 73, 'east port', 123456)\n",
      "(3, 'Chasity', None, 70, 'new port', 76856785)\n",
      "(4, 'Gregg', None, 31, 'new port', 76856785)\n",
      "(6, 'Cary', None, 73, 'new port', 76856785)\n",
      "(8, 'Francisca', None, 14, 'west port', 123456)\n",
      "(10, 'Raleigh', None, 68, 'new port', 2345678)\n",
      "(11, 'Maria', None, 42, 'west port', 123456)\n",
      "(12, 'Mariane', None, 62, 'south port', 9756543)\n",
      "(13, 'Mona', None, 44, 'south port', 76856785)\n",
      "(14, 'Kayla', None, 36, 'south port', 2345678)\n",
      "(15, 'Karlie', None, 35, 'west port', 123456)\n",
      "(16, 'Morris', None, 71, 'west port', 76856785)\n",
      "(17, 'Sandy', None, 23, 'east port', 2345678)\n",
      "(18, 'Hector', None, 63, 'east port', 9756543)\n",
      "(19, 'Hiram', None, 52, 'west port', 2345678)\n",
      "(20, 'Tressa', None, 59, 'new port', 123456)\n",
      "(21, 'Berry', None, 22, 'south port', 2345678)\n",
      "(22, 'Pearline', None, 73, 'new port', 9756543)\n",
      "(23, 'Maynard', None, 25, 'east port', 123456)\n",
      "(24, 'Dorian', None, 40, 'east port', 123456)\n",
      "(25, 'Mylene', None, 5, 'east port', 76856785)\n",
      "(26, 'Lafayette', None, 34, 'new port', 2345678)\n",
      "(29, 'Tara', None, 39, 'west port', 123456)\n",
      "(30, 'Destiny', None, 18, 'south port', 2345678)\n",
      "(31, 'Lesly', None, 31, 'west port', 123456)\n",
      "(32, 'Perry', None, 19, 'south port', 76856785)\n",
      "(35, 'Maritza', None, 73, 'east port', 9756543)\n",
      "(37, 'Grant', None, 61, 'east port', 76856785)\n",
      "(39, 'Laury', None, 17, 'east port', 9756543)\n",
      "(40, 'Name', None, 52, 'east port', 9756543)\n",
      "(41, 'Estefania', None, 32, 'new port', 76856785)\n",
      "(42, 'Destiney', None, 65, 'west port', 2345678)\n",
      "(43, 'Jaquelin', None, 73, 'west port', 9756543)\n",
      "(45, 'Alfonzo', None, 16, 'east port', 2345678)\n",
      "(46, 'Lisandro', None, 11, 'new port', 76856785)\n",
      "(49, 'Priscilla', None, 65, 'east port', 76856785)\n",
      "(50, 'Elenora', None, 11, 'new port', 76856785)\n",
      "(52, 'Rudolph', None, 14, 'east port', 76856785)\n",
      "(56, 'Ona', None, 35, 'east port', 9756543)\n",
      "(57, 'Rebeca', None, 50, 'new port', 76856785)\n",
      "(59, 'Sigurd', None, 12, 'west port', 76856785)\n",
      "(63, 'Alice', None, 8, 'west port', 76856785)\n",
      "(64, 'Dane', None, 24, 'west port', 9756543)\n",
      "(65, 'Judge', None, 17, 'south port', 76856785)\n",
      "(66, 'Allene', None, 9, 'new port', 9756543)\n",
      "(67, 'Jalen', None, 33, 'new port', 2345678)\n",
      "(70, 'Myron', None, 36, 'new port', 9756543)\n",
      "(73, 'Travon', None, 16, 'south port', 2345678)\n",
      "(74, 'Shayna', None, 60, 'new port', 2345678)\n",
      "(75, 'Myah', None, 14, 'east port', 2345678)\n",
      "(82, 'Letha', None, 44, 'new port', 9756543)\n",
      "(84, 'Felton', None, 74, 'east port', 2345678)\n",
      "(85, 'London', None, 66, 'east port', 9756543)\n",
      "(86, 'Koby', None, 31, 'west port', 9756543)\n",
      "(87, 'Golden', None, 35, 'east port', 76856785)\n",
      "(89, 'Anissa', None, 8, 'south port', 76856785)\n",
      "(91, 'Sid', None, 22, 'west port', 123456)\n",
      "(96, 'Ernesto', None, 69, 'east port', 9756543)\n",
      "(97, 'Josianne', None, 14, 'west port', 76856785)\n"
     ]
    }
   ],
   "source": [
    "with sqlite3.connect('petsdb') as conn:\n",
    "    cursor = conn.cursor()\n",
    "    rows = cursor.execute(\"SELECT * FROM persons WHERE last_name is Null\")\n",
    "    for row in rows:\n",
    "        print(row)"
   ]
  },
  {
   "cell_type": "markdown",
   "metadata": {},
   "source": [
    "## 5) Find out how many people have more than one pet."
   ]
  },
  {
   "cell_type": "code",
   "execution_count": 32,
   "metadata": {},
   "outputs": [
    {
     "name": "stdout",
     "output_type": "stream",
     "text": [
      "43 people have >1 pet.\n"
     ]
    }
   ],
   "source": [
    "with sqlite3.connect('petsdb') as conn:\n",
    "    cursor = conn.cursor()\n",
    "    sql = \"\"\"\n",
    "        SELECT count(*) FROM (SELECT count(owner_id) FROM pets \n",
    "        GROUP BY owner_id HAVING count(owner_id) >1)\n",
    "    \"\"\"\n",
    "    rows = cursor.execute(sql)\n",
    "    for row in rows:\n",
    "        print(f\"{row[0]} people have >1 pet.\")"
   ]
  },
  {
   "cell_type": "markdown",
   "metadata": {},
   "source": [
    "## 6) Find out how many pets have received treatment."
   ]
  },
  {
   "cell_type": "code",
   "execution_count": 39,
   "metadata": {},
   "outputs": [
    {
     "name": "stdout",
     "output_type": "stream",
     "text": [
      "36 out of 150 pets have been treated.\n"
     ]
    }
   ],
   "source": [
    "with sqlite3.connect('petsdb') as conn:\n",
    "    cursor = conn.cursor()\n",
    "    \n",
    "    # get number of treated pets\n",
    "    sql = \"SELECT count(*) FROM pets WHERE treatment_done=1\"\n",
    "    rows = cursor.execute(sql)\n",
    "    for row in rows:\n",
    "        treated = row[0]\n",
    "        \n",
    "    # get total number of pets\n",
    "    sql = \"SELECT count(*) FROM pets\"\n",
    "    rows = cursor.execute(sql)\n",
    "    for row in rows:\n",
    "        total = row[0]\n",
    "    \n",
    "    print(f\"{treated} out of {total} pets have been treated.\")"
   ]
  },
  {
   "cell_type": "markdown",
   "metadata": {},
   "source": [
    "## 7) Find out how many pets have received treatment *and* the type of pet is known."
   ]
  },
  {
   "cell_type": "code",
   "execution_count": 44,
   "metadata": {},
   "outputs": [
    {
     "name": "stdout",
     "output_type": "stream",
     "text": [
      "16 pets out of 68 with known type have been treated.\n"
     ]
    }
   ],
   "source": [
    "with sqlite3.connect('petsdb') as conn:\n",
    "    cursor = conn.cursor()\n",
    "    \n",
    "    # get number of treated pets of known type\n",
    "    sql = \"SELECT count(*) FROM pets WHERE treatment_done=1 AND pet_type IS NOT Null\"\n",
    "    rows = cursor.execute(sql)\n",
    "    for row in rows:\n",
    "        treatAndType = row[0]\n",
    "    \n",
    "    # get total number of pets with known type\n",
    "    sql = \"SELECT count(*) FROM pets WHERE pet_type IS NOT Null\"\n",
    "    rows = cursor.execute(sql)\n",
    "    for row in rows:\n",
    "        totalKnownType = row[0]    \n",
    "    \n",
    "    print(f\"{treatAndType} pets out of {totalKnownType} with known type have been treated.\")"
   ]
  },
  {
   "cell_type": "markdown",
   "metadata": {},
   "source": [
    "## 8) Find out how many pets are from the city called **east port**."
   ]
  },
  {
   "cell_type": "code",
   "execution_count": 54,
   "metadata": {},
   "outputs": [
    {
     "name": "stdout",
     "output_type": "stream",
     "text": [
      "There are 49 pets from the city called 'east port'.\n"
     ]
    }
   ],
   "source": [
    "with sqlite3.connect('petsdb') as conn:\n",
    "    cursor = conn.cursor()\n",
    "# For total number of people from 'east port':\n",
    "# SELECT count(*) FROM persons WHERE city='east port'\n",
    "    sql = \"\"\"\n",
    "        SELECT count(*) FROM pets\n",
    "        JOIN persons ON pets.owner_id = id\n",
    "        WHERE persons.city='east port'\n",
    "    \"\"\"    \n",
    "    rows = cursor.execute(sql)\n",
    "    for row in rows:\n",
    "        print(f\"There are {row[0]} pets from the city called 'east port'.\")"
   ]
  },
  {
   "cell_type": "markdown",
   "metadata": {},
   "source": [
    "## 9) Find out how many pets are from the city called **east port** *and* who received a treatment."
   ]
  },
  {
   "cell_type": "code",
   "execution_count": 56,
   "metadata": {},
   "outputs": [
    {
     "name": "stdout",
     "output_type": "stream",
     "text": [
      "There are 11 pets from 'east port' who received treatment.\n"
     ]
    }
   ],
   "source": [
    "with sqlite3.connect('petsdb') as conn:\n",
    "    cursor = conn.cursor()\n",
    "\n",
    "    sql = \"\"\"\n",
    "        SELECT count(*) FROM pets\n",
    "        JOIN persons ON pets.owner_id = id\n",
    "        WHERE persons.city='east port' AND pets.treatment_done=1\n",
    "    \"\"\"    \n",
    "    rows = cursor.execute(sql)\n",
    "    for row in rows:\n",
    "        print(f\"There are {row[0]} pets from 'east port' who received treatment.\")"
   ]
  },
  {
   "cell_type": "code",
   "execution_count": null,
   "metadata": {},
   "outputs": [],
   "source": []
  }
 ],
 "metadata": {
  "kernelspec": {
   "display_name": "Python 3",
   "language": "python",
   "name": "python3"
  },
  "language_info": {
   "codemirror_mode": {
    "name": "ipython",
    "version": 3
   },
   "file_extension": ".py",
   "mimetype": "text/x-python",
   "name": "python",
   "nbconvert_exporter": "python",
   "pygments_lexer": "ipython3",
   "version": "3.8.5"
  }
 },
 "nbformat": 4,
 "nbformat_minor": 4
}
