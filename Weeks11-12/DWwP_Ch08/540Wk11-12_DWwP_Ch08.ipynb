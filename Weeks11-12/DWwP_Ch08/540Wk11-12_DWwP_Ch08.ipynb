{
 "cells": [
  {
   "cell_type": "markdown",
   "metadata": {},
   "source": [
    "# DWwP, Ch 8: RDBMS and SQL\n",
    "Learning Objectives\n",
    "* Apply the basics of RDBMS to query databases using Python\n",
    "* Convert data from SQL into a pandas DF"
   ]
  },
  {
   "cell_type": "code",
   "execution_count": 1,
   "metadata": {},
   "outputs": [],
   "source": [
    "                                                                                                                                                                                                                                                                                                                                                                                                                                                                                                                                                                                                                                                                                                                                                                                                                                                                                                                                                                                                                                                                                                                                                                                                                                                                                                                                                                                                                                                                                                                                                                                                                                                                                                                                                                                                                                                                                                                                                                                                                                                                                                                                                                                                                                                                                                                                                                                                                                                                                                                                                                                                                                                                                                                                                                                                                                                                                                                                                                                                                                                                                                                                                                                                                                                                                                                                                                                                                                                                                import sqlite3"
   ]
  },
  {
   "cell_type": "markdown",
   "metadata": {},
   "source": [
    "## Using an RDBMS (MySQL/PostgreSQL/SQLite)"
   ]
  },
  {
   "cell_type": "markdown",
   "metadata": {},
   "source": [
    "### Exercise 107: Connecting to Database in SQLite\n",
    "Connect to a DB and close the connection."
   ]
  },
  {
   "cell_type": "markdown",
   "metadata": {},
   "source": [
    "#### 1) Impor the **sqlite3** library of Python by using the following command:"
   ]
  },
  {
   "cell_type": "code",
   "execution_count": 2,
   "metadata": {},
   "outputs": [],
   "source": [
    "import sqlite3"
   ]
  },
  {
   "cell_type": "markdown",
   "metadata": {},
   "source": [
    "#### 2) Use `.connect()` to connect to a DB.\n",
    "Note: we are note using any **server address, user name, password** or other creds to connect. These fields are not required in **sqlite3**, unlike **Postgresql** or **MySQL**."
   ]
  },
  {
   "cell_type": "code",
   "execution_count": 3,
   "metadata": {},
   "outputs": [],
   "source": [
    "conn = sqlite3.connect(\"chapter.db\")"
   ]
  },
  {
   "cell_type": "markdown",
   "metadata": {},
   "source": [
    "#### 3) Close the connection:"
   ]
  },
  {
   "cell_type": "code",
   "execution_count": 4,
   "metadata": {},
   "outputs": [],
   "source": [
    "conn.close()"
   ]
  },
  {
   "cell_type": "markdown",
   "metadata": {},
   "source": [
    "**conn** is the main connection object. We'll need a second type of object to interact with the DB."
   ]
  },
  {
   "cell_type": "markdown",
   "metadata": {},
   "source": [
    "#### 4) Use the `with` statement, like we did for files:"
   ]
  },
  {
   "cell_type": "code",
   "execution_count": 5,
   "metadata": {},
   "outputs": [],
   "source": [
    "with sqlite3.connect(\"chapter.db\") as conn:\n",
    "    pass"
   ]
  },
  {
   "cell_type": "markdown",
   "metadata": {},
   "source": [
    "### Exercise 108: DDL and DML Commands in SQLite\n",
    "Create and insert data into a table."
   ]
  },
  {
   "cell_type": "markdown",
   "metadata": {},
   "source": [
    "#### 1) Use SQLite's `.connect()`fuction to connect to the **chapter.db** DB:"
   ]
  },
  {
   "cell_type": "code",
   "execution_count": 6,
   "metadata": {},
   "outputs": [],
   "source": [
    "# with sqlite3.connect(\"chapter.db\") as conn:"
   ]
  },
  {
   "cell_type": "markdown",
   "metadata": {},
   "source": [
    "#### 2) Create a cursor object by calling `conn.cursor()`. This acts as a medium to communicate with the DB. Create a table in Python:"
   ]
  },
  {
   "cell_type": "code",
   "execution_count": 7,
   "metadata": {},
   "outputs": [],
   "source": [
    "# cursor = conn.cursor()\n",
    "# cursor.execute(\"CREATE TABLE IF NONE EXISTS user (email text, first_name text, last_name text, address text, age integer, PRIMARY KEY (email))\")"
   ]
  },
  {
   "cell_type": "markdown",
   "metadata": {},
   "source": [
    "#### 3) Insert rows into the DB that you created:"
   ]
  },
  {
   "cell_type": "code",
   "execution_count": 8,
   "metadata": {},
   "outputs": [],
   "source": [
    "# cursor.execute(\"INSERT INTO user VALUES ('bob@example.com', 'Bob', 'Codd', '123 Fantasy Lane, Fantasy City', 31)\")\n",
    "# cursor.execute(\"INSERT INTO user VALUES ('tom@web.com', 'Tom', 'Fake', '456 Fantasy Lane, Fantasu City', 39 )\")"
   ]
  },
  {
   "cell_type": "markdown",
   "metadata": {},
   "source": [
    "#### 4) Commit to the DB:"
   ]
  },
  {
   "cell_type": "code",
   "execution_count": 9,
   "metadata": {},
   "outputs": [],
   "source": [
    "# conn.commit()"
   ]
  },
  {
   "cell_type": "markdown",
   "metadata": {},
   "source": [
    "#### Put it all together:\n",
    "This will create the table and write two rows to it with data."
   ]
  },
  {
   "cell_type": "code",
   "execution_count": 10,
   "metadata": {},
   "outputs": [],
   "source": [
    "with sqlite3.connect(\"chapter.db\") as conn:\n",
    "    cursor = conn.cursor()\n",
    "    cursor.execute(\"CREATE TABLE IF NOT EXISTS user (email text, first_name text, last_name text, address text, age integer, PRIMARY KEY (email))\")\n",
    "    \n",
    "    cursor.execute(\"INSERT INTO user VALUES ('bob@example.com', 'Bob', 'Codd', '123 Fantasy Lane, Fantasy City', 31)\")\n",
    "    cursor.execute(\"INSERT INTO user VALUES ('tom@web.com', 'Tom', 'Fake', '456 Fantasy Lane, Fantasu City', 39 )\")\n",
    "    \n",
    "    conn.commit()"
   ]
  },
  {
   "cell_type": "markdown",
   "metadata": {},
   "source": [
    "### Reading Data from a Database in SQLite"
   ]
  },
  {
   "cell_type": "markdown",
   "metadata": {},
   "source": [
    "#### Use the **SELECT** clause in SQL to retrieve data:"
   ]
  },
  {
   "cell_type": "code",
   "execution_count": 11,
   "metadata": {},
   "outputs": [
    {
     "name": "stdout",
     "output_type": "stream",
     "text": [
      "('bob@example.com', 'Bob', 'Codd', '123 Fantasy Lane, Fantasy City', 31)\n",
      "('tom@web.com', 'Tom', 'Fake', '456 Fantasy Lane, Fantasu City', 39)\n"
     ]
    }
   ],
   "source": [
    "with sqlite3.connect(\"chapter.db\") as conn:\n",
    "    cursor = conn.cursor()\n",
    "    rows = cursor.execute('SELECT * FROM user')\n",
    "    for row in rows:\n",
    "        print(row)"
   ]
  },
  {
   "cell_type": "markdown",
   "metadata": {},
   "source": [
    "#### Use the SELECT clause with a **LIMIT**:"
   ]
  },
  {
   "cell_type": "code",
   "execution_count": 12,
   "metadata": {},
   "outputs": [
    {
     "name": "stdout",
     "output_type": "stream",
     "text": [
      "('bob@example.com', 'Bob', 'Codd', '123 Fantasy Lane, Fantasy City', 31)\n",
      "('tom@web.com', 'Tom', 'Fake', '456 Fantasy Lane, Fantasu City', 39)\n"
     ]
    }
   ],
   "source": [
    "with sqlite3.connect(\"chapter.db\") as conn:\n",
    "    cursor = conn.cursor()\n",
    "    rows = cursor.execute('SELECT * FROM user LIMIT 50')\n",
    "    for row in rows:\n",
    "        print(row)"
   ]
  },
  {
   "cell_type": "markdown",
   "metadata": {},
   "source": [
    "### Exercise 109: Sorting Values that are Present in the Database\n",
    "Use the **ORDER BY** clause to sor the rows of *user* table by age."
   ]
  },
  {
   "cell_type": "markdown",
   "metadata": {},
   "source": [
    "#### 1) Sort the **chapter.db** by **age** in descending order:"
   ]
  },
  {
   "cell_type": "code",
   "execution_count": 13,
   "metadata": {},
   "outputs": [
    {
     "name": "stdout",
     "output_type": "stream",
     "text": [
      "('tom@web.com', 'Tom', 'Fake', '456 Fantasy Lane, Fantasu City', 39)\n",
      "('bob@example.com', 'Bob', 'Codd', '123 Fantasy Lane, Fantasy City', 31)\n"
     ]
    }
   ],
   "source": [
    "with sqlite3.connect(\"chapter.db\") as conn:\n",
    "    cursor = conn.cursor()\n",
    "    rows = cursor.execute('SELECT * FROM user ORDER BY age DESC')\n",
    "    for row in rows:\n",
    "        print(row)"
   ]
  },
  {
   "cell_type": "markdown",
   "metadata": {},
   "source": [
    "#### 2) Sort the **chapter.db** by **age** in ascending order:"
   ]
  },
  {
   "cell_type": "code",
   "execution_count": 14,
   "metadata": {},
   "outputs": [
    {
     "name": "stdout",
     "output_type": "stream",
     "text": [
      "('bob@example.com', 'Bob', 'Codd', '123 Fantasy Lane, Fantasy City', 31)\n",
      "('tom@web.com', 'Tom', 'Fake', '456 Fantasy Lane, Fantasu City', 39)\n"
     ]
    }
   ],
   "source": [
    "with sqlite3.connect(\"chapter.db\") as conn:\n",
    "    cursor = conn.cursor()\n",
    "    rows = cursor.execute('SELECT * FROM user ORDER BY age')\n",
    "    for row in rows:\n",
    "        print(row)"
   ]
  },
  {
   "cell_type": "markdown",
   "metadata": {},
   "source": [
    "### Exercise 110: Altering the Structure of a Table and Updating the New Fields\n",
    "Use **ALTER** to add a column.  \n",
    "Use **UPDATE** to edit/update any row after it has been inserted.  \n",
    "Be careful, because UPDATE w/o selective clauses (like WHERE) affects the entire table."
   ]
  },
  {
   "cell_type": "markdown",
   "metadata": {},
   "source": [
    "#### 1) Establish a connection with the DB:"
   ]
  },
  {
   "cell_type": "code",
   "execution_count": 15,
   "metadata": {},
   "outputs": [],
   "source": [
    "# with sqlite3.connect('chapter.db') as conn:\n",
    "#     cursor = conn.cursor()"
   ]
  },
  {
   "cell_type": "markdown",
   "metadata": {},
   "source": [
    "#### 2) Add a column in the *user* table and fill it with *null* values:"
   ]
  },
  {
   "cell_type": "code",
   "execution_count": 16,
   "metadata": {},
   "outputs": [],
   "source": [
    "# cursor.execute(\"ALTER TABLE user ADD COLUMN gender text\")"
   ]
  },
  {
   "cell_type": "markdown",
   "metadata": {},
   "source": [
    "#### 3) Update all of the values of *gender* so that they are **M**:"
   ]
  },
  {
   "cell_type": "code",
   "execution_count": 17,
   "metadata": {},
   "outputs": [],
   "source": [
    "# cursor.execute(\"UPDATE user SET gender='M'\")\n",
    "# conn.commit()"
   ]
  },
  {
   "cell_type": "markdown",
   "metadata": {},
   "source": [
    "#### 4) Check the altered table:"
   ]
  },
  {
   "cell_type": "code",
   "execution_count": 18,
   "metadata": {},
   "outputs": [],
   "source": [
    "# rows = cursor.execute('SELECT * FROM user')\n",
    "# for row in rows:\n",
    "#     print(row)"
   ]
  },
  {
   "cell_type": "markdown",
   "metadata": {},
   "source": [
    "#### Put it all together"
   ]
  },
  {
   "cell_type": "code",
   "execution_count": 19,
   "metadata": {},
   "outputs": [
    {
     "name": "stdout",
     "output_type": "stream",
     "text": [
      "('bob@example.com', 'Bob', 'Codd', '123 Fantasy Lane, Fantasy City', 31, 'M')\n",
      "('tom@web.com', 'Tom', 'Fake', '456 Fantasy Lane, Fantasu City', 39, 'M')\n"
     ]
    }
   ],
   "source": [
    "with sqlite3.connect('chapter.db') as conn:\n",
    "    cursor = conn.cursor()\n",
    "    cursor.execute(\"ALTER TABLE user ADD COLUMN gender text\")\n",
    "    cursor.execute(\"UPDATE user SET gender='M'\")\n",
    "    conn.commit()\n",
    "    rows = cursor.execute('SELECT * FROM user')\n",
    "    for row in rows:\n",
    "        print(row)"
   ]
  },
  {
   "cell_type": "markdown",
   "metadata": {},
   "source": [
    "### Exercise 111: Grouping Values in Tables\n",
    "Add female users to the table and group based on gender."
   ]
  },
  {
   "cell_type": "markdown",
   "metadata": {},
   "source": [
    "#### 1) Add a female user to the table:"
   ]
  },
  {
   "cell_type": "code",
   "execution_count": 20,
   "metadata": {},
   "outputs": [],
   "source": [
    "# cursor.execute(\"INSERT INTO user VALUES ('shelly@www.com', 'Shelly', 'Milar', '123 Ocean View Lane', 39, 'F')\")"
   ]
  },
  {
   "cell_type": "code",
   "execution_count": 21,
   "metadata": {},
   "outputs": [],
   "source": [
    "with sqlite3.connect(\"chapter.db\") as conn:\n",
    "    cursor = conn.cursor()\n",
    "    cursor.execute(\"INSERT INTO user VALUES ('shelly@www.com', 'Shelly', 'Milar', '123, Ocean View Lane', 39, 'F')\")\n",
    "    conn.commit()"
   ]
  },
  {
   "cell_type": "markdown",
   "metadata": {},
   "source": [
    "#### 2) See the count by each gender:"
   ]
  },
  {
   "cell_type": "code",
   "execution_count": 22,
   "metadata": {},
   "outputs": [],
   "source": [
    "# rows = cursor.execute(\"SELECT COUNT(*), gender FROM user GROUP BY gender\")\n",
    "# for row in rows: \n",
    "#     print(row)"
   ]
  },
  {
   "cell_type": "code",
   "execution_count": 23,
   "metadata": {},
   "outputs": [
    {
     "name": "stdout",
     "output_type": "stream",
     "text": [
      "(1, 'F')\n",
      "(2, 'M')\n"
     ]
    }
   ],
   "source": [
    "with sqlite3.connect(\"chapter.db\") as conn:\n",
    "    cursor = conn.cursor()\n",
    "    rows = cursor.execute(\"SELECT COUNT(*), gender FROM user GROUP BY gender\")\n",
    "    for row in rows:\n",
    "        print(row)"
   ]
  },
  {
   "cell_type": "markdown",
   "metadata": {},
   "source": [
    "### Relation Mapping in DBs\n",
    "Create a table called **comments** and link it with the *user* table in a 1:N relationship by adding the **user** table's *primary key* as a *foreign key* in the **comments** table.  \n",
    "#### Use **ON DELETE** to tell the engine what to do with the rows when the parent row gets deleted:"
   ]
  },
  {
   "cell_type": "code",
   "execution_count": 20,
   "metadata": {},
   "outputs": [],
   "source": [
    "# with sqlite3.connect(\"chapter.db\") as conn:\n",
    "#     cursor = conn.cursor()\n",
    "#     conn.commit()\n",
    "# #     conn.close()"
   ]
  },
  {
   "cell_type": "code",
   "execution_count": 14,
   "metadata": {},
   "outputs": [],
   "source": [
    "# conn.commit()"
   ]
  },
  {
   "cell_type": "code",
   "execution_count": 16,
   "metadata": {},
   "outputs": [],
   "source": [
    "# conn.close()"
   ]
  },
  {
   "cell_type": "code",
   "execution_count": 24,
   "metadata": {},
   "outputs": [],
   "source": [
    "with sqlite3.connect(\"chapter.db\") as conn:\n",
    "    cursor = conn.cursor()\n",
    "    rows = cursor.execute('PRAGMA foreign_keys = 1')\n",
    "    sql = \"\"\"\n",
    "        CREATE TABLE comments (\n",
    "            user_id text,\n",
    "            comments text,\n",
    "            FOREIGN KEY (user_id) REFERENCES user (email)\n",
    "            ON DELETE CASCADE ON UPDATE NO ACTION\n",
    "        )\n",
    "    \"\"\"\n",
    "    cursor.execute(sql)\n",
    "    conn.commit()"
   ]
  },
  {
   "cell_type": "code",
   "execution_count": null,
   "metadata": {},
   "outputs": [],
   "source": []
  },
  {
   "cell_type": "markdown",
   "metadata": {},
   "source": [
    "### Adding Rows in the comments table\n",
    "#### We have created a table called comments. Now dynamically generate an insert query:"
   ]
  },
  {
   "cell_type": "code",
   "execution_count": 25,
   "metadata": {},
   "outputs": [
    {
     "name": "stdout",
     "output_type": "stream",
     "text": [
      "Going to create rows for bob@example.com\n",
      "Going to create rows for tom@web.com\n",
      "Going to create rows for shelly@www.com\n"
     ]
    }
   ],
   "source": [
    "with sqlite3.connect(\"chapter.db\") as conn:\n",
    "    cursor = conn.cursor()\n",
    "    cursor.execute(\"PRAGMA foreign_keys = 1\")\n",
    "    sql = \"INSERT INTO comments VALUES ('{}', '{}')\"\n",
    "    rows = cursor.execute('SELECT * FROM user ORDER BY age')\n",
    "    for row in rows:\n",
    "        email = row[0]\n",
    "        print(f\"Going to create rows for {email}\")\n",
    "        name = row[1] + \" \" + row[2]\n",
    "        for i in range(10):\n",
    "            comment = f\"This is comment{i} by {name}\"\n",
    "            conn.cursor().execute(sql.format(email, comment))\n",
    "    conn.commit()"
   ]
  },
  {
   "cell_type": "code",
   "execution_count": null,
   "metadata": {},
   "outputs": [],
   "source": []
  },
  {
   "cell_type": "markdown",
   "metadata": {},
   "source": [
    "## Joins"
   ]
  },
  {
   "cell_type": "markdown",
   "metadata": {},
   "source": [
    "#### Get comments from just Bob:"
   ]
  },
  {
   "cell_type": "code",
   "execution_count": 26,
   "metadata": {},
   "outputs": [
    {
     "name": "stdout",
     "output_type": "stream",
     "text": [
      "('bob@example.com', 'This is comment0 by Bob Codd', 'bob@example.com', 'Bob', 'Codd', '123 Fantasy Lane, Fantasy City', 31, 'M')\n",
      "('bob@example.com', 'This is comment1 by Bob Codd', 'bob@example.com', 'Bob', 'Codd', '123 Fantasy Lane, Fantasy City', 31, 'M')\n",
      "('bob@example.com', 'This is comment2 by Bob Codd', 'bob@example.com', 'Bob', 'Codd', '123 Fantasy Lane, Fantasy City', 31, 'M')\n",
      "('bob@example.com', 'This is comment3 by Bob Codd', 'bob@example.com', 'Bob', 'Codd', '123 Fantasy Lane, Fantasy City', 31, 'M')\n",
      "('bob@example.com', 'This is comment4 by Bob Codd', 'bob@example.com', 'Bob', 'Codd', '123 Fantasy Lane, Fantasy City', 31, 'M')\n",
      "('bob@example.com', 'This is comment5 by Bob Codd', 'bob@example.com', 'Bob', 'Codd', '123 Fantasy Lane, Fantasy City', 31, 'M')\n",
      "('bob@example.com', 'This is comment6 by Bob Codd', 'bob@example.com', 'Bob', 'Codd', '123 Fantasy Lane, Fantasy City', 31, 'M')\n",
      "('bob@example.com', 'This is comment7 by Bob Codd', 'bob@example.com', 'Bob', 'Codd', '123 Fantasy Lane, Fantasy City', 31, 'M')\n",
      "('bob@example.com', 'This is comment8 by Bob Codd', 'bob@example.com', 'Bob', 'Codd', '123 Fantasy Lane, Fantasy City', 31, 'M')\n",
      "('bob@example.com', 'This is comment9 by Bob Codd', 'bob@example.com', 'Bob', 'Codd', '123 Fantasy Lane, Fantasy City', 31, 'M')\n"
     ]
    }
   ],
   "source": [
    "with sqlite3.connect('chapter.db') as conn:\n",
    "    cursor = conn.cursor()\n",
    "    cursor.execute(\"PRAGMA foreign_keys = 1\")    \n",
    "    sql = \"\"\"\n",
    "        SELECT * FROM comments\n",
    "        JOIN user ON comments.user_id = user.email\n",
    "        WHERE user.email='bob@example.com'\n",
    "    \"\"\"\n",
    "    rows = cursor.execute(sql)\n",
    "    for row in rows:\n",
    "        print(row)"
   ]
  },
  {
   "cell_type": "markdown",
   "metadata": {},
   "source": [
    "### Retrieving Specific Columns from a JOIN query\n",
    "#### Change the SELECT statement to retrieve only emails and comments:"
   ]
  },
  {
   "cell_type": "code",
   "execution_count": 27,
   "metadata": {},
   "outputs": [
    {
     "name": "stdout",
     "output_type": "stream",
     "text": [
      "('bob@example.com', 'This is comment0 by Bob Codd')\n",
      "('bob@example.com', 'This is comment1 by Bob Codd')\n",
      "('bob@example.com', 'This is comment2 by Bob Codd')\n",
      "('bob@example.com', 'This is comment3 by Bob Codd')\n",
      "('bob@example.com', 'This is comment4 by Bob Codd')\n",
      "('bob@example.com', 'This is comment5 by Bob Codd')\n",
      "('bob@example.com', 'This is comment6 by Bob Codd')\n",
      "('bob@example.com', 'This is comment7 by Bob Codd')\n",
      "('bob@example.com', 'This is comment8 by Bob Codd')\n",
      "('bob@example.com', 'This is comment9 by Bob Codd')\n"
     ]
    }
   ],
   "source": [
    "with sqlite3.connect('chapter.db') as conn:\n",
    "    cursor = conn.cursor()\n",
    "    cursor.execute(\"PRAGMA foreign_keys = 1\")    \n",
    "    sql = \"\"\"\n",
    "        SELECT comments.* FROM comments\n",
    "        JOIN user ON comments.user_id = user.email\n",
    "        WHERE user.email='bob@example.com'\n",
    "    \"\"\"\n",
    "    rows = cursor.execute(sql)\n",
    "    for row in rows:\n",
    "        print(row)"
   ]
  },
  {
   "cell_type": "markdown",
   "metadata": {},
   "source": [
    "### Exercise 112: Deleting Rows\n",
    "Delete a row form the user table and see the effect on the comments table."
   ]
  },
  {
   "cell_type": "markdown",
   "metadata": {},
   "source": [
    "#### 1) Use the **DELETE** clause in SQL to delete a row from the *user* table:"
   ]
  },
  {
   "cell_type": "code",
   "execution_count": 28,
   "metadata": {},
   "outputs": [],
   "source": [
    "with sqlite3.connect('chapter.db') as conn:\n",
    "    cursor = conn.cursor()\n",
    "    cursor.execute(\"PRAGMA foreign_keys = 1\") \n",
    "    cursor.execute(\"DELETE FROM user WHERE email='bob@example.com'\")\n",
    "    conn.commit()"
   ]
  },
  {
   "cell_type": "markdown",
   "metadata": {},
   "source": [
    "#### 2) Use the **SELECT** operation on the *user* table:"
   ]
  },
  {
   "cell_type": "code",
   "execution_count": 29,
   "metadata": {},
   "outputs": [
    {
     "name": "stdout",
     "output_type": "stream",
     "text": [
      "('tom@web.com', 'Tom', 'Fake', '456 Fantasy Lane, Fantasu City', 39, 'M')\n",
      "('shelly@www.com', 'Shelly', 'Milar', '123, Ocean View Lane', 39, 'F')\n"
     ]
    }
   ],
   "source": [
    "with sqlite3.connect('chapter.db') as conn:\n",
    "    cursor = conn.cursor()\n",
    "    cursor.execute(\"PRAGMA foreign_keys = 1\") \n",
    "    rows = cursor.execute(\"SELECT * FROM user\")\n",
    "    for row in rows:\n",
    "        print(row)"
   ]
  },
  {
   "cell_type": "markdown",
   "metadata": {},
   "source": [
    "Notice user Bob has been deleted.  \n",
    "Check the *comments* table to see that Bob's comments were removed."
   ]
  },
  {
   "cell_type": "markdown",
   "metadata": {},
   "source": [
    "#### 3) Use the **SELECT** operation on the *user* table:"
   ]
  },
  {
   "cell_type": "code",
   "execution_count": 30,
   "metadata": {},
   "outputs": [
    {
     "name": "stdout",
     "output_type": "stream",
     "text": [
      "('tom@web.com', 'This is comment0 by Tom Fake')\n",
      "('tom@web.com', 'This is comment1 by Tom Fake')\n",
      "('tom@web.com', 'This is comment2 by Tom Fake')\n",
      "('tom@web.com', 'This is comment3 by Tom Fake')\n",
      "('tom@web.com', 'This is comment4 by Tom Fake')\n",
      "('tom@web.com', 'This is comment5 by Tom Fake')\n",
      "('tom@web.com', 'This is comment6 by Tom Fake')\n",
      "('tom@web.com', 'This is comment7 by Tom Fake')\n",
      "('tom@web.com', 'This is comment8 by Tom Fake')\n",
      "('tom@web.com', 'This is comment9 by Tom Fake')\n",
      "('shelly@www.com', 'This is comment0 by Shelly Milar')\n",
      "('shelly@www.com', 'This is comment1 by Shelly Milar')\n",
      "('shelly@www.com', 'This is comment2 by Shelly Milar')\n",
      "('shelly@www.com', 'This is comment3 by Shelly Milar')\n",
      "('shelly@www.com', 'This is comment4 by Shelly Milar')\n",
      "('shelly@www.com', 'This is comment5 by Shelly Milar')\n",
      "('shelly@www.com', 'This is comment6 by Shelly Milar')\n",
      "('shelly@www.com', 'This is comment7 by Shelly Milar')\n",
      "('shelly@www.com', 'This is comment8 by Shelly Milar')\n",
      "('shelly@www.com', 'This is comment9 by Shelly Milar')\n"
     ]
    }
   ],
   "source": [
    "with sqlite3.connect('chapter.db') as conn:\n",
    "    cursor = conn.cursor()\n",
    "    cursor.execute(\"PRAGMA foreign_keys = 1\") \n",
    "    rows = cursor.execute(\"SELECT * FROM comments\")\n",
    "    for row in rows:\n",
    "        print(row)"
   ]
  },
  {
   "cell_type": "markdown",
   "metadata": {},
   "source": [
    "### Updating Specific Values in a Table\n",
    "#### Combine UPDATE with WHERE to selectively update the first name f hte user iwth the email address tom@web.com:"
   ]
  },
  {
   "cell_type": "code",
   "execution_count": 31,
   "metadata": {},
   "outputs": [
    {
     "name": "stdout",
     "output_type": "stream",
     "text": [
      "('tom@web.com', 'Chris', 'Fake', '456 Fantasy Lane, Fantasu City', 39, 'M')\n",
      "('shelly@www.com', 'Shelly', 'Milar', '123, Ocean View Lane', 39, 'F')\n"
     ]
    }
   ],
   "source": [
    "with sqlite3.connect('chapter.db') as conn:\n",
    "    cursor = conn.cursor()\n",
    "    cursor.execute(\"PRAGMA foreign_keys = 1\") \n",
    "    cursor.execute(\"UPDATE user set first_name='Chris' where email='tom@web.com'\")\n",
    "    conn.commit()\n",
    "    rows = cursor.execute(\"SELECT * FROM user\")\n",
    "    for row in rows:\n",
    "        print(row)"
   ]
  },
  {
   "cell_type": "markdown",
   "metadata": {},
   "source": [
    "### Exercise 113: RDBMS and DataFrames\n",
    "Convert our data to a DF."
   ]
  },
  {
   "cell_type": "markdown",
   "metadata": {},
   "source": [
    "#### 1) Import pandas:"
   ]
  },
  {
   "cell_type": "code",
   "execution_count": 32,
   "metadata": {},
   "outputs": [],
   "source": [
    "import pandas as pd"
   ]
  },
  {
   "cell_type": "markdown",
   "metadata": {},
   "source": [
    "#### 2) Create a columns list with email, first name, last name, age, gender, comments.  Also create an empty data list:"
   ]
  },
  {
   "cell_type": "code",
   "execution_count": 33,
   "metadata": {},
   "outputs": [],
   "source": [
    "columns = ['Email', 'First Name', 'Last Name', 'Age', 'Gender', 'Comments']\n",
    "data = []"
   ]
  },
  {
   "cell_type": "markdown",
   "metadata": {},
   "source": [
    "#### 3) Connect to **chapter.db** using SQLite and obtain a cursor:\n",
    "#### 4) Create a **sql** variable that will contain the SELECT command and use the JOIN command to join the DBs:\n",
    "#### 5) Use the `.execute()` method of cursor to execute the **sql** command:\n",
    "#### 6) Append the rows to the data list:"
   ]
  },
  {
   "cell_type": "code",
   "execution_count": 34,
   "metadata": {},
   "outputs": [],
   "source": [
    "# 3\n",
    "with sqlite3.connect('chapter.db') as conn:\n",
    "    cursor = conn.cursor()\n",
    "    cursor.execute(\"PRAGMA foreign_keys = 1\")\n",
    "# 4\n",
    "    sql = \"\"\"\n",
    "        SELECT user.email, user.first_name, user.last_name, user.age, user.gender, comments.comments FROM comments\n",
    "        JOIN user ON comments.user_id = user.email\n",
    "        WHERE user.email = 'tom@web.com'\n",
    "    \"\"\"\n",
    "# 5\n",
    "    rows = cursor.execute(sql)\n",
    "# 6\n",
    "    for row in rows:\n",
    "        data.append(row)    "
   ]
  },
  {
   "cell_type": "markdown",
   "metadata": {},
   "source": [
    "#### 7) Create a DF using the data list:"
   ]
  },
  {
   "cell_type": "code",
   "execution_count": 35,
   "metadata": {},
   "outputs": [
    {
     "data": {
      "text/plain": [
       "[('tom@web.com', 'Chris', 'Fake', 39, 'M', 'This is comment0 by Tom Fake'),\n",
       " ('tom@web.com', 'Chris', 'Fake', 39, 'M', 'This is comment1 by Tom Fake'),\n",
       " ('tom@web.com', 'Chris', 'Fake', 39, 'M', 'This is comment2 by Tom Fake'),\n",
       " ('tom@web.com', 'Chris', 'Fake', 39, 'M', 'This is comment3 by Tom Fake'),\n",
       " ('tom@web.com', 'Chris', 'Fake', 39, 'M', 'This is comment4 by Tom Fake'),\n",
       " ('tom@web.com', 'Chris', 'Fake', 39, 'M', 'This is comment5 by Tom Fake'),\n",
       " ('tom@web.com', 'Chris', 'Fake', 39, 'M', 'This is comment6 by Tom Fake'),\n",
       " ('tom@web.com', 'Chris', 'Fake', 39, 'M', 'This is comment7 by Tom Fake'),\n",
       " ('tom@web.com', 'Chris', 'Fake', 39, 'M', 'This is comment8 by Tom Fake'),\n",
       " ('tom@web.com', 'Chris', 'Fake', 39, 'M', 'This is comment9 by Tom Fake')]"
      ]
     },
     "execution_count": 35,
     "metadata": {},
     "output_type": "execute_result"
    }
   ],
   "source": [
    "data"
   ]
  },
  {
   "cell_type": "code",
   "execution_count": 36,
   "metadata": {},
   "outputs": [],
   "source": [
    "df = pd.DataFrame(data, columns=columns)"
   ]
  },
  {
   "cell_type": "code",
   "execution_count": 37,
   "metadata": {},
   "outputs": [
    {
     "data": {
      "text/html": [
       "<div>\n",
       "<style scoped>\n",
       "    .dataframe tbody tr th:only-of-type {\n",
       "        vertical-align: middle;\n",
       "    }\n",
       "\n",
       "    .dataframe tbody tr th {\n",
       "        vertical-align: top;\n",
       "    }\n",
       "\n",
       "    .dataframe thead th {\n",
       "        text-align: right;\n",
       "    }\n",
       "</style>\n",
       "<table border=\"1\" class=\"dataframe\">\n",
       "  <thead>\n",
       "    <tr style=\"text-align: right;\">\n",
       "      <th></th>\n",
       "      <th>Email</th>\n",
       "      <th>First Name</th>\n",
       "      <th>Last Name</th>\n",
       "      <th>Age</th>\n",
       "      <th>Gender</th>\n",
       "      <th>Comments</th>\n",
       "    </tr>\n",
       "  </thead>\n",
       "  <tbody>\n",
       "    <tr>\n",
       "      <th>0</th>\n",
       "      <td>tom@web.com</td>\n",
       "      <td>Chris</td>\n",
       "      <td>Fake</td>\n",
       "      <td>39</td>\n",
       "      <td>M</td>\n",
       "      <td>This is comment0 by Tom Fake</td>\n",
       "    </tr>\n",
       "    <tr>\n",
       "      <th>1</th>\n",
       "      <td>tom@web.com</td>\n",
       "      <td>Chris</td>\n",
       "      <td>Fake</td>\n",
       "      <td>39</td>\n",
       "      <td>M</td>\n",
       "      <td>This is comment1 by Tom Fake</td>\n",
       "    </tr>\n",
       "    <tr>\n",
       "      <th>2</th>\n",
       "      <td>tom@web.com</td>\n",
       "      <td>Chris</td>\n",
       "      <td>Fake</td>\n",
       "      <td>39</td>\n",
       "      <td>M</td>\n",
       "      <td>This is comment2 by Tom Fake</td>\n",
       "    </tr>\n",
       "    <tr>\n",
       "      <th>3</th>\n",
       "      <td>tom@web.com</td>\n",
       "      <td>Chris</td>\n",
       "      <td>Fake</td>\n",
       "      <td>39</td>\n",
       "      <td>M</td>\n",
       "      <td>This is comment3 by Tom Fake</td>\n",
       "    </tr>\n",
       "    <tr>\n",
       "      <th>4</th>\n",
       "      <td>tom@web.com</td>\n",
       "      <td>Chris</td>\n",
       "      <td>Fake</td>\n",
       "      <td>39</td>\n",
       "      <td>M</td>\n",
       "      <td>This is comment4 by Tom Fake</td>\n",
       "    </tr>\n",
       "    <tr>\n",
       "      <th>5</th>\n",
       "      <td>tom@web.com</td>\n",
       "      <td>Chris</td>\n",
       "      <td>Fake</td>\n",
       "      <td>39</td>\n",
       "      <td>M</td>\n",
       "      <td>This is comment5 by Tom Fake</td>\n",
       "    </tr>\n",
       "    <tr>\n",
       "      <th>6</th>\n",
       "      <td>tom@web.com</td>\n",
       "      <td>Chris</td>\n",
       "      <td>Fake</td>\n",
       "      <td>39</td>\n",
       "      <td>M</td>\n",
       "      <td>This is comment6 by Tom Fake</td>\n",
       "    </tr>\n",
       "    <tr>\n",
       "      <th>7</th>\n",
       "      <td>tom@web.com</td>\n",
       "      <td>Chris</td>\n",
       "      <td>Fake</td>\n",
       "      <td>39</td>\n",
       "      <td>M</td>\n",
       "      <td>This is comment7 by Tom Fake</td>\n",
       "    </tr>\n",
       "    <tr>\n",
       "      <th>8</th>\n",
       "      <td>tom@web.com</td>\n",
       "      <td>Chris</td>\n",
       "      <td>Fake</td>\n",
       "      <td>39</td>\n",
       "      <td>M</td>\n",
       "      <td>This is comment8 by Tom Fake</td>\n",
       "    </tr>\n",
       "    <tr>\n",
       "      <th>9</th>\n",
       "      <td>tom@web.com</td>\n",
       "      <td>Chris</td>\n",
       "      <td>Fake</td>\n",
       "      <td>39</td>\n",
       "      <td>M</td>\n",
       "      <td>This is comment9 by Tom Fake</td>\n",
       "    </tr>\n",
       "  </tbody>\n",
       "</table>\n",
       "</div>"
      ],
      "text/plain": [
       "         Email First Name Last Name  Age Gender                      Comments\n",
       "0  tom@web.com      Chris      Fake   39      M  This is comment0 by Tom Fake\n",
       "1  tom@web.com      Chris      Fake   39      M  This is comment1 by Tom Fake\n",
       "2  tom@web.com      Chris      Fake   39      M  This is comment2 by Tom Fake\n",
       "3  tom@web.com      Chris      Fake   39      M  This is comment3 by Tom Fake\n",
       "4  tom@web.com      Chris      Fake   39      M  This is comment4 by Tom Fake\n",
       "5  tom@web.com      Chris      Fake   39      M  This is comment5 by Tom Fake\n",
       "6  tom@web.com      Chris      Fake   39      M  This is comment6 by Tom Fake\n",
       "7  tom@web.com      Chris      Fake   39      M  This is comment7 by Tom Fake\n",
       "8  tom@web.com      Chris      Fake   39      M  This is comment8 by Tom Fake\n",
       "9  tom@web.com      Chris      Fake   39      M  This is comment9 by Tom Fake"
      ]
     },
     "execution_count": 37,
     "metadata": {},
     "output_type": "execute_result"
    }
   ],
   "source": [
    "df"
   ]
  },
  {
   "cell_type": "code",
   "execution_count": null,
   "metadata": {},
   "outputs": [],
   "source": []
  }
 ],
 "metadata": {
  "kernelspec": {
   "display_name": "Python 3",
   "language": "python",
   "name": "python3"
  },
  "language_info": {
   "codemirror_mode": {
    "name": "ipython",
    "version": 3
   },
   "file_extension": ".py",
   "mimetype": "text/x-python",
   "name": "python",
   "nbconvert_exporter": "python",
   "pygments_lexer": "ipython3",
   "version": "3.8.5"
  }
 },
 "nbformat": 4,
 "nbformat_minor": 4
}
