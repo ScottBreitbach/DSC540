{
 "cells": [
  {
   "cell_type": "markdown",
   "metadata": {},
   "source": [
    "# Scott Breitbach\n",
    "## 11-Jan-2021\n",
    "## DSC540, Weeks 5-6"
   ]
  },
  {
   "cell_type": "code",
   "execution_count": 79,
   "metadata": {},
   "outputs": [],
   "source": [
    "import pandas as pd\n",
    "from bs4 import BeautifulSoup\n",
    "import requests\n",
    "from sys import getsizeof\n",
    "import matplotlib.pyplot as plt\n",
    "from scipy import stats"
   ]
  },
  {
   "cell_type": "markdown",
   "metadata": {},
   "source": [
    "## 1. *Data Wrangling with Python*: Activity 7, page 207\n",
    "### Activity 7: Reading Tabular Data from a Web Page and Creating DataFrames\n",
    "Create three **DataFrames** from the three sources mentioned on the page."
   ]
  },
  {
   "cell_type": "markdown",
   "metadata": {},
   "source": [
    "#### 1) Open the page in a separate browser tab and use something like an **Inspect Element** tool to view the source HTML and understand its structure:"
   ]
  },
  {
   "cell_type": "markdown",
   "metadata": {},
   "source": [
    "\\<html class='client-js ...  \n",
    "-\\<body class=\"mediawiki ...  \n",
    "--\\<div id=\"content\" ...  \n",
    "---\\<div id=\"bodyContent\" ...  \n",
    "----\\<div id=\"mw-content-text\" ...  \n",
    "-----\\<div class=\"mw-parser-output\" ...  \n",
    "------\\<table class=\"wikitable\" ...  \n",
    "-------\\<tbody>  \n",
    "--------\\<tr>  [Table Descriptions]  \n",
    "---------\\<td style= ...  [Each Table Description]  \n",
    "--------\\<tr valign=\"top\"> [All Tables]  \n",
    "---------\\<td> [Intividual Tables]  \n",
    "----------\\<table class=\"wikitable sortable ...  \n",
    "-----------\\<thead> [Individual Table Header]  \n",
    "-----------\\<tbody> [Individual Table Body]  "
   ]
  },
  {
   "cell_type": "markdown",
   "metadata": {},
   "source": [
    "#### 2) Read the page using bs4."
   ]
  },
  {
   "cell_type": "code",
   "execution_count": 80,
   "metadata": {},
   "outputs": [],
   "source": [
    "url = requests.get(\"https://en.wikipedia.org/wiki/List_of_countries_by_GDP_(nominal)\")"
   ]
  },
  {
   "cell_type": "code",
   "execution_count": 81,
   "metadata": {},
   "outputs": [],
   "source": [
    "soup = BeautifulSoup(url.content, 'html.parser')"
   ]
  },
  {
   "cell_type": "code",
   "execution_count": 82,
   "metadata": {
    "scrolled": true
   },
   "outputs": [],
   "source": [
    "# print(soup.prettify())"
   ]
  },
  {
   "cell_type": "markdown",
   "metadata": {},
   "source": [
    "#### 3) Find the table structure you will need to deal with.  \n",
    "How many tables are there?"
   ]
  },
  {
   "cell_type": "code",
   "execution_count": 83,
   "metadata": {},
   "outputs": [],
   "source": [
    "listOfDF = pd.read_html(\"https://en.wikipedia.org/wiki/List_of_countries_by_GDP_(nominal)\")"
   ]
  },
  {
   "cell_type": "code",
   "execution_count": 84,
   "metadata": {},
   "outputs": [
    {
     "name": "stdout",
     "output_type": "stream",
     "text": [
      "There are 10 tables on the page.\n"
     ]
    }
   ],
   "source": [
    "numTables = len(listOfDF)\n",
    "print(\"There are {} tables on the page.\".format(numTables))"
   ]
  },
  {
   "cell_type": "code",
   "execution_count": 85,
   "metadata": {
    "scrolled": true
   },
   "outputs": [
    {
     "name": "stdout",
     "output_type": "stream",
     "text": [
      "Table 0:\n",
      "                                             0\n",
      "0  Largest economies by nominal GDP in 2020[1]\n",
      "Table 1:\n",
      "                                                   0  \\\n",
      "0  .mw-parser-output .legend{page-break-inside:av...   \n",
      "\n",
      "                                                   1  \\\n",
      "0  $750 billion–$1 trillion $500–$750 billion $25...   \n",
      "\n",
      "                                                   2  \n",
      "0  $50–$100 billion $25–$50 billion $5–$25 billio...  \n",
      "Table 2:\n",
      "                                                   0  \\\n",
      "0  Per the International Monetary Fund (2020 esti...   \n",
      "1  Rank Country/Territory GDP(US$million)  World[...   \n",
      "2                                               Rank   \n",
      "3                                                NaN   \n",
      "4                                                  1   \n",
      "\n",
      "                                                   1  \\\n",
      "0                      Per the World Bank (2019)[20]   \n",
      "1  Rank Country/Territory GDP(US$million)  World ...   \n",
      "2                                  Country/Territory   \n",
      "3                                          World[19]   \n",
      "4                                      United States   \n",
      "\n",
      "                                                   2  \n",
      "0                  Per the United Nations (2019)[21]  \n",
      "1  Rank Country/Territory GDP(US$million)  World[...  \n",
      "2                                    GDP(US$million)  \n",
      "3                                           83844988  \n",
      "4                                           20807269  \n",
      "Table 3:\n",
      "  Rank Country/Territory  GDP(US$million)\n",
      "0  NaN         World[19]       83844988.0\n",
      "1    1     United States       20807269.0\n",
      "2    2   China[n 2][n 3]       14860775.0\n",
      "3    3             Japan        4910580.0\n",
      "4    4           Germany        3780553.0\n",
      "Table 4:\n",
      "   Rank Country/Territory  GDP(US$million)\n",
      "0   NaN             World         87751541\n",
      "1   1.0     United States         21427700\n",
      "2   2.0        China[n 9]         14342903\n",
      "3   3.0             Japan          5081770\n",
      "4   4.0           Germany          3845630\n",
      "Table 5:\n",
      "   Rank Country/Territory  GDP(US$million)\n",
      "0   NaN         World[22]         87445260\n",
      "1   1.0     United States         21433226\n",
      "2   2.0        China[n 9]         14342933\n",
      "3   3.0             Japan          5082465\n",
      "4   4.0           Germany          3861123\n",
      "Table 6:\n",
      "  .mw-parser-output .navbar{display:inline;font-size:88%;font-weight:normal}.mw-parser-output .navbar-collapse{float:left;text-align:left}.mw-parser-output .navbar-boxtext{word-spacing:0}.mw-parser-output .navbar ul{display:inline-block;white-space:nowrap;line-height:inherit}.mw-parser-output .navbar-brackets::before{margin-right:-0.125em;content:\"[ \"}.mw-parser-output .navbar-brackets::after{margin-left:-0.125em;content:\" ]\"}.mw-parser-output .navbar li{word-spacing:-0.125em}.mw-parser-output .navbar-mini abbr{font-variant:small-caps;border-bottom:none;text-decoration:none;cursor:inherit}.mw-parser-output .navbar-ct-full{font-size:114%;margin:0 7em}.mw-parser-output .navbar-ct-mini{font-size:114%;margin:0 4em}.mw-parser-output .infobox .navbar{font-size:100%}.mw-parser-output .navbox .navbar{display:block;font-size:100%}.mw-parser-output .navbox-title .navbar{float:left;text-align:left;margin-right:0.5em}vteLists of countries by GDP rankings  \\\n",
      "0                      Purchasing power parity (PPP)                                                                                                                                                                                                                                                                                                                                                                                                                                                                                                                                                                                                                                                                                                                                                                                                                                                                                                                                           \n",
      "1                                            Nominal                                                                                                                                                                                                                                                                                                                                                                                                                                                                                                                                                                                                                                                                                                                                                                                                                                                                                                                                           \n",
      "2                                        Growth rate                                                                                                                                                                                                                                                                                                                                                                                                                                                                                                                                                                                                                                                                                                                                                                                                                                                                                                                                           \n",
      "3                        Gross national income (GNI)                                                                                                                                                                                                                                                                                                                                                                                                                                                                                                                                                                                                                                                                                                                                                                                                                                                                                                                                           \n",
      "4                                Countries by region                                                                                                                                                                                                                                                                                                                                                                                                                                                                                                                                                                                                                                                                                                                                                                                                                                                                                                                                           \n",
      "\n",
      "  .mw-parser-output .navbar{display:inline;font-size:88%;font-weight:normal}.mw-parser-output .navbar-collapse{float:left;text-align:left}.mw-parser-output .navbar-boxtext{word-spacing:0}.mw-parser-output .navbar ul{display:inline-block;white-space:nowrap;line-height:inherit}.mw-parser-output .navbar-brackets::before{margin-right:-0.125em;content:\"[ \"}.mw-parser-output .navbar-brackets::after{margin-left:-0.125em;content:\" ]\"}.mw-parser-output .navbar li{word-spacing:-0.125em}.mw-parser-output .navbar-mini abbr{font-variant:small-caps;border-bottom:none;text-decoration:none;cursor:inherit}.mw-parser-output .navbar-ct-full{font-size:114%;margin:0 7em}.mw-parser-output .navbar-ct-mini{font-size:114%;margin:0 4em}.mw-parser-output .infobox .navbar{font-size:100%}.mw-parser-output .navbox .navbar{display:block;font-size:100%}.mw-parser-output .navbox-title .navbar{float:left;text-align:left;margin-right:0.5em}vteLists of countries by GDP rankings.1  \n",
      "0  Per capita Past per capita Past and projected ...                                                                                                                                                                                                                                                                                                                                                                                                                                                                                                                                                                                                                                                                                                                                                                                                                                                                                                                                            \n",
      "1  Per capita Past and projected per capita Secto...                                                                                                                                                                                                                                                                                                                                                                                                                                                                                                                                                                                                                                                                                                                                                                                                                                                                                                                                            \n",
      "2  African countries Asian states European Union ...                                                                                                                                                                                                                                                                                                                                                                                                                                                                                                                                                                                                                                                                                                                                                                                                                                                                                                                                            \n",
      "3                  PPP per capita Nominal per capita                                                                                                                                                                                                                                                                                                                                                                                                                                                                                                                                                                                                                                                                                                                                                                                                                                                                                                                                            \n",
      "4  Africa PPP nominal Commonwealth of Nations PPP...                                                                                                                                                                                                                                                                                                                                                                                                                                                                                                                                                                                                                                                                                                                                                                                                                                                                                                                                            \n",
      "Table 7:\n",
      "  vteLists of countries by financial rankings  \\\n",
      "0                                       Trade   \n",
      "1                                  Investment   \n",
      "2                                       Funds   \n",
      "3                             Budget and debt   \n",
      "4                            Income and taxes   \n",
      "\n",
      "       vteLists of countries by financial rankings.1  \n",
      "0  Account balance % of GDP Exports net per capit...  \n",
      "1                   FDI received past FDI abroad GFI  \n",
      "2  Forex reserves Forex reserves (ex. gold) Gold ...  \n",
      "3  Government budget PPP % of GDP per capita Cred...  \n",
      "4  Tax rates Tax revenue Wage average median minimum  \n",
      "Table 8:\n",
      "             vteEconomic classification of countries  \\\n",
      "0  Developed country Developing country Least Dev...   \n",
      "1                                  Three-World Model   \n",
      "2                       Gross domestic product (GDP)   \n",
      "3                                            Nominal   \n",
      "4                      Purchasing power parity (PPP)   \n",
      "\n",
      "           vteEconomic classification of countries.1  \n",
      "0  Developed country Developing country Least Dev...  \n",
      "1  First World Second World Third World Fourth World  \n",
      "2  Nominal By country past and projected per capi...  \n",
      "3  By country past and projected per capita per c...  \n",
      "4  By country future estimates per capita per cap...  \n",
      "Table 9:\n",
      "                               0  \\\n",
      "0                        Nominal   \n",
      "1  Purchasing power parity (PPP)   \n",
      "\n",
      "                                                   1  \n",
      "0  By country past and projected per capita per c...  \n",
      "1  By country future estimates per capita per cap...  \n"
     ]
    }
   ],
   "source": [
    "index = 0\n",
    "for i in listOfDF:\n",
    "    print(\"Table {}:\".format(index))\n",
    "    print(i.head())\n",
    "    index += 1"
   ]
  },
  {
   "cell_type": "markdown",
   "metadata": {},
   "source": [
    "#### 4) Find the right table using bs4."
   ]
  },
  {
   "cell_type": "code",
   "execution_count": 86,
   "metadata": {},
   "outputs": [
    {
     "name": "stdout",
     "output_type": "stream",
     "text": [
      "<class 'bs4.element.Tag'>\n"
     ]
    }
   ],
   "source": [
    "tables = soup.find('table', {\"class\": \"wikitable\"})\n",
    "print(type(tables))"
   ]
  },
  {
   "cell_type": "code",
   "execution_count": null,
   "metadata": {},
   "outputs": [],
   "source": []
  },
  {
   "cell_type": "markdown",
   "metadata": {},
   "source": [
    "#### 5) Separate the source names and their corresponding data."
   ]
  },
  {
   "cell_type": "code",
   "execution_count": 87,
   "metadata": {},
   "outputs": [
    {
     "name": "stdout",
     "output_type": "stream",
     "text": [
      "We found 3 sources.\n"
     ]
    }
   ],
   "source": [
    "sources = tables.tbody.findAll('tr', recursive=False)[0]\n",
    "sourcesList = [td for td in sources.findAll('td')]\n",
    "print('We found {} sources.'.format(len(sourcesList)))"
   ]
  },
  {
   "cell_type": "code",
   "execution_count": 88,
   "metadata": {},
   "outputs": [],
   "source": [
    "data = tables.tbody.findAll('tr', recursive=False)[1].findAll('td', recursive=False)"
   ]
  },
  {
   "cell_type": "code",
   "execution_count": 89,
   "metadata": {},
   "outputs": [],
   "source": [
    "dataTables = []\n",
    "for td in data:\n",
    "    dataTables.append(td.findAll('table'))"
   ]
  },
  {
   "cell_type": "markdown",
   "metadata": {},
   "source": [
    "#### 6) Get the source names from the list of sources you have created."
   ]
  },
  {
   "cell_type": "code",
   "execution_count": 90,
   "metadata": {},
   "outputs": [
    {
     "name": "stdout",
     "output_type": "stream",
     "text": [
      "['International Monetary Fund', 'World Bank', 'United Nations']\n"
     ]
    }
   ],
   "source": [
    "sourceNames = [source.findAll('a')[0].getText() for source in sourcesList]\n",
    "print(sourceNames)"
   ]
  },
  {
   "cell_type": "markdown",
   "metadata": {},
   "source": [
    "Alternatively:"
   ]
  },
  {
   "cell_type": "code",
   "execution_count": 91,
   "metadata": {},
   "outputs": [
    {
     "name": "stdout",
     "output_type": "stream",
     "text": [
      "Source names:\n",
      " Per the International Monetary Fund (2020 estimates)\n",
      " Per the World Bank (2019)\n",
      " Per the United Nations (2019)\n"
     ]
    }
   ],
   "source": [
    "titlesList = tables.tbody.tr.findAll('b')\n",
    "title = []\n",
    "for i in titlesList:\n",
    "    title.append(i.getText())\n",
    "print(\"Source names:\")\n",
    "\n",
    "for n in title:\n",
    "    print(\"\", n)"
   ]
  },
  {
   "cell_type": "markdown",
   "metadata": {},
   "source": [
    "Or:"
   ]
  },
  {
   "cell_type": "code",
   "execution_count": 92,
   "metadata": {},
   "outputs": [
    {
     "name": "stdout",
     "output_type": "stream",
     "text": [
      "International Monetary Fund\n",
      "World Bank\n",
      "United Nations\n"
     ]
    }
   ],
   "source": [
    "for i in range(3):\n",
    "    print(soup.findAll('table')[2].tbody.tr.findAll('td')[i].a.getText())"
   ]
  },
  {
   "cell_type": "code",
   "execution_count": null,
   "metadata": {},
   "outputs": [],
   "source": []
  },
  {
   "cell_type": "markdown",
   "metadata": {},
   "source": [
    "#### 7) Separate the header and data from the data that you separated before for the first source only, and then create a DataFrame using that."
   ]
  },
  {
   "cell_type": "markdown",
   "metadata": {},
   "source": [
    "##### Table 1: International Monetary Fund"
   ]
  },
  {
   "cell_type": "code",
   "execution_count": 93,
   "metadata": {},
   "outputs": [
    {
     "name": "stdout",
     "output_type": "stream",
     "text": [
      "The data headers for table 1 are:\n",
      " ['Rank', 'Country/Territory', 'GDP(US$million)']\n"
     ]
    }
   ],
   "source": [
    "headers1 = [th.getText().strip() for th in dataTables[0][0].findAll('th')]\n",
    "print(\"The data headers for table 1 are:\\n\", headers1)"
   ]
  },
  {
   "cell_type": "code",
   "execution_count": 94,
   "metadata": {},
   "outputs": [],
   "source": [
    "rows1 = dataTables[0][0].findAll('tbody')[0].findAll('tr')[1:]\n",
    "dataRows1 = [[td.get_text().strip() for td in tr.findAll('td')] for tr in rows1]\n",
    "df1 = pd.DataFrame(dataRows1, columns=headers1)"
   ]
  },
  {
   "cell_type": "code",
   "execution_count": 95,
   "metadata": {},
   "outputs": [
    {
     "name": "stdout",
     "output_type": "stream",
     "text": [
      "Table 1: International Monetary Fund\n"
     ]
    },
    {
     "data": {
      "text/html": [
       "<div>\n",
       "<style scoped>\n",
       "    .dataframe tbody tr th:only-of-type {\n",
       "        vertical-align: middle;\n",
       "    }\n",
       "\n",
       "    .dataframe tbody tr th {\n",
       "        vertical-align: top;\n",
       "    }\n",
       "\n",
       "    .dataframe thead th {\n",
       "        text-align: right;\n",
       "    }\n",
       "</style>\n",
       "<table border=\"1\" class=\"dataframe\">\n",
       "  <thead>\n",
       "    <tr style=\"text-align: right;\">\n",
       "      <th></th>\n",
       "      <th>Rank</th>\n",
       "      <th>Country/Territory</th>\n",
       "      <th>GDP(US$million)</th>\n",
       "    </tr>\n",
       "  </thead>\n",
       "  <tbody>\n",
       "    <tr>\n",
       "      <th>0</th>\n",
       "      <td></td>\n",
       "      <td>World[19]</td>\n",
       "      <td>83,844,988</td>\n",
       "    </tr>\n",
       "    <tr>\n",
       "      <th>1</th>\n",
       "      <td>1</td>\n",
       "      <td>United States</td>\n",
       "      <td>20,807,269</td>\n",
       "    </tr>\n",
       "    <tr>\n",
       "      <th>2</th>\n",
       "      <td>2</td>\n",
       "      <td>China[n 2][n 3]</td>\n",
       "      <td>14,860,775</td>\n",
       "    </tr>\n",
       "    <tr>\n",
       "      <th>3</th>\n",
       "      <td>3</td>\n",
       "      <td>Japan</td>\n",
       "      <td>4,910,580</td>\n",
       "    </tr>\n",
       "    <tr>\n",
       "      <th>4</th>\n",
       "      <td>4</td>\n",
       "      <td>Germany</td>\n",
       "      <td>3,780,553</td>\n",
       "    </tr>\n",
       "  </tbody>\n",
       "</table>\n",
       "</div>"
      ],
      "text/plain": [
       "  Rank Country/Territory GDP(US$million)\n",
       "0              World[19]      83,844,988\n",
       "1    1     United States      20,807,269\n",
       "2    2   China[n 2][n 3]      14,860,775\n",
       "3    3             Japan       4,910,580\n",
       "4    4           Germany       3,780,553"
      ]
     },
     "execution_count": 95,
     "metadata": {},
     "output_type": "execute_result"
    }
   ],
   "source": [
    "print(\"Table 1:\", sourceNames[0])\n",
    "df1.head()"
   ]
  },
  {
   "cell_type": "markdown",
   "metadata": {},
   "source": [
    "#### 8) Repeat the last task for the other two data sources."
   ]
  },
  {
   "cell_type": "markdown",
   "metadata": {},
   "source": [
    "##### Table 2: World Bank"
   ]
  },
  {
   "cell_type": "code",
   "execution_count": 96,
   "metadata": {},
   "outputs": [
    {
     "name": "stdout",
     "output_type": "stream",
     "text": [
      "The data headers for table 2 are:\n",
      " ['Rank', 'Country/Territory', 'GDP(US$million)']\n"
     ]
    }
   ],
   "source": [
    "headers2 = [th.getText().strip() for th in dataTables[1][0].findAll('th')]\n",
    "print(\"The data headers for table 2 are:\\n\", headers2)"
   ]
  },
  {
   "cell_type": "code",
   "execution_count": 97,
   "metadata": {},
   "outputs": [],
   "source": [
    "rows2 = dataTables[1][0].findAll('tbody')[0].findAll('tr')[1:]\n",
    "dataRows2 = [[td.get_text().strip() for td in tr.findAll('td')] for tr in rows2]\n",
    "df2 = pd.DataFrame(dataRows2, columns=headers2)"
   ]
  },
  {
   "cell_type": "code",
   "execution_count": 98,
   "metadata": {},
   "outputs": [
    {
     "name": "stdout",
     "output_type": "stream",
     "text": [
      "Table 2: World Bank\n"
     ]
    },
    {
     "data": {
      "text/html": [
       "<div>\n",
       "<style scoped>\n",
       "    .dataframe tbody tr th:only-of-type {\n",
       "        vertical-align: middle;\n",
       "    }\n",
       "\n",
       "    .dataframe tbody tr th {\n",
       "        vertical-align: top;\n",
       "    }\n",
       "\n",
       "    .dataframe thead th {\n",
       "        text-align: right;\n",
       "    }\n",
       "</style>\n",
       "<table border=\"1\" class=\"dataframe\">\n",
       "  <thead>\n",
       "    <tr style=\"text-align: right;\">\n",
       "      <th></th>\n",
       "      <th>Rank</th>\n",
       "      <th>Country/Territory</th>\n",
       "      <th>GDP(US$million)</th>\n",
       "    </tr>\n",
       "  </thead>\n",
       "  <tbody>\n",
       "    <tr>\n",
       "      <th>0</th>\n",
       "      <td></td>\n",
       "      <td>World</td>\n",
       "      <td>87,751,541</td>\n",
       "    </tr>\n",
       "    <tr>\n",
       "      <th>1</th>\n",
       "      <td>1</td>\n",
       "      <td>United States</td>\n",
       "      <td>21,427,700</td>\n",
       "    </tr>\n",
       "    <tr>\n",
       "      <th>2</th>\n",
       "      <td>2</td>\n",
       "      <td>China[n 9]</td>\n",
       "      <td>14,342,903</td>\n",
       "    </tr>\n",
       "    <tr>\n",
       "      <th>3</th>\n",
       "      <td>3</td>\n",
       "      <td>Japan</td>\n",
       "      <td>5,081,770</td>\n",
       "    </tr>\n",
       "    <tr>\n",
       "      <th>4</th>\n",
       "      <td>4</td>\n",
       "      <td>Germany</td>\n",
       "      <td>3,845,630</td>\n",
       "    </tr>\n",
       "  </tbody>\n",
       "</table>\n",
       "</div>"
      ],
      "text/plain": [
       "  Rank Country/Territory GDP(US$million)\n",
       "0                  World      87,751,541\n",
       "1    1     United States      21,427,700\n",
       "2    2        China[n 9]      14,342,903\n",
       "3    3             Japan       5,081,770\n",
       "4    4           Germany       3,845,630"
      ]
     },
     "execution_count": 98,
     "metadata": {},
     "output_type": "execute_result"
    }
   ],
   "source": [
    "print(\"Table 2:\", sourceNames[1])\n",
    "df2.head()"
   ]
  },
  {
   "cell_type": "markdown",
   "metadata": {},
   "source": [
    "##### Table 3: United Nations"
   ]
  },
  {
   "cell_type": "code",
   "execution_count": 99,
   "metadata": {},
   "outputs": [
    {
     "name": "stdout",
     "output_type": "stream",
     "text": [
      "The data headers for table 3 are:\n",
      " ['Rank', 'Country/Territory', 'GDP(US$million)']\n"
     ]
    }
   ],
   "source": [
    "headers3 = [th.getText().strip() for th in dataTables[2][0].findAll('th')]\n",
    "print(\"The data headers for table 3 are:\\n\", headers3)"
   ]
  },
  {
   "cell_type": "code",
   "execution_count": 100,
   "metadata": {},
   "outputs": [],
   "source": [
    "rows3 = dataTables[2][0].findAll('tbody')[0].findAll('tr')[1:]\n",
    "dataRows3 = [[td.get_text().strip() for td in tr.findAll('td')] for tr in rows3]\n",
    "df3 = pd.DataFrame(dataRows3, columns=headers3)"
   ]
  },
  {
   "cell_type": "code",
   "execution_count": 101,
   "metadata": {},
   "outputs": [
    {
     "name": "stdout",
     "output_type": "stream",
     "text": [
      "Table 3: United Nations\n"
     ]
    },
    {
     "data": {
      "text/html": [
       "<div>\n",
       "<style scoped>\n",
       "    .dataframe tbody tr th:only-of-type {\n",
       "        vertical-align: middle;\n",
       "    }\n",
       "\n",
       "    .dataframe tbody tr th {\n",
       "        vertical-align: top;\n",
       "    }\n",
       "\n",
       "    .dataframe thead th {\n",
       "        text-align: right;\n",
       "    }\n",
       "</style>\n",
       "<table border=\"1\" class=\"dataframe\">\n",
       "  <thead>\n",
       "    <tr style=\"text-align: right;\">\n",
       "      <th></th>\n",
       "      <th>Rank</th>\n",
       "      <th>Country/Territory</th>\n",
       "      <th>GDP(US$million)</th>\n",
       "    </tr>\n",
       "  </thead>\n",
       "  <tbody>\n",
       "    <tr>\n",
       "      <th>0</th>\n",
       "      <td></td>\n",
       "      <td>World[22]</td>\n",
       "      <td>87,445,260</td>\n",
       "    </tr>\n",
       "    <tr>\n",
       "      <th>1</th>\n",
       "      <td>1</td>\n",
       "      <td>United States</td>\n",
       "      <td>21,433,226</td>\n",
       "    </tr>\n",
       "    <tr>\n",
       "      <th>2</th>\n",
       "      <td>2</td>\n",
       "      <td>China[n 9]</td>\n",
       "      <td>14,342,933</td>\n",
       "    </tr>\n",
       "    <tr>\n",
       "      <th>3</th>\n",
       "      <td>3</td>\n",
       "      <td>Japan</td>\n",
       "      <td>5,082,465</td>\n",
       "    </tr>\n",
       "    <tr>\n",
       "      <th>4</th>\n",
       "      <td>4</td>\n",
       "      <td>Germany</td>\n",
       "      <td>3,861,123</td>\n",
       "    </tr>\n",
       "  </tbody>\n",
       "</table>\n",
       "</div>"
      ],
      "text/plain": [
       "  Rank Country/Territory GDP(US$million)\n",
       "0              World[22]      87,445,260\n",
       "1    1     United States      21,433,226\n",
       "2    2        China[n 9]      14,342,933\n",
       "3    3             Japan       5,082,465\n",
       "4    4           Germany       3,861,123"
      ]
     },
     "execution_count": 101,
     "metadata": {},
     "output_type": "execute_result"
    }
   ],
   "source": [
    "print(\"Table 3:\", sourceNames[2])\n",
    "df3.head()"
   ]
  },
  {
   "cell_type": "code",
   "execution_count": null,
   "metadata": {},
   "outputs": [],
   "source": []
  },
  {
   "cell_type": "markdown",
   "metadata": {},
   "source": [
    "## 2. *Data Wrangling with Python*: Activity 8, page 233\n",
    "### Activity 8: Handling Outliers and Missing Data"
   ]
  },
  {
   "cell_type": "markdown",
   "metadata": {},
   "source": [
    "#### 1) Read the visit_data.csv file."
   ]
  },
  {
   "cell_type": "code",
   "execution_count": 102,
   "metadata": {},
   "outputs": [
    {
     "data": {
      "text/html": [
       "<div>\n",
       "<style scoped>\n",
       "    .dataframe tbody tr th:only-of-type {\n",
       "        vertical-align: middle;\n",
       "    }\n",
       "\n",
       "    .dataframe tbody tr th {\n",
       "        vertical-align: top;\n",
       "    }\n",
       "\n",
       "    .dataframe thead th {\n",
       "        text-align: right;\n",
       "    }\n",
       "</style>\n",
       "<table border=\"1\" class=\"dataframe\">\n",
       "  <thead>\n",
       "    <tr style=\"text-align: right;\">\n",
       "      <th></th>\n",
       "      <th>id</th>\n",
       "      <th>first_name</th>\n",
       "      <th>last_name</th>\n",
       "      <th>email</th>\n",
       "      <th>gender</th>\n",
       "      <th>ip_address</th>\n",
       "      <th>visit</th>\n",
       "    </tr>\n",
       "  </thead>\n",
       "  <tbody>\n",
       "    <tr>\n",
       "      <th>0</th>\n",
       "      <td>1</td>\n",
       "      <td>Sonny</td>\n",
       "      <td>Dahl</td>\n",
       "      <td>sdahl0@mysql.com</td>\n",
       "      <td>Male</td>\n",
       "      <td>135.36.96.183</td>\n",
       "      <td>1225.0</td>\n",
       "    </tr>\n",
       "    <tr>\n",
       "      <th>1</th>\n",
       "      <td>2</td>\n",
       "      <td>NaN</td>\n",
       "      <td>NaN</td>\n",
       "      <td>dhoovart1@hud.gov</td>\n",
       "      <td>NaN</td>\n",
       "      <td>237.165.194.143</td>\n",
       "      <td>919.0</td>\n",
       "    </tr>\n",
       "    <tr>\n",
       "      <th>2</th>\n",
       "      <td>3</td>\n",
       "      <td>Gar</td>\n",
       "      <td>Armal</td>\n",
       "      <td>garmal2@technorati.com</td>\n",
       "      <td>NaN</td>\n",
       "      <td>166.43.137.224</td>\n",
       "      <td>271.0</td>\n",
       "    </tr>\n",
       "    <tr>\n",
       "      <th>3</th>\n",
       "      <td>4</td>\n",
       "      <td>Chiarra</td>\n",
       "      <td>Nulty</td>\n",
       "      <td>cnulty3@newyorker.com</td>\n",
       "      <td>NaN</td>\n",
       "      <td>139.98.137.108</td>\n",
       "      <td>1002.0</td>\n",
       "    </tr>\n",
       "    <tr>\n",
       "      <th>4</th>\n",
       "      <td>5</td>\n",
       "      <td>NaN</td>\n",
       "      <td>NaN</td>\n",
       "      <td>sleaver4@elegantthemes.com</td>\n",
       "      <td>NaN</td>\n",
       "      <td>46.117.117.27</td>\n",
       "      <td>2434.0</td>\n",
       "    </tr>\n",
       "  </tbody>\n",
       "</table>\n",
       "</div>"
      ],
      "text/plain": [
       "   id first_name last_name                       email gender  \\\n",
       "0   1      Sonny      Dahl            sdahl0@mysql.com   Male   \n",
       "1   2        NaN       NaN           dhoovart1@hud.gov    NaN   \n",
       "2   3        Gar     Armal      garmal2@technorati.com    NaN   \n",
       "3   4    Chiarra     Nulty       cnulty3@newyorker.com    NaN   \n",
       "4   5        NaN       NaN  sleaver4@elegantthemes.com    NaN   \n",
       "\n",
       "        ip_address   visit  \n",
       "0    135.36.96.183  1225.0  \n",
       "1  237.165.194.143   919.0  \n",
       "2   166.43.137.224   271.0  \n",
       "3   139.98.137.108  1002.0  \n",
       "4    46.117.117.27  2434.0  "
      ]
     },
     "execution_count": 102,
     "metadata": {},
     "output_type": "execute_result"
    }
   ],
   "source": [
    "df = pd.read_csv('visit_data.csv')\n",
    "df.head()"
   ]
  },
  {
   "cell_type": "code",
   "execution_count": 103,
   "metadata": {},
   "outputs": [
    {
     "name": "stdout",
     "output_type": "stream",
     "text": [
      "<class 'pandas.core.frame.DataFrame'>\n",
      "RangeIndex: 1000 entries, 0 to 999\n",
      "Data columns (total 7 columns):\n",
      " #   Column      Non-Null Count  Dtype  \n",
      "---  ------      --------------  -----  \n",
      " 0   id          1000 non-null   int64  \n",
      " 1   first_name  704 non-null    object \n",
      " 2   last_name   704 non-null    object \n",
      " 3   email       1000 non-null   object \n",
      " 4   gender      495 non-null    object \n",
      " 5   ip_address  1000 non-null   object \n",
      " 6   visit       974 non-null    float64\n",
      "dtypes: float64(1), int64(1), object(5)\n",
      "memory usage: 54.8+ KB\n"
     ]
    }
   ],
   "source": [
    "df.info()"
   ]
  },
  {
   "cell_type": "markdown",
   "metadata": {},
   "source": [
    "#### 2) Check for duplicates."
   ]
  },
  {
   "cell_type": "code",
   "execution_count": 104,
   "metadata": {},
   "outputs": [
    {
     "name": "stdout",
     "output_type": "stream",
     "text": [
      "Duplicates in:\n",
      "             id: False\n",
      "     first_name: True\n",
      "      last_name: True\n",
      "          email: False\n",
      "         gender: True\n",
      "     ip_address: False\n",
      "          visit: True\n"
     ]
    }
   ],
   "source": [
    "print(\"Duplicates in:\")\n",
    "for name in df.columns:\n",
    "    print(\"{:>15}:\".format(name), any(df[name].duplicated()))"
   ]
  },
  {
   "cell_type": "markdown",
   "metadata": {},
   "source": [
    "#### 3) Check if any essential column contains NaN."
   ]
  },
  {
   "cell_type": "code",
   "execution_count": 105,
   "metadata": {},
   "outputs": [
    {
     "name": "stdout",
     "output_type": "stream",
     "text": [
      "'NaN's in:\n"
     ]
    },
    {
     "data": {
      "text/plain": [
       "id            False\n",
       "first_name     True\n",
       "last_name      True\n",
       "email         False\n",
       "gender         True\n",
       "ip_address    False\n",
       "visit          True\n",
       "dtype: bool"
      ]
     },
     "execution_count": 105,
     "metadata": {},
     "output_type": "execute_result"
    }
   ],
   "source": [
    "print(\"'NaN's in:\")\n",
    "df.isna().any()"
   ]
  },
  {
   "cell_type": "markdown",
   "metadata": {},
   "source": [
    "#### 4) Get rid of the outliers."
   ]
  },
  {
   "cell_type": "markdown",
   "metadata": {},
   "source": [
    "It appears that we have unique IDs, email and IP addresses for every line.  \n",
    "There are some names, gender data, and visit info duplicated and/or missing.  \n",
    "Since we will be using the 'visit' data for analysis, we will remove any rows from this column that do not contain data:"
   ]
  },
  {
   "cell_type": "code",
   "execution_count": 106,
   "metadata": {},
   "outputs": [],
   "source": [
    "cleanDF = df[df['visit'].notnull()]"
   ]
  },
  {
   "cell_type": "markdown",
   "metadata": {},
   "source": [
    "#### 5) Report the size difference."
   ]
  },
  {
   "cell_type": "code",
   "execution_count": 107,
   "metadata": {},
   "outputs": [
    {
     "data": {
      "text/html": [
       "<div>\n",
       "<style scoped>\n",
       "    .dataframe tbody tr th:only-of-type {\n",
       "        vertical-align: middle;\n",
       "    }\n",
       "\n",
       "    .dataframe tbody tr th {\n",
       "        vertical-align: top;\n",
       "    }\n",
       "\n",
       "    .dataframe thead th {\n",
       "        text-align: right;\n",
       "    }\n",
       "</style>\n",
       "<table border=\"1\" class=\"dataframe\">\n",
       "  <thead>\n",
       "    <tr style=\"text-align: right;\">\n",
       "      <th></th>\n",
       "      <th>OriginalDF</th>\n",
       "      <th>CleanedDF</th>\n",
       "      <th>SizeDifference</th>\n",
       "    </tr>\n",
       "  </thead>\n",
       "  <tbody>\n",
       "    <tr>\n",
       "      <th>numberOfRows</th>\n",
       "      <td>1000</td>\n",
       "      <td>974</td>\n",
       "      <td>26</td>\n",
       "    </tr>\n",
       "    <tr>\n",
       "      <th>numberOfCols</th>\n",
       "      <td>7</td>\n",
       "      <td>7</td>\n",
       "      <td>0</td>\n",
       "    </tr>\n",
       "    <tr>\n",
       "      <th>sizeInBytes</th>\n",
       "      <td>320644</td>\n",
       "      <td>320014</td>\n",
       "      <td>630</td>\n",
       "    </tr>\n",
       "  </tbody>\n",
       "</table>\n",
       "</div>"
      ],
      "text/plain": [
       "              OriginalDF  CleanedDF  SizeDifference\n",
       "numberOfRows        1000        974              26\n",
       "numberOfCols           7          7               0\n",
       "sizeInBytes       320644     320014             630"
      ]
     },
     "execution_count": 107,
     "metadata": {},
     "output_type": "execute_result"
    }
   ],
   "source": [
    "sizeDict = {'numberOfRows': [df.shape[0], cleanDF.shape[0], df.shape[0]-cleanDF.shape[0]],\n",
    "            'numberOfCols': [df.shape[1], cleanDF.shape[1], df.shape[1]-cleanDF.shape[1]],\n",
    "            'sizeInBytes': [getsizeof(df), getsizeof(cleanDF), getsizeof(df)-getsizeof(cleanDF)]}\n",
    "sizeDF = pd.DataFrame.from_dict(sizeDict, orient='index',\n",
    "                               columns=['OriginalDF', 'CleanedDF', 'SizeDifference'])\n",
    "sizeDF"
   ]
  },
  {
   "cell_type": "markdown",
   "metadata": {},
   "source": [
    "#### 6) Create a box plot to sheck for outliers."
   ]
  },
  {
   "cell_type": "code",
   "execution_count": 108,
   "metadata": {},
   "outputs": [
    {
     "data": {
      "image/png": "[encoded data removed]",
      "text/plain": [
       "<Figure size 432x288 with 1 Axes>"
      ]
     },
     "metadata": {
      "needs_background": "light"
     },
     "output_type": "display_data"
    }
   ],
   "source": [
    "plt.boxplot(cleanDF['visit'])\n",
    "plt.title(\"Boxplot: Number of Visits per User\")\n",
    "plt.ylabel(\"# Visits\")\n",
    "plt.xlabel(\"All Users\")\n",
    "plt.show()"
   ]
  },
  {
   "cell_type": "code",
   "execution_count": 109,
   "metadata": {},
   "outputs": [
    {
     "data": {
      "image/png": "[encoded data removed]",
      "text/plain": [
       "<Figure size 432x288 with 1 Axes>"
      ]
     },
     "metadata": {
      "needs_background": "light"
     },
     "output_type": "display_data"
    }
   ],
   "source": [
    "cleanDF.boxplot(column='visit', by='gender')\n",
    "plt.title(\"Boxplot: Number of Visits by Gender\")\n",
    "plt.suptitle(\"\")\n",
    "plt.ylabel(\"# Visits\")\n",
    "plt.show()"
   ]
  },
  {
   "cell_type": "markdown",
   "metadata": {},
   "source": [
    "#### 7) Get rid of any outliers."
   ]
  },
  {
   "cell_type": "markdown",
   "metadata": {},
   "source": [
    "Not seeing any points beyond the ends of the whiskers, I'll check Z-scores:"
   ]
  },
  {
   "cell_type": "code",
   "execution_count": 110,
   "metadata": {},
   "outputs": [
    {
     "name": "stdout",
     "output_type": "stream",
     "text": [
      "Lowest Z-score:  -1.7852\n",
      "Highest Z-score:  1.7889\n"
     ]
    }
   ],
   "source": [
    "print(\"Lowest Z-score:  {0:.4f}\".format(stats.zscore(cleanDF['visit']).min()))\n",
    "print(\"Highest Z-score:  {0:.4f}\".format(stats.zscore(cleanDF['visit']).max()))"
   ]
  },
  {
   "cell_type": "markdown",
   "metadata": {},
   "source": [
    "Even the worst Z-scores are still well within 3 standard deviations (less than 2 even!), so next we'll just remove the 5th percentile from each end of the 'visit' data:"
   ]
  },
  {
   "cell_type": "code",
   "execution_count": 111,
   "metadata": {},
   "outputs": [],
   "source": [
    "def removePercentiles(df, col, p):\n",
    "    '''\n",
    "     df: dataframe; \n",
    "    col: column name (str); \n",
    "      p: percent to remove from each end (upper, lower)\n",
    "    '''\n",
    "    lp =  p / 100\n",
    "    up = 1 - lp\n",
    "    uq = df[col].quantile(up)\n",
    "    lq = df[col].quantile(lp)\n",
    "    filteredDF = df[(df[col] < uq) & (df[col] > lq)]\n",
    "    return filteredDF"
   ]
  },
  {
   "cell_type": "code",
   "execution_count": 112,
   "metadata": {},
   "outputs": [],
   "source": [
    "newDF = removePercentiles(cleanDF, 'visit', 5)"
   ]
  },
  {
   "cell_type": "code",
   "execution_count": 113,
   "metadata": {},
   "outputs": [
    {
     "data": {
      "text/html": [
       "<div>\n",
       "<style scoped>\n",
       "    .dataframe tbody tr th:only-of-type {\n",
       "        vertical-align: middle;\n",
       "    }\n",
       "\n",
       "    .dataframe tbody tr th {\n",
       "        vertical-align: top;\n",
       "    }\n",
       "\n",
       "    .dataframe thead th {\n",
       "        text-align: right;\n",
       "    }\n",
       "</style>\n",
       "<table border=\"1\" class=\"dataframe\">\n",
       "  <thead>\n",
       "    <tr style=\"text-align: right;\">\n",
       "      <th></th>\n",
       "      <th>CleanedDF</th>\n",
       "      <th>NewDF_NoOutliers</th>\n",
       "      <th>SizeDifference</th>\n",
       "    </tr>\n",
       "  </thead>\n",
       "  <tbody>\n",
       "    <tr>\n",
       "      <th>numberOfRows</th>\n",
       "      <td>974</td>\n",
       "      <td>875</td>\n",
       "      <td>99</td>\n",
       "    </tr>\n",
       "    <tr>\n",
       "      <th>numberOfCols</th>\n",
       "      <td>7</td>\n",
       "      <td>7</td>\n",
       "      <td>0</td>\n",
       "    </tr>\n",
       "    <tr>\n",
       "      <th>sizeInBytes</th>\n",
       "      <td>320014</td>\n",
       "      <td>287487</td>\n",
       "      <td>32527</td>\n",
       "    </tr>\n",
       "  </tbody>\n",
       "</table>\n",
       "</div>"
      ],
      "text/plain": [
       "              CleanedDF  NewDF_NoOutliers  SizeDifference\n",
       "numberOfRows        974               875              99\n",
       "numberOfCols          7                 7               0\n",
       "sizeInBytes      320014            287487           32527"
      ]
     },
     "execution_count": 113,
     "metadata": {},
     "output_type": "execute_result"
    }
   ],
   "source": [
    "sizeDict = {'numberOfRows': [cleanDF.shape[0], newDF.shape[0], cleanDF.shape[0]-newDF.shape[0]],\n",
    "            'numberOfCols': [cleanDF.shape[1], newDF.shape[1], cleanDF.shape[1]-newDF.shape[1]],\n",
    "            'sizeInBytes': [getsizeof(cleanDF), getsizeof(newDF), getsizeof(cleanDF)-getsizeof(newDF)]}\n",
    "sizeDF = pd.DataFrame.from_dict(sizeDict, orient='index',\n",
    "                               columns=['CleanedDF', 'NewDF_NoOutliers', 'SizeDifference'])\n",
    "sizeDF"
   ]
  },
  {
   "cell_type": "markdown",
   "metadata": {},
   "source": [
    "## 3. Insert data into a SQL Lite database\n",
    "### Create a table with the following data (Hint: Python for Data Analysis page 191):  \n",
    "#### a. Name, Address, City, State, Zip, Phone Number.  \n",
    "#### b. Add at least 10 rows of data and submit your code with a query generating your results."
   ]
  },
  {
   "cell_type": "code",
   "execution_count": 114,
   "metadata": {},
   "outputs": [],
   "source": [
    "import sqlite3"
   ]
  },
  {
   "cell_type": "code",
   "execution_count": 115,
   "metadata": {},
   "outputs": [],
   "source": [
    "query = \"\"\"\n",
    "CREATE TABLE test\n",
    "(Name VARCHAR(20), Address VARCHAR(20),\n",
    " City VARCHAR(20), State   VARCHAR(20),\n",
    " Zip  INTEGER,    Phone_Number INTEGER\n",
    " );\n",
    "\"\"\""
   ]
  },
  {
   "cell_type": "code",
   "execution_count": 116,
   "metadata": {},
   "outputs": [],
   "source": [
    "con = sqlite3.connect('mydata.sqlite')"
   ]
  },
  {
   "cell_type": "code",
   "execution_count": 117,
   "metadata": {},
   "outputs": [
    {
     "data": {
      "text/plain": [
       "<sqlite3.Cursor at 0x1f2ab899810>"
      ]
     },
     "execution_count": 117,
     "metadata": {},
     "output_type": "execute_result"
    }
   ],
   "source": [
    "con.execute('DROP table IF EXISTS test')"
   ]
  },
  {
   "cell_type": "code",
   "execution_count": 118,
   "metadata": {},
   "outputs": [
    {
     "data": {
      "text/plain": [
       "<sqlite3.Cursor at 0x1f2ab899ab0>"
      ]
     },
     "execution_count": 118,
     "metadata": {},
     "output_type": "execute_result"
    }
   ],
   "source": [
    "con.execute(query)"
   ]
  },
  {
   "cell_type": "code",
   "execution_count": 119,
   "metadata": {},
   "outputs": [],
   "source": [
    "con.commit()"
   ]
  },
  {
   "cell_type": "markdown",
   "metadata": {},
   "source": [
    "Generate some data:"
   ]
  },
  {
   "cell_type": "code",
   "execution_count": 120,
   "metadata": {},
   "outputs": [],
   "source": [
    "import random\n",
    "def rando(num):\n",
    "    '''Returns the number of random digits specified'''\n",
    "    return random.randrange(10**(num-1), (10**num)-1)"
   ]
  },
  {
   "cell_type": "code",
   "execution_count": 121,
   "metadata": {},
   "outputs": [],
   "source": [
    "# Name, Address, City, State, Zip, Phone Number\n",
    "data = [\n",
    "    ('John Cleese', '{} Hurlingham Road'.format(rando(4)), 'London', 'UK', rando(5), rando(10)),\n",
    "    ('Terry Gilliam', '{} High Street'.format(rando(4)), 'Acton', 'UK', rando(5), rando(10)),\n",
    "    ('Michael Palin', '{} Poole Harbour'.format(rando(3)), 'Dorset', 'UK', rando(5), rando(10)),\n",
    "    ('Eric Idle', '{} South Ealing Road'.format(rando(4)), 'Ealing', 'UK', rando(5), rando(10)),\n",
    "    ('Graham Chapman', '{} Teddington Lock'.format(rando(3)), 'London', 'UK', rando(5), rando(10)),\n",
    "    ('Terry Jones', '{} Thorpebank Road'.format(rando(4)), \"Shepherd's Bush\", 'UK', rando(5), rando(10)),\n",
    "    ('Mr. Badger', '{} Westminster Bridge'.format(rando(3)), 'London', 'UK', rando(5), rando(10)),\n",
    "    ('Luigi Vercotti', '{} Elm Hill'.format(rando(4)), 'Norwich', 'UK', rando(5), rando(10)),\n",
    "    ('Inspector Praline', '{} Winterton Road'.format(rando(3)), 'Norfolk', 'UK', rando(5), rando(10)),\n",
    "    ('Njorl the Viking', '{} Ringland Hills'.format(rando(3)), 'Norwich', 'UK', rando(5), rando(10)),\n",
    "    ('Johann Gambolputty', '{} Ludgate Hill'.format(rando(3)), 'London', 'UK', rando(5), rando(10)),\n",
    "    ('Mrs. Pepperpots', '{} Southmere Terrace'.format(rando(3)), 'Bradford', 'UK', rando(5), rando(10)),\n",
    "    ('Mr. Badger', '{} Toller Lane'.format(rando(5)), 'Bradford', 'UK', rando(5), rando(10))\n",
    "]"
   ]
  },
  {
   "cell_type": "code",
   "execution_count": 122,
   "metadata": {},
   "outputs": [],
   "source": [
    "stmt = \"INSERT INTO test VALUES(?, ?, ?, ?, ?, ?)\""
   ]
  },
  {
   "cell_type": "code",
   "execution_count": 123,
   "metadata": {},
   "outputs": [
    {
     "data": {
      "text/plain": [
       "<sqlite3.Cursor at 0x1f2ab899730>"
      ]
     },
     "execution_count": 123,
     "metadata": {},
     "output_type": "execute_result"
    }
   ],
   "source": [
    "con.executemany(stmt, data)"
   ]
  },
  {
   "cell_type": "code",
   "execution_count": 124,
   "metadata": {},
   "outputs": [],
   "source": [
    "con.commit()"
   ]
  },
  {
   "cell_type": "code",
   "execution_count": 125,
   "metadata": {},
   "outputs": [],
   "source": [
    "cursor = con.execute('select * from test')\n",
    "rows = cursor.fetchall()"
   ]
  },
  {
   "cell_type": "code",
   "execution_count": 126,
   "metadata": {},
   "outputs": [
    {
     "data": {
      "text/html": [
       "<div>\n",
       "<style scoped>\n",
       "    .dataframe tbody tr th:only-of-type {\n",
       "        vertical-align: middle;\n",
       "    }\n",
       "\n",
       "    .dataframe tbody tr th {\n",
       "        vertical-align: top;\n",
       "    }\n",
       "\n",
       "    .dataframe thead th {\n",
       "        text-align: right;\n",
       "    }\n",
       "</style>\n",
       "<table border=\"1\" class=\"dataframe\">\n",
       "  <thead>\n",
       "    <tr style=\"text-align: right;\">\n",
       "      <th></th>\n",
       "      <th>Name</th>\n",
       "      <th>Address</th>\n",
       "      <th>City</th>\n",
       "      <th>State</th>\n",
       "      <th>Zip</th>\n",
       "      <th>Phone_Number</th>\n",
       "    </tr>\n",
       "  </thead>\n",
       "  <tbody>\n",
       "    <tr>\n",
       "      <th>0</th>\n",
       "      <td>John Cleese</td>\n",
       "      <td>4225 Hurlingham Road</td>\n",
       "      <td>London</td>\n",
       "      <td>UK</td>\n",
       "      <td>75243</td>\n",
       "      <td>3828149104</td>\n",
       "    </tr>\n",
       "    <tr>\n",
       "      <th>1</th>\n",
       "      <td>Terry Gilliam</td>\n",
       "      <td>2222 High Street</td>\n",
       "      <td>Acton</td>\n",
       "      <td>UK</td>\n",
       "      <td>63089</td>\n",
       "      <td>2991713502</td>\n",
       "    </tr>\n",
       "    <tr>\n",
       "      <th>2</th>\n",
       "      <td>Michael Palin</td>\n",
       "      <td>661 Poole Harbour</td>\n",
       "      <td>Dorset</td>\n",
       "      <td>UK</td>\n",
       "      <td>78981</td>\n",
       "      <td>8930405338</td>\n",
       "    </tr>\n",
       "    <tr>\n",
       "      <th>3</th>\n",
       "      <td>Eric Idle</td>\n",
       "      <td>3872 South Ealing Road</td>\n",
       "      <td>Ealing</td>\n",
       "      <td>UK</td>\n",
       "      <td>37624</td>\n",
       "      <td>6923303266</td>\n",
       "    </tr>\n",
       "    <tr>\n",
       "      <th>4</th>\n",
       "      <td>Graham Chapman</td>\n",
       "      <td>802 Teddington Lock</td>\n",
       "      <td>London</td>\n",
       "      <td>UK</td>\n",
       "      <td>30776</td>\n",
       "      <td>4645377540</td>\n",
       "    </tr>\n",
       "    <tr>\n",
       "      <th>5</th>\n",
       "      <td>Terry Jones</td>\n",
       "      <td>8901 Thorpebank Road</td>\n",
       "      <td>Shepherd's Bush</td>\n",
       "      <td>UK</td>\n",
       "      <td>89208</td>\n",
       "      <td>1912649618</td>\n",
       "    </tr>\n",
       "    <tr>\n",
       "      <th>6</th>\n",
       "      <td>Mr. Badger</td>\n",
       "      <td>671 Westminster Bridge</td>\n",
       "      <td>London</td>\n",
       "      <td>UK</td>\n",
       "      <td>84540</td>\n",
       "      <td>4580673044</td>\n",
       "    </tr>\n",
       "    <tr>\n",
       "      <th>7</th>\n",
       "      <td>Luigi Vercotti</td>\n",
       "      <td>3857 Elm Hill</td>\n",
       "      <td>Norwich</td>\n",
       "      <td>UK</td>\n",
       "      <td>41755</td>\n",
       "      <td>3260140137</td>\n",
       "    </tr>\n",
       "    <tr>\n",
       "      <th>8</th>\n",
       "      <td>Inspector Praline</td>\n",
       "      <td>542 Winterton Road</td>\n",
       "      <td>Norfolk</td>\n",
       "      <td>UK</td>\n",
       "      <td>91938</td>\n",
       "      <td>6404389234</td>\n",
       "    </tr>\n",
       "    <tr>\n",
       "      <th>9</th>\n",
       "      <td>Njorl the Viking</td>\n",
       "      <td>672 Ringland Hills</td>\n",
       "      <td>Norwich</td>\n",
       "      <td>UK</td>\n",
       "      <td>97074</td>\n",
       "      <td>6464154953</td>\n",
       "    </tr>\n",
       "    <tr>\n",
       "      <th>10</th>\n",
       "      <td>Johann Gambolputty</td>\n",
       "      <td>361 Ludgate Hill</td>\n",
       "      <td>London</td>\n",
       "      <td>UK</td>\n",
       "      <td>39661</td>\n",
       "      <td>7508211515</td>\n",
       "    </tr>\n",
       "    <tr>\n",
       "      <th>11</th>\n",
       "      <td>Mrs. Pepperpots</td>\n",
       "      <td>714 Southmere Terrace</td>\n",
       "      <td>Bradford</td>\n",
       "      <td>UK</td>\n",
       "      <td>82590</td>\n",
       "      <td>8365274474</td>\n",
       "    </tr>\n",
       "    <tr>\n",
       "      <th>12</th>\n",
       "      <td>Mr. Badger</td>\n",
       "      <td>99484 Toller Lane</td>\n",
       "      <td>Bradford</td>\n",
       "      <td>UK</td>\n",
       "      <td>12186</td>\n",
       "      <td>8689428302</td>\n",
       "    </tr>\n",
       "  </tbody>\n",
       "</table>\n",
       "</div>"
      ],
      "text/plain": [
       "                  Name                 Address             City State    Zip  \\\n",
       "0          John Cleese    4225 Hurlingham Road           London    UK  75243   \n",
       "1        Terry Gilliam        2222 High Street            Acton    UK  63089   \n",
       "2        Michael Palin       661 Poole Harbour           Dorset    UK  78981   \n",
       "3            Eric Idle  3872 South Ealing Road           Ealing    UK  37624   \n",
       "4       Graham Chapman     802 Teddington Lock           London    UK  30776   \n",
       "5          Terry Jones    8901 Thorpebank Road  Shepherd's Bush    UK  89208   \n",
       "6           Mr. Badger  671 Westminster Bridge           London    UK  84540   \n",
       "7       Luigi Vercotti           3857 Elm Hill          Norwich    UK  41755   \n",
       "8    Inspector Praline      542 Winterton Road          Norfolk    UK  91938   \n",
       "9     Njorl the Viking      672 Ringland Hills          Norwich    UK  97074   \n",
       "10  Johann Gambolputty        361 Ludgate Hill           London    UK  39661   \n",
       "11     Mrs. Pepperpots   714 Southmere Terrace         Bradford    UK  82590   \n",
       "12          Mr. Badger       99484 Toller Lane         Bradford    UK  12186   \n",
       "\n",
       "    Phone_Number  \n",
       "0     3828149104  \n",
       "1     2991713502  \n",
       "2     8930405338  \n",
       "3     6923303266  \n",
       "4     4645377540  \n",
       "5     1912649618  \n",
       "6     4580673044  \n",
       "7     3260140137  \n",
       "8     6404389234  \n",
       "9     6464154953  \n",
       "10    7508211515  \n",
       "11    8365274474  \n",
       "12    8689428302  "
      ]
     },
     "execution_count": 126,
     "metadata": {},
     "output_type": "execute_result"
    }
   ],
   "source": [
    "df = pd.DataFrame(rows, columns=[x[0] for x in cursor.description])\n",
    "df"
   ]
  },
  {
   "cell_type": "code",
   "execution_count": 127,
   "metadata": {},
   "outputs": [],
   "source": [
    "con.close()"
   ]
  },
  {
   "cell_type": "code",
   "execution_count": null,
   "metadata": {},
   "outputs": [],
   "source": []
  }
 ],
 "metadata": {
  "kernelspec": {
   "display_name": "Python 3",
   "language": "python",
   "name": "python3"
  },
  "language_info": {
   "codemirror_mode": {
    "name": "ipython",
    "version": 3
   },
   "file_extension": ".py",
   "mimetype": "text/x-python",
   "name": "python",
   "nbconvert_exporter": "python",
   "pygments_lexer": "ipython3",
   "version": "3.8.5"
  }
 },
 "nbformat": 4,
 "nbformat_minor": 4
}
