{
 "cells": [
  {
   "cell_type": "markdown",
   "metadata": {},
   "source": [
    "# Scott Breitbach\n",
    "## 24-Jan-2021\n",
    "## DSC540, Weeks 7-8"
   ]
  },
  {
   "cell_type": "code",
   "execution_count": 2,
   "metadata": {},
   "outputs": [],
   "source": [
    "import pandas as pd\n",
    "import numpy as np\n",
    "import pycountry"
   ]
  },
  {
   "cell_type": "markdown",
   "metadata": {},
   "source": [
    "https://www.scq.ubc.ca/so-much-candy-data-seriously/"
   ]
  },
  {
   "cell_type": "code",
   "execution_count": 3,
   "metadata": {},
   "outputs": [],
   "source": [
    "candy16url = \"https://www.scq.ubc.ca/wp-content/uploads/2016/10/BOING-BOING-CANDY-HIERARCHY-2016-SURVEY-Responses.xlsx\"\n",
    "df = pd.read_excel(candy16url)"
   ]
  },
  {
   "cell_type": "markdown",
   "metadata": {},
   "source": [
    "## Clean up Data:"
   ]
  },
  {
   "cell_type": "markdown",
   "metadata": {},
   "source": [
    "### Remove any columns consisting entirely of NaNs:"
   ]
  },
  {
   "cell_type": "code",
   "execution_count": 4,
   "metadata": {},
   "outputs": [],
   "source": [
    "for header in df.columns:\n",
    "    if df[header].isnull().all() == True:\n",
    "        df.drop(header, axis=1, inplace=True)\n",
    "    else:\n",
    "        continue"
   ]
  },
  {
   "cell_type": "markdown",
   "metadata": {},
   "source": [
    "### Check for duplicates in each column:"
   ]
  },
  {
   "cell_type": "code",
   "execution_count": 5,
   "metadata": {},
   "outputs": [
    {
     "name": "stdout",
     "output_type": "stream",
     "text": [
      "Duplicates in:\n",
      "Timestamp................................................... False\n",
      "Are you going actually going trick or treating yourself?.... True\n",
      "Your gender:................................................ True\n",
      "How old are you?............................................ True\n",
      "Which country do you live in?............................... True\n",
      "Which state, province, county do you live in?............... True\n",
      " [100 Grand Bar]............................................ True\n",
      " [Anonymous brown globs that come in black and orange wrappers] True\n",
      " [Any full-sized candy bar]................................. True\n",
      " [Black Jacks].............................................. True\n",
      " [Bonkers (the candy)]...................................... True\n",
      " [Bonkers (the board game)]................................. True\n",
      " [Bottle Caps].............................................. True\n",
      " [Box'o'Raisins]............................................ True\n",
      " [Broken glow stick]........................................ True\n",
      " [Butterfinger]............................................. True\n",
      " [Cadbury Creme Eggs]....................................... True\n",
      " [Candy Corn]............................................... True\n",
      " [Candy that is clearly just the stuff given out for free at restaurants] True\n",
      " [Caramellos]............................................... True\n",
      " [Cash, or other forms of legal tender]..................... True\n",
      " [Chardonnay]............................................... True\n",
      " [Chick-o-Sticks (we don’t know what that is)].............. True\n",
      " [Chiclets]................................................. True\n",
      " [Coffee Crisp]............................................. True\n",
      " [Creepy Religious comics/Chick Tracts]..................... True\n",
      " [Dental paraphenalia]...................................... True\n",
      " [Dots]..................................................... True\n",
      " [Dove Bars]................................................ True\n",
      " [Fuzzy Peaches]............................................ True\n",
      " [Generic Brand Acetaminophen].............................. True\n",
      " [Glow sticks].............................................. True\n",
      " [Goo Goo Clusters]......................................... True\n",
      " [Good N' Plenty]........................................... True\n",
      " [Gum from baseball cards].................................. True\n",
      " [Gummy Bears straight up].................................. True\n",
      " [Hard Candy]............................................... True\n",
      " [Healthy Fruit]............................................ True\n",
      " [Heath Bar]................................................ True\n",
      " [Hershey's Dark Chocolate]................................. True\n",
      " [Hershey’s Milk Chocolate]................................. True\n",
      " [Hershey's Kisses]......................................... True\n",
      " [Hugs (actual physical hugs)].............................. True\n",
      " [Jolly Rancher (bad flavor)]............................... True\n",
      " [Jolly Ranchers (good flavor)]............................. True\n",
      " [JoyJoy (Mit Iodine!)]..................................... True\n",
      " [Junior Mints]............................................. True\n",
      " [Senior Mints]............................................. True\n",
      " [Kale smoothie]............................................ True\n",
      " [Kinder Happy Hippo]....................................... True\n",
      " [Kit Kat].................................................. True\n",
      " [LaffyTaffy]............................................... True\n",
      " [LemonHeads]............................................... True\n",
      " [Licorice (not black)]..................................... True\n",
      " [Licorice (yes black)]..................................... True\n",
      " [Lindt Truffle]............................................ True\n",
      " [Lollipops]................................................ True\n",
      " [Mars]..................................................... True\n",
      " [Mary Janes]............................................... True\n",
      " [Maynards]................................................. True\n",
      " [Mike and Ike]............................................. True\n",
      " [Milk Duds]................................................ True\n",
      " [Milky Way]................................................ True\n",
      " [Regular M&Ms]............................................. True\n",
      " [Peanut M&M’s]............................................. True\n",
      " [Blue M&M's]............................................... True\n",
      " [Red M&M's]................................................ True\n",
      " [Third Party M&M's]........................................ True\n",
      " [Minibags of chips]........................................ True\n",
      " [Mint Kisses].............................................. True\n",
      " [Mint Juleps].............................................. True\n",
      " [Mr. Goodbar].............................................. True\n",
      " [Necco Wafers]............................................. True\n",
      " [Nerds].................................................... True\n",
      " [Nestle Crunch]............................................ True\n",
      " [Now'n'Laters]............................................. True\n",
      " [Peeps].................................................... True\n",
      " [Pencils].................................................. True\n",
      " [Person of Interest Season 3 DVD Box Set (not including Disc 4 with hilarious outtakes)] True\n",
      " [Pixy Stix]................................................ True\n",
      " [Reese’s Peanut Butter Cups]............................... True\n",
      " [Reese's Pieces]........................................... True\n",
      " [Reggie Jackson Bar]....................................... True\n",
      " [Rolos].................................................... True\n",
      " [Skittles]................................................. True\n",
      " [Smarties (American)]...................................... True\n",
      " [Smarties (Commonwealth)].................................. True\n",
      " [Snickers]................................................. True\n",
      " [Sourpatch Kids (i.e. abominations of nature)]............. True\n",
      " [Spotted Dick]............................................. True\n",
      " [Starburst]................................................ True\n",
      " [Sweet Tarts].............................................. True\n",
      " [Swedish Fish]............................................. True\n",
      " [Sweetums (a friend to diabetes)].......................... True\n",
      " [Tic Tacs]................................................. True\n",
      " [Those odd marshmallow circus peanut things]............... True\n",
      " [Three Musketeers]......................................... True\n",
      " [Tolberone something or other]............................. True\n",
      " [Trail Mix]................................................ True\n",
      " [Twix]..................................................... True\n",
      " [Vials of pure high fructose corn syrup, for main-lining into your vein] True\n",
      " [Vicodin].................................................. True\n",
      " [Whatchamacallit Bars]..................................... True\n",
      " [White Bread].............................................. True\n",
      " [Whole Wheat anything]..................................... True\n",
      " [York Peppermint Patties].................................. True\n",
      "Please list any items not included above that give you JOY.. True\n",
      "Please list any items not included above that give you DESPAIR. True\n",
      "Please leave any witty, snarky or thoughtful remarks or comments regarding your choices. True\n",
      "Guess the number of mints in my hand........................ True\n",
      "Betty or Veronica?.......................................... True\n",
      "\"That dress* that went viral a few years back - when I first saw it, it was ________\" True\n",
      "What is your favourite font?................................ True\n",
      "Please estimate the degree(s) of separation you have from the following celebrities [JK Rowling] True\n",
      "Please estimate the degree(s) of separation you have from the following celebrities [JJ Abrams] True\n",
      "Please estimate the degree(s) of separation you have from the following celebrities [Beyoncé] True\n",
      "Please estimate the degree(s) of separation you have from the following celebrities [Bieber] True\n",
      "Please estimate the degree(s) of separation you have from the following celebrities [Kevin Bacon] True\n",
      "Please estimate the degree(s) of separation you have from the following celebrities [Francis Bacon (1561 - 1626)] True\n",
      "Which day do you prefer, Friday or Sunday?.................. True\n",
      "Do you eat apples the correct way, East to West (side to side) or do you eat them like a freak of nature, South to North (bottom to top)? True\n",
      "When you see the above image of the 4 different websites, which one would you most likely check out (please be honest). True\n"
     ]
    }
   ],
   "source": [
    "print(\"Duplicates in:\")\n",
    "for name in df.columns:\n",
    "    print(\"{:.<60}\".format(name), any(df[name].duplicated()))"
   ]
  },
  {
   "cell_type": "markdown",
   "metadata": {},
   "source": [
    "##### No duplicates in 'Timestamp', all other columns contain duplicates"
   ]
  },
  {
   "cell_type": "markdown",
   "metadata": {},
   "source": [
    "### Check for columns without NaNs:"
   ]
  },
  {
   "cell_type": "code",
   "execution_count": 6,
   "metadata": {},
   "outputs": [
    {
     "name": "stdout",
     "output_type": "stream",
     "text": [
      "NaN's in:\n",
      "Timestamp................................................... False\n",
      "Are you going actually going trick or treating yourself?.... False\n",
      "Your gender:................................................ True\n",
      "How old are you?............................................ True\n",
      "Which country do you live in?............................... True\n",
      "Which state, province, county do you live in?............... True\n",
      " [100 Grand Bar]............................................ True\n",
      " [Anonymous brown globs that come in black and orange wrappers] True\n",
      " [Any full-sized candy bar]................................. True\n",
      " [Black Jacks].............................................. True\n",
      " [Bonkers (the candy)]...................................... True\n",
      " [Bonkers (the board game)]................................. True\n",
      " [Bottle Caps].............................................. True\n",
      " [Box'o'Raisins]............................................ True\n",
      " [Broken glow stick]........................................ True\n",
      " [Butterfinger]............................................. True\n",
      " [Cadbury Creme Eggs]....................................... True\n",
      " [Candy Corn]............................................... True\n",
      " [Candy that is clearly just the stuff given out for free at restaurants] True\n",
      " [Caramellos]............................................... True\n",
      " [Cash, or other forms of legal tender]..................... True\n",
      " [Chardonnay]............................................... True\n",
      " [Chick-o-Sticks (we don’t know what that is)].............. True\n",
      " [Chiclets]................................................. True\n",
      " [Coffee Crisp]............................................. True\n",
      " [Creepy Religious comics/Chick Tracts]..................... True\n",
      " [Dental paraphenalia]...................................... True\n",
      " [Dots]..................................................... True\n",
      " [Dove Bars]................................................ True\n",
      " [Fuzzy Peaches]............................................ True\n",
      " [Generic Brand Acetaminophen].............................. True\n",
      " [Glow sticks].............................................. True\n",
      " [Goo Goo Clusters]......................................... True\n",
      " [Good N' Plenty]........................................... True\n",
      " [Gum from baseball cards].................................. True\n",
      " [Gummy Bears straight up].................................. True\n",
      " [Hard Candy]............................................... True\n",
      " [Healthy Fruit]............................................ True\n",
      " [Heath Bar]................................................ True\n",
      " [Hershey's Dark Chocolate]................................. True\n",
      " [Hershey’s Milk Chocolate]................................. True\n",
      " [Hershey's Kisses]......................................... True\n",
      " [Hugs (actual physical hugs)].............................. True\n",
      " [Jolly Rancher (bad flavor)]............................... True\n",
      " [Jolly Ranchers (good flavor)]............................. True\n",
      " [JoyJoy (Mit Iodine!)]..................................... True\n",
      " [Junior Mints]............................................. True\n",
      " [Senior Mints]............................................. True\n",
      " [Kale smoothie]............................................ True\n",
      " [Kinder Happy Hippo]....................................... True\n",
      " [Kit Kat].................................................. True\n",
      " [LaffyTaffy]............................................... True\n",
      " [LemonHeads]............................................... True\n",
      " [Licorice (not black)]..................................... True\n",
      " [Licorice (yes black)]..................................... True\n",
      " [Lindt Truffle]............................................ True\n",
      " [Lollipops]................................................ True\n",
      " [Mars]..................................................... True\n",
      " [Mary Janes]............................................... True\n",
      " [Maynards]................................................. True\n",
      " [Mike and Ike]............................................. True\n",
      " [Milk Duds]................................................ True\n",
      " [Milky Way]................................................ True\n",
      " [Regular M&Ms]............................................. True\n",
      " [Peanut M&M’s]............................................. True\n",
      " [Blue M&M's]............................................... True\n",
      " [Red M&M's]................................................ True\n",
      " [Third Party M&M's]........................................ True\n",
      " [Minibags of chips]........................................ True\n",
      " [Mint Kisses].............................................. True\n",
      " [Mint Juleps].............................................. True\n",
      " [Mr. Goodbar].............................................. True\n",
      " [Necco Wafers]............................................. True\n",
      " [Nerds].................................................... True\n",
      " [Nestle Crunch]............................................ True\n",
      " [Now'n'Laters]............................................. True\n",
      " [Peeps].................................................... True\n",
      " [Pencils].................................................. True\n",
      " [Person of Interest Season 3 DVD Box Set (not including Disc 4 with hilarious outtakes)] True\n",
      " [Pixy Stix]................................................ True\n",
      " [Reese’s Peanut Butter Cups]............................... True\n",
      " [Reese's Pieces]........................................... True\n",
      " [Reggie Jackson Bar]....................................... True\n",
      " [Rolos].................................................... True\n",
      " [Skittles]................................................. True\n",
      " [Smarties (American)]...................................... True\n",
      " [Smarties (Commonwealth)].................................. True\n",
      " [Snickers]................................................. True\n",
      " [Sourpatch Kids (i.e. abominations of nature)]............. True\n",
      " [Spotted Dick]............................................. True\n",
      " [Starburst]................................................ True\n",
      " [Sweet Tarts].............................................. True\n",
      " [Swedish Fish]............................................. True\n",
      " [Sweetums (a friend to diabetes)].......................... True\n",
      " [Tic Tacs]................................................. True\n",
      " [Those odd marshmallow circus peanut things]............... True\n",
      " [Three Musketeers]......................................... True\n",
      " [Tolberone something or other]............................. True\n",
      " [Trail Mix]................................................ True\n",
      " [Twix]..................................................... True\n",
      " [Vials of pure high fructose corn syrup, for main-lining into your vein] True\n",
      " [Vicodin].................................................. True\n",
      " [Whatchamacallit Bars]..................................... True\n",
      " [White Bread].............................................. True\n",
      " [Whole Wheat anything]..................................... True\n",
      " [York Peppermint Patties].................................. True\n",
      "Please list any items not included above that give you JOY.. True\n",
      "Please list any items not included above that give you DESPAIR. True\n",
      "Please leave any witty, snarky or thoughtful remarks or comments regarding your choices. True\n",
      "Guess the number of mints in my hand........................ True\n",
      "Betty or Veronica?.......................................... True\n",
      "\"That dress* that went viral a few years back - when I first saw it, it was ________\" True\n",
      "What is your favourite font?................................ True\n",
      "Please estimate the degree(s) of separation you have from the following celebrities [JK Rowling] True\n",
      "Please estimate the degree(s) of separation you have from the following celebrities [JJ Abrams] True\n",
      "Please estimate the degree(s) of separation you have from the following celebrities [Beyoncé] True\n",
      "Please estimate the degree(s) of separation you have from the following celebrities [Bieber] True\n",
      "Please estimate the degree(s) of separation you have from the following celebrities [Kevin Bacon] True\n",
      "Please estimate the degree(s) of separation you have from the following celebrities [Francis Bacon (1561 - 1626)] True\n",
      "Which day do you prefer, Friday or Sunday?.................. True\n",
      "Do you eat apples the correct way, East to West (side to side) or do you eat them like a freak of nature, South to North (bottom to top)? True\n",
      "When you see the above image of the 4 different websites, which one would you most likely check out (please be honest). True\n"
     ]
    }
   ],
   "source": [
    "print(\"NaN's in:\")\n",
    "for name in df.columns:\n",
    "    print(\"{:.<60} {}\".format(name, df[name].isna().any()))"
   ]
  },
  {
   "cell_type": "markdown",
   "metadata": {},
   "source": [
    "##### No NaNs in 'Timestamp' or 'Are you going actually going trick or treating yourself?' columns. All others contain at least 1 NaN."
   ]
  },
  {
   "cell_type": "markdown",
   "metadata": {},
   "source": [
    "### Replace NaNs in candy columns with 'UNKNOWN', because survey said to \"leave blank if you have no idea what the item is\":"
   ]
  },
  {
   "cell_type": "code",
   "execution_count": 7,
   "metadata": {},
   "outputs": [],
   "source": [
    "startCol = df.columns[6]\n",
    "endCol = df.columns[105]\n",
    "df.loc[:, startCol:endCol] = df.loc[:, startCol:endCol].fillna('UNKNOWN')"
   ]
  },
  {
   "cell_type": "code",
   "execution_count": 12,
   "metadata": {},
   "outputs": [],
   "source": [
    "# df.tail()"
   ]
  },
  {
   "cell_type": "markdown",
   "metadata": {},
   "source": [
    "### Create a smaller DF with just User and Candy info:"
   ]
  },
  {
   "cell_type": "code",
   "execution_count": 9,
   "metadata": {},
   "outputs": [],
   "source": [
    "dfLite = df.loc[:, :df.columns[105]]"
   ]
  },
  {
   "cell_type": "markdown",
   "metadata": {},
   "source": [
    "### Make column names easier to read:"
   ]
  },
  {
   "cell_type": "code",
   "execution_count": 10,
   "metadata": {},
   "outputs": [],
   "source": [
    "oldCols = list(df.columns[0:6])\n",
    "newCols = ['Timestamp', 'TrickOrTreat', 'Gender', 'Age', 'Country', 'Locale']\n",
    "dictCols = dict(zip(oldCols, newCols))"
   ]
  },
  {
   "cell_type": "code",
   "execution_count": 11,
   "metadata": {},
   "outputs": [],
   "source": [
    "dfLite.rename(columns=dictCols, inplace=True)"
   ]
  },
  {
   "cell_type": "markdown",
   "metadata": {},
   "source": [
    "### Clean up Country names:"
   ]
  },
  {
   "cell_type": "code",
   "execution_count": 17,
   "metadata": {},
   "outputs": [],
   "source": [
    "countryDF = dfLite[['Timestamp', 'Country']].copy()"
   ]
  },
  {
   "cell_type": "code",
   "execution_count": 18,
   "metadata": {},
   "outputs": [
    {
     "data": {
      "text/html": [
       "<div>\n",
       "<style scoped>\n",
       "    .dataframe tbody tr th:only-of-type {\n",
       "        vertical-align: middle;\n",
       "    }\n",
       "\n",
       "    .dataframe tbody tr th {\n",
       "        vertical-align: top;\n",
       "    }\n",
       "\n",
       "    .dataframe thead th {\n",
       "        text-align: right;\n",
       "    }\n",
       "</style>\n",
       "<table border=\"1\" class=\"dataframe\">\n",
       "  <thead>\n",
       "    <tr style=\"text-align: right;\">\n",
       "      <th></th>\n",
       "      <th>Timestamp</th>\n",
       "      <th>Country</th>\n",
       "    </tr>\n",
       "  </thead>\n",
       "  <tbody>\n",
       "    <tr>\n",
       "      <th>0</th>\n",
       "      <td>2016-10-24 05:09:23.033</td>\n",
       "      <td>Canada</td>\n",
       "    </tr>\n",
       "    <tr>\n",
       "      <th>1</th>\n",
       "      <td>2016-10-24 05:09:54.798</td>\n",
       "      <td>usa</td>\n",
       "    </tr>\n",
       "    <tr>\n",
       "      <th>2</th>\n",
       "      <td>2016-10-24 05:13:06.734</td>\n",
       "      <td>US</td>\n",
       "    </tr>\n",
       "    <tr>\n",
       "      <th>3</th>\n",
       "      <td>2016-10-24 05:14:17.192</td>\n",
       "      <td>usa</td>\n",
       "    </tr>\n",
       "    <tr>\n",
       "      <th>4</th>\n",
       "      <td>2016-10-24 05:14:24.625</td>\n",
       "      <td>USA</td>\n",
       "    </tr>\n",
       "  </tbody>\n",
       "</table>\n",
       "</div>"
      ],
      "text/plain": [
       "                Timestamp Country\n",
       "0 2016-10-24 05:09:23.033  Canada\n",
       "1 2016-10-24 05:09:54.798     usa\n",
       "2 2016-10-24 05:13:06.734      US\n",
       "3 2016-10-24 05:14:17.192     usa\n",
       "4 2016-10-24 05:14:24.625     USA"
      ]
     },
     "execution_count": 18,
     "metadata": {},
     "output_type": "execute_result"
    }
   ],
   "source": [
    "countryDF.head()"
   ]
  },
  {
   "cell_type": "code",
   "execution_count": 30,
   "metadata": {},
   "outputs": [
    {
     "data": {
      "text/plain": [
       "array(['Canada', 'usa', 'US', 'USA', 'UK', 'United States of America',\n",
       "       'uSA', 'Japan', 'united states', 'USA ', 'canada', 'United States',\n",
       "       'us', 'france', 'USSA', 'United States of America ', 'U.S.A.',\n",
       "       'A tropical island south of the equator', 'england', 'uk',\n",
       "       'Switzerland', 'Murica', 'United Kingdom', 'Neverland', 'USA!',\n",
       "       'this one',\n",
       "       \"USA (I think but it's an election year so who can really tell)\",\n",
       "       'Korea', 51, 'Usa', nan, 'U.S.', 'Us', 'America ', 'Units States',\n",
       "       'belgium', 'croatia', 'United states', 'Portugal', 'England',\n",
       "       'USA USA USA', 'the best one - usa', 'USA! USA! USA!', 47,\n",
       "       'united states ', 'Cascadia', 'españa', 'u.s.',\n",
       "       \"there isn't one for old men\", 'United States ', 'Panama',\n",
       "       'one of the best ones', 'The Yoo Ess of Aaayyyyyy',\n",
       "       'United Kindom', 'France', 'America', 'Australia', 'hungary',\n",
       "       'united states of america', 'UK ', 'Austria', 'Somewhere',\n",
       "       'New Zealand', 54, 'Germany', 'Mexico', 44, 'Brasil',\n",
       "       \"god's country\", 'South Korea', 'USA!!!!!!', 'Philippines',\n",
       "       ' United States', 'EUA', 'USA! USA!', 45, 'sweden', 'Canada ',\n",
       "       'United Sates', \"Sub-Canadian North America... 'Merica\",\n",
       "       'The Netherlands', 'Finland', 'Trumpistan', 'U.s.', 'Merica',\n",
       "       'China', 'germany', 'See above', 'UNited States', 'kenya', 30,\n",
       "       'Netherlands', 'The republic of Cascadia ', 'United Stetes',\n",
       "       'america', 'Not the USA or Canada', 'USA USA USA USA',\n",
       "       'New Zealand ', 'United  States of America', 'netherlands',\n",
       "       'Denial', 'United State'], dtype=object)"
      ]
     },
     "execution_count": 30,
     "metadata": {},
     "output_type": "execute_result"
    }
   ],
   "source": [
    "countryDF.Country.unique()"
   ]
  },
  {
   "cell_type": "markdown",
   "metadata": {},
   "source": [
    "#### Remove punctuation\n",
    "Also replace fields that start wtih 'us' or end with 'usa' with just 'usa'.  \n",
    "This should cover most instances of repeated USA, or other variants."
   ]
  },
  {
   "cell_type": "code",
   "execution_count": 19,
   "metadata": {},
   "outputs": [],
   "source": [
    "countryDF['CountryCleaned'] = countryDF['Country'].str.lower().str.replace('[.,!]', '')\n",
    "countryDF['CountryCleaned'] = np.where(countryDF['CountryCleaned'].str.startswith('us'), \n",
    "                                       'usa', countryDF['CountryCleaned'])\n",
    "countryDF['CountryCleaned'] = np.where(countryDF['CountryCleaned'].str.endswith('usa'), \n",
    "                                       'usa', countryDF['CountryCleaned'])"
   ]
  },
  {
   "cell_type": "code",
   "execution_count": 20,
   "metadata": {},
   "outputs": [],
   "source": [
    "countryDF.CountryCleaned = countryDF.CountryCleaned.str.strip()"
   ]
  },
  {
   "cell_type": "markdown",
   "metadata": {},
   "source": [
    "#### Perform replacements for remaining oddballs:\n",
    "Note: 'uk' changed to 'united kingdom' to avoid conversion to 'Ukraine'."
   ]
  },
  {
   "cell_type": "code",
   "execution_count": 22,
   "metadata": {},
   "outputs": [],
   "source": [
    "replacements = {\n",
    "    'uk': 'united kingdom',\n",
    "    'units states': 'usa',\n",
    "    'america': 'usa',\n",
    "    'the yoo ess of aaayyyyyy': 'usa',\n",
    "    'españa': 'spain',\n",
    "    'murica': 'usa',\n",
    "    'united kindom': 'united kingdom',\n",
    "    'brasil': 'brazil',\n",
    "    \"god's country\": 'usa',\n",
    "    'united sates': 'usa',\n",
    "    \"sub-canadian north america 'merica\": 'usa',\n",
    "    'trumpistan': 'usa',\n",
    "    'united stetes': 'usa',\n",
    "    'united  states of america': 'usa'\n",
    "}\n",
    "\n",
    "countryDF['CountryCleaned'].replace(replacements, inplace=True)"
   ]
  },
  {
   "cell_type": "code",
   "execution_count": 23,
   "metadata": {},
   "outputs": [],
   "source": [
    "countryDF.CountryCleaned = countryDF.CountryCleaned.str.strip()"
   ]
  },
  {
   "cell_type": "markdown",
   "metadata": {},
   "source": [
    "#### Perform Fuzzy Matching on Countries:"
   ]
  },
  {
   "cell_type": "code",
   "execution_count": 24,
   "metadata": {},
   "outputs": [],
   "source": [
    "def fuzzyCountry(countryName):\n",
    "    try:\n",
    "        return pycountry.countries.search_fuzzy(countryName)[0].name\n",
    "    except:\n",
    "#         return (\"NOT FOUND\")  # for troubleshooting matching\n",
    "        return(np.nan)\n",
    "\n",
    "countryDF['FuzzyMatch'] = countryDF.apply(lambda row: fuzzyCountry(row.CountryCleaned), axis=1)"
   ]
  },
  {
   "cell_type": "markdown",
   "metadata": {},
   "source": [
    "#### A couple more fixes:"
   ]
  },
  {
   "cell_type": "code",
   "execution_count": 25,
   "metadata": {},
   "outputs": [],
   "source": [
    "countryDF.FuzzyMatch.replace(\"Korea, Democratic People's Republic of\", \"North Korea\", inplace=True)"
   ]
  },
  {
   "cell_type": "code",
   "execution_count": 26,
   "metadata": {},
   "outputs": [
    {
     "name": "stderr",
     "output_type": "stream",
     "text": [
      "C:\\ProgramData\\Anaconda3\\lib\\site-packages\\pandas\\core\\indexing.py:670: SettingWithCopyWarning: \n",
      "A value is trying to be set on a copy of a slice from a DataFrame\n",
      "\n",
      "See the caveats in the documentation: https://pandas.pydata.org/pandas-docs/stable/user_guide/indexing.html#returning-a-view-versus-a-copy\n",
      "  iloc._setitem_with_indexer(indexer, value)\n"
     ]
    }
   ],
   "source": [
    "countryDF.FuzzyMatch.iloc[725] = 'South Korea'"
   ]
  },
  {
   "cell_type": "code",
   "execution_count": 27,
   "metadata": {},
   "outputs": [
    {
     "data": {
      "text/plain": [
       "array(['Canada', 'United States', 'United Kingdom', 'Japan', 'France',\n",
       "       nan, 'Switzerland', 'North Korea', 'Belgium', 'Croatia',\n",
       "       'Portugal', 'Spain', 'Panama', 'Australia', 'Hungary', 'Austria',\n",
       "       'New Zealand', 'Germany', 'Mexico', 'Brazil', 'South Korea',\n",
       "       'Philippines', 'Tonga', 'Sweden', 'Netherlands', 'Finland',\n",
       "       'American Samoa', 'China', 'Kenya'], dtype=object)"
      ]
     },
     "execution_count": 27,
     "metadata": {},
     "output_type": "execute_result"
    }
   ],
   "source": [
    "countryDF.FuzzyMatch.unique()"
   ]
  },
  {
   "cell_type": "markdown",
   "metadata": {},
   "source": [
    "#### Perform a merge for non-null values:"
   ]
  },
  {
   "cell_type": "code",
   "execution_count": 28,
   "metadata": {},
   "outputs": [],
   "source": [
    "countryDF['Combined'] = countryDF['FuzzyMatch'].combine_first(countryDF['Country'])"
   ]
  },
  {
   "cell_type": "code",
   "execution_count": 29,
   "metadata": {},
   "outputs": [
    {
     "data": {
      "text/html": [
       "<div>\n",
       "<style scoped>\n",
       "    .dataframe tbody tr th:only-of-type {\n",
       "        vertical-align: middle;\n",
       "    }\n",
       "\n",
       "    .dataframe tbody tr th {\n",
       "        vertical-align: top;\n",
       "    }\n",
       "\n",
       "    .dataframe thead th {\n",
       "        text-align: right;\n",
       "    }\n",
       "</style>\n",
       "<table border=\"1\" class=\"dataframe\">\n",
       "  <thead>\n",
       "    <tr style=\"text-align: right;\">\n",
       "      <th></th>\n",
       "      <th>Timestamp</th>\n",
       "      <th>Country</th>\n",
       "      <th>CountryCleaned</th>\n",
       "      <th>FuzzyMatch</th>\n",
       "      <th>Combined</th>\n",
       "    </tr>\n",
       "  </thead>\n",
       "  <tbody>\n",
       "    <tr>\n",
       "      <th>57</th>\n",
       "      <td>2016-10-24 05:54:40.128</td>\n",
       "      <td>A tropical island south of the equator</td>\n",
       "      <td>a tropical island south of the equator</td>\n",
       "      <td>NaN</td>\n",
       "      <td>A tropical island south of the equator</td>\n",
       "    </tr>\n",
       "    <tr>\n",
       "      <th>89</th>\n",
       "      <td>2016-10-24 06:15:22.247</td>\n",
       "      <td>Neverland</td>\n",
       "      <td>neverland</td>\n",
       "      <td>NaN</td>\n",
       "      <td>Neverland</td>\n",
       "    </tr>\n",
       "    <tr>\n",
       "      <th>99</th>\n",
       "      <td>2016-10-24 06:21:18.515</td>\n",
       "      <td>this one</td>\n",
       "      <td>this one</td>\n",
       "      <td>NaN</td>\n",
       "      <td>this one</td>\n",
       "    </tr>\n",
       "    <tr>\n",
       "      <th>310</th>\n",
       "      <td>2016-10-24 08:50:32.535</td>\n",
       "      <td>Cascadia</td>\n",
       "      <td>cascadia</td>\n",
       "      <td>NaN</td>\n",
       "      <td>Cascadia</td>\n",
       "    </tr>\n",
       "    <tr>\n",
       "      <th>411</th>\n",
       "      <td>2016-10-24 10:21:01.946</td>\n",
       "      <td>there isn't one for old men</td>\n",
       "      <td>there isn't one for old men</td>\n",
       "      <td>NaN</td>\n",
       "      <td>there isn't one for old men</td>\n",
       "    </tr>\n",
       "    <tr>\n",
       "      <th>444</th>\n",
       "      <td>2016-10-24 11:00:42.575</td>\n",
       "      <td>one of the best ones</td>\n",
       "      <td>one of the best ones</td>\n",
       "      <td>NaN</td>\n",
       "      <td>one of the best ones</td>\n",
       "    </tr>\n",
       "    <tr>\n",
       "      <th>612</th>\n",
       "      <td>2016-10-24 14:48:10.100</td>\n",
       "      <td>Somewhere</td>\n",
       "      <td>somewhere</td>\n",
       "      <td>NaN</td>\n",
       "      <td>Somewhere</td>\n",
       "    </tr>\n",
       "    <tr>\n",
       "      <th>1071</th>\n",
       "      <td>2016-10-27 10:42:49.888</td>\n",
       "      <td>See above</td>\n",
       "      <td>see above</td>\n",
       "      <td>NaN</td>\n",
       "      <td>See above</td>\n",
       "    </tr>\n",
       "    <tr>\n",
       "      <th>1124</th>\n",
       "      <td>2016-10-27 12:23:56.227</td>\n",
       "      <td>The republic of Cascadia</td>\n",
       "      <td>the republic of cascadia</td>\n",
       "      <td>NaN</td>\n",
       "      <td>The republic of Cascadia</td>\n",
       "    </tr>\n",
       "    <tr>\n",
       "      <th>1156</th>\n",
       "      <td>2016-10-27 13:53:10.380</td>\n",
       "      <td>Not the USA or Canada</td>\n",
       "      <td>not the usa or canada</td>\n",
       "      <td>NaN</td>\n",
       "      <td>Not the USA or Canada</td>\n",
       "    </tr>\n",
       "    <tr>\n",
       "      <th>1193</th>\n",
       "      <td>2016-10-27 15:49:33.782</td>\n",
       "      <td>Denial</td>\n",
       "      <td>denial</td>\n",
       "      <td>NaN</td>\n",
       "      <td>Denial</td>\n",
       "    </tr>\n",
       "  </tbody>\n",
       "</table>\n",
       "</div>"
      ],
      "text/plain": [
       "                   Timestamp                                 Country  \\\n",
       "57   2016-10-24 05:54:40.128  A tropical island south of the equator   \n",
       "89   2016-10-24 06:15:22.247                               Neverland   \n",
       "99   2016-10-24 06:21:18.515                                this one   \n",
       "310  2016-10-24 08:50:32.535                                Cascadia   \n",
       "411  2016-10-24 10:21:01.946             there isn't one for old men   \n",
       "444  2016-10-24 11:00:42.575                    one of the best ones   \n",
       "612  2016-10-24 14:48:10.100                               Somewhere   \n",
       "1071 2016-10-27 10:42:49.888                               See above   \n",
       "1124 2016-10-27 12:23:56.227               The republic of Cascadia    \n",
       "1156 2016-10-27 13:53:10.380                   Not the USA or Canada   \n",
       "1193 2016-10-27 15:49:33.782                                  Denial   \n",
       "\n",
       "                              CountryCleaned FuzzyMatch  \\\n",
       "57    a tropical island south of the equator        NaN   \n",
       "89                                 neverland        NaN   \n",
       "99                                  this one        NaN   \n",
       "310                                 cascadia        NaN   \n",
       "411              there isn't one for old men        NaN   \n",
       "444                     one of the best ones        NaN   \n",
       "612                                somewhere        NaN   \n",
       "1071                               see above        NaN   \n",
       "1124                the republic of cascadia        NaN   \n",
       "1156                   not the usa or canada        NaN   \n",
       "1193                                  denial        NaN   \n",
       "\n",
       "                                    Combined  \n",
       "57    A tropical island south of the equator  \n",
       "89                                 Neverland  \n",
       "99                                  this one  \n",
       "310                                 Cascadia  \n",
       "411              there isn't one for old men  \n",
       "444                     one of the best ones  \n",
       "612                                Somewhere  \n",
       "1071                               See above  \n",
       "1124               The republic of Cascadia   \n",
       "1156                   Not the USA or Canada  \n",
       "1193                                  Denial  "
      ]
     },
     "execution_count": 29,
     "metadata": {},
     "output_type": "execute_result"
    }
   ],
   "source": [
    "countryDF[countryDF['FuzzyMatch'].isnull()]"
   ]
  },
  {
   "cell_type": "markdown",
   "metadata": {},
   "source": [
    "#### Merge back to dataset:"
   ]
  },
  {
   "cell_type": "code",
   "execution_count": 32,
   "metadata": {},
   "outputs": [],
   "source": [
    "dfLite['Country'] = countryDF['FuzzyMatch']"
   ]
  },
  {
   "cell_type": "code",
   "execution_count": 33,
   "metadata": {},
   "outputs": [
    {
     "data": {
      "text/html": [
       "<div>\n",
       "<style scoped>\n",
       "    .dataframe tbody tr th:only-of-type {\n",
       "        vertical-align: middle;\n",
       "    }\n",
       "\n",
       "    .dataframe tbody tr th {\n",
       "        vertical-align: top;\n",
       "    }\n",
       "\n",
       "    .dataframe thead th {\n",
       "        text-align: right;\n",
       "    }\n",
       "</style>\n",
       "<table border=\"1\" class=\"dataframe\">\n",
       "  <thead>\n",
       "    <tr style=\"text-align: right;\">\n",
       "      <th></th>\n",
       "      <th>Timestamp</th>\n",
       "      <th>TrickOrTreat</th>\n",
       "      <th>Gender</th>\n",
       "      <th>Age</th>\n",
       "      <th>Country</th>\n",
       "      <th>Locale</th>\n",
       "    </tr>\n",
       "  </thead>\n",
       "  <tbody>\n",
       "    <tr>\n",
       "      <th>0</th>\n",
       "      <td>2016-10-24 05:09:23.033</td>\n",
       "      <td>No</td>\n",
       "      <td>Male</td>\n",
       "      <td>22</td>\n",
       "      <td>Canada</td>\n",
       "      <td>Ontario</td>\n",
       "    </tr>\n",
       "    <tr>\n",
       "      <th>1</th>\n",
       "      <td>2016-10-24 05:09:54.798</td>\n",
       "      <td>No</td>\n",
       "      <td>Male</td>\n",
       "      <td>45</td>\n",
       "      <td>United States</td>\n",
       "      <td>il</td>\n",
       "    </tr>\n",
       "    <tr>\n",
       "      <th>2</th>\n",
       "      <td>2016-10-24 05:13:06.734</td>\n",
       "      <td>No</td>\n",
       "      <td>Female</td>\n",
       "      <td>48</td>\n",
       "      <td>United States</td>\n",
       "      <td>Colorado</td>\n",
       "    </tr>\n",
       "  </tbody>\n",
       "</table>\n",
       "</div>"
      ],
      "text/plain": [
       "                Timestamp TrickOrTreat  Gender Age        Country    Locale\n",
       "0 2016-10-24 05:09:23.033           No    Male  22         Canada   Ontario\n",
       "1 2016-10-24 05:09:54.798           No    Male  45  United States        il\n",
       "2 2016-10-24 05:13:06.734           No  Female  48  United States  Colorado"
      ]
     },
     "execution_count": 33,
     "metadata": {},
     "output_type": "execute_result"
    }
   ],
   "source": [
    "dfLite.iloc[0:3, 0:6]"
   ]
  },
  {
   "cell_type": "markdown",
   "metadata": {},
   "source": [
    "### Clean up Age column:"
   ]
  },
  {
   "cell_type": "code",
   "execution_count": 35,
   "metadata": {},
   "outputs": [
    {
     "data": {
      "text/plain": [
       "array([22, 45, 48, 57, 42, 41, 47, 28, 44, 34, 46, 40, 31, 33, 35, 49, 16,\n",
       "       60, 30, 51, 38, 54, 43, 50, 37, 55, 58, 32,\n",
       "       'Old enough to know better ', 64, 61, 65, 26, 36, 78, 39, 52, 29,\n",
       "       63, 'old enough',\n",
       "       'As old as my tongue a few years older than my teeth', '50s',\n",
       "       'old', nan, 10, 62, '0x2A', 23, 20, 24, 17, 27, 53, 18, 13, 56, 66,\n",
       "       'Fifty.  Nine.  Ish.', 25, 59, 74, 19, 'Ancient',\n",
       "       'I remember the Nixon administration', 'over retirement age', 14,\n",
       "       79, 'Old enough', '50+', 70, '55+', 'over 40', 'Hahahahahaha', 68,\n",
       "       81, 1000000000000000000, 'Old', 'Older than i act', 'really old',\n",
       "       12, 67, 'blah', 23.2, 11, 'older than I want to be', 21, 71,\n",
       "       'Not as old as you...', 82, 'Never ask a woman that question.',\n",
       "       'old ', 'Same as yo mama', 15,\n",
       "       'Too old to trick or treat without it being creepy', 'ancient',\n",
       "       142, 7, 'Old enough to not Trick or Treat.', '49 11/12ths'],\n",
       "      dtype=object)"
      ]
     },
     "execution_count": 35,
     "metadata": {},
     "output_type": "execute_result"
    }
   ],
   "source": [
    "dfLite['Age'].unique()"
   ]
  },
  {
   "cell_type": "markdown",
   "metadata": {},
   "source": [
    "##### Lots of weird ones here. Let's see what we can do."
   ]
  },
  {
   "cell_type": "code",
   "execution_count": 36,
   "metadata": {},
   "outputs": [],
   "source": [
    "dfAge = dfLite.copy()"
   ]
  },
  {
   "cell_type": "markdown",
   "metadata": {},
   "source": [
    "#### Take a look at the non-numeric values:"
   ]
  },
  {
   "cell_type": "code",
   "execution_count": 37,
   "metadata": {},
   "outputs": [
    {
     "data": {
      "text/plain": [
       "57                             Old enough to know better \n",
       "99                                             old enough\n",
       "100     As old as my tongue a few years older than my ...\n",
       "102                                                   50s\n",
       "104                                                   old\n",
       "135                                                  0x2A\n",
       "265                                   Fifty.  Nine.  Ish.\n",
       "310                                               Ancient\n",
       "415                   I remember the Nixon administration\n",
       "423                                   over retirement age\n",
       "444                                                   old\n",
       "478                                            Old enough\n",
       "495                                                   50+\n",
       "512                                                   55+\n",
       "516                                               over 40\n",
       "524                                          Hahahahahaha\n",
       "618                                            old enough\n",
       "636                                                   Old\n",
       "641                                      Older than i act\n",
       "663                                            really old\n",
       "706                                                  blah\n",
       "800                               older than I want to be\n",
       "933                                  Not as old as you...\n",
       "944                                                   Old\n",
       "961                      Never ask a woman that question.\n",
       "962                                  Not as old as you...\n",
       "987                                                  old \n",
       "1031                                           Old enough\n",
       "1032                                           old enough\n",
       "1071                                      Same as yo mama\n",
       "1112                                                  50+\n",
       "1156    Too old to trick or treat without it being creepy\n",
       "1192                                              ancient\n",
       "1197                    Old enough to not Trick or Treat.\n",
       "1245                                          49 11/12ths\n",
       "Name: Age, dtype: object"
      ]
     },
     "execution_count": 37,
     "metadata": {},
     "output_type": "execute_result"
    }
   ],
   "source": [
    "dfAge['Age'][dfAge['Age'].str.isnumeric() == False]"
   ]
  },
  {
   "cell_type": "markdown",
   "metadata": {},
   "source": [
    "#### Estimate ages given as text, rounding ranges down:"
   ]
  },
  {
   "cell_type": "code",
   "execution_count": 38,
   "metadata": {},
   "outputs": [],
   "source": [
    "replacements = {\n",
    "    '49 11/12ths': 49,\n",
    "    '50+': 50,\n",
    "    'over 40': 40,\n",
    "    '55+': 55,\n",
    "    'over retirement age': 65,\n",
    "    'I remember the Nixon administration': 60, # estimated\n",
    "    'Fifty.  Nine.  Ish.': 59,\n",
    "    '0x2A': 42,  # in hexadecimal\n",
    "    '50s': 50\n",
    "}\n",
    "\n",
    "dfAge['Age'].replace(replacements, inplace=True)"
   ]
  },
  {
   "cell_type": "markdown",
   "metadata": {},
   "source": [
    "#### Replace remaining unknowns with null value:"
   ]
  },
  {
   "cell_type": "code",
   "execution_count": 39,
   "metadata": {},
   "outputs": [],
   "source": [
    "dfAge[dfAge['Age'].str.isnumeric() == False] = np.nan"
   ]
  },
  {
   "cell_type": "code",
   "execution_count": 40,
   "metadata": {},
   "outputs": [
    {
     "data": {
      "text/plain": [
       "array([22, 45, 48, 57, 42, 41, 47, 28, 44, 34, 46, 40, 31, 33, 35, 49, 16,\n",
       "       60, 30, 51, 38, 54, 43, 50, 37, 55, 58, 32, nan, 64, 61, 65, 26,\n",
       "       36, 78, 39, 52, 29, 63, 10, 62, 23, 20, 24, 17, 27, 53, 18, 13, 56,\n",
       "       66, 59, 25, 74, 19, 14, 79, 70, 68, 81, 1000000000000000000, 12,\n",
       "       67, 23.2, 11, 21, 71, 82, 15, 142, 7], dtype=object)"
      ]
     },
     "execution_count": 40,
     "metadata": {},
     "output_type": "execute_result"
    }
   ],
   "source": [
    "dfAge.Age.unique()"
   ]
  },
  {
   "cell_type": "markdown",
   "metadata": {},
   "source": [
    "#### Still some outliers.\n",
    "Oldest person to ever live was 122; replace anything older with null:"
   ]
  },
  {
   "cell_type": "code",
   "execution_count": 41,
   "metadata": {},
   "outputs": [],
   "source": [
    "dfAge[dfAge['Age'] > 122] = np.nan"
   ]
  },
  {
   "cell_type": "markdown",
   "metadata": {},
   "source": [
    "#### Merge back to data set:"
   ]
  },
  {
   "cell_type": "code",
   "execution_count": 42,
   "metadata": {},
   "outputs": [],
   "source": [
    "dfLite['Age'] = pd.to_numeric(dfAge['Age'])"
   ]
  },
  {
   "cell_type": "markdown",
   "metadata": {},
   "source": [
    "## Heirarchical Index"
   ]
  },
  {
   "cell_type": "code",
   "execution_count": 44,
   "metadata": {},
   "outputs": [],
   "source": [
    "dfIndexed = dfLite.copy()"
   ]
  },
  {
   "cell_type": "markdown",
   "metadata": {},
   "source": [
    "#### Add TrickOrTreat, Gender, and Age indices:"
   ]
  },
  {
   "cell_type": "code",
   "execution_count": 45,
   "metadata": {},
   "outputs": [],
   "source": [
    "indices = [dfIndexed.columns[1], dfIndexed.columns[2], dfIndexed.columns[3]]\n",
    "dfIndexed.set_index(indices, inplace=True)"
   ]
  },
  {
   "cell_type": "code",
   "execution_count": 46,
   "metadata": {},
   "outputs": [
    {
     "data": {
      "text/plain": [
       "pandas.core.indexes.multi.MultiIndex"
      ]
     },
     "execution_count": 46,
     "metadata": {},
     "output_type": "execute_result"
    }
   ],
   "source": [
    "type(dfIndexed.index)"
   ]
  },
  {
   "cell_type": "code",
   "execution_count": 47,
   "metadata": {},
   "outputs": [
    {
     "data": {
      "text/html": [
       "<div>\n",
       "<style scoped>\n",
       "    .dataframe tbody tr th:only-of-type {\n",
       "        vertical-align: middle;\n",
       "    }\n",
       "\n",
       "    .dataframe tbody tr th {\n",
       "        vertical-align: top;\n",
       "    }\n",
       "\n",
       "    .dataframe thead th {\n",
       "        text-align: right;\n",
       "    }\n",
       "</style>\n",
       "<table border=\"1\" class=\"dataframe\">\n",
       "  <thead>\n",
       "    <tr style=\"text-align: right;\">\n",
       "      <th></th>\n",
       "      <th></th>\n",
       "      <th></th>\n",
       "      <th>Timestamp</th>\n",
       "      <th>Country</th>\n",
       "      <th>Locale</th>\n",
       "      <th>[100 Grand Bar]</th>\n",
       "      <th>[Anonymous brown globs that come in black and orange wrappers]</th>\n",
       "      <th>[Any full-sized candy bar]</th>\n",
       "      <th>[Black Jacks]</th>\n",
       "      <th>[Bonkers (the candy)]</th>\n",
       "      <th>[Bonkers (the board game)]</th>\n",
       "      <th>[Bottle Caps]</th>\n",
       "      <th>...</th>\n",
       "      <th>[Three Musketeers]</th>\n",
       "      <th>[Tolberone something or other]</th>\n",
       "      <th>[Trail Mix]</th>\n",
       "      <th>[Twix]</th>\n",
       "      <th>[Vials of pure high fructose corn syrup, for main-lining into your vein]</th>\n",
       "      <th>[Vicodin]</th>\n",
       "      <th>[Whatchamacallit Bars]</th>\n",
       "      <th>[White Bread]</th>\n",
       "      <th>[Whole Wheat anything]</th>\n",
       "      <th>[York Peppermint Patties]</th>\n",
       "    </tr>\n",
       "    <tr>\n",
       "      <th>TrickOrTreat</th>\n",
       "      <th>Gender</th>\n",
       "      <th>Age</th>\n",
       "      <th></th>\n",
       "      <th></th>\n",
       "      <th></th>\n",
       "      <th></th>\n",
       "      <th></th>\n",
       "      <th></th>\n",
       "      <th></th>\n",
       "      <th></th>\n",
       "      <th></th>\n",
       "      <th></th>\n",
       "      <th></th>\n",
       "      <th></th>\n",
       "      <th></th>\n",
       "      <th></th>\n",
       "      <th></th>\n",
       "      <th></th>\n",
       "      <th></th>\n",
       "      <th></th>\n",
       "      <th></th>\n",
       "      <th></th>\n",
       "      <th></th>\n",
       "    </tr>\n",
       "  </thead>\n",
       "  <tbody>\n",
       "    <tr>\n",
       "      <th rowspan=\"4\" valign=\"top\">No</th>\n",
       "      <th rowspan=\"2\" valign=\"top\">Male</th>\n",
       "      <th>22.0</th>\n",
       "      <td>2016-10-24 05:09:23.033</td>\n",
       "      <td>Canada</td>\n",
       "      <td>Ontario</td>\n",
       "      <td>JOY</td>\n",
       "      <td>DESPAIR</td>\n",
       "      <td>JOY</td>\n",
       "      <td>MEH</td>\n",
       "      <td>MEH</td>\n",
       "      <td>MEH</td>\n",
       "      <td>MEH</td>\n",
       "      <td>...</td>\n",
       "      <td>JOY</td>\n",
       "      <td>JOY</td>\n",
       "      <td>DESPAIR</td>\n",
       "      <td>JOY</td>\n",
       "      <td>DESPAIR</td>\n",
       "      <td>JOY</td>\n",
       "      <td>DESPAIR</td>\n",
       "      <td>DESPAIR</td>\n",
       "      <td>DESPAIR</td>\n",
       "      <td>JOY</td>\n",
       "    </tr>\n",
       "    <tr>\n",
       "      <th>45.0</th>\n",
       "      <td>2016-10-24 05:09:54.798</td>\n",
       "      <td>United States</td>\n",
       "      <td>il</td>\n",
       "      <td>MEH</td>\n",
       "      <td>MEH</td>\n",
       "      <td>JOY</td>\n",
       "      <td>JOY</td>\n",
       "      <td>DESPAIR</td>\n",
       "      <td>MEH</td>\n",
       "      <td>JOY</td>\n",
       "      <td>...</td>\n",
       "      <td>JOY</td>\n",
       "      <td>JOY</td>\n",
       "      <td>MEH</td>\n",
       "      <td>JOY</td>\n",
       "      <td>DESPAIR</td>\n",
       "      <td>JOY</td>\n",
       "      <td>JOY</td>\n",
       "      <td>DESPAIR</td>\n",
       "      <td>DESPAIR</td>\n",
       "      <td>JOY</td>\n",
       "    </tr>\n",
       "    <tr>\n",
       "      <th>Female</th>\n",
       "      <th>48.0</th>\n",
       "      <td>2016-10-24 05:13:06.734</td>\n",
       "      <td>United States</td>\n",
       "      <td>Colorado</td>\n",
       "      <td>JOY</td>\n",
       "      <td>DESPAIR</td>\n",
       "      <td>JOY</td>\n",
       "      <td>MEH</td>\n",
       "      <td>MEH</td>\n",
       "      <td>JOY</td>\n",
       "      <td>JOY</td>\n",
       "      <td>...</td>\n",
       "      <td>JOY</td>\n",
       "      <td>JOY</td>\n",
       "      <td>DESPAIR</td>\n",
       "      <td>JOY</td>\n",
       "      <td>DESPAIR</td>\n",
       "      <td>DESPAIR</td>\n",
       "      <td>MEH</td>\n",
       "      <td>DESPAIR</td>\n",
       "      <td>DESPAIR</td>\n",
       "      <td>JOY</td>\n",
       "    </tr>\n",
       "    <tr>\n",
       "      <th>Male</th>\n",
       "      <th>57.0</th>\n",
       "      <td>2016-10-24 05:14:17.192</td>\n",
       "      <td>United States</td>\n",
       "      <td>il</td>\n",
       "      <td>JOY</td>\n",
       "      <td>MEH</td>\n",
       "      <td>JOY</td>\n",
       "      <td>MEH</td>\n",
       "      <td>MEH</td>\n",
       "      <td>DESPAIR</td>\n",
       "      <td>DESPAIR</td>\n",
       "      <td>...</td>\n",
       "      <td>JOY</td>\n",
       "      <td>JOY</td>\n",
       "      <td>JOY</td>\n",
       "      <td>JOY</td>\n",
       "      <td>DESPAIR</td>\n",
       "      <td>JOY</td>\n",
       "      <td>JOY</td>\n",
       "      <td>DESPAIR</td>\n",
       "      <td>DESPAIR</td>\n",
       "      <td>JOY</td>\n",
       "    </tr>\n",
       "    <tr>\n",
       "      <th>Yes</th>\n",
       "      <th>Male</th>\n",
       "      <th>42.0</th>\n",
       "      <td>2016-10-24 05:14:24.625</td>\n",
       "      <td>United States</td>\n",
       "      <td>South Dakota</td>\n",
       "      <td>MEH</td>\n",
       "      <td>DESPAIR</td>\n",
       "      <td>JOY</td>\n",
       "      <td>DESPAIR</td>\n",
       "      <td>MEH</td>\n",
       "      <td>JOY</td>\n",
       "      <td>MEH</td>\n",
       "      <td>...</td>\n",
       "      <td>JOY</td>\n",
       "      <td>JOY</td>\n",
       "      <td>MEH</td>\n",
       "      <td>JOY</td>\n",
       "      <td>JOY</td>\n",
       "      <td>JOY</td>\n",
       "      <td>MEH</td>\n",
       "      <td>DESPAIR</td>\n",
       "      <td>DESPAIR</td>\n",
       "      <td>MEH</td>\n",
       "    </tr>\n",
       "  </tbody>\n",
       "</table>\n",
       "<p>5 rows × 103 columns</p>\n",
       "</div>"
      ],
      "text/plain": [
       "                                       Timestamp        Country        Locale  \\\n",
       "TrickOrTreat Gender Age                                                         \n",
       "No           Male   22.0 2016-10-24 05:09:23.033         Canada       Ontario   \n",
       "                    45.0 2016-10-24 05:09:54.798  United States            il   \n",
       "             Female 48.0 2016-10-24 05:13:06.734  United States      Colorado   \n",
       "             Male   57.0 2016-10-24 05:14:17.192  United States            il   \n",
       "Yes          Male   42.0 2016-10-24 05:14:24.625  United States  South Dakota   \n",
       "\n",
       "                          [100 Grand Bar]  \\\n",
       "TrickOrTreat Gender Age                     \n",
       "No           Male   22.0              JOY   \n",
       "                    45.0              MEH   \n",
       "             Female 48.0              JOY   \n",
       "             Male   57.0              JOY   \n",
       "Yes          Male   42.0              MEH   \n",
       "\n",
       "                          [Anonymous brown globs that come in black and orange wrappers]  \\\n",
       "TrickOrTreat Gender Age                                                                    \n",
       "No           Male   22.0                                            DESPAIR                \n",
       "                    45.0                                                MEH                \n",
       "             Female 48.0                                            DESPAIR                \n",
       "             Male   57.0                                                MEH                \n",
       "Yes          Male   42.0                                            DESPAIR                \n",
       "\n",
       "                          [Any full-sized candy bar]  [Black Jacks]  \\\n",
       "TrickOrTreat Gender Age                                               \n",
       "No           Male   22.0                         JOY            MEH   \n",
       "                    45.0                         JOY            JOY   \n",
       "             Female 48.0                         JOY            MEH   \n",
       "             Male   57.0                         JOY            MEH   \n",
       "Yes          Male   42.0                         JOY        DESPAIR   \n",
       "\n",
       "                          [Bonkers (the candy)]  [Bonkers (the board game)]  \\\n",
       "TrickOrTreat Gender Age                                                       \n",
       "No           Male   22.0                    MEH                         MEH   \n",
       "                    45.0                DESPAIR                         MEH   \n",
       "             Female 48.0                    MEH                         JOY   \n",
       "             Male   57.0                    MEH                     DESPAIR   \n",
       "Yes          Male   42.0                    MEH                         JOY   \n",
       "\n",
       "                          [Bottle Caps]  ...  [Three Musketeers]  \\\n",
       "TrickOrTreat Gender Age                  ...                       \n",
       "No           Male   22.0            MEH  ...                 JOY   \n",
       "                    45.0            JOY  ...                 JOY   \n",
       "             Female 48.0            JOY  ...                 JOY   \n",
       "             Male   57.0        DESPAIR  ...                 JOY   \n",
       "Yes          Male   42.0            MEH  ...                 JOY   \n",
       "\n",
       "                          [Tolberone something or other]  [Trail Mix]  [Twix]  \\\n",
       "TrickOrTreat Gender Age                                                         \n",
       "No           Male   22.0                             JOY      DESPAIR     JOY   \n",
       "                    45.0                             JOY          MEH     JOY   \n",
       "             Female 48.0                             JOY      DESPAIR     JOY   \n",
       "             Male   57.0                             JOY          JOY     JOY   \n",
       "Yes          Male   42.0                             JOY          MEH     JOY   \n",
       "\n",
       "                          [Vials of pure high fructose corn syrup, for main-lining into your vein]  \\\n",
       "TrickOrTreat Gender Age                                                                              \n",
       "No           Male   22.0                                            DESPAIR                          \n",
       "                    45.0                                            DESPAIR                          \n",
       "             Female 48.0                                            DESPAIR                          \n",
       "             Male   57.0                                            DESPAIR                          \n",
       "Yes          Male   42.0                                                JOY                          \n",
       "\n",
       "                          [Vicodin]  [Whatchamacallit Bars]  [White Bread]  \\\n",
       "TrickOrTreat Gender Age                                                      \n",
       "No           Male   22.0        JOY                 DESPAIR        DESPAIR   \n",
       "                    45.0        JOY                     JOY        DESPAIR   \n",
       "             Female 48.0    DESPAIR                     MEH        DESPAIR   \n",
       "             Male   57.0        JOY                     JOY        DESPAIR   \n",
       "Yes          Male   42.0        JOY                     MEH        DESPAIR   \n",
       "\n",
       "                          [Whole Wheat anything]  [York Peppermint Patties]  \n",
       "TrickOrTreat Gender Age                                                      \n",
       "No           Male   22.0                 DESPAIR                        JOY  \n",
       "                    45.0                 DESPAIR                        JOY  \n",
       "             Female 48.0                 DESPAIR                        JOY  \n",
       "             Male   57.0                 DESPAIR                        JOY  \n",
       "Yes          Male   42.0                 DESPAIR                        MEH  \n",
       "\n",
       "[5 rows x 103 columns]"
      ]
     },
     "execution_count": 47,
     "metadata": {},
     "output_type": "execute_result"
    }
   ],
   "source": [
    "dfIndexed.head()"
   ]
  },
  {
   "cell_type": "markdown",
   "metadata": {},
   "source": [
    "#### See what data we have for 40-year-old Males who go Trick-or-Treating:"
   ]
  },
  {
   "cell_type": "code",
   "execution_count": 48,
   "metadata": {},
   "outputs": [
    {
     "name": "stderr",
     "output_type": "stream",
     "text": [
      "<ipython-input-48-22b2028c15bf>:1: PerformanceWarning: indexing past lexsort depth may impact performance.\n",
      "  dfIndexed.loc[('Yes', 'Male', 40)]\n"
     ]
    },
    {
     "data": {
      "text/html": [
       "<div>\n",
       "<style scoped>\n",
       "    .dataframe tbody tr th:only-of-type {\n",
       "        vertical-align: middle;\n",
       "    }\n",
       "\n",
       "    .dataframe tbody tr th {\n",
       "        vertical-align: top;\n",
       "    }\n",
       "\n",
       "    .dataframe thead th {\n",
       "        text-align: right;\n",
       "    }\n",
       "</style>\n",
       "<table border=\"1\" class=\"dataframe\">\n",
       "  <thead>\n",
       "    <tr style=\"text-align: right;\">\n",
       "      <th></th>\n",
       "      <th></th>\n",
       "      <th></th>\n",
       "      <th>Timestamp</th>\n",
       "      <th>Country</th>\n",
       "      <th>Locale</th>\n",
       "      <th>[100 Grand Bar]</th>\n",
       "      <th>[Anonymous brown globs that come in black and orange wrappers]</th>\n",
       "      <th>[Any full-sized candy bar]</th>\n",
       "      <th>[Black Jacks]</th>\n",
       "      <th>[Bonkers (the candy)]</th>\n",
       "      <th>[Bonkers (the board game)]</th>\n",
       "      <th>[Bottle Caps]</th>\n",
       "      <th>...</th>\n",
       "      <th>[Three Musketeers]</th>\n",
       "      <th>[Tolberone something or other]</th>\n",
       "      <th>[Trail Mix]</th>\n",
       "      <th>[Twix]</th>\n",
       "      <th>[Vials of pure high fructose corn syrup, for main-lining into your vein]</th>\n",
       "      <th>[Vicodin]</th>\n",
       "      <th>[Whatchamacallit Bars]</th>\n",
       "      <th>[White Bread]</th>\n",
       "      <th>[Whole Wheat anything]</th>\n",
       "      <th>[York Peppermint Patties]</th>\n",
       "    </tr>\n",
       "    <tr>\n",
       "      <th>TrickOrTreat</th>\n",
       "      <th>Gender</th>\n",
       "      <th>Age</th>\n",
       "      <th></th>\n",
       "      <th></th>\n",
       "      <th></th>\n",
       "      <th></th>\n",
       "      <th></th>\n",
       "      <th></th>\n",
       "      <th></th>\n",
       "      <th></th>\n",
       "      <th></th>\n",
       "      <th></th>\n",
       "      <th></th>\n",
       "      <th></th>\n",
       "      <th></th>\n",
       "      <th></th>\n",
       "      <th></th>\n",
       "      <th></th>\n",
       "      <th></th>\n",
       "      <th></th>\n",
       "      <th></th>\n",
       "      <th></th>\n",
       "      <th></th>\n",
       "    </tr>\n",
       "  </thead>\n",
       "  <tbody>\n",
       "    <tr>\n",
       "      <th rowspan=\"3\" valign=\"top\">Yes</th>\n",
       "      <th rowspan=\"3\" valign=\"top\">Male</th>\n",
       "      <th>40.0</th>\n",
       "      <td>2016-10-24 07:02:40.720</td>\n",
       "      <td>United States</td>\n",
       "      <td>Missouri</td>\n",
       "      <td>JOY</td>\n",
       "      <td>DESPAIR</td>\n",
       "      <td>JOY</td>\n",
       "      <td>DESPAIR</td>\n",
       "      <td>DESPAIR</td>\n",
       "      <td>MEH</td>\n",
       "      <td>MEH</td>\n",
       "      <td>...</td>\n",
       "      <td>JOY</td>\n",
       "      <td>JOY</td>\n",
       "      <td>DESPAIR</td>\n",
       "      <td>JOY</td>\n",
       "      <td>DESPAIR</td>\n",
       "      <td>JOY</td>\n",
       "      <td>MEH</td>\n",
       "      <td>DESPAIR</td>\n",
       "      <td>DESPAIR</td>\n",
       "      <td>MEH</td>\n",
       "    </tr>\n",
       "    <tr>\n",
       "      <th>40.0</th>\n",
       "      <td>2016-10-24 16:22:55.590</td>\n",
       "      <td>United States</td>\n",
       "      <td>CA</td>\n",
       "      <td>MEH</td>\n",
       "      <td>DESPAIR</td>\n",
       "      <td>JOY</td>\n",
       "      <td>MEH</td>\n",
       "      <td>MEH</td>\n",
       "      <td>MEH</td>\n",
       "      <td>DESPAIR</td>\n",
       "      <td>...</td>\n",
       "      <td>MEH</td>\n",
       "      <td>JOY</td>\n",
       "      <td>DESPAIR</td>\n",
       "      <td>MEH</td>\n",
       "      <td>DESPAIR</td>\n",
       "      <td>MEH</td>\n",
       "      <td>DESPAIR</td>\n",
       "      <td>DESPAIR</td>\n",
       "      <td>DESPAIR</td>\n",
       "      <td>DESPAIR</td>\n",
       "    </tr>\n",
       "    <tr>\n",
       "      <th>40.0</th>\n",
       "      <td>2016-10-24 16:48:26.992</td>\n",
       "      <td>United States</td>\n",
       "      <td>ca</td>\n",
       "      <td>JOY</td>\n",
       "      <td>DESPAIR</td>\n",
       "      <td>JOY</td>\n",
       "      <td>DESPAIR</td>\n",
       "      <td>MEH</td>\n",
       "      <td>MEH</td>\n",
       "      <td>JOY</td>\n",
       "      <td>...</td>\n",
       "      <td>MEH</td>\n",
       "      <td>MEH</td>\n",
       "      <td>DESPAIR</td>\n",
       "      <td>MEH</td>\n",
       "      <td>MEH</td>\n",
       "      <td>MEH</td>\n",
       "      <td>JOY</td>\n",
       "      <td>DESPAIR</td>\n",
       "      <td>DESPAIR</td>\n",
       "      <td>MEH</td>\n",
       "    </tr>\n",
       "  </tbody>\n",
       "</table>\n",
       "<p>3 rows × 103 columns</p>\n",
       "</div>"
      ],
      "text/plain": [
       "                                       Timestamp        Country    Locale  \\\n",
       "TrickOrTreat Gender Age                                                     \n",
       "Yes          Male   40.0 2016-10-24 07:02:40.720  United States  Missouri   \n",
       "                    40.0 2016-10-24 16:22:55.590  United States        CA   \n",
       "                    40.0 2016-10-24 16:48:26.992  United States        ca   \n",
       "\n",
       "                          [100 Grand Bar]  \\\n",
       "TrickOrTreat Gender Age                     \n",
       "Yes          Male   40.0              JOY   \n",
       "                    40.0              MEH   \n",
       "                    40.0              JOY   \n",
       "\n",
       "                          [Anonymous brown globs that come in black and orange wrappers]  \\\n",
       "TrickOrTreat Gender Age                                                                    \n",
       "Yes          Male   40.0                                            DESPAIR                \n",
       "                    40.0                                            DESPAIR                \n",
       "                    40.0                                            DESPAIR                \n",
       "\n",
       "                          [Any full-sized candy bar]  [Black Jacks]  \\\n",
       "TrickOrTreat Gender Age                                               \n",
       "Yes          Male   40.0                         JOY        DESPAIR   \n",
       "                    40.0                         JOY            MEH   \n",
       "                    40.0                         JOY        DESPAIR   \n",
       "\n",
       "                          [Bonkers (the candy)]  [Bonkers (the board game)]  \\\n",
       "TrickOrTreat Gender Age                                                       \n",
       "Yes          Male   40.0                DESPAIR                         MEH   \n",
       "                    40.0                    MEH                         MEH   \n",
       "                    40.0                    MEH                         MEH   \n",
       "\n",
       "                          [Bottle Caps]  ...  [Three Musketeers]  \\\n",
       "TrickOrTreat Gender Age                  ...                       \n",
       "Yes          Male   40.0            MEH  ...                 JOY   \n",
       "                    40.0        DESPAIR  ...                 MEH   \n",
       "                    40.0            JOY  ...                 MEH   \n",
       "\n",
       "                          [Tolberone something or other]  [Trail Mix]  [Twix]  \\\n",
       "TrickOrTreat Gender Age                                                         \n",
       "Yes          Male   40.0                             JOY      DESPAIR     JOY   \n",
       "                    40.0                             JOY      DESPAIR     MEH   \n",
       "                    40.0                             MEH      DESPAIR     MEH   \n",
       "\n",
       "                          [Vials of pure high fructose corn syrup, for main-lining into your vein]  \\\n",
       "TrickOrTreat Gender Age                                                                              \n",
       "Yes          Male   40.0                                            DESPAIR                          \n",
       "                    40.0                                            DESPAIR                          \n",
       "                    40.0                                                MEH                          \n",
       "\n",
       "                          [Vicodin]  [Whatchamacallit Bars]  [White Bread]  \\\n",
       "TrickOrTreat Gender Age                                                      \n",
       "Yes          Male   40.0        JOY                     MEH        DESPAIR   \n",
       "                    40.0        MEH                 DESPAIR        DESPAIR   \n",
       "                    40.0        MEH                     JOY        DESPAIR   \n",
       "\n",
       "                          [Whole Wheat anything]  [York Peppermint Patties]  \n",
       "TrickOrTreat Gender Age                                                      \n",
       "Yes          Male   40.0                 DESPAIR                        MEH  \n",
       "                    40.0                 DESPAIR                    DESPAIR  \n",
       "                    40.0                 DESPAIR                        MEH  \n",
       "\n",
       "[3 rows x 103 columns]"
      ]
     },
     "execution_count": 48,
     "metadata": {},
     "output_type": "execute_result"
    }
   ],
   "source": [
    "dfIndexed.loc[('Yes', 'Male', 40)]"
   ]
  },
  {
   "cell_type": "markdown",
   "metadata": {},
   "source": [
    "## Pivot Tables"
   ]
  },
  {
   "cell_type": "code",
   "execution_count": 49,
   "metadata": {},
   "outputs": [],
   "source": [
    "pivotDF = dfLite.copy()"
   ]
  },
  {
   "cell_type": "code",
   "execution_count": null,
   "metadata": {},
   "outputs": [],
   "source": []
  }
 ],
 "metadata": {
  "kernelspec": {
   "display_name": "Python 3",
   "language": "python",
   "name": "python3"
  },
  "language_info": {
   "codemirror_mode": {
    "name": "ipython",
    "version": 3
   },
   "file_extension": ".py",
   "mimetype": "text/x-python",
   "name": "python",
   "nbconvert_exporter": "python",
   "pygments_lexer": "ipython3",
   "version": "3.8.5"
  }
 },
 "nbformat": 4,
 "nbformat_minor": 4
}
