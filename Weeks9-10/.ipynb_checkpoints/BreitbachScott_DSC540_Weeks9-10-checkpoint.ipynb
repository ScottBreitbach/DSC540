{
 "cells": [
  {
   "cell_type": "markdown",
   "metadata": {},
   "source": [
    "# Scott Breitbach\n",
    "## 14-Feb-2021\n",
    "## DSC540, Weeks 9-10"
   ]
  },
  {
   "cell_type": "markdown",
   "metadata": {},
   "source": [
    "# 1. Activity 9: Extracting the Top 100 eBooks from Gutenberg"
   ]
  },
  {
   "cell_type": "markdown",
   "metadata": {},
   "source": [
    "## 1) Import the necessary libraries, including **regex** and **beautifulsoup**."
   ]
  },
  {
   "cell_type": "code",
   "execution_count": null,
   "metadata": {},
   "outputs": [],
   "source": [
    "import re\n",
    "import requests\n",
    "from bs4 import BeautifulSoup\n",
    "import urllib.request, urllib.parse, urllib.error\n",
    "import ssl"
   ]
  },
  {
   "cell_type": "markdown",
   "metadata": {},
   "source": [
    "## 2) Check the SSL certificate."
   ]
  },
  {
   "cell_type": "code",
   "execution_count": null,
   "metadata": {},
   "outputs": [],
   "source": [
    "# Ignore SSL certificate errors\n",
    "ctx = ssl.create_default_context()\n",
    "ctx.check_hostname = False\n",
    "ctx.verify_mode = ssl.CERT_NONE"
   ]
  },
  {
   "cell_type": "markdown",
   "metadata": {},
   "source": [
    "## 3) Read the HTML from the URL."
   ]
  },
  {
   "cell_type": "code",
   "execution_count": 3,
   "metadata": {},
   "outputs": [],
   "source": [
    "url = \"https://www.gutenberg.org/browse/scores/top\"\n",
    "response = requests.get(url)"
   ]
  },
  {
   "cell_type": "markdown",
   "metadata": {},
   "source": [
    "## 4) Write a small function to check the status of the web request."
   ]
  },
  {
   "cell_type": "code",
   "execution_count": 4,
   "metadata": {},
   "outputs": [],
   "source": [
    "def statusCheck(resp):\n",
    "    if resp.status_code==200:\n",
    "        print('Web request successful!')\n",
    "        return 1\n",
    "    else:\n",
    "        print('Web request failed.')\n",
    "        return -1"
   ]
  },
  {
   "cell_type": "markdown",
   "metadata": {},
   "source": [
    "## 5) Decode the response and pass this on to BeautifulSoup for HTML parsing."
   ]
  },
  {
   "cell_type": "code",
   "execution_count": 5,
   "metadata": {},
   "outputs": [
    {
     "name": "stdout",
     "output_type": "stream",
     "text": [
      "Web request successful!\n"
     ]
    }
   ],
   "source": [
    "def decodeResponse(resp):\n",
    "    def decodeContent(r, encoding):\n",
    "        return(r.content.decode(encoding))\n",
    "    \n",
    "    def encodingCheck(r):\n",
    "        return (r.encoding)\n",
    "    \n",
    "    status = statusCheck(resp)\n",
    "    \n",
    "    if status==1:\n",
    "        contents = decodeContent(response, encodingCheck(response))\n",
    "        return contents\n",
    "    else:\n",
    "        print(\"Sorry, could not reach the web page!\")\n",
    "        return -1\n",
    "    \n",
    "contents = decodeResponse(response)"
   ]
  },
  {
   "cell_type": "code",
   "execution_count": 6,
   "metadata": {},
   "outputs": [],
   "source": [
    "soup = BeautifulSoup(contents, 'html.parser')"
   ]
  },
  {
   "cell_type": "markdown",
   "metadata": {},
   "source": [
    "## 6) Find all the **href** tags and store them in the list of links. Check what the list looks like - print the first 30 elements."
   ]
  },
  {
   "cell_type": "code",
   "execution_count": 7,
   "metadata": {},
   "outputs": [
    {
     "data": {
      "text/plain": [
       "'/ebooks/1342'"
      ]
     },
     "execution_count": 7,
     "metadata": {},
     "output_type": "execute_result"
    }
   ],
   "source": [
    "soup.find_all('li')[31].a.get('href')"
   ]
  },
  {
   "cell_type": "markdown",
   "metadata": {},
   "source": [
    "Find all the **href** tags and store them in the list of links:"
   ]
  },
  {
   "cell_type": "code",
   "execution_count": 8,
   "metadata": {},
   "outputs": [
    {
     "data": {
      "text/plain": [
       "672"
      ]
     },
     "execution_count": 8,
     "metadata": {},
     "output_type": "execute_result"
    }
   ],
   "source": [
    "listOfLinks = []\n",
    "for link in soup.find_all('li'):\n",
    "    lnk = link.a.get('href')\n",
    "    listOfLinks.append(lnk)\n",
    "#     print(lnk)\n",
    "len(listOfLinks)"
   ]
  },
  {
   "cell_type": "markdown",
   "metadata": {},
   "source": [
    "Check what the list looks like - print the first 30 elements:"
   ]
  },
  {
   "cell_type": "code",
   "execution_count": 9,
   "metadata": {},
   "outputs": [
    {
     "data": {
      "text/plain": [
       "['/about/',\n",
       " '/about/',\n",
       " '/policy/collection_development.html',\n",
       " '/about/contact_information.html',\n",
       " '/about/background/',\n",
       " '/policy/permission.html',\n",
       " '/policy/privacy_policy.html',\n",
       " '/policy/terms_of_use.html',\n",
       " '/ebooks/',\n",
       " '/ebooks/',\n",
       " '/ebooks/bookshelf/',\n",
       " '/browse/scores/top',\n",
       " '/ebooks/offline_catalogs.html',\n",
       " '/help/',\n",
       " '/help/',\n",
       " '/help/copyright.html',\n",
       " '/help/errata.html',\n",
       " '/help/file_formats.html',\n",
       " '/help/faq.html',\n",
       " '/policy/',\n",
       " '/help/public_domain_ebook_submission.html',\n",
       " '/help/submitting_your_own_work.html',\n",
       " '/help/mobile.html',\n",
       " '/attic/',\n",
       " '/donate/',\n",
       " '#books-last1',\n",
       " '#authors-last1',\n",
       " '#books-last7',\n",
       " '#authors-last7',\n",
       " '#books-last30']"
      ]
     },
     "execution_count": 9,
     "metadata": {},
     "output_type": "execute_result"
    }
   ],
   "source": [
    "listOfLinks[:30]"
   ]
  },
  {
   "cell_type": "code",
   "execution_count": 10,
   "metadata": {},
   "outputs": [],
   "source": [
    "# print(soup.text[1000:1500])"
   ]
  },
  {
   "cell_type": "markdown",
   "metadata": {},
   "source": [
    "A bit more, to see where the book links start:"
   ]
  },
  {
   "cell_type": "code",
   "execution_count": 11,
   "metadata": {},
   "outputs": [
    {
     "data": {
      "text/plain": [
       "['#authors-last30',\n",
       " '/ebooks/1342',\n",
       " '/ebooks/84',\n",
       " '/ebooks/46',\n",
       " '/ebooks/11',\n",
       " '/ebooks/6133',\n",
       " '/ebooks/43',\n",
       " '/ebooks/1080',\n",
       " '/ebooks/64317',\n",
       " '/ebooks/1661']"
      ]
     },
     "execution_count": 11,
     "metadata": {},
     "output_type": "execute_result"
    }
   ],
   "source": [
    "listOfLinks[30:40]"
   ]
  },
  {
   "cell_type": "markdown",
   "metadata": {},
   "source": [
    "## 7) Use a regular expression to find the numeric digits in these links. These are the file numbers for the top 100 eBooks."
   ]
  },
  {
   "cell_type": "code",
   "execution_count": 12,
   "metadata": {},
   "outputs": [
    {
     "data": {
      "text/plain": [
       "'/ebooks/1342'"
      ]
     },
     "execution_count": 12,
     "metadata": {},
     "output_type": "execute_result"
    }
   ],
   "source": [
    "listOfLinks[31]"
   ]
  },
  {
   "cell_type": "markdown",
   "metadata": {},
   "source": [
    "Use a regular expression to find the numeric digits in these links:"
   ]
  },
  {
   "cell_type": "code",
   "execution_count": 13,
   "metadata": {},
   "outputs": [],
   "source": [
    "pattern = r\"/ebooks/[0-9]\"\n",
    "prog = re.compile(r'[0-9]*$')"
   ]
  },
  {
   "cell_type": "code",
   "execution_count": 14,
   "metadata": {},
   "outputs": [],
   "source": [
    "# prog.search(listOfLinks[31]).group()"
   ]
  },
  {
   "cell_type": "markdown",
   "metadata": {},
   "source": [
    "These are the file numbers for the top 100 eBooks:"
   ]
  },
  {
   "cell_type": "code",
   "execution_count": 15,
   "metadata": {},
   "outputs": [
    {
     "name": "stdout",
     "output_type": "stream",
     "text": [
      "1342\n",
      "84\n",
      "46\n",
      "11\n",
      "6133\n",
      "43\n",
      "1080\n",
      "64317\n",
      "1661\n",
      "25344\n",
      "98\n",
      "2701\n",
      "2542\n",
      "1260\n",
      "174\n",
      "1952\n",
      "5200\n",
      "16\n",
      "844\n",
      "1232\n"
     ]
    }
   ],
   "source": [
    "i=0\n",
    "for link in listOfLinks:\n",
    "    if re.match(pattern, link):\n",
    "#         print(link)\n",
    "        print(prog.search(link).group())\n",
    "    # Stop after 20 iterations, to keep this short\n",
    "        i += 1\n",
    "        if i >= 20:\n",
    "            break"
   ]
  },
  {
   "cell_type": "markdown",
   "metadata": {},
   "source": [
    "## 8) Initialize the empty list to hold the file numbers over an appropriate range and use **regex** to find the numeric digits in the link **href** string. Use the `.findall()` method."
   ]
  },
  {
   "cell_type": "markdown",
   "metadata": {},
   "source": [
    "Initialize the empty list to hold the file numbers over an appropriate range:"
   ]
  },
  {
   "cell_type": "code",
   "execution_count": 16,
   "metadata": {},
   "outputs": [],
   "source": [
    "bookNums = []"
   ]
  },
  {
   "cell_type": "markdown",
   "metadata": {},
   "source": [
    "Use regex to find the numeric digits in the link href string. Use the findall method:"
   ]
  },
  {
   "cell_type": "code",
   "execution_count": 17,
   "metadata": {},
   "outputs": [],
   "source": [
    "for link in listOfLinks:\n",
    "    if re.match(pattern, link):\n",
    "        digits = re.findall('[0-9]+', link)[0]\n",
    "        bookNums.append(int(digits))"
   ]
  },
  {
   "cell_type": "code",
   "execution_count": 18,
   "metadata": {},
   "outputs": [
    {
     "name": "stdout",
     "output_type": "stream",
     "text": [
      "Top 100 books, by file number:\n",
      "[1342, 84, 46, 11, 6133, 43, 1080, 64317, 1661, 25344, 98, 2701, 2542, 1260, 174, 1952, 5200, 16, 844, 1232, 120, 2852, 219, 1400, 205, 76, 345, 74, 16328, 25929, 64323, 4014, 514, 23, 1250, 408, 2591, 2097, 1497, 45, 158, 160, 4300, 2600, 55, 64316, 215, 64320, 1184, 58585, 244, 19942, 3825, 36, 2814, 768, 3207, 64319, 57426, 2554, 140, 113, 730, 135, 5740, 34901, 996, 42108, 2500, 64321, 863, 1727, 1934, 8102, 766, 236, 35, 35899, 64318, 3600, 1998, 376, 64326, 829, 1001, 902, 203, 521, 147, 41, 32854, 15399, 60479, 64314, 30254, 3300, 43453, 209, 37134, 61, 84, 1342, 46, 6133, 11, 1080, 25344, 43, 98, 1661, 2701, 2542, 5200, 1250, 1952, 1260, 57426, 844, 76, 174, 219, 23, 205, 74, 345, 19942, 16328, 1400, 4014, 1232, 2852, 160, 25929, 120, 16, 55, 514, 2591, 215, 4300, 1497, 2814, 158, 45, 2600, 408, 1184, 2097, 36, 3825, 60479, 2554, 58585, 768, 50040, 244, 135, 3207, 730, 35, 1998, 2500, 1727, 113, 996, 5740, 140, 203, 902, 42108, 3600, 1001, 863, 236, 1934, 766, 4517, 41, 1064, 972, 35899, 829, 15399, 32854, 376, 8800, 34901, 209, 37134, 30254, 147, 64296, 1399, 7370, 4363, 61, 521, 64317, 2680, 27827, 46, 1342, 84, 11, 1661, 98, 25344, 1080, 2701, 50040, 43, 5200, 76, 1260, 2542, 174, 1952, 844, 6133, 1250, 205, 74, 219, 345, 1400, 16328, 1232, 2600, 514, 160, 16, 2852, 120, 23, 2591, 1184, 17135, 55, 158, 4300, 58585, 1497, 215, 2814, 45, 19942, 2554, 768, 36, 5740, 135, 6130, 42108, 408, 25929, 244, 902, 3825, 28054, 19337, 996, 57426, 1727, 730, 35, 3600, 2500, 2097, 766, 863, 203, 113, 3207, 1998, 33870, 30254, 57775, 4014, 4363, 209, 1399, 236, 1064, 2680, 1001, 376, 140, 27827, 43453, 8800, 7256, 24022, 4517, 829, 41, 972, 35899, 161, 61, 37134]\n"
     ]
    }
   ],
   "source": [
    "print(\"Top 100 books, by file number:\")\n",
    "print(bookNums)"
   ]
  },
  {
   "cell_type": "markdown",
   "metadata": {},
   "source": [
    "## 9) What does the **soup** object's text look like? \n",
    "Use the `.text` method and print the first 2,000 characters:"
   ]
  },
  {
   "cell_type": "code",
   "execution_count": 19,
   "metadata": {},
   "outputs": [
    {
     "name": "stdout",
     "output_type": "stream",
     "text": [
      "Top 100 | Project GutenbergMenu▾About\n",
      "          ▾▾\n",
      "About Project Gutenberg\n",
      "Collection Development\n",
      "Contact Us\n",
      "History & Philosophy\n",
      "Permissions & License\n",
      "Privacy Policy\n",
      "Terms of UseSearch and Browse\n",
      "      \t  ▾▾\n",
      "Book Search\n",
      "Bookshelves\n",
      "Frequently Downloaded\n",
      "Offline CatalogsHelp\n",
      "          ▾▾\n",
      "All help topics →\n",
      "Copyright Procedures\n",
      "Errata, Fixes and Bug Reports\n",
      "File Formats\n",
      "Frequently Asked Questions\n",
      "Policies →\n",
      "Public Domain eBook Submission\n",
      "Submitting Your Own Work\n",
      "Tablets, Phones and eReaders\n",
      "The Attic →\n",
      "Donate\n",
      "DonationFrequently Viewed or Downloaded\n",
      "These listings are based on the number of times each eBook gets downloaded.\n",
      "      Multiple downloads from the same Internet address on the same day count as one download, and addresses that download more than 100 eBooks in a day are considered robots and are not counted.Downloaded Books\n",
      "2021-01-18186142\n",
      "last 7 days1294928\n",
      "last 30 days4934605Top 100 EBooks yesterday\n",
      "Top 100 Authors yesterday\n",
      "Top 100 EBooks last 7 days\n",
      "Top 100 Authors last 7 days\n",
      "Top 100 EBooks last 30 days\n",
      "Top 100 Authors last 30 days\n",
      "Top 100 EBooks yesterdayPride and Prejudice by Jane Austen (2514)\n",
      "Frankenstein; Or, The Modern Prometheus by Mary Wollstonecraft Shelley (2346)\n",
      "A Christmas Carol in Prose; Being a Ghost Story of Christmas by Charles Dickens (2119)\n",
      "Alice's Adventures in Wonderland by Lewis Carroll (1205)\n",
      "Arsène Lupin, gentleman-cambrioleur. English by Maurice Leblanc (1172)\n",
      "The Strange Case of Dr. Jekyll and Mr. Hyde by Robert Louis Stevenson (1116)\n",
      "A Modest Proposal by Jonathan Swift (968)\n",
      "The Great Gatsby by F. Scott  Fitzgerald (946)\n",
      "The Adventures of Sherlock Holmes by Arthur Conan Doyle (892)\n",
      "The Scarlet Letter by Nathaniel Hawthorne (867)\n",
      "A Tale of Two Cities by Charles Dickens (843)\n",
      "Moby Dick; Or, The Whale by Herman Melville (811)\n",
      "Et dukkehjem. English by Henrik Ibsen (761)\n",
      "Jane Eyre: An Autobiography by Charlotte Brontë (733)\n",
      "The Picture of Dorian Gray\n"
     ]
    }
   ],
   "source": [
    "# soup.text[:2000]\n",
    "print(soup.text[:2000].replace('\\n\\n', ''))  # Saving space by removing multiple newlines"
   ]
  },
  {
   "cell_type": "markdown",
   "metadata": {},
   "source": [
    "## 10) Search in the extracted text (using regex) from the soup object to find the names of the top 100 eBooks (yesterday's ranking)."
   ]
  },
  {
   "cell_type": "code",
   "execution_count": 20,
   "metadata": {},
   "outputs": [
    {
     "data": {
      "text/plain": [
       "'/ebooks/1342'"
      ]
     },
     "execution_count": 20,
     "metadata": {},
     "output_type": "execute_result"
    }
   ],
   "source": [
    "soup.find_all('li')[31].a.get('href')"
   ]
  },
  {
   "cell_type": "code",
   "execution_count": 21,
   "metadata": {},
   "outputs": [
    {
     "data": {
      "text/plain": [
       "6"
      ]
     },
     "execution_count": 21,
     "metadata": {},
     "output_type": "execute_result"
    }
   ],
   "source": [
    "len(soup.find_all('ol'))"
   ]
  },
  {
   "cell_type": "code",
   "execution_count": 22,
   "metadata": {},
   "outputs": [],
   "source": [
    "topHundy = soup.find_all('ol')[0]"
   ]
  },
  {
   "cell_type": "code",
   "execution_count": 23,
   "metadata": {},
   "outputs": [
    {
     "data": {
      "text/plain": [
       "100"
      ]
     },
     "execution_count": 23,
     "metadata": {},
     "output_type": "execute_result"
    }
   ],
   "source": [
    "len(topHundy.find_all('li'))"
   ]
  },
  {
   "cell_type": "code",
   "execution_count": 24,
   "metadata": {},
   "outputs": [
    {
     "data": {
      "text/plain": [
       "<li><a href=\"/ebooks/1342\">Pride and Prejudice by Jane Austen (2514)</a></li>"
      ]
     },
     "execution_count": 24,
     "metadata": {},
     "output_type": "execute_result"
    }
   ],
   "source": [
    "topHundy.find_all('li')[0]"
   ]
  },
  {
   "cell_type": "code",
   "execution_count": 25,
   "metadata": {},
   "outputs": [
    {
     "data": {
      "text/plain": [
       "'Pride and Prejudice by Jane Austen (2514)'"
      ]
     },
     "execution_count": 25,
     "metadata": {},
     "output_type": "execute_result"
    }
   ],
   "source": [
    "topHundy.find_all('li')[0].text"
   ]
  },
  {
   "cell_type": "code",
   "execution_count": 26,
   "metadata": {},
   "outputs": [
    {
     "name": "stdout",
     "output_type": "stream",
     "text": [
      "Pride and Prejudice by Jane Austen (2514)\n",
      "Frankenstein; Or, The Modern Prometheus by Mary Wollstonecraft Shelley (2346)\n",
      "A Christmas Carol in Prose; Being a Ghost Story of Christmas by Charles Dickens (2119)\n",
      "Alice's Adventures in Wonderland by Lewis Carroll (1205)\n",
      "Arsène Lupin, gentleman-cambrioleur. English by Maurice Leblanc (1172)\n",
      "The Strange Case of Dr. Jekyll and Mr. Hyde by Robert Louis Stevenson (1116)\n",
      "A Modest Proposal by Jonathan Swift (968)\n",
      "The Great Gatsby by F. Scott  Fitzgerald (946)\n",
      "The Adventures of Sherlock Holmes by Arthur Conan Doyle (892)\n",
      "The Scarlet Letter by Nathaniel Hawthorne (867)\n",
      "A Tale of Two Cities by Charles Dickens (843)\n",
      "Moby Dick; Or, The Whale by Herman Melville (811)\n",
      "Et dukkehjem. English by Henrik Ibsen (761)\n",
      "Jane Eyre: An Autobiography by Charlotte Brontë (733)\n",
      "The Picture of Dorian Gray by Oscar Wilde (718)\n",
      "The Yellow Wallpaper by Charlotte Perkins Gilman (713)\n",
      "Metamorphosis by Franz Kafka (677)\n",
      "Peter Pan by J. M.  Barrie (650)\n",
      "The Importance of Being Earnest: A Trivial Comedy for Serious People by Oscar Wilde (643)\n",
      "Il Principe. English by Niccolò Machiavelli (625)\n"
     ]
    }
   ],
   "source": [
    "i=0\n",
    "for book in topHundy.find_all('li'):\n",
    "    print(book.text)\n",
    "# Stop after 20 iterations, to keep this short\n",
    "    i += 1\n",
    "    if i >= 20:\n",
    "        break"
   ]
  },
  {
   "cell_type": "markdown",
   "metadata": {},
   "source": [
    "## 11) Create a starting index. It should point to the text *Top 100 EBooks yesterday*. Use the `.splitlines()` method of soup.text. It splits the lines of text of the soup object."
   ]
  },
  {
   "cell_type": "code",
   "execution_count": 27,
   "metadata": {},
   "outputs": [],
   "source": [
    "# soup.text.find(\"Top 100 EBooks yesterday\")"
   ]
  },
  {
   "cell_type": "code",
   "execution_count": 28,
   "metadata": {},
   "outputs": [],
   "source": [
    "# soup.text.splitlines()"
   ]
  },
  {
   "cell_type": "code",
   "execution_count": 29,
   "metadata": {},
   "outputs": [
    {
     "data": {
      "text/plain": [
       "113"
      ]
     },
     "execution_count": 29,
     "metadata": {},
     "output_type": "execute_result"
    }
   ],
   "source": [
    "soup.text.splitlines().index(\"Top 100 EBooks yesterday\")"
   ]
  },
  {
   "cell_type": "code",
   "execution_count": 30,
   "metadata": {},
   "outputs": [
    {
     "data": {
      "text/plain": [
       "'Top 100 EBooks yesterday'"
      ]
     },
     "execution_count": 30,
     "metadata": {},
     "output_type": "execute_result"
    }
   ],
   "source": [
    "soup.text.splitlines()[113]"
   ]
  },
  {
   "cell_type": "code",
   "execution_count": 31,
   "metadata": {},
   "outputs": [],
   "source": [
    "startInd = soup.text.splitlines().index(\"Top 100 EBooks yesterday\")"
   ]
  },
  {
   "cell_type": "code",
   "execution_count": 32,
   "metadata": {},
   "outputs": [
    {
     "data": {
      "text/plain": [
       "['Top 100 EBooks yesterday',\n",
       " 'Top 100 Authors yesterday',\n",
       " 'Top 100 EBooks last 7 days',\n",
       " 'Top 100 Authors last 7 days',\n",
       " 'Top 100 EBooks last 30 days',\n",
       " 'Top 100 Authors last 30 days',\n",
       " '',\n",
       " '',\n",
       " 'Top 100 EBooks yesterday',\n",
       " '',\n",
       " 'Pride and Prejudice by Jane Austen (2514)',\n",
       " 'Frankenstein; Or, The Modern Prometheus by Mary Wollstonecraft Shelley (2346)',\n",
       " 'A Christmas Carol in Prose; Being a Ghost Story of Christmas by Charles Dickens (2119)',\n",
       " \"Alice's Adventures in Wonderland by Lewis Carroll (1205)\",\n",
       " 'Arsène Lupin, gentleman-cambrioleur. English by Maurice Leblanc (1172)']"
      ]
     },
     "execution_count": 32,
     "metadata": {},
     "output_type": "execute_result"
    }
   ],
   "source": [
    "soup.text.splitlines()[startInd:startInd+15]"
   ]
  },
  {
   "cell_type": "markdown",
   "metadata": {},
   "source": [
    "Looks like there's more than one instance of \"Top 100 EBooks yesterday\"."
   ]
  },
  {
   "cell_type": "code",
   "execution_count": 33,
   "metadata": {},
   "outputs": [
    {
     "data": {
      "text/plain": [
       "'Top 100 EBooks yesterday'"
      ]
     },
     "execution_count": 33,
     "metadata": {},
     "output_type": "execute_result"
    }
   ],
   "source": [
    "soup.text.splitlines()[startInd+8]"
   ]
  },
  {
   "cell_type": "markdown",
   "metadata": {},
   "source": [
    "Add a couple more to get to the first book:"
   ]
  },
  {
   "cell_type": "code",
   "execution_count": 34,
   "metadata": {},
   "outputs": [],
   "source": [
    "startInd = soup.text.splitlines().index(\"Top 100 EBooks yesterday\")+10"
   ]
  },
  {
   "cell_type": "markdown",
   "metadata": {},
   "source": [
    "## 12) Loop 0-100 to add the strings of the next 100 lines to this temporary list. Hint: use the `.splitlines()` method."
   ]
  },
  {
   "cell_type": "code",
   "execution_count": 35,
   "metadata": {},
   "outputs": [],
   "source": [
    "topBooks = []\n",
    "for book in soup.text.splitlines()[startInd:startInd+100]:\n",
    "    topBooks.append(book)"
   ]
  },
  {
   "cell_type": "code",
   "execution_count": 36,
   "metadata": {},
   "outputs": [
    {
     "data": {
      "text/plain": [
       "(['Pride and Prejudice by Jane Austen (2514)',\n",
       "  'Frankenstein; Or, The Modern Prometheus by Mary Wollstonecraft Shelley (2346)',\n",
       "  'A Christmas Carol in Prose; Being a Ghost Story of Christmas by Charles Dickens (2119)',\n",
       "  \"Alice's Adventures in Wonderland by Lewis Carroll (1205)\",\n",
       "  'Arsène Lupin, gentleman-cambrioleur. English by Maurice Leblanc (1172)'],\n",
       " ['An Inquiry into the Nature and Causes of the Wealth of Nations by Adam Smith (207)',\n",
       "  'A Pickle for the Knowing Ones by Timothy Dexter (203)',\n",
       "  'The Turn of the Screw by Henry James (201)',\n",
       "  'The Elements of Style by William Strunk (196)',\n",
       "  'Manifest der Kommunistischen Partei. English by Friedrich Engels and Karl Marx (196)'])"
      ]
     },
     "execution_count": 36,
     "metadata": {},
     "output_type": "execute_result"
    }
   ],
   "source": [
    "topBooks[:5], topBooks[-5:]"
   ]
  },
  {
   "cell_type": "markdown",
   "metadata": {},
   "source": [
    "## 13) Use a regular expression to extract only the text from the name strings and append it to an empty list. Use `.match()` and `.span()` to find the indices and use them."
   ]
  },
  {
   "cell_type": "code",
   "execution_count": 37,
   "metadata": {},
   "outputs": [
    {
     "data": {
      "text/plain": [
       "'Pride and Prejudice by Jane Austen (2514)'"
      ]
     },
     "execution_count": 37,
     "metadata": {},
     "output_type": "execute_result"
    }
   ],
   "source": [
    "topBooks[0]"
   ]
  },
  {
   "cell_type": "code",
   "execution_count": 38,
   "metadata": {},
   "outputs": [
    {
     "data": {
      "text/plain": [
       "' (2514)'"
      ]
     },
     "execution_count": 38,
     "metadata": {},
     "output_type": "execute_result"
    }
   ],
   "source": [
    "prog = re.compile(r'\\s\\([0-9]{1,5}\\)')\n",
    "prog.search(topBooks[0]).group()"
   ]
  },
  {
   "cell_type": "code",
   "execution_count": 39,
   "metadata": {},
   "outputs": [
    {
     "data": {
      "text/plain": [
       "<re.Match object; span=(34, 41), match=' (2514)'>"
      ]
     },
     "execution_count": 39,
     "metadata": {},
     "output_type": "execute_result"
    }
   ],
   "source": [
    "prog.match(topBooks[0], pos=len(topBooks[0])-len(prog.search(topBooks[0]).group()))"
   ]
  },
  {
   "cell_type": "code",
   "execution_count": 40,
   "metadata": {},
   "outputs": [
    {
     "data": {
      "text/plain": [
       "(34, 41)"
      ]
     },
     "execution_count": 40,
     "metadata": {},
     "output_type": "execute_result"
    }
   ],
   "source": [
    "prog.match(topBooks[0], pos=len(topBooks[0])-len(prog.search(topBooks[0]).group())).span()"
   ]
  },
  {
   "cell_type": "code",
   "execution_count": 41,
   "metadata": {},
   "outputs": [
    {
     "data": {
      "text/plain": [
       "'Pride and Prejudice by Jane Austen'"
      ]
     },
     "execution_count": 41,
     "metadata": {},
     "output_type": "execute_result"
    }
   ],
   "source": [
    "topBooks[0][:34]"
   ]
  },
  {
   "cell_type": "code",
   "execution_count": 42,
   "metadata": {},
   "outputs": [],
   "source": [
    "bookTitles = []\n",
    "\n",
    "for book in topBooks:\n",
    "    s, e = prog.match(book, pos=len(book)-len(prog.search(book).group())).span()\n",
    "#     print(book[:s])\n",
    "    bookTitles.append(book[:s])"
   ]
  },
  {
   "cell_type": "code",
   "execution_count": 43,
   "metadata": {},
   "outputs": [
    {
     "data": {
      "text/plain": [
       "100"
      ]
     },
     "execution_count": 43,
     "metadata": {},
     "output_type": "execute_result"
    }
   ],
   "source": [
    "len(bookTitles)"
   ]
  },
  {
   "cell_type": "code",
   "execution_count": 44,
   "metadata": {},
   "outputs": [
    {
     "data": {
      "text/plain": [
       "(['Pride and Prejudice by Jane Austen',\n",
       "  'Frankenstein; Or, The Modern Prometheus by Mary Wollstonecraft Shelley',\n",
       "  'A Christmas Carol in Prose; Being a Ghost Story of Christmas by Charles Dickens',\n",
       "  \"Alice's Adventures in Wonderland by Lewis Carroll\",\n",
       "  'Arsène Lupin, gentleman-cambrioleur. English by Maurice Leblanc'],\n",
       " ['An Inquiry into the Nature and Causes of the Wealth of Nations by Adam Smith',\n",
       "  'A Pickle for the Knowing Ones by Timothy Dexter',\n",
       "  'The Turn of the Screw by Henry James',\n",
       "  'The Elements of Style by William Strunk',\n",
       "  'Manifest der Kommunistischen Partei. English by Friedrich Engels and Karl Marx'])"
      ]
     },
     "execution_count": 44,
     "metadata": {},
     "output_type": "execute_result"
    }
   ],
   "source": [
    "bookTitles[:5], bookTitles[-5:]"
   ]
  },
  {
   "cell_type": "code",
   "execution_count": null,
   "metadata": {},
   "outputs": [],
   "source": []
  },
  {
   "cell_type": "markdown",
   "metadata": {},
   "source": [
    "# 2. Activity 10: Building Your Own Movie Database by Reading an API"
   ]
  },
  {
   "cell_type": "markdown",
   "metadata": {},
   "source": [
    "## 1) Import **urllib.request**, **urllib.parse**, **urllib.error**, and **json**."
   ]
  },
  {
   "cell_type": "code",
   "execution_count": 121,
   "metadata": {},
   "outputs": [],
   "source": [
    "import urllib.request, urllib.parse, urllib.error\n",
    "import json\n",
    "import os\n",
    "from IPython.display import Image, display"
   ]
  },
  {
   "cell_type": "markdown",
   "metadata": {},
   "source": [
    "## 2) Load the secret API key from a JSON file stored in the same folder in a variable, by using `json.load()`."
   ]
  },
  {
   "cell_type": "markdown",
   "metadata": {},
   "source": [
    "## 3) *(2a)* Obtain a key and store it in JSON as **APIkeys.json**.\n",
    "Done!"
   ]
  },
  {
   "cell_type": "markdown",
   "metadata": {},
   "source": [
    "## 4) *(2b)* Open the **APIkeys.json** file."
   ]
  },
  {
   "cell_type": "code",
   "execution_count": 106,
   "metadata": {},
   "outputs": [],
   "source": [
    "with open('APIkey.json') as f:\n",
    "    key = json.load(f)['OMDBapi']    "
   ]
  },
  {
   "cell_type": "markdown",
   "metadata": {},
   "source": [
    "# 5) Assign the OMDB portal as a string to a variable.\n",
    "(http://www.omdbapi.com/?)"
   ]
  },
  {
   "cell_type": "code",
   "execution_count": 107,
   "metadata": {},
   "outputs": [],
   "source": [
    "omdbPortal = \"http://www.omdbapi.com/?\""
   ]
  },
  {
   "cell_type": "markdown",
   "metadata": {},
   "source": [
    "## 6) Create a variable called **apikey** with the last portion of the URL (**&apikey=secretapikey**), where **secretapikey** is your own API key.\n",
    "The movie name portion i.e. \"t=movie_name\" will be addressed later"
   ]
  },
  {
   "cell_type": "code",
   "execution_count": 108,
   "metadata": {},
   "outputs": [],
   "source": [
    "apiKey = \"&apikey=\"+key"
   ]
  },
  {
   "cell_type": "markdown",
   "metadata": {},
   "source": [
    "## 7) Write a utility function called **print_json** to print the movie data from a JSON file (which we will get from the portal)."
   ]
  },
  {
   "cell_type": "code",
   "execution_count": 109,
   "metadata": {},
   "outputs": [],
   "source": [
    "def print_json(movieData):\n",
    "    \"\"\"\n",
    "    Function to print movie data from a JSON file.\n",
    "    \"\"\"\n",
    "    data = json.loads(movieData)\n",
    "    for k, v, in data.items():\n",
    "        print(\"{}:\\n   {}\".format(k, v))"
   ]
  },
  {
   "cell_type": "code",
   "execution_count": 110,
   "metadata": {},
   "outputs": [],
   "source": [
    "def fetchMovieData(movieTitle):\n",
    "    \"\"\"\n",
    "    Function to retrieve JSON data for a specified \n",
    "    movie from the \"http://www.omdbapi.com/?\" API.\n",
    "    \"\"\"\n",
    "    urlTitle = urllib.parse.urlencode({'t': str(movieTitle)})\n",
    "    url = omdbPortal + urlTitle + apiKey\n",
    "    \n",
    "    try:\n",
    "        uh = urllib.request.urlopen(url)\n",
    "    except HTTPError as e:\n",
    "        print(\"So sorry, but we could not retreive anything on {}\"\n",
    "              .format(movieTitle))\n",
    "        return None\n",
    "    except URLError as e:\n",
    "        print('Failed to reach a server. You know how it is.')\n",
    "        print(\"Reason: {}\".format(e.reason))\n",
    "        return None\n",
    "    else:\n",
    "        data = uh.read().decode()\n",
    "        print(\"Retrieved data on {}. Total {} characters read.\"\n",
    "             .format(movieTitle, len(data)))\n",
    "        return data"
   ]
  },
  {
   "cell_type": "code",
   "execution_count": 124,
   "metadata": {},
   "outputs": [
    {
     "name": "stdin",
     "output_type": "stream",
     "text": [
      "Enter the name of a movie:  Shawshank Redemption\n"
     ]
    },
    {
     "name": "stdout",
     "output_type": "stream",
     "text": [
      "Retrieved data on Shawshank Redemption. Total 1082 characters read.\n"
     ]
    }
   ],
   "source": [
    "# movieTitle = \"Titanic\"\n",
    "movieTitle = str(input(\"Enter the name of a movie: \"))\n",
    "movieData = fetchMovieData(movieTitle)"
   ]
  },
  {
   "cell_type": "code",
   "execution_count": 125,
   "metadata": {},
   "outputs": [
    {
     "name": "stdout",
     "output_type": "stream",
     "text": [
      "Title:\n",
      "   The Shawshank Redemption\n",
      "Year:\n",
      "   1994\n",
      "Rated:\n",
      "   R\n",
      "Released:\n",
      "   14 Oct 1994\n",
      "Runtime:\n",
      "   142 min\n",
      "Genre:\n",
      "   Drama\n",
      "Director:\n",
      "   Frank Darabont\n",
      "Writer:\n",
      "   Stephen King (short story \"Rita Hayworth and Shawshank Redemption\"), Frank Darabont (screenplay)\n",
      "Actors:\n",
      "   Tim Robbins, Morgan Freeman, Bob Gunton, William Sadler\n",
      "Plot:\n",
      "   Two imprisoned men bond over a number of years, finding solace and eventual redemption through acts of common decency.\n",
      "Language:\n",
      "   English\n",
      "Country:\n",
      "   USA\n",
      "Awards:\n",
      "   Nominated for 7 Oscars. Another 21 wins & 36 nominations.\n",
      "Poster:\n",
      "   https://m.media-amazon.com/images/M/MV5BMDFkYTc0MGEtZmNhMC00ZDIzLWFmNTEtODM1ZmRlYWMwMWFmXkEyXkFqcGdeQXVyMTMxODk2OTU@._V1_SX300.jpg\n",
      "Ratings:\n",
      "   [{'Source': 'Internet Movie Database', 'Value': '9.3/10'}, {'Source': 'Rotten Tomatoes', 'Value': '91%'}, {'Source': 'Metacritic', 'Value': '80/100'}]\n",
      "Metascore:\n",
      "   80\n",
      "imdbRating:\n",
      "   9.3\n",
      "imdbVotes:\n",
      "   2,338,688\n",
      "imdbID:\n",
      "   tt0111161\n",
      "Type:\n",
      "   movie\n",
      "DVD:\n",
      "   N/A\n",
      "BoxOffice:\n",
      "   $28,699,976\n",
      "Production:\n",
      "   Columbia Pictures, Castle Rock Entertainment\n",
      "Website:\n",
      "   N/A\n",
      "Response:\n",
      "   True\n"
     ]
    }
   ],
   "source": [
    "print_json(movieData)"
   ]
  },
  {
   "cell_type": "markdown",
   "metadata": {},
   "source": [
    "## 8) Write a utility function to download a poster of the movie based on the information from the JSON dataset and save it in your local folder.\n",
    "Use the **os** module. The poster data is stored in the JSON key **Poster**. Use the Python command to open a file and write the poster data. Close the file after you're done. This functon will save the poster data as an image file."
   ]
  },
  {
   "cell_type": "code",
   "execution_count": 122,
   "metadata": {},
   "outputs": [],
   "source": [
    "def posterTime(movieData):\n",
    "    \"\"\"\n",
    "    This function retrieves, saves, and displays\n",
    "    the poster image for the searched movie.\n",
    "    \"\"\"\n",
    "    movieJSON = json.loads(movieData)\n",
    "    \n",
    "    # Grab movie Title and Poster data:\n",
    "    movie = movieJSON['Title']\n",
    "    poster = movieJSON['Poster']\n",
    "    imgData = urllib.request.urlopen(poster).read()\n",
    "    \n",
    "    # Generate file info and save image:\n",
    "    extension = movieJSON['Poster'].split('.')[-1]\n",
    "    fileName = \"{}.{}\".format(str(movie), extension)\n",
    "    try:\n",
    "        with open(fileName, 'wb') as f:\n",
    "            f.write(imgData)\n",
    "        print('The following {} image was saved as:\\n\\t\"{}\"'\n",
    "              .format(extension.upper(), fileName))\n",
    "        display(Image(filename=fileName))\n",
    "    except:\n",
    "        print(\"Something went wrong. Image could not be saved.\")"
   ]
  },
  {
   "cell_type": "code",
   "execution_count": 126,
   "metadata": {},
   "outputs": [
    {
     "name": "stdout",
     "output_type": "stream",
     "text": [
      "The following JPG image was saved as:\n",
      "\t\"The Shawshank Redemption.jpg\"\n"
     ]
    },
    {
     "data": {
      "image/jpeg": "[encoded data removed]",
      "text/plain": [
       "<IPython.core.display.Image object>"
      ]
     },
     "metadata": {},
     "output_type": "display_data"
    }
   ],
   "source": [
    "posterTime(movieData)"
   ]
  },
  {
   "cell_type": "code",
   "execution_count": null,
   "metadata": {},
   "outputs": [],
   "source": []
  },
  {
   "cell_type": "markdown",
   "metadata": {},
   "source": [
    "# 3. Connect to the Twitter API and do a simple data pull."
   ]
  },
  {
   "cell_type": "code",
   "execution_count": 57,
   "metadata": {},
   "outputs": [],
   "source": [
    "import requests\n",
    "import os\n",
    "import json"
   ]
  },
  {
   "cell_type": "markdown",
   "metadata": {},
   "source": [
    "## a.-g. Set up a Twitter developer account and obtain necessary keys/tokens."
   ]
  },
  {
   "cell_type": "code",
   "execution_count": 58,
   "metadata": {},
   "outputs": [],
   "source": [
    "# os.environ[\"CONSUMER_KEY\"] = \"<API key>\"\n",
    "# os.environ[\"CONSUMER_SECRET\"] = \"<API secret key>\"\n",
    "# os.environ[\"BEARER_TOKEN\"] = \"<Bearer token>\""
   ]
  },
  {
   "cell_type": "markdown",
   "metadata": {},
   "source": [
    "Donezo."
   ]
  },
  {
   "cell_type": "markdown",
   "metadata": {},
   "source": [
    "## h. Connect to the Twitter API to pull data searching for \"Bellevue University\" and \"Data Science\" or something else interesting.\n",
    "* [How to Create a Twitter App and API Interface via Python](https://www.sitepoint.com/how-to-create-a-twitter-app-and-api-interface-via-python/)\n",
    "* [Welcome Python-Twitter's Documentation!](https://python-twitter.readthedocs.io/en/latest/)"
   ]
  },
  {
   "cell_type": "code",
   "execution_count": 142,
   "metadata": {},
   "outputs": [],
   "source": [
    "def twitterSearch(searchTerms):\n",
    "    \"\"\"\n",
    "    Takes search term, generates a URL, and reaches out to Twitter API\n",
    "    \"\"\"\n",
    "    # Load token:\n",
    "    bearerToken = os.environ.get(\"BEARER_TOKEN\")\n",
    "    \n",
    "    # Generate URL:\n",
    "    query = f\"{searchTerms} -is:retweet lang:en\"\n",
    "    tweetFields = \"expansions=author_id\"\n",
    "    url = f\"https://api.twitter.com/2/tweets/search/recent?query={query}&{tweetFields}\"\n",
    "    \n",
    "    # Establish headers and connect to endpoint:\n",
    "    headers = {\"Authorization\": f\"Bearer {bearerToken}\"}\n",
    "    response = requests.request(\"GET\", url, headers=headers)\n",
    "    print(\"Status:\", response.status_code)\n",
    "    if response.status_code !=200:\n",
    "        raise Exception(response.status_code, response.text)\n",
    "    return response.json()"
   ]
  },
  {
   "cell_type": "code",
   "execution_count": 143,
   "metadata": {},
   "outputs": [],
   "source": [
    "def printTweets(response):\n",
    "    print(f\"\\nHERE'S THE TOP 10 TWEETS FOR '{search}':\\n\")\n",
    "    i=0\n",
    "    for tweet in response['data']:\n",
    "        i+=1\n",
    "        print('-'*20)\n",
    "        print(f\"\\033[1m#{i}:\\033[0m\")\n",
    "        print(tweet['text'])"
   ]
  },
  {
   "cell_type": "code",
   "execution_count": 141,
   "metadata": {},
   "outputs": [
    {
     "name": "stdin",
     "output_type": "stream",
     "text": [
      "Enter your Twitter search term(s): Data Science\n"
     ]
    },
    {
     "name": "stdout",
     "output_type": "stream",
     "text": [
      "200\n",
      "\n",
      "HERE'S THE TOP 10 TWEETS FOR 'Data Science':\n",
      "\n",
      "--------------------\n",
      "\u001b[1m#1:\u001b[0m\n",
      "Can @A2schools reopen safely? Absolutely - masking, distancing,⬇️class size, cohorting, improving ventilation... Community rates continuing to⬇️and lowest in &gt; 3 months. If we follow science, overwhelming data/evidence favors. Transmission in classrooms doesn't happen with above. https://t.co/vs9kgySpZE\n",
      "--------------------\n",
      "\u001b[1m#2:\u001b[0m\n",
      "@LBMcGrath @heatherfro @KWaldenPhD @RichardJeanSo @Ted_Underwood @cwellmon Thanks all for sharing @KWaldenPhD @heatherfro @LBMcGrath. Points well taken. \n",
      "\n",
      "But I think it goes beyond debates over methods or disciplines. My implicit question was: how many non-white people have been hired into data science-inflected humanities positions?\n",
      "--------------------\n",
      "\u001b[1m#3:\u001b[0m\n",
      "@justin_hart Data and science all in one chart.\n",
      "--------------------\n",
      "\u001b[1m#4:\u001b[0m\n",
      "Constipation constipation for Ohio and being data science with the United States fart and we pill with this should have no ederess of the world. Nobody knows the real story dog poo for our Country!\n",
      "--------------------\n",
      "\u001b[1m#5:\u001b[0m\n",
      "Data dearth - Access to clean big data could help us clear up a raft of COVID-19 questions https://t.co/6UGmvS8OsH #science via @CosmosMagazine\n",
      "\n",
      "#data #bigdata #coronavirus #COVID19 #assecctodata #dataaccess\n",
      "--------------------\n",
      "\u001b[1m#6:\u001b[0m\n",
      "Download Mobi Data Smart: Using Data Science to Transform Information into Insight -&gt; https://t.co/sWWRqdAYLk\n",
      "--------------------\n",
      "\u001b[1m#7:\u001b[0m\n",
      "@osoko_sama @pragmatometer @JanDavila3 @POTUS Speculating in economics is typically done by reference of past events in order to help predict what may happen.  Like science, it uses past data to help determine unknown data.  It isn’t just guessing regardless of accuracy, there’s an actual process to it.\n",
      "--------------------\n",
      "\u001b[1m#8:\u001b[0m\n",
      "@brainwormplus @GarbyJooman3 @PrisonPlanet Okay but how science works is that you adjust your knowledge based on new incoming data. You don't just stick your head in the sand and say \"Well nothing bad can ever happen!\" Just because it's convenient.\n",
      "--------------------\n",
      "\u001b[1m#9:\u001b[0m\n",
      "The Mars Relay Network Connects Us to NASA’s Martian Explorers\n",
      "\n",
      "Five spacecraft currently in orbit about the Red Planet make up the Mars Relay Network to transmit commands from Earth to surface missions and receive science data back from them.\n",
      "\n",
      "https://t.co/PqHuRq5QQt\n",
      "--------------------\n",
      "\u001b[1m#10:\u001b[0m\n",
      "Daily reminder that science evolves as more data comes in... the \"first\" solution isn't always the right one and should change over time.\n"
     ]
    }
   ],
   "source": [
    "search = str(input(\"Enter your Twitter search term(s):\"))\n",
    "tweets = twitterSearch(search)\n",
    "printTweets(tweets)"
   ]
  },
  {
   "cell_type": "code",
   "execution_count": null,
   "metadata": {},
   "outputs": [],
   "source": []
  },
  {
   "cell_type": "markdown",
   "metadata": {},
   "source": [
    "# 4. Using one of the datasets provided in Weeks 7 & 8, or a dataset of your own, choose 3 of the following visualizations to complete.  \n",
    "a) Line  \n",
    "b) Scatter  \n",
    "c) Bar  \n",
    "d) Histogram  \n",
    "e) Density Plot  \n",
    "f) Pie Chart  \n",
    "You are free to use Matplotlib, Seaborn or another package if you prefer."
   ]
  },
  {
   "cell_type": "code",
   "execution_count": null,
   "metadata": {},
   "outputs": [],
   "source": []
  },
  {
   "cell_type": "code",
   "execution_count": null,
   "metadata": {},
   "outputs": [],
   "source": []
  },
  {
   "cell_type": "code",
   "execution_count": null,
   "metadata": {},
   "outputs": [],
   "source": []
  },
  {
   "cell_type": "code",
   "execution_count": null,
   "metadata": {},
   "outputs": [],
   "source": []
  },
  {
   "cell_type": "code",
   "execution_count": null,
   "metadata": {},
   "outputs": [],
   "source": []
  },
  {
   "cell_type": "code",
   "execution_count": null,
   "metadata": {},
   "outputs": [],
   "source": []
  },
  {
   "cell_type": "code",
   "execution_count": null,
   "metadata": {},
   "outputs": [],
   "source": []
  },
  {
   "cell_type": "code",
   "execution_count": null,
   "metadata": {},
   "outputs": [],
   "source": []
  },
  {
   "cell_type": "code",
   "execution_count": null,
   "metadata": {},
   "outputs": [],
   "source": []
  },
  {
   "cell_type": "code",
   "execution_count": null,
   "metadata": {},
   "outputs": [],
   "source": []
  },
  {
   "cell_type": "code",
   "execution_count": null,
   "metadata": {},
   "outputs": [],
   "source": []
  }
 ],
 "metadata": {
  "kernelspec": {
   "display_name": "Python 3",
   "language": "python",
   "name": "python3"
  },
  "language_info": {
   "codemirror_mode": {
    "name": "ipython",
    "version": 3
   },
   "file_extension": ".py",
   "mimetype": "text/x-python",
   "name": "python",
   "nbconvert_exporter": "python",
   "pygments_lexer": "ipython3",
   "version": "3.8.5"
  }
 },
 "nbformat": 4,
 "nbformat_minor": 4
}
