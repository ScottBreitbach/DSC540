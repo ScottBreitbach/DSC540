{
 "cells": [
  {
   "cell_type": "code",
   "execution_count": null,
   "metadata": {},
   "outputs": [],
   "source": []
  },
  {
   "cell_type": "markdown",
   "metadata": {},
   "source": [
    "# 3. Connect to the Twitter API and do a simple data pull."
   ]
  },
  {
   "cell_type": "code",
   "execution_count": 2,
   "metadata": {},
   "outputs": [],
   "source": [
    "import requests\n",
    "import os\n",
    "import json"
   ]
  },
  {
   "cell_type": "markdown",
   "metadata": {},
   "source": [
    "## a.-g. Set up a Twitter developer account and obtain necessary keys/tokens."
   ]
  },
  {
   "cell_type": "code",
   "execution_count": 58,
   "metadata": {},
   "outputs": [],
   "source": [
    "# os.environ[\"CONSUMER_KEY\"] = \"<API key>\"\n",
    "# os.environ[\"CONSUMER_SECRET\"] = \"<API secret key>\"\n",
    "# os.environ[\"BEARER_TOKEN\"] = \"<Bearer token>\""
   ]
  },
  {
   "cell_type": "markdown",
   "metadata": {},
   "source": [
    "Donezo."
   ]
  },
  {
   "cell_type": "markdown",
   "metadata": {},
   "source": [
    "## h. Connect to the Twitter API to pull data searching for \"Bellevue University\" and \"Data Science\" or something else interesting.\n",
    "* [How to Create a Twitter App and API Interface via Python](https://www.sitepoint.com/how-to-create-a-twitter-app-and-api-interface-via-python/)\n",
    "* [Welcome Python-Twitter's Documentation!](https://python-twitter.readthedocs.io/en/latest/)"
   ]
  },
  {
   "cell_type": "markdown",
   "metadata": {},
   "source": [
    "Token:"
   ]
  },
  {
   "cell_type": "code",
   "execution_count": 30,
   "metadata": {},
   "outputs": [],
   "source": [
    "bearer_token = os.environ.get(\"BEARER_TOKEN\")"
   ]
  },
  {
   "cell_type": "markdown",
   "metadata": {},
   "source": [
    "URL:"
   ]
  },
  {
   "cell_type": "code",
   "execution_count": 34,
   "metadata": {},
   "outputs": [],
   "source": [
    "query = \"search term -is:retweet lang:en\" # from:twitterdev"
   ]
  },
  {
   "cell_type": "code",
   "execution_count": 35,
   "metadata": {},
   "outputs": [
    {
     "data": {
      "text/plain": [
       "'search term -is:retweet lang:en'"
      ]
     },
     "execution_count": 35,
     "metadata": {},
     "output_type": "execute_result"
    }
   ],
   "source": [
    "test = \"search term\"\n",
    "query = \"{} -is:retweet lang:en\".format(test)\n",
    "query"
   ]
  },
  {
   "cell_type": "code",
   "execution_count": 69,
   "metadata": {},
   "outputs": [
    {
     "data": {
      "text/plain": [
       "'search term -is:retweet lang:en'"
      ]
     },
     "execution_count": 69,
     "metadata": {},
     "output_type": "execute_result"
    }
   ],
   "source": [
    "test = \"search term\"\n",
    "query = f\"{test} -is:retweet lang:en\"\n",
    "query"
   ]
  },
  {
   "cell_type": "code",
   "execution_count": 36,
   "metadata": {},
   "outputs": [],
   "source": [
    "tweet_fields = \"expansions=author_id\" #tweet.fields=author_id&"
   ]
  },
  {
   "cell_type": "code",
   "execution_count": 37,
   "metadata": {},
   "outputs": [],
   "source": [
    "url = \"https://api.twitter.com/2/tweets/search/recent?query={}&{}\".format(\n",
    "        query, tweet_fields\n",
    "    )"
   ]
  },
  {
   "cell_type": "markdown",
   "metadata": {},
   "source": [
    "Headers:"
   ]
  },
  {
   "cell_type": "code",
   "execution_count": 31,
   "metadata": {},
   "outputs": [],
   "source": [
    "headers = {\"Authorization\": \"Bearer {}\".format(bearer_token)}"
   ]
  },
  {
   "cell_type": "code",
   "execution_count": 70,
   "metadata": {},
   "outputs": [],
   "source": [
    "headers = {\"Authorization\": f\"Bearer {bearer_token}\"}"
   ]
  },
  {
   "cell_type": "code",
   "execution_count": 93,
   "metadata": {},
   "outputs": [],
   "source": [
    "# headers"
   ]
  },
  {
   "cell_type": "markdown",
   "metadata": {},
   "source": [
    "Connect to endpoint:"
   ]
  },
  {
   "cell_type": "code",
   "execution_count": 38,
   "metadata": {},
   "outputs": [
    {
     "name": "stdout",
     "output_type": "stream",
     "text": [
      "200\n"
     ]
    }
   ],
   "source": [
    "response = requests.request(\"GET\", url, headers=headers)\n",
    "\n",
    "print(response.status_code)\n",
    "\n",
    "if response.status_code != 200:\n",
    "    raise Exception(response.status_code, response.text)\n",
    "jsonResponse = response.json()"
   ]
  },
  {
   "cell_type": "code",
   "execution_count": 92,
   "metadata": {},
   "outputs": [],
   "source": [
    "# json_response"
   ]
  },
  {
   "cell_type": "code",
   "execution_count": 90,
   "metadata": {},
   "outputs": [
    {
     "name": "stdout",
     "output_type": "stream",
     "text": [
      "I'm glad dog on a skateboard aesthetics existed so long before skateboarding. https://t.co/YW6whUjQ4r\n",
      "--------------------\n",
      "Skateboarding Dog Plastic Toy- Blind Box Includes 1 of 5 Collectable Figurines - Fun, Versatile Decoration - Authentic Japanese Design - Made from Durable Plastic  \n",
      "https://t.co/9UrXgGHo2a amazonより\n",
      "--------------------\n",
      "If you’ve already seen a dog skateboarding in overalls today just keep on scrolling...\n",
      "via RecChapman \n",
      "https://t.co/PB85HFgMsp 05\n",
      "--------------------\n",
      "Fastest skateboarding dog - Guinness World Records https://t.co/nQNDYHQJS1 a través de @YouTube\n",
      "--------------------\n",
      "If you’ve already seen a dog skateboarding in overalls today just keep on scrolling...\n",
      "via RecChapman \n",
      "https://t.co/PB85HFgMsp 07\n",
      "--------------------\n",
      "yo like skateboarding dog @YouTube remember that shit\n",
      "--------------------\n",
      "Little dog skateboarding! 🤣🤣🥰🥰\n",
      "\n",
      "Use sound. 🔊🔊 https://t.co/5ZDVjza5iH\n",
      "--------------------\n",
      "If you’ve already seen a dog skateboarding in overalls today just keep on scrolling...\n",
      "via RecChapman \n",
      "https://t.co/PB85HFgMsp 06\n",
      "--------------------\n",
      "Ceramic sculpture of early skateboarding dog, Mexico, A.D.450-650 https://t.co/2tBnvLfJwu\n",
      "--------------------\n",
      "If you’ve already seen a dog skateboarding in overalls today just keep on scrolling...\n",
      "via RecChapman \n",
      "https://t.co/PB85HFgMsp 04\n",
      "--------------------\n"
     ]
    }
   ],
   "source": [
    "for tweet in json_response['data']:\n",
    "    print(tweet['text'])\n",
    "    print('-'*20)"
   ]
  },
  {
   "cell_type": "code",
   "execution_count": 89,
   "metadata": {},
   "outputs": [
    {
     "data": {
      "text/plain": [
       "'If you’ve already seen a dog skateboarding in overalls today just keep on scrolling...\\nvia RecChapman \\nhttps://t.co/PB85HFgMsp 05'"
      ]
     },
     "execution_count": 89,
     "metadata": {},
     "output_type": "execute_result"
    }
   ],
   "source": [
    "json_response['data'][2]['text']"
   ]
  },
  {
   "cell_type": "code",
   "execution_count": 80,
   "metadata": {},
   "outputs": [],
   "source": [
    "theTweets = json.dumps(json_response, indent=4, sort_keys=True)"
   ]
  },
  {
   "cell_type": "code",
   "execution_count": null,
   "metadata": {},
   "outputs": [],
   "source": []
  },
  {
   "cell_type": "code",
   "execution_count": null,
   "metadata": {},
   "outputs": [],
   "source": [
    "print(json.dumps(json_response, indent=4, sort_keys=True))"
   ]
  },
  {
   "cell_type": "code",
   "execution_count": 43,
   "metadata": {},
   "outputs": [
    {
     "data": {
      "text/plain": [
       "str"
      ]
     },
     "execution_count": 43,
     "metadata": {},
     "output_type": "execute_result"
    }
   ],
   "source": [
    "type(theTweets)"
   ]
  },
  {
   "cell_type": "code",
   "execution_count": 87,
   "metadata": {},
   "outputs": [],
   "source": [
    "tweetsJSON = json.loads(theTweets)"
   ]
  },
  {
   "cell_type": "code",
   "execution_count": 45,
   "metadata": {},
   "outputs": [
    {
     "data": {
      "text/plain": [
       "dict"
      ]
     },
     "execution_count": 45,
     "metadata": {},
     "output_type": "execute_result"
    }
   ],
   "source": [
    "type(tweetsJSON)"
   ]
  },
  {
   "cell_type": "code",
   "execution_count": 88,
   "metadata": {},
   "outputs": [
    {
     "data": {
      "text/plain": [
       "{'data': [{'author_id': '101186053',\n",
       "   'created_at': '2021-02-16T23:39:20.000Z',\n",
       "   'id': '1361822499806142464',\n",
       "   'text': \"I'm glad dog on a skateboard aesthetics existed so long before skateboarding. https://t.co/YW6whUjQ4r\"},\n",
       "  {'author_id': '841850514849517569',\n",
       "   'created_at': '2021-02-16T07:58:49.000Z',\n",
       "   'id': '1361585811259486214',\n",
       "   'text': 'Skateboarding Dog Plastic Toy- Blind Box Includes 1 of 5 Collectable Figurines - Fun, Versatile Decoration - Authentic Japanese Design - Made from Durable Plastic  \\nhttps://t.co/9UrXgGHo2a amazonより'},\n",
       "  {'author_id': '289118612',\n",
       "   'created_at': '2021-02-16T01:41:19.000Z',\n",
       "   'id': '1361490813490970627',\n",
       "   'text': 'If you’ve already seen a dog skateboarding in overalls today just keep on scrolling...\\nvia RecChapman \\nhttps://t.co/PB85HFgMsp 05'},\n",
       "  {'author_id': '2730248118',\n",
       "   'created_at': '2021-02-15T19:03:52.000Z',\n",
       "   'id': '1361390790736502784',\n",
       "   'text': 'Fastest skateboarding dog - Guinness World Records https://t.co/nQNDYHQJS1 a través de @YouTube'},\n",
       "  {'author_id': '289118612',\n",
       "   'created_at': '2021-02-15T17:41:19.000Z',\n",
       "   'id': '1361370017598734338',\n",
       "   'text': 'If you’ve already seen a dog skateboarding in overalls today just keep on scrolling...\\nvia RecChapman \\nhttps://t.co/PB85HFgMsp 07'},\n",
       "  {'author_id': '756579941760761856',\n",
       "   'created_at': '2021-02-15T13:19:33.000Z',\n",
       "   'id': '1361304142162010114',\n",
       "   'text': 'yo like skateboarding dog @YouTube remember that shit'},\n",
       "  {'author_id': '1185881037139795968',\n",
       "   'created_at': '2021-02-15T07:34:37.000Z',\n",
       "   'id': '1361217334539661312',\n",
       "   'text': 'Little dog skateboarding! 🤣🤣🥰🥰\\n\\nUse sound. 🔊🔊 https://t.co/5ZDVjza5iH'},\n",
       "  {'author_id': '289118612',\n",
       "   'created_at': '2021-02-15T07:17:22.000Z',\n",
       "   'id': '1361212992281600005',\n",
       "   'text': 'If you’ve already seen a dog skateboarding in overalls today just keep on scrolling...\\nvia RecChapman \\nhttps://t.co/PB85HFgMsp 06'},\n",
       "  {'author_id': '49359450',\n",
       "   'created_at': '2021-02-15T06:35:15.000Z',\n",
       "   'id': '1361202393556398080',\n",
       "   'text': 'Ceramic sculpture of early skateboarding dog, Mexico, A.D.450-650 https://t.co/2tBnvLfJwu'},\n",
       "  {'author_id': '289118612',\n",
       "   'created_at': '2021-02-15T06:14:18.000Z',\n",
       "   'id': '1361197123253977089',\n",
       "   'text': 'If you’ve already seen a dog skateboarding in overalls today just keep on scrolling...\\nvia RecChapman \\nhttps://t.co/PB85HFgMsp 04'}],\n",
       " 'includes': {'users': [{'id': '101186053',\n",
       "    'name': 'Nick',\n",
       "    'username': '_ricecooker'},\n",
       "   {'id': '841850514849517569',\n",
       "    'name': \"Hiro's gallery\",\n",
       "    'username': 'HiroGallery'},\n",
       "   {'id': '289118612', 'name': 'Tomthunkit™', 'username': 'TomthunkitsMind'},\n",
       "   {'id': '2730248118', 'name': 'Verónica M.S.', 'username': 'LOQUISKATER'},\n",
       "   {'id': '756579941760761856',\n",
       "    'name': '⛔️ N8 Grey (% 🖍🛹\\U0001fab4🐕\\u200d🦺🏳️\\u200d⚧️',\n",
       "    'username': 'SortOfGreatNate'},\n",
       "   {'id': '1185881037139795968',\n",
       "    'name': '𝐓𝐡𝐞 𝐓𝐚𝐨 𝐨𝐟 𝐒𝐭𝐚𝐫𝐬𝐜𝐫𝐞𝐚𝐦, 𝐌𝐒𝐖☯️',\n",
       "    'username': 'Starscream35'},\n",
       "   {'id': '49359450', 'name': 'Luca', 'username': 'imjustluca'}]},\n",
       " 'meta': {'newest_id': '1361822499806142464',\n",
       "  'next_token': 'b26v89c19zqg8o3fosnrnl8pdn844p8yvzm1zmymn022l',\n",
       "  'oldest_id': '1361197123253977089',\n",
       "  'result_count': 10}}"
      ]
     },
     "execution_count": 88,
     "metadata": {},
     "output_type": "execute_result"
    }
   ],
   "source": [
    "tweetsJSON"
   ]
  },
  {
   "cell_type": "code",
   "execution_count": 53,
   "metadata": {},
   "outputs": [
    {
     "name": "stdout",
     "output_type": "stream",
     "text": [
      "data:\n",
      "   [{'author_id': '101186053', 'created_at': '2021-02-16T23:39:20.000Z', 'id': '1361822499806142464', 'text': \"I'm glad dog on a skateboard aesthetics existed so long before skateboarding. https://t.co/YW6whUjQ4r\"}, {'author_id': '841850514849517569', 'created_at': '2021-02-16T07:58:49.000Z', 'id': '1361585811259486214', 'text': 'Skateboarding Dog Plastic Toy- Blind Box Includes 1 of 5 Collectable Figurines - Fun, Versatile Decoration - Authentic Japanese Design - Made from Durable Plastic  \\nhttps://t.co/9UrXgGHo2a amazonより'}, {'author_id': '289118612', 'created_at': '2021-02-16T01:41:19.000Z', 'id': '1361490813490970627', 'text': 'If you’ve already seen a dog skateboarding in overalls today just keep on scrolling...\\nvia RecChapman \\nhttps://t.co/PB85HFgMsp 05'}, {'author_id': '2730248118', 'created_at': '2021-02-15T19:03:52.000Z', 'id': '1361390790736502784', 'text': 'Fastest skateboarding dog - Guinness World Records https://t.co/nQNDYHQJS1 a través de @YouTube'}, {'author_id': '289118612', 'created_at': '2021-02-15T17:41:19.000Z', 'id': '1361370017598734338', 'text': 'If you’ve already seen a dog skateboarding in overalls today just keep on scrolling...\\nvia RecChapman \\nhttps://t.co/PB85HFgMsp 07'}, {'author_id': '756579941760761856', 'created_at': '2021-02-15T13:19:33.000Z', 'id': '1361304142162010114', 'text': 'yo like skateboarding dog @YouTube remember that shit'}, {'author_id': '1185881037139795968', 'created_at': '2021-02-15T07:34:37.000Z', 'id': '1361217334539661312', 'text': 'Little dog skateboarding! 🤣🤣🥰🥰\\n\\nUse sound. 🔊🔊 https://t.co/5ZDVjza5iH'}, {'author_id': '289118612', 'created_at': '2021-02-15T07:17:22.000Z', 'id': '1361212992281600005', 'text': 'If you’ve already seen a dog skateboarding in overalls today just keep on scrolling...\\nvia RecChapman \\nhttps://t.co/PB85HFgMsp 06'}, {'author_id': '49359450', 'created_at': '2021-02-15T06:35:15.000Z', 'id': '1361202393556398080', 'text': 'Ceramic sculpture of early skateboarding dog, Mexico, A.D.450-650 https://t.co/2tBnvLfJwu'}, {'author_id': '289118612', 'created_at': '2021-02-15T06:14:18.000Z', 'id': '1361197123253977089', 'text': 'If you’ve already seen a dog skateboarding in overalls today just keep on scrolling...\\nvia RecChapman \\nhttps://t.co/PB85HFgMsp 04'}]\n",
      "--------------------\n",
      "includes:\n",
      "   {'users': [{'id': '101186053', 'name': 'Nick', 'username': '_ricecooker'}, {'id': '841850514849517569', 'name': \"Hiro's gallery\", 'username': 'HiroGallery'}, {'id': '289118612', 'name': 'Tomthunkit™', 'username': 'TomthunkitsMind'}, {'id': '2730248118', 'name': 'Verónica M.S.', 'username': 'LOQUISKATER'}, {'id': '756579941760761856', 'name': '⛔️ N8 Grey (% 🖍🛹\\U0001fab4🐕\\u200d🦺🏳️\\u200d⚧️', 'username': 'SortOfGreatNate'}, {'id': '1185881037139795968', 'name': '𝐓𝐡𝐞 𝐓𝐚𝐨 𝐨𝐟 𝐒𝐭𝐚𝐫𝐬𝐜𝐫𝐞𝐚𝐦, 𝐌𝐒𝐖☯️', 'username': 'Starscream35'}, {'id': '49359450', 'name': 'Luca', 'username': 'imjustluca'}]}\n",
      "--------------------\n",
      "meta:\n",
      "   {'newest_id': '1361822499806142464', 'next_token': 'b26v89c19zqg8o3fosnrnl8pdn844p8yvzm1zmymn022l', 'oldest_id': '1361197123253977089', 'result_count': 10}\n",
      "--------------------\n"
     ]
    }
   ],
   "source": [
    "for k, v, in tweetsJSON.items():\n",
    "    print(\"{}:\\n   {}\".format(k, v))\n",
    "    print('-'*20)"
   ]
  },
  {
   "cell_type": "code",
   "execution_count": 63,
   "metadata": {},
   "outputs": [
    {
     "data": {
      "text/plain": [
       "(10, 7)"
      ]
     },
     "execution_count": 63,
     "metadata": {},
     "output_type": "execute_result"
    }
   ],
   "source": [
    "len(tweetsJSON['data']), len(tweetsJSON['includes']['users'])"
   ]
  },
  {
   "cell_type": "code",
   "execution_count": 64,
   "metadata": {},
   "outputs": [
    {
     "data": {
      "text/plain": [
       "{'users': [{'id': '101186053', 'name': 'Nick', 'username': '_ricecooker'},\n",
       "  {'id': '841850514849517569',\n",
       "   'name': \"Hiro's gallery\",\n",
       "   'username': 'HiroGallery'},\n",
       "  {'id': '289118612', 'name': 'Tomthunkit™', 'username': 'TomthunkitsMind'},\n",
       "  {'id': '2730248118', 'name': 'Verónica M.S.', 'username': 'LOQUISKATER'},\n",
       "  {'id': '756579941760761856',\n",
       "   'name': '⛔️ N8 Grey (% 🖍🛹\\U0001fab4🐕\\u200d🦺🏳️\\u200d⚧️',\n",
       "   'username': 'SortOfGreatNate'},\n",
       "  {'id': '1185881037139795968',\n",
       "   'name': '𝐓𝐡𝐞 𝐓𝐚𝐨 𝐨𝐟 𝐒𝐭𝐚𝐫𝐬𝐜𝐫𝐞𝐚𝐦, 𝐌𝐒𝐖☯️',\n",
       "   'username': 'Starscream35'},\n",
       "  {'id': '49359450', 'name': 'Luca', 'username': 'imjustluca'}]}"
      ]
     },
     "execution_count": 64,
     "metadata": {},
     "output_type": "execute_result"
    }
   ],
   "source": [
    "tweetsJSON['includes']"
   ]
  },
  {
   "cell_type": "code",
   "execution_count": 68,
   "metadata": {},
   "outputs": [
    {
     "data": {
      "text/plain": [
       "\"I'm glad dog on a skateboard aesthetics existed so long before skateboarding. https://t.co/YW6whUjQ4r\""
      ]
     },
     "execution_count": 68,
     "metadata": {},
     "output_type": "execute_result"
    }
   ],
   "source": [
    "tweetsJSON['data'][0]['text']"
   ]
  },
  {
   "cell_type": "code",
   "execution_count": 53,
   "metadata": {},
   "outputs": [],
   "source": [
    "# pip install searchtweets"
   ]
  },
  {
   "cell_type": "code",
   "execution_count": 54,
   "metadata": {},
   "outputs": [],
   "source": [
    "# pip install requests"
   ]
  },
  {
   "cell_type": "code",
   "execution_count": 55,
   "metadata": {},
   "outputs": [],
   "source": [
    "# pip install requests-oauthlib"
   ]
  },
  {
   "cell_type": "code",
   "execution_count": 56,
   "metadata": {},
   "outputs": [],
   "source": [
    "# pip install searchtweets"
   ]
  },
  {
   "cell_type": "markdown",
   "metadata": {},
   "source": [
    "Enterprise clients require username, password, and endpoint. If you do not specify the account_type, we attempt to discern the account type and declare a warning about this behavior."
   ]
  },
  {
   "cell_type": "code",
   "execution_count": 100,
   "metadata": {},
   "outputs": [
    {
     "name": "stdout",
     "output_type": "stream",
     "text": [
      "200\n",
      "{\n",
      "    \"data\": [\n",
      "        {\n",
      "            \"author_id\": \"2244994945\",\n",
      "            \"id\": \"1359912509940011010\",\n",
      "            \"text\": \"Valentine\\u2019s Day is approaching! \\ud83d\\udc99\\n\\nOver the coming weeks, we\\u2019ll celebrate some outstanding developers who love to build for everyone:\\n\\n@ThreadReaderApp\\n\\n@flocknet\\n\\n@AviaryTheApp\\n\\n@ThreaderApp\\n\\n@firetalkteam\\n\\nDevelopers, you\\u2019re our Valentine, now and every day \\ud83d\\udc99\"\n",
      "        },\n",
      "        {\n",
      "            \"author_id\": \"2244994945\",\n",
      "            \"id\": \"1359554366051504129\",\n",
      "            \"text\": \"Go ahead, follow another puppy account. We won\\u2019t judge. \\n\\nIntroducing the manage follows endpoints to the new #TwitterAPI. You can now use the v2 API to follow and unfollow accounts. Learn more https://t.co/mtpd9VIMDa\"\n",
      "        }\n",
      "    ],\n",
      "    \"meta\": {\n",
      "        \"newest_id\": \"1359912509940011010\",\n",
      "        \"oldest_id\": \"1359554366051504129\",\n",
      "        \"result_count\": 2\n",
      "    }\n",
      "}\n"
     ]
    }
   ],
   "source": [
    "def auth():\n",
    "    return os.environ.get(\"BEARER_TOKEN\")\n",
    "\n",
    "def create_url():\n",
    "    query = \"from:twitterdev -is:retweet lang:en\"\n",
    "    # Tweet fields are adjustable.\n",
    "    # Options include:\n",
    "    # attachments, author_id, context_annotations,\n",
    "    # conversation_id, created_at, entities, geo, id,\n",
    "    # in_reply_to_user_id, lang, non_public_metrics, organic_metrics,\n",
    "    # possibly_sensitive, promoted_metrics, public_metrics, referenced_tweets,\n",
    "    # source, text, and withheld\n",
    "    tweet_fields = \"tweet.fields=author_id\"\n",
    "    url = \"https://api.twitter.com/2/tweets/search/recent?query={}&{}\".format(\n",
    "        query, tweet_fields\n",
    "    )\n",
    "    return url\n",
    "\n",
    "def create_headers(bearer_token):\n",
    "    headers = {\"Authorization\": \"Bearer {}\".format(bearer_token)}\n",
    "    return headers\n",
    "\n",
    "def connect_to_endpoint(url, headers):\n",
    "    response = requests.request(\"GET\", url, headers=headers)\n",
    "    print(response.status_code)\n",
    "    if response.status_code != 200:\n",
    "        raise Exception(response.status_code, response.text)\n",
    "    return response.json()\n",
    "\n",
    "def main():\n",
    "    bearer_token = auth()\n",
    "    url = create_url()\n",
    "    headers = create_headers(bearer_token)\n",
    "    json_response = connect_to_endpoint(url, headers)\n",
    "    print(json.dumps(json_response, indent=4, sort_keys=True))\n",
    "\n",
    "if __name__ == \"__main__\":\n",
    "    main()"
   ]
  },
  {
   "cell_type": "code",
   "execution_count": 14,
   "metadata": {},
   "outputs": [
    {
     "name": "stdout",
     "output_type": "stream",
     "text": [
      "200\n",
      "{\n",
      "    \"data\": [\n",
      "        {\n",
      "            \"author_id\": \"66697583\",\n",
      "            \"id\": \"1361791701296160771\",\n",
      "            \"text\": \"To all those in Bruin Nation:\\n\\nCheck out https://t.co/x3PK3xaoHh tomorrow at 8 a.m. for an exciting reveal by the Bellevue University Athletic Department!\\n\\n#BUBruins #BruinPride https://t.co/dxz2VU4mnM\"\n",
      "        },\n",
      "        {\n",
      "            \"author_id\": \"1236399302546583552\",\n",
      "            \"id\": \"1361769674959069187\",\n",
      "            \"text\": \"@Softykjr Troll. Well Bellevue grad it is Washington STATE University. Check it out WSU is state wide. You did learn about maps?\"\n",
      "        },\n",
      "        {\n",
      "            \"author_id\": \"1225079779684167680\",\n",
      "            \"id\": \"1361702609250312192\",\n",
      "            \"text\": \"Interested in transferring to Bellevue University after completing your Associates degree at CCC?\\nYou should talk with Curt from Bellevue your next steps.\\nHe will be in the hallway at a table by the bookstore on the Grand Island Campus on Tuesday, March 2nd from 10am - Noon https://t.co/Z0u2SSmRhd\"\n",
      "        },\n",
      "        {\n",
      "            \"author_id\": \"1660002943\",\n",
      "            \"id\": \"1361489441299267589\",\n",
      "            \"text\": \"Men's Basketball: Dickinson State upsets Bellevue University in final seconds of the game\\n - https://t.co/cocZDEi7SQ https://t.co/x0V74OpMtt\"\n",
      "        },\n",
      "        {\n",
      "            \"author_id\": \"2181563773\",\n",
      "            \"id\": \"1361402576256724992\",\n",
      "            \"text\": \"@Ty_Bundy moving to Omaha this summer to attend Bellevue University, are there any apartments that offer discounts to students?\"\n",
      "        },\n",
      "        {\n",
      "            \"author_id\": \"134149325\",\n",
      "            \"id\": \"1361377877095284738\",\n",
      "            \"text\": \"Men's Basketball: Dickinson State upsets Bellevue University in final seconds of the game\\n - https://t.co/ymQKFJXZUB https://t.co/5HXvG4s2la\"\n",
      "        },\n",
      "        {\n",
      "            \"author_id\": \"1891122126\",\n",
      "            \"id\": \"1361330165293469699\",\n",
      "            \"text\": \"Bellevue University Degree Programs at LSC-University Center #lscuc #studentsuccess https://t.co/3gIf6YbB3m https://t.co/WHzOxZm7kB\"\n",
      "        },\n",
      "        {\n",
      "            \"author_id\": \"1112172766814527488\",\n",
      "            \"id\": \"1361148516500967425\",\n",
      "            \"text\": \"Even the bitter cold won't prevent me from providing exceptional service! Home now from 4 days with the Bellevue University Men's Basketball team, thanks for a great trip! https://t.co/3FHE0KP1sG\"\n",
      "        },\n",
      "        {\n",
      "            \"author_id\": \"134149325\",\n",
      "            \"id\": \"1360763593210347526\",\n",
      "            \"text\": \"Men's Basketball - Won 67-65 over Bellevue University\"\n",
      "        },\n",
      "        {\n",
      "            \"author_id\": \"134149325\",\n",
      "            \"id\": \"1360752104466505731\",\n",
      "            \"text\": \"Men\\u2019s basketball- leads Bellevue University 29-27 (halftime)\"\n",
      "        }\n",
      "    ],\n",
      "    \"includes\": {\n",
      "        \"users\": [\n",
      "            {\n",
      "                \"id\": \"66697583\",\n",
      "                \"name\": \"Bellevue Bruins\",\n",
      "                \"username\": \"BUBruins\"\n",
      "            },\n",
      "            {\n",
      "                \"id\": \"1236399302546583552\",\n",
      "                \"name\": \"Jeff Boyles\",\n",
      "                \"username\": \"JeffBoyles6\"\n",
      "            },\n",
      "            {\n",
      "                \"id\": \"1225079779684167680\",\n",
      "                \"name\": \"Meghan May - Central Community College\",\n",
      "                \"username\": \"central_may\"\n",
      "            },\n",
      "            {\n",
      "                \"id\": \"1660002943\",\n",
      "                \"name\": \"North Star\",\n",
      "                \"username\": \"PlayNorthStar\"\n",
      "            },\n",
      "            {\n",
      "                \"id\": \"2181563773\",\n",
      "                \"name\": \"Jorge Morales\",\n",
      "                \"username\": \"JorgeX2387\"\n",
      "            },\n",
      "            {\n",
      "                \"id\": \"134149325\",\n",
      "                \"name\": \"DSU Blue Hawks\",\n",
      "                \"username\": \"dsubluehawks\"\n",
      "            },\n",
      "            {\n",
      "                \"id\": \"1891122126\",\n",
      "                \"name\": \"Lone Star College University Center\",\n",
      "                \"username\": \"lscuclibrary\"\n",
      "            },\n",
      "            {\n",
      "                \"id\": \"1112172766814527488\",\n",
      "                \"name\": \"Driven Sound\",\n",
      "                \"username\": \"driven_sound\"\n",
      "            }\n",
      "        ]\n",
      "    },\n",
      "    \"meta\": {\n",
      "        \"newest_id\": \"1361791701296160771\",\n",
      "        \"next_token\": \"b26v89c19zqg8o3fosnr8sdwzadlnt2gnot80jxjgl9x9\",\n",
      "        \"oldest_id\": \"1360752104466505731\",\n",
      "        \"result_count\": 10\n",
      "    }\n",
      "}\n"
     ]
    }
   ],
   "source": [
    "def auth():\n",
    "    return os.environ.get(\"BEARER_TOKEN\")\n",
    "\n",
    "def create_url():\n",
    "    query = \"bellevue university -is:retweet lang:en\" # from:twitterdev\n",
    "    # Tweet fields are adjustable.\n",
    "    # Options include:\n",
    "    # attachments, author_id, context_annotations,\n",
    "    # conversation_id, created_at, entities, geo, id,\n",
    "    # in_reply_to_user_id, lang, non_public_metrics, organic_metrics,\n",
    "    # possibly_sensitive, promoted_metrics, public_metrics, referenced_tweets,\n",
    "    # source, text, and withheld\n",
    "    tweet_fields = \"expansions=author_id\" #tweet.fields=author_id&\n",
    "    url = \"https://api.twitter.com/2/tweets/search/recent?query={}&{}\".format(query, tweet_fields)\n",
    "    return url\n",
    "\n",
    "def create_headers(bearer_token):\n",
    "    headers = {\"Authorization\": \"Bearer {}\".format(bearer_token)}\n",
    "    return headers\n",
    "\n",
    "def connect_to_endpoint(url, headers):\n",
    "    response = requests.request(\"GET\", url, headers=headers)\n",
    "    print(response.status_code)\n",
    "    if response.status_code != 200:\n",
    "        raise Exception(response.status_code, response.text)\n",
    "    return response.json()\n",
    "\n",
    "def main():\n",
    "    bearer_token = auth()\n",
    "    url = create_url()\n",
    "    headers = create_headers(bearer_token)\n",
    "    json_response = connect_to_endpoint(url, headers)\n",
    "    print(json.dumps(json_response, indent=4, sort_keys=True))\n",
    "\n",
    "if __name__ == \"__main__\":\n",
    "    main()"
   ]
  },
  {
   "cell_type": "code",
   "execution_count": 26,
   "metadata": {},
   "outputs": [],
   "source": [
    "import requests\n",
    "import json\n",
    "\n",
    "\n",
    "#define search twitter function\n",
    "def search_twitter(query, tweet_fields, bearer_token = os.environ.get(\"BEARER_TOKEN\")):\n",
    "    headers = {\"Authorization\": \"Bearer {}\".format(bearer_token)}\n",
    "    \n",
    "    tweet_fields = \"tweet.fields=text,author_id,created_at&expansions=author_id\"\n",
    "    \n",
    "    url = \"https://api.twitter.com/2/tweets/search/recent?query={}&{}\".format(\n",
    "        query, tweet_fields\n",
    "    )\n",
    "    response = requests.request(\"GET\", url, headers=headers)\n",
    "\n",
    "    print(response.status_code)\n",
    "\n",
    "    if response.status_code != 200:\n",
    "        raise Exception(response.status_code, response.text)\n",
    "    return response.json()"
   ]
  },
  {
   "cell_type": "code",
   "execution_count": 27,
   "metadata": {},
   "outputs": [
    {
     "name": "stdout",
     "output_type": "stream",
     "text": [
      "200\n"
     ]
    }
   ],
   "source": [
    "# tweet_fields = \"tweet.fields=text,author_id,created_at\"\n",
    "\n",
    "json_response = search_twitter(\"tacos\", tweet_fields, bearer_token = os.environ.get(\"BEARER_TOKEN\"))"
   ]
  },
  {
   "cell_type": "code",
   "execution_count": 28,
   "metadata": {},
   "outputs": [
    {
     "name": "stdout",
     "output_type": "stream",
     "text": [
      "200\n",
      "{\n",
      "    \"data\": [\n",
      "        {\n",
      "            \"author_id\": \"101186053\",\n",
      "            \"created_at\": \"2021-02-16T23:39:20.000Z\",\n",
      "            \"id\": \"1361822499806142464\",\n",
      "            \"text\": \"I'm glad dog on a skateboard aesthetics existed so long before skateboarding. https://t.co/YW6whUjQ4r\"\n",
      "        },\n",
      "        {\n",
      "            \"author_id\": \"841850514849517569\",\n",
      "            \"created_at\": \"2021-02-16T07:58:49.000Z\",\n",
      "            \"id\": \"1361585811259486214\",\n",
      "            \"text\": \"Skateboarding Dog Plastic Toy- Blind Box Includes 1 of 5 Collectable Figurines - Fun, Versatile Decoration - Authentic Japanese Design - Made from Durable Plastic  \\nhttps://t.co/9UrXgGHo2a amazon\\u3088\\u308a\"\n",
      "        },\n",
      "        {\n",
      "            \"author_id\": \"289118612\",\n",
      "            \"created_at\": \"2021-02-16T01:41:19.000Z\",\n",
      "            \"id\": \"1361490813490970627\",\n",
      "            \"text\": \"If you\\u2019ve already seen a dog skateboarding in overalls today just keep on scrolling...\\nvia RecChapman \\nhttps://t.co/PB85HFgMsp 05\"\n",
      "        },\n",
      "        {\n",
      "            \"author_id\": \"2730248118\",\n",
      "            \"created_at\": \"2021-02-15T19:03:52.000Z\",\n",
      "            \"id\": \"1361390790736502784\",\n",
      "            \"text\": \"Fastest skateboarding dog - Guinness World Records https://t.co/nQNDYHQJS1 a trav\\u00e9s de @YouTube\"\n",
      "        },\n",
      "        {\n",
      "            \"author_id\": \"289118612\",\n",
      "            \"created_at\": \"2021-02-15T17:41:19.000Z\",\n",
      "            \"id\": \"1361370017598734338\",\n",
      "            \"text\": \"If you\\u2019ve already seen a dog skateboarding in overalls today just keep on scrolling...\\nvia RecChapman \\nhttps://t.co/PB85HFgMsp 07\"\n",
      "        },\n",
      "        {\n",
      "            \"author_id\": \"756579941760761856\",\n",
      "            \"created_at\": \"2021-02-15T13:19:33.000Z\",\n",
      "            \"id\": \"1361304142162010114\",\n",
      "            \"text\": \"yo like skateboarding dog @YouTube remember that shit\"\n",
      "        },\n",
      "        {\n",
      "            \"author_id\": \"1185881037139795968\",\n",
      "            \"created_at\": \"2021-02-15T07:34:37.000Z\",\n",
      "            \"id\": \"1361217334539661312\",\n",
      "            \"text\": \"Little dog skateboarding! \\ud83e\\udd23\\ud83e\\udd23\\ud83e\\udd70\\ud83e\\udd70\\n\\nUse sound. \\ud83d\\udd0a\\ud83d\\udd0a https://t.co/5ZDVjza5iH\"\n",
      "        },\n",
      "        {\n",
      "            \"author_id\": \"289118612\",\n",
      "            \"created_at\": \"2021-02-15T07:17:22.000Z\",\n",
      "            \"id\": \"1361212992281600005\",\n",
      "            \"text\": \"If you\\u2019ve already seen a dog skateboarding in overalls today just keep on scrolling...\\nvia RecChapman \\nhttps://t.co/PB85HFgMsp 06\"\n",
      "        },\n",
      "        {\n",
      "            \"author_id\": \"49359450\",\n",
      "            \"created_at\": \"2021-02-15T06:35:15.000Z\",\n",
      "            \"id\": \"1361202393556398080\",\n",
      "            \"text\": \"Ceramic sculpture of early skateboarding dog, Mexico, A.D.450-650 https://t.co/2tBnvLfJwu\"\n",
      "        },\n",
      "        {\n",
      "            \"author_id\": \"289118612\",\n",
      "            \"created_at\": \"2021-02-15T06:14:18.000Z\",\n",
      "            \"id\": \"1361197123253977089\",\n",
      "            \"text\": \"If you\\u2019ve already seen a dog skateboarding in overalls today just keep on scrolling...\\nvia RecChapman \\nhttps://t.co/PB85HFgMsp 04\"\n",
      "        }\n",
      "    ],\n",
      "    \"includes\": {\n",
      "        \"users\": [\n",
      "            {\n",
      "                \"id\": \"101186053\",\n",
      "                \"name\": \"Nick\",\n",
      "                \"username\": \"_ricecooker\"\n",
      "            },\n",
      "            {\n",
      "                \"id\": \"841850514849517569\",\n",
      "                \"name\": \"Hiro's gallery\",\n",
      "                \"username\": \"HiroGallery\"\n",
      "            },\n",
      "            {\n",
      "                \"id\": \"289118612\",\n",
      "                \"name\": \"Tomthunkit\\u2122\",\n",
      "                \"username\": \"TomthunkitsMind\"\n",
      "            },\n",
      "            {\n",
      "                \"id\": \"2730248118\",\n",
      "                \"name\": \"Ver\\u00f3nica M.S.\",\n",
      "                \"username\": \"LOQUISKATER\"\n",
      "            },\n",
      "            {\n",
      "                \"id\": \"756579941760761856\",\n",
      "                \"name\": \"\\u26d4\\ufe0f N8 Grey (% \\ud83d\\udd8d\\ud83d\\udef9\\ud83e\\udeb4\\ud83d\\udc15\\u200d\\ud83e\\uddba\\ud83c\\udff3\\ufe0f\\u200d\\u26a7\\ufe0f\",\n",
      "                \"username\": \"SortOfGreatNate\"\n",
      "            },\n",
      "            {\n",
      "                \"id\": \"1185881037139795968\",\n",
      "                \"name\": \"\\ud835\\udc13\\ud835\\udc21\\ud835\\udc1e \\ud835\\udc13\\ud835\\udc1a\\ud835\\udc28 \\ud835\\udc28\\ud835\\udc1f \\ud835\\udc12\\ud835\\udc2d\\ud835\\udc1a\\ud835\\udc2b\\ud835\\udc2c\\ud835\\udc1c\\ud835\\udc2b\\ud835\\udc1e\\ud835\\udc1a\\ud835\\udc26, \\ud835\\udc0c\\ud835\\udc12\\ud835\\udc16\\u262f\\ufe0f\",\n",
      "                \"username\": \"Starscream35\"\n",
      "            },\n",
      "            {\n",
      "                \"id\": \"49359450\",\n",
      "                \"name\": \"Luca\",\n",
      "                \"username\": \"imjustluca\"\n",
      "            }\n",
      "        ]\n",
      "    },\n",
      "    \"meta\": {\n",
      "        \"newest_id\": \"1361822499806142464\",\n",
      "        \"next_token\": \"b26v89c19zqg8o3fosnrnl8pdn844p8yvzm1zmymn022l\",\n",
      "        \"oldest_id\": \"1361197123253977089\",\n",
      "        \"result_count\": 10\n",
      "    }\n",
      "}\n"
     ]
    }
   ],
   "source": [
    "#search term\n",
    "query = \"skateboarding dog -is:retweet\"\n",
    "#twitter fields to be returned by api call\n",
    "tweet_fields = \"tweet.fields=text,author_id,created_at\"\n",
    "\n",
    "#twitter api call\n",
    "json_response = search_twitter(query=query, tweet_fields=tweet_fields, bearer_token=os.environ.get(\"BEARER_TOKEN\"))\n",
    "#pretty printing\n",
    "print(json.dumps(json_response, indent=4, sort_keys=True))"
   ]
  },
  {
   "cell_type": "code",
   "execution_count": null,
   "metadata": {},
   "outputs": [],
   "source": []
  },
  {
   "cell_type": "code",
   "execution_count": null,
   "metadata": {},
   "outputs": [],
   "source": [
    "# os.environ[\"CONSUMER_KEY\"] = \"<API key>\"\n",
    "# os.environ[\"CONSUMER_SECRET\"] = \"<API secret key>\"\n",
    "# os.environ[\"BEARER_TOKEN\"] = \"<Bearer token>\""
   ]
  },
  {
   "cell_type": "code",
   "execution_count": null,
   "metadata": {},
   "outputs": [],
   "source": [
    "# import json\n",
    "# # Enter your keys/secrets as strings in the following fields\n",
    "# credentials = {}\n",
    "# credentials['CONSUMER_KEY'] = os.environ[\"CONSUMER_KEY\"]\n",
    "# credentials['CONSUMER_SECRET'] = os.environ[\"CONSUMER_SECRET\"]\n",
    "# credentials['ACCESS_TOKEN'] = os.environ[\"BEARER_TOKEN\"]\n",
    "# credentials['ACCESS_SECRET'] = 'access_secret_code'\n",
    "# # Save the credentials object to file\n",
    "# with open(\"twitter_credentials.json\", \"w\") as file:\n",
    "#     json.dump(credentials, file)"
   ]
  },
  {
   "cell_type": "code",
   "execution_count": null,
   "metadata": {},
   "outputs": [],
   "source": [
    "# pip install twython"
   ]
  },
  {
   "cell_type": "code",
   "execution_count": 94,
   "metadata": {},
   "outputs": [],
   "source": [
    "from twython import Twython\n",
    "# Load credentials from json file\n",
    "# with open(\"twitter_credentials.json\", \"r\") as file:\n",
    "#     creds = json.load(file)\n",
    "# Instantiate an object\n",
    "python_tweets = Twython(os.environ[\"CONSUMER_KEY\"], os.environ[\"CONSUMER_SECRET\"])\n",
    "# Create our query\n",
    "query = {'q': 'tacos',\n",
    "        'result_type': 'popular',\n",
    "        'count': 10,\n",
    "        'lang': 'en',\n",
    "        }"
   ]
  },
  {
   "cell_type": "code",
   "execution_count": 95,
   "metadata": {},
   "outputs": [
    {
     "data": {
      "text/html": [
       "<div>\n",
       "<style scoped>\n",
       "    .dataframe tbody tr th:only-of-type {\n",
       "        vertical-align: middle;\n",
       "    }\n",
       "\n",
       "    .dataframe tbody tr th {\n",
       "        vertical-align: top;\n",
       "    }\n",
       "\n",
       "    .dataframe thead th {\n",
       "        text-align: right;\n",
       "    }\n",
       "</style>\n",
       "<table border=\"1\" class=\"dataframe\">\n",
       "  <thead>\n",
       "    <tr style=\"text-align: right;\">\n",
       "      <th></th>\n",
       "      <th>user</th>\n",
       "      <th>date</th>\n",
       "      <th>text</th>\n",
       "      <th>favorite_count</th>\n",
       "    </tr>\n",
       "  </thead>\n",
       "  <tbody>\n",
       "    <tr>\n",
       "      <th>0</th>\n",
       "      <td>Kehlani</td>\n",
       "      <td>Thu Feb 11 22:30:58 +0000 2021</td>\n",
       "      <td>thinkin bout tacos https://t.co/TCiXK38CyN</td>\n",
       "      <td>177737</td>\n",
       "    </tr>\n",
       "    <tr>\n",
       "      <th>1</th>\n",
       "      <td>FoodNetwork</td>\n",
       "      <td>Sun Feb 14 23:15:00 +0000 2021</td>\n",
       "      <td>Give your typical weeknight taco recipe a make...</td>\n",
       "      <td>195</td>\n",
       "    </tr>\n",
       "    <tr>\n",
       "      <th>2</th>\n",
       "      <td>JeffGSpursZone</td>\n",
       "      <td>Mon Feb 15 17:36:28 +0000 2021</td>\n",
       "      <td>Brb ... Off to get tacos for lunch, #SanAntoni...</td>\n",
       "      <td>74</td>\n",
       "    </tr>\n",
       "    <tr>\n",
       "      <th>3</th>\n",
       "      <td>sarahcpr</td>\n",
       "      <td>Wed Feb 10 16:55:16 +0000 2021</td>\n",
       "      <td>I’m putting myself on a strict diet of protein...</td>\n",
       "      <td>16764</td>\n",
       "    </tr>\n",
       "    <tr>\n",
       "      <th>4</th>\n",
       "      <td>GeoffWilson_</td>\n",
       "      <td>Mon Feb 15 14:00:51 +0000 2021</td>\n",
       "      <td>You may have seen them on TikTok or Instagram,...</td>\n",
       "      <td>10</td>\n",
       "    </tr>\n",
       "  </tbody>\n",
       "</table>\n",
       "</div>"
      ],
      "text/plain": [
       "             user                            date  \\\n",
       "0         Kehlani  Thu Feb 11 22:30:58 +0000 2021   \n",
       "1     FoodNetwork  Sun Feb 14 23:15:00 +0000 2021   \n",
       "2  JeffGSpursZone  Mon Feb 15 17:36:28 +0000 2021   \n",
       "3        sarahcpr  Wed Feb 10 16:55:16 +0000 2021   \n",
       "4    GeoffWilson_  Mon Feb 15 14:00:51 +0000 2021   \n",
       "\n",
       "                                                text  favorite_count  \n",
       "0         thinkin bout tacos https://t.co/TCiXK38CyN          177737  \n",
       "1  Give your typical weeknight taco recipe a make...             195  \n",
       "2  Brb ... Off to get tacos for lunch, #SanAntoni...              74  \n",
       "3  I’m putting myself on a strict diet of protein...           16764  \n",
       "4  You may have seen them on TikTok or Instagram,...              10  "
      ]
     },
     "execution_count": 95,
     "metadata": {},
     "output_type": "execute_result"
    }
   ],
   "source": [
    "import pandas as pd\n",
    "# Search tweets\n",
    "dict_ = {'user': [], 'date': [], 'text': [], 'favorite_count': []}\n",
    "for status in python_tweets.search(**query)['statuses']:\n",
    "    dict_['user'].append(status['user']['screen_name'])\n",
    "    dict_['date'].append(status['created_at'])\n",
    "    dict_['text'].append(status['text'])\n",
    "    dict_['favorite_count'].append(status['favorite_count'])\n",
    "# Structure data in a pandas DataFrame for easier manipulation\n",
    "df = pd.DataFrame(dict_)\n",
    "# df.sort_values(by='favorite_count', inplace=True, ascending=False)\n",
    "df.head(5)"
   ]
  },
  {
   "cell_type": "code",
   "execution_count": null,
   "metadata": {},
   "outputs": [],
   "source": []
  },
  {
   "cell_type": "code",
   "execution_count": null,
   "metadata": {},
   "outputs": [],
   "source": [
    "# os.environ[\"CONSUMER_KEY\"] = \"<API key>\"\n",
    "# os.environ[\"CONSUMER_SECRET\"] = \"<API secret key>\"\n",
    "# os.environ[\"BEARER_TOKEN\"] = \"<Bearer token>\""
   ]
  },
  {
   "cell_type": "code",
   "execution_count": 92,
   "metadata": {},
   "outputs": [
    {
     "name": "stdout",
     "output_type": "stream",
     "text": [
      "b'oauth_token=Q_ey7QAAAAABM0F1AAABd6imrxc&oauth_token_secret=0ktcRy5bTKHSV05HAgb1KRl3LcZAyJcI&oauth_callback_confirmed=true'\n"
     ]
    }
   ],
   "source": [
    "import requests\n",
    "from requests_oauthlib import OAuth1\n",
    "\n",
    "\n",
    "REQUEST_TOKEN_URL = \"https://api.twitter.com/oauth/request_token\"\n",
    "# CONSUMER_KEY = \"xxxxxxxx\n",
    "# CONSUMER_SECRET = \"xxxxxxxxxxxxxxxxx\"\n",
    "\n",
    "oauth = OAuth1(os.environ[\"CONSUMER_KEY\"], client_secret=os.environ[\"CONSUMER_SECRET\"])\n",
    "r = requests.post(url=REQUEST_TOKEN_URL, auth=oauth)\n",
    "print(r.content)\n",
    "# oauth_token=xxxxxxxxxxxxxx&oauth_token_secret=xxxxxxxxxxx&oauth_callback_confirmed=true"
   ]
  },
  {
   "cell_type": "code",
   "execution_count": 78,
   "metadata": {},
   "outputs": [
    {
     "name": "stdout",
     "output_type": "stream",
     "text": [
      "Note: you may need to restart the kernel to use updated packages.\n"
     ]
    },
    {
     "name": "stderr",
     "output_type": "stream",
     "text": [
      "ERROR: Could not find a version that satisfies the requirement webbrowser\n",
      "ERROR: No matching distribution found for webbrowser\n"
     ]
    }
   ],
   "source": []
  },
  {
   "cell_type": "markdown",
   "metadata": {},
   "source": [
    "https://stackoverflow.com/questions/29716521/twitter-http-requests-403-error"
   ]
  },
  {
   "cell_type": "code",
   "execution_count": 80,
   "metadata": {},
   "outputs": [
    {
     "data": {
      "text/plain": [
       "True"
      ]
     },
     "execution_count": 80,
     "metadata": {},
     "output_type": "execute_result"
    }
   ],
   "source": [
    "# from urlparse import parse_qs\n",
    "# import webbrowser\n",
    "\n",
    "# data = parse_qs(r.content)\n",
    "oauth_token = \"1i8aZgAAAAABM0F1AAABd6iZotU\"\n",
    "# oauth_token = data['oauth_token'][0]\n",
    "oauth_token_secret = \"b5Un258QGOAR637MPYb2vrNBDQDcNALa\"\n",
    "# oauth_token_secret = data['oauth_token_secret'][0]\n",
    "AUTH = \"https://api.twitter.com/oauth/authorize?oauth_token={}\"\n",
    "auth = AUTH.format(oauth_token)\n",
    "webbrowser.open(auth)"
   ]
  },
  {
   "cell_type": "code",
   "execution_count": 93,
   "metadata": {},
   "outputs": [
    {
     "data": {
      "text/plain": [
       "True"
      ]
     },
     "execution_count": 93,
     "metadata": {},
     "output_type": "execute_result"
    }
   ],
   "source": [
    "# from urlparse import parse_qs\n",
    "# import webbrowser\n",
    "\n",
    "# data = parse_qs(r.content)\n",
    "oauth_token = \"1i8aZgAAAAABM0F1AAABd6iZotU\"\n",
    "# oauth_token = data['oauth_token'][0]\n",
    "oauth_token_secret = \"b5Un258QGOAR637MPYb2vrNBDQDcNALa\"\n",
    "# oauth_token_secret = data['oauth_token_secret'][0]\n",
    "AUTH = \"https://api.twitter.com/oauth/authenticate?oauth_token={}\"\n",
    "auth = AUTH.format(oauth_token)\n",
    "webbrowser.open(auth)"
   ]
  },
  {
   "cell_type": "code",
   "execution_count": 81,
   "metadata": {},
   "outputs": [],
   "source": [
    "from urllib.parse import parse_qs\n",
    "\n",
    "\n",
    "data = parse_qs(r.text)\n",
    "oauth_token = data['oauth_token'][0]\n",
    "oauth_token_secret = data['oauth_token_secret'][0]"
   ]
  },
  {
   "cell_type": "code",
   "execution_count": null,
   "metadata": {},
   "outputs": [],
   "source": []
  },
  {
   "cell_type": "code",
   "execution_count": 98,
   "metadata": {},
   "outputs": [
    {
     "name": "stdout",
     "output_type": "stream",
     "text": [
      "Got OAuth token: S_uy5QAAAAABM0F1AAABd6ixA84\n",
      "Please go here and authorize: https://api.twitter.com/oauth/authorize?oauth_token=S_uy5QAAAAABM0F1AAABd6ixA84\n"
     ]
    },
    {
     "name": "stdin",
     "output_type": "stream",
     "text": [
      "Paste the PIN here:  6075249\n"
     ]
    },
    {
     "ename": "Exception",
     "evalue": "Request returned an error: 403 {\"client_id\":\"20136309\",\"detail\":\"When authenticating requests to the Twitter API v2 endpoints, you must use keys and tokens from a Twitter developer App that is attached to a Project. You can create a project via the developer portal.\",\"registration_url\":\"https://developer.twitter.com/en/docs/projects/overview\",\"title\":\"Client Forbidden\",\"required_enrollment\":\"Standard Basic\",\"reason\":\"client-not-enrolled\",\"type\":\"https://api.twitter.com/2/problems/client-forbidden\"}",
     "output_type": "error",
     "traceback": [
      "\u001b[1;31m---------------------------------------------------------------------------\u001b[0m",
      "\u001b[1;31mException\u001b[0m                                 Traceback (most recent call last)",
      "\u001b[1;32m<ipython-input-98-ae785e158e86>\u001b[0m in \u001b[0;36m<module>\u001b[1;34m\u001b[0m\n\u001b[0;32m     69\u001b[0m \u001b[1;33m\u001b[0m\u001b[0m\n\u001b[0;32m     70\u001b[0m \u001b[1;32mif\u001b[0m \u001b[0mresponse\u001b[0m\u001b[1;33m.\u001b[0m\u001b[0mstatus_code\u001b[0m \u001b[1;33m!=\u001b[0m \u001b[1;36m200\u001b[0m\u001b[1;33m:\u001b[0m\u001b[1;33m\u001b[0m\u001b[1;33m\u001b[0m\u001b[0m\n\u001b[1;32m---> 71\u001b[1;33m     raise Exception(\n\u001b[0m\u001b[0;32m     72\u001b[0m         \u001b[1;34m\"Request returned an error: {} {}\"\u001b[0m\u001b[1;33m.\u001b[0m\u001b[0mformat\u001b[0m\u001b[1;33m(\u001b[0m\u001b[0mresponse\u001b[0m\u001b[1;33m.\u001b[0m\u001b[0mstatus_code\u001b[0m\u001b[1;33m,\u001b[0m \u001b[0mresponse\u001b[0m\u001b[1;33m.\u001b[0m\u001b[0mtext\u001b[0m\u001b[1;33m)\u001b[0m\u001b[1;33m\u001b[0m\u001b[1;33m\u001b[0m\u001b[0m\n\u001b[0;32m     73\u001b[0m     )\n",
      "\u001b[1;31mException\u001b[0m: Request returned an error: 403 {\"client_id\":\"20136309\",\"detail\":\"When authenticating requests to the Twitter API v2 endpoints, you must use keys and tokens from a Twitter developer App that is attached to a Project. You can create a project via the developer portal.\",\"registration_url\":\"https://developer.twitter.com/en/docs/projects/overview\",\"title\":\"Client Forbidden\",\"required_enrollment\":\"Standard Basic\",\"reason\":\"client-not-enrolled\",\"type\":\"https://api.twitter.com/2/problems/client-forbidden\"}"
     ]
    }
   ],
   "source": [
    "# from requests_oauthlib import OAuth1Session\n",
    "# import os\n",
    "# import json\n",
    "\n",
    "# # To set your enviornment variables in your terminal run the following line:\n",
    "# # export 'CONSUMER_KEY'='<your_consumer_key>'\n",
    "# # export 'CONSUMER_SECRET'='<your_consumer_secret>'\n",
    "\n",
    "# consumer_key = os.environ.get(\"CONSUMER_KEY\")\n",
    "# consumer_secret = os.environ.get(\"CONSUMER_SECRET\")\n",
    "\n",
    "# # You can adjust ids to include a single Tweets\n",
    "# # Or you can add to up to 100 comma-separated IDs\n",
    "# params = {\"ids\": \"1278747501642657792\", \"tweet.fields\": \"created_at\"}\n",
    "# # Tweet fields are adjustable.\n",
    "# # Options include:\n",
    "# # attachments, author_id, context_annotations,\n",
    "# # conversation_id, created_at, entities, geo, id,\n",
    "# # in_reply_to_user_id, lang, non_public_metrics, organic_metrics,\n",
    "# # possibly_sensitive, promoted_metrics, public_metrics, referenced_tweets,\n",
    "# # source, text, and withheld\n",
    "\n",
    "# request_token_url = \"https://api.twitter.com/oauth/request_token\"\n",
    "# oauth = OAuth1Session(consumer_key, client_secret=consumer_secret)\n",
    "\n",
    "# try:\n",
    "#     fetch_response = oauth.fetch_request_token(request_token_url)\n",
    "# except ValueError:\n",
    "#     print(\n",
    "#         \"There may have been an issue with the consumer_key or consumer_secret you entered.\"\n",
    "#     )\n",
    "\n",
    "# resource_owner_key = fetch_response.get(\"oauth_token\")\n",
    "# resource_owner_secret = fetch_response.get(\"oauth_token_secret\")\n",
    "# print(\"Got OAuth token: %s\" % resource_owner_key)\n",
    "\n",
    "# # Get authorization\n",
    "# base_authorization_url = \"https://api.twitter.com/oauth/authorize\"\n",
    "# authorization_url = oauth.authorization_url(base_authorization_url)\n",
    "# print(\"Please go here and authorize: %s\" % authorization_url)\n",
    "# verifier = input(\"Paste the PIN here: \")\n",
    "\n",
    "# # Get the access token\n",
    "# access_token_url = \"https://api.twitter.com/oauth/access_token\"\n",
    "# oauth = OAuth1Session(\n",
    "#     consumer_key,\n",
    "#     client_secret=consumer_secret,\n",
    "#     resource_owner_key=resource_owner_key,\n",
    "#     resource_owner_secret=resource_owner_secret,\n",
    "#     verifier=verifier,\n",
    "# )\n",
    "# oauth_tokens = oauth.fetch_access_token(access_token_url)\n",
    "\n",
    "\n",
    "# access_token = oauth_tokens[\"oauth_token\"]\n",
    "# access_token_secret = oauth_tokens[\"oauth_token_secret\"]\n",
    "\n",
    "# # Make the request\n",
    "# oauth = OAuth1Session(\n",
    "#     consumer_key,\n",
    "#     client_secret=consumer_secret,\n",
    "#     resource_owner_key=access_token,\n",
    "#     resource_owner_secret=access_token_secret,\n",
    "# )\n",
    "\n",
    "# response = oauth.get(\n",
    "#     \"https://api.twitter.com/2/tweets\", params=params\n",
    "# )\n",
    "\n",
    "# if response.status_code != 200:\n",
    "#     raise Exception(\n",
    "#         \"Request returned an error: {} {}\".format(response.status_code, response.text)\n",
    "#     )\n",
    "\n",
    "# print(\"Response code: {}\".format(response.status_code))\n",
    "# json_response = response.json()\n",
    "# print(json.dumps(json_response, indent=4, sort_keys=True))\n"
   ]
  }
 ],
 "metadata": {
  "kernelspec": {
   "display_name": "Python 3",
   "language": "python",
   "name": "python3"
  },
  "language_info": {
   "codemirror_mode": {
    "name": "ipython",
    "version": 3
   },
   "file_extension": ".py",
   "mimetype": "text/x-python",
   "name": "python",
   "nbconvert_exporter": "python",
   "pygments_lexer": "ipython3",
   "version": "3.8.5"
  }
 },
 "nbformat": 4,
 "nbformat_minor": 4
}
