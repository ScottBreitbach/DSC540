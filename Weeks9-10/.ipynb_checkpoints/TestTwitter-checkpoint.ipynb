{
 "cells": [
  {
   "cell_type": "code",
   "execution_count": null,
   "metadata": {},
   "outputs": [],
   "source": []
  },
  {
   "cell_type": "markdown",
   "metadata": {},
   "source": [
    "# 3. Connect to the Twitter API and do a simple data pull."
   ]
  },
  {
   "cell_type": "code",
   "execution_count": 2,
   "metadata": {},
   "outputs": [],
   "source": [
    "import requests\n",
    "import os\n",
    "import json"
   ]
  },
  {
   "cell_type": "markdown",
   "metadata": {},
   "source": [
    "## a.-g. Set up a Twitter developer account and obtain necessary keys/tokens."
   ]
  },
  {
   "cell_type": "code",
   "execution_count": 58,
   "metadata": {},
   "outputs": [],
   "source": [
    "# os.environ[\"CONSUMER_KEY\"] = \"<API key>\"\n",
    "# os.environ[\"CONSUMER_SECRET\"] = \"<API secret key>\"\n",
    "# os.environ[\"BEARER_TOKEN\"] = \"<Bearer token>\""
   ]
  },
  {
   "cell_type": "markdown",
   "metadata": {},
   "source": [
    "Donezo."
   ]
  },
  {
   "cell_type": "markdown",
   "metadata": {},
   "source": [
    "## h. Connect to the Twitter API to pull data searching for \"Bellevue University\" and \"Data Science\" or something else interesting.\n",
    "* [How to Create a Twitter App and API Interface via Python](https://www.sitepoint.com/how-to-create-a-twitter-app-and-api-interface-via-python/)\n",
    "* [Welcome Python-Twitter's Documentation!](https://python-twitter.readthedocs.io/en/latest/)"
   ]
  },
  {
   "cell_type": "code",
   "execution_count": 4,
   "metadata": {},
   "outputs": [
    {
     "data": {
      "text/plain": [
       "environ{'ALLUSERSPROFILE': 'C:\\\\ProgramData',\n",
       "        'APPDATA': 'C:\\\\Users\\\\micha\\\\AppData\\\\Roaming',\n",
       "        'COMMONPROGRAMFILES': 'C:\\\\Program Files\\\\Common Files',\n",
       "        'COMMONPROGRAMFILES(X86)': 'C:\\\\Program Files (x86)\\\\Common Files',\n",
       "        'COMMONPROGRAMW6432': 'C:\\\\Program Files\\\\Common Files',\n",
       "        'COMPUTERNAME': 'DESKTOP-KS36U2V',\n",
       "        'COMSPEC': 'C:\\\\WINDOWS\\\\system32\\\\cmd.exe',\n",
       "        'CONDA_DEFAULT_ENV': 'base',\n",
       "        'CONDA_EXE': 'C:\\\\ProgramData\\\\Anaconda3\\\\Scripts\\\\conda.exe',\n",
       "        'CONDA_PROMPT_MODIFIER': '(base) ',\n",
       "        'CONDA_PYTHON_EXE': 'C:\\\\ProgramData\\\\Anaconda3\\\\python.exe',\n",
       "        'CONDA_ROOT': 'C:\\\\ProgramData\\\\Anaconda3',\n",
       "        'CONDA_SHLVL': '1',\n",
       "        'DRIVERDATA': 'C:\\\\Windows\\\\System32\\\\Drivers\\\\DriverData',\n",
       "        'FPS_BROWSER_APP_PROFILE_STRING': 'Internet Explorer',\n",
       "        'FPS_BROWSER_USER_PROFILE_STRING': 'Default',\n",
       "        'HOMEDRIVE': 'C:',\n",
       "        'HOMEPATH': '\\\\Users\\\\micha',\n",
       "        'LOCALAPPDATA': 'C:\\\\Users\\\\micha\\\\AppData\\\\Local',\n",
       "        'LOGONSERVER': '\\\\\\\\DESKTOP-KS36U2V',\n",
       "        'NUMBER_OF_PROCESSORS': '8',\n",
       "        'ONEDRIVE': 'C:\\\\Users\\\\micha\\\\OneDrive',\n",
       "        'ONEDRIVECONSUMER': 'C:\\\\Users\\\\micha\\\\OneDrive',\n",
       "        'OS': 'Windows_NT',\n",
       "        'PATH': 'C:\\\\ProgramData\\\\Anaconda3;C:\\\\ProgramData\\\\Anaconda3\\\\Library\\\\mingw-w64\\\\bin;C:\\\\ProgramData\\\\Anaconda3\\\\Library\\\\usr\\\\bin;C:\\\\ProgramData\\\\Anaconda3\\\\Library\\\\bin;C:\\\\ProgramData\\\\Anaconda3\\\\Scripts;C:\\\\ProgramData\\\\Anaconda3\\\\bin;C:\\\\ProgramData\\\\Anaconda3\\\\condabin;C:\\\\ProgramData\\\\Anaconda3;C:\\\\ProgramData\\\\Anaconda3\\\\Library\\\\mingw-w64\\\\bin;C:\\\\ProgramData\\\\Anaconda3\\\\Library\\\\usr\\\\bin;C:\\\\ProgramData\\\\Anaconda3\\\\Library\\\\bin;C:\\\\ProgramData\\\\Anaconda3\\\\Scripts;C:\\\\Program Files\\\\Python38\\\\Scripts;C:\\\\Program Files\\\\Python38;C:\\\\WINDOWS\\\\system32;C:\\\\WINDOWS;C:\\\\WINDOWS\\\\System32\\\\Wbem;C:\\\\WINDOWS\\\\System32\\\\WindowsPowerShell\\\\v1.0;C:\\\\WINDOWS\\\\System32\\\\OpenSSH;C:\\\\Program Files\\\\Git\\\\cmd;C:\\\\Program Files\\\\Git\\\\mingw64\\\\bin;C:\\\\Program Files\\\\Git\\\\usr\\\\bin;C:\\\\Users\\\\micha\\\\AppData\\\\Local\\\\Programs\\\\Python\\\\Python39\\\\Scripts;C:\\\\Users\\\\micha\\\\AppData\\\\Local\\\\Programs\\\\Python\\\\Python39;C:\\\\Users\\\\micha\\\\AppData\\\\Local\\\\Programs\\\\Python\\\\Python38-32\\\\Scripts;C:\\\\Users\\\\micha\\\\AppData\\\\Local\\\\Programs\\\\Python\\\\Python38-32;C:\\\\Users\\\\micha\\\\AppData\\\\Local\\\\Microsoft\\\\WindowsApps;C:\\\\Program Files\\\\JetBrains\\\\PyCharm Edu 2019.3.3\\\\bin;C:\\\\Users\\\\micha\\\\AppData\\\\Local\\\\GitHubDesktop\\\\bin;C:\\\\Users\\\\micha\\\\AppData\\\\Roaming\\\\TinyTeX\\\\bin\\\\win32;C:\\\\Users\\\\micha\\\\AppData\\\\Local\\\\Microsoft\\\\WindowsApps;.',\n",
       "        'PATHEXT': '.COM;.EXE;.BAT;.CMD;.VBS;.VBE;.JS;.JSE;.WSF;.WSH;.MSC;.PY;.PYW',\n",
       "        'PROCESSOR_ARCHITECTURE': 'AMD64',\n",
       "        'PROCESSOR_IDENTIFIER': 'Intel64 Family 6 Model 126 Stepping 5, GenuineIntel',\n",
       "        'PROCESSOR_LEVEL': '6',\n",
       "        'PROCESSOR_REVISION': '7e05',\n",
       "        'PROGRAMDATA': 'C:\\\\ProgramData',\n",
       "        'PROGRAMFILES': 'C:\\\\Program Files',\n",
       "        'PROGRAMFILES(X86)': 'C:\\\\Program Files (x86)',\n",
       "        'PROGRAMW6432': 'C:\\\\Program Files',\n",
       "        'PROMPT': '(base) $P$G',\n",
       "        'PSMODULEPATH': 'C:\\\\Program Files\\\\WindowsPowerShell\\\\Modules;C:\\\\WINDOWS\\\\system32\\\\WindowsPowerShell\\\\v1.0\\\\Modules',\n",
       "        'PUBLIC': 'C:\\\\Users\\\\Public',\n",
       "        'PYCHARM EDU': 'C:\\\\Program Files\\\\JetBrains\\\\PyCharm Edu 2019.3.3\\\\bin;',\n",
       "        'SESSIONNAME': 'Console',\n",
       "        'SYSTEMDRIVE': 'C:',\n",
       "        'SYSTEMROOT': 'C:\\\\WINDOWS',\n",
       "        'TEMP': 'C:\\\\Users\\\\micha\\\\AppData\\\\Local\\\\Temp',\n",
       "        'TMP': 'C:\\\\Users\\\\micha\\\\AppData\\\\Local\\\\Temp',\n",
       "        'USERDOMAIN': 'DESKTOP-KS36U2V',\n",
       "        'USERDOMAIN_ROAMINGPROFILE': 'DESKTOP-KS36U2V',\n",
       "        'USERNAME': 'micha',\n",
       "        'USERPROFILE': 'C:\\\\Users\\\\micha',\n",
       "        'WINDIR': 'C:\\\\WINDOWS',\n",
       "        'CONDA_PREFIX': 'C:\\\\ProgramData\\\\Anaconda3',\n",
       "        'JPY_INTERRUPT_EVENT': '5384',\n",
       "        'IPY_INTERRUPT_EVENT': '5384',\n",
       "        'JPY_PARENT_PID': '5392',\n",
       "        'TERM': 'xterm-color',\n",
       "        'CLICOLOR': '1',\n",
       "        'PAGER': 'cat',\n",
       "        'GIT_PAGER': 'cat',\n",
       "        'MPLBACKEND': 'module://ipykernel.pylab.backend_inline',\n",
       "        'CONSUMER_KEY': 'fMrm7VZknfbnAJqhhPRaIvKLv',\n",
       "        'CONSUMER_SECRET': 'Z2v37GDwpKLIgRuoBo91fhz0qZH2KSJtPe42xo4wRSj5r8ezBt',\n",
       "        'BEARER_TOKEN': 'AAAAAAAAAAAAAAAAAAAAACVGMwEAAAAA%2Fqcvxgx7uRSU5Q5N7OONqlBSy%2F0%3DK6XQaYqMQTetKXZBnySNinYIVLdaulzsHm5hTiETCWcH43e7f9'}"
      ]
     },
     "execution_count": 4,
     "metadata": {},
     "output_type": "execute_result"
    }
   ],
   "source": [
    "os.environ"
   ]
  },
  {
   "cell_type": "code",
   "execution_count": 53,
   "metadata": {},
   "outputs": [],
   "source": [
    "# pip install searchtweets"
   ]
  },
  {
   "cell_type": "code",
   "execution_count": 54,
   "metadata": {},
   "outputs": [],
   "source": [
    "# pip install requests"
   ]
  },
  {
   "cell_type": "code",
   "execution_count": 55,
   "metadata": {},
   "outputs": [],
   "source": [
    "# pip install requests-oauthlib"
   ]
  },
  {
   "cell_type": "code",
   "execution_count": 56,
   "metadata": {},
   "outputs": [],
   "source": [
    "# pip install searchtweets"
   ]
  },
  {
   "cell_type": "markdown",
   "metadata": {},
   "source": [
    "Enterprise clients require username, password, and endpoint. If you do not specify the account_type, we attempt to discern the account type and declare a warning about this behavior."
   ]
  },
  {
   "cell_type": "code",
   "execution_count": 100,
   "metadata": {},
   "outputs": [
    {
     "name": "stdout",
     "output_type": "stream",
     "text": [
      "200\n",
      "{\n",
      "    \"data\": [\n",
      "        {\n",
      "            \"author_id\": \"2244994945\",\n",
      "            \"id\": \"1359912509940011010\",\n",
      "            \"text\": \"Valentine\\u2019s Day is approaching! \\ud83d\\udc99\\n\\nOver the coming weeks, we\\u2019ll celebrate some outstanding developers who love to build for everyone:\\n\\n@ThreadReaderApp\\n\\n@flocknet\\n\\n@AviaryTheApp\\n\\n@ThreaderApp\\n\\n@firetalkteam\\n\\nDevelopers, you\\u2019re our Valentine, now and every day \\ud83d\\udc99\"\n",
      "        },\n",
      "        {\n",
      "            \"author_id\": \"2244994945\",\n",
      "            \"id\": \"1359554366051504129\",\n",
      "            \"text\": \"Go ahead, follow another puppy account. We won\\u2019t judge. \\n\\nIntroducing the manage follows endpoints to the new #TwitterAPI. You can now use the v2 API to follow and unfollow accounts. Learn more https://t.co/mtpd9VIMDa\"\n",
      "        }\n",
      "    ],\n",
      "    \"meta\": {\n",
      "        \"newest_id\": \"1359912509940011010\",\n",
      "        \"oldest_id\": \"1359554366051504129\",\n",
      "        \"result_count\": 2\n",
      "    }\n",
      "}\n"
     ]
    }
   ],
   "source": [
    "def auth():\n",
    "    return os.environ.get(\"BEARER_TOKEN\")\n",
    "\n",
    "def create_url():\n",
    "    query = \"from:twitterdev -is:retweet lang:en\"\n",
    "    # Tweet fields are adjustable.\n",
    "    # Options include:\n",
    "    # attachments, author_id, context_annotations,\n",
    "    # conversation_id, created_at, entities, geo, id,\n",
    "    # in_reply_to_user_id, lang, non_public_metrics, organic_metrics,\n",
    "    # possibly_sensitive, promoted_metrics, public_metrics, referenced_tweets,\n",
    "    # source, text, and withheld\n",
    "    tweet_fields = \"tweet.fields=author_id\"\n",
    "    url = \"https://api.twitter.com/2/tweets/search/recent?query={}&{}\".format(\n",
    "        query, tweet_fields\n",
    "    )\n",
    "    return url\n",
    "\n",
    "def create_headers(bearer_token):\n",
    "    headers = {\"Authorization\": \"Bearer {}\".format(bearer_token)}\n",
    "    return headers\n",
    "\n",
    "def connect_to_endpoint(url, headers):\n",
    "    response = requests.request(\"GET\", url, headers=headers)\n",
    "    print(response.status_code)\n",
    "    if response.status_code != 200:\n",
    "        raise Exception(response.status_code, response.text)\n",
    "    return response.json()\n",
    "\n",
    "def main():\n",
    "    bearer_token = auth()\n",
    "    url = create_url()\n",
    "    headers = create_headers(bearer_token)\n",
    "    json_response = connect_to_endpoint(url, headers)\n",
    "    print(json.dumps(json_response, indent=4, sort_keys=True))\n",
    "\n",
    "if __name__ == \"__main__\":\n",
    "    main()"
   ]
  },
  {
   "cell_type": "code",
   "execution_count": 101,
   "metadata": {},
   "outputs": [],
   "source": [
    "import requests\n",
    "import json\n",
    "\n",
    "\n",
    "#define search twitter function\n",
    "def search_twitter(query, tweet_fields, bearer_token = os.environ.get(\"BEARER_TOKEN\")):\n",
    "    headers = {\"Authorization\": \"Bearer {}\".format(bearer_token)}\n",
    "    \n",
    "    tweet_fields = \"tweet.fields=text,author_id,created_at\"\n",
    "    \n",
    "    url = \"https://api.twitter.com/2/tweets/search/recent?query={}&{}\".format(\n",
    "        query, tweet_fields\n",
    "    )\n",
    "    response = requests.request(\"GET\", url, headers=headers)\n",
    "\n",
    "    print(response.status_code)\n",
    "\n",
    "    if response.status_code != 200:\n",
    "        raise Exception(response.status_code, response.text)\n",
    "    return response.json()"
   ]
  },
  {
   "cell_type": "code",
   "execution_count": 102,
   "metadata": {},
   "outputs": [
    {
     "name": "stdout",
     "output_type": "stream",
     "text": [
      "200\n"
     ]
    }
   ],
   "source": [
    "# tweet_fields = \"tweet.fields=text,author_id,created_at\"\n",
    "\n",
    "json_response = search_twitter(\"tacos\", tweet_fields, bearer_token = os.environ.get(\"BEARER_TOKEN\"))"
   ]
  },
  {
   "cell_type": "code",
   "execution_count": 103,
   "metadata": {},
   "outputs": [
    {
     "name": "stdout",
     "output_type": "stream",
     "text": [
      "200\n",
      "{\n",
      "    \"data\": [\n",
      "        {\n",
      "            \"author_id\": \"4673450730\",\n",
      "            \"created_at\": \"2021-02-16T02:48:30.000Z\",\n",
      "            \"id\": \"1361507719153352705\",\n",
      "            \"text\": \"RT @TomthunkitsMind: If you\\u2019ve already seen a dog skateboarding in overalls today just keep on scrolling...\\nvia RecChapman \\nhttps://t.co/PB\\u2026\"\n",
      "        },\n",
      "        {\n",
      "            \"author_id\": \"179626975\",\n",
      "            \"created_at\": \"2021-02-16T02:33:48.000Z\",\n",
      "            \"id\": \"1361504018061746179\",\n",
      "            \"text\": \"RT @TomthunkitsMind: If you\\u2019ve already seen a dog skateboarding in overalls today just keep on scrolling...\\nvia RecChapman \\nhttps://t.co/PB\\u2026\"\n",
      "        },\n",
      "        {\n",
      "            \"author_id\": \"902044421029593088\",\n",
      "            \"created_at\": \"2021-02-16T02:26:33.000Z\",\n",
      "            \"id\": \"1361502195938701313\",\n",
      "            \"text\": \"RT @TomthunkitsMind: If you\\u2019ve already seen a dog skateboarding in overalls today just keep on scrolling...\\nvia RecChapman \\nhttps://t.co/PB\\u2026\"\n",
      "        },\n",
      "        {\n",
      "            \"author_id\": \"1224566569319239680\",\n",
      "            \"created_at\": \"2021-02-16T02:24:12.000Z\",\n",
      "            \"id\": \"1361501603203870722\",\n",
      "            \"text\": \"RT @TomthunkitsMind: If you\\u2019ve already seen a dog skateboarding in overalls today just keep on scrolling...\\nvia RecChapman \\nhttps://t.co/PB\\u2026\"\n",
      "        },\n",
      "        {\n",
      "            \"author_id\": \"766137486733115392\",\n",
      "            \"created_at\": \"2021-02-16T02:17:30.000Z\",\n",
      "            \"id\": \"1361499919106772995\",\n",
      "            \"text\": \"RT @TomthunkitsMind: If you\\u2019ve already seen a dog skateboarding in overalls today just keep on scrolling...\\nvia RecChapman \\nhttps://t.co/PB\\u2026\"\n",
      "        },\n",
      "        {\n",
      "            \"author_id\": \"1027590708927057920\",\n",
      "            \"created_at\": \"2021-02-16T02:16:11.000Z\",\n",
      "            \"id\": \"1361499586905391110\",\n",
      "            \"text\": \"RT @TomthunkitsMind: If you\\u2019ve already seen a dog skateboarding in overalls today just keep on scrolling...\\nvia RecChapman \\nhttps://t.co/PB\\u2026\"\n",
      "        },\n",
      "        {\n",
      "            \"author_id\": \"1279605803498930176\",\n",
      "            \"created_at\": \"2021-02-16T02:14:58.000Z\",\n",
      "            \"id\": \"1361499282138923012\",\n",
      "            \"text\": \"RT @TomthunkitsMind: If you\\u2019ve already seen a dog skateboarding in overalls today just keep on scrolling...\\nvia RecChapman \\nhttps://t.co/PB\\u2026\"\n",
      "        },\n",
      "        {\n",
      "            \"author_id\": \"999759383830679553\",\n",
      "            \"created_at\": \"2021-02-16T02:11:50.000Z\",\n",
      "            \"id\": \"1361498490287894528\",\n",
      "            \"text\": \"RT @TomthunkitsMind: If you\\u2019ve already seen a dog skateboarding in overalls today just keep on scrolling...\\nvia RecChapman \\nhttps://t.co/PB\\u2026\"\n",
      "        },\n",
      "        {\n",
      "            \"author_id\": \"983313144167612417\",\n",
      "            \"created_at\": \"2021-02-16T02:06:18.000Z\",\n",
      "            \"id\": \"1361497099469086721\",\n",
      "            \"text\": \"RT @TomthunkitsMind: If you\\u2019ve already seen a dog skateboarding in overalls today just keep on scrolling...\\nvia RecChapman \\nhttps://t.co/PB\\u2026\"\n",
      "        },\n",
      "        {\n",
      "            \"author_id\": \"901108721924878336\",\n",
      "            \"created_at\": \"2021-02-16T02:05:03.000Z\",\n",
      "            \"id\": \"1361496783029960704\",\n",
      "            \"text\": \"RT @TomthunkitsMind: If you\\u2019ve already seen a dog skateboarding in overalls today just keep on scrolling...\\nvia RecChapman \\nhttps://t.co/PB\\u2026\"\n",
      "        }\n",
      "    ],\n",
      "    \"meta\": {\n",
      "        \"newest_id\": \"1361507719153352705\",\n",
      "        \"next_token\": \"b26v89c19zqg8o3fosnrnrmvs5rr1v66cjvc2qeu1mg71\",\n",
      "        \"oldest_id\": \"1361496783029960704\",\n",
      "        \"result_count\": 10\n",
      "    }\n",
      "}\n"
     ]
    }
   ],
   "source": [
    "#search term\n",
    "query = \"skateboarding dog\"\n",
    "#twitter fields to be returned by api call\n",
    "tweet_fields = \"tweet.fields=text,author_id,created_at\"\n",
    "\n",
    "#twitter api call\n",
    "json_response = search_twitter(query=query, tweet_fields=tweet_fields, bearer_token=os.environ.get(\"BEARER_TOKEN\"))\n",
    "#pretty printing\n",
    "print(json.dumps(json_response, indent=4, sort_keys=True))"
   ]
  },
  {
   "cell_type": "code",
   "execution_count": null,
   "metadata": {},
   "outputs": [],
   "source": []
  },
  {
   "cell_type": "code",
   "execution_count": null,
   "metadata": {},
   "outputs": [],
   "source": [
    "# os.environ[\"CONSUMER_KEY\"] = \"<API key>\"\n",
    "# os.environ[\"CONSUMER_SECRET\"] = \"<API secret key>\"\n",
    "# os.environ[\"BEARER_TOKEN\"] = \"<Bearer token>\""
   ]
  },
  {
   "cell_type": "code",
   "execution_count": null,
   "metadata": {},
   "outputs": [],
   "source": [
    "# import json\n",
    "# # Enter your keys/secrets as strings in the following fields\n",
    "# credentials = {}\n",
    "# credentials['CONSUMER_KEY'] = os.environ[\"CONSUMER_KEY\"]\n",
    "# credentials['CONSUMER_SECRET'] = os.environ[\"CONSUMER_SECRET\"]\n",
    "# credentials['ACCESS_TOKEN'] = os.environ[\"BEARER_TOKEN\"]\n",
    "# credentials['ACCESS_SECRET'] = 'access_secret_code'\n",
    "# # Save the credentials object to file\n",
    "# with open(\"twitter_credentials.json\", \"w\") as file:\n",
    "#     json.dump(credentials, file)"
   ]
  },
  {
   "cell_type": "code",
   "execution_count": null,
   "metadata": {},
   "outputs": [],
   "source": [
    "# pip install twython"
   ]
  },
  {
   "cell_type": "code",
   "execution_count": 94,
   "metadata": {},
   "outputs": [],
   "source": [
    "from twython import Twython\n",
    "# Load credentials from json file\n",
    "# with open(\"twitter_credentials.json\", \"r\") as file:\n",
    "#     creds = json.load(file)\n",
    "# Instantiate an object\n",
    "python_tweets = Twython(os.environ[\"CONSUMER_KEY\"], os.environ[\"CONSUMER_SECRET\"])\n",
    "# Create our query\n",
    "query = {'q': 'tacos',\n",
    "        'result_type': 'popular',\n",
    "        'count': 10,\n",
    "        'lang': 'en',\n",
    "        }"
   ]
  },
  {
   "cell_type": "code",
   "execution_count": 95,
   "metadata": {},
   "outputs": [
    {
     "data": {
      "text/html": [
       "<div>\n",
       "<style scoped>\n",
       "    .dataframe tbody tr th:only-of-type {\n",
       "        vertical-align: middle;\n",
       "    }\n",
       "\n",
       "    .dataframe tbody tr th {\n",
       "        vertical-align: top;\n",
       "    }\n",
       "\n",
       "    .dataframe thead th {\n",
       "        text-align: right;\n",
       "    }\n",
       "</style>\n",
       "<table border=\"1\" class=\"dataframe\">\n",
       "  <thead>\n",
       "    <tr style=\"text-align: right;\">\n",
       "      <th></th>\n",
       "      <th>user</th>\n",
       "      <th>date</th>\n",
       "      <th>text</th>\n",
       "      <th>favorite_count</th>\n",
       "    </tr>\n",
       "  </thead>\n",
       "  <tbody>\n",
       "    <tr>\n",
       "      <th>0</th>\n",
       "      <td>Kehlani</td>\n",
       "      <td>Thu Feb 11 22:30:58 +0000 2021</td>\n",
       "      <td>thinkin bout tacos https://t.co/TCiXK38CyN</td>\n",
       "      <td>177737</td>\n",
       "    </tr>\n",
       "    <tr>\n",
       "      <th>1</th>\n",
       "      <td>FoodNetwork</td>\n",
       "      <td>Sun Feb 14 23:15:00 +0000 2021</td>\n",
       "      <td>Give your typical weeknight taco recipe a make...</td>\n",
       "      <td>195</td>\n",
       "    </tr>\n",
       "    <tr>\n",
       "      <th>2</th>\n",
       "      <td>JeffGSpursZone</td>\n",
       "      <td>Mon Feb 15 17:36:28 +0000 2021</td>\n",
       "      <td>Brb ... Off to get tacos for lunch, #SanAntoni...</td>\n",
       "      <td>74</td>\n",
       "    </tr>\n",
       "    <tr>\n",
       "      <th>3</th>\n",
       "      <td>sarahcpr</td>\n",
       "      <td>Wed Feb 10 16:55:16 +0000 2021</td>\n",
       "      <td>I’m putting myself on a strict diet of protein...</td>\n",
       "      <td>16764</td>\n",
       "    </tr>\n",
       "    <tr>\n",
       "      <th>4</th>\n",
       "      <td>GeoffWilson_</td>\n",
       "      <td>Mon Feb 15 14:00:51 +0000 2021</td>\n",
       "      <td>You may have seen them on TikTok or Instagram,...</td>\n",
       "      <td>10</td>\n",
       "    </tr>\n",
       "  </tbody>\n",
       "</table>\n",
       "</div>"
      ],
      "text/plain": [
       "             user                            date  \\\n",
       "0         Kehlani  Thu Feb 11 22:30:58 +0000 2021   \n",
       "1     FoodNetwork  Sun Feb 14 23:15:00 +0000 2021   \n",
       "2  JeffGSpursZone  Mon Feb 15 17:36:28 +0000 2021   \n",
       "3        sarahcpr  Wed Feb 10 16:55:16 +0000 2021   \n",
       "4    GeoffWilson_  Mon Feb 15 14:00:51 +0000 2021   \n",
       "\n",
       "                                                text  favorite_count  \n",
       "0         thinkin bout tacos https://t.co/TCiXK38CyN          177737  \n",
       "1  Give your typical weeknight taco recipe a make...             195  \n",
       "2  Brb ... Off to get tacos for lunch, #SanAntoni...              74  \n",
       "3  I’m putting myself on a strict diet of protein...           16764  \n",
       "4  You may have seen them on TikTok or Instagram,...              10  "
      ]
     },
     "execution_count": 95,
     "metadata": {},
     "output_type": "execute_result"
    }
   ],
   "source": [
    "import pandas as pd\n",
    "# Search tweets\n",
    "dict_ = {'user': [], 'date': [], 'text': [], 'favorite_count': []}\n",
    "for status in python_tweets.search(**query)['statuses']:\n",
    "    dict_['user'].append(status['user']['screen_name'])\n",
    "    dict_['date'].append(status['created_at'])\n",
    "    dict_['text'].append(status['text'])\n",
    "    dict_['favorite_count'].append(status['favorite_count'])\n",
    "# Structure data in a pandas DataFrame for easier manipulation\n",
    "df = pd.DataFrame(dict_)\n",
    "# df.sort_values(by='favorite_count', inplace=True, ascending=False)\n",
    "df.head(5)"
   ]
  },
  {
   "cell_type": "code",
   "execution_count": null,
   "metadata": {},
   "outputs": [],
   "source": []
  },
  {
   "cell_type": "code",
   "execution_count": null,
   "metadata": {},
   "outputs": [],
   "source": [
    "# os.environ[\"CONSUMER_KEY\"] = \"<API key>\"\n",
    "# os.environ[\"CONSUMER_SECRET\"] = \"<API secret key>\"\n",
    "# os.environ[\"BEARER_TOKEN\"] = \"<Bearer token>\""
   ]
  },
  {
   "cell_type": "code",
   "execution_count": 92,
   "metadata": {},
   "outputs": [
    {
     "name": "stdout",
     "output_type": "stream",
     "text": [
      "b'oauth_token=Q_ey7QAAAAABM0F1AAABd6imrxc&oauth_token_secret=0ktcRy5bTKHSV05HAgb1KRl3LcZAyJcI&oauth_callback_confirmed=true'\n"
     ]
    }
   ],
   "source": [
    "import requests\n",
    "from requests_oauthlib import OAuth1\n",
    "\n",
    "\n",
    "REQUEST_TOKEN_URL = \"https://api.twitter.com/oauth/request_token\"\n",
    "# CONSUMER_KEY = \"xxxxxxxx\n",
    "# CONSUMER_SECRET = \"xxxxxxxxxxxxxxxxx\"\n",
    "\n",
    "oauth = OAuth1(os.environ[\"CONSUMER_KEY\"], client_secret=os.environ[\"CONSUMER_SECRET\"])\n",
    "r = requests.post(url=REQUEST_TOKEN_URL, auth=oauth)\n",
    "print(r.content)\n",
    "# oauth_token=xxxxxxxxxxxxxx&oauth_token_secret=xxxxxxxxxxx&oauth_callback_confirmed=true"
   ]
  },
  {
   "cell_type": "code",
   "execution_count": 78,
   "metadata": {},
   "outputs": [
    {
     "name": "stdout",
     "output_type": "stream",
     "text": [
      "Note: you may need to restart the kernel to use updated packages.\n"
     ]
    },
    {
     "name": "stderr",
     "output_type": "stream",
     "text": [
      "ERROR: Could not find a version that satisfies the requirement webbrowser\n",
      "ERROR: No matching distribution found for webbrowser\n"
     ]
    }
   ],
   "source": []
  },
  {
   "cell_type": "markdown",
   "metadata": {},
   "source": [
    "https://stackoverflow.com/questions/29716521/twitter-http-requests-403-error"
   ]
  },
  {
   "cell_type": "code",
   "execution_count": 80,
   "metadata": {},
   "outputs": [
    {
     "data": {
      "text/plain": [
       "True"
      ]
     },
     "execution_count": 80,
     "metadata": {},
     "output_type": "execute_result"
    }
   ],
   "source": [
    "# from urlparse import parse_qs\n",
    "# import webbrowser\n",
    "\n",
    "# data = parse_qs(r.content)\n",
    "oauth_token = \"1i8aZgAAAAABM0F1AAABd6iZotU\"\n",
    "# oauth_token = data['oauth_token'][0]\n",
    "oauth_token_secret = \"b5Un258QGOAR637MPYb2vrNBDQDcNALa\"\n",
    "# oauth_token_secret = data['oauth_token_secret'][0]\n",
    "AUTH = \"https://api.twitter.com/oauth/authorize?oauth_token={}\"\n",
    "auth = AUTH.format(oauth_token)\n",
    "webbrowser.open(auth)"
   ]
  },
  {
   "cell_type": "code",
   "execution_count": 93,
   "metadata": {},
   "outputs": [
    {
     "data": {
      "text/plain": [
       "True"
      ]
     },
     "execution_count": 93,
     "metadata": {},
     "output_type": "execute_result"
    }
   ],
   "source": [
    "# from urlparse import parse_qs\n",
    "# import webbrowser\n",
    "\n",
    "# data = parse_qs(r.content)\n",
    "oauth_token = \"1i8aZgAAAAABM0F1AAABd6iZotU\"\n",
    "# oauth_token = data['oauth_token'][0]\n",
    "oauth_token_secret = \"b5Un258QGOAR637MPYb2vrNBDQDcNALa\"\n",
    "# oauth_token_secret = data['oauth_token_secret'][0]\n",
    "AUTH = \"https://api.twitter.com/oauth/authenticate?oauth_token={}\"\n",
    "auth = AUTH.format(oauth_token)\n",
    "webbrowser.open(auth)"
   ]
  },
  {
   "cell_type": "code",
   "execution_count": 81,
   "metadata": {},
   "outputs": [],
   "source": [
    "from urllib.parse import parse_qs\n",
    "\n",
    "\n",
    "data = parse_qs(r.text)\n",
    "oauth_token = data['oauth_token'][0]\n",
    "oauth_token_secret = data['oauth_token_secret'][0]"
   ]
  },
  {
   "cell_type": "code",
   "execution_count": null,
   "metadata": {},
   "outputs": [],
   "source": []
  },
  {
   "cell_type": "code",
   "execution_count": 98,
   "metadata": {},
   "outputs": [
    {
     "name": "stdout",
     "output_type": "stream",
     "text": [
      "Got OAuth token: S_uy5QAAAAABM0F1AAABd6ixA84\n",
      "Please go here and authorize: https://api.twitter.com/oauth/authorize?oauth_token=S_uy5QAAAAABM0F1AAABd6ixA84\n"
     ]
    },
    {
     "name": "stdin",
     "output_type": "stream",
     "text": [
      "Paste the PIN here:  6075249\n"
     ]
    },
    {
     "ename": "Exception",
     "evalue": "Request returned an error: 403 {\"client_id\":\"20136309\",\"detail\":\"When authenticating requests to the Twitter API v2 endpoints, you must use keys and tokens from a Twitter developer App that is attached to a Project. You can create a project via the developer portal.\",\"registration_url\":\"https://developer.twitter.com/en/docs/projects/overview\",\"title\":\"Client Forbidden\",\"required_enrollment\":\"Standard Basic\",\"reason\":\"client-not-enrolled\",\"type\":\"https://api.twitter.com/2/problems/client-forbidden\"}",
     "output_type": "error",
     "traceback": [
      "\u001b[1;31m---------------------------------------------------------------------------\u001b[0m",
      "\u001b[1;31mException\u001b[0m                                 Traceback (most recent call last)",
      "\u001b[1;32m<ipython-input-98-ae785e158e86>\u001b[0m in \u001b[0;36m<module>\u001b[1;34m\u001b[0m\n\u001b[0;32m     69\u001b[0m \u001b[1;33m\u001b[0m\u001b[0m\n\u001b[0;32m     70\u001b[0m \u001b[1;32mif\u001b[0m \u001b[0mresponse\u001b[0m\u001b[1;33m.\u001b[0m\u001b[0mstatus_code\u001b[0m \u001b[1;33m!=\u001b[0m \u001b[1;36m200\u001b[0m\u001b[1;33m:\u001b[0m\u001b[1;33m\u001b[0m\u001b[1;33m\u001b[0m\u001b[0m\n\u001b[1;32m---> 71\u001b[1;33m     raise Exception(\n\u001b[0m\u001b[0;32m     72\u001b[0m         \u001b[1;34m\"Request returned an error: {} {}\"\u001b[0m\u001b[1;33m.\u001b[0m\u001b[0mformat\u001b[0m\u001b[1;33m(\u001b[0m\u001b[0mresponse\u001b[0m\u001b[1;33m.\u001b[0m\u001b[0mstatus_code\u001b[0m\u001b[1;33m,\u001b[0m \u001b[0mresponse\u001b[0m\u001b[1;33m.\u001b[0m\u001b[0mtext\u001b[0m\u001b[1;33m)\u001b[0m\u001b[1;33m\u001b[0m\u001b[1;33m\u001b[0m\u001b[0m\n\u001b[0;32m     73\u001b[0m     )\n",
      "\u001b[1;31mException\u001b[0m: Request returned an error: 403 {\"client_id\":\"20136309\",\"detail\":\"When authenticating requests to the Twitter API v2 endpoints, you must use keys and tokens from a Twitter developer App that is attached to a Project. You can create a project via the developer portal.\",\"registration_url\":\"https://developer.twitter.com/en/docs/projects/overview\",\"title\":\"Client Forbidden\",\"required_enrollment\":\"Standard Basic\",\"reason\":\"client-not-enrolled\",\"type\":\"https://api.twitter.com/2/problems/client-forbidden\"}"
     ]
    }
   ],
   "source": [
    "# from requests_oauthlib import OAuth1Session\n",
    "# import os\n",
    "# import json\n",
    "\n",
    "# # To set your enviornment variables in your terminal run the following line:\n",
    "# # export 'CONSUMER_KEY'='<your_consumer_key>'\n",
    "# # export 'CONSUMER_SECRET'='<your_consumer_secret>'\n",
    "\n",
    "# consumer_key = os.environ.get(\"CONSUMER_KEY\")\n",
    "# consumer_secret = os.environ.get(\"CONSUMER_SECRET\")\n",
    "\n",
    "# # You can adjust ids to include a single Tweets\n",
    "# # Or you can add to up to 100 comma-separated IDs\n",
    "# params = {\"ids\": \"1278747501642657792\", \"tweet.fields\": \"created_at\"}\n",
    "# # Tweet fields are adjustable.\n",
    "# # Options include:\n",
    "# # attachments, author_id, context_annotations,\n",
    "# # conversation_id, created_at, entities, geo, id,\n",
    "# # in_reply_to_user_id, lang, non_public_metrics, organic_metrics,\n",
    "# # possibly_sensitive, promoted_metrics, public_metrics, referenced_tweets,\n",
    "# # source, text, and withheld\n",
    "\n",
    "# request_token_url = \"https://api.twitter.com/oauth/request_token\"\n",
    "# oauth = OAuth1Session(consumer_key, client_secret=consumer_secret)\n",
    "\n",
    "# try:\n",
    "#     fetch_response = oauth.fetch_request_token(request_token_url)\n",
    "# except ValueError:\n",
    "#     print(\n",
    "#         \"There may have been an issue with the consumer_key or consumer_secret you entered.\"\n",
    "#     )\n",
    "\n",
    "# resource_owner_key = fetch_response.get(\"oauth_token\")\n",
    "# resource_owner_secret = fetch_response.get(\"oauth_token_secret\")\n",
    "# print(\"Got OAuth token: %s\" % resource_owner_key)\n",
    "\n",
    "# # Get authorization\n",
    "# base_authorization_url = \"https://api.twitter.com/oauth/authorize\"\n",
    "# authorization_url = oauth.authorization_url(base_authorization_url)\n",
    "# print(\"Please go here and authorize: %s\" % authorization_url)\n",
    "# verifier = input(\"Paste the PIN here: \")\n",
    "\n",
    "# # Get the access token\n",
    "# access_token_url = \"https://api.twitter.com/oauth/access_token\"\n",
    "# oauth = OAuth1Session(\n",
    "#     consumer_key,\n",
    "#     client_secret=consumer_secret,\n",
    "#     resource_owner_key=resource_owner_key,\n",
    "#     resource_owner_secret=resource_owner_secret,\n",
    "#     verifier=verifier,\n",
    "# )\n",
    "# oauth_tokens = oauth.fetch_access_token(access_token_url)\n",
    "\n",
    "\n",
    "# access_token = oauth_tokens[\"oauth_token\"]\n",
    "# access_token_secret = oauth_tokens[\"oauth_token_secret\"]\n",
    "\n",
    "# # Make the request\n",
    "# oauth = OAuth1Session(\n",
    "#     consumer_key,\n",
    "#     client_secret=consumer_secret,\n",
    "#     resource_owner_key=access_token,\n",
    "#     resource_owner_secret=access_token_secret,\n",
    "# )\n",
    "\n",
    "# response = oauth.get(\n",
    "#     \"https://api.twitter.com/2/tweets\", params=params\n",
    "# )\n",
    "\n",
    "# if response.status_code != 200:\n",
    "#     raise Exception(\n",
    "#         \"Request returned an error: {} {}\".format(response.status_code, response.text)\n",
    "#     )\n",
    "\n",
    "# print(\"Response code: {}\".format(response.status_code))\n",
    "# json_response = response.json()\n",
    "# print(json.dumps(json_response, indent=4, sort_keys=True))\n"
   ]
  }
 ],
 "metadata": {
  "kernelspec": {
   "display_name": "Python 3",
   "language": "python",
   "name": "python3"
  },
  "language_info": {
   "codemirror_mode": {
    "name": "ipython",
    "version": 3
   },
   "file_extension": ".py",
   "mimetype": "text/x-python",
   "name": "python",
   "nbconvert_exporter": "python",
   "pygments_lexer": "ipython3",
   "version": "3.8.5"
  }
 },
 "nbformat": 4,
 "nbformat_minor": 4
}
