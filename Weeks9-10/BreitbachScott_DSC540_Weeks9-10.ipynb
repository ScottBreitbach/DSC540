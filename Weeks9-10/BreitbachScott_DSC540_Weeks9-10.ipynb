{
 "cells": [
  {
   "cell_type": "markdown",
   "metadata": {},
   "source": [
    "# Scott Breitbach\n",
    "## 14-Feb-2021\n",
    "## DSC540, Weeks 9-10"
   ]
  },
  {
   "cell_type": "markdown",
   "metadata": {},
   "source": [
    "# 1. Activity 9: Extracting the Top 100 eBooks from Gutenberg"
   ]
  },
  {
   "cell_type": "markdown",
   "metadata": {},
   "source": [
    "## 1) Import the necessary libraries, including **regex** and **beautifulsoup**."
   ]
  },
  {
   "cell_type": "code",
   "execution_count": null,
   "metadata": {},
   "outputs": [],
   "source": [
    "import re\n",
    "import requests\n",
    "from bs4 import BeautifulSoup\n",
    "import urllib.request, urllib.parse, urllib.error\n",
    "import ssl"
   ]
  },
  {
   "cell_type": "markdown",
   "metadata": {},
   "source": [
    "## 2) Check the SSL certificate."
   ]
  },
  {
   "cell_type": "code",
   "execution_count": null,
   "metadata": {},
   "outputs": [],
   "source": [
    "# Ignore SSL certificate errors\n",
    "ctx = ssl.create_default_context()\n",
    "ctx.check_hostname = False\n",
    "ctx.verify_mode = ssl.CERT_NONE"
   ]
  },
  {
   "cell_type": "markdown",
   "metadata": {},
   "source": [
    "## 3) Read the HTML from the URL."
   ]
  },
  {
   "cell_type": "code",
   "execution_count": 3,
   "metadata": {},
   "outputs": [],
   "source": [
    "url = \"https://www.gutenberg.org/browse/scores/top\"\n",
    "response = requests.get(url)"
   ]
  },
  {
   "cell_type": "markdown",
   "metadata": {},
   "source": [
    "## 4) Write a small function to check the status of the web request."
   ]
  },
  {
   "cell_type": "code",
   "execution_count": 4,
   "metadata": {},
   "outputs": [],
   "source": [
    "def statusCheck(resp):\n",
    "    if resp.status_code==200:\n",
    "        print('Web request successful!')\n",
    "        return 1\n",
    "    else:\n",
    "        print('Web request failed.')\n",
    "        return -1"
   ]
  },
  {
   "cell_type": "markdown",
   "metadata": {},
   "source": [
    "## 5) Decode the response and pass this on to BeautifulSoup for HTML parsing."
   ]
  },
  {
   "cell_type": "code",
   "execution_count": 5,
   "metadata": {},
   "outputs": [
    {
     "name": "stdout",
     "output_type": "stream",
     "text": [
      "Web request successful!\n"
     ]
    }
   ],
   "source": [
    "def decodeResponse(resp):\n",
    "    def decodeContent(r, encoding):\n",
    "        return(r.content.decode(encoding))\n",
    "    \n",
    "    def encodingCheck(r):\n",
    "        return (r.encoding)\n",
    "    \n",
    "    status = statusCheck(resp)\n",
    "    \n",
    "    if status==1:\n",
    "        contents = decodeContent(response, encodingCheck(response))\n",
    "        return contents\n",
    "    else:\n",
    "        print(\"Sorry, could not reach the web page!\")\n",
    "        return -1\n",
    "    \n",
    "contents = decodeResponse(response)"
   ]
  },
  {
   "cell_type": "code",
   "execution_count": 6,
   "metadata": {},
   "outputs": [],
   "source": [
    "soup = BeautifulSoup(contents, 'html.parser')"
   ]
  },
  {
   "cell_type": "markdown",
   "metadata": {},
   "source": [
    "## 6) Find all the **href** tags and store them in the list of links. Check what the list looks like - print the first 30 elements."
   ]
  },
  {
   "cell_type": "code",
   "execution_count": 7,
   "metadata": {},
   "outputs": [
    {
     "data": {
      "text/plain": [
       "'/ebooks/84'"
      ]
     },
     "execution_count": 7,
     "metadata": {},
     "output_type": "execute_result"
    }
   ],
   "source": [
    "soup.find_all('li')[31].a.get('href')"
   ]
  },
  {
   "cell_type": "markdown",
   "metadata": {},
   "source": [
    "Find all the **href** tags and store them in the list of links:"
   ]
  },
  {
   "cell_type": "code",
   "execution_count": 8,
   "metadata": {},
   "outputs": [
    {
     "data": {
      "text/plain": [
       "672"
      ]
     },
     "execution_count": 8,
     "metadata": {},
     "output_type": "execute_result"
    }
   ],
   "source": [
    "listOfLinks = []\n",
    "for link in soup.find_all('li'):\n",
    "    lnk = link.a.get('href')\n",
    "    listOfLinks.append(lnk)\n",
    "#     print(lnk)\n",
    "len(listOfLinks)"
   ]
  },
  {
   "cell_type": "markdown",
   "metadata": {},
   "source": [
    "Check what the list looks like - print the first 30 elements:"
   ]
  },
  {
   "cell_type": "code",
   "execution_count": 9,
   "metadata": {},
   "outputs": [
    {
     "data": {
      "text/plain": [
       "['/about/',\n",
       " '/about/',\n",
       " '/policy/collection_development.html',\n",
       " '/about/contact_information.html',\n",
       " '/about/background/',\n",
       " '/policy/permission.html',\n",
       " '/policy/privacy_policy.html',\n",
       " '/policy/terms_of_use.html',\n",
       " '/ebooks/',\n",
       " '/ebooks/',\n",
       " '/ebooks/bookshelf/',\n",
       " '/browse/scores/top',\n",
       " '/ebooks/offline_catalogs.html',\n",
       " '/help/',\n",
       " '/help/',\n",
       " '/help/copyright.html',\n",
       " '/help/errata.html',\n",
       " '/help/file_formats.html',\n",
       " '/help/faq.html',\n",
       " '/policy/',\n",
       " '/help/public_domain_ebook_submission.html',\n",
       " '/help/submitting_your_own_work.html',\n",
       " '/help/mobile.html',\n",
       " '/attic/',\n",
       " '/donate/',\n",
       " '#books-last1',\n",
       " '#authors-last1',\n",
       " '#books-last7',\n",
       " '#authors-last7',\n",
       " '#books-last30']"
      ]
     },
     "execution_count": 9,
     "metadata": {},
     "output_type": "execute_result"
    }
   ],
   "source": [
    "listOfLinks[:30]"
   ]
  },
  {
   "cell_type": "code",
   "execution_count": 10,
   "metadata": {},
   "outputs": [],
   "source": [
    "# print(soup.text[1000:1500])"
   ]
  },
  {
   "cell_type": "markdown",
   "metadata": {},
   "source": [
    "A bit more, to see where the book links start:"
   ]
  },
  {
   "cell_type": "code",
   "execution_count": 11,
   "metadata": {},
   "outputs": [
    {
     "data": {
      "text/plain": [
       "['#authors-last30',\n",
       " '/ebooks/84',\n",
       " '/ebooks/1342',\n",
       " '/ebooks/1080',\n",
       " '/ebooks/11',\n",
       " '/ebooks/98',\n",
       " '/ebooks/76',\n",
       " '/ebooks/5200',\n",
       " '/ebooks/25344',\n",
       " '/ebooks/844']"
      ]
     },
     "execution_count": 11,
     "metadata": {},
     "output_type": "execute_result"
    }
   ],
   "source": [
    "listOfLinks[30:40]"
   ]
  },
  {
   "cell_type": "markdown",
   "metadata": {},
   "source": [
    "## 7) Use a regular expression to find the numeric digits in these links. These are the file numbers for the top 100 eBooks."
   ]
  },
  {
   "cell_type": "code",
   "execution_count": 12,
   "metadata": {},
   "outputs": [
    {
     "data": {
      "text/plain": [
       "'/ebooks/84'"
      ]
     },
     "execution_count": 12,
     "metadata": {},
     "output_type": "execute_result"
    }
   ],
   "source": [
    "listOfLinks[31]"
   ]
  },
  {
   "cell_type": "markdown",
   "metadata": {},
   "source": [
    "Use a regular expression to find the numeric digits in these links:"
   ]
  },
  {
   "cell_type": "code",
   "execution_count": 13,
   "metadata": {},
   "outputs": [],
   "source": [
    "pattern = r\"/ebooks/[0-9]\"\n",
    "prog = re.compile(r'[0-9]*$')"
   ]
  },
  {
   "cell_type": "code",
   "execution_count": 14,
   "metadata": {},
   "outputs": [],
   "source": [
    "# prog.search(listOfLinks[31]).group()"
   ]
  },
  {
   "cell_type": "markdown",
   "metadata": {},
   "source": [
    "These are the file numbers for the top 100 eBooks:"
   ]
  },
  {
   "cell_type": "code",
   "execution_count": 15,
   "metadata": {},
   "outputs": [
    {
     "name": "stdout",
     "output_type": "stream",
     "text": [
      "84\n",
      "1342\n",
      "1080\n",
      "11\n",
      "98\n",
      "76\n",
      "5200\n",
      "25344\n",
      "844\n",
      "2701\n",
      "1661\n",
      "2542\n",
      "1250\n",
      "1952\n",
      "1260\n",
      "64317\n",
      "174\n",
      "46\n",
      "160\n",
      "74\n"
     ]
    }
   ],
   "source": [
    "i=0\n",
    "for link in listOfLinks:\n",
    "    if re.match(pattern, link):\n",
    "#         print(link)\n",
    "        print(prog.search(link).group())\n",
    "    # Stop after 20 iterations, to keep this short\n",
    "        i += 1\n",
    "        if i >= 20:\n",
    "            break"
   ]
  },
  {
   "cell_type": "markdown",
   "metadata": {},
   "source": [
    "## 8) Initialize the empty list to hold the file numbers over an appropriate range and use **regex** to find the numeric digits in the link **href** string. Use the `.findall()` method."
   ]
  },
  {
   "cell_type": "markdown",
   "metadata": {},
   "source": [
    "Initialize the empty list to hold the file numbers over an appropriate range:"
   ]
  },
  {
   "cell_type": "code",
   "execution_count": 16,
   "metadata": {},
   "outputs": [],
   "source": [
    "bookNums = []"
   ]
  },
  {
   "cell_type": "markdown",
   "metadata": {},
   "source": [
    "Use regex to find the numeric digits in the link href string. Use the findall method:"
   ]
  },
  {
   "cell_type": "code",
   "execution_count": 17,
   "metadata": {},
   "outputs": [],
   "source": [
    "for link in listOfLinks:\n",
    "    if re.match(pattern, link):\n",
    "        digits = re.findall('[0-9]+', link)[0]\n",
    "        bookNums.append(int(digits))"
   ]
  },
  {
   "cell_type": "code",
   "execution_count": 18,
   "metadata": {},
   "outputs": [
    {
     "name": "stdout",
     "output_type": "stream",
     "text": [
      "Top 100 books, by file number:\n",
      "[84, 1342, 1080, 11, 98, 76, 5200, 25344, 844, 2701, 1661, 2542, 1250, 1952, 1260, 64317, 174, 46, 160, 74, 219, 2852, 64592, 205, 23, 408, 345, 43, 1400, 16, 16328, 1497, 1232, 158, 55, 2591, 19942, 514, 4300, 3207, 6133, 768, 215, 45, 2554, 2600, 2814, 120, 1184, 36, 57775, 42108, 135, 58585, 730, 64586, 244, 5740, 996, 113, 829, 140, 3825, 2500, 14976, 203, 15399, 147, 1727, 6130, 1001, 19033, 42324, 3600, 902, 64585, 43453, 41, 766, 25929, 209, 236, 1998, 161, 35, 64587, 7370, 851, 64589, 4517, 863, 972, 3296, 11030, 20203, 4363, 10623, 32415, 1934, 8800, 84, 1342, 11, 1080, 98, 5200, 1661, 844, 25344, 2701, 2542, 1952, 76, 174, 64317, 1260, 1250, 160, 408, 43, 46, 219, 345, 1232, 205, 16, 23, 16328, 74, 1400, 2852, 6133, 57775, 1497, 4300, 19942, 55, 2814, 514, 158, 2591, 3207, 120, 2600, 768, 215, 42108, 45, 2554, 1184, 5740, 996, 244, 3825, 58585, 203, 36, 902, 135, 3600, 43453, 6130, 1727, 140, 15399, 829, 1001, 11030, 2500, 20203, 113, 7370, 147, 1998, 35, 25929, 766, 863, 730, 851, 31591, 37134, 105, 376, 30254, 236, 42324, 3090, 61, 972, 161, 521, 779, 8800, 1399, 2148, 1064, 41, 209, 1934, 84, 1342, 1080, 46, 11, 25344, 98, 2542, 1952, 5200, 844, 43, 1250, 1661, 2701, 76, 1260, 174, 219, 6133, 408, 16328, 160, 23, 74, 2852, 345, 1400, 205, 1232, 64317, 16, 120, 55, 1497, 2591, 215, 2814, 514, 4300, 158, 19942, 2600, 3207, 768, 25482, 3825, 45, 2554, 25929, 36, 1184, 244, 140, 42108, 58585, 1727, 57775, 902, 203, 5740, 996, 15399, 6130, 829, 135, 20203, 2097, 2500, 3600, 1934, 35, 4014, 113, 730, 1001, 851, 26184, 4517, 43453, 1998, 7370, 376, 863, 766, 11030, 41, 236, 37134, 147, 42324, 2148, 1064, 209, 61, 8800, 105, 521, 34901, 4363]\n"
     ]
    }
   ],
   "source": [
    "print(\"Top 100 books, by file number:\")\n",
    "print(bookNums)"
   ]
  },
  {
   "cell_type": "markdown",
   "metadata": {},
   "source": [
    "## 9) What does the **soup** object's text look like? \n",
    "Use the `.text` method and print the first 2,000 characters:"
   ]
  },
  {
   "cell_type": "code",
   "execution_count": 19,
   "metadata": {},
   "outputs": [
    {
     "name": "stdout",
     "output_type": "stream",
     "text": [
      "Top 100 | Project GutenbergMenu▾About\n",
      "          ▾▾\n",
      "About Project Gutenberg\n",
      "Collection Development\n",
      "Contact Us\n",
      "History & Philosophy\n",
      "Permissions & License\n",
      "Privacy Policy\n",
      "Terms of UseSearch and Browse\n",
      "      \t  ▾▾\n",
      "Book Search\n",
      "Bookshelves\n",
      "Frequently Downloaded\n",
      "Offline CatalogsHelp\n",
      "          ▾▾\n",
      "All help topics →\n",
      "Copyright Procedures\n",
      "Errata, Fixes and Bug Reports\n",
      "File Formats\n",
      "Frequently Asked Questions\n",
      "Policies →\n",
      "Public Domain eBook Submission\n",
      "Submitting Your Own Work\n",
      "Tablets, Phones and eReaders\n",
      "The Attic →\n",
      "Donate\n",
      "DonationFrequently Viewed or Downloaded\n",
      "These listings are based on the number of times each eBook gets downloaded.\n",
      "      Multiple downloads from the same Internet address on the same day count as one download, and addresses that download more than 100 eBooks in a day are considered robots and are not counted.Downloaded Books\n",
      "2021-02-19199180\n",
      "last 7 days1366919\n",
      "last 30 days5806503Top 100 EBooks yesterday\n",
      "Top 100 Authors yesterday\n",
      "Top 100 EBooks last 7 days\n",
      "Top 100 Authors last 7 days\n",
      "Top 100 EBooks last 30 days\n",
      "Top 100 Authors last 30 days\n",
      "Top 100 EBooks yesterdayFrankenstein; Or, The Modern Prometheus by Mary Wollstonecraft Shelley (3260)\n",
      "Pride and Prejudice by Jane Austen (2163)\n",
      "A Modest Proposal by Jonathan Swift (1122)\n",
      "Alice's Adventures in Wonderland by Lewis Carroll (1011)\n",
      "A Tale of Two Cities by Charles Dickens (944)\n",
      "Adventures of Huckleberry Finn by Mark Twain (893)\n",
      "Metamorphosis by Franz Kafka (871)\n",
      "The Scarlet Letter by Nathaniel Hawthorne (845)\n",
      "The Importance of Being Earnest: A Trivial Comedy for Serious People by Oscar Wilde (812)\n",
      "Moby Dick; Or, The Whale by Herman Melville (806)\n",
      "The Adventures of Sherlock Holmes by Arthur Conan Doyle (729)\n",
      "Et dukkehjem. English by Henrik Ibsen (729)\n",
      "Anthem by Ayn Rand (705)\n",
      "The Yellow Wallpaper by Charlotte Perkins Gilman (681)\n",
      "Jane Eyre: An Autobiography by Charlotte Brontë (672)\n",
      "The Great Gatsby by F. Scott  Fitzgerald (659)\n",
      "The \n"
     ]
    }
   ],
   "source": [
    "# soup.text[:2000]\n",
    "print(soup.text[:2000].replace('\\n\\n', ''))  # Saving space by removing multiple newlines"
   ]
  },
  {
   "cell_type": "markdown",
   "metadata": {},
   "source": [
    "## 10) Search in the extracted text (using regex) from the soup object to find the names of the top 100 eBooks (yesterday's ranking)."
   ]
  },
  {
   "cell_type": "code",
   "execution_count": 20,
   "metadata": {},
   "outputs": [
    {
     "data": {
      "text/plain": [
       "'/ebooks/84'"
      ]
     },
     "execution_count": 20,
     "metadata": {},
     "output_type": "execute_result"
    }
   ],
   "source": [
    "soup.find_all('li')[31].a.get('href')"
   ]
  },
  {
   "cell_type": "code",
   "execution_count": 21,
   "metadata": {},
   "outputs": [
    {
     "data": {
      "text/plain": [
       "6"
      ]
     },
     "execution_count": 21,
     "metadata": {},
     "output_type": "execute_result"
    }
   ],
   "source": [
    "len(soup.find_all('ol'))"
   ]
  },
  {
   "cell_type": "code",
   "execution_count": 22,
   "metadata": {},
   "outputs": [],
   "source": [
    "topHundy = soup.find_all('ol')[0]"
   ]
  },
  {
   "cell_type": "code",
   "execution_count": 23,
   "metadata": {},
   "outputs": [
    {
     "data": {
      "text/plain": [
       "100"
      ]
     },
     "execution_count": 23,
     "metadata": {},
     "output_type": "execute_result"
    }
   ],
   "source": [
    "len(topHundy.find_all('li'))"
   ]
  },
  {
   "cell_type": "code",
   "execution_count": 24,
   "metadata": {},
   "outputs": [
    {
     "data": {
      "text/plain": [
       "<li><a href=\"/ebooks/84\">Frankenstein; Or, The Modern Prometheus by Mary Wollstonecraft Shelley (3260)</a></li>"
      ]
     },
     "execution_count": 24,
     "metadata": {},
     "output_type": "execute_result"
    }
   ],
   "source": [
    "topHundy.find_all('li')[0]"
   ]
  },
  {
   "cell_type": "code",
   "execution_count": 25,
   "metadata": {},
   "outputs": [
    {
     "data": {
      "text/plain": [
       "'Frankenstein; Or, The Modern Prometheus by Mary Wollstonecraft Shelley (3260)'"
      ]
     },
     "execution_count": 25,
     "metadata": {},
     "output_type": "execute_result"
    }
   ],
   "source": [
    "topHundy.find_all('li')[0].text"
   ]
  },
  {
   "cell_type": "code",
   "execution_count": 26,
   "metadata": {},
   "outputs": [
    {
     "name": "stdout",
     "output_type": "stream",
     "text": [
      "Frankenstein; Or, The Modern Prometheus by Mary Wollstonecraft Shelley (3260)\n",
      "Pride and Prejudice by Jane Austen (2163)\n",
      "A Modest Proposal by Jonathan Swift (1122)\n",
      "Alice's Adventures in Wonderland by Lewis Carroll (1011)\n",
      "A Tale of Two Cities by Charles Dickens (944)\n",
      "Adventures of Huckleberry Finn by Mark Twain (893)\n",
      "Metamorphosis by Franz Kafka (871)\n",
      "The Scarlet Letter by Nathaniel Hawthorne (845)\n",
      "The Importance of Being Earnest: A Trivial Comedy for Serious People by Oscar Wilde (812)\n",
      "Moby Dick; Or, The Whale by Herman Melville (806)\n",
      "The Adventures of Sherlock Holmes by Arthur Conan Doyle (729)\n",
      "Et dukkehjem. English by Henrik Ibsen (729)\n",
      "Anthem by Ayn Rand (705)\n",
      "The Yellow Wallpaper by Charlotte Perkins Gilman (681)\n",
      "Jane Eyre: An Autobiography by Charlotte Brontë (672)\n",
      "The Great Gatsby by F. Scott  Fitzgerald (659)\n",
      "The Picture of Dorian Gray by Oscar Wilde (655)\n",
      "A Christmas Carol in Prose; Being a Ghost Story of Christmas by Charles Dickens (609)\n",
      "The Awakening, and Selected Short Stories by Kate Chopin (600)\n",
      "The Adventures of Tom Sawyer, Complete by Mark Twain (550)\n"
     ]
    }
   ],
   "source": [
    "i=0\n",
    "for book in topHundy.find_all('li'):\n",
    "    print(book.text)\n",
    "# Stop after 20 iterations, to keep this short\n",
    "    i += 1\n",
    "    if i >= 20:\n",
    "        break"
   ]
  },
  {
   "cell_type": "markdown",
   "metadata": {},
   "source": [
    "## 11) Create a starting index. It should point to the text *Top 100 EBooks yesterday*. Use the `.splitlines()` method of soup.text. It splits the lines of text of the soup object."
   ]
  },
  {
   "cell_type": "code",
   "execution_count": 27,
   "metadata": {},
   "outputs": [],
   "source": [
    "# soup.text.find(\"Top 100 EBooks yesterday\")"
   ]
  },
  {
   "cell_type": "code",
   "execution_count": 28,
   "metadata": {},
   "outputs": [],
   "source": [
    "# soup.text.splitlines()"
   ]
  },
  {
   "cell_type": "code",
   "execution_count": 29,
   "metadata": {},
   "outputs": [
    {
     "data": {
      "text/plain": [
       "113"
      ]
     },
     "execution_count": 29,
     "metadata": {},
     "output_type": "execute_result"
    }
   ],
   "source": [
    "soup.text.splitlines().index(\"Top 100 EBooks yesterday\")"
   ]
  },
  {
   "cell_type": "code",
   "execution_count": 30,
   "metadata": {},
   "outputs": [
    {
     "data": {
      "text/plain": [
       "'Top 100 EBooks yesterday'"
      ]
     },
     "execution_count": 30,
     "metadata": {},
     "output_type": "execute_result"
    }
   ],
   "source": [
    "soup.text.splitlines()[113]"
   ]
  },
  {
   "cell_type": "code",
   "execution_count": 31,
   "metadata": {},
   "outputs": [],
   "source": [
    "startInd = soup.text.splitlines().index(\"Top 100 EBooks yesterday\")"
   ]
  },
  {
   "cell_type": "code",
   "execution_count": 32,
   "metadata": {},
   "outputs": [
    {
     "data": {
      "text/plain": [
       "['Top 100 EBooks yesterday',\n",
       " 'Top 100 Authors yesterday',\n",
       " 'Top 100 EBooks last 7 days',\n",
       " 'Top 100 Authors last 7 days',\n",
       " 'Top 100 EBooks last 30 days',\n",
       " 'Top 100 Authors last 30 days',\n",
       " '',\n",
       " '',\n",
       " 'Top 100 EBooks yesterday',\n",
       " '',\n",
       " 'Frankenstein; Or, The Modern Prometheus by Mary Wollstonecraft Shelley (3260)',\n",
       " 'Pride and Prejudice by Jane Austen (2163)',\n",
       " 'A Modest Proposal by Jonathan Swift (1122)',\n",
       " \"Alice's Adventures in Wonderland by Lewis Carroll (1011)\",\n",
       " 'A Tale of Two Cities by Charles Dickens (944)']"
      ]
     },
     "execution_count": 32,
     "metadata": {},
     "output_type": "execute_result"
    }
   ],
   "source": [
    "soup.text.splitlines()[startInd:startInd+15]"
   ]
  },
  {
   "cell_type": "markdown",
   "metadata": {},
   "source": [
    "Looks like there's more than one instance of \"Top 100 EBooks yesterday\"."
   ]
  },
  {
   "cell_type": "code",
   "execution_count": 33,
   "metadata": {},
   "outputs": [
    {
     "data": {
      "text/plain": [
       "'Top 100 EBooks yesterday'"
      ]
     },
     "execution_count": 33,
     "metadata": {},
     "output_type": "execute_result"
    }
   ],
   "source": [
    "soup.text.splitlines()[startInd+8]"
   ]
  },
  {
   "cell_type": "markdown",
   "metadata": {},
   "source": [
    "Add a couple more to get to the first book:"
   ]
  },
  {
   "cell_type": "code",
   "execution_count": 34,
   "metadata": {},
   "outputs": [],
   "source": [
    "startInd = soup.text.splitlines().index(\"Top 100 EBooks yesterday\")+10"
   ]
  },
  {
   "cell_type": "markdown",
   "metadata": {},
   "source": [
    "## 12) Loop 0-100 to add the strings of the next 100 lines to this temporary list. Hint: use the `.splitlines()` method."
   ]
  },
  {
   "cell_type": "code",
   "execution_count": 35,
   "metadata": {},
   "outputs": [],
   "source": [
    "topBooks = []\n",
    "for book in soup.text.splitlines()[startInd:startInd+100]:\n",
    "    topBooks.append(book)"
   ]
  },
  {
   "cell_type": "code",
   "execution_count": 36,
   "metadata": {},
   "outputs": [
    {
     "data": {
      "text/plain": [
       "(['Frankenstein; Or, The Modern Prometheus by Mary Wollstonecraft Shelley (3260)',\n",
       "  'Pride and Prejudice by Jane Austen (2163)',\n",
       "  'A Modest Proposal by Jonathan Swift (1122)',\n",
       "  \"Alice's Adventures in Wonderland by Lewis Carroll (1011)\",\n",
       "  'A Tale of Two Cities by Charles Dickens (944)'],\n",
       " ['Beyond Good and Evil by Friedrich Wilhelm Nietzsche (185)',\n",
       "  'Plays by Susan Glaspell (183)',\n",
       "  'The Nursery Rhymes of England (182)',\n",
       "  'Songs of Innocence, and Songs of Experience by William Blake (179)',\n",
       "  'An Index of The Divine Comedy by Dante by Dante Alighieri (179)'])"
      ]
     },
     "execution_count": 36,
     "metadata": {},
     "output_type": "execute_result"
    }
   ],
   "source": [
    "topBooks[:5], topBooks[-5:]"
   ]
  },
  {
   "cell_type": "markdown",
   "metadata": {},
   "source": [
    "## 13) Use a regular expression to extract only the text from the name strings and append it to an empty list. Use `.match()` and `.span()` to find the indices and use them."
   ]
  },
  {
   "cell_type": "code",
   "execution_count": 37,
   "metadata": {},
   "outputs": [
    {
     "data": {
      "text/plain": [
       "'Frankenstein; Or, The Modern Prometheus by Mary Wollstonecraft Shelley (3260)'"
      ]
     },
     "execution_count": 37,
     "metadata": {},
     "output_type": "execute_result"
    }
   ],
   "source": [
    "topBooks[0]"
   ]
  },
  {
   "cell_type": "code",
   "execution_count": 38,
   "metadata": {},
   "outputs": [
    {
     "data": {
      "text/plain": [
       "' (3260)'"
      ]
     },
     "execution_count": 38,
     "metadata": {},
     "output_type": "execute_result"
    }
   ],
   "source": [
    "prog = re.compile(r'\\s\\([0-9]{1,5}\\)')\n",
    "prog.search(topBooks[0]).group()"
   ]
  },
  {
   "cell_type": "code",
   "execution_count": 39,
   "metadata": {},
   "outputs": [
    {
     "data": {
      "text/plain": [
       "<re.Match object; span=(70, 77), match=' (3260)'>"
      ]
     },
     "execution_count": 39,
     "metadata": {},
     "output_type": "execute_result"
    }
   ],
   "source": [
    "prog.match(topBooks[0], pos=len(topBooks[0])-len(prog.search(topBooks[0]).group()))"
   ]
  },
  {
   "cell_type": "code",
   "execution_count": 40,
   "metadata": {},
   "outputs": [
    {
     "data": {
      "text/plain": [
       "(70, 77)"
      ]
     },
     "execution_count": 40,
     "metadata": {},
     "output_type": "execute_result"
    }
   ],
   "source": [
    "prog.match(topBooks[0], pos=len(topBooks[0])-len(prog.search(topBooks[0]).group())).span()"
   ]
  },
  {
   "cell_type": "code",
   "execution_count": 41,
   "metadata": {},
   "outputs": [
    {
     "data": {
      "text/plain": [
       "'Frankenstein; Or, The Modern Prome'"
      ]
     },
     "execution_count": 41,
     "metadata": {},
     "output_type": "execute_result"
    }
   ],
   "source": [
    "topBooks[0][:34]"
   ]
  },
  {
   "cell_type": "code",
   "execution_count": 42,
   "metadata": {},
   "outputs": [],
   "source": [
    "bookTitles = []\n",
    "\n",
    "for book in topBooks:\n",
    "    s, e = prog.match(book, pos=len(book)-len(prog.search(book).group())).span()\n",
    "#     print(book[:s])\n",
    "    bookTitles.append(book[:s])"
   ]
  },
  {
   "cell_type": "code",
   "execution_count": 43,
   "metadata": {},
   "outputs": [
    {
     "data": {
      "text/plain": [
       "100"
      ]
     },
     "execution_count": 43,
     "metadata": {},
     "output_type": "execute_result"
    }
   ],
   "source": [
    "len(bookTitles)"
   ]
  },
  {
   "cell_type": "code",
   "execution_count": 44,
   "metadata": {},
   "outputs": [
    {
     "data": {
      "text/plain": [
       "(['Frankenstein; Or, The Modern Prometheus by Mary Wollstonecraft Shelley',\n",
       "  'Pride and Prejudice by Jane Austen',\n",
       "  'A Modest Proposal by Jonathan Swift',\n",
       "  \"Alice's Adventures in Wonderland by Lewis Carroll\",\n",
       "  'A Tale of Two Cities by Charles Dickens'],\n",
       " ['Beyond Good and Evil by Friedrich Wilhelm Nietzsche',\n",
       "  'Plays by Susan Glaspell',\n",
       "  'The Nursery Rhymes of England',\n",
       "  'Songs of Innocence, and Songs of Experience by William Blake',\n",
       "  'An Index of The Divine Comedy by Dante by Dante Alighieri'])"
      ]
     },
     "execution_count": 44,
     "metadata": {},
     "output_type": "execute_result"
    }
   ],
   "source": [
    "bookTitles[:5], bookTitles[-5:]"
   ]
  },
  {
   "cell_type": "code",
   "execution_count": null,
   "metadata": {},
   "outputs": [],
   "source": []
  },
  {
   "cell_type": "markdown",
   "metadata": {},
   "source": [
    "# 2. Activity 10: Building Your Own Movie Database by Reading an API"
   ]
  },
  {
   "cell_type": "markdown",
   "metadata": {},
   "source": [
    "## 1) Import **urllib.request**, **urllib.parse**, **urllib.error**, and **json**."
   ]
  },
  {
   "cell_type": "code",
   "execution_count": 45,
   "metadata": {},
   "outputs": [],
   "source": [
    "import urllib.request, urllib.parse, urllib.error\n",
    "import json\n",
    "import os\n",
    "from IPython.display import Image, display"
   ]
  },
  {
   "cell_type": "markdown",
   "metadata": {},
   "source": [
    "## 2) Load the secret API key from a JSON file stored in the same folder in a variable, by using `json.load()`."
   ]
  },
  {
   "cell_type": "markdown",
   "metadata": {},
   "source": [
    "## 3) *(2a)* Obtain a key and store it in JSON as **APIkeys.json**.\n",
    "Done!"
   ]
  },
  {
   "cell_type": "markdown",
   "metadata": {},
   "source": [
    "## 4) *(2b)* Open the **APIkeys.json** file."
   ]
  },
  {
   "cell_type": "code",
   "execution_count": 46,
   "metadata": {},
   "outputs": [],
   "source": [
    "with open('APIkey.json') as f:\n",
    "    key = json.load(f)['OMDBapi']    "
   ]
  },
  {
   "cell_type": "markdown",
   "metadata": {},
   "source": [
    "# 5) Assign the OMDB portal as a string to a variable.\n",
    "(http://www.omdbapi.com/?)"
   ]
  },
  {
   "cell_type": "code",
   "execution_count": 47,
   "metadata": {},
   "outputs": [],
   "source": [
    "omdbPortal = \"http://www.omdbapi.com/?\""
   ]
  },
  {
   "cell_type": "markdown",
   "metadata": {},
   "source": [
    "## 6) Create a variable called **apikey** with the last portion of the URL (**&apikey=secretapikey**), where **secretapikey** is your own API key.\n",
    "The movie name portion i.e. \"t=movie_name\" will be addressed later"
   ]
  },
  {
   "cell_type": "code",
   "execution_count": 48,
   "metadata": {},
   "outputs": [],
   "source": [
    "apiKey = \"&apikey=\"+key"
   ]
  },
  {
   "cell_type": "markdown",
   "metadata": {},
   "source": [
    "## 7) Write a utility function called **print_json** to print the movie data from a JSON file (which we will get from the portal)."
   ]
  },
  {
   "cell_type": "code",
   "execution_count": 49,
   "metadata": {},
   "outputs": [],
   "source": [
    "def print_json(movieData):\n",
    "    \"\"\"\n",
    "    Function to print movie data from a JSON file.\n",
    "    \"\"\"\n",
    "    data = json.loads(movieData)\n",
    "    for k, v, in data.items():\n",
    "        print(\"{}:\\n   {}\".format(k, v))"
   ]
  },
  {
   "cell_type": "code",
   "execution_count": 50,
   "metadata": {},
   "outputs": [],
   "source": [
    "def fetchMovieData(movieTitle):\n",
    "    \"\"\"\n",
    "    Function to retrieve JSON data for a specified \n",
    "    movie from the \"http://www.omdbapi.com/?\" API.\n",
    "    \"\"\"\n",
    "    urlTitle = urllib.parse.urlencode({'t': str(movieTitle)})\n",
    "    url = omdbPortal + urlTitle + apiKey\n",
    "    \n",
    "    try:\n",
    "        uh = urllib.request.urlopen(url)\n",
    "    except HTTPError as e:\n",
    "        print(\"So sorry, but we could not retreive anything on {}\"\n",
    "              .format(movieTitle))\n",
    "        return None\n",
    "    except URLError as e:\n",
    "        print('Failed to reach a server. You know how it is.')\n",
    "        print(\"Reason: {}\".format(e.reason))\n",
    "        return None\n",
    "    else:\n",
    "        data = uh.read().decode()\n",
    "        print(\"Retrieved data on {}. Total {} characters read.\"\n",
    "             .format(movieTitle, len(data)))\n",
    "        return data"
   ]
  },
  {
   "cell_type": "code",
   "execution_count": 51,
   "metadata": {},
   "outputs": [
    {
     "name": "stdin",
     "output_type": "stream",
     "text": [
      "Enter the name of a movie:  Monty Python's Life of Brian\n"
     ]
    },
    {
     "name": "stdout",
     "output_type": "stream",
     "text": [
      "Retrieved data on Monty Python's Life of Brian. Total 996 characters read.\n"
     ]
    }
   ],
   "source": [
    "# movieTitle = \"Titanic\"\n",
    "movieTitle = str(input(\"Enter the name of a movie: \"))\n",
    "movieData = fetchMovieData(movieTitle)"
   ]
  },
  {
   "cell_type": "code",
   "execution_count": 52,
   "metadata": {},
   "outputs": [
    {
     "name": "stdout",
     "output_type": "stream",
     "text": [
      "Title:\n",
      "   Monty Python's Life of Brian\n",
      "Year:\n",
      "   1979\n",
      "Rated:\n",
      "   R\n",
      "Released:\n",
      "   17 Aug 1979\n",
      "Runtime:\n",
      "   94 min\n",
      "Genre:\n",
      "   Comedy\n",
      "Director:\n",
      "   Terry Jones\n",
      "Writer:\n",
      "   Graham Chapman, John Cleese, Terry Gilliam, Eric Idle, Terry Jones, Michael Palin\n",
      "Actors:\n",
      "   Graham Chapman, John Cleese, Terry Gilliam, Eric Idle\n",
      "Plot:\n",
      "   Born on the original Christmas in the stable next door to Jesus Christ, Brian of Nazareth spends his life being mistaken for a messiah.\n",
      "Language:\n",
      "   English, Latin\n",
      "Country:\n",
      "   UK\n",
      "Awards:\n",
      "   N/A\n",
      "Poster:\n",
      "   https://m.media-amazon.com/images/M/MV5BMzAwNjU1OTktYjY3Mi00NDY5LWFlZWUtZjhjNGE0OTkwZDkwXkEyXkFqcGdeQXVyMTQxNzMzNDI@._V1_SX300.jpg\n",
      "Ratings:\n",
      "   [{'Source': 'Internet Movie Database', 'Value': '8.1/10'}, {'Source': 'Rotten Tomatoes', 'Value': '95%'}, {'Source': 'Metacritic', 'Value': '77/100'}]\n",
      "Metascore:\n",
      "   77\n",
      "imdbRating:\n",
      "   8.1\n",
      "imdbVotes:\n",
      "   367,934\n",
      "imdbID:\n",
      "   tt0079470\n",
      "Type:\n",
      "   movie\n",
      "DVD:\n",
      "   N/A\n",
      "BoxOffice:\n",
      "   $20,206,622\n",
      "Production:\n",
      "   Paramount\n",
      "Website:\n",
      "   N/A\n",
      "Response:\n",
      "   True\n"
     ]
    }
   ],
   "source": [
    "print_json(movieData)"
   ]
  },
  {
   "cell_type": "markdown",
   "metadata": {},
   "source": [
    "## 8) Write a utility function to download a poster of the movie based on the information from the JSON dataset and save it in your local folder.\n",
    "Use the **os** module. The poster data is stored in the JSON key **Poster**. Use the Python command to open a file and write the poster data. Close the file after you're done. This functon will save the poster data as an image file."
   ]
  },
  {
   "cell_type": "code",
   "execution_count": 53,
   "metadata": {},
   "outputs": [],
   "source": [
    "def posterTime(movieData):\n",
    "    \"\"\"\n",
    "    This function retrieves, saves, and displays\n",
    "    the poster image for the searched movie.\n",
    "    \"\"\"\n",
    "    movieJSON = json.loads(movieData)\n",
    "    \n",
    "    # Grab movie Title and Poster data:\n",
    "    movie = movieJSON['Title']\n",
    "    poster = movieJSON['Poster']\n",
    "    imgData = urllib.request.urlopen(poster).read()\n",
    "    \n",
    "    # Generate file info and save image:\n",
    "    extension = movieJSON['Poster'].split('.')[-1]\n",
    "    fileName = \"{}.{}\".format(str(movie), extension)\n",
    "    try:\n",
    "        with open(fileName, 'wb') as f:\n",
    "            f.write(imgData)\n",
    "        print('The following {} image was saved as:\\n\\t\"{}\"'\n",
    "              .format(extension.upper(), fileName))\n",
    "        display(Image(filename=fileName))\n",
    "    except:\n",
    "        print(\"Something went wrong. Image could not be saved.\")"
   ]
  },
  {
   "cell_type": "code",
   "execution_count": 54,
   "metadata": {},
   "outputs": [
    {
     "name": "stdout",
     "output_type": "stream",
     "text": [
      "The following JPG image was saved as:\n",
      "\t\"Monty Python's Life of Brian.jpg\"\n"
     ]
    },
    {
     "data": {
      "image/jpeg": "[encoded data removed]",
      "text/plain": [
       "<IPython.core.display.Image object>"
      ]
     },
     "metadata": {},
     "output_type": "display_data"
    }
   ],
   "source": [
    "posterTime(movieData)"
   ]
  },
  {
   "cell_type": "code",
   "execution_count": null,
   "metadata": {},
   "outputs": [],
   "source": []
  },
  {
   "cell_type": "markdown",
   "metadata": {},
   "source": [
    "# 3. Connect to the Twitter API and do a simple data pull."
   ]
  },
  {
   "cell_type": "code",
   "execution_count": 55,
   "metadata": {},
   "outputs": [],
   "source": [
    "import requests\n",
    "import os\n",
    "import json\n",
    "from dotenv import load_dotenv"
   ]
  },
  {
   "cell_type": "code",
   "execution_count": 56,
   "metadata": {},
   "outputs": [],
   "source": [
    "%load_ext dotenv\n",
    "%dotenv"
   ]
  },
  {
   "cell_type": "markdown",
   "metadata": {},
   "source": [
    "## a.-g. Set up a Twitter developer account and obtain necessary keys/tokens."
   ]
  },
  {
   "cell_type": "code",
   "execution_count": 57,
   "metadata": {},
   "outputs": [],
   "source": [
    "# os.environ[\"CONSUMER_KEY\"] = \"<API key>\"\n",
    "# os.environ[\"CONSUMER_SECRET\"] = \"<API secret key>\"\n",
    "# os.environ[\"BEARER_TOKEN\"] = \"<Bearer token>\""
   ]
  },
  {
   "cell_type": "code",
   "execution_count": 58,
   "metadata": {},
   "outputs": [
    {
     "data": {
      "text/plain": [
       "True"
      ]
     },
     "execution_count": 58,
     "metadata": {},
     "output_type": "execute_result"
    }
   ],
   "source": [
    "load_dotenv(\"CONSUMER_KEY\")\n",
    "load_dotenv(\"CONSUMER_SECRET\")\n",
    "load_dotenv(\"BEARER_TOKEN\")"
   ]
  },
  {
   "cell_type": "markdown",
   "metadata": {},
   "source": [
    "Donezo."
   ]
  },
  {
   "cell_type": "markdown",
   "metadata": {},
   "source": [
    "## h. Connect to the Twitter API to pull data searching for \"Bellevue University\" and \"Data Science\" or something else interesting.\n",
    "* [How to Create a Twitter App and API Interface via Python](https://www.sitepoint.com/how-to-create-a-twitter-app-and-api-interface-via-python/)\n",
    "* [Welcome Python-Twitter's Documentation!](https://python-twitter.readthedocs.io/en/latest/)"
   ]
  },
  {
   "cell_type": "code",
   "execution_count": 59,
   "metadata": {},
   "outputs": [],
   "source": [
    "def twitterSearch(searchTerms):\n",
    "    \"\"\"\n",
    "    Takes search term, generates a URL, and reaches out to Twitter API\n",
    "    \"\"\"\n",
    "    # Load token:\n",
    "    bearerToken = os.environ.get(\"BEARER_TOKEN\")\n",
    "    \n",
    "    # Generate URL:\n",
    "    query = f\"{searchTerms} -is:retweet lang:en\"\n",
    "    tweetFields = \"expansions=author_id\"\n",
    "    url = f\"https://api.twitter.com/2/tweets/search/recent?query={query}&{tweetFields}\"\n",
    "    \n",
    "    # Establish headers and connect to endpoint:\n",
    "    headers = {\"Authorization\": f\"Bearer {bearerToken}\"}\n",
    "    response = requests.request(\"GET\", url, headers=headers)\n",
    "    print(\"Status:\", response.status_code)\n",
    "    if response.status_code !=200:\n",
    "        raise Exception(response.status_code, response.text)\n",
    "    return response.json()"
   ]
  },
  {
   "cell_type": "code",
   "execution_count": 60,
   "metadata": {},
   "outputs": [],
   "source": [
    "def printTweets(response):\n",
    "    print(f\"\\nHERE'S THE TOP 10 TWEETS FOR '{search}':\\n\")\n",
    "    i=0\n",
    "    for tweet in response['data']:\n",
    "        i+=1\n",
    "        print('-'*20)\n",
    "        print(f\"\\033[1m#{i}:\\033[0m\")\n",
    "        print(tweet['text'])"
   ]
  },
  {
   "cell_type": "code",
   "execution_count": 61,
   "metadata": {},
   "outputs": [
    {
     "name": "stdin",
     "output_type": "stream",
     "text": [
      "Enter your Twitter search term(s): Data Science\n"
     ]
    },
    {
     "name": "stdout",
     "output_type": "stream",
     "text": [
      "Status: 200\n",
      "\n",
      "HERE'S THE TOP 10 TWEETS FOR 'Data Science':\n",
      "\n",
      "--------------------\n",
      "\u001b[1m#1:\u001b[0m\n",
      "One of the biggest issues with social science methods and statistics books are the microaggressions within examples. It’s really hard to learn the concept when the data is about rates of race- or class- based educational success, homophobia, or anti-abortion stances.\n",
      "--------------------\n",
      "\u001b[1m#2:\u001b[0m\n",
      "Biden approves major disaster declaration for Texas: FEMA https://t.co/8uBnJMZOYg #3Novices #Meghashyam Thiruveedula #Data Science #Machine Learning\n",
      "--------------------\n",
      "\u001b[1m#3:\u001b[0m\n",
      "Correlation Analysis Using R: ArticleVideos This article was published as a part of the Data Science Blogathon. Introduction Can you tell how the prices of gold will change ... The post Correlation Analysis Using R appeared first on Analytics Vidhya. https://t.co/NUSb3SDkKN https://t.co/szzjW0XhpP\n",
      "--------------------\n",
      "\u001b[1m#4:\u001b[0m\n",
      "Women in Data Science (WiDS) Announces WiDS Workshops Initiative https://t.co/pKQpQf0TdB\n",
      "--------------------\n",
      "\u001b[1m#5:\u001b[0m\n",
      "@EssexPR We were told it would be determined by data not dates. So either that was a flat out lie and on Monday we’ll hat a bunch of arbitrary (and meaningless)dates. Of the newspapers are making it up. What we should get are clear criteria for each phase. That would be science!\n",
      "--------------------\n",
      "\u001b[1m#6:\u001b[0m\n",
      "@oldspeaker1 @SamBarber1910 @PeterBlythe6 @Ashworth101 @GaryLineker And the reason why sex is important is for correct data collection for science on which governments, hospitals, etc. should be relying on order to create effective policies for management/governance. 2/2\n",
      "--------------------\n",
      "\u001b[1m#7:\u001b[0m\n",
      "@GoldenRhino23 @Spraoi @brianlilley This is the thing. Our medical officials especially the Science Roundtable and Toronto and Peel Public health actively have a preferred outcome. Lockdowns. So instead of using the data to find the outcome they have the outcome and are manufacturing the data to support it.\n",
      "--------------------\n",
      "\u001b[1m#8:\u001b[0m\n",
      "#ai #ml #tech #data #IoT #5G #robot #science #innovation #cloud #business #news #future Original Content podcast: Apple’s ‘Ted Lasso’ is all about relentless optimism https://t.co/465kRluxvc via @techcrunch https://t.co/IjoaM76LYA\n",
      "--------------------\n",
      "\u001b[1m#9:\u001b[0m\n",
      "RT: DataScienceCtrl Can a Diploma from a Lower Ranking University Hurt your Data Science Career Prospects? by Vincent Granville https://t.co/nh47yT6cpq #dsc_Article #dsc_hash_T4Ol2\n",
      "--------------------\n",
      "\u001b[1m#10:\u001b[0m\n",
      "Case data says you should be .. because its not just vaccines.  Belgium is the country many of my science contacts are looking at. Cases soared early, then tanked before vaccines.  Lockdowns a big part, but most of the kids are in school in person as well so ... one to study https://t.co/KF6XaCM6aO https://t.co/ervt93Qzi6\n"
     ]
    }
   ],
   "source": [
    "search = str(input(\"Enter your Twitter search term(s):\"))\n",
    "tweets = twitterSearch(search)\n",
    "printTweets(tweets)"
   ]
  },
  {
   "cell_type": "code",
   "execution_count": null,
   "metadata": {},
   "outputs": [],
   "source": []
  },
  {
   "cell_type": "markdown",
   "metadata": {},
   "source": [
    "# 4. Using one of the datasets provided in Weeks 7 & 8, or a dataset of your own, choose 3 of the following visualizations to complete.  \n",
    "a) Line  \n",
    "b) Scatter  \n",
    "c) Bar  \n",
    "d) Histogram  \n",
    "e) Density Plot  \n",
    "f) Pie Chart  \n",
    "You are free to use Matplotlib, Seaborn or another package if you prefer."
   ]
  },
  {
   "cell_type": "code",
   "execution_count": 62,
   "metadata": {},
   "outputs": [],
   "source": [
    "import pandas as pd\n",
    "import numpy as np\n",
    "import matplotlib.pyplot as plt\n",
    "import seaborn as sns"
   ]
  },
  {
   "cell_type": "code",
   "execution_count": 63,
   "metadata": {},
   "outputs": [],
   "source": [
    "plt.rc('figure', figsize=(10, 6))"
   ]
  },
  {
   "cell_type": "markdown",
   "metadata": {},
   "source": [
    "### Load cleaned candy data from previous week:"
   ]
  },
  {
   "cell_type": "code",
   "execution_count": 64,
   "metadata": {},
   "outputs": [],
   "source": [
    "candyDF = pd.read_csv('candy_cleaned.csv')"
   ]
  },
  {
   "cell_type": "markdown",
   "metadata": {},
   "source": [
    "## Scatter Plot"
   ]
  },
  {
   "cell_type": "markdown",
   "metadata": {},
   "source": [
    "Add an Hour column for hour of the day:"
   ]
  },
  {
   "cell_type": "code",
   "execution_count": 65,
   "metadata": {},
   "outputs": [],
   "source": [
    "candyDF['Hour'] = pd.to_datetime(candyDF.Timestamp).dt.hour"
   ]
  },
  {
   "cell_type": "markdown",
   "metadata": {},
   "source": [
    "Plot Age against hour of the day to see if older people tend to be early risers and younger people night owls:  \n",
    "Note: With Regression!"
   ]
  },
  {
   "cell_type": "code",
   "execution_count": 66,
   "metadata": {},
   "outputs": [
    {
     "data": {
      "text/plain": [
       "[Text(0.5, 0, 'Hour of Day'), Text(0, 0.5, 'Age')]"
      ]
     },
     "execution_count": 66,
     "metadata": {},
     "output_type": "execute_result"
    },
    {
     "data": {
      "image/png": "[encoded data removed]",
      "text/plain": [
       "<Figure size 720x432 with 1 Axes>"
      ]
     },
     "metadata": {
      "needs_background": "light"
     },
     "output_type": "display_data"
    }
   ],
   "source": [
    "plot = sns.regplot(x='Hour', y='Age', data=candyDF)\n",
    "plot.set(xlabel=\"Hour of Day\", ylabel='Age')"
   ]
  },
  {
   "cell_type": "markdown",
   "metadata": {},
   "source": [
    "Not really. That line appears pretty flat.  "
   ]
  },
  {
   "cell_type": "markdown",
   "metadata": {},
   "source": [
    "Here's the same data as a `jointplot()`, showing histograms of each of the variables at the top and right sides:"
   ]
  },
  {
   "cell_type": "code",
   "execution_count": 67,
   "metadata": {},
   "outputs": [
    {
     "data": {
      "image/png": "[encoded data removed]",
      "text/plain": [
       "<Figure size 432x432 with 3 Axes>"
      ]
     },
     "metadata": {
      "needs_background": "light"
     },
     "output_type": "display_data"
    }
   ],
   "source": [
    "plot = sns.jointplot(x='Hour', y='Age', data=candyDF, kind='reg')"
   ]
  },
  {
   "cell_type": "markdown",
   "metadata": {},
   "source": [
    "This is helpful to visualize the distribution of the individual variables."
   ]
  },
  {
   "cell_type": "markdown",
   "metadata": {},
   "source": [
    "Here it is broken down by Gender:"
   ]
  },
  {
   "cell_type": "code",
   "execution_count": 68,
   "metadata": {},
   "outputs": [
    {
     "data": {
      "text/plain": [
       "<seaborn.axisgrid.FacetGrid at 0x176a2884eb0>"
      ]
     },
     "execution_count": 68,
     "metadata": {},
     "output_type": "execute_result"
    },
    {
     "data": {
      "image/png": "[encoded data removed]",
      "text/plain": [
       "<Figure size 787.125x720 with 4 Axes>"
      ]
     },
     "metadata": {
      "needs_background": "light"
     },
     "output_type": "display_data"
    }
   ],
   "source": [
    "plot = sns.lmplot(x='Hour', y='Age', hue='TrickOrTreat',\n",
    "                  col='Gender', col_wrap=2, data=candyDF)\n",
    "plot.set(xlabel=\"Hour of Day\", ylabel='Age')"
   ]
  },
  {
   "cell_type": "markdown",
   "metadata": {},
   "source": [
    "## Box Plot"
   ]
  },
  {
   "cell_type": "markdown",
   "metadata": {},
   "source": [
    "See the distribution of the Age of respondents for each reported Gender:"
   ]
  },
  {
   "cell_type": "code",
   "execution_count": 69,
   "metadata": {},
   "outputs": [
    {
     "data": {
      "text/plain": [
       "<seaborn.axisgrid.FacetGrid at 0x176a2e25d90>"
      ]
     },
     "execution_count": 69,
     "metadata": {},
     "output_type": "execute_result"
    },
    {
     "data": {
      "image/png": "[encoded data removed]",
      "text/plain": [
       "<Figure size 360x360 with 1 Axes>"
      ]
     },
     "metadata": {
      "needs_background": "light"
     },
     "output_type": "display_data"
    }
   ],
   "source": [
    "sns.catplot(x='Gender', y='Age', kind='box', data=candyDF)"
   ]
  },
  {
   "cell_type": "markdown",
   "metadata": {},
   "source": [
    "Broken down by whether or not they went trick or treating:"
   ]
  },
  {
   "cell_type": "code",
   "execution_count": 70,
   "metadata": {},
   "outputs": [
    {
     "data": {
      "text/plain": [
       "<seaborn.axisgrid.FacetGrid at 0x176a29f7790>"
      ]
     },
     "execution_count": 70,
     "metadata": {},
     "output_type": "execute_result"
    },
    {
     "data": {
      "image/png": "[encoded data removed]",
      "text/plain": [
       "<Figure size 427.125x360 with 1 Axes>"
      ]
     },
     "metadata": {
      "needs_background": "light"
     },
     "output_type": "display_data"
    }
   ],
   "source": [
    "sns.catplot(x='Gender', y='Age', kind='box', hue='TrickOrTreat', data=candyDF)"
   ]
  },
  {
   "cell_type": "markdown",
   "metadata": {},
   "source": [
    "## Violin Plot"
   ]
  },
  {
   "cell_type": "markdown",
   "metadata": {},
   "source": [
    "Same data as the previous box plot, but in a violin format, condensed (split) to save space, and with lines added to represent the data points:"
   ]
  },
  {
   "cell_type": "code",
   "execution_count": 71,
   "metadata": {},
   "outputs": [
    {
     "data": {
      "text/plain": [
       "<seaborn.axisgrid.FacetGrid at 0x176a2e2f670>"
      ]
     },
     "execution_count": 71,
     "metadata": {},
     "output_type": "execute_result"
    },
    {
     "data": {
      "image/png": "[encoded data removed]",
      "text/plain": [
       "<Figure size 427.125x360 with 1 Axes>"
      ]
     },
     "metadata": {
      "needs_background": "light"
     },
     "output_type": "display_data"
    }
   ],
   "source": [
    "sns.catplot(x='Gender', y='Age', kind='violin', hue='TrickOrTreat',\n",
    "            split=True, inner='stick', data=candyDF)"
   ]
  },
  {
   "cell_type": "markdown",
   "metadata": {},
   "source": [
    "## Bar Chart"
   ]
  },
  {
   "cell_type": "markdown",
   "metadata": {},
   "source": [
    "Nerds:"
   ]
  },
  {
   "cell_type": "code",
   "execution_count": 72,
   "metadata": {},
   "outputs": [
    {
     "data": {
      "text/plain": [
       "<seaborn.axisgrid.FacetGrid at 0x176a286b640>"
      ]
     },
     "execution_count": 72,
     "metadata": {},
     "output_type": "execute_result"
    },
    {
     "data": {
      "image/png": "[encoded data removed]",
      "text/plain": [
       "<Figure size 360x360 with 1 Axes>"
      ]
     },
     "metadata": {
      "needs_background": "light"
     },
     "output_type": "display_data"
    }
   ],
   "source": [
    "sns.catplot(x=' [Nerds]', kind='count', data=candyDF)"
   ]
  },
  {
   "cell_type": "markdown",
   "metadata": {},
   "source": [
    "Twix:"
   ]
  },
  {
   "cell_type": "code",
   "execution_count": 73,
   "metadata": {},
   "outputs": [
    {
     "data": {
      "text/plain": [
       "<seaborn.axisgrid.FacetGrid at 0x176a3f0fb80>"
      ]
     },
     "execution_count": 73,
     "metadata": {},
     "output_type": "execute_result"
    },
    {
     "data": {
      "image/png": "[encoded data removed]",
      "text/plain": [
       "<Figure size 360x360 with 1 Axes>"
      ]
     },
     "metadata": {
      "needs_background": "light"
     },
     "output_type": "display_data"
    }
   ],
   "source": [
    "sns.catplot(x=' [Twix]', kind='count', data=candyDF)"
   ]
  },
  {
   "cell_type": "markdown",
   "metadata": {},
   "source": [
    "Of the people surveyed, it would appear Twix are more popular than Nerds."
   ]
  },
  {
   "cell_type": "code",
   "execution_count": null,
   "metadata": {},
   "outputs": [],
   "source": []
  }
 ],
 "metadata": {
  "kernelspec": {
   "display_name": "Python 3",
   "language": "python",
   "name": "python3"
  },
  "language_info": {
   "codemirror_mode": {
    "name": "ipython",
    "version": 3
   },
   "file_extension": ".py",
   "mimetype": "text/x-python",
   "name": "python",
   "nbconvert_exporter": "python",
   "pygments_lexer": "ipython3",
   "version": "3.8.5"
  }
 },
 "nbformat": 4,
 "nbformat_minor": 4
}
