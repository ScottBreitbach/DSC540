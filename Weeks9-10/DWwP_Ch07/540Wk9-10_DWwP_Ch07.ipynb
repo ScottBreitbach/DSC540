{
 "cells": [
  {
   "cell_type": "markdown",
   "metadata": {},
   "source": [
    "# Ch 7: Advanced Web Scraping and Data Gathering"
   ]
  },
  {
   "cell_type": "code",
   "execution_count": 1,
   "metadata": {},
   "outputs": [],
   "source": [
    "import pandas as pd\n",
    "import requests\n",
    "from bs4 import BeautifulSoup\n",
    "\n",
    "# XML\n",
    "import xml.etree.ElementTree as ET\n",
    "import urllib.request, urllib.parse, urllib.error\n",
    "\n",
    "# APIs\n",
    "import urllib.request, urllib.parse\n",
    "from urllib.error import HTTPError, URLError\n",
    "import json\n",
    "import pandas as pd\n",
    "\n",
    "# RegEx\n",
    "import re"
   ]
  },
  {
   "cell_type": "markdown",
   "metadata": {},
   "source": [
    "Learning Objectives:\n",
    "* Make use of `requests` and `BeautifulSoup` to read various web pges and gather data from them\n",
    "* Perform read operations on XML files and the web using an Application Program Interface (API)\n",
    "* Make use of regex techniques to scrape seful information from a large and messy text corpus"
   ]
  },
  {
   "cell_type": "markdown",
   "metadata": {},
   "source": [
    "## The Basics of Web Scaping and the Beautiful Soup Library"
   ]
  },
  {
   "cell_type": "markdown",
   "metadata": {},
   "source": [
    "### Exercise 81: Using the `requests` Library to Get a Response from the Wikipedia Home Page"
   ]
  },
  {
   "cell_type": "markdown",
   "metadata": {},
   "source": [
    "#### 1) Import the `requests` library"
   ]
  },
  {
   "cell_type": "code",
   "execution_count": 2,
   "metadata": {},
   "outputs": [],
   "source": [
    "import requests"
   ]
  },
  {
   "cell_type": "markdown",
   "metadata": {},
   "source": [
    "#### 2) Assign the home page URL to a variable, **wiki_home**:"
   ]
  },
  {
   "cell_type": "code",
   "execution_count": 3,
   "metadata": {},
   "outputs": [],
   "source": [
    "wikiHome = 'https://en.wikipedia.org/wiki/Main_Page'"
   ]
  },
  {
   "cell_type": "markdown",
   "metadata": {},
   "source": [
    "#### 3) Use the `.get()` method from the **requests** library to get a response from the page:"
   ]
  },
  {
   "cell_type": "code",
   "execution_count": 4,
   "metadata": {},
   "outputs": [],
   "source": [
    "response = requests.get(wikiHome)"
   ]
  },
  {
   "cell_type": "markdown",
   "metadata": {},
   "source": [
    "#### 4) Get info about the response object:"
   ]
  },
  {
   "cell_type": "code",
   "execution_count": 5,
   "metadata": {},
   "outputs": [
    {
     "data": {
      "text/plain": [
       "requests.models.Response"
      ]
     },
     "execution_count": 5,
     "metadata": {},
     "output_type": "execute_result"
    }
   ],
   "source": [
    "type(response)"
   ]
  },
  {
   "cell_type": "markdown",
   "metadata": {},
   "source": [
    "### Exercise 82: Checking the Status of the Web Request"
   ]
  },
  {
   "cell_type": "markdown",
   "metadata": {},
   "source": [
    "#### 1) Create a `status_check` function:"
   ]
  },
  {
   "cell_type": "code",
   "execution_count": 6,
   "metadata": {},
   "outputs": [],
   "source": [
    "def statusCheck(r):\n",
    "    if r.status_code==200:\n",
    "        print('Success!')\n",
    "        return 1\n",
    "    else:\n",
    "        print('Failed!')\n",
    "        return -1\n",
    "# returning either 1 or -1 is important"
   ]
  },
  {
   "cell_type": "markdown",
   "metadata": {},
   "source": [
    "#### 2) Check the response using the function:"
   ]
  },
  {
   "cell_type": "code",
   "execution_count": 7,
   "metadata": {},
   "outputs": [
    {
     "name": "stdout",
     "output_type": "stream",
     "text": [
      "Success!\n"
     ]
    },
    {
     "data": {
      "text/plain": [
       "1"
      ]
     },
     "execution_count": 7,
     "metadata": {},
     "output_type": "execute_result"
    }
   ],
   "source": [
    "statusCheck(response)"
   ]
  },
  {
   "cell_type": "markdown",
   "metadata": {},
   "source": [
    "### Checking the Encoding of the Web Page"
   ]
  },
  {
   "cell_type": "code",
   "execution_count": 8,
   "metadata": {},
   "outputs": [],
   "source": [
    "def encodingCheck(r):\n",
    "    return (r.encoding)"
   ]
  },
  {
   "cell_type": "code",
   "execution_count": 9,
   "metadata": {},
   "outputs": [
    {
     "data": {
      "text/plain": [
       "'UTF-8'"
      ]
     },
     "execution_count": 9,
     "metadata": {},
     "output_type": "execute_result"
    }
   ],
   "source": [
    "encodingCheck(response)"
   ]
  },
  {
   "cell_type": "markdown",
   "metadata": {},
   "source": [
    "### Exercise 83: Creating a Function to Decode the Contents of the Response and Check its Length"
   ]
  },
  {
   "cell_type": "markdown",
   "metadata": {},
   "source": [
    "#### 1) Write a function to decode the contents of the response:"
   ]
  },
  {
   "cell_type": "code",
   "execution_count": 10,
   "metadata": {},
   "outputs": [],
   "source": [
    "def decodeContent(r, encoding):\n",
    "    return(r.content.decode(encoding))\n",
    "\n",
    "contents = decodeContent(response, encodingCheck(response))"
   ]
  },
  {
   "cell_type": "markdown",
   "metadata": {},
   "source": [
    "#### 2) Check the type of decoded object:"
   ]
  },
  {
   "cell_type": "code",
   "execution_count": 11,
   "metadata": {},
   "outputs": [
    {
     "data": {
      "text/plain": [
       "str"
      ]
     },
     "execution_count": 11,
     "metadata": {},
     "output_type": "execute_result"
    }
   ],
   "source": [
    "type(contents)"
   ]
  },
  {
   "cell_type": "markdown",
   "metadata": {},
   "source": [
    "#### 3) Check the length of the returned object; try printing a bit:"
   ]
  },
  {
   "cell_type": "code",
   "execution_count": 12,
   "metadata": {},
   "outputs": [
    {
     "data": {
      "text/plain": [
       "79006"
      ]
     },
     "execution_count": 12,
     "metadata": {},
     "output_type": "execute_result"
    }
   ],
   "source": [
    "len(contents)"
   ]
  },
  {
   "cell_type": "code",
   "execution_count": 13,
   "metadata": {},
   "outputs": [
    {
     "name": "stdout",
     "output_type": "stream",
     "text": [
      "<!DOCTYPE html>\n",
      "<html class=\"client-nojs\" lang=\"en\" dir=\"ltr\">\n",
      "<head>\n",
      "<meta charset=\"UTF-8\"/>\n",
      "<title>Wikipedia, the free encyclopedia</title>\n",
      "<script>document.documentElement.className=\"client-js\";RLCONF={\"wgBreakFrames\":!1,\"wgSeparatorTransformTable\":[\"\",\"\"],\"wgDigitTransformTable\":[\"\",\"\"],\"wgDefaultDateFormat\":\"dmy\",\"wgMonthNames\":[\"\",\"January\",\"February\",\"March\",\"April\",\"May\",\"June\",\"July\",\"August\",\"September\",\"October\",\"November\",\"December\"],\"wgRequestId\":\"YCRUw3i5H@LShKhoUu0BgQAAAAk\",\"wgCSPNonce\":!1,\"wgCanonicalNamespace\":\"\",\"wgCanonicalSpecialPageName\":!1,\"wgNamespaceNumber\":0,\"wgPageName\":\"Main_Page\",\"wgTitle\":\"Main Page\",\"wgCurRevisionId\":1004593520,\"wgRevisionId\":1004593520,\"wgArticleId\":15580374,\"wgIsArticle\":!0,\"wgIsRedirect\":!1,\"wgAction\":\"view\",\"wgUserName\":null,\"wgUserGroups\":[\"*\"],\"wgCategories\":[],\"wgPageContentLanguage\":\"en\",\"wgPageContentModel\":\"wikitext\",\"wgRelevantPageName\":\"Main_Page\",\"wgRelevantArticleId\":15580374,\"wgIsProbablyEditable\":!1,\"wgRelevantPageIsProbabl\n"
     ]
    }
   ],
   "source": [
    "print(contents[:1000])"
   ]
  },
  {
   "cell_type": "markdown",
   "metadata": {},
   "source": [
    "### Exercise 84: Extracting Human-Readable Text From a `BeautifulSoup` Object"
   ]
  },
  {
   "cell_type": "markdown",
   "metadata": {},
   "source": [
    "BeautifulSoup has a `.text` method that can be used to just extract text."
   ]
  },
  {
   "cell_type": "markdown",
   "metadata": {},
   "source": [
    "#### 1) Import the package & pass the entire HTML string for parsing:"
   ]
  },
  {
   "cell_type": "code",
   "execution_count": 14,
   "metadata": {},
   "outputs": [],
   "source": [
    "from bs4 import BeautifulSoup"
   ]
  },
  {
   "cell_type": "code",
   "execution_count": 15,
   "metadata": {},
   "outputs": [],
   "source": [
    "soup = BeautifulSoup(contents, 'html.parser')"
   ]
  },
  {
   "cell_type": "markdown",
   "metadata": {},
   "source": [
    "#### 2) Extract the text:"
   ]
  },
  {
   "cell_type": "code",
   "execution_count": 16,
   "metadata": {},
   "outputs": [],
   "source": [
    "txtDump = soup.text"
   ]
  },
  {
   "cell_type": "markdown",
   "metadata": {},
   "source": [
    "#### 3) Check the type:"
   ]
  },
  {
   "cell_type": "code",
   "execution_count": 17,
   "metadata": {},
   "outputs": [
    {
     "data": {
      "text/plain": [
       "str"
      ]
     },
     "execution_count": 17,
     "metadata": {},
     "output_type": "execute_result"
    }
   ],
   "source": [
    "type(txtDump)"
   ]
  },
  {
   "cell_type": "markdown",
   "metadata": {},
   "source": [
    "#### 4) Check the length:"
   ]
  },
  {
   "cell_type": "code",
   "execution_count": 18,
   "metadata": {},
   "outputs": [
    {
     "data": {
      "text/plain": [
       "8773"
      ]
     },
     "execution_count": 18,
     "metadata": {},
     "output_type": "execute_result"
    }
   ],
   "source": [
    "len(txtDump)"
   ]
  },
  {
   "cell_type": "markdown",
   "metadata": {},
   "source": [
    "Notice this is much shorter than the original HTML."
   ]
  },
  {
   "cell_type": "markdown",
   "metadata": {},
   "source": [
    "#### 6) Print a portion:"
   ]
  },
  {
   "cell_type": "code",
   "execution_count": 19,
   "metadata": {},
   "outputs": [
    {
     "name": "stdout",
     "output_type": "stream",
     "text": [
      "gence Agency. It followed Operation PBSuccess, which led to the overthrow of Guatemalan president Jacobo Árbenz (pictured) in June 1954 and ended the Guatemalan Revolution. PBHistory attempted to use documents left behind by Árbenz's government, police agencies, trade unions and the communist Guatemalan Party of Labour to demonstrate that the Guatemalan government had been under the influence of the Soviet Union. The documents uncovered by the operation proved useful to the Guatemalan intelligence agencies, enabling the creation of a register of suspected communists. The operation did not find evidence that the Guatemalan communists were controlled by the Soviet government, and could not counter the narrative that the United States had toppled the Árbenz government to serve the interests of the United Fruit Company. (Full article...)\n",
      "\n",
      "\n",
      "Recently featured: \n",
      "Apollo 14\n",
      "Elizabeth Raffald\n",
      "Margate F.C.\n",
      "\n",
      "\n",
      "Archive\n",
      "By email\n",
      "More featured articles\n",
      "\n",
      "Did you know ...\n",
      "\n",
      "\n",
      "\n",
      "Gwendolyn Garcia dancing to \n"
     ]
    }
   ],
   "source": [
    "print(txtDump[500:1500])"
   ]
  },
  {
   "cell_type": "markdown",
   "metadata": {},
   "source": [
    "### Extracting Text from a Section"
   ]
  },
  {
   "cell_type": "markdown",
   "metadata": {},
   "source": [
    "Set indices by identifying text that comes before and after section of interest:"
   ]
  },
  {
   "cell_type": "code",
   "execution_count": 20,
   "metadata": {},
   "outputs": [],
   "source": [
    "idx1 = txtDump.find(\"From today's featured article\")\n",
    "idx2 = txtDump.find(\"Recently featured\")"
   ]
  },
  {
   "cell_type": "code",
   "execution_count": 21,
   "metadata": {},
   "outputs": [
    {
     "data": {
      "text/plain": [
       "(349, 1348)"
      ]
     },
     "execution_count": 21,
     "metadata": {},
     "output_type": "execute_result"
    }
   ],
   "source": [
    "idx1, idx2"
   ]
  },
  {
   "cell_type": "code",
   "execution_count": 22,
   "metadata": {},
   "outputs": [
    {
     "name": "stdout",
     "output_type": "stream",
     "text": [
      "\n",
      "\n",
      "\n",
      "Jacobo Árbenz\n",
      "\n",
      "Operation PBHistory was a covert operation carried out in Guatemala by the United States Central Intelligence Agency. It followed Operation PBSuccess, which led to the overthrow of Guatemalan president Jacobo Árbenz (pictured) in June 1954 and ended the Guatemalan Revolution. PBHistory attempted to use documents left behind by Árbenz's government, police agencies, trade unions and the communist Guatemalan Party of Labour to demonstrate that the Guatemalan government had been under the influence of the Soviet Union. The documents uncovered by the operation proved useful to the Guatemalan intelligence agencies, enabling the creation of a register of suspected communists. The operation did not find evidence that the Guatemalan communists were controlled by the Soviet government, and could not counter the narrative that the United States had toppled the Árbenz government to serve the interests of the United Fruit Company. (Full article...)\n",
      "\n",
      "\n",
      "\n"
     ]
    }
   ],
   "source": [
    "print(txtDump[idx1+len(\"From today's featured article\"):idx2])"
   ]
  },
  {
   "cell_type": "markdown",
   "metadata": {},
   "source": [
    "### Extract Important Historical Events that Happened on Today's Date"
   ]
  },
  {
   "cell_type": "markdown",
   "metadata": {},
   "source": [
    "Previous method won't work because there is no fixed end text. :("
   ]
  },
  {
   "cell_type": "code",
   "execution_count": 23,
   "metadata": {},
   "outputs": [
    {
     "name": "stdout",
     "output_type": "stream",
     "text": [
      "\n",
      "\n",
      "February 10\n",
      "\n",
      "\n",
      "\n",
      "\n",
      "HMAS Melbourne\n",
      "\n",
      "\n",
      "1355 – A tavern dispute between University of Oxford students and townspeople became a riot that left about 90 people dead.\n",
      "1814 – War of the Sixth Coalition: A French army led by Napoleon effectively destroyed a small Russian corps commanded by Zakhar Dmitrievich Olsufiev.\n",
      "1919 – The Inter-Allied Women's Conference opened as a counterpart to the Paris Peace Conference, marking the first time that women were allowed formal participation in an international treaty negotiation.\n",
      "1964 – The Royal Australian Navy aircraft carrier Melbourne (pictured) collided with and sank the destroyer Voyager in Jervis Bay, killing 82 crew members aboard the latter ship.\n",
      "2008 – The Namdaemun gate in Seoul, the first of South Korea's National Treasures, was severely damaged by arson.\n",
      "Clare of Rimini  (d. 1346)Ira Remsen  (b. 1846)Trevor Bailey  (d. 2011)\n",
      "\n",
      "More anniversaries: \n",
      "February 9\n",
      "February 10\n",
      "February 11\n",
      "\n",
      "\n",
      "Archive\n",
      "By email\n",
      "List of days of the year\n",
      "\n",
      "\n",
      "\n",
      "\n",
      "Tod\n"
     ]
    }
   ],
   "source": [
    "idx3=txtDump.find(\"On this day\")\n",
    "print(txtDump[idx3+len(\"On this day\"):idx3+1000])"
   ]
  },
  {
   "cell_type": "markdown",
   "metadata": {},
   "source": [
    "Thankfully BS offers other methods."
   ]
  },
  {
   "cell_type": "markdown",
   "metadata": {},
   "source": [
    "### Exercise 85: Using Advanced BS4 Techniques to Extract Relevant Text"
   ]
  },
  {
   "cell_type": "markdown",
   "metadata": {},
   "source": [
    "Inspect Element (F12) to find the relevant section of HTML. Here, a particular \\<ul> block."
   ]
  },
  {
   "cell_type": "markdown",
   "metadata": {},
   "source": [
    "The id for the \\<div> tag containing the \\<ul> block is \"mp-otd\"  \n",
    "(main page - on this day?)"
   ]
  },
  {
   "cell_type": "markdown",
   "metadata": {},
   "source": [
    "#### 1) Use the `.find_all()` method from bs4 to find and extract the text associated with that \\<div> element."
   ]
  },
  {
   "cell_type": "markdown",
   "metadata": {},
   "source": [
    "#### 2) Create an empty list and append the text from the **NavigableString** class as we traverse the page:"
   ]
  },
  {
   "cell_type": "code",
   "execution_count": 24,
   "metadata": {},
   "outputs": [],
   "source": [
    "textList = []\n",
    "\n",
    "for d in soup.find_all('div'):\n",
    "    if (d.get('id')=='mp-otd'):\n",
    "        for i in d.find_all('ul'):\n",
    "            textList.append(i.text)"
   ]
  },
  {
   "cell_type": "markdown",
   "metadata": {},
   "source": [
    "#### 3) Examine the **textList**, dividing the sections, to find our text:"
   ]
  },
  {
   "cell_type": "code",
   "execution_count": 25,
   "metadata": {},
   "outputs": [
    {
     "name": "stdout",
     "output_type": "stream",
     "text": [
      "1355 – A tavern dispute between University of Oxford students and townspeople became a riot that left about 90 people dead.\n",
      "1814 – War of the Sixth Coalition: A French army led by Napoleon effectively destroyed a small Russian corps commanded by Zakhar Dmitrievich Olsufiev.\n",
      "1919 – The Inter-Allied Women's Conference opened as a counterpart to the Paris Peace Conference, marking the first time that women were allowed formal participation in an international treaty negotiation.\n",
      "1964 – The Royal Australian Navy aircraft carrier Melbourne (pictured) collided with and sank the destroyer Voyager in Jervis Bay, killing 82 crew members aboard the latter ship.\n",
      "2008 – The Namdaemun gate in Seoul, the first of South Korea's National Treasures, was severely damaged by arson.\n",
      "--------------------------------------------------------------------------------\n",
      "Clare of Rimini  (d. 1346)Ira Remsen  (b. 1846)Trevor Bailey  (d. 2011)\n",
      "--------------------------------------------------------------------------------\n",
      "February 9\n",
      "February 10\n",
      "February 11\n",
      "--------------------------------------------------------------------------------\n",
      "Archive\n",
      "By email\n",
      "List of days of the year\n",
      "--------------------------------------------------------------------------------\n"
     ]
    }
   ],
   "source": [
    "for i in textList:\n",
    "    print(i)\n",
    "    print('-'*80)"
   ]
  },
  {
   "cell_type": "markdown",
   "metadata": {},
   "source": [
    "Looks like ours is the first section!"
   ]
  },
  {
   "cell_type": "markdown",
   "metadata": {},
   "source": [
    "### Exercise 86: Creating a Compact Function to Extract the \"On this Day\" Text from the Wikipedia Home Page"
   ]
  },
  {
   "cell_type": "markdown",
   "metadata": {},
   "source": [
    "#### 1/2) Create a function that performs the entire task of extracting the text of the \"On this Day\" section:"
   ]
  },
  {
   "cell_type": "code",
   "execution_count": 26,
   "metadata": {},
   "outputs": [],
   "source": [
    "def wikiOnThisDay(url=\"https://en.wikipedia.org/wiki/Main_Page\"):\n",
    "    import requests\n",
    "    from bs4 import BeautifulSoup\n",
    "    \n",
    "    wikiHome = str(url)\n",
    "    response = requests.get(wikiHome)\n",
    "    \n",
    "    def statusCheck(r):\n",
    "        if r.status_code==200:\n",
    "            return 1\n",
    "        else:\n",
    "            return -1\n",
    "        \n",
    "    def decodeContent(r, encoding):\n",
    "        return(r.content.decode(encoding))\n",
    "    \n",
    "    def encodingCheck(r):\n",
    "        return (r.encoding)\n",
    "    \n",
    "    status = statusCheck(response)\n",
    "    \n",
    "    if status==1:\n",
    "        contents = decodeContent(response, encodingCheck(response))\n",
    "    else:\n",
    "        print(\"Sorry, could not reach the web page!\")\n",
    "        return -1\n",
    "    \n",
    "    soup = BeautifulSoup(contents, 'html.parser')\n",
    "    \n",
    "    textList = []\n",
    "    for d in soup.find_all('div'):\n",
    "        if (d.get('id')=='mp-otd'):\n",
    "            for i in d.find_all('ul'):\n",
    "                textList.append(i.text)\n",
    "    return (textList[0])"
   ]
  },
  {
   "cell_type": "markdown",
   "metadata": {},
   "source": [
    "#### 3) Note that it prints an error mesage if the request fails:"
   ]
  },
  {
   "cell_type": "code",
   "execution_count": 27,
   "metadata": {},
   "outputs": [
    {
     "name": "stdout",
     "output_type": "stream",
     "text": [
      "Sorry, could not reach the web page!\n",
      "-1\n"
     ]
    }
   ],
   "source": [
    "print(wikiOnThisDay(\"https://en.wikipedia.org/wiki/Main_Page1\"))"
   ]
  },
  {
   "cell_type": "code",
   "execution_count": 28,
   "metadata": {},
   "outputs": [
    {
     "name": "stdout",
     "output_type": "stream",
     "text": [
      "1355 – A tavern dispute between University of Oxford students and townspeople became a riot that left about 90 people dead.\n",
      "1814 – War of the Sixth Coalition: A French army led by Napoleon effectively destroyed a small Russian corps commanded by Zakhar Dmitrievich Olsufiev.\n",
      "1919 – The Inter-Allied Women's Conference opened as a counterpart to the Paris Peace Conference, marking the first time that women were allowed formal participation in an international treaty negotiation.\n",
      "1964 – The Royal Australian Navy aircraft carrier Melbourne (pictured) collided with and sank the destroyer Voyager in Jervis Bay, killing 82 crew members aboard the latter ship.\n",
      "2008 – The Namdaemun gate in Seoul, the first of South Korea's National Treasures, was severely damaged by arson.\n"
     ]
    }
   ],
   "source": [
    "print(wikiOnThisDay())"
   ]
  },
  {
   "cell_type": "markdown",
   "metadata": {},
   "source": [
    "Neat beans!"
   ]
  },
  {
   "cell_type": "markdown",
   "metadata": {},
   "source": [
    "## Reading Data from XML"
   ]
  },
  {
   "cell_type": "markdown",
   "metadata": {},
   "source": [
    "### Exercise 87: Creating an XML File and Reading XML Element Objects"
   ]
  },
  {
   "cell_type": "markdown",
   "metadata": {},
   "source": [
    "#### 1) Create some XML data:"
   ]
  },
  {
   "cell_type": "code",
   "execution_count": 29,
   "metadata": {},
   "outputs": [],
   "source": [
    "data = '''\n",
    "<person>\n",
    "  <name>Dave</name>\n",
    "  <surname>Piccardo</surname>\n",
    "  <phone type=\"intl\">\n",
    "     +1 742 101 4456\n",
    "   </phone>\n",
    "   <email hide=\"yes\">\n",
    "   dave.p@gmail.com</email>\n",
    "</person>'''"
   ]
  },
  {
   "cell_type": "markdown",
   "metadata": {},
   "source": [
    "#### 2) Take a look at the data:"
   ]
  },
  {
   "cell_type": "code",
   "execution_count": 30,
   "metadata": {},
   "outputs": [
    {
     "data": {
      "text/plain": [
       "'\\n<person>\\n  <name>Dave</name>\\n  <surname>Piccardo</surname>\\n  <phone type=\"intl\">\\n     +1 742 101 4456\\n   </phone>\\n   <email hide=\"yes\">\\n   dave.p@gmail.com</email>\\n</person>'"
      ]
     },
     "execution_count": 30,
     "metadata": {},
     "output_type": "execute_result"
    }
   ],
   "source": [
    "data"
   ]
  },
  {
   "cell_type": "code",
   "execution_count": 31,
   "metadata": {},
   "outputs": [
    {
     "name": "stdout",
     "output_type": "stream",
     "text": [
      "\n",
      "<person>\n",
      "  <name>Dave</name>\n",
      "  <surname>Piccardo</surname>\n",
      "  <phone type=\"intl\">\n",
      "     +1 742 101 4456\n",
      "   </phone>\n",
      "   <email hide=\"yes\">\n",
      "   dave.p@gmail.com</email>\n",
      "</person>\n"
     ]
    }
   ],
   "source": [
    "print(data)"
   ]
  },
  {
   "cell_type": "markdown",
   "metadata": {},
   "source": [
    "#### 3) Read as an **Element** object using the Python XML parser engine using `.fromstring()` method:"
   ]
  },
  {
   "cell_type": "code",
   "execution_count": 32,
   "metadata": {},
   "outputs": [],
   "source": [
    "import xml.etree.ElementTree as ET"
   ]
  },
  {
   "cell_type": "code",
   "execution_count": 33,
   "metadata": {},
   "outputs": [
    {
     "data": {
      "text/plain": [
       "xml.etree.ElementTree.Element"
      ]
     },
     "execution_count": 33,
     "metadata": {},
     "output_type": "execute_result"
    }
   ],
   "source": [
    "tree = ET.fromstring(data)\n",
    "type(tree)"
   ]
  },
  {
   "cell_type": "markdown",
   "metadata": {},
   "source": [
    "### Exercise 88: Finding Various Elements of Data within a Tree (Element)"
   ]
  },
  {
   "cell_type": "markdown",
   "metadata": {},
   "source": [
    "Use `.find()` method to locate data within XM.  \n",
    "Use `.text` to print them.  \n",
    "Use `.get()` to extract a specific attribute."
   ]
  },
  {
   "cell_type": "markdown",
   "metadata": {},
   "source": [
    "#### 1) Use `find` to find **Name**:"
   ]
  },
  {
   "cell_type": "code",
   "execution_count": 34,
   "metadata": {},
   "outputs": [
    {
     "name": "stdout",
     "output_type": "stream",
     "text": [
      "Name: Dave\n"
     ]
    }
   ],
   "source": [
    "print('Name:', tree.find('name').text)"
   ]
  },
  {
   "cell_type": "markdown",
   "metadata": {},
   "source": [
    "#### 2) Use `find` to find **Surame**:"
   ]
  },
  {
   "cell_type": "code",
   "execution_count": 35,
   "metadata": {},
   "outputs": [
    {
     "name": "stdout",
     "output_type": "stream",
     "text": [
      "Surname: Piccardo\n"
     ]
    }
   ],
   "source": [
    "print('Surname:', tree.find('surname').text)"
   ]
  },
  {
   "cell_type": "markdown",
   "metadata": {},
   "source": [
    "#### 3) Use `find` to find **Phone**:"
   ]
  },
  {
   "cell_type": "code",
   "execution_count": 36,
   "metadata": {},
   "outputs": [
    {
     "name": "stdout",
     "output_type": "stream",
     "text": [
      "Phone: \n",
      "     +1 742 101 4456\n",
      "   \n"
     ]
    }
   ],
   "source": [
    "print('Phone:', tree.find('phone').text)"
   ]
  },
  {
   "cell_type": "markdown",
   "metadata": {},
   "source": [
    "Use `.strip()` to strip away extra spaces / blanks."
   ]
  },
  {
   "cell_type": "code",
   "execution_count": 37,
   "metadata": {},
   "outputs": [
    {
     "name": "stdout",
     "output_type": "stream",
     "text": [
      "Phone: +1 742 101 4456\n"
     ]
    }
   ],
   "source": [
    "print('Phone:', tree.find('phone').text.strip())"
   ]
  },
  {
   "cell_type": "markdown",
   "metadata": {},
   "source": [
    "#### 4) Use `find` to find **email status** and **actual email**:\n",
    "Note `.get()` method to extract status."
   ]
  },
  {
   "cell_type": "code",
   "execution_count": 38,
   "metadata": {},
   "outputs": [
    {
     "name": "stdout",
     "output_type": "stream",
     "text": [
      "\n",
      "<person>\n",
      "  <name>Dave</name>\n",
      "  <surname>Piccardo</surname>\n",
      "  <phone type=\"intl\">\n",
      "     +1 742 101 4456\n",
      "   </phone>\n",
      "   <email hide=\"yes\">\n",
      "   dave.p@gmail.com</email>\n",
      "</person>\n"
     ]
    }
   ],
   "source": [
    "print(data)"
   ]
  },
  {
   "cell_type": "code",
   "execution_count": 39,
   "metadata": {},
   "outputs": [
    {
     "name": "stdout",
     "output_type": "stream",
     "text": [
      "Email hidden: yes\n",
      "Email: dave.p@gmail.com\n"
     ]
    }
   ],
   "source": [
    "print('Email hidden:', tree.find('email').get('hide'))\n",
    "print('Email:', tree.find('email').text.strip())"
   ]
  },
  {
   "cell_type": "code",
   "execution_count": 40,
   "metadata": {},
   "outputs": [
    {
     "data": {
      "text/plain": [
       "'intl'"
      ]
     },
     "execution_count": 40,
     "metadata": {},
     "output_type": "execute_result"
    }
   ],
   "source": [
    "tree.find('phone').get('type')"
   ]
  },
  {
   "cell_type": "markdown",
   "metadata": {},
   "source": [
    "### Reading from a Local XML File into an ElementTree Object using `.parse()` method:"
   ]
  },
  {
   "cell_type": "code",
   "execution_count": 41,
   "metadata": {},
   "outputs": [
    {
     "data": {
      "text/plain": [
       "xml.etree.ElementTree.ElementTree"
      ]
     },
     "execution_count": 41,
     "metadata": {},
     "output_type": "execute_result"
    }
   ],
   "source": [
    "tree2 = ET.parse('xml1.xml')\n",
    "type(tree2)"
   ]
  },
  {
   "cell_type": "markdown",
   "metadata": {},
   "source": [
    "Note the **ElementTree** object (compared to the **Element** produced by `.fromstring()`)"
   ]
  },
  {
   "cell_type": "markdown",
   "metadata": {},
   "source": [
    "### Exercise 89: Traversing the Tree, Finding the Root, and Exploring all Child Notes and their Tags and Attributes"
   ]
  },
  {
   "cell_type": "markdown",
   "metadata": {},
   "source": [
    "#### 1) Explore tags / attributes using `.getroot()` and `.tag` & `.attrib`:"
   ]
  },
  {
   "cell_type": "code",
   "execution_count": 42,
   "metadata": {},
   "outputs": [],
   "source": [
    "root = tree2.getroot()"
   ]
  },
  {
   "cell_type": "code",
   "execution_count": 43,
   "metadata": {},
   "outputs": [
    {
     "name": "stdout",
     "output_type": "stream",
     "text": [
      "Child tag: country | Child attribute: {'name': 'Liechtenstein'}\n",
      "Child tag: country | Child attribute: {'name': 'Singapore'}\n",
      "Child tag: country | Child attribute: {'name': 'Panama'}\n"
     ]
    }
   ],
   "source": [
    "for child in root:\n",
    "    print('Child tag: {} | Child attribute: {}'.format(child.tag, child.attrib))"
   ]
  },
  {
   "cell_type": "code",
   "execution_count": 44,
   "metadata": {},
   "outputs": [
    {
     "name": "stdout",
     "output_type": "stream",
     "text": [
      "Child tag: country | Child attribute: {'name': 'Liechtenstein'}\n",
      "Child tag: country | Child attribute: {'name': 'Singapore'}\n",
      "Child tag: country | Child attribute: {'name': 'Panama'}\n"
     ]
    }
   ],
   "source": [
    "# Same thing\n",
    "for child in root:\n",
    "    print (\"Child tag:\",child.tag, \"| Child attribute:\",child.attrib)"
   ]
  },
  {
   "cell_type": "markdown",
   "metadata": {},
   "source": [
    "### Exercise 90: Using the `.text` Method to Extract Meaningful Data\n",
    "Think of the XML tree as a *list of lists* and index accordingly."
   ]
  },
  {
   "cell_type": "markdown",
   "metadata": {},
   "source": [
    "#### 1) Access the element **root[0][2]**:"
   ]
  },
  {
   "cell_type": "code",
   "execution_count": 45,
   "metadata": {},
   "outputs": [
    {
     "data": {
      "text/plain": [
       "<Element 'gdppc' at 0x000002101B6A4130>"
      ]
     },
     "execution_count": 45,
     "metadata": {},
     "output_type": "execute_result"
    }
   ],
   "source": [
    "root[0][2]"
   ]
  },
  {
   "cell_type": "markdown",
   "metadata": {},
   "source": [
    "Here **'gdppc'** is the tag and the GDP/per capita data is attached to the tag."
   ]
  },
  {
   "cell_type": "markdown",
   "metadata": {},
   "source": [
    "#### 2) Use the `.text` method to access the data:"
   ]
  },
  {
   "cell_type": "code",
   "execution_count": 46,
   "metadata": {},
   "outputs": [
    {
     "data": {
      "text/plain": [
       "'141100'"
      ]
     },
     "execution_count": 46,
     "metadata": {},
     "output_type": "execute_result"
    }
   ],
   "source": [
    "root[0][2].text"
   ]
  },
  {
   "cell_type": "markdown",
   "metadata": {},
   "source": [
    "#### 3) Use the `.tag` method to acces **gdppc**:"
   ]
  },
  {
   "cell_type": "code",
   "execution_count": 47,
   "metadata": {},
   "outputs": [
    {
     "data": {
      "text/plain": [
       "'gdppc'"
      ]
     },
     "execution_count": 47,
     "metadata": {},
     "output_type": "execute_result"
    }
   ],
   "source": [
    "root[0][2].tag"
   ]
  },
  {
   "cell_type": "markdown",
   "metadata": {},
   "source": [
    "#### 4) Check **root[0]**:"
   ]
  },
  {
   "cell_type": "code",
   "execution_count": 48,
   "metadata": {},
   "outputs": [
    {
     "data": {
      "text/plain": [
       "<Element 'country' at 0x000002101B69E900>"
      ]
     },
     "execution_count": 48,
     "metadata": {},
     "output_type": "execute_result"
    }
   ],
   "source": [
    "root[0]"
   ]
  },
  {
   "cell_type": "markdown",
   "metadata": {},
   "source": [
    "#### 5) Check the tag:"
   ]
  },
  {
   "cell_type": "code",
   "execution_count": 49,
   "metadata": {},
   "outputs": [
    {
     "data": {
      "text/plain": [
       "'country'"
      ]
     },
     "execution_count": 49,
     "metadata": {},
     "output_type": "execute_result"
    }
   ],
   "source": [
    "root[0].tag"
   ]
  },
  {
   "cell_type": "markdown",
   "metadata": {},
   "source": [
    "#### 6) Access it with the `.attrib` method:"
   ]
  },
  {
   "cell_type": "code",
   "execution_count": 50,
   "metadata": {},
   "outputs": [
    {
     "data": {
      "text/plain": [
       "{'name': 'Liechtenstein'}"
      ]
     },
     "execution_count": 50,
     "metadata": {},
     "output_type": "execute_result"
    }
   ],
   "source": [
    "root[0].attrib"
   ]
  },
  {
   "cell_type": "markdown",
   "metadata": {},
   "source": [
    "We can index this dictionary object by its keys."
   ]
  },
  {
   "cell_type": "code",
   "execution_count": 51,
   "metadata": {},
   "outputs": [
    {
     "data": {
      "text/plain": [
       "'Liechtenstein'"
      ]
     },
     "execution_count": 51,
     "metadata": {},
     "output_type": "execute_result"
    }
   ],
   "source": [
    "root[0].attrib['name']"
   ]
  },
  {
   "cell_type": "markdown",
   "metadata": {},
   "source": [
    "### Extracting and Printing the GDP/Per Capita Information Using a Loop"
   ]
  },
  {
   "cell_type": "markdown",
   "metadata": {},
   "source": [
    "#### 1) Construct a simple dataset by running a loop over the tree:"
   ]
  },
  {
   "cell_type": "code",
   "execution_count": 52,
   "metadata": {},
   "outputs": [
    {
     "name": "stdout",
     "output_type": "stream",
     "text": [
      "Liechtenstein: 141100\n",
      "Singapore: 59900\n",
      "Panama: 13600\n"
     ]
    }
   ],
   "source": [
    "for c in root:\n",
    "    countryName = c.attrib['name']\n",
    "    gdppc = int(c[2].text)\n",
    "    print(\"{}: {}\".format(countryName, gdppc))"
   ]
  },
  {
   "cell_type": "markdown",
   "metadata": {},
   "source": [
    "### Exercise 91: Finding All the Neighboring Countries for each Country Using `.findall()` and Printing Them"
   ]
  },
  {
   "cell_type": "code",
   "execution_count": 53,
   "metadata": {},
   "outputs": [
    {
     "name": "stdout",
     "output_type": "stream",
     "text": [
      "Neighbors\n",
      "-------------------------\n",
      "Austria\n",
      "Switzerland\n",
      "\n",
      "\n",
      "Neighbors\n",
      "-------------------------\n",
      "Malaysia\n",
      "\n",
      "\n",
      "Neighbors\n",
      "-------------------------\n",
      "Costa Rica\n",
      "Colombia\n",
      "\n",
      "\n"
     ]
    }
   ],
   "source": [
    "for c in root:\n",
    "    ne = c.findall('neighbor')  # Find all the neighbors\n",
    "    print('Neighbors\\n'+'-'*25)\n",
    "    for i in ne:  # Iterate over the neighbors and print their 'name' attribute\n",
    "        print(i.attrib['name'])\n",
    "    print('\\n')"
   ]
  },
  {
   "cell_type": "markdown",
   "metadata": {},
   "source": [
    "Let's try something..."
   ]
  },
  {
   "cell_type": "code",
   "execution_count": 54,
   "metadata": {},
   "outputs": [
    {
     "name": "stdout",
     "output_type": "stream",
     "text": [
      "Liechtenstein's Neighbors\n",
      "-------------------------\n",
      "Austria\n",
      "Switzerland\n",
      "\n",
      "\n",
      "Singapore's Neighbors\n",
      "-------------------------\n",
      "Malaysia\n",
      "\n",
      "\n",
      "Panama's Neighbors\n",
      "-------------------------\n",
      "Costa Rica\n",
      "Colombia\n",
      "\n",
      "\n"
     ]
    }
   ],
   "source": [
    "for c in root:\n",
    "    countryName = c.attrib['name']\n",
    "    ne = c.findall('neighbor')  # Find all the neighbors\n",
    "    print(\"{}'s Neighbors\\n\".format(countryName)+'-'*25)\n",
    "    for i in ne:  # Iterate over the neighbors and print their 'name' attribute\n",
    "        print(i.attrib['name'])\n",
    "    print('\\n')"
   ]
  },
  {
   "cell_type": "markdown",
   "metadata": {},
   "source": [
    "### Exercise 92: A Simple Demo of Using XML Data Obtained by Web Scraping\n",
    "Using **urllib**, `.parse.urlencode()`, `.request.urlopen()`, `.read().decode()`"
   ]
  },
  {
   "cell_type": "markdown",
   "metadata": {},
   "source": [
    "#### 1) Read a recipe from recipepuppy.com:"
   ]
  },
  {
   "cell_type": "code",
   "execution_count": 55,
   "metadata": {},
   "outputs": [],
   "source": [
    "import urllib.request, urllib.parse, urllib.error"
   ]
  },
  {
   "cell_type": "code",
   "execution_count": 56,
   "metadata": {},
   "outputs": [],
   "source": [
    "serviceurl = 'http://www.recipepuppy.com/api/?'"
   ]
  },
  {
   "cell_type": "code",
   "execution_count": 57,
   "metadata": {},
   "outputs": [
    {
     "name": "stdin",
     "output_type": "stream",
     "text": [
      "Enter the name of a food item (enter 'quit' to quit): boot gelatin\n"
     ]
    },
    {
     "name": "stdout",
     "output_type": "stream",
     "text": [
      "Retrieved 2160 characters.\n"
     ]
    }
   ],
   "source": [
    "item = str(input('Enter the name of a food item (enter \\'quit\\' to quit):'))\n",
    "url = serviceurl + urllib.parse.urlencode({'q':item})+'&p=1&format=xml'\n",
    "uh = urllib.request.urlopen(url)\n",
    "data = uh.read().decode()  # the string of XML data from the site\n",
    "print('Retrieved {} characters.'.format(len(data)))\n",
    "tree3 = ET.fromstring(data)"
   ]
  },
  {
   "cell_type": "code",
   "execution_count": 58,
   "metadata": {},
   "outputs": [],
   "source": [
    "# print(data[:500])"
   ]
  },
  {
   "cell_type": "markdown",
   "metadata": {},
   "source": [
    "##### Break it down a little:"
   ]
  },
  {
   "cell_type": "code",
   "execution_count": 59,
   "metadata": {},
   "outputs": [],
   "source": [
    "# serviceurl"
   ]
  },
  {
   "cell_type": "code",
   "execution_count": 60,
   "metadata": {},
   "outputs": [],
   "source": [
    "# item = str(input('Enter the name of a food item (enter \\'quit\\' to quit):'))\n",
    "# urllib.parse.urlencode({'q':item})+'&p=1&format=xml'"
   ]
  },
  {
   "cell_type": "code",
   "execution_count": 61,
   "metadata": {},
   "outputs": [],
   "source": [
    "# urllib.request.urlopen(serviceurl)"
   ]
  },
  {
   "cell_type": "code",
   "execution_count": 62,
   "metadata": {},
   "outputs": [],
   "source": [
    "# print(urllib.request.urlopen(serviceurl).read().decode()[:500])"
   ]
  },
  {
   "cell_type": "markdown",
   "metadata": {},
   "source": [
    "#### 2) Note: this code asks for user input."
   ]
  },
  {
   "cell_type": "markdown",
   "metadata": {},
   "source": [
    "#### 3) We get back data in XML format and read/decode before converting to an XML tree"
   ]
  },
  {
   "cell_type": "code",
   "execution_count": 63,
   "metadata": {},
   "outputs": [],
   "source": [
    "# data = uh.read().decode()  # the string of XML data from the site\n",
    "# print('Retrieved {} characters.'.format(len(data)))\n",
    "# tree3 = ET.fromstring(data)"
   ]
  },
  {
   "cell_type": "markdown",
   "metadata": {},
   "source": [
    "#### 4) Use `.iter()` method to iterate over nodes under an element:"
   ]
  },
  {
   "cell_type": "code",
   "execution_count": 64,
   "metadata": {},
   "outputs": [
    {
     "name": "stdout",
     "output_type": "stream",
     "text": [
      "\n",
      "\n",
      "\n",
      "\n",
      "Boot Tracks\n",
      "http://www.recipezaar.com/Boot-Tracks-260683\n",
      "vegetable oil, cocoa powder, powdered sugar, eggs, espresso, sugar, butter, vanilla extract, flour\n",
      "\n",
      "\n",
      "Blueberry Gelatin Salad\n",
      "http://allrecipes.com/Recipe/Blueberry-Gelatin-Salad/Detail.aspx\n",
      "sour cream, vanilla extract, water, sugar\n",
      "\n",
      "\n",
      "Orange Carrot Gelatin Salad\n",
      "http://allrecipes.com/Recipe/Orange-Carrot-Gelatin-Salad/Detail.aspx\n",
      "apple cider vinegar, carrot, fruit cocktail, mayonnaise, water\n",
      "\n",
      "\n",
      "Red 'n' Green Gelatin\n",
      "http://allrecipes.com/Recipe/Red-n-Green-Gelatin/Detail.aspx\n",
      "cherry pie filling, marshmallow, water\n",
      "\n",
      "\n",
      "Fruit-Nut Gelatin Salad\n",
      "http://allrecipes.com/Recipe/Fruit-Nut-Gelatin-Salad/Detail.aspx\n",
      "celery, heavy cream, pimento, pineapple, walnut\n",
      "\n",
      "\n",
      "Frozen Strawberries Gelatin Pie\n",
      "http://www.recipezaar.com/Frozen-Strawberries-Gelatin-Pie-175253\n",
      "cool whip, strawberries, graham cracker crust, strawberries\n",
      "\n",
      "\n",
      "Cranberry Gelatin Salad\n",
      "http://allrecipes.com/Recipe/Cranberry-Gelatin-Salad/Detail.aspx\n",
      "pecan, pineapple, water\n",
      "\n",
      "\n",
      "Cranberry-Black Cherry Gelatin Salad\n",
      "http://allrecipes.com/Recipe/Cranberry-Black-Cherry-Gelatin-Salad-2/Detail.aspx\n",
      "walnut, water\n",
      "\n",
      "\n",
      "Cranberry-Black Cherry Gelatin Salad\n",
      "http://allrecipes.com/Recipe/Cranberry-Black-Cherry-Gelatin-Salad/Detail.aspx\n",
      "walnut, water\n",
      "\n",
      "\n",
      "Lime Gelatin Salad II\n",
      "http://allrecipes.com/Recipe/Lime-Gelatin-Salad-II/Detail.aspx\n",
      "colby cheese, lemon juice, nuts, pineapple, water, sugar\n"
     ]
    }
   ],
   "source": [
    "for elem in tree3.iter():\n",
    "    print(elem.text)"
   ]
  },
  {
   "cell_type": "markdown",
   "metadata": {},
   "source": [
    "#### 5) Use the `.find` method to search for attributes and extract content.\n",
    "It is important to scan through XML raw string data manually to check which attributes are used."
   ]
  },
  {
   "cell_type": "markdown",
   "metadata": {},
   "source": [
    "#### 6) Print the raw string data:"
   ]
  },
  {
   "cell_type": "code",
   "execution_count": 65,
   "metadata": {},
   "outputs": [
    {
     "name": "stdout",
     "output_type": "stream",
     "text": [
      "<?xml version=\"1.0\"?>\n",
      "<recipes>\n",
      "<recipe>\n",
      "<title>Boot Tracks</title>\n",
      "<href>http://www.recipezaar.com/Boot-Tracks-260683</href>\n",
      "<ingredients>vegetable oil, cocoa powder, powdered sugar, eggs, espresso, sugar, butter, vanilla extract, flour</ingredients>\n",
      "</recipe>\n",
      "<recipe>\n",
      "<title>Blueberry Gelatin Salad</title>\n",
      "<href>http://allrecipes.com/Recipe/Blueberry-Gelatin-Salad/Detail.aspx</href>\n",
      "<ingredients>sour cream, vanilla extract, water, sugar</ingredients>\n",
      "</recipe>\n",
      "<recipe>\n",
      "<title>Orange Carrot Gelatin Salad</title>\n",
      "<href>http://allrecipes.com/Recipe/Orange-Carrot-Gelatin-Salad/Detail.aspx</href>\n",
      "<ingredients>apple cider vinegar, carrot, fruit cocktail, mayonnaise, water</ingredients>\n",
      "</recipe>\n",
      "<recipe>\n",
      "<title>Red 'n' Green Gelatin</title>\n",
      "<href>http://allrecipes.com/Recipe/Red-n-Green-Gelatin/Detail.aspx</href>\n",
      "<ingredients>cherry pie filling, marshmallow, water</ingredients>\n",
      "</recipe>\n",
      "<recipe>\n",
      "<title>Fruit-Nut Gelatin Salad</title>\n",
      "<href>http://allrecipes.com/Recipe/Fruit-Nut-Gelatin-Salad/Detail.aspx</href>\n",
      "<ingredients>celery, heavy cream, pimento, pineapple, walnut</ingredients>\n",
      "</recipe>\n",
      "<recipe>\n",
      "<title>Frozen Strawberries Gelatin Pie</title>\n",
      "<href>http://www.recipezaar.com/Frozen-Strawberries-Gelatin-Pie-175253</href>\n",
      "<ingredients>cool whip, strawberries, graham cracker crust, strawberries</ingredients>\n",
      "</recipe>\n",
      "<recipe>\n",
      "<title>Cranberry Gelatin Salad</title>\n",
      "<href>http://allrecipes.com/Recipe/Cranberry-Gelatin-Salad/Detail.aspx</href>\n",
      "<ingredients>pecan, pineapple, water</ingredients>\n",
      "</recipe>\n",
      "<recipe>\n",
      "<title>Cranberry-Black Cherry Gelatin Salad</title>\n",
      "<href>http://allrecipes.com/Recipe/Cranberry-Black-Cherry-Gelatin-Salad-2/Detail.aspx</href>\n",
      "<ingredients>walnut, water</ingredients>\n",
      "</recipe>\n",
      "<recipe>\n",
      "<title>Cranberry-Black Cherry Gelatin Salad</title>\n",
      "<href>http://allrecipes.com/Recipe/Cranberry-Black-Cherry-Gelatin-Salad/Detail.aspx</href>\n",
      "<ingredients>walnut, water</ingredients>\n",
      "</recipe>\n",
      "<recipe>\n",
      "<title>Lime Gelatin Salad II</title>\n",
      "<href>http://allrecipes.com/Recipe/Lime-Gelatin-Salad-II/Detail.aspx</href>\n",
      "<ingredients>colby cheese, lemon juice, nuts, pineapple, water, sugar</ingredients>\n",
      "</recipe>\n",
      "</recipes>\n"
     ]
    }
   ],
   "source": [
    "print(data)"
   ]
  },
  {
   "cell_type": "markdown",
   "metadata": {},
   "source": [
    "#### 7) Print all the hyperlinks:"
   ]
  },
  {
   "cell_type": "code",
   "execution_count": 66,
   "metadata": {},
   "outputs": [
    {
     "data": {
      "text/plain": [
       "'http://www.recipezaar.com/Boot-Tracks-260683'"
      ]
     },
     "execution_count": 66,
     "metadata": {},
     "output_type": "execute_result"
    }
   ],
   "source": [
    "tree3[0].find('href').text"
   ]
  },
  {
   "cell_type": "code",
   "execution_count": 67,
   "metadata": {},
   "outputs": [
    {
     "data": {
      "text/plain": [
       "'Blueberry Gelatin Salad'"
      ]
     },
     "execution_count": 67,
     "metadata": {},
     "output_type": "execute_result"
    }
   ],
   "source": [
    "tree3[1].find('title').text"
   ]
  },
  {
   "cell_type": "code",
   "execution_count": 68,
   "metadata": {},
   "outputs": [
    {
     "name": "stdout",
     "output_type": "stream",
     "text": [
      "Recipe link for: Boot Tracks\n",
      "http://www.recipezaar.com/Boot-Tracks-260683\n",
      "--------------------------------------------------------------------------------\n",
      "Recipe link for: Blueberry Gelatin Salad\n",
      "http://allrecipes.com/Recipe/Blueberry-Gelatin-Salad/Detail.aspx\n",
      "--------------------------------------------------------------------------------\n",
      "Recipe link for: Orange Carrot Gelatin Salad\n",
      "http://allrecipes.com/Recipe/Orange-Carrot-Gelatin-Salad/Detail.aspx\n",
      "--------------------------------------------------------------------------------\n",
      "Recipe link for: Red 'n' Green Gelatin\n",
      "http://allrecipes.com/Recipe/Red-n-Green-Gelatin/Detail.aspx\n",
      "--------------------------------------------------------------------------------\n",
      "Recipe link for: Fruit-Nut Gelatin Salad\n",
      "http://allrecipes.com/Recipe/Fruit-Nut-Gelatin-Salad/Detail.aspx\n",
      "--------------------------------------------------------------------------------\n",
      "Recipe link for: Frozen Strawberries Gelatin Pie\n",
      "http://www.recipezaar.com/Frozen-Strawberries-Gelatin-Pie-175253\n",
      "--------------------------------------------------------------------------------\n",
      "Recipe link for: Cranberry Gelatin Salad\n",
      "http://allrecipes.com/Recipe/Cranberry-Gelatin-Salad/Detail.aspx\n",
      "--------------------------------------------------------------------------------\n",
      "Recipe link for: Cranberry-Black Cherry Gelatin Salad\n",
      "http://allrecipes.com/Recipe/Cranberry-Black-Cherry-Gelatin-Salad-2/Detail.aspx\n",
      "--------------------------------------------------------------------------------\n",
      "Recipe link for: Cranberry-Black Cherry Gelatin Salad\n",
      "http://allrecipes.com/Recipe/Cranberry-Black-Cherry-Gelatin-Salad/Detail.aspx\n",
      "--------------------------------------------------------------------------------\n",
      "Recipe link for: Lime Gelatin Salad II\n",
      "http://allrecipes.com/Recipe/Lime-Gelatin-Salad-II/Detail.aspx\n",
      "--------------------------------------------------------------------------------\n"
     ]
    }
   ],
   "source": [
    "for e in tree3.iter():\n",
    "    h=e.find('href')\n",
    "    t=e.find('title')\n",
    "    if h!=None and t!=None:\n",
    "        print(\"Recipe link for: {}\".format(t.text))\n",
    "        print(h.text)\n",
    "        print('-'*80)"
   ]
  },
  {
   "cell_type": "markdown",
   "metadata": {},
   "source": [
    "## Reading Data from an API"
   ]
  },
  {
   "cell_type": "code",
   "execution_count": 69,
   "metadata": {},
   "outputs": [],
   "source": [
    "import urllib.request, urllib.parse\n",
    "from urllib.error import HTTPError, URLError\n",
    "import json\n",
    "import pandas as pd"
   ]
  },
  {
   "cell_type": "markdown",
   "metadata": {},
   "source": [
    "### Defining the Base URL (or API Endpoint)"
   ]
  },
  {
   "cell_type": "code",
   "execution_count": 70,
   "metadata": {},
   "outputs": [],
   "source": [
    "serviceURL = 'https://restcountries.eu/rest/v2/name/'"
   ]
  },
  {
   "cell_type": "markdown",
   "metadata": {},
   "source": [
    "### Exercise 93: Defining and Testing a Function to Pull Country Data from an API"
   ]
  },
  {
   "cell_type": "markdown",
   "metadata": {},
   "source": [
    "#### 1) Pull data when we pass the name of a country as an argument."
   ]
  },
  {
   "cell_type": "code",
   "execution_count": 71,
   "metadata": {},
   "outputs": [],
   "source": [
    "url = serviceURL + countryName\n",
    "uh = urllib.request.urlopen(url)"
   ]
  },
  {
   "cell_type": "markdown",
   "metadata": {},
   "source": [
    "#### 2) Define a function:"
   ]
  },
  {
   "cell_type": "code",
   "execution_count": 72,
   "metadata": {},
   "outputs": [],
   "source": [
    "def getCountryData(country):\n",
    "    '''\n",
    "    Function to get data about a country from \"https://restcountries.eu\" API\n",
    "    '''\n",
    "    countryName = str(country)\n",
    "    url = serviceURL + countryName\n",
    "    \n",
    "    try:\n",
    "        uh = urllib.request.urlopen(url)\n",
    "    except HTTPError as e:\n",
    "        print(\"So sorry, but we could not retreive anything on {}\"\n",
    "              .format(countryName))\n",
    "        return None\n",
    "    except URLError as e:\n",
    "        print('Failed to reach a server. You know how it is.')\n",
    "        print(\"Reason: {}\".format(e.reason))\n",
    "        return None\n",
    "    else:\n",
    "        data = uh.read().decode()\n",
    "        print(\"Retrieved data on {}. Total {} characters read.\"\n",
    "             .format(countryName, len(data)))\n",
    "        return data"
   ]
  },
  {
   "cell_type": "markdown",
   "metadata": {},
   "source": [
    "#### 3) Test the function with real and fake country names:"
   ]
  },
  {
   "cell_type": "code",
   "execution_count": 73,
   "metadata": {},
   "outputs": [
    {
     "name": "stdout",
     "output_type": "stream",
     "text": [
      "Retrieved data on Switzerland. Total 1090 characters read.\n"
     ]
    }
   ],
   "source": [
    "countryName = 'Switzerland'\n",
    "data = getCountryData(countryName)"
   ]
  },
  {
   "cell_type": "code",
   "execution_count": 74,
   "metadata": {},
   "outputs": [
    {
     "name": "stdout",
     "output_type": "stream",
     "text": [
      "So sorry, but we could not retreive anything on Cascadia\n"
     ]
    }
   ],
   "source": [
    "countryName1 = 'Cascadia'\n",
    "data1 = getCountryData(countryName1)"
   ]
  },
  {
   "cell_type": "code",
   "execution_count": 75,
   "metadata": {},
   "outputs": [
    {
     "data": {
      "text/plain": [
       "'[{\"name\":\"Switzerland\",\"topLevelDomain\":[\".ch\"],\"alpha2Code\":\"CH\",\"alpha3Code\":\"CHE\",\"callingCodes\":[\"41\"],\"capital\":\"Bern\",\"altSpellings\":[\"CH\",\"Swiss Confederation\",\"Schweiz\",\"Suisse\",\"Svizzera\",\"Svizra\"],\"region\":\"Europe\",\"subregion\":\"Western Europe\",\"population\":8341600,\"latlng\":[47.0,8.0],\"demonym\":\"Swiss\",\"area\":41284.0,\"gini\":33.7,\"timezones\":[\"UTC+01:00\"],\"borders\":[\"AUT\",\"FRA\",\"ITA\",\"LIE\",\"DEU\"],\"nativeName\":\"Schweiz\",\"numericCode\":\"756\",\"currencies\":[{\"code\":\"CHF\",\"name\":\"Swiss franc\",\"symbol\":\"Fr\"}],\"languages\":[{\"iso639_1\":\"de\",\"iso639_2\":\"deu\",\"name\":\"German\",\"nativeName\":\"Deutsch\"},{\"iso639_1\":\"fr\",\"iso639_2\":\"fra\",\"name\":\"French\",\"nativeName\":\"français\"},{\"iso639_1\":\"it\",\"iso639_2\":\"ita\",\"name\":\"Italian\",\"nativeName\":\"Italiano\"}],\"translations\":{\"de\":\"Schweiz\",\"es\":\"Suiza\",\"fr\":\"Suisse\",\"ja\":\"スイス\",\"it\":\"Svizzera\",\"br\":\"Suíça\",\"pt\":\"Suíça\",\"nl\":\"Zwitserland\",\"hr\":\"Švicarska\",\"fa\":\"سوئیس\"},\"flag\":\"https://restcountries.eu/data/che.svg\",\"regionalBlocs\":[{\"acronym\":\"EFTA\",\"name\":\"European Free Trade Association\",\"otherAcronyms\":[],\"otherNames\":[]}],\"cioc\":\"SUI\"}]'"
      ]
     },
     "execution_count": 75,
     "metadata": {},
     "output_type": "execute_result"
    }
   ],
   "source": [
    "data"
   ]
  },
  {
   "cell_type": "code",
   "execution_count": 76,
   "metadata": {},
   "outputs": [],
   "source": [
    "data1"
   ]
  },
  {
   "cell_type": "code",
   "execution_count": 77,
   "metadata": {},
   "outputs": [
    {
     "data": {
      "text/plain": [
       "str"
      ]
     },
     "execution_count": 77,
     "metadata": {},
     "output_type": "execute_result"
    }
   ],
   "source": [
    "type(data)"
   ]
  },
  {
   "cell_type": "markdown",
   "metadata": {},
   "source": [
    "## Using the Built-In JSON Library to Read and Examine Data"
   ]
  },
  {
   "cell_type": "markdown",
   "metadata": {},
   "source": [
    "#### Use Python’s **json** module to read raw data in that format"
   ]
  },
  {
   "cell_type": "code",
   "execution_count": 78,
   "metadata": {},
   "outputs": [
    {
     "data": {
      "text/plain": [
       "[{'name': 'Switzerland',\n",
       "  'topLevelDomain': ['.ch'],\n",
       "  'alpha2Code': 'CH',\n",
       "  'alpha3Code': 'CHE',\n",
       "  'callingCodes': ['41'],\n",
       "  'capital': 'Bern',\n",
       "  'altSpellings': ['CH',\n",
       "   'Swiss Confederation',\n",
       "   'Schweiz',\n",
       "   'Suisse',\n",
       "   'Svizzera',\n",
       "   'Svizra'],\n",
       "  'region': 'Europe',\n",
       "  'subregion': 'Western Europe',\n",
       "  'population': 8341600,\n",
       "  'latlng': [47.0, 8.0],\n",
       "  'demonym': 'Swiss',\n",
       "  'area': 41284.0,\n",
       "  'gini': 33.7,\n",
       "  'timezones': ['UTC+01:00'],\n",
       "  'borders': ['AUT', 'FRA', 'ITA', 'LIE', 'DEU'],\n",
       "  'nativeName': 'Schweiz',\n",
       "  'numericCode': '756',\n",
       "  'currencies': [{'code': 'CHF', 'name': 'Swiss franc', 'symbol': 'Fr'}],\n",
       "  'languages': [{'iso639_1': 'de',\n",
       "    'iso639_2': 'deu',\n",
       "    'name': 'German',\n",
       "    'nativeName': 'Deutsch'},\n",
       "   {'iso639_1': 'fr',\n",
       "    'iso639_2': 'fra',\n",
       "    'name': 'French',\n",
       "    'nativeName': 'français'},\n",
       "   {'iso639_1': 'it',\n",
       "    'iso639_2': 'ita',\n",
       "    'name': 'Italian',\n",
       "    'nativeName': 'Italiano'}],\n",
       "  'translations': {'de': 'Schweiz',\n",
       "   'es': 'Suiza',\n",
       "   'fr': 'Suisse',\n",
       "   'ja': 'スイス',\n",
       "   'it': 'Svizzera',\n",
       "   'br': 'Suíça',\n",
       "   'pt': 'Suíça',\n",
       "   'nl': 'Zwitserland',\n",
       "   'hr': 'Švicarska',\n",
       "   'fa': 'سوئیس'},\n",
       "  'flag': 'https://restcountries.eu/data/che.svg',\n",
       "  'regionalBlocs': [{'acronym': 'EFTA',\n",
       "    'name': 'European Free Trade Association',\n",
       "    'otherAcronyms': [],\n",
       "    'otherNames': []}],\n",
       "  'cioc': 'SUI'}]"
      ]
     },
     "execution_count": 78,
     "metadata": {},
     "output_type": "execute_result"
    }
   ],
   "source": [
    "x = json.loads(data)\n",
    "x  # a list containing a dictionary"
   ]
  },
  {
   "cell_type": "code",
   "execution_count": 79,
   "metadata": {},
   "outputs": [
    {
     "data": {
      "text/plain": [
       "list"
      ]
     },
     "execution_count": 79,
     "metadata": {},
     "output_type": "execute_result"
    }
   ],
   "source": [
    "type(x)"
   ]
  },
  {
   "cell_type": "code",
   "execution_count": 80,
   "metadata": {},
   "outputs": [
    {
     "data": {
      "text/plain": [
       "1"
      ]
     },
     "execution_count": 80,
     "metadata": {},
     "output_type": "execute_result"
    }
   ],
   "source": [
    "len(x)"
   ]
  },
  {
   "cell_type": "code",
   "execution_count": 81,
   "metadata": {},
   "outputs": [],
   "source": [
    "y=x[0]  # extract the dictionary from the list"
   ]
  },
  {
   "cell_type": "code",
   "execution_count": 82,
   "metadata": {},
   "outputs": [
    {
     "data": {
      "text/plain": [
       "dict"
      ]
     },
     "execution_count": 82,
     "metadata": {},
     "output_type": "execute_result"
    }
   ],
   "source": [
    "type(y)"
   ]
  },
  {
   "cell_type": "code",
   "execution_count": 83,
   "metadata": {},
   "outputs": [
    {
     "data": {
      "text/plain": [
       "24"
      ]
     },
     "execution_count": 83,
     "metadata": {},
     "output_type": "execute_result"
    }
   ],
   "source": [
    "len(y)"
   ]
  },
  {
   "cell_type": "markdown",
   "metadata": {},
   "source": [
    "#### Check the dict keys, using `.keys()` method:"
   ]
  },
  {
   "cell_type": "code",
   "execution_count": 84,
   "metadata": {},
   "outputs": [
    {
     "data": {
      "text/plain": [
       "dict_keys(['name', 'topLevelDomain', 'alpha2Code', 'alpha3Code', 'callingCodes', 'capital', 'altSpellings', 'region', 'subregion', 'population', 'latlng', 'demonym', 'area', 'gini', 'timezones', 'borders', 'nativeName', 'numericCode', 'currencies', 'languages', 'translations', 'flag', 'regionalBlocs', 'cioc'])"
      ]
     },
     "execution_count": 84,
     "metadata": {},
     "output_type": "execute_result"
    }
   ],
   "source": [
    "y.keys()"
   ]
  },
  {
   "cell_type": "markdown",
   "metadata": {},
   "source": [
    "### Printing All the Data Elements"
   ]
  },
  {
   "cell_type": "markdown",
   "metadata": {},
   "source": [
    "#### Iterte over the dict, printing key/value pairs:"
   ]
  },
  {
   "cell_type": "code",
   "execution_count": 85,
   "metadata": {},
   "outputs": [
    {
     "name": "stdout",
     "output_type": "stream",
     "text": [
      "Name: Switzerland\n",
      "Topleveldomain: ['.ch']\n",
      "Alpha2Code: CH\n",
      "Alpha3Code: CHE\n",
      "Callingcodes: ['41']\n",
      "Capital: Bern\n",
      "Altspellings: ['CH', 'Swiss Confederation', 'Schweiz', 'Suisse', 'Svizzera', 'Svizra']\n",
      "Region: Europe\n",
      "Subregion: Western Europe\n",
      "Population: 8341600\n",
      "Latlng: [47.0, 8.0]\n",
      "Demonym: Swiss\n",
      "Area: 41284.0\n",
      "Gini: 33.7\n",
      "Timezones: ['UTC+01:00']\n",
      "Borders: ['AUT', 'FRA', 'ITA', 'LIE', 'DEU']\n",
      "Nativename: Schweiz\n",
      "Numericcode: 756\n",
      "Currencies: [{'code': 'CHF', 'name': 'Swiss franc', 'symbol': 'Fr'}]\n",
      "Languages: [{'iso639_1': 'de', 'iso639_2': 'deu', 'name': 'German', 'nativeName': 'Deutsch'}, {'iso639_1': 'fr', 'iso639_2': 'fra', 'name': 'French', 'nativeName': 'français'}, {'iso639_1': 'it', 'iso639_2': 'ita', 'name': 'Italian', 'nativeName': 'Italiano'}]\n",
      "Translations: {'de': 'Schweiz', 'es': 'Suiza', 'fr': 'Suisse', 'ja': 'スイス', 'it': 'Svizzera', 'br': 'Suíça', 'pt': 'Suíça', 'nl': 'Zwitserland', 'hr': 'Švicarska', 'fa': 'سوئیس'}\n",
      "Flag: https://restcountries.eu/data/che.svg\n",
      "Regionalblocs: [{'acronym': 'EFTA', 'name': 'European Free Trade Association', 'otherAcronyms': [], 'otherNames': []}]\n",
      "Cioc: SUI\n"
     ]
    }
   ],
   "source": [
    "for k, v in y.items():\n",
    "    print(\"{}: {}\".format(k.title(), v))\n",
    "#     if type(v) == list:\n",
    "#         print(len(v))"
   ]
  },
  {
   "cell_type": "markdown",
   "metadata": {},
   "source": [
    "#### Write a loop to extract the languages spoken:"
   ]
  },
  {
   "cell_type": "markdown",
   "metadata": {},
   "source": [
    "The data is embedded inside a list of dicts, accessed by a key of the main dict:"
   ]
  },
  {
   "cell_type": "code",
   "execution_count": 86,
   "metadata": {},
   "outputs": [
    {
     "data": {
      "text/plain": [
       "[{'iso639_1': 'de',\n",
       "  'iso639_2': 'deu',\n",
       "  'name': 'German',\n",
       "  'nativeName': 'Deutsch'},\n",
       " {'iso639_1': 'fr',\n",
       "  'iso639_2': 'fra',\n",
       "  'name': 'French',\n",
       "  'nativeName': 'français'},\n",
       " {'iso639_1': 'it',\n",
       "  'iso639_2': 'ita',\n",
       "  'name': 'Italian',\n",
       "  'nativeName': 'Italiano'}]"
      ]
     },
     "execution_count": 86,
     "metadata": {},
     "output_type": "execute_result"
    }
   ],
   "source": [
    "y['languages']"
   ]
  },
  {
   "cell_type": "code",
   "execution_count": 87,
   "metadata": {},
   "outputs": [
    {
     "data": {
      "text/plain": [
       "3"
      ]
     },
     "execution_count": 87,
     "metadata": {},
     "output_type": "execute_result"
    }
   ],
   "source": [
    "len(y['languages']) # list is 3 dicts long"
   ]
  },
  {
   "cell_type": "code",
   "execution_count": 88,
   "metadata": {},
   "outputs": [
    {
     "name": "stdout",
     "output_type": "stream",
     "text": [
      "German\n",
      "French\n",
      "Italian\n"
     ]
    }
   ],
   "source": [
    "for lang in y['languages']:\n",
    "    print(lang['name'])"
   ]
  },
  {
   "cell_type": "code",
   "execution_count": 89,
   "metadata": {},
   "outputs": [
    {
     "data": {
      "text/plain": [
       "'German'"
      ]
     },
     "execution_count": 89,
     "metadata": {},
     "output_type": "execute_result"
    }
   ],
   "source": [
    "y['languages'][0]['name']"
   ]
  },
  {
   "cell_type": "markdown",
   "metadata": {},
   "source": [
    "### Using a Function that Extracts a DF Containing Key Information"
   ]
  },
  {
   "cell_type": "markdown",
   "metadata": {},
   "source": [
    "Write a wrapper function, a utility fuction that can take a user argument and output a useful data structure."
   ]
  },
  {
   "cell_type": "code",
   "execution_count": 90,
   "metadata": {},
   "outputs": [],
   "source": [
    "import pandas as pd\n",
    "import json"
   ]
  },
  {
   "cell_type": "code",
   "execution_count": 91,
   "metadata": {},
   "outputs": [],
   "source": [
    "def getCountryData(country):\n",
    "    '''\n",
    "    Function to get data about a country from \"https://restcountries.eu\" API\n",
    "    '''\n",
    "    countryName = str(country)\n",
    "    url = serviceURL + countryName\n",
    "    \n",
    "    try:\n",
    "        uh = urllib.request.urlopen(url)\n",
    "    except HTTPError as e:\n",
    "        print(\"So sorry, but we could not retreive anything on {}\"\n",
    "              .format(countryName))\n",
    "        return None\n",
    "    except URLError as e:\n",
    "        print('Failed to reach a server. You know how it is.')\n",
    "        print(\"Reason: {}\".format(e.reason))\n",
    "        return None\n",
    "    else:\n",
    "        data = uh.read().decode()\n",
    "        print(\"Retrieved data on {}. Total {} characters read.\"\n",
    "             .format(countryName, len(data)))\n",
    "        return data"
   ]
  },
  {
   "cell_type": "code",
   "execution_count": 92,
   "metadata": {},
   "outputs": [],
   "source": [
    "def buildCountryDB(listCountry):\n",
    "    \"\"\"\n",
    "    Takes a list of country names.\n",
    "    Output a DF with key information about those countries.\n",
    "    \"\"\"\n",
    "    # Define an empty dictionary, with keys\n",
    "    countryDict = {'Country': [], 'Capital': [], 'Region': [], 'Sub-region': [], \n",
    "                   'Population': [], 'Latitude': [], 'Longitude': [], 'Area': [],\n",
    "                  'Gini': [], 'Timezones': [], 'Currencies': [], 'Languages': []}\n",
    "    \n",
    "    for c in listCountry:\n",
    "        data = getCountryData(c)\n",
    "        if data!=None:\n",
    "            x = json.loads(data)\n",
    "            y = x[0]\n",
    "            countryDict['Country'].append(y['name'])\n",
    "            countryDict['Capital'].append(y['capital'])\n",
    "            countryDict['Region'].append(y['region'])\n",
    "            countryDict['Sub-region'].append(y['subregion'])\n",
    "            countryDict['Population'].append(y['population'])\n",
    "            countryDict['Latitude'].append(y['latlng'][0])\n",
    "            countryDict['Longitude'].append(y['latlng'][1])\n",
    "            countryDict['Area'].append(y['area'])\n",
    "            countryDict['Gini'].append(y['gini'])\n",
    "            # Code to handle possibility of multiple timezones as a list\n",
    "            if len(y['timezones'])>1:\n",
    "                countryDict['Timezones'].append(', '.join(y['timezones']))\n",
    "            else:\n",
    "                countryDict['Timezones'].append(y['timezones'][0])\n",
    "            # Code to handle possibility of multiple currencies as dicts\n",
    "            if len(y['currencies'])>1:\n",
    "                lst_currencies = []\n",
    "                for i in y['currencies']:\n",
    "                    lst_currencies.append(i['name'])\n",
    "                countryDict['Currencies'].append(', '.join(lst_currencies))\n",
    "            else:\n",
    "                countryDict['Currencies'].append(y['currencies'][0]['name'])\n",
    "            # Code to handle possibility of multiple languages as dicts\n",
    "            if len(y['languages'])>1:\n",
    "                lst_languages = []\n",
    "                for i in y['languages']:\n",
    "                    lst_languages.append(i['name'])\n",
    "                countryDict['Languages'].append(', '.join(lst_languages))\n",
    "            else:\n",
    "                countryDict['Languages'].append(y['languages'][0]['name'])\n",
    "        \n",
    "    # Return as a pandas DF\n",
    "    return pd.DataFrame(countryDict)"
   ]
  },
  {
   "cell_type": "markdown",
   "metadata": {},
   "source": [
    "### Exercise 94: Testing the Function by Building a Small DB of Countries' Information"
   ]
  },
  {
   "cell_type": "markdown",
   "metadata": {},
   "source": [
    "#### 1) Test robustness by passing in an incorrect name:"
   ]
  },
  {
   "cell_type": "code",
   "execution_count": 93,
   "metadata": {},
   "outputs": [
    {
     "name": "stdout",
     "output_type": "stream",
     "text": [
      "Retrieved data on Nigeria. Total 1004 characters read.\n",
      "Retrieved data on Switzerland. Total 1090 characters read.\n",
      "Retrieved data on France. Total 1047 characters read.\n",
      "So sorry, but we could not retreive anything on Turmeric\n",
      "Retrieved data on Russia. Total 1120 characters read.\n",
      "Retrieved data on Kenya. Total 1052 characters read.\n",
      "Retrieved data on Singapore. Total 1223 characters read.\n"
     ]
    }
   ],
   "source": [
    "countryList = ['Nigeria','Switzerland','France','Turmeric','Russia','Kenya','Singapore']\n",
    "df1 = buildCountryDB(countryList)"
   ]
  },
  {
   "cell_type": "markdown",
   "metadata": {},
   "source": [
    "#### 2) Output is a pandas DF:"
   ]
  },
  {
   "cell_type": "code",
   "execution_count": 94,
   "metadata": {},
   "outputs": [
    {
     "data": {
      "text/html": [
       "<div>\n",
       "<style scoped>\n",
       "    .dataframe tbody tr th:only-of-type {\n",
       "        vertical-align: middle;\n",
       "    }\n",
       "\n",
       "    .dataframe tbody tr th {\n",
       "        vertical-align: top;\n",
       "    }\n",
       "\n",
       "    .dataframe thead th {\n",
       "        text-align: right;\n",
       "    }\n",
       "</style>\n",
       "<table border=\"1\" class=\"dataframe\">\n",
       "  <thead>\n",
       "    <tr style=\"text-align: right;\">\n",
       "      <th></th>\n",
       "      <th>Country</th>\n",
       "      <th>Capital</th>\n",
       "      <th>Region</th>\n",
       "      <th>Sub-region</th>\n",
       "      <th>Population</th>\n",
       "      <th>Latitude</th>\n",
       "      <th>Longitude</th>\n",
       "      <th>Area</th>\n",
       "      <th>Gini</th>\n",
       "      <th>Timezones</th>\n",
       "      <th>Currencies</th>\n",
       "      <th>Languages</th>\n",
       "    </tr>\n",
       "  </thead>\n",
       "  <tbody>\n",
       "    <tr>\n",
       "      <th>0</th>\n",
       "      <td>Nigeria</td>\n",
       "      <td>Abuja</td>\n",
       "      <td>Africa</td>\n",
       "      <td>Western Africa</td>\n",
       "      <td>186988000</td>\n",
       "      <td>10.000000</td>\n",
       "      <td>8.0</td>\n",
       "      <td>923768.0</td>\n",
       "      <td>48.8</td>\n",
       "      <td>UTC+01:00</td>\n",
       "      <td>Nigerian naira</td>\n",
       "      <td>English</td>\n",
       "    </tr>\n",
       "    <tr>\n",
       "      <th>1</th>\n",
       "      <td>Switzerland</td>\n",
       "      <td>Bern</td>\n",
       "      <td>Europe</td>\n",
       "      <td>Western Europe</td>\n",
       "      <td>8341600</td>\n",
       "      <td>47.000000</td>\n",
       "      <td>8.0</td>\n",
       "      <td>41284.0</td>\n",
       "      <td>33.7</td>\n",
       "      <td>UTC+01:00</td>\n",
       "      <td>Swiss franc</td>\n",
       "      <td>German, French, Italian</td>\n",
       "    </tr>\n",
       "    <tr>\n",
       "      <th>2</th>\n",
       "      <td>France</td>\n",
       "      <td>Paris</td>\n",
       "      <td>Europe</td>\n",
       "      <td>Western Europe</td>\n",
       "      <td>66710000</td>\n",
       "      <td>46.000000</td>\n",
       "      <td>2.0</td>\n",
       "      <td>640679.0</td>\n",
       "      <td>32.7</td>\n",
       "      <td>UTC-10:00, UTC-09:30, UTC-09:00, UTC-08:00, UT...</td>\n",
       "      <td>Euro</td>\n",
       "      <td>French</td>\n",
       "    </tr>\n",
       "    <tr>\n",
       "      <th>3</th>\n",
       "      <td>Russian Federation</td>\n",
       "      <td>Moscow</td>\n",
       "      <td>Europe</td>\n",
       "      <td>Eastern Europe</td>\n",
       "      <td>146599183</td>\n",
       "      <td>60.000000</td>\n",
       "      <td>100.0</td>\n",
       "      <td>17124442.0</td>\n",
       "      <td>40.1</td>\n",
       "      <td>UTC+03:00, UTC+04:00, UTC+06:00, UTC+07:00, UT...</td>\n",
       "      <td>Russian ruble</td>\n",
       "      <td>Russian</td>\n",
       "    </tr>\n",
       "    <tr>\n",
       "      <th>4</th>\n",
       "      <td>Kenya</td>\n",
       "      <td>Nairobi</td>\n",
       "      <td>Africa</td>\n",
       "      <td>Eastern Africa</td>\n",
       "      <td>47251000</td>\n",
       "      <td>1.000000</td>\n",
       "      <td>38.0</td>\n",
       "      <td>580367.0</td>\n",
       "      <td>47.7</td>\n",
       "      <td>UTC+03:00</td>\n",
       "      <td>Kenyan shilling</td>\n",
       "      <td>English, Swahili</td>\n",
       "    </tr>\n",
       "    <tr>\n",
       "      <th>5</th>\n",
       "      <td>Singapore</td>\n",
       "      <td>Singapore</td>\n",
       "      <td>Asia</td>\n",
       "      <td>South-Eastern Asia</td>\n",
       "      <td>5535000</td>\n",
       "      <td>1.366667</td>\n",
       "      <td>103.8</td>\n",
       "      <td>710.0</td>\n",
       "      <td>48.1</td>\n",
       "      <td>UTC+08:00</td>\n",
       "      <td>Brunei dollar, Singapore dollar</td>\n",
       "      <td>English, Malay, Tamil, Chinese</td>\n",
       "    </tr>\n",
       "  </tbody>\n",
       "</table>\n",
       "</div>"
      ],
      "text/plain": [
       "              Country    Capital  Region          Sub-region  Population  \\\n",
       "0             Nigeria      Abuja  Africa      Western Africa   186988000   \n",
       "1         Switzerland       Bern  Europe      Western Europe     8341600   \n",
       "2              France      Paris  Europe      Western Europe    66710000   \n",
       "3  Russian Federation     Moscow  Europe      Eastern Europe   146599183   \n",
       "4               Kenya    Nairobi  Africa      Eastern Africa    47251000   \n",
       "5           Singapore  Singapore    Asia  South-Eastern Asia     5535000   \n",
       "\n",
       "    Latitude  Longitude        Area  Gini  \\\n",
       "0  10.000000        8.0    923768.0  48.8   \n",
       "1  47.000000        8.0     41284.0  33.7   \n",
       "2  46.000000        2.0    640679.0  32.7   \n",
       "3  60.000000      100.0  17124442.0  40.1   \n",
       "4   1.000000       38.0    580367.0  47.7   \n",
       "5   1.366667      103.8       710.0  48.1   \n",
       "\n",
       "                                           Timezones  \\\n",
       "0                                          UTC+01:00   \n",
       "1                                          UTC+01:00   \n",
       "2  UTC-10:00, UTC-09:30, UTC-09:00, UTC-08:00, UT...   \n",
       "3  UTC+03:00, UTC+04:00, UTC+06:00, UTC+07:00, UT...   \n",
       "4                                          UTC+03:00   \n",
       "5                                          UTC+08:00   \n",
       "\n",
       "                        Currencies                       Languages  \n",
       "0                   Nigerian naira                         English  \n",
       "1                      Swiss franc         German, French, Italian  \n",
       "2                             Euro                          French  \n",
       "3                    Russian ruble                         Russian  \n",
       "4                  Kenyan shilling                English, Swahili  \n",
       "5  Brunei dollar, Singapore dollar  English, Malay, Tamil, Chinese  "
      ]
     },
     "execution_count": 94,
     "metadata": {},
     "output_type": "execute_result"
    }
   ],
   "source": [
    "df1"
   ]
  },
  {
   "cell_type": "markdown",
   "metadata": {},
   "source": [
    "## Fundamentals of Regular Expressions (RegEx)"
   ]
  },
  {
   "cell_type": "markdown",
   "metadata": {},
   "source": [
    "### Regex in the Context of Web Scraping"
   ]
  },
  {
   "cell_type": "markdown",
   "metadata": {},
   "source": [
    "#### 1) Import RegEx module"
   ]
  },
  {
   "cell_type": "code",
   "execution_count": 95,
   "metadata": {},
   "outputs": [],
   "source": [
    "import re"
   ]
  },
  {
   "cell_type": "markdown",
   "metadata": {},
   "source": [
    "### Exercise 95: Using the `.match()` Method to Check Whether a Pattern matches a String / Sequence"
   ]
  },
  {
   "cell_type": "markdown",
   "metadata": {},
   "source": [
    "#### 2) Define a string and a pattern:"
   ]
  },
  {
   "cell_type": "code",
   "execution_count": 96,
   "metadata": {},
   "outputs": [],
   "source": [
    "string1 = 'Python'\n",
    "pattern = r\"Python\""
   ]
  },
  {
   "cell_type": "markdown",
   "metadata": {},
   "source": [
    "#### 3) Write a conditional expression to check for a match:"
   ]
  },
  {
   "cell_type": "code",
   "execution_count": 97,
   "metadata": {},
   "outputs": [
    {
     "name": "stdout",
     "output_type": "stream",
     "text": [
      "Matches!\n"
     ]
    }
   ],
   "source": [
    "if re.match(pattern, string1):\n",
    "    print(\"Matches!\")\n",
    "else:\n",
    "    print(\"Don't match. :(\")"
   ]
  },
  {
   "cell_type": "markdown",
   "metadata": {},
   "source": [
    "#### 4) Test with a string that doesn't match:"
   ]
  },
  {
   "cell_type": "code",
   "execution_count": 98,
   "metadata": {},
   "outputs": [
    {
     "name": "stdout",
     "output_type": "stream",
     "text": [
      "Don't match. :(\n"
     ]
    }
   ],
   "source": [
    "string2 = \"python\"\n",
    "if re.match(pattern, string2):\n",
    "    print(\"Matches!\")\n",
    "else:\n",
    "    print(\"Don't match. :(\")"
   ]
  },
  {
   "cell_type": "markdown",
   "metadata": {},
   "source": [
    "### Using the Compile Method to Create a Regex Program"
   ]
  },
  {
   "cell_type": "markdown",
   "metadata": {},
   "source": [
    "#### Here's how you compile a regex program, using `.compile()`:"
   ]
  },
  {
   "cell_type": "code",
   "execution_count": 99,
   "metadata": {},
   "outputs": [],
   "source": [
    "prog = re.compile(pattern)"
   ]
  },
  {
   "cell_type": "code",
   "execution_count": 100,
   "metadata": {},
   "outputs": [
    {
     "data": {
      "text/plain": [
       "<re.Match object; span=(0, 6), match='Python'>"
      ]
     },
     "execution_count": 100,
     "metadata": {},
     "output_type": "execute_result"
    }
   ],
   "source": [
    "prog.match(string1)"
   ]
  },
  {
   "cell_type": "markdown",
   "metadata": {},
   "source": [
    "### Exercise 96: Compiling Programs to Match Objects"
   ]
  },
  {
   "cell_type": "code",
   "execution_count": 101,
   "metadata": {},
   "outputs": [],
   "source": [
    "#string1 = 'Python'\n",
    "#string2 = 'python'\n",
    "#pattern = r\"Python\""
   ]
  },
  {
   "cell_type": "markdown",
   "metadata": {},
   "source": [
    "#### 1) Use the `.compile()` function in RegEx:"
   ]
  },
  {
   "cell_type": "code",
   "execution_count": 102,
   "metadata": {},
   "outputs": [],
   "source": [
    "prog = re.compile(pattern)"
   ]
  },
  {
   "cell_type": "markdown",
   "metadata": {},
   "source": [
    "#### 2) Match it with the first string:"
   ]
  },
  {
   "cell_type": "code",
   "execution_count": 103,
   "metadata": {},
   "outputs": [
    {
     "name": "stdout",
     "output_type": "stream",
     "text": [
      "Matches!\n"
     ]
    }
   ],
   "source": [
    "if prog.match(string1)!=None:\n",
    "    print(\"Matches!\")\n",
    "else:\n",
    "    print(\"Doesn't match.\")"
   ]
  },
  {
   "cell_type": "markdown",
   "metadata": {},
   "source": [
    "#### 3) Match it with the second string:"
   ]
  },
  {
   "cell_type": "code",
   "execution_count": 104,
   "metadata": {},
   "outputs": [
    {
     "name": "stdout",
     "output_type": "stream",
     "text": [
      "Doesn't match.\n"
     ]
    }
   ],
   "source": [
    "if prog.match(string2)!=None:\n",
    "    print(\"Matches!\")\n",
    "else:\n",
    "    print(\"Doesn't match.\")"
   ]
  },
  {
   "cell_type": "markdown",
   "metadata": {},
   "source": [
    "### Exercise 97: Using Additional Parameters in Match to Check for Positional Matching"
   ]
  },
  {
   "cell_type": "markdown",
   "metadata": {},
   "source": [
    "#### 1) Match **y** for the second position:"
   ]
  },
  {
   "cell_type": "code",
   "execution_count": 105,
   "metadata": {},
   "outputs": [
    {
     "data": {
      "text/plain": [
       "<re.Match object; span=(1, 2), match='y'>"
      ]
     },
     "execution_count": 105,
     "metadata": {},
     "output_type": "execute_result"
    }
   ],
   "source": [
    "prog = re.compile(r'y')\n",
    "prog.match('Python', pos=1)"
   ]
  },
  {
   "cell_type": "markdown",
   "metadata": {},
   "source": [
    "#### 2) Check for a pattern called **thon** starting from **pos=2**:"
   ]
  },
  {
   "cell_type": "code",
   "execution_count": 106,
   "metadata": {},
   "outputs": [
    {
     "data": {
      "text/plain": [
       "<re.Match object; span=(2, 6), match='thon'>"
      ]
     },
     "execution_count": 106,
     "metadata": {},
     "output_type": "execute_result"
    }
   ],
   "source": [
    "prog = re.compile(r'thon')\n",
    "prog.match('Python', pos=2)"
   ]
  },
  {
   "cell_type": "markdown",
   "metadata": {},
   "source": [
    "#### 3) Find a match in a different string:"
   ]
  },
  {
   "cell_type": "code",
   "execution_count": 107,
   "metadata": {},
   "outputs": [
    {
     "data": {
      "text/plain": [
       "<re.Match object; span=(4, 8), match='thon'>"
      ]
     },
     "execution_count": 107,
     "metadata": {},
     "output_type": "execute_result"
    }
   ],
   "source": [
    "prog.match('Marathon', pos=4)"
   ]
  },
  {
   "cell_type": "markdown",
   "metadata": {},
   "source": [
    "### Finding the Number of Words in a List That End with \"ing\""
   ]
  },
  {
   "cell_type": "code",
   "execution_count": 108,
   "metadata": {},
   "outputs": [],
   "source": [
    "prog = re.compile(r'ing')\n",
    "words = ['Spring', 'Cycling', 'Ringtone']"
   ]
  },
  {
   "cell_type": "markdown",
   "metadata": {},
   "source": [
    "#### Create a **for** loop to find words ending in 'ing':"
   ]
  },
  {
   "cell_type": "code",
   "execution_count": 109,
   "metadata": {},
   "outputs": [
    {
     "name": "stdout",
     "output_type": "stream",
     "text": [
      "Spring ends in 'ing'\n",
      "Cycling ends in 'ing'\n",
      "Ringtone does not end in 'ing'\n"
     ]
    }
   ],
   "source": [
    "for w in words:\n",
    "    if prog.match(w, pos=len(w)-3)!=None:\n",
    "        print(\"{} ends in 'ing'\".format(w))\n",
    "    else: \n",
    "        print(\"{} does not end in 'ing'\".format(w))"
   ]
  },
  {
   "cell_type": "markdown",
   "metadata": {},
   "source": [
    "### Exercise 98: The `.search()` Method in Regex"
   ]
  },
  {
   "cell_type": "markdown",
   "metadata": {},
   "source": [
    "#### 1) Use the `.compile()` method to find matching strings:"
   ]
  },
  {
   "cell_type": "code",
   "execution_count": 110,
   "metadata": {},
   "outputs": [
    {
     "name": "stdout",
     "output_type": "stream",
     "text": [
      "None\n"
     ]
    }
   ],
   "source": [
    "prog = re.compile('ing')\n",
    "if prog.match('Spring')==None:\n",
    "    print(\"None\")"
   ]
  },
  {
   "cell_type": "markdown",
   "metadata": {},
   "source": [
    "#### 3) Search the string using `.search()`:"
   ]
  },
  {
   "cell_type": "code",
   "execution_count": 111,
   "metadata": {},
   "outputs": [
    {
     "data": {
      "text/plain": [
       "<re.Match object; span=(3, 6), match='ing'>"
      ]
     },
     "execution_count": 111,
     "metadata": {},
     "output_type": "execute_result"
    }
   ],
   "source": [
    "prog.search('Spring')"
   ]
  },
  {
   "cell_type": "code",
   "execution_count": 112,
   "metadata": {},
   "outputs": [
    {
     "data": {
      "text/plain": [
       "<re.Match object; span=(1, 4), match='ing'>"
      ]
     },
     "execution_count": 112,
     "metadata": {},
     "output_type": "execute_result"
    }
   ],
   "source": [
    "prog.search('Ringtone')"
   ]
  },
  {
   "cell_type": "markdown",
   "metadata": {},
   "source": [
    "### Exercise 99: Using the `.span()` Method of the **Match** Object to Locate the Position of the Matched Pattern"
   ]
  },
  {
   "cell_type": "markdown",
   "metadata": {},
   "source": [
    "#### 1) Initialize **prog** with pattern 'ing':"
   ]
  },
  {
   "cell_type": "code",
   "execution_count": 113,
   "metadata": {},
   "outputs": [],
   "source": [
    "prog = re.compile(r'ing')\n",
    "words = ['Spring', 'Cycling', 'Ringtone']"
   ]
  },
  {
   "cell_type": "markdown",
   "metadata": {},
   "source": [
    "#### 2) Create a function to return a tuple of start and end positions of match:"
   ]
  },
  {
   "cell_type": "code",
   "execution_count": 114,
   "metadata": {},
   "outputs": [],
   "source": [
    "for w in words: \n",
    "    mt = prog.search(w)\n",
    "    # Span returns a tuple of start and end positions of the match\n",
    "    startPos = mt.span()[0]  # Starting position of the match\n",
    "    endPos = mt.span()[1]  # Ending position of the match"
   ]
  },
  {
   "cell_type": "markdown",
   "metadata": {},
   "source": [
    "#### 3) Print the words ending with 'ing' in the start or end position:"
   ]
  },
  {
   "cell_type": "code",
   "execution_count": 115,
   "metadata": {},
   "outputs": [
    {
     "name": "stdout",
     "output_type": "stream",
     "text": [
      "The word 'Spring' contains 'ing' in the position 3-6\n",
      "The word 'Cycling' contains 'ing' in the position 4-7\n",
      "The word 'Ringtone' contains 'ing' in the position 1-4\n"
     ]
    }
   ],
   "source": [
    "for w in words: \n",
    "    mt = prog.search(w)\n",
    "    # Span returns a tuple of start and end positions of the match\n",
    "    startPos = mt.span()[0]  # Starting position of the match\n",
    "    endPos = mt.span()[1]  # Ending position of the match\n",
    "    print(\"The word '{}' contains 'ing' in the position {}-{}\".format(w, startPos, endPos))"
   ]
  },
  {
   "cell_type": "markdown",
   "metadata": {},
   "source": [
    "### Exercise 100: Examples of Single Character Pattern Matching with `.search()`"
   ]
  },
  {
   "cell_type": "markdown",
   "metadata": {},
   "source": [
    "Use the `.group()` method to return the matched pattern in a string format so that we can print and process it.\n",
    "#### 1) Dot (.) matches any single character, except a newline character:"
   ]
  },
  {
   "cell_type": "code",
   "execution_count": 116,
   "metadata": {},
   "outputs": [
    {
     "name": "stdout",
     "output_type": "stream",
     "text": [
      "pyg\n",
      "pyt\n"
     ]
    }
   ],
   "source": [
    "prog = re.compile(r'py.')\n",
    "\n",
    "print(prog.search('pygmy').group())\n",
    "print(prog.search('Jupyter').group())"
   ]
  },
  {
   "cell_type": "markdown",
   "metadata": {},
   "source": [
    "#### 2) **\\\\w** (lowercase w) matches any single letter, digit, or underscore:"
   ]
  },
  {
   "cell_type": "code",
   "execution_count": 117,
   "metadata": {},
   "outputs": [
    {
     "name": "stdout",
     "output_type": "stream",
     "text": [
      "com\n",
      "cam\n",
      "c_m\n",
      "c2m\n"
     ]
    }
   ],
   "source": [
    "prog = re.compile(r'c\\wm')\n",
    "\n",
    "print(prog.search('comedy').group())\n",
    "print(prog.search('camera').group())\n",
    "print(prog.search('pac_man').group())\n",
    "print(prog.search('pac2man').group())"
   ]
  },
  {
   "cell_type": "markdown",
   "metadata": {},
   "source": [
    "#### 3) **\\\\W** (uppercase W) matches anything not covered with \\\\w:"
   ]
  },
  {
   "cell_type": "code",
   "execution_count": 118,
   "metadata": {},
   "outputs": [
    {
     "name": "stdout",
     "output_type": "stream",
     "text": [
      "4/1\n",
      "4-1\n",
      "4.1\n",
      "4/1\n"
     ]
    }
   ],
   "source": [
    "prog = re.compile(r'4\\W1')\n",
    "\n",
    "print(prog.search('4/1 was a wonderful day!').group())\n",
    "print(prog.search('4-1 was a wonderful day!').group())\n",
    "print(prog.search('4.1 was a wonderful day!').group())\n",
    "print(prog.search('Remember that wonderful day 04/1?').group())"
   ]
  },
  {
   "cell_type": "markdown",
   "metadata": {},
   "source": [
    "#### 4) **\\\\s** (lowercase s) matches a single whitespace character, such as space, newline, tab, or return:"
   ]
  },
  {
   "cell_type": "code",
   "execution_count": 119,
   "metadata": {},
   "outputs": [
    {
     "name": "stdout",
     "output_type": "stream",
     "text": [
      "Data wrangling\n",
      "--------------------------------------------------------------------------------\n",
      "Data\twrangling\n",
      "--------------------------------------------------------------------------------\n",
      "Data\n",
      "wrangling\n",
      "--------------------------------------------------------------------------------\n"
     ]
    }
   ],
   "source": [
    "prog = re.compile(r'Data\\swrangling')\n",
    "\n",
    "print(prog.search(\"Data wrangling is cool\").group())\n",
    "print(\"-\"*80)\n",
    "print(prog.search(\"Data\\twrangling is the full string\").group())\n",
    "print(\"-\"*80)\n",
    "print(prog.search(\"Data\\nwrangling is the full string\").group())\n",
    "print(\"-\"*80)"
   ]
  },
  {
   "cell_type": "markdown",
   "metadata": {},
   "source": [
    "#### 5) **\\d** (lowercase d) matches numerical digits 0-9:"
   ]
  },
  {
   "cell_type": "code",
   "execution_count": 120,
   "metadata": {},
   "outputs": [
    {
     "name": "stdout",
     "output_type": "stream",
     "text": [
      "score was 67\n",
      "score was 73\n"
     ]
    }
   ],
   "source": [
    "prog = re.compile(r\"score was \\d\\d\")\n",
    "\n",
    "print(prog.search(\"My score was 67\").group())\n",
    "print(prog.search(\"Your score was 73\").group())"
   ]
  },
  {
   "cell_type": "markdown",
   "metadata": {},
   "source": [
    "### Exercise 101: Examples of Pattern Matching at the Start or End of a String"
   ]
  },
  {
   "cell_type": "markdown",
   "metadata": {},
   "source": [
    "#### 1) Write a function to handle cases where a match is not found:"
   ]
  },
  {
   "cell_type": "code",
   "execution_count": 121,
   "metadata": {},
   "outputs": [],
   "source": [
    "def printMatch(s):\n",
    "    if prog.search(s)==None:\n",
    "        print(\"No match\")\n",
    "    else:\n",
    "        print(prog.search(s).group())"
   ]
  },
  {
   "cell_type": "markdown",
   "metadata": {},
   "source": [
    "#### 2) Use **^** (caret) to match a pattern at the start of the string:"
   ]
  },
  {
   "cell_type": "code",
   "execution_count": 122,
   "metadata": {},
   "outputs": [
    {
     "name": "stdout",
     "output_type": "stream",
     "text": [
      "No match\n",
      "India\n",
      "No match\n"
     ]
    }
   ],
   "source": [
    "prog = re.compile(r'^India')\n",
    "\n",
    "printMatch(\"Russia implemented this law\")\n",
    "printMatch(\"India implemented this law\")\n",
    "printMatch(\"This law was implemented by India\")"
   ]
  },
  {
   "cell_type": "markdown",
   "metadata": {},
   "source": [
    "#### 3) Use **\\$** (dollar sign) to match a pattern at the end of the string:"
   ]
  },
  {
   "cell_type": "code",
   "execution_count": 123,
   "metadata": {},
   "outputs": [
    {
     "name": "stdout",
     "output_type": "stream",
     "text": [
      "Apple\n",
      "No match\n",
      "Apple\n"
     ]
    }
   ],
   "source": [
    "prog = re.compile(r'Apple$')\n",
    "\n",
    "printMatch(\"Patent no 123456 belongs to Apple\")\n",
    "printMatch(\"Patent no 345672 belongs to Samsung\")\n",
    "printMatch(\"Patent no 987654 belongs to Apple\")"
   ]
  },
  {
   "cell_type": "markdown",
   "metadata": {},
   "source": [
    "### Exercise 102: Examples of Pattern Matching with Multiple Characters"
   ]
  },
  {
   "cell_type": "markdown",
   "metadata": {},
   "source": [
    "#### 1) Use **\\*** (asterisk) to match 0 or more repetitions of the preceding **RE**:"
   ]
  },
  {
   "cell_type": "code",
   "execution_count": 124,
   "metadata": {},
   "outputs": [
    {
     "name": "stdout",
     "output_type": "stream",
     "text": [
      "a\n",
      "ab\n",
      "abbb\n",
      "No match\n",
      "ab\n",
      "abb\n",
      "ab\n",
      "a\n",
      "ab\n",
      "a\n",
      "a\n",
      "a\n"
     ]
    }
   ],
   "source": [
    "prog = re.compile(r'ab*')\n",
    "\n",
    "printMatch(\"a\")\n",
    "printMatch(\"ab\")\n",
    "printMatch(\"abbb\")\n",
    "printMatch(\"b\")\n",
    "printMatch(\"bbab\")\n",
    "printMatch(\"something_abb_something\")\n",
    "\n",
    "printMatch(\"ababab\")\n",
    "printMatch(\"ba\")\n",
    "printMatch(\"bab\")\n",
    "printMatch(\"asb\")\n",
    "printMatch(\"awesome ab\")\n",
    "printMatch(\"aaabbb\")"
   ]
  },
  {
   "cell_type": "markdown",
   "metadata": {},
   "source": [
    "#### 2) Using **+** (plus) causes the resulting **RE** to match 1 or more repetitions of the preceding **RE**:"
   ]
  },
  {
   "cell_type": "code",
   "execution_count": 125,
   "metadata": {},
   "outputs": [
    {
     "name": "stdout",
     "output_type": "stream",
     "text": [
      "No match\n",
      "ab\n",
      "abbb\n",
      "No match\n",
      "ab\n",
      "abb\n",
      "ab\n",
      "No match\n",
      "ab\n",
      "No match\n",
      "ab\n",
      "abbb\n"
     ]
    }
   ],
   "source": [
    "prog = re.compile(r'ab+')\n",
    "\n",
    "printMatch(\"a\")\n",
    "printMatch(\"ab\")\n",
    "printMatch(\"abbb\")\n",
    "printMatch(\"b\")\n",
    "printMatch(\"bbab\")\n",
    "printMatch(\"something_abb_something\")\n",
    "\n",
    "printMatch(\"ababab\")\n",
    "printMatch(\"ba\")\n",
    "printMatch(\"bab\")\n",
    "printMatch(\"asb\")\n",
    "printMatch(\"awesome ab\")\n",
    "printMatch(\"aaabbb\")"
   ]
  },
  {
   "cell_type": "markdown",
   "metadata": {},
   "source": [
    "#### 3) **?** (question) causes the resulting **RE** to match precisely 0 or 1 repetitions of the preceding **RE**:"
   ]
  },
  {
   "cell_type": "code",
   "execution_count": 126,
   "metadata": {},
   "outputs": [
    {
     "name": "stdout",
     "output_type": "stream",
     "text": [
      "a\n",
      "ab\n",
      "ab\n",
      "No match\n",
      "ab\n",
      "ab\n",
      "ab\n",
      "a\n",
      "ab\n",
      "a\n",
      "a\n",
      "a\n"
     ]
    }
   ],
   "source": [
    "prog = re.compile(r'ab?')\n",
    "\n",
    "printMatch(\"a\")\n",
    "printMatch(\"ab\")\n",
    "printMatch(\"abbb\")\n",
    "printMatch(\"b\")\n",
    "printMatch(\"bbab\")\n",
    "printMatch(\"something_abb_something\")\n",
    "\n",
    "printMatch(\"ababab\")\n",
    "printMatch(\"ba\")\n",
    "printMatch(\"bab\")\n",
    "printMatch(\"asb\")\n",
    "printMatch(\"awesome ab\")\n",
    "printMatch(\"aaabbb\")"
   ]
  },
  {
   "cell_type": "markdown",
   "metadata": {},
   "source": [
    "### Exercise 103: Greedy vs Non-Greedy Matching"
   ]
  },
  {
   "cell_type": "markdown",
   "metadata": {},
   "source": [
    "#### 1) The Greedy way of matching a string:"
   ]
  },
  {
   "cell_type": "code",
   "execution_count": 127,
   "metadata": {},
   "outputs": [
    {
     "name": "stdout",
     "output_type": "stream",
     "text": [
      "<a> b <c>\n"
     ]
    }
   ],
   "source": [
    "prog = re.compile(r'<.*>')\n",
    "\n",
    "printMatch('<a> b <c>')"
   ]
  },
  {
   "cell_type": "markdown",
   "metadata": {},
   "source": [
    "#### 2) What if we wanted to match only the first string and stop there?\n",
    "We can use **?** after any regex to make it non-greedy:"
   ]
  },
  {
   "cell_type": "code",
   "execution_count": 128,
   "metadata": {},
   "outputs": [
    {
     "name": "stdout",
     "output_type": "stream",
     "text": [
      "<a>\n"
     ]
    }
   ],
   "source": [
    "prog = re.compile(r'<.*?>')\n",
    "\n",
    "printMatch('<a> b <c>')"
   ]
  },
  {
   "cell_type": "markdown",
   "metadata": {},
   "source": [
    "### Exercise 104: Controlling Repetitions to Match"
   ]
  },
  {
   "cell_type": "markdown",
   "metadata": {},
   "source": [
    "What if we want to have precise control over how many repetitions of the pattern we want to match?\n",
    "#### 1) **{m}** specifies exactly **m** copies of RE to match. Fewer matches cause a non-match and returns **None**:"
   ]
  },
  {
   "cell_type": "code",
   "execution_count": 129,
   "metadata": {},
   "outputs": [
    {
     "name": "stdout",
     "output_type": "stream",
     "text": [
      "AAA\n",
      "AAA\n",
      "No match\n",
      "AAA\n",
      "No match\n"
     ]
    }
   ],
   "source": [
    "prog = re.compile(r'A{3}')\n",
    "\n",
    "printMatch(\"ccAAAdd\")\n",
    "printMatch(\"ccAAAAdd\")\n",
    "printMatch(\"ccAAdd\")\n",
    "printMatch(\"ccAAAAAAABdd\")\n",
    "printMatch(\"ccBBdd\")"
   ]
  },
  {
   "cell_type": "markdown",
   "metadata": {},
   "source": [
    "#### 2) **{m,n}** specifies exactly **m** to **n** copies of RE to match:"
   ]
  },
  {
   "cell_type": "code",
   "execution_count": 130,
   "metadata": {},
   "outputs": [
    {
     "name": "stdout",
     "output_type": "stream",
     "text": [
      "AAAB\n",
      "No match\n",
      "AAB\n",
      "AAAAB\n",
      "No match\n"
     ]
    }
   ],
   "source": [
    "prog = re.compile(r'A{2,4}B')\n",
    "\n",
    "printMatch(\"ccAAABdd\")\n",
    "printMatch(\"ccABdd\")\n",
    "printMatch(\"ccAABBBdd\")\n",
    "printMatch(\"ccAAAAAAABdd\")\n",
    "printMatch(\"ccBBdd\")"
   ]
  },
  {
   "cell_type": "markdown",
   "metadata": {},
   "source": [
    "#### 3) Omitting **m** specifies a lower bound of zero:"
   ]
  },
  {
   "cell_type": "code",
   "execution_count": 131,
   "metadata": {},
   "outputs": [
    {
     "name": "stdout",
     "output_type": "stream",
     "text": [
      "AAAB\n",
      "AB\n",
      "AAB\n",
      "AAAB\n",
      "B\n"
     ]
    }
   ],
   "source": [
    "prog = re.compile(r'A{,3}B')\n",
    "\n",
    "printMatch(\"ccAAABdd\")\n",
    "printMatch(\"ccABdd\")\n",
    "printMatch(\"ccAABBBdd\")\n",
    "printMatch(\"ccAAAAAAABdd\")\n",
    "printMatch(\"ccBBdd\")"
   ]
  },
  {
   "cell_type": "markdown",
   "metadata": {},
   "source": [
    "#### 4) Omitting **n** specifies an infinite upper bound:"
   ]
  },
  {
   "cell_type": "code",
   "execution_count": 132,
   "metadata": {},
   "outputs": [
    {
     "name": "stdout",
     "output_type": "stream",
     "text": [
      "AAAB\n",
      "No match\n",
      "No match\n",
      "AAAAAAAB\n",
      "No match\n"
     ]
    }
   ],
   "source": [
    "prog = re.compile(r'A{3,}B')\n",
    "\n",
    "printMatch(\"ccAAABdd\")\n",
    "printMatch(\"ccABdd\")\n",
    "printMatch(\"ccAABBBdd\")\n",
    "printMatch(\"ccAAAAAAABdd\")\n",
    "printMatch(\"ccBBdd\")"
   ]
  },
  {
   "cell_type": "markdown",
   "metadata": {},
   "source": [
    "#### 5) **{m,n}?** specifies **m** to **n** copies of RE to match in a non-greedy fashion:"
   ]
  },
  {
   "cell_type": "code",
   "execution_count": 133,
   "metadata": {},
   "outputs": [
    {
     "name": "stdout",
     "output_type": "stream",
     "text": [
      "AAA\n",
      "No match\n",
      "AA\n",
      "AAAA\n",
      "No match\n",
      "--------------------\n",
      "AA\n",
      "No match\n",
      "AA\n",
      "AA\n",
      "No match\n"
     ]
    }
   ],
   "source": [
    "prog = re.compile(r'A{2,4}')\n",
    "\n",
    "printMatch(\"ccAAABdd\")\n",
    "printMatch(\"ccABdd\")\n",
    "printMatch(\"ccAABBBdd\")\n",
    "printMatch(\"ccAAAAAAABdd\")\n",
    "printMatch(\"ccBBdd\")\n",
    "print('-'*20)\n",
    "\n",
    "prog = re.compile(r'A{2,4}?')\n",
    "\n",
    "printMatch(\"ccAAABdd\")\n",
    "printMatch(\"ccABdd\")\n",
    "printMatch(\"ccAABBBdd\")\n",
    "printMatch(\"ccAAAAAAABdd\")\n",
    "printMatch(\"ccBBdd\")"
   ]
  },
  {
   "cell_type": "markdown",
   "metadata": {},
   "source": [
    "### Exercise 105: Sets of Matching Characters"
   ]
  },
  {
   "cell_type": "markdown",
   "metadata": {},
   "source": [
    "Include a logical combination of characters as a bunch.\n",
    "#### 1) **[x,y,z]** matches x, y, or z:"
   ]
  },
  {
   "cell_type": "code",
   "execution_count": 134,
   "metadata": {},
   "outputs": [
    {
     "name": "stdout",
     "output_type": "stream",
     "text": [
      "A\n",
      "A\n",
      "B\n",
      "No match\n"
     ]
    }
   ],
   "source": [
    "prog = re.compile(r'[A,B]')\n",
    "\n",
    "printMatch(\"ccAd\")\n",
    "printMatch(\"ccABd\")\n",
    "printMatch(\"ccXdB\")\n",
    "printMatch(\"ccXdZ\")"
   ]
  },
  {
   "cell_type": "markdown",
   "metadata": {},
   "source": [
    "A range of chars can be matched inside the set using **-**\n",
    "#### 2) Pick out an email with the general format **\\<name>@\\<domain>.\\<domain identifier>**:"
   ]
  },
  {
   "cell_type": "code",
   "execution_count": 135,
   "metadata": {},
   "outputs": [
    {
     "name": "stdout",
     "output_type": "stream",
     "text": [
      "coolguy@xyz.com\n",
      "No match\n"
     ]
    }
   ],
   "source": [
    "prog = re.compile(r'[a-zA-Z]+@+[a-zA-Z]+\\.com')\n",
    "\n",
    "printMatch(\"My email is coolguy@xyz.com\")\n",
    "printMatch(\"My email is coolguy12@xyz.com\")"
   ]
  },
  {
   "cell_type": "markdown",
   "metadata": {},
   "source": [
    "#### 6) Deal with numbers in the email as well:"
   ]
  },
  {
   "cell_type": "code",
   "execution_count": 136,
   "metadata": {},
   "outputs": [
    {
     "name": "stdout",
     "output_type": "stream",
     "text": [
      "coolguy@xyz.com\n",
      "coolguy12@xyz.com\n",
      "No match\n"
     ]
    }
   ],
   "source": [
    "prog = re.compile(r'[a-zA-Z0-9]+@+[a-zA-Z]+\\.com')\n",
    "\n",
    "printMatch(\"My email is coolguy@xyz.com\")\n",
    "printMatch(\"My email is coolguy12@xyz.com\")\n",
    "printMatch(\"My email is coolguy12@xyz.org\")"
   ]
  },
  {
   "cell_type": "markdown",
   "metadata": {},
   "source": [
    "#### 7) Deal with the different domain identifier:"
   ]
  },
  {
   "cell_type": "code",
   "execution_count": 137,
   "metadata": {},
   "outputs": [
    {
     "name": "stdout",
     "output_type": "stream",
     "text": [
      "coolguy@xyz.com\n",
      "coolguy12@xyz.com\n",
      "coolguy12@xyz.org\n",
      "No match\n",
      "guy12@xyz.com\n"
     ]
    }
   ],
   "source": [
    "prog = re.compile(r'[a-zA-Z0-9]+@+[a-zA-Z]+\\.+[a-zA-Z]{2,3}')\n",
    "\n",
    "printMatch(\"My email is coolguy@xyz.com\")\n",
    "printMatch(\"My email is coolguy12@xyz.com\")\n",
    "printMatch(\"My email is coolguy12@xyz.org\")\n",
    "printMatch(\"My email is coolguy12[AT]xyz[DOT]org\")\n",
    "printMatch(\"My email is cool.guy12@xyz.com\")"
   ]
  },
  {
   "cell_type": "code",
   "execution_count": 138,
   "metadata": {},
   "outputs": [
    {
     "name": "stdout",
     "output_type": "stream",
     "text": [
      "coolguy@xyz.com\n",
      "coolguy12@xyz.com\n",
      "coolguy12@xyz.org\n",
      "No match\n",
      "cool.guy12@xyz.com\n"
     ]
    }
   ],
   "source": [
    "prog = re.compile(r'[a-zA-Z0-9.]+@+[a-zA-Z]+\\.+[a-zA-Z]{2,3}')\n",
    "\n",
    "printMatch(\"My email is coolguy@xyz.com\")\n",
    "printMatch(\"My email is coolguy12@xyz.com\")\n",
    "printMatch(\"My email is coolguy12@xyz.org\")\n",
    "printMatch(\"My email is coolguy12[AT]xyz[DOT]org\")\n",
    "printMatch(\"My email is cool.guy12@xyz.com\")"
   ]
  },
  {
   "cell_type": "markdown",
   "metadata": {},
   "source": [
    "### Exercise 106: The use of OR in Regex using the OR Operator **|**:"
   ]
  },
  {
   "cell_type": "markdown",
   "metadata": {},
   "source": [
    "#### 1) Without the OR operator:"
   ]
  },
  {
   "cell_type": "code",
   "execution_count": 139,
   "metadata": {},
   "outputs": [
    {
     "name": "stdout",
     "output_type": "stream",
     "text": [
      "3124567897\n",
      "No match\n"
     ]
    }
   ],
   "source": [
    "prog = re.compile(r'[0-9]{10}')\n",
    "\n",
    "printMatch(\"3124567897\")\n",
    "printMatch(\"312-456-7897\")"
   ]
  },
  {
   "cell_type": "markdown",
   "metadata": {},
   "source": [
    "Note: **{10}** is looking for exactly 10 digits in the pattern.\n",
    "#### 2) Use multiple smaller regexes and logically combine them with |:"
   ]
  },
  {
   "cell_type": "code",
   "execution_count": 140,
   "metadata": {},
   "outputs": [
    {
     "name": "stdout",
     "output_type": "stream",
     "text": [
      "3124567897\n",
      "312-456-7897\n"
     ]
    }
   ],
   "source": [
    "prog = re.compile(r'[0-9]{10}|[0-9]{3}-[0-9]{3}-[0-9]{4}')\n",
    "\n",
    "printMatch(\"3124567897\")\n",
    "printMatch(\"312-456-7897\")"
   ]
  },
  {
   "cell_type": "markdown",
   "metadata": {},
   "source": [
    "#### 3) Create four strings, combine them using OR (|) and execute printMatch on them:"
   ]
  },
  {
   "cell_type": "code",
   "execution_count": 141,
   "metadata": {},
   "outputs": [
    {
     "name": "stdout",
     "output_type": "stream",
     "text": [
      "3124567897\n",
      "312-456-7897\n",
      "(312)456-7897\n",
      "312.456.7897\n",
      "No match\n"
     ]
    }
   ],
   "source": [
    "p1= r'[0-9]{10}'\n",
    "p2=r'[0-9]{3}-[0-9]{3}-[0-9]{4}'\n",
    "p3 = r'\\([0-9]{3}\\)[0-9]{3}-[0-9]{4}'\n",
    "p4 = r'[0-9]{3}\\.[0-9]{3}\\.[0-9]{4}'\n",
    "pattern= p1+'|'+p2+'|'+p3+'|'+p4\n",
    "prog = re.compile(pattern)\n",
    "\n",
    "printMatch(\"3124567897\")\n",
    "printMatch(\"312-456-7897\")\n",
    "printMatch(\"(312)456-7897\")\n",
    "printMatch(\"312.456.7897\")\n",
    "printMatch(\"(312) 456-7897\")"
   ]
  },
  {
   "cell_type": "code",
   "execution_count": 142,
   "metadata": {},
   "outputs": [
    {
     "name": "stdout",
     "output_type": "stream",
     "text": [
      "3124567897\n",
      "312-456-7897\n",
      "(312)456-7897\n",
      "312.456.7897\n",
      "(312) 456-7897\n"
     ]
    }
   ],
   "source": [
    "p1= r'[0-9]{10}'\n",
    "p2=r'[0-9]{3}-[0-9]{3}-[0-9]{4}'\n",
    "p3 = r'\\([0-9]{3}\\)[0-9]{3}-[0-9]{4}'\n",
    "p4 = r'[0-9]{3}\\.[0-9]{3}\\.[0-9]{4}'\n",
    "p5 = r'\\([0-9]{3}\\)\\s[0-9]{3}-[0-9]{4}'\n",
    "pattern= p1+'|'+p2+'|'+p3+'|'+p4+'|'+p5\n",
    "prog = re.compile(pattern)\n",
    "\n",
    "printMatch(\"3124567897\")\n",
    "printMatch(\"312-456-7897\")\n",
    "printMatch(\"(312)456-7897\")\n",
    "printMatch(\"312.456.7897\")\n",
    "printMatch(\"(312) 456-7897\")"
   ]
  },
  {
   "cell_type": "code",
   "execution_count": 143,
   "metadata": {},
   "outputs": [
    {
     "name": "stdout",
     "output_type": "stream",
     "text": [
      "3124567897\n",
      "312-456-7897\n",
      "(312)456-7897\n",
      "312.456.7897\n",
      "(312) 456-7897\n"
     ]
    }
   ],
   "source": [
    "p1= r'[0-9]{10}'\n",
    "p2=r'[0-9]{3}-[0-9]{3}-[0-9]{4}'\n",
    "p3 = r'\\([0-9]{3}\\)\\s*[0-9]{3}-[0-9]{4}'\n",
    "p4 = r'[0-9]{3}\\.[0-9]{3}\\.[0-9]{4}'\n",
    "pattern= p1+'|'+p2+'|'+p3+'|'+p4\n",
    "prog = re.compile(pattern)\n",
    "\n",
    "printMatch(\"3124567897\")\n",
    "printMatch(\"312-456-7897\")\n",
    "printMatch(\"(312)456-7897\")\n",
    "printMatch(\"312.456.7897\")\n",
    "printMatch(\"(312) 456-7897\")"
   ]
  },
  {
   "cell_type": "markdown",
   "metadata": {},
   "source": [
    "Better :)"
   ]
  },
  {
   "cell_type": "markdown",
   "metadata": {},
   "source": [
    "### The `.findall()` Method"
   ]
  },
  {
   "cell_type": "code",
   "execution_count": 144,
   "metadata": {},
   "outputs": [
    {
     "name": "stdout",
     "output_type": "stream",
     "text": [
      "Here are some phone numbers.\n",
      "Pick out the numbers with 312 area code: \n",
      "312-423-3456, 456-334-6721, 312-5478-9999, \n",
      "312-Not-a-Number,777.345.2317, 312.331.6789\n"
     ]
    },
    {
     "data": {
      "text/plain": [
       "['312-423-3456', '312-5478-9999', '312.331.6789']"
      ]
     },
     "execution_count": 144,
     "metadata": {},
     "output_type": "execute_result"
    }
   ],
   "source": [
    "phoneNums = \"\"\"Here are some phone numbers.\n",
    "Pick out the numbers with 312 area code: \n",
    "312-423-3456, 456-334-6721, 312-5478-9999, \n",
    "312-Not-a-Number,777.345.2317, 312.331.6789\"\"\"\n",
    "\n",
    "print(phoneNums)\n",
    "re.findall('312+[-\\.][0-9-\\.]+',phoneNums)"
   ]
  },
  {
   "cell_type": "markdown",
   "metadata": {},
   "source": [
    "## Activity 9: Extacting the Top 100 eBooks from Gutenberg"
   ]
  },
  {
   "cell_type": "code",
   "execution_count": null,
   "metadata": {},
   "outputs": [],
   "source": []
  }
 ],
 "metadata": {
  "kernelspec": {
   "display_name": "Python 3",
   "language": "python",
   "name": "python3"
  },
  "language_info": {
   "codemirror_mode": {
    "name": "ipython",
    "version": 3
   },
   "file_extension": ".py",
   "mimetype": "text/x-python",
   "name": "python",
   "nbconvert_exporter": "python",
   "pygments_lexer": "ipython3",
   "version": "3.8.5"
  }
 },
 "nbformat": 4,
 "nbformat_minor": 4
}
