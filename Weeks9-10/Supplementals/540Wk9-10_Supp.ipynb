{
 "cells": [
  {
   "cell_type": "markdown",
   "metadata": {},
   "source": [
    "# Supplementals: Weeks 9-10"
   ]
  },
  {
   "cell_type": "code",
   "execution_count": 1,
   "metadata": {},
   "outputs": [],
   "source": [
    "import bs4\n",
    "from urllib.request import urlopen as uReq\n",
    "from bs4 import BeautifulSoup as soup\n",
    "\n",
    "import requests\n",
    "import re\n",
    "from lxml import html\n",
    "\n",
    "from bs4 import BeautifulSoup"
   ]
  },
  {
   "cell_type": "markdown",
   "metadata": {},
   "source": [
    "## APIs 101: What Exactly is an API? Part 1\n",
    "https://www.youtube.com/watch?v=cpRcK4GS068"
   ]
  },
  {
   "cell_type": "markdown",
   "metadata": {},
   "source": [
    "## Intro to Web Scraping with Python and Beautiful Soup\n",
    "https://www.youtube.com/watch?v=XQgXKtPSzUI"
   ]
  },
  {
   "cell_type": "code",
   "execution_count": 2,
   "metadata": {},
   "outputs": [],
   "source": [
    "# pip install bs4"
   ]
  },
  {
   "cell_type": "code",
   "execution_count": 3,
   "metadata": {},
   "outputs": [],
   "source": [
    "import bs4"
   ]
  },
  {
   "cell_type": "code",
   "execution_count": 4,
   "metadata": {},
   "outputs": [],
   "source": [
    "from urllib.request import urlopen as uReq\n",
    "from bs4 import BeautifulSoup as soup"
   ]
  },
  {
   "cell_type": "code",
   "execution_count": 5,
   "metadata": {},
   "outputs": [],
   "source": [
    "# myUrl = \"https://www.newegg.com/p/pl?d=video+card\"\n",
    "myUrl = \"https://www.newegg.com/p/pl?d=video+card&N=100006662\""
   ]
  },
  {
   "cell_type": "markdown",
   "metadata": {},
   "source": [
    "Open up connection, grab the page:"
   ]
  },
  {
   "cell_type": "code",
   "execution_count": 6,
   "metadata": {},
   "outputs": [],
   "source": [
    "# Opening up connection, grabbing the page\n",
    "uClient = uReq(myUrl) # this step actually downloads the web page"
   ]
  },
  {
   "cell_type": "markdown",
   "metadata": {},
   "source": [
    "Using `.read()` will dump everything, so assign it to something:"
   ]
  },
  {
   "cell_type": "code",
   "execution_count": 7,
   "metadata": {},
   "outputs": [],
   "source": [
    "page_html = uClient.read() "
   ]
  },
  {
   "cell_type": "code",
   "execution_count": 8,
   "metadata": {},
   "outputs": [
    {
     "data": {
      "text/plain": [
       "b'<!DOCTYPE html><html lang=\"en-us\"><head><title>video card | Newegg.com</title><meta charSet=\"utf-8\"/><meta http-equiv=\"content-type\" content=\"text/html; charset=UTF-8\"/><meta name=\"referrer\" content=\"always\"/><meta name=\"keywords\" content=\"video card\"/><meta name=\"description\" content=\"Search Newegg.com for video card. Get fast shipping and top-rated customer service.\"/><meta property=\"og:image\" content=\"https://c1.neweggimages.com/WebResource/Themes/2005/Nest/logo_424x210.png\"/><meta property=\"'"
      ]
     },
     "execution_count": 8,
     "metadata": {},
     "output_type": "execute_result"
    }
   ],
   "source": [
    "page_html[:500]"
   ]
  },
  {
   "cell_type": "markdown",
   "metadata": {},
   "source": [
    "Close the client:"
   ]
  },
  {
   "cell_type": "code",
   "execution_count": 9,
   "metadata": {},
   "outputs": [],
   "source": [
    "uClient.close()"
   ]
  },
  {
   "cell_type": "markdown",
   "metadata": {},
   "source": [
    "Parse the HTML by calling the soup function. Again, store to a variable:"
   ]
  },
  {
   "cell_type": "code",
   "execution_count": 10,
   "metadata": {},
   "outputs": [],
   "source": [
    "# HTML parsing\n",
    "page_soup = soup(page_html, \"html.parser\")"
   ]
  },
  {
   "cell_type": "markdown",
   "metadata": {},
   "source": [
    "Look at the header:"
   ]
  },
  {
   "cell_type": "code",
   "execution_count": 11,
   "metadata": {},
   "outputs": [
    {
     "data": {
      "text/plain": [
       "<h1 class=\"page-title-text\">Video Cards &amp; Video Devices</h1>"
      ]
     },
     "execution_count": 11,
     "metadata": {},
     "output_type": "execute_result"
    }
   ],
   "source": [
    "page_soup.h1"
   ]
  },
  {
   "cell_type": "code",
   "execution_count": 12,
   "metadata": {},
   "outputs": [
    {
     "data": {
      "text/plain": [
       "<p class=\"item-msg\"><a class=\"shipped-by-newegg\" href=\"https://kb.newegg.com/knowledge-base/shipped-by-newegg/\">Shipped by Newegg</a></p>"
      ]
     },
     "execution_count": 12,
     "metadata": {},
     "output_type": "execute_result"
    }
   ],
   "source": [
    "page_soup.p"
   ]
  },
  {
   "cell_type": "markdown",
   "metadata": {},
   "source": [
    "Traverse the HTML. Convert every graphics card into a line item in a CSV file:"
   ]
  },
  {
   "cell_type": "code",
   "execution_count": 13,
   "metadata": {},
   "outputs": [
    {
     "data": {
      "text/plain": [
       "<span class=\"hid-text\">Search</span>"
      ]
     },
     "execution_count": 13,
     "metadata": {},
     "output_type": "execute_result"
    }
   ],
   "source": [
    "page_soup.body.span"
   ]
  },
  {
   "cell_type": "markdown",
   "metadata": {},
   "source": [
    "Right click one of the cards and 'Inspect Element'  \n",
    "\\<div class=\"item-container\"> == \\$0   \n",
    "\n",
    "Write a script on how to parse one graphics card,  \n",
    "Then loop through and find all the class containers to parse out every card"
   ]
  },
  {
   "cell_type": "code",
   "execution_count": 14,
   "metadata": {},
   "outputs": [],
   "source": [
    "# Grabs each product\n",
    "containers = page_soup.findAll(\"div\", {\"class\": \"item-container\"})"
   ]
  },
  {
   "cell_type": "markdown",
   "metadata": {},
   "source": [
    "How many did it find?"
   ]
  },
  {
   "cell_type": "code",
   "execution_count": 15,
   "metadata": {},
   "outputs": [
    {
     "data": {
      "text/plain": [
       "36"
      ]
     },
     "execution_count": 15,
     "metadata": {},
     "output_type": "execute_result"
    }
   ],
   "source": [
    "len(containers)"
   ]
  },
  {
   "cell_type": "markdown",
   "metadata": {},
   "source": [
    "See the HTML for the first card:"
   ]
  },
  {
   "cell_type": "code",
   "execution_count": 16,
   "metadata": {},
   "outputs": [
    {
     "data": {
      "text/plain": [
       "<div class=\"item-container\"><a class=\"item-img\" href=\"https://www.newegg.com/msi-geforce-gtx-1660-super-gtx-1660-super-gaming-x/p/N82E16814137476?Description=video card&amp;cm_re=video_card-_-14-137-476-_-Product\"><img alt=\"MSI GeForce GTX 1660 SUPER DirectX 12 GTX 1660 SUPER GAMING X 6GB 192-Bit GDDR6 PCI Express 3.0 x16 HDCP Ready Video Card\" src=\"https://c1.neweggimages.com/ProductImageCompressAll300/14-137-476-V01.jpg\" title=\"MSI GeForce GTX 1660 SUPER DirectX 12 GTX 1660 SUPER GAMING X 6GB 192-Bit GDDR6 PCI Express 3.0 x16 HDCP Ready Video Card\"/></a><div class=\"item-info\"><div class=\"item-branding\"><a class=\"item-brand\" href=\"https://www.newegg.com/MSI/BrandStore/ID-1312\"><img alt=\"MSI\" src=\"https://c1.neweggimages.com/Brandimage_70x28/Brand1312.gif\" title=\"MSI\"/></a><a class=\"item-rating\" href=\"https://www.newegg.com/msi-geforce-gtx-1660-super-gtx-1660-super-gaming-x/p/N82E16814137476?IsFeedbackTab=true#scrollFullInfo\" title=\"Rating + 5\"><i class=\"rating rating-5\"></i><span class=\"item-rating-num\">(97)</span></a></div><a class=\"item-title\" href=\"https://www.newegg.com/msi-geforce-gtx-1660-super-gtx-1660-super-gaming-x/p/N82E16814137476?Description=video card&amp;cm_re=video_card-_-14-137-476-_-Product\" title=\"View Details\">MSI GeForce GTX 1660 SUPER DirectX 12 GTX 1660 SUPER GAMING X 6GB 192-Bit GDDR6 PCI Express 3.0 x16 HDCP Ready Video Card</a><ul class=\"item-features\"><li><strong>Max Resolution:</strong> 7680 x 4320</li><li><strong>DisplayPort:</strong> 3 x DisplayPort 1.4</li><li><strong>HDMI:</strong> 1 x HDMI 2.0b</li><li><strong>Card Dimensions (L x H):</strong> 9.72\" x 5.00\"</li><li><strong>Model #: </strong>1660SuperGamingX</li><li><strong>Return Policy: </strong><a href=\"https://www.newegg.com/Seller-Store/Sennow/about\" target=\"_blank\" title=\"View Return Policy(new window)\">View Return Policy</a></li></ul></div><div class=\"item-action\"><ul class=\"price\"><li class=\"price-was\"><span class=\"price-was-data\">$649.99</span></li><li class=\"price-map\"> </li><li class=\"price-current\"><span class=\"price-current-label\"></span>$<strong>619</strong><sup>.99</sup> <a class=\"price-current-num\" href=\"https://www.newegg.com/msi-geforce-gtx-1660-super-gtx-1660-super-gaming-x/p/N82E16814137476?Item=9SIAGKCCPD6457&amp;Description=video+card&amp;buyingoptions=New\">(3 Offers)</a><span class=\"price-current-range\"><abbr title=\"to\">–</abbr></span></li><li class=\"price-save\"><span class=\"price-save-label\">Save: </span><span class=\"price-save-percent\">5%</span></li><li class=\"price-ship\">$45.00 Shipping</li></ul><div class=\"item-operate\"><div class=\"item-button-area\"><button class=\"btn btn-mini\" title=\"View Details \">View Details <i class=\"fas fa-caret-right\"></i></button></div><div class=\"item-compare-box\"><label class=\"form-checkbox\"><input autocomplete=\"off\" type=\"checkbox\"/><span class=\"form-checkbox-title\">Compare</span></label></div></div></div><div class=\"item-stock\" id=\"stock_9SIAGKCCPD6457\"></div></div>"
      ]
     },
     "execution_count": 16,
     "metadata": {},
     "output_type": "execute_result"
    }
   ],
   "source": [
    "containers[0]"
   ]
  },
  {
   "cell_type": "markdown",
   "metadata": {},
   "source": [
    "Can paste this into Sublime Text editor and set the syntax to HTML to make it more legible.  Looks like there's an HTML highlight option in Jupyter text files as well.  \n",
    "Copy paste into https://beautifier.io/ to prettify it, then paste back into text file."
   ]
  },
  {
   "cell_type": "markdown",
   "metadata": {},
   "source": [
    "Prototype the loop before building it:"
   ]
  },
  {
   "cell_type": "code",
   "execution_count": 17,
   "metadata": {},
   "outputs": [],
   "source": [
    "container = containers[0]"
   ]
  },
  {
   "cell_type": "code",
   "execution_count": 18,
   "metadata": {},
   "outputs": [
    {
     "data": {
      "text/plain": [
       "<div class=\"item-info\"><div class=\"item-branding\"><a class=\"item-brand\" href=\"https://www.newegg.com/MSI/BrandStore/ID-1312\"><img alt=\"MSI\" src=\"https://c1.neweggimages.com/Brandimage_70x28/Brand1312.gif\" title=\"MSI\"/></a><a class=\"item-rating\" href=\"https://www.newegg.com/msi-geforce-gtx-1660-super-gtx-1660-super-gaming-x/p/N82E16814137476?IsFeedbackTab=true#scrollFullInfo\" title=\"Rating + 5\"><i class=\"rating rating-5\"></i><span class=\"item-rating-num\">(97)</span></a></div><a class=\"item-title\" href=\"https://www.newegg.com/msi-geforce-gtx-1660-super-gtx-1660-super-gaming-x/p/N82E16814137476?Description=video card&amp;cm_re=video_card-_-14-137-476-_-Product\" title=\"View Details\">MSI GeForce GTX 1660 SUPER DirectX 12 GTX 1660 SUPER GAMING X 6GB 192-Bit GDDR6 PCI Express 3.0 x16 HDCP Ready Video Card</a><ul class=\"item-features\"><li><strong>Max Resolution:</strong> 7680 x 4320</li><li><strong>DisplayPort:</strong> 3 x DisplayPort 1.4</li><li><strong>HDMI:</strong> 1 x HDMI 2.0b</li><li><strong>Card Dimensions (L x H):</strong> 9.72\" x 5.00\"</li><li><strong>Model #: </strong>1660SuperGamingX</li><li><strong>Return Policy: </strong><a href=\"https://www.newegg.com/Seller-Store/Sennow/about\" target=\"_blank\" title=\"View Return Policy(new window)\">View Return Policy</a></li></ul></div>"
      ]
     },
     "execution_count": 18,
     "metadata": {},
     "output_type": "execute_result"
    }
   ],
   "source": [
    "container.div"
   ]
  },
  {
   "cell_type": "code",
   "execution_count": 19,
   "metadata": {},
   "outputs": [
    {
     "data": {
      "text/plain": [
       "<div class=\"item-branding\"><a class=\"item-brand\" href=\"https://www.newegg.com/MSI/BrandStore/ID-1312\"><img alt=\"MSI\" src=\"https://c1.neweggimages.com/Brandimage_70x28/Brand1312.gif\" title=\"MSI\"/></a><a class=\"item-rating\" href=\"https://www.newegg.com/msi-geforce-gtx-1660-super-gtx-1660-super-gaming-x/p/N82E16814137476?IsFeedbackTab=true#scrollFullInfo\" title=\"Rating + 5\"><i class=\"rating rating-5\"></i><span class=\"item-rating-num\">(97)</span></a></div>"
      ]
     },
     "execution_count": 19,
     "metadata": {},
     "output_type": "execute_result"
    }
   ],
   "source": [
    "container.div.div"
   ]
  },
  {
   "cell_type": "code",
   "execution_count": 20,
   "metadata": {},
   "outputs": [
    {
     "data": {
      "text/plain": [
       "<a class=\"item-brand\" href=\"https://www.newegg.com/MSI/BrandStore/ID-1312\"><img alt=\"MSI\" src=\"https://c1.neweggimages.com/Brandimage_70x28/Brand1312.gif\" title=\"MSI\"/></a>"
      ]
     },
     "execution_count": 20,
     "metadata": {},
     "output_type": "execute_result"
    }
   ],
   "source": [
    "container.div.div.a"
   ]
  },
  {
   "cell_type": "code",
   "execution_count": 21,
   "metadata": {},
   "outputs": [
    {
     "data": {
      "text/plain": [
       "<img alt=\"MSI\" src=\"https://c1.neweggimages.com/Brandimage_70x28/Brand1312.gif\" title=\"MSI\"/>"
      ]
     },
     "execution_count": 21,
     "metadata": {},
     "output_type": "execute_result"
    }
   ],
   "source": [
    "container.div.div.a.img"
   ]
  },
  {
   "cell_type": "code",
   "execution_count": 22,
   "metadata": {},
   "outputs": [
    {
     "data": {
      "text/plain": [
       "'MSI'"
      ]
     },
     "execution_count": 22,
     "metadata": {},
     "output_type": "execute_result"
    }
   ],
   "source": [
    "container.div.div.a.img[\"title\"]"
   ]
  },
  {
   "cell_type": "markdown",
   "metadata": {},
   "source": [
    "Add that to the script."
   ]
  },
  {
   "cell_type": "code",
   "execution_count": 23,
   "metadata": {},
   "outputs": [],
   "source": [
    "# for container in containers:\n",
    "#     brand = container.div.div.a.img[\"title\"]"
   ]
  },
  {
   "cell_type": "code",
   "execution_count": 24,
   "metadata": {},
   "outputs": [],
   "source": [
    "# container.div.div.a"
   ]
  },
  {
   "cell_type": "markdown",
   "metadata": {},
   "source": [
    "Wrong one. Let's use `.findall()` to locate the right tag:"
   ]
  },
  {
   "cell_type": "code",
   "execution_count": 25,
   "metadata": {},
   "outputs": [],
   "source": [
    "title_container = container.findAll(\"a\", {\"class\": \"item-title\"})"
   ]
  },
  {
   "cell_type": "code",
   "execution_count": 26,
   "metadata": {},
   "outputs": [
    {
     "data": {
      "text/plain": [
       "[<a class=\"item-title\" href=\"https://www.newegg.com/msi-geforce-gtx-1660-super-gtx-1660-super-gaming-x/p/N82E16814137476?Description=video card&amp;cm_re=video_card-_-14-137-476-_-Product\" title=\"View Details\">MSI GeForce GTX 1660 SUPER DirectX 12 GTX 1660 SUPER GAMING X 6GB 192-Bit GDDR6 PCI Express 3.0 x16 HDCP Ready Video Card</a>]"
      ]
     },
     "execution_count": 26,
     "metadata": {},
     "output_type": "execute_result"
    }
   ],
   "source": [
    "title_container"
   ]
  },
  {
   "cell_type": "code",
   "execution_count": 27,
   "metadata": {},
   "outputs": [
    {
     "data": {
      "text/plain": [
       "<a class=\"item-title\" href=\"https://www.newegg.com/msi-geforce-gtx-1660-super-gtx-1660-super-gaming-x/p/N82E16814137476?Description=video card&amp;cm_re=video_card-_-14-137-476-_-Product\" title=\"View Details\">MSI GeForce GTX 1660 SUPER DirectX 12 GTX 1660 SUPER GAMING X 6GB 192-Bit GDDR6 PCI Express 3.0 x16 HDCP Ready Video Card</a>"
      ]
     },
     "execution_count": 27,
     "metadata": {},
     "output_type": "execute_result"
    }
   ],
   "source": [
    "title_container[0]"
   ]
  },
  {
   "cell_type": "code",
   "execution_count": 28,
   "metadata": {},
   "outputs": [
    {
     "data": {
      "text/plain": [
       "'MSI GeForce GTX 1660 SUPER DirectX 12 GTX 1660 SUPER GAMING X 6GB 192-Bit GDDR6 PCI Express 3.0 x16 HDCP Ready Video Card'"
      ]
     },
     "execution_count": 28,
     "metadata": {},
     "output_type": "execute_result"
    }
   ],
   "source": [
    "title_container[0].text"
   ]
  },
  {
   "cell_type": "markdown",
   "metadata": {},
   "source": [
    "Back to the loop:"
   ]
  },
  {
   "cell_type": "code",
   "execution_count": 29,
   "metadata": {},
   "outputs": [],
   "source": [
    "# for container in containers:\n",
    "#     brand = container.div.div.a.img[\"title\"]\n",
    "    \n",
    "#     title_container = container.findAll(\"a\", {\"class\": \"item-title\"})\n",
    "#     product_name = title_container[0].text"
   ]
  },
  {
   "cell_type": "markdown",
   "metadata": {},
   "source": [
    "Let's grab shipping:  \n",
    "Inspect shipping element - \\<li> tag, class=\"price-ship\""
   ]
  },
  {
   "cell_type": "code",
   "execution_count": 30,
   "metadata": {},
   "outputs": [],
   "source": [
    "shipping_container = container.findAll(\"li\", {\"class\": \"price-ship\"})"
   ]
  },
  {
   "cell_type": "code",
   "execution_count": 31,
   "metadata": {},
   "outputs": [
    {
     "data": {
      "text/plain": [
       "[<li class=\"price-ship\">$45.00 Shipping</li>]"
      ]
     },
     "execution_count": 31,
     "metadata": {},
     "output_type": "execute_result"
    }
   ],
   "source": [
    "shipping_container"
   ]
  },
  {
   "cell_type": "code",
   "execution_count": 32,
   "metadata": {},
   "outputs": [
    {
     "data": {
      "text/plain": [
       "<li class=\"price-ship\">$45.00 Shipping</li>"
      ]
     },
     "execution_count": 32,
     "metadata": {},
     "output_type": "execute_result"
    }
   ],
   "source": [
    "shipping_container[0]"
   ]
  },
  {
   "cell_type": "code",
   "execution_count": 33,
   "metadata": {},
   "outputs": [
    {
     "data": {
      "text/plain": [
       "'$45.00 Shipping'"
      ]
     },
     "execution_count": 33,
     "metadata": {},
     "output_type": "execute_result"
    }
   ],
   "source": [
    "shipping_container[0].text"
   ]
  },
  {
   "cell_type": "markdown",
   "metadata": {},
   "source": [
    "Free shipping has extra spaces, newlines, etc., so lets strip that:"
   ]
  },
  {
   "cell_type": "code",
   "execution_count": 34,
   "metadata": {},
   "outputs": [
    {
     "data": {
      "text/plain": [
       "'$45.00 Shipping'"
      ]
     },
     "execution_count": 34,
     "metadata": {},
     "output_type": "execute_result"
    }
   ],
   "source": [
    "shipping_container[0].text.strip()"
   ]
  },
  {
   "cell_type": "code",
   "execution_count": 35,
   "metadata": {},
   "outputs": [],
   "source": [
    "# for container in containers:\n",
    "#     brand = container.div.div.a.img[\"title\"]\n",
    "    \n",
    "#     title_container = container.findAll(\"a\", {\"class\": \"item-title\"})\n",
    "#     product_name = title_container[0].text\n",
    "    \n",
    "#     shipping_container = container.findAll(\"li\", {\"class\": \"price-ship\"})\n",
    "#     shipping = shipping_container[0].text.strip()"
   ]
  },
  {
   "cell_type": "markdown",
   "metadata": {},
   "source": [
    "Let's print it out first to make sure it works:"
   ]
  },
  {
   "cell_type": "code",
   "execution_count": 36,
   "metadata": {},
   "outputs": [],
   "source": [
    "# for container in containers:\n",
    "#     # Errors out because some don't have the little image with the brand name\n",
    "#     brand = container.div.div.a.img[\"title\"]\n",
    "    \n",
    "#     title_container = container.findAll(\"a\", {\"class\": \"item-title\"})\n",
    "#     product_name = title_container[0].text\n",
    "    \n",
    "#     shipping_container = container.findAll(\"li\", {\"class\": \"price-ship\"})\n",
    "#     shipping = shipping_container[0].text.strip()\n",
    "    \n",
    "#     print(\"Brand:\", brand)\n",
    "#     print(\"Product:\", product_name)\n",
    "#     print(\"Shipping:\", shipping)\n",
    "#     print('-'*60)"
   ]
  },
  {
   "cell_type": "markdown",
   "metadata": {},
   "source": [
    "Looks like one entry doesn't have that little brand image tag. Might have to pull the Brand from another spot :|"
   ]
  },
  {
   "cell_type": "code",
   "execution_count": 37,
   "metadata": {},
   "outputs": [
    {
     "data": {
      "text/plain": [
       "'MSI'"
      ]
     },
     "execution_count": 37,
     "metadata": {},
     "output_type": "execute_result"
    }
   ],
   "source": [
    "container.div.div.a.img[\"title\"]"
   ]
  },
  {
   "cell_type": "markdown",
   "metadata": {},
   "source": [
    "Save to a file:"
   ]
  },
  {
   "cell_type": "code",
   "execution_count": 38,
   "metadata": {},
   "outputs": [],
   "source": [
    "# filename = 'products.csv'\n",
    "# f = open(filename, \"w\")\n",
    "\n",
    "# headers = \"brand, product_name, shipping\\n\"\n",
    "\n",
    "# f.write(headers)\n",
    "\n",
    "# for container in containers:\n",
    "#     brand = container.div.div.a.img[\"title\"]\n",
    "    \n",
    "#     title_container = container.findAll(\"a\", {\"class\": \"item-title\"})\n",
    "#     product_name = title_container[0].text\n",
    "    \n",
    "#     shipping_container = container.findAll(\"li\", {\"class\": \"price-ship\"})\n",
    "#     shipping = shipping_container[0].text.strip()\n",
    "    \n",
    "#     print(\"brand:\", brand)\n",
    "#     print(\"product_name:\", product_name)\n",
    "#     print(\"shipping:\", shipping)\n",
    "# #     print('-'*60)\n",
    "    \n",
    "#     # Notice some of the names have commas in them; need to replace these\n",
    "#     f.write(brand + \",\" + product_name.replace(\",\", \"|\") + \",\" + shipping + \"\\n\")\n",
    " "
   ]
  },
  {
   "cell_type": "code",
   "execution_count": 39,
   "metadata": {},
   "outputs": [],
   "source": [
    "# container2 = containers[18]\n",
    "# container2"
   ]
  },
  {
   "cell_type": "code",
   "execution_count": 40,
   "metadata": {},
   "outputs": [],
   "source": [
    "# container2.findAll(\"a\", {\"class\": \"item-img combo-img-0\"})[0]"
   ]
  },
  {
   "cell_type": "code",
   "execution_count": 41,
   "metadata": {},
   "outputs": [],
   "source": [
    "# container2.div.a.img['alt']"
   ]
  },
  {
   "cell_type": "code",
   "execution_count": 42,
   "metadata": {},
   "outputs": [],
   "source": [
    "# container2.div.a['title']"
   ]
  },
  {
   "cell_type": "code",
   "execution_count": 43,
   "metadata": {},
   "outputs": [
    {
     "data": {
      "text/plain": [
       "'MSI'"
      ]
     },
     "execution_count": 43,
     "metadata": {},
     "output_type": "execute_result"
    }
   ],
   "source": [
    "container.div.div.a.img[\"title\"]"
   ]
  },
  {
   "cell_type": "code",
   "execution_count": 44,
   "metadata": {},
   "outputs": [
    {
     "data": {
      "text/plain": [
       "<img alt=\"MSI\" src=\"https://c1.neweggimages.com/Brandimage_70x28/Brand1312.gif\" title=\"MSI\"/>"
      ]
     },
     "execution_count": 44,
     "metadata": {},
     "output_type": "execute_result"
    }
   ],
   "source": [
    "container.div.div.a.img"
   ]
  },
  {
   "cell_type": "code",
   "execution_count": 45,
   "metadata": {},
   "outputs": [],
   "source": [
    "# container2.div.a.text"
   ]
  },
  {
   "cell_type": "code",
   "execution_count": 46,
   "metadata": {},
   "outputs": [],
   "source": [
    "# container2.div.a.text.partition(\" \")[0]"
   ]
  },
  {
   "cell_type": "markdown",
   "metadata": {},
   "source": [
    "Woo hoo!!"
   ]
  },
  {
   "cell_type": "code",
   "execution_count": 47,
   "metadata": {},
   "outputs": [
    {
     "name": "stdout",
     "output_type": "stream",
     "text": [
      "brand: MSI\n",
      "product_name: MSI GeForce GTX 1660 SUPER DirectX 12 GTX 1660 SUPER GAMING X 6GB 192-Bit GDDR6 PCI Express 3.0 x16 HDCP Ready Video Card\n",
      "shipping: $45.00 Shipping\n",
      "------------------------------------------------------------\n",
      "brand: XFX\n",
      "product_name: XFX Radeon RX 580 DirectX 12 RX-580P8DFD6 XXX Edition 8GB 256-Bit GDDR5 PCI Express 3.0 CrossFireX Support Video Card\n",
      "shipping: Free Shipping\n",
      "------------------------------------------------------------\n",
      "brand: GIGABYTE\n",
      "product_name: GIGABYTE GeForce GTX 1660 SUPER DirectX 12 GV-N166SGAMING OC-6GD 6GB 192-Bit GDDR6 PCI Express 3.0 x16 ATX Video Card\n",
      "shipping: Free Shipping\n",
      "------------------------------------------------------------\n",
      "brand: ASUS\n",
      "product_name: ASUS GeForce GT 1030 2GB Phoenix Fan OC Edition HDMI DVI Graphics Card (PH-GT1030-O2G)\n",
      "shipping: $8.99 Shipping\n",
      "------------------------------------------------------------\n",
      "brand: MSI\n",
      "product_name: MSI GeForce GTX 1050 Ti DirectX 12 GTX 1050 Ti GAMING X 4G 4GB 128-Bit GDDR5 PCI Express 3.0 x16 HDCP Ready ATX Video Card\n",
      "shipping: Free Shipping\n",
      "------------------------------------------------------------\n",
      "brand: MSI\n",
      "product_name: MSI GeForce RTX 2060 DirectX 12 RTX 2060 GAMING Z 6G 6GB 192-Bit GDDR6 PCI Express 3.0 x16 HDCP Ready Video Card\n",
      "shipping: $45.00 Shipping\n",
      "------------------------------------------------------------\n",
      "brand: Biostar\n",
      "product_name: Biostar Gaming Radeon RX 550 4GB GDDR5 128-Bit DirectX 12 PCI Express 3.0 DVI-D Dual Link, HDMI, DisplayPort\n",
      "shipping: $14.99 Shipping\n",
      "------------------------------------------------------------\n",
      "brand: PowerColor\n",
      "product_name: PowerColor RED DRAGON Radeon RX 570 DirectX 12 AXRX 570 4GBD5-DHDV3/OC 4GB 256-Bit GDDR5 PCI Express 3.0 CrossFireX Support ATX Video Card\n",
      "shipping: Free Shipping\n",
      "------------------------------------------------------------\n",
      "brand: EVGA\n",
      "product_name: EVGA GeForce GTX 1660 XC GAMING, 06G-P4-1163-KR, 6GB GDDR5, HDB Fan\n",
      "shipping: Free Shipping\n",
      "------------------------------------------------------------\n",
      "brand: Sapphire Tech\n",
      "product_name: SAPPHIRE PULSE Radeon RX 5600 XT DirectX 12 11296-01-20G 6GB 192-Bit GDDR6 PCI Express 4.0 ATX Video Card\n",
      "shipping: Free Shipping\n",
      "------------------------------------------------------------\n",
      "brand: XFX\n",
      "product_name: XFX Radeon RX 580 GTS Black Edition 1405 MHz OC+, 8GB 256-bit GDDR5, DX12 VR Ready, Double Dissipation, Dual BIOS, PCI-E AMD Graphics Card (RX-580P828D6)\n",
      "shipping: Free Shipping\n",
      "------------------------------------------------------------\n",
      "brand: GIGABYTE\n",
      "product_name: GIGABYTE GeForce GTX 1660 SUPER DirectX 12 GV-N166SGAMING-6GD 6GB 192-Bit GDDR6 PCI Express 3.0 x16 ATX Video Card\n",
      "shipping: Free Shipping\n",
      "------------------------------------------------------------\n",
      "brand: GIGABYTE\n",
      "product_name: GIGABYTE GeForce GTX 1650 DirectX 12 GV-N1656OC-4GL 4GB 128-Bit GDDR6 PCI Express 3.0 x16 Low Profile Ready Video Card\n",
      "shipping: Free Shipping\n",
      "------------------------------------------------------------\n",
      "brand: ASUS\n",
      "product_name: ASUS TUF Gaming GeForce GTX 1660 SUPER Overclocked 6GB Edition HDMI DP DVI Gaming Graphics Card (TUF-GTX1660S-O6G-GAMING)\n",
      "shipping: Free Shipping\n",
      "------------------------------------------------------------\n",
      "brand: GIGABYTE\n",
      "product_name: GIGABYTE GeForce GTX 1660 Ti OC 6G Graphics Card, 2 x WINDFORCE Fans, 6GB 192-Bit GDDR6, GV-N166TOC-6GD Video Card\n",
      "shipping: Free Shipping\n",
      "------------------------------------------------------------\n",
      "brand: GIGABYTE\n",
      "product_name: GIGABYTE GeForce GTX 1660 SUPER DirectX 12 GV-N166SOC-6GD 6GB 192-Bit GDDR6 PCI Express 3.0 x16 ATX Video Card\n",
      "shipping: Free Shipping\n",
      "------------------------------------------------------------\n",
      "brand: MSI\n",
      "product_name: MSI GeForce GTX 1660 SUPER DirectX 12 GTX 1660 SUPER GAMING Z PLUS 6GB 192-Bit GDDR6 PCI Express 3.0 x16 HDCP Ready Video Card\n",
      "shipping: $45.00 Shipping\n",
      "------------------------------------------------------------\n",
      "brand: MSI\n",
      "product_name: MSI GeForce RTX 2060 DirectX 12 RTX 2060 VENTUS XS 6G OC 6GB 192-Bit GDDR6 PCI Express 3.0 x16 HDCP Ready Video Card\n",
      "shipping: $45.00 Shipping\n",
      "------------------------------------------------------------\n",
      "brand: MSI\n",
      "product_name: MSI GeForce RTX 2070 SUPER DirectX 12 RTX 2070 SUPER GAMING X TRIO 8GB 256-Bit GDDR6 PCI Express 3.0 x16 HDCP Ready SLI Support Video Card\n",
      "shipping: Free Shipping\n",
      "------------------------------------------------------------\n",
      "brand: ASUS\n",
      "product_name: ASUS GeForce GTX 1660 Super Overclocked 6GB Dual-fan EVO Edition VR Ready HDMI DisplayPort DVI Graphics Card (DUAL-GTX1660S-O6G-EVO)\n",
      "shipping: Free Shipping\n",
      "------------------------------------------------------------\n",
      "brand: MSI\n",
      "product_name: MSI GeForce RTX 2070 SUPER DirectX 12 RTX 2070 Super GAMING X 8GB 256-Bit GDDR6 PCI Express 3.0 x16 HDCP Ready SLI Support Video Card\n",
      "shipping: Free Shipping\n",
      "------------------------------------------------------------\n",
      "brand: GIGABYTE\n",
      "product_name: GIGABYTE GeForce RTX 3070 DirectX 12 GV-N3070VISION OC-8GD 8GB 256-Bit GDDR6 PCI Express 4.0 x16 ATX Video Card and GIGABYTE P750GM 750W ATX 12V v2.31 80 PLUS GOLD Certified Full Modular Active PFC Power Supply\n",
      "shipping: \n",
      "------------------------------------------------------------\n",
      "brand: GIGABYTE\n",
      "product_name: GIGABYTE AORUS GeForce RTX 3070 DirectX 12 GV-N3070AORUS M-8GD 8GB 256-Bit GDDR6 PCI Express 4.0 x16 ATX Video Card and GIGABYTE P750GM 750W ATX 12V v2.31 80 PLUS GOLD Certified Full Modular Active PFC Power Supply\n",
      "shipping: \n",
      "------------------------------------------------------------\n",
      "brand: ASUS\n",
      "product_name: ASUS TUF Gaming GeForce RTX 3060 Ti DirectX 12 TUF-RTX3060TI-O8G-GAMING 8GB 256-Bit GDDR6 PCI Express 4.0 HDCP Ready Video Card\n",
      "shipping: $9.99 Shipping\n",
      "------------------------------------------------------------\n",
      "brand: ZOTAC\n",
      "product_name: ZOTAC GAMING GeForce RTX 3070 Twin Edge OC 8GB GDDR6 256-bit 14 Gbps PCIE 4.0 Gaming Graphics Card, IceStorm 2.0 Advanced Cooling, White LED Logo Lighting, ZT-A30700H-10P\n",
      "shipping: $9.99 Shipping\n",
      "------------------------------------------------------------\n",
      "brand: XFX\n",
      "product_name: XFX Speedster MERC319 Radeon RX 6800 BLACK 16GB GDDR6 HDMI DisplayPort PCIe 4.0 Gaming Graphic Card, RX-68XLATBD9\n",
      "shipping: $9.99 Shipping\n",
      "------------------------------------------------------------\n",
      "brand: PowerColor\n",
      "product_name: PowerColor RED DEVIL Radeon RX 6800 XT DirectX 12 Ultimate AXRX 6800XT 16GBD6-3DHE/OC 16GB 256-Bit GDDR6 PCI Express 4.0 x16 ATX Video Card\n",
      "shipping: $9.99 Shipping\n",
      "------------------------------------------------------------\n",
      "brand: MSI\n",
      "product_name: MSI GeForce RTX 3070 DirectX 12 RTX 3070 GAMING X TRIO 8GB 256-Bit GDDR6 PCI Express 4.0 HDCP Ready Video Card\n",
      "shipping: $9.99 Shipping\n",
      "------------------------------------------------------------\n",
      "brand: MSI\n",
      "product_name: MSI GeForce RTX 3070 DirectX 12 Ultimate RTX 3070 SUPRIM 8G 8GB 256-Bit GDDR6 PCI Express 4.0 HDCP Ready Video Card\n",
      "shipping: $9.99 Shipping\n",
      "------------------------------------------------------------\n",
      "brand: ASUS\n",
      "product_name: ASUS ROG Strix GeForce RTX 3090 DirectX 12 ROG-STRIX-RTX3090-O24G-GAMING 24GB 384-Bit GDDR6X PCI Express 4.0 x16 HDCP Ready SLI Support Video Card\n",
      "shipping: $9.99 Shipping\n",
      "------------------------------------------------------------\n",
      "brand: MSI\n",
      "product_name: MSI GeForce RTX 3090 RTX 3090 SUPRIM X 24G 24GB 384-Bit GDDR6X Video Card\n",
      "shipping: $9.99 Shipping\n",
      "------------------------------------------------------------\n",
      "brand: MSI\n",
      "product_name: MSI GeForce RTX 3060 Ti DirectX 12 RTX 3060 Ti GAMING X TRIO 8GB 256-Bit GDDR6 PCI Express 4.0 HDCP Ready Video Card\n",
      "shipping: $9.99 Shipping\n",
      "------------------------------------------------------------\n",
      "brand: MSI\n",
      "product_name: MSI GeForce RTX 3090 DirectX 12 RTX 3090 GAMING X TRIO 24G 24GB 384-Bit GDDR6X PCI Express 4.0 HDCP Ready SLI Support Video Card\n",
      "shipping: $8.99 Shipping\n",
      "------------------------------------------------------------\n",
      "brand: MSI\n",
      "product_name: MSI GeForce RTX 3070 DirectX 12 RTX 3070 SUPRIM X 8G 8GB 256-Bit GDDR6 PCI Express 4.0 HDCP Ready Video Card\n",
      "shipping: $9.99 Shipping\n",
      "------------------------------------------------------------\n",
      "brand: MSI\n",
      "product_name: MSI GeForce RTX 3070 DirectX 12 RTX 3070 VENTUS 2X OC 8GB 256-Bit GDDR6 PCI Express 4.0 HDCP Ready Video Card\n",
      "shipping: $9.99 Shipping\n",
      "------------------------------------------------------------\n",
      "brand: MSI\n",
      "product_name: MSI Radeon RX 6800 DirectX 12 Ultimate RX 6800 GAMING X TRIO 16G 16GB 256-Bit GDDR6 PCI Express 4.0 HDCP Ready CrossFireX Support Video Card\n",
      "shipping: $9.99 Shipping\n",
      "------------------------------------------------------------\n"
     ]
    }
   ],
   "source": [
    "filename = 'products.csv'\n",
    "f = open(filename, \"w\")\n",
    "\n",
    "headers = \"brand, product_name, shipping\\n\"\n",
    "\n",
    "f.write(headers)\n",
    "\n",
    "for container in containers:\n",
    "    # Add in a try except because some don't have 'title' there\n",
    "    try:\n",
    "        brand = container.div.div.a.img[\"title\"]\n",
    "    except:\n",
    "        brand = container.div.a.text.partition(\" \")[0]\n",
    "    \n",
    "    title_container = container.findAll(\"a\", {\"class\": \"item-title\"})\n",
    "    product_name = title_container[0].text\n",
    "    \n",
    "    shipping_container = container.findAll(\"li\", {\"class\": \"price-ship\"})\n",
    "    shipping = shipping_container[0].text.strip()\n",
    "    \n",
    "    print(\"brand:\", brand)\n",
    "    print(\"product_name:\", product_name)\n",
    "    print(\"shipping:\", shipping)\n",
    "    print('-'*60)\n",
    "    \n",
    "    # Notice some of the names have commas in them; need to replace these\n",
    "    f.write(brand + \",\" + product_name.replace(\",\", \"|\") + \",\" + shipping + \"\\n\")\n",
    " "
   ]
  },
  {
   "cell_type": "markdown",
   "metadata": {},
   "source": [
    "Cool."
   ]
  },
  {
   "cell_type": "code",
   "execution_count": null,
   "metadata": {},
   "outputs": [],
   "source": []
  },
  {
   "cell_type": "markdown",
   "metadata": {},
   "source": [
    "## Python Web Scraping with Beautiful Soup and Regex\n",
    "https://www.youtube.com/watch?v=F1kZ39SvuGE"
   ]
  },
  {
   "cell_type": "code",
   "execution_count": 51,
   "metadata": {},
   "outputs": [],
   "source": [
    "import requests\n",
    "import re\n",
    "from lxml import html"
   ]
  },
  {
   "cell_type": "code",
   "execution_count": 60,
   "metadata": {},
   "outputs": [],
   "source": [
    "# # get the data\n",
    "# data = html.parse('scrape.html')"
   ]
  },
  {
   "cell_type": "code",
   "execution_count": 61,
   "metadata": {},
   "outputs": [],
   "source": [
    "# html.tostring(data).text"
   ]
  },
  {
   "cell_type": "code",
   "execution_count": 62,
   "metadata": {},
   "outputs": [],
   "source": [
    "# data.text"
   ]
  },
  {
   "cell_type": "code",
   "execution_count": 79,
   "metadata": {},
   "outputs": [],
   "source": [
    "# get the data\n",
    "from bs4 import BeautifulSoup\n",
    "f = open('scrape.html', encoding='utf8')\n",
    "data = BeautifulSoup(f)\n",
    "f.close()"
   ]
  },
  {
   "cell_type": "markdown",
   "metadata": {},
   "source": [
    "Quick and dirty method:"
   ]
  },
  {
   "cell_type": "code",
   "execution_count": 63,
   "metadata": {},
   "outputs": [],
   "source": [
    "# extract the phone numbers, emails, whatever\n",
    "phones = re.findall(r'(\\(?[0-9]{3}\\)?(?:\\-|\\s|\\.)?[0-9]{3}(?:\\-|\\.)[0-9]{4})', data.text)\n",
    "emails = re.findall(r'([\\d\\w\\.]+@[\\d\\w\\.\\-]+\\.\\w+)', data.text)"
   ]
  },
  {
   "cell_type": "markdown",
   "metadata": {},
   "source": [
    "Try with random golf url (works with any site):"
   ]
  },
  {
   "cell_type": "code",
   "execution_count": 67,
   "metadata": {},
   "outputs": [],
   "source": [
    "data = requests.get('https://www.mg-cc.org/club-information/club-contacts')"
   ]
  },
  {
   "cell_type": "code",
   "execution_count": 68,
   "metadata": {},
   "outputs": [],
   "source": [
    "# extract the phone numbers, emails, whatever\n",
    "phones = re.findall(r'(\\(?[0-9]{3}\\)?(?:\\-|\\s|\\.)?[0-9]{3}(?:\\-|\\.)[0-9]{4})', data.text)\n",
    "emails = re.findall(r'([\\d\\w\\.]+@[\\d\\w\\.\\-]+\\.\\w+)', data.text)"
   ]
  },
  {
   "cell_type": "code",
   "execution_count": 69,
   "metadata": {},
   "outputs": [
    {
     "name": "stdout",
     "output_type": "stream",
     "text": [
      "['(215) 886-3033', '(267) 241-3239', '(215) 361-2926', '(215) 886-3200'] ['mdwyer@mg-cc.org', 'morme@mg-cc.org', 'bfritz@mg-cc.org', 'bfritz@mg-cc.org', 'alazovitz@mg-cc.org', 'alazovitz@mg-cc.org', 'glenhart@mg-cc.org', 'glenhart@mg-cc.org', 'kbeck@mg-cc.org', 'kbeck@mg-cc.org', 'bdoheny@mg-cc.org', 'bdoheny@mg-cc.org', 'DiningManager@mg-cc.org', 'DiningManager@mg-cc.org', 'cgiampa@mg-cc.org', 'cgiampa@mg-cc.org', 'jccotto@mg-cc.org', 'sfalatek@mg-cc.org', 'selmarobinson@gmail.com', 'selmairobinson@gmail.com', 'freycc@npenn.org', 'freycc@npenn.org', 'kmurphy@mg-cc.org', 'kmurphy@mg-cc.org']\n"
     ]
    }
   ],
   "source": [
    "print(phones, emails)"
   ]
  },
  {
   "cell_type": "markdown",
   "metadata": {},
   "source": [
    "Now back to the example file.  \n",
    "Scrape using bs4, by tag:"
   ]
  },
  {
   "cell_type": "code",
   "execution_count": 79,
   "metadata": {},
   "outputs": [],
   "source": [
    "# get the data\n",
    "from bs4 import BeautifulSoup\n",
    "f = open('scrape.html', encoding='utf8')\n",
    "data = BeautifulSoup(f)\n",
    "f.close()"
   ]
  },
  {
   "cell_type": "code",
   "execution_count": 80,
   "metadata": {},
   "outputs": [],
   "source": [
    "# soup = BeautifulSoup(data.text, 'html.parser')"
   ]
  },
  {
   "cell_type": "code",
   "execution_count": 77,
   "metadata": {},
   "outputs": [],
   "source": [
    "# for tr in soup.find_all('tr'):\n",
    "#     for td in tr.find_all('td'):\n",
    "#         print(td.text)"
   ]
  },
  {
   "cell_type": "code",
   "execution_count": 82,
   "metadata": {},
   "outputs": [
    {
     "name": "stdout",
     "output_type": "stream",
     "text": [
      "Kennedy\n",
      "Integer@erateget.co.uk\n",
      "1-437-147-6843\n",
      "Graham\n",
      "magnis.dis@montesnascetur.ca\n",
      "1-200-770-0178\n",
      "Aristotle\n",
      "amet@velquam.ca\n",
      "1-807-310-0245\n",
      "Cullen\n",
      "Quisque.purus.sapien@Nuncsollicitudincommodo.org\n",
      "1-518-961-3821\n",
      "Samson\n",
      "turpis.egestas@consequat.org\n",
      "1-900-662-7207\n",
      "Talon\n",
      "faucibus.orci@erat.org\n",
      "1-413-755-3413\n",
      "Tad\n",
      "malesuada.ut.sem@a.org\n",
      "1-780-416-2930\n",
      "Chadwick\n",
      "velit.Pellentesque@nibh.net\n",
      "1-307-148-6690\n",
      "Orson\n",
      "elit.Curabitur.sed@Nullaaliquet.ca\n",
      "1-867-296-6130\n",
      "Orson\n",
      "nunc@lacusQuisque.com\n",
      "1-395-373-3605\n",
      "Austin\n",
      "parturient@idantedictum.co.uk\n",
      "1-237-577-7639\n",
      "Dexter\n",
      "ante.lectus@interdumSedauctor.com\n",
      "1-924-289-1310\n",
      "Hiram\n",
      "Aenean@fermentumconvallisligula.org\n",
      "1-372-683-8872\n",
      "Austin\n",
      "et.ultrices@lacusQuisque.com\n",
      "1-640-499-3399\n",
      "Kaseem\n",
      "nulla.In.tincidunt@Vestibulumuteros.net\n",
      "1-852-586-9376\n",
      "Nero\n",
      "justo@enimMaurisquis.net\n",
      "1-891-939-5295\n",
      "Salvador\n",
      "imperdiet.non@nonluctus.co.uk\n",
      "1-263-377-6148\n",
      "Thor\n",
      "tempor.diam.dictum@enim.org\n",
      "1-531-539-3780\n",
      "Holmes\n",
      "enim.diam.vel@inconsectetuer.co.uk\n",
      "1-423-339-4607\n",
      "Bruno\n",
      "Suspendisse.non@sempercursusInteger.com\n",
      "1-688-396-4195\n",
      "Kieran\n",
      "non@luctusutpellentesque.edu\n",
      "1-493-824-4554\n",
      "Marvin\n",
      "id.ante.dictum@Maecenas.net\n",
      "1-212-654-8134\n",
      "Lawrence\n",
      "tortor.dictum@ullamcorperDuis.co.uk\n",
      "1-441-644-2175\n",
      "Jakeem\n",
      "sapien@risus.com\n",
      "1-956-373-4816\n",
      "Allistair\n",
      "nisi.nibh.lacinia@portaelita.co.uk\n",
      "1-905-857-7428\n",
      "Denton\n",
      "pretium@maurisMorbinon.co.uk\n",
      "1-931-801-1193\n",
      "Maxwell\n",
      "eleifend.nec.malesuada@dolor.com\n",
      "1-965-984-8734\n",
      "Colorado\n",
      "magna.Cras@ultricesposuere.org\n",
      "1-425-929-2796\n",
      "Brenden\n",
      "eleifend.Cras@dolor.net\n",
      "1-273-501-2238\n",
      "Dean\n",
      "Integer@milacinia.org\n",
      "1-271-248-9519\n",
      "Felix\n",
      "Praesent@Sed.com\n",
      "1-361-722-2074\n",
      "Nash\n",
      "rutrum@hendreritneque.net\n",
      "1-376-380-3334\n",
      "Cade\n",
      "tortor.nibh@ultricesmauris.net\n",
      "1-522-527-3890\n",
      "Alfonso\n",
      "tincidunt.dui@Donecest.org\n",
      "1-785-622-5708\n",
      "Isaiah\n",
      "primis.in@sodales.org\n",
      "1-976-619-7604\n",
      "Norman\n",
      "Sed@Suspendissenonleo.co.uk\n",
      "1-874-466-8886\n",
      "Callum\n",
      "et.netus.et@risusNunc.net\n",
      "1-143-346-0714\n",
      "Sawyer\n",
      "Nulla@idmagnaet.ca\n",
      "1-750-237-4864\n",
      "Drew\n",
      "a@leo.ca\n",
      "1-463-279-4847\n",
      "Abbot\n",
      "felis.Nulla@nascetur.org\n",
      "1-466-357-4976\n",
      "Herman\n",
      "scelerisque@etmagnis.co.uk\n",
      "1-463-879-5682\n",
      "Ronan\n",
      "ac.arcu.Nunc@at.com\n",
      "1-630-985-3337\n",
      "Burton\n",
      "varius.Nam@Proin.net\n",
      "1-963-156-5711\n",
      "Beau\n",
      "Etiam@ultricesmaurisipsum.edu\n",
      "1-246-282-1223\n",
      "Lucas\n",
      "sem@Nullasemper.net\n",
      "1-121-835-5475\n",
      "Hiram\n",
      "vulputate.lacus@aaliquetvel.com\n",
      "1-953-470-2132\n",
      "Curran\n",
      "Suspendisse.sagittis.Nullam@eros.co.uk\n",
      "1-369-260-3390\n",
      "Boris\n",
      "Duis@temporerat.net\n",
      "1-144-448-5204\n",
      "Todd\n",
      "ac@euturpisNulla.ca\n",
      "1-170-807-2903\n",
      "Lars\n",
      "ac.mattis@maurisidsapien.co.uk\n",
      "1-837-271-1117\n",
      "Quinlan\n",
      "neque.Morbi.quis@netuset.org\n",
      "1-957-235-4304\n",
      "Colin\n",
      "lacinia.orci.consectetuer@lectussit.com\n",
      "1-952-659-7246\n",
      "Kuame\n",
      "ultrices.Vivamus.rhoncus@libero.org\n",
      "1-470-295-4397\n",
      "Hakeem\n",
      "eu@et.ca\n",
      "1-716-387-3909\n",
      "Giacomo\n",
      "volutpat.nunc@sitamet.edu\n",
      "1-119-695-5287\n",
      "Alden\n",
      "Aenean.gravida@metus.net\n",
      "1-806-494-5517\n",
      "Oleg\n",
      "ultrices.sit@laoreet.org\n",
      "1-997-248-1925\n",
      "Thaddeus\n",
      "diam@Proinmi.org\n",
      "1-896-437-5539\n",
      "Cameron\n",
      "ridiculus@feugiatmetus.com\n",
      "1-119-417-7008\n",
      "Keefe\n",
      "malesuada.augue.ut@Phasellus.co.uk\n",
      "1-787-667-0420\n",
      "Lucius\n",
      "nec@ornareFuscemollis.net\n",
      "1-258-852-9387\n",
      "Cedric\n",
      "Aenean.massa@neque.edu\n",
      "1-126-346-2796\n",
      "Fitzgerald\n",
      "neque.vitae@ultrices.com\n",
      "1-678-359-4514\n",
      "Joshua\n",
      "ante.Vivamus.non@nonegestasa.co.uk\n",
      "1-417-664-4907\n",
      "Vernon\n",
      "pharetra.ut.pharetra@metusfacilisislorem.ca\n",
      "1-721-200-2111\n",
      "Graham\n",
      "fringilla@sitametfaucibus.net\n",
      "1-967-741-6964\n",
      "Francis\n",
      "Donec.sollicitudin.adipiscing@parturientmontes.ca\n",
      "1-520-277-7029\n",
      "Barrett\n",
      "sed.dui@est.ca\n",
      "1-247-335-7686\n",
      "Damian\n",
      "eu.enim.Etiam@Nuncmauris.net\n",
      "1-929-327-8511\n",
      "Benedict\n",
      "ut@accumsaninterdumlibero.co.uk\n",
      "1-452-422-0296\n",
      "Isaiah\n",
      "pretium.et@Crasvulputatevelit.com\n",
      "1-947-297-3948\n",
      "Kuame\n",
      "inceptos@convallisconvallis.co.uk\n",
      "1-673-377-4042\n",
      "Hayes\n",
      "et@porttitoreros.edu\n",
      "1-312-869-6755\n",
      "Colton\n",
      "Donec@magna.net\n",
      "1-545-740-4182\n",
      "Cullen\n",
      "varius.orci@turpisvitaepurus.com\n",
      "1-228-612-5057\n",
      "Walter\n",
      "libero.Proin@Phasellusfermentum.net\n",
      "1-523-643-1888\n",
      "Zachary\n",
      "ante@tristiquesenectus.ca\n",
      "1-538-180-5898\n",
      "Marsden\n",
      "fermentum.metus@morbitristiquesenectus.net\n",
      "1-749-164-8519\n",
      "Herman\n",
      "Maecenas@orci.com\n",
      "1-712-638-0163\n",
      "Eagan\n",
      "dui@felis.org\n",
      "1-947-935-3045\n",
      "Chester\n",
      "arcu.eu.odio@facilisis.co.uk\n",
      "1-163-338-6125\n",
      "Chaney\n",
      "mi.Aliquam.gravida@nuncrisusvarius.com\n",
      "1-687-177-1274\n",
      "Zane\n",
      "arcu.ac.orci@sitametrisus.org\n",
      "1-719-614-6336\n",
      "Palmer\n",
      "facilisi.Sed@imperdiet.com\n",
      "1-253-880-5089\n",
      "Maxwell\n",
      "sem.vitae@fermentumfermentum.net\n",
      "1-199-474-2166\n",
      "Ian\n",
      "adipiscing@vitaeodio.org\n",
      "1-807-170-4602\n",
      "Charles\n",
      "ridiculus.mus.Donec@dolorFusce.org\n",
      "1-184-980-4056\n",
      "Armando\n",
      "vitae.diam@adipiscing.edu\n",
      "1-830-408-9400\n",
      "Byron\n",
      "tincidunt.Donec.vitae@lectus.com\n",
      "1-660-383-9472\n",
      "Kibo\n",
      "interdum.libero@rhoncusNullamvelit.ca\n",
      "1-937-679-5459\n",
      "Kirk\n",
      "nec.metus@orci.co.uk\n",
      "1-304-626-5417\n",
      "Murphy\n",
      "sem.semper.erat@nislarcu.co.uk\n",
      "1-787-468-0931\n",
      "Brody\n",
      "euismod@etipsumcursus.org\n",
      "1-689-941-8605\n",
      "Noah\n",
      "lacus.vestibulum@Sed.com\n",
      "1-520-467-5138\n",
      "Chaney\n",
      "accumsan@ac.net\n",
      "1-130-549-5961\n",
      "Zephania\n",
      "nascetur@estvitae.com\n",
      "1-678-921-6304\n",
      "Abdul\n",
      "mollis.non@enim.co.uk\n",
      "1-548-830-0160\n",
      "Neil\n",
      "non@etmagna.net\n",
      "1-541-447-6656\n",
      "Lucas\n",
      "et.lacinia@lobortisClass.com\n",
      "1-682-668-7110\n",
      "Brendan\n",
      "magnis@consectetueradipiscing.ca\n",
      "1-736-547-6676\n",
      "Kennedy\n",
      "Integer@erateget.co.uk\n",
      "1-437-147-6843\n",
      "Graham\n",
      "magnis.dis@montesnascetur.ca\n",
      "1-200-770-0178\n",
      "Aristotle\n",
      "amet@velquam.ca\n",
      "1-807-310-0245\n"
     ]
    }
   ],
   "source": [
    "for tr in data.find_all('tr'):\n",
    "    for td in tr.find_all('td'):\n",
    "        print(td.text)"
   ]
  },
  {
   "cell_type": "code",
   "execution_count": 87,
   "metadata": {},
   "outputs": [],
   "source": [
    "# get the data\n",
    "from bs4 import BeautifulSoup\n",
    "f = open('scrape.html', encoding='utf8')\n",
    "soup = BeautifulSoup(f)\n",
    "f.close()"
   ]
  },
  {
   "cell_type": "code",
   "execution_count": 88,
   "metadata": {},
   "outputs": [
    {
     "name": "stdout",
     "output_type": "stream",
     "text": [
      "[]\n",
      "['Kennedy', 'Integer@erateget.co.uk', '1-437-147-6843']\n",
      "['Graham', 'magnis.dis@montesnascetur.ca', '1-200-770-0178']\n",
      "['Aristotle', 'amet@velquam.ca', '1-807-310-0245']\n",
      "['Cullen', 'Quisque.purus.sapien@Nuncsollicitudincommodo.org', '1-518-961-3821']\n",
      "['Samson', 'turpis.egestas@consequat.org', '1-900-662-7207']\n",
      "['Talon', 'faucibus.orci@erat.org', '1-413-755-3413']\n",
      "['Tad', 'malesuada.ut.sem@a.org', '1-780-416-2930']\n",
      "['Chadwick', 'velit.Pellentesque@nibh.net', '1-307-148-6690']\n",
      "['Orson', 'elit.Curabitur.sed@Nullaaliquet.ca', '1-867-296-6130']\n",
      "['Orson', 'nunc@lacusQuisque.com', '1-395-373-3605']\n",
      "['Austin', 'parturient@idantedictum.co.uk', '1-237-577-7639']\n",
      "['Dexter', 'ante.lectus@interdumSedauctor.com', '1-924-289-1310']\n",
      "['Hiram', 'Aenean@fermentumconvallisligula.org', '1-372-683-8872']\n",
      "['Austin', 'et.ultrices@lacusQuisque.com', '1-640-499-3399']\n",
      "['Kaseem', 'nulla.In.tincidunt@Vestibulumuteros.net', '1-852-586-9376']\n",
      "['Nero', 'justo@enimMaurisquis.net', '1-891-939-5295']\n",
      "['Salvador', 'imperdiet.non@nonluctus.co.uk', '1-263-377-6148']\n",
      "['Thor', 'tempor.diam.dictum@enim.org', '1-531-539-3780']\n",
      "['Holmes', 'enim.diam.vel@inconsectetuer.co.uk', '1-423-339-4607']\n",
      "['Bruno', 'Suspendisse.non@sempercursusInteger.com', '1-688-396-4195']\n",
      "['Kieran', 'non@luctusutpellentesque.edu', '1-493-824-4554']\n",
      "['Marvin', 'id.ante.dictum@Maecenas.net', '1-212-654-8134']\n",
      "['Lawrence', 'tortor.dictum@ullamcorperDuis.co.uk', '1-441-644-2175']\n",
      "['Jakeem', 'sapien@risus.com', '1-956-373-4816']\n",
      "['Allistair', 'nisi.nibh.lacinia@portaelita.co.uk', '1-905-857-7428']\n",
      "['Denton', 'pretium@maurisMorbinon.co.uk', '1-931-801-1193']\n",
      "['Maxwell', 'eleifend.nec.malesuada@dolor.com', '1-965-984-8734']\n",
      "['Colorado', 'magna.Cras@ultricesposuere.org', '1-425-929-2796']\n",
      "['Brenden', 'eleifend.Cras@dolor.net', '1-273-501-2238']\n",
      "['Dean', 'Integer@milacinia.org', '1-271-248-9519']\n",
      "['Felix', 'Praesent@Sed.com', '1-361-722-2074']\n",
      "['Nash', 'rutrum@hendreritneque.net', '1-376-380-3334']\n",
      "['Cade', 'tortor.nibh@ultricesmauris.net', '1-522-527-3890']\n",
      "['Alfonso', 'tincidunt.dui@Donecest.org', '1-785-622-5708']\n",
      "['Isaiah', 'primis.in@sodales.org', '1-976-619-7604']\n",
      "['Norman', 'Sed@Suspendissenonleo.co.uk', '1-874-466-8886']\n",
      "['Callum', 'et.netus.et@risusNunc.net', '1-143-346-0714']\n",
      "['Sawyer', 'Nulla@idmagnaet.ca', '1-750-237-4864']\n",
      "['Drew', 'a@leo.ca', '1-463-279-4847']\n",
      "['Abbot', 'felis.Nulla@nascetur.org', '1-466-357-4976']\n",
      "['Herman', 'scelerisque@etmagnis.co.uk', '1-463-879-5682']\n",
      "['Ronan', 'ac.arcu.Nunc@at.com', '1-630-985-3337']\n",
      "['Burton', 'varius.Nam@Proin.net', '1-963-156-5711']\n",
      "['Beau', 'Etiam@ultricesmaurisipsum.edu', '1-246-282-1223']\n",
      "['Lucas', 'sem@Nullasemper.net', '1-121-835-5475']\n",
      "['Hiram', 'vulputate.lacus@aaliquetvel.com', '1-953-470-2132']\n",
      "['Curran', 'Suspendisse.sagittis.Nullam@eros.co.uk', '1-369-260-3390']\n",
      "['Boris', 'Duis@temporerat.net', '1-144-448-5204']\n",
      "['Todd', 'ac@euturpisNulla.ca', '1-170-807-2903']\n",
      "['Lars', 'ac.mattis@maurisidsapien.co.uk', '1-837-271-1117']\n",
      "['Quinlan', 'neque.Morbi.quis@netuset.org', '1-957-235-4304']\n",
      "['Colin', 'lacinia.orci.consectetuer@lectussit.com', '1-952-659-7246']\n",
      "['Kuame', 'ultrices.Vivamus.rhoncus@libero.org', '1-470-295-4397']\n",
      "['Hakeem', 'eu@et.ca', '1-716-387-3909']\n",
      "['Giacomo', 'volutpat.nunc@sitamet.edu', '1-119-695-5287']\n",
      "['Alden', 'Aenean.gravida@metus.net', '1-806-494-5517']\n",
      "['Oleg', 'ultrices.sit@laoreet.org', '1-997-248-1925']\n",
      "['Thaddeus', 'diam@Proinmi.org', '1-896-437-5539']\n",
      "['Cameron', 'ridiculus@feugiatmetus.com', '1-119-417-7008']\n",
      "['Keefe', 'malesuada.augue.ut@Phasellus.co.uk', '1-787-667-0420']\n",
      "['Lucius', 'nec@ornareFuscemollis.net', '1-258-852-9387']\n",
      "['Cedric', 'Aenean.massa@neque.edu', '1-126-346-2796']\n",
      "['Fitzgerald', 'neque.vitae@ultrices.com', '1-678-359-4514']\n",
      "['Joshua', 'ante.Vivamus.non@nonegestasa.co.uk', '1-417-664-4907']\n",
      "['Vernon', 'pharetra.ut.pharetra@metusfacilisislorem.ca', '1-721-200-2111']\n",
      "['Graham', 'fringilla@sitametfaucibus.net', '1-967-741-6964']\n",
      "['Francis', 'Donec.sollicitudin.adipiscing@parturientmontes.ca', '1-520-277-7029']\n",
      "['Barrett', 'sed.dui@est.ca', '1-247-335-7686']\n",
      "['Damian', 'eu.enim.Etiam@Nuncmauris.net', '1-929-327-8511']\n",
      "['Benedict', 'ut@accumsaninterdumlibero.co.uk', '1-452-422-0296']\n",
      "['Isaiah', 'pretium.et@Crasvulputatevelit.com', '1-947-297-3948']\n",
      "['Kuame', 'inceptos@convallisconvallis.co.uk', '1-673-377-4042']\n",
      "['Hayes', 'et@porttitoreros.edu', '1-312-869-6755']\n",
      "['Colton', 'Donec@magna.net', '1-545-740-4182']\n",
      "['Cullen', 'varius.orci@turpisvitaepurus.com', '1-228-612-5057']\n",
      "['Walter', 'libero.Proin@Phasellusfermentum.net', '1-523-643-1888']\n",
      "['Zachary', 'ante@tristiquesenectus.ca', '1-538-180-5898']\n",
      "['Marsden', 'fermentum.metus@morbitristiquesenectus.net', '1-749-164-8519']\n",
      "['Herman', 'Maecenas@orci.com', '1-712-638-0163']\n",
      "['Eagan', 'dui@felis.org', '1-947-935-3045']\n",
      "['Chester', 'arcu.eu.odio@facilisis.co.uk', '1-163-338-6125']\n",
      "['Chaney', 'mi.Aliquam.gravida@nuncrisusvarius.com', '1-687-177-1274']\n",
      "['Zane', 'arcu.ac.orci@sitametrisus.org', '1-719-614-6336']\n",
      "['Palmer', 'facilisi.Sed@imperdiet.com', '1-253-880-5089']\n",
      "['Maxwell', 'sem.vitae@fermentumfermentum.net', '1-199-474-2166']\n",
      "['Ian', 'adipiscing@vitaeodio.org', '1-807-170-4602']\n",
      "['Charles', 'ridiculus.mus.Donec@dolorFusce.org', '1-184-980-4056']\n",
      "['Armando', 'vitae.diam@adipiscing.edu', '1-830-408-9400']\n",
      "['Byron', 'tincidunt.Donec.vitae@lectus.com', '1-660-383-9472']\n",
      "['Kibo', 'interdum.libero@rhoncusNullamvelit.ca', '1-937-679-5459']\n",
      "['Kirk', 'nec.metus@orci.co.uk', '1-304-626-5417']\n",
      "['Murphy', 'sem.semper.erat@nislarcu.co.uk', '1-787-468-0931']\n",
      "['Brody', 'euismod@etipsumcursus.org', '1-689-941-8605']\n",
      "['Noah', 'lacus.vestibulum@Sed.com', '1-520-467-5138']\n",
      "['Chaney', 'accumsan@ac.net', '1-130-549-5961']\n",
      "['Zephania', 'nascetur@estvitae.com', '1-678-921-6304']\n",
      "['Abdul', 'mollis.non@enim.co.uk', '1-548-830-0160']\n",
      "['Neil', 'non@etmagna.net', '1-541-447-6656']\n",
      "['Lucas', 'et.lacinia@lobortisClass.com', '1-682-668-7110']\n",
      "['Brendan', 'magnis@consectetueradipiscing.ca', '1-736-547-6676']\n",
      "[]\n",
      "['Kennedy', 'Integer@erateget.co.uk', '1-437-147-6843']\n",
      "['Graham', 'magnis.dis@montesnascetur.ca', '1-200-770-0178']\n",
      "['Aristotle', 'amet@velquam.ca', '1-807-310-0245']\n"
     ]
    }
   ],
   "source": [
    "# for tr in data.find_all('tr'):\n",
    "#     for td in tr.find_all('td'):\n",
    "#         print(td.text)\n",
    "# Add each to a list:\n",
    "for tr in soup.find_all('tr'):\n",
    "    values =  [td.text for td in tr.find_all('td')]\n",
    "    print(values)"
   ]
  },
  {
   "cell_type": "code",
   "execution_count": 89,
   "metadata": {},
   "outputs": [],
   "source": [
    "data = []\n",
    "for tr in soup.find_all('tr'):\n",
    "    values =  [td.text for td in tr.find_all('td')]\n",
    "    data.append(values)"
   ]
  },
  {
   "cell_type": "code",
   "execution_count": 91,
   "metadata": {},
   "outputs": [
    {
     "name": "stdout",
     "output_type": "stream",
     "text": [
      "[[], ['Kennedy', 'Integer@erateget.co.uk', '1-437-147-6843'], ['Graham', 'magnis.dis@montesnascetur.ca', '1-200-770-0178'], ['Aristotle', 'amet@velquam.ca', '1-807-310-0245'], ['Cullen', 'Quisque.purus.sapien@Nuncsollicitudincommodo.org', '1-518-961-3821'], ['Samson', 'turpis.egestas@consequat.org', '1-900-662-7207'], ['Talon', 'faucibus.orci@erat.org', '1-413-755-3413'], ['Tad', 'malesuada.ut.sem@a.org', '1-780-416-2930'], ['Chadwick', 'velit.Pellentesque@nibh.net', '1-307-148-6690'], ['Orson', 'elit.Curabitur.sed@Nullaaliquet.ca', '1-867-296-6130'], ['Orson', 'nunc@lacusQuisque.com', '1-395-373-3605'], ['Austin', 'parturient@idantedictum.co.uk', '1-237-577-7639'], ['Dexter', 'ante.lectus@interdumSedauctor.com', '1-924-289-1310'], ['Hiram', 'Aenean@fermentumconvallisligula.org', '1-372-683-8872'], ['Austin', 'et.ultrices@lacusQuisque.com', '1-640-499-3399'], ['Kaseem', 'nulla.In.tincidunt@Vestibulumuteros.net', '1-852-586-9376'], ['Nero', 'justo@enimMaurisquis.net', '1-891-939-5295'], ['Salvador', 'imperdiet.non@nonluctus.co.uk', '1-263-377-6148'], ['Thor', 'tempor.diam.dictum@enim.org', '1-531-539-3780'], ['Holmes', 'enim.diam.vel@inconsectetuer.co.uk', '1-423-339-4607'], ['Bruno', 'Suspendisse.non@sempercursusInteger.com', '1-688-396-4195'], ['Kieran', 'non@luctusutpellentesque.edu', '1-493-824-4554'], ['Marvin', 'id.ante.dictum@Maecenas.net', '1-212-654-8134'], ['Lawrence', 'tortor.dictum@ullamcorperDuis.co.uk', '1-441-644-2175'], ['Jakeem', 'sapien@risus.com', '1-956-373-4816'], ['Allistair', 'nisi.nibh.lacinia@portaelita.co.uk', '1-905-857-7428'], ['Denton', 'pretium@maurisMorbinon.co.uk', '1-931-801-1193'], ['Maxwell', 'eleifend.nec.malesuada@dolor.com', '1-965-984-8734'], ['Colorado', 'magna.Cras@ultricesposuere.org', '1-425-929-2796'], ['Brenden', 'eleifend.Cras@dolor.net', '1-273-501-2238'], ['Dean', 'Integer@milacinia.org', '1-271-248-9519'], ['Felix', 'Praesent@Sed.com', '1-361-722-2074'], ['Nash', 'rutrum@hendreritneque.net', '1-376-380-3334'], ['Cade', 'tortor.nibh@ultricesmauris.net', '1-522-527-3890'], ['Alfonso', 'tincidunt.dui@Donecest.org', '1-785-622-5708'], ['Isaiah', 'primis.in@sodales.org', '1-976-619-7604'], ['Norman', 'Sed@Suspendissenonleo.co.uk', '1-874-466-8886'], ['Callum', 'et.netus.et@risusNunc.net', '1-143-346-0714'], ['Sawyer', 'Nulla@idmagnaet.ca', '1-750-237-4864'], ['Drew', 'a@leo.ca', '1-463-279-4847'], ['Abbot', 'felis.Nulla@nascetur.org', '1-466-357-4976'], ['Herman', 'scelerisque@etmagnis.co.uk', '1-463-879-5682'], ['Ronan', 'ac.arcu.Nunc@at.com', '1-630-985-3337'], ['Burton', 'varius.Nam@Proin.net', '1-963-156-5711'], ['Beau', 'Etiam@ultricesmaurisipsum.edu', '1-246-282-1223'], ['Lucas', 'sem@Nullasemper.net', '1-121-835-5475'], ['Hiram', 'vulputate.lacus@aaliquetvel.com', '1-953-470-2132'], ['Curran', 'Suspendisse.sagittis.Nullam@eros.co.uk', '1-369-260-3390'], ['Boris', 'Duis@temporerat.net', '1-144-448-5204'], ['Todd', 'ac@euturpisNulla.ca', '1-170-807-2903'], ['Lars', 'ac.mattis@maurisidsapien.co.uk', '1-837-271-1117'], ['Quinlan', 'neque.Morbi.quis@netuset.org', '1-957-235-4304'], ['Colin', 'lacinia.orci.consectetuer@lectussit.com', '1-952-659-7246'], ['Kuame', 'ultrices.Vivamus.rhoncus@libero.org', '1-470-295-4397'], ['Hakeem', 'eu@et.ca', '1-716-387-3909'], ['Giacomo', 'volutpat.nunc@sitamet.edu', '1-119-695-5287'], ['Alden', 'Aenean.gravida@metus.net', '1-806-494-5517'], ['Oleg', 'ultrices.sit@laoreet.org', '1-997-248-1925'], ['Thaddeus', 'diam@Proinmi.org', '1-896-437-5539'], ['Cameron', 'ridiculus@feugiatmetus.com', '1-119-417-7008'], ['Keefe', 'malesuada.augue.ut@Phasellus.co.uk', '1-787-667-0420'], ['Lucius', 'nec@ornareFuscemollis.net', '1-258-852-9387'], ['Cedric', 'Aenean.massa@neque.edu', '1-126-346-2796'], ['Fitzgerald', 'neque.vitae@ultrices.com', '1-678-359-4514'], ['Joshua', 'ante.Vivamus.non@nonegestasa.co.uk', '1-417-664-4907'], ['Vernon', 'pharetra.ut.pharetra@metusfacilisislorem.ca', '1-721-200-2111'], ['Graham', 'fringilla@sitametfaucibus.net', '1-967-741-6964'], ['Francis', 'Donec.sollicitudin.adipiscing@parturientmontes.ca', '1-520-277-7029'], ['Barrett', 'sed.dui@est.ca', '1-247-335-7686'], ['Damian', 'eu.enim.Etiam@Nuncmauris.net', '1-929-327-8511'], ['Benedict', 'ut@accumsaninterdumlibero.co.uk', '1-452-422-0296'], ['Isaiah', 'pretium.et@Crasvulputatevelit.com', '1-947-297-3948'], ['Kuame', 'inceptos@convallisconvallis.co.uk', '1-673-377-4042'], ['Hayes', 'et@porttitoreros.edu', '1-312-869-6755'], ['Colton', 'Donec@magna.net', '1-545-740-4182'], ['Cullen', 'varius.orci@turpisvitaepurus.com', '1-228-612-5057'], ['Walter', 'libero.Proin@Phasellusfermentum.net', '1-523-643-1888'], ['Zachary', 'ante@tristiquesenectus.ca', '1-538-180-5898'], ['Marsden', 'fermentum.metus@morbitristiquesenectus.net', '1-749-164-8519'], ['Herman', 'Maecenas@orci.com', '1-712-638-0163'], ['Eagan', 'dui@felis.org', '1-947-935-3045'], ['Chester', 'arcu.eu.odio@facilisis.co.uk', '1-163-338-6125'], ['Chaney', 'mi.Aliquam.gravida@nuncrisusvarius.com', '1-687-177-1274'], ['Zane', 'arcu.ac.orci@sitametrisus.org', '1-719-614-6336'], ['Palmer', 'facilisi.Sed@imperdiet.com', '1-253-880-5089'], ['Maxwell', 'sem.vitae@fermentumfermentum.net', '1-199-474-2166'], ['Ian', 'adipiscing@vitaeodio.org', '1-807-170-4602'], ['Charles', 'ridiculus.mus.Donec@dolorFusce.org', '1-184-980-4056'], ['Armando', 'vitae.diam@adipiscing.edu', '1-830-408-9400'], ['Byron', 'tincidunt.Donec.vitae@lectus.com', '1-660-383-9472'], ['Kibo', 'interdum.libero@rhoncusNullamvelit.ca', '1-937-679-5459'], ['Kirk', 'nec.metus@orci.co.uk', '1-304-626-5417'], ['Murphy', 'sem.semper.erat@nislarcu.co.uk', '1-787-468-0931'], ['Brody', 'euismod@etipsumcursus.org', '1-689-941-8605'], ['Noah', 'lacus.vestibulum@Sed.com', '1-520-467-5138'], ['Chaney', 'accumsan@ac.net', '1-130-549-5961'], ['Zephania', 'nascetur@estvitae.com', '1-678-921-6304'], ['Abdul', 'mollis.non@enim.co.uk', '1-548-830-0160'], ['Neil', 'non@etmagna.net', '1-541-447-6656'], ['Lucas', 'et.lacinia@lobortisClass.com', '1-682-668-7110'], ['Brendan', 'magnis@consectetueradipiscing.ca', '1-736-547-6676'], [], ['Kennedy', 'Integer@erateget.co.uk', '1-437-147-6843'], ['Graham', 'magnis.dis@montesnascetur.ca', '1-200-770-0178'], ['Aristotle', 'amet@velquam.ca', '1-807-310-0245']]\n"
     ]
    }
   ],
   "source": [
    "print(data)"
   ]
  },
  {
   "cell_type": "markdown",
   "metadata": {},
   "source": [
    "Look for items from tr elements with a particular class:"
   ]
  },
  {
   "cell_type": "code",
   "execution_count": 92,
   "metadata": {},
   "outputs": [],
   "source": [
    "data = []\n",
    "for tr in soup.find_all('tr', {'class':'special'}):\n",
    "    values =  [td.text for td in tr.find_all('td')]\n",
    "    data.append(values)"
   ]
  },
  {
   "cell_type": "code",
   "execution_count": 93,
   "metadata": {},
   "outputs": [
    {
     "name": "stdout",
     "output_type": "stream",
     "text": [
      "[['Cullen', 'Quisque.purus.sapien@Nuncsollicitudincommodo.org', '1-518-961-3821'], ['Samson', 'turpis.egestas@consequat.org', '1-900-662-7207'], ['Talon', 'faucibus.orci@erat.org', '1-413-755-3413'], ['Dexter', 'ante.lectus@interdumSedauctor.com', '1-924-289-1310']]\n"
     ]
    }
   ],
   "source": [
    "print(data)"
   ]
  },
  {
   "cell_type": "markdown",
   "metadata": {},
   "source": [
    "Work with a table on the page (div class='special table'):"
   ]
  },
  {
   "cell_type": "code",
   "execution_count": 105,
   "metadata": {},
   "outputs": [
    {
     "name": "stdout",
     "output_type": "stream",
     "text": [
      "[[], ['Kennedy', 'Integer@erateget.co.uk', '1-437-147-6843'], ['Graham', 'magnis.dis@montesnascetur.ca', '1-200-770-0178'], ['Aristotle', 'amet@velquam.ca', '1-807-310-0245']]\n"
     ]
    }
   ],
   "source": [
    "data = []\n",
    "# just want to find one element, use .find\n",
    "div = soup.find('div', {'class': 'special_table'})\n",
    "for tr in div.find_all('tr'):\n",
    "    values =  [td.text for td in tr.find_all('td')]\n",
    "    data.append(values)\n",
    "    \n",
    "print(data)"
   ]
  },
  {
   "cell_type": "markdown",
   "metadata": {},
   "source": [
    "Try scraping leaderboards on UMG Gaming:  \n",
    "Extract: Place, Username, XP"
   ]
  },
  {
   "cell_type": "code",
   "execution_count": 106,
   "metadata": {},
   "outputs": [],
   "source": [
    "# get the data\n",
    "url = \"https://umggaming.com/leaderboards\"\n",
    "data = requests.get(url)\n",
    "\n",
    "# load data into bs4\n",
    "soup = BeautifulSoup(data.text, 'html.parser')"
   ]
  },
  {
   "cell_type": "code",
   "execution_count": 115,
   "metadata": {},
   "outputs": [],
   "source": [
    "leaderboard = soup.find('table', {'id': 'leaderboard-table'})\n",
    "# print(leaderboard)\n",
    "tbody = leaderboard.find('tbody')\n",
    "# print(tbody)"
   ]
  },
  {
   "cell_type": "code",
   "execution_count": 118,
   "metadata": {},
   "outputs": [],
   "source": [
    "# for tr in tbody.find_all('tr'):\n",
    "#     print(tr)\n",
    "#     print('-'*60)"
   ]
  },
  {
   "cell_type": "code",
   "execution_count": 119,
   "metadata": {},
   "outputs": [
    {
     "name": "stdout",
     "output_type": "stream",
     "text": [
      "1st\n",
      "2nd\n",
      "3rd\n",
      "4th\n",
      "5th\n",
      "6th\n",
      "7th\n",
      "8th\n",
      "9th\n",
      "10th\n",
      "11th\n",
      "12th\n",
      "13th\n",
      "14th\n",
      "15th\n",
      "16th\n",
      "17th\n",
      "18th\n",
      "19th\n",
      "20th\n",
      "21st\n",
      "22nd\n",
      "23rd\n",
      "24th\n",
      "25th\n"
     ]
    }
   ],
   "source": [
    "for tr in tbody.find_all('tr'):\n",
    "    place = tr.find_all('td')[0].text.strip()\n",
    "    print(place)"
   ]
  },
  {
   "cell_type": "markdown",
   "metadata": {},
   "source": [
    "Get username, which is in the second 'td' and is the text inside that:"
   ]
  },
  {
   "cell_type": "code",
   "execution_count": 120,
   "metadata": {},
   "outputs": [
    {
     "name": "stdout",
     "output_type": "stream",
     "text": [
      "1st Hidro\n",
      "2nd Baker\n",
      "3rd Gunservative\n",
      "4th Mikey\n",
      "5th Tanntrix\n",
      "6th ReconsPOV\n",
      "7th x2Pac ThuGLorD\n",
      "8th Rules\n",
      "9th Rallied\n",
      "10th Olly\n",
      "11th TKhan\n",
      "12th MuTeX\n",
      "13th TMTwerk\n",
      "14th Innocent\n",
      "15th ihavok\n",
      "16th stridox\n",
      "17th iLLeY\n",
      "18th exoficial\n",
      "19th TeddyRecKs\n",
      "20th C\n",
      "21st UsernameChange12911\n",
      "22nd Monstrous\n",
      "23rd xAmpz\n",
      "24th Trichoblast\n",
      "25th Saggio\n"
     ]
    }
   ],
   "source": [
    "for tr in tbody.find_all('tr'):\n",
    "    place = tr.find_all('td')[0].text.strip()\n",
    "    username = tr.find_all('td')[1].find_all('a')[1].text.strip()\n",
    "    print(place, username)"
   ]
  },
  {
   "cell_type": "code",
   "execution_count": 121,
   "metadata": {},
   "outputs": [
    {
     "name": "stdout",
     "output_type": "stream",
     "text": [
      "1st Hidro 81553\n",
      "2nd Baker 78608\n",
      "3rd Gunservative 75717\n",
      "4th Mikey 51208\n",
      "5th Tanntrix 49071\n",
      "6th ReconsPOV 44956\n",
      "7th x2Pac ThuGLorD 44041\n",
      "8th Rules 41415\n",
      "9th Rallied 40188\n",
      "10th Olly 39312\n",
      "11th TKhan 38772\n",
      "12th MuTeX 35607\n",
      "13th TMTwerk 35025\n",
      "14th Innocent 34897\n",
      "15th ihavok 34881\n",
      "16th stridox 34851\n",
      "17th iLLeY 34541\n",
      "18th exoficial 34057\n",
      "19th TeddyRecKs 33254\n",
      "20th C 33096\n",
      "21st UsernameChange12911 32795\n",
      "22nd Monstrous 32637\n",
      "23rd xAmpz 32428\n",
      "24th Trichoblast 32165\n",
      "25th Saggio 31984\n"
     ]
    }
   ],
   "source": [
    "for tr in tbody.find_all('tr'):\n",
    "    place = tr.find_all('td')[0].text.strip()\n",
    "    username = tr.find_all('td')[1].find_all('a')[1].text.strip()\n",
    "    # XP is in 5th 'td'\n",
    "    xp = tr.find_all('td')[4].text.strip()\n",
    "    print(place, username, xp)"
   ]
  },
  {
   "cell_type": "markdown",
   "metadata": {},
   "source": [
    "To sum it up:"
   ]
  },
  {
   "cell_type": "code",
   "execution_count": 122,
   "metadata": {},
   "outputs": [
    {
     "name": "stdout",
     "output_type": "stream",
     "text": [
      "1st Hidro 81553\n",
      "2nd Baker 78608\n",
      "3rd Gunservative 75717\n",
      "4th Mikey 51208\n",
      "5th Tanntrix 49071\n",
      "6th ReconsPOV 44956\n",
      "7th x2Pac ThuGLorD 44041\n",
      "8th Rules 41415\n",
      "9th Rallied 40188\n",
      "10th Olly 39312\n",
      "11th TKhan 38772\n",
      "12th MuTeX 35607\n",
      "13th TMTwerk 35025\n",
      "14th Innocent 34897\n",
      "15th ihavok 34881\n",
      "16th stridox 34851\n",
      "17th iLLeY 34541\n",
      "18th exoficial 34057\n",
      "19th TeddyRecKs 33254\n",
      "20th C 33096\n",
      "21st UsernameChange12911 32795\n",
      "22nd Monstrous 32637\n",
      "23rd xAmpz 32428\n",
      "24th Trichoblast 32165\n",
      "25th Saggio 31984\n"
     ]
    }
   ],
   "source": [
    "# get the data\n",
    "url = \"https://umggaming.com/leaderboards\"\n",
    "data = requests.get(url)\n",
    "\n",
    "# load data into bs4\n",
    "soup = BeautifulSoup(data.text, 'html.parser')\n",
    "\n",
    "leaderboard = soup.find('table', {'id': 'leaderboard-table'})\n",
    "tbody = leaderboard.find('tbody')\n",
    "\n",
    "for tr in tbody.find_all('tr'):\n",
    "    place = tr.find_all('td')[0].text.strip()\n",
    "    username = tr.find_all('td')[1].find_all('a')[1].text.strip()\n",
    "    xp = tr.find_all('td')[4].text.strip()\n",
    "    print(place, username, xp)"
   ]
  },
  {
   "cell_type": "code",
   "execution_count": null,
   "metadata": {},
   "outputs": [],
   "source": []
  }
 ],
 "metadata": {
  "kernelspec": {
   "display_name": "Python 3",
   "language": "python",
   "name": "python3"
  },
  "language_info": {
   "codemirror_mode": {
    "name": "ipython",
    "version": 3
   },
   "file_extension": ".py",
   "mimetype": "text/x-python",
   "name": "python",
   "nbconvert_exporter": "python",
   "pygments_lexer": "ipython3",
   "version": "3.8.5"
  }
 },
 "nbformat": 4,
 "nbformat_minor": 4
}
