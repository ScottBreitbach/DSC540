{
 "cells": [
  {
   "cell_type": "code",
   "execution_count": null,
   "metadata": {},
   "outputs": [],
   "source": []
  },
  {
   "cell_type": "markdown",
   "metadata": {},
   "source": [
    "# 2. Activity 10: Building Your Own Movie Database by Reading an API"
   ]
  },
  {
   "cell_type": "markdown",
   "metadata": {},
   "source": [
    "## 1) Import **urllib.request**, **urllib.parse**, **urllib.error**, and **json**."
   ]
  },
  {
   "cell_type": "code",
   "execution_count": 1,
   "metadata": {},
   "outputs": [],
   "source": [
    "import urllib.request, urllib.parse, urllib.error\n",
    "import json\n",
    "import os\n",
    "# from urllib.error import HTTPError, URLError"
   ]
  },
  {
   "cell_type": "markdown",
   "metadata": {},
   "source": [
    "## 2) Load the secret API key from a JSON file stored in the same folder in a variable, by using `json.load()`."
   ]
  },
  {
   "cell_type": "markdown",
   "metadata": {},
   "source": [
    "## 3) *(2a)* Obtain a key and store it in JSON as **APIkeys.json**.\n",
    "Done!"
   ]
  },
  {
   "cell_type": "markdown",
   "metadata": {},
   "source": [
    "## 4) *(2b)* Open the **APIkeys.json** file."
   ]
  },
  {
   "cell_type": "code",
   "execution_count": 2,
   "metadata": {},
   "outputs": [],
   "source": [
    "with open('APIkey.json') as f:\n",
    "    key = json.load(f)['OMDBapi']    "
   ]
  },
  {
   "cell_type": "markdown",
   "metadata": {},
   "source": [
    "# 5) Assign the OMDB portal as a string to a variable.\n",
    "(http://www.omdbapi.com/?)"
   ]
  },
  {
   "cell_type": "code",
   "execution_count": 3,
   "metadata": {},
   "outputs": [],
   "source": [
    "omdbPortal = \"http://www.omdbapi.com/?\""
   ]
  },
  {
   "cell_type": "markdown",
   "metadata": {},
   "source": [
    "## 6) Create a variable called **apikey** with the last portion of the URL (**&apikey=secretapikey**), where **secretapikey** is your own API key.\n",
    "The movie name portion i.e. \"t=movie_name\" will be addressed later"
   ]
  },
  {
   "cell_type": "code",
   "execution_count": 4,
   "metadata": {},
   "outputs": [],
   "source": [
    "apiKey = \"&apikey=\"+key"
   ]
  },
  {
   "cell_type": "markdown",
   "metadata": {},
   "source": [
    "## 7) Write a utility function called **print_json** to print the movie data from a JSON file (which we will get from the portal)."
   ]
  },
  {
   "cell_type": "code",
   "execution_count": 32,
   "metadata": {},
   "outputs": [],
   "source": [
    "def print_json(movieData):\n",
    "    \"\"\"\n",
    "    Function to print movie data from a JSON file.\n",
    "    \"\"\"\n",
    "    data = json.loads(movieData)\n",
    "    for k, v, in data.items():\n",
    "        print(\"{}:\\n   {}\".format(k, v))"
   ]
  },
  {
   "cell_type": "code",
   "execution_count": 8,
   "metadata": {},
   "outputs": [],
   "source": [
    "def fetchMovieData(movieTitle):\n",
    "    \"\"\"\n",
    "    Function to retrieve JSON data for a specified \n",
    "    movie from the \"http://www.omdbapi.com/?\" API.\n",
    "    \"\"\"\n",
    "    urlTitle = urllib.parse.urlencode({'t': str(movieTitle)})\n",
    "    url = omdbPortal + urlTitle + apiKey\n",
    "    \n",
    "    try:\n",
    "        uh = urllib.request.urlopen(url)\n",
    "    except HTTPError as e:\n",
    "        print(\"So sorry, but we could not retreive anything on {}\"\n",
    "              .format(movieTitle))\n",
    "        return None\n",
    "    except URLError as e:\n",
    "        print('Failed to reach a server. You know how it is.')\n",
    "        print(\"Reason: {}\".format(e.reason))\n",
    "        return None\n",
    "    else:\n",
    "        data = uh.read().decode()\n",
    "        print(\"Retrieved data on {}. Total {} characters read.\"\n",
    "             .format(movieTitle, len(data)))\n",
    "        return data"
   ]
  },
  {
   "cell_type": "code",
   "execution_count": 38,
   "metadata": {},
   "outputs": [
    {
     "name": "stdin",
     "output_type": "stream",
     "text": [
      "Enter the name of a movie:  Monty Python and the Holy Grail\n"
     ]
    },
    {
     "name": "stdout",
     "output_type": "stream",
     "text": [
      "Retrieved data on Monty Python and the Holy Grail. Total 1153 characters read.\n"
     ]
    }
   ],
   "source": [
    "# movieTitle = \"Titanic\"\n",
    "movieTitle = str(input(\"Enter the name of a movie: \"))\n",
    "movieData = fetchMovieData(movieTitle)"
   ]
  },
  {
   "cell_type": "code",
   "execution_count": 39,
   "metadata": {},
   "outputs": [
    {
     "name": "stdout",
     "output_type": "stream",
     "text": [
      "Title:\n",
      "   Monty Python and the Holy Grail\n",
      "Year:\n",
      "   1975\n",
      "Rated:\n",
      "   PG\n",
      "Released:\n",
      "   25 May 1975\n",
      "Runtime:\n",
      "   91 min\n",
      "Genre:\n",
      "   Adventure, Comedy, Fantasy\n",
      "Director:\n",
      "   Terry Gilliam, Terry Jones\n",
      "Writer:\n",
      "   Graham Chapman, John Cleese, Eric Idle, Terry Gilliam, Terry Jones, Michael Palin\n",
      "Actors:\n",
      "   Graham Chapman, John Cleese, Eric Idle, Terry Gilliam\n",
      "Plot:\n",
      "   King Arthur and his Knights of the Round Table embark on a surreal, low-budget search for the Holy Grail, encountering many, very silly obstacles.\n",
      "Language:\n",
      "   English, French, Latin\n",
      "Country:\n",
      "   UK\n",
      "Awards:\n",
      "   3 wins & 3 nominations.\n",
      "Poster:\n",
      "   https://m.media-amazon.com/images/M/MV5BN2IyNTE4YzUtZWU0Mi00MGIwLTgyMmQtMzQ4YzQxYWNlYWE2XkEyXkFqcGdeQXVyNjU0OTQ0OTY@._V1_SX300.jpg\n",
      "Ratings:\n",
      "   [{'Source': 'Internet Movie Database', 'Value': '8.2/10'}, {'Source': 'Rotten Tomatoes', 'Value': '97%'}, {'Source': 'Metacritic', 'Value': '91/100'}]\n",
      "Metascore:\n",
      "   91\n",
      "imdbRating:\n",
      "   8.2\n",
      "imdbVotes:\n",
      "   499,917\n",
      "imdbID:\n",
      "   tt0071853\n",
      "Type:\n",
      "   movie\n",
      "DVD:\n",
      "   N/A\n",
      "BoxOffice:\n",
      "   $1,827,696\n",
      "Production:\n",
      "   Michael White Productions, Python (Monty) Pictures Limited, National Film Trustee Company\n",
      "Website:\n",
      "   N/A\n",
      "Response:\n",
      "   True\n"
     ]
    }
   ],
   "source": [
    "print_json(movieData)"
   ]
  },
  {
   "cell_type": "code",
   "execution_count": 21,
   "metadata": {},
   "outputs": [],
   "source": [
    "# movieData = fetchMovieData(movieTitle)"
   ]
  },
  {
   "cell_type": "code",
   "execution_count": 22,
   "metadata": {},
   "outputs": [],
   "source": [
    "# type(data)"
   ]
  },
  {
   "cell_type": "code",
   "execution_count": 23,
   "metadata": {},
   "outputs": [],
   "source": [
    "# dataJSON = json.loads(data)"
   ]
  },
  {
   "cell_type": "code",
   "execution_count": 24,
   "metadata": {},
   "outputs": [],
   "source": [
    "# type(dataJSON)"
   ]
  },
  {
   "cell_type": "code",
   "execution_count": 25,
   "metadata": {},
   "outputs": [],
   "source": [
    "# print_json(data)"
   ]
  },
  {
   "cell_type": "markdown",
   "metadata": {},
   "source": [
    "## 8) Write a utility function to download a poster of the movie based on the information from the JSON dataset and save it in your local folder.\n",
    "Use the **os** module. The poster data is stored in the JSON key **Poster**. Use the Python command to open a file and write the poster data. Close the file after you're done. This functon will save the poster data as an image file."
   ]
  },
  {
   "cell_type": "markdown",
   "metadata": {},
   "source": [
    "Convert to JSON:"
   ]
  },
  {
   "cell_type": "code",
   "execution_count": 46,
   "metadata": {},
   "outputs": [],
   "source": [
    "movieJSON = json.loads(movieData)"
   ]
  },
  {
   "cell_type": "code",
   "execution_count": 52,
   "metadata": {},
   "outputs": [
    {
     "data": {
      "text/plain": [
       "'Monty Python and the Holy Grail'"
      ]
     },
     "execution_count": 52,
     "metadata": {},
     "output_type": "execute_result"
    }
   ],
   "source": [
    "movie = movieJSON['Title']\n",
    "movie"
   ]
  },
  {
   "cell_type": "markdown",
   "metadata": {},
   "source": [
    "Retrieve Poster URL:"
   ]
  },
  {
   "cell_type": "code",
   "execution_count": 53,
   "metadata": {},
   "outputs": [
    {
     "data": {
      "text/plain": [
       "'https://m.media-amazon.com/images/M/MV5BN2IyNTE4YzUtZWU0Mi00MGIwLTgyMmQtMzQ4YzQxYWNlYWE2XkEyXkFqcGdeQXVyNjU0OTQ0OTY@._V1_SX300.jpg'"
      ]
     },
     "execution_count": 53,
     "metadata": {},
     "output_type": "execute_result"
    }
   ],
   "source": [
    "poster = movieJSON['Poster']\n",
    "poster"
   ]
  },
  {
   "cell_type": "markdown",
   "metadata": {},
   "source": [
    "Retrieve file extension:"
   ]
  },
  {
   "cell_type": "code",
   "execution_count": 54,
   "metadata": {},
   "outputs": [
    {
     "data": {
      "text/plain": [
       "'jpg'"
      ]
     },
     "execution_count": 54,
     "metadata": {},
     "output_type": "execute_result"
    }
   ],
   "source": [
    "extension = movieJSON['Poster'].split('.')[-1]\n",
    "extension"
   ]
  },
  {
   "cell_type": "markdown",
   "metadata": {},
   "source": [
    "Read image file:"
   ]
  },
  {
   "cell_type": "code",
   "execution_count": 51,
   "metadata": {},
   "outputs": [],
   "source": [
    "imgData = urllib.request.urlopen(poster).read()"
   ]
  },
  {
   "cell_type": "markdown",
   "metadata": {},
   "source": [
    "Generate file name:"
   ]
  },
  {
   "cell_type": "code",
   "execution_count": 56,
   "metadata": {},
   "outputs": [
    {
     "data": {
      "text/plain": [
       "'Monty Python and the Holy Grail.jpg'"
      ]
     },
     "execution_count": 56,
     "metadata": {},
     "output_type": "execute_result"
    }
   ],
   "source": [
    "fileName = \"{}.{}\".format(str(movie), extension)\n",
    "fileName"
   ]
  },
  {
   "cell_type": "markdown",
   "metadata": {},
   "source": [
    "Save the file:"
   ]
  },
  {
   "cell_type": "code",
   "execution_count": 57,
   "metadata": {},
   "outputs": [],
   "source": [
    "with open(fileName, 'wb') as f:\n",
    "    f.write(imgData)"
   ]
  },
  {
   "cell_type": "code",
   "execution_count": null,
   "metadata": {},
   "outputs": [],
   "source": []
  },
  {
   "cell_type": "code",
   "execution_count": 71,
   "metadata": {},
   "outputs": [],
   "source": [
    "def posterTime(movieData):\n",
    "    movieJSON = json.loads(movieData)\n",
    "    \n",
    "    # Grab movie Title and Poster data:\n",
    "    movie = movieJSON['Title']\n",
    "    poster = movieJSON['Poster']\n",
    "    imgData = urllib.request.urlopen(poster).read()\n",
    "    \n",
    "    # Generate file info and save image:\n",
    "    extension = movieJSON['Poster'].split('.')[-1]\n",
    "    fileName = \"{}.{}\".format(str(movie), extension)\n",
    "    try:\n",
    "        with open(fileName, 'wb') as f:\n",
    "            f.write(imgData)\n",
    "        print('The following {} image was saved as:\\n\\t\"{}\":'\n",
    "              .format(extension.upper(), fileName))\n",
    "    except:\n",
    "        print(\"Something went wrong. Image could not be saved.\")"
   ]
  },
  {
   "cell_type": "code",
   "execution_count": 73,
   "metadata": {},
   "outputs": [
    {
     "name": "stdout",
     "output_type": "stream",
     "text": [
      "The following JPG image was saved as:\n",
      "\t\"Monty Python and the Holy Grail.jpg\":\n",
      "<IPython.core.display.Image object>\n"
     ]
    },
    {
     "data": {
      "image/jpeg": "[encoded data removed]",
      "text/plain": [
       "<IPython.core.display.Image object>"
      ]
     },
     "execution_count": 73,
     "metadata": {},
     "output_type": "execute_result"
    }
   ],
   "source": [
    "posterTime(movieData)\n",
    "Image(fileName)"
   ]
  },
  {
   "cell_type": "code",
   "execution_count": 67,
   "metadata": {},
   "outputs": [
    {
     "data": {
      "image/jpeg": "[encoded data removed]",
      "text/plain": [
       "<IPython.core.display.Image object>"
      ]
     },
     "execution_count": 67,
     "metadata": {},
     "output_type": "execute_result"
    }
   ],
   "source": [
    "from IPython.display import Image\n",
    "Image(filename=fileName) "
   ]
  },
  {
   "cell_type": "code",
   "execution_count": null,
   "metadata": {},
   "outputs": [],
   "source": []
  },
  {
   "cell_type": "code",
   "execution_count": 45,
   "metadata": {},
   "outputs": [
    {
     "data": {
      "text/plain": [
       "'https://m.media-amazon.com/images/M/MV5BMDdmZGU3NDQtY2E5My00ZTliLWIzOTUtMTY4ZGI1YjdiNjk3XkEyXkFqcGdeQXVyNTA4NzY1MzY@._V1_SX300.jpg'"
      ]
     },
     "execution_count": 45,
     "metadata": {},
     "output_type": "execute_result"
    }
   ],
   "source": [
    "movieJSON['Poster']"
   ]
  },
  {
   "cell_type": "code",
   "execution_count": 12,
   "metadata": {},
   "outputs": [],
   "source": [
    "title = 'Titanic'\n",
    "url = omdbPortal + urllib.parse.urlencode({'t': str(title)}) + apiKey\n",
    "uh = urllib.request.urlopen(url)\n",
    "movieData = uh.read()\n",
    "movieJSON = json.loads(movieData)"
   ]
  },
  {
   "cell_type": "code",
   "execution_count": 13,
   "metadata": {},
   "outputs": [
    {
     "data": {
      "text/plain": [
       "bytes"
      ]
     },
     "execution_count": 13,
     "metadata": {},
     "output_type": "execute_result"
    }
   ],
   "source": [
    "type(movieData)"
   ]
  },
  {
   "cell_type": "code",
   "execution_count": 17,
   "metadata": {},
   "outputs": [
    {
     "data": {
      "text/plain": [
       "dict"
      ]
     },
     "execution_count": 17,
     "metadata": {},
     "output_type": "execute_result"
    }
   ],
   "source": [
    "type(movieJSON)"
   ]
  },
  {
   "cell_type": "code",
   "execution_count": 51,
   "metadata": {},
   "outputs": [
    {
     "data": {
      "text/plain": [
       "{'Title': 'Titanic',\n",
       " 'Year': '1997',\n",
       " 'Rated': 'PG-13',\n",
       " 'Released': '19 Dec 1997',\n",
       " 'Runtime': '194 min',\n",
       " 'Genre': 'Drama, Romance',\n",
       " 'Director': 'James Cameron',\n",
       " 'Writer': 'James Cameron',\n",
       " 'Actors': 'Leonardo DiCaprio, Kate Winslet, Billy Zane, Kathy Bates',\n",
       " 'Plot': 'A seventeen-year-old aristocrat falls in love with a kind but poor artist aboard the luxurious, ill-fated R.M.S. Titanic.',\n",
       " 'Language': 'English, Swedish, Italian, French',\n",
       " 'Country': 'USA, Mexico',\n",
       " 'Awards': 'Won 11 Oscars. Another 112 wins & 83 nominations.',\n",
       " 'Poster': 'https://m.media-amazon.com/images/M/MV5BMDdmZGU3NDQtY2E5My00ZTliLWIzOTUtMTY4ZGI1YjdiNjk3XkEyXkFqcGdeQXVyNTA4NzY1MzY@._V1_SX300.jpg',\n",
       " 'Ratings': [{'Source': 'Internet Movie Database', 'Value': '7.8/10'},\n",
       "  {'Source': 'Rotten Tomatoes', 'Value': '89%'},\n",
       "  {'Source': 'Metacritic', 'Value': '75/100'}],\n",
       " 'Metascore': '75',\n",
       " 'imdbRating': '7.8',\n",
       " 'imdbVotes': '1,048,704',\n",
       " 'imdbID': 'tt0120338',\n",
       " 'Type': 'movie',\n",
       " 'DVD': 'N/A',\n",
       " 'BoxOffice': '$659,363,944',\n",
       " 'Production': '20th Century Fox, Lightstorm Entertainment, Paramount Pictures',\n",
       " 'Website': 'N/A',\n",
       " 'Response': 'True'}"
      ]
     },
     "execution_count": 51,
     "metadata": {},
     "output_type": "execute_result"
    }
   ],
   "source": [
    "movieJSON"
   ]
  },
  {
   "cell_type": "code",
   "execution_count": 52,
   "metadata": {},
   "outputs": [],
   "source": [
    "# print_json(movieData)"
   ]
  },
  {
   "cell_type": "code",
   "execution_count": null,
   "metadata": {},
   "outputs": [],
   "source": []
  }
 ],
 "metadata": {
  "kernelspec": {
   "display_name": "Python 3",
   "language": "python",
   "name": "python3"
  },
  "language_info": {
   "codemirror_mode": {
    "name": "ipython",
    "version": 3
   },
   "file_extension": ".py",
   "mimetype": "text/x-python",
   "name": "python",
   "nbconvert_exporter": "python",
   "pygments_lexer": "ipython3",
   "version": "3.8.5"
  }
 },
 "nbformat": 4,
 "nbformat_minor": 4
}
